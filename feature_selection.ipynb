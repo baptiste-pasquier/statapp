{
 "cells": [
  {
   "cell_type": "markdown",
   "metadata": {},
   "source": [
    "# Feature selection"
   ]
  },
  {
   "cell_type": "code",
   "execution_count": 1,
   "metadata": {},
   "outputs": [],
   "source": [
    "import os\n",
    "import time\n",
    "from math import log\n",
    "\n",
    "import matplotlib.pyplot as plt\n",
    "import numpy as np\n",
    "import pandas as pd\n",
    "from IPython.display import display\n",
    "from sklearn import metrics\n",
    "from sklearn.feature_extraction.text import CountVectorizer, TfidfVectorizer\n",
    "from sklearn.linear_model import Lasso, LassoCV\n",
    "from sklearn.linear_model import LogisticRegression\n",
    "from sklearn.model_selection import train_test_split\n",
    "from sklearn.preprocessing import StandardScaler\n",
    "from IPython.display import display\n",
    "\n",
    "t = time.time()"
   ]
  },
  {
   "cell_type": "code",
   "execution_count": 2,
   "metadata": {},
   "outputs": [
    {
     "output_type": "execute_result",
     "data": {
      "text/plain": [
       "(1610494, 48)"
      ]
     },
     "metadata": {},
     "execution_count": 2
    }
   ],
   "source": [
    "df = pd.read_csv('data/df_train_prepro.csv').sample(frac=1)\n",
    "df.shape"
   ]
  },
  {
   "cell_type": "code",
   "execution_count": 3,
   "metadata": {},
   "outputs": [],
   "source": [
    "X = df[['contextid',\n",
    "        'dayssincelastvisitdouble',\n",
    "        'campaignctrlast24h',\n",
    "        'nbdisplay_1hour',\n",
    "        'nbdayssincelastclick',\n",
    "        'display_size',\n",
    "        'ltf_nbpartnerdisplayssincelastclick',\n",
    "        'ltf_nbglobaldisplay_4w',\n",
    "        'ltf_nbpartnerclick_90d',\n",
    "        'ltf_nbpartnerdisplay_90d',\n",
    "        'ltf_nbpartnersales_90d',\n",
    "        'nbdisplayglobalapprox_1d_sum_xdevice',\n",
    "        'zonecostineuro']]\n",
    "y = df['is_display_clicked']"
   ]
  },
  {
   "cell_type": "code",
   "execution_count": 4,
   "metadata": {},
   "outputs": [],
   "source": [
    "scaler = StandardScaler()\n",
    "X_scaled = scaler.fit_transform(X)\n",
    "\n",
    "columns_scaled = X.select_dtypes(include=np.number).columns"
   ]
  },
  {
   "cell_type": "markdown",
   "metadata": {},
   "source": [
    "## Méthode LASSO"
   ]
  },
  {
   "cell_type": "markdown",
   "metadata": {},
   "source": [
    "On choisit `fit_intercept=False` et `normalize=False` car les données sont déjà centrées et réduites."
   ]
  },
  {
   "cell_type": "code",
   "execution_count": 5,
   "metadata": {},
   "outputs": [],
   "source": [
    "def run_LassoCV(alphas_range, X_scaled, y):\n",
    "    lcv = LassoCV(alphas=alphas_range, normalize=False, fit_intercept=False, random_state=0, n_jobs=-1).fit(X_scaled, y)\n",
    "\n",
    "    print(f\"Best alpha : {lcv.alpha_}\")\n",
    "\n",
    "    lasso = Lasso(fit_intercept=False, normalize=False, alpha=lcv.alpha_)\n",
    "    lasso.fit(X_scaled, y)\n",
    "    coeff_df = pd.DataFrame(np.transpose(lasso.coef_), columns_scaled, columns=['Coefficient'])\n",
    "\n",
    "    display(coeff_df.sort_values(by='Coefficient', ascending=False))\n",
    "\n",
    "    print(f\"\\nNombre de coeffs non nuls : {len(coeff_df[coeff_df.Coefficient != 0])}\")"
   ]
  },
  {
   "cell_type": "code",
   "execution_count": 6,
   "metadata": {},
   "outputs": [
    {
     "output_type": "stream",
     "name": "stdout",
     "text": [
      "[0.001      0.01109091 0.02118182 0.03127273 0.04136364]\n",
      "Best alpha : 0.001\n"
     ]
    },
    {
     "output_type": "display_data",
     "data": {
      "text/plain": "                                      Coefficient\nzonecostineuro                           0.043662\ndisplay_size                             0.023909\ncampaignctrlast24h                       0.023155\nltf_nbpartnerclick_90d                   0.002896\ndayssincelastvisitdouble                -0.000000\nltf_nbglobaldisplay_4w                  -0.000000\nltf_nbpartnerdisplay_90d                -0.000000\nltf_nbpartnersales_90d                  -0.000000\nltf_nbpartnerdisplayssincelastclick     -0.000031\nnbdisplayglobalapprox_1d_sum_xdevice    -0.002280\ncontextid                               -0.003043\nnbdayssincelastclick                    -0.003272\nnbdisplay_1hour                         -0.007687",
      "text/html": "<div>\n<style scoped>\n    .dataframe tbody tr th:only-of-type {\n        vertical-align: middle;\n    }\n\n    .dataframe tbody tr th {\n        vertical-align: top;\n    }\n\n    .dataframe thead th {\n        text-align: right;\n    }\n</style>\n<table border=\"1\" class=\"dataframe\">\n  <thead>\n    <tr style=\"text-align: right;\">\n      <th></th>\n      <th>Coefficient</th>\n    </tr>\n  </thead>\n  <tbody>\n    <tr>\n      <th>zonecostineuro</th>\n      <td>0.043662</td>\n    </tr>\n    <tr>\n      <th>display_size</th>\n      <td>0.023909</td>\n    </tr>\n    <tr>\n      <th>campaignctrlast24h</th>\n      <td>0.023155</td>\n    </tr>\n    <tr>\n      <th>ltf_nbpartnerclick_90d</th>\n      <td>0.002896</td>\n    </tr>\n    <tr>\n      <th>dayssincelastvisitdouble</th>\n      <td>-0.000000</td>\n    </tr>\n    <tr>\n      <th>ltf_nbglobaldisplay_4w</th>\n      <td>-0.000000</td>\n    </tr>\n    <tr>\n      <th>ltf_nbpartnerdisplay_90d</th>\n      <td>-0.000000</td>\n    </tr>\n    <tr>\n      <th>ltf_nbpartnersales_90d</th>\n      <td>-0.000000</td>\n    </tr>\n    <tr>\n      <th>ltf_nbpartnerdisplayssincelastclick</th>\n      <td>-0.000031</td>\n    </tr>\n    <tr>\n      <th>nbdisplayglobalapprox_1d_sum_xdevice</th>\n      <td>-0.002280</td>\n    </tr>\n    <tr>\n      <th>contextid</th>\n      <td>-0.003043</td>\n    </tr>\n    <tr>\n      <th>nbdayssincelastclick</th>\n      <td>-0.003272</td>\n    </tr>\n    <tr>\n      <th>nbdisplay_1hour</th>\n      <td>-0.007687</td>\n    </tr>\n  </tbody>\n</table>\n</div>"
     },
     "metadata": {}
    },
    {
     "output_type": "stream",
     "name": "stdout",
     "text": [
      "\nNombre de coeffs non nuls : 9\nWall time: 16.8 s\n"
     ]
    }
   ],
   "source": [
    "%%time\n",
    "alphas_range = np.linspace(0.001, 1, num=100)\n",
    "print(alphas_range[:5])\n",
    "run_LassoCV(alphas_range, X_scaled, y)"
   ]
  },
  {
   "source": [
    "## Variance feature selection"
   ],
   "cell_type": "markdown",
   "metadata": {}
  },
  {
   "cell_type": "code",
   "execution_count": 7,
   "metadata": {},
   "outputs": [],
   "source": [
    "from sklearn.feature_selection import VarianceThreshold"
   ]
  },
  {
   "cell_type": "code",
   "execution_count": 8,
   "metadata": {},
   "outputs": [],
   "source": [
    "def low_variance_feature_selection(X, threshold) :\n",
    "    sel = VarianceThreshold(threshold)\n",
    "    sel.fit(X)\n",
    "    print(sel.get_support(indices=True))\n",
    "\n",
    "    df = pd.DataFrame(sel.variances_, index=X.columns, columns=['Variance']).sort_values(by='Variance', ascending=False)\n",
    "\n",
    "    display(df)\n",
    "\n",
    "    return sel.transform(X)"
   ]
  },
  {
   "cell_type": "code",
   "execution_count": 9,
   "metadata": {},
   "outputs": [
    {
     "output_type": "stream",
     "name": "stdout",
     "text": [
      "[ 0  1  3  4  5  6  7  8  9 10 11 12]\n"
     ]
    },
    {
     "output_type": "display_data",
     "data": {
      "text/plain": "                                          Variance\ndisplay_size                          9.444482e+09\nltf_nbglobaldisplay_4w                2.607098e+04\nltf_nbpartnerdisplay_90d              1.061908e+04\nnbdisplayglobalapprox_1d_sum_xdevice  4.449996e+03\ndayssincelastvisitdouble              2.642414e+03\nnbdayssincelastclick                  2.066988e+03\nltf_nbpartnerdisplayssincelastclick   7.590539e+02\nnbdisplay_1hour                       7.176346e+01\nzonecostineuro                        8.801236e+00\nltf_nbpartnerclick_90d                6.238911e+00\ncontextid                             5.835694e+00\nltf_nbpartnersales_90d                3.943017e+00\ncampaignctrlast24h                    1.537679e-05",
      "text/html": "<div>\n<style scoped>\n    .dataframe tbody tr th:only-of-type {\n        vertical-align: middle;\n    }\n\n    .dataframe tbody tr th {\n        vertical-align: top;\n    }\n\n    .dataframe thead th {\n        text-align: right;\n    }\n</style>\n<table border=\"1\" class=\"dataframe\">\n  <thead>\n    <tr style=\"text-align: right;\">\n      <th></th>\n      <th>Variance</th>\n    </tr>\n  </thead>\n  <tbody>\n    <tr>\n      <th>display_size</th>\n      <td>9.444482e+09</td>\n    </tr>\n    <tr>\n      <th>ltf_nbglobaldisplay_4w</th>\n      <td>2.607098e+04</td>\n    </tr>\n    <tr>\n      <th>ltf_nbpartnerdisplay_90d</th>\n      <td>1.061908e+04</td>\n    </tr>\n    <tr>\n      <th>nbdisplayglobalapprox_1d_sum_xdevice</th>\n      <td>4.449996e+03</td>\n    </tr>\n    <tr>\n      <th>dayssincelastvisitdouble</th>\n      <td>2.642414e+03</td>\n    </tr>\n    <tr>\n      <th>nbdayssincelastclick</th>\n      <td>2.066988e+03</td>\n    </tr>\n    <tr>\n      <th>ltf_nbpartnerdisplayssincelastclick</th>\n      <td>7.590539e+02</td>\n    </tr>\n    <tr>\n      <th>nbdisplay_1hour</th>\n      <td>7.176346e+01</td>\n    </tr>\n    <tr>\n      <th>zonecostineuro</th>\n      <td>8.801236e+00</td>\n    </tr>\n    <tr>\n      <th>ltf_nbpartnerclick_90d</th>\n      <td>6.238911e+00</td>\n    </tr>\n    <tr>\n      <th>contextid</th>\n      <td>5.835694e+00</td>\n    </tr>\n    <tr>\n      <th>ltf_nbpartnersales_90d</th>\n      <td>3.943017e+00</td>\n    </tr>\n    <tr>\n      <th>campaignctrlast24h</th>\n      <td>1.537679e-05</td>\n    </tr>\n  </tbody>\n</table>\n</div>"
     },
     "metadata": {}
    },
    {
     "output_type": "execute_result",
     "data": {
      "text/plain": [
       "array([[4.00000000e+00, 2.08950000e+01, 4.00000000e+00, ...,\n",
       "        0.00000000e+00, 8.00000000e+00, 4.50431794e-01],\n",
       "       [5.00000000e+00, 2.77200000e+00, 8.00000000e+00, ...,\n",
       "        0.00000000e+00, 9.90000000e+01, 4.35971946e-01],\n",
       "       [8.00000000e+00, 3.13000000e-01, 5.60000000e+01, ...,\n",
       "        0.00000000e+00, 6.39877778e+01, 1.50000000e+00],\n",
       "       ...,\n",
       "       [7.00000000e+00, 1.17910000e+01, 5.00000000e+00, ...,\n",
       "        0.00000000e+00, 9.72637500e+01, 9.12121758e-02],\n",
       "       [9.00000000e+00, 5.13460000e+01, 0.00000000e+00, ...,\n",
       "        0.00000000e+00, 2.00000000e+00, 6.21276617e-01],\n",
       "       [8.00000000e+00, 2.10000000e-02, 3.50000000e+01, ...,\n",
       "        0.00000000e+00, 4.00000000e+01, 1.53559005e+00]])"
      ]
     },
     "metadata": {},
     "execution_count": 9
    }
   ],
   "source": [
    "low_variance_feature_selection(X, 0.01)"
   ]
  },
  {
   "cell_type": "code",
   "execution_count": 10,
   "metadata": {},
   "outputs": [],
   "source": [
    "columns_cat = ['display_env',\n",
    "            'target_env',\n",
    "            'campaignscenario',\n",
    "            'campaignvertical',\n",
    "            'is_interstitial',\n",
    "            'device_type']"
   ]
  },
  {
   "cell_type": "code",
   "execution_count": 11,
   "metadata": {},
   "outputs": [
    {
     "output_type": "execute_result",
     "data": {
      "text/plain": [
       "21"
      ]
     },
     "metadata": {},
     "execution_count": 11
    }
   ],
   "source": [
    "df_cat = pd.get_dummies(df[columns_cat], columns=columns_cat, drop_first=True)\n",
    "len(df_cat.columns)"
   ]
  },
  {
   "cell_type": "code",
   "execution_count": 12,
   "metadata": {},
   "outputs": [
    {
     "output_type": "stream",
     "name": "stdout",
     "text": [
      "[ 0  2  3  4  5  6  7  8  9 10 11 12 13 14 15 16 18 19 20]\n"
     ]
    },
    {
     "output_type": "display_data",
     "data": {
      "text/plain": "                              Variance\ncampaignscenario_13           0.232464\ndevice_type_Desktop           0.216539\ncampaignvertical_20.0         0.211358\ndisplay_env_web               0.207430\ncampaignscenario_12           0.113986\ndevice_type_iPhone            0.103931\ncampaignvertical_129.0        0.102221\ntarget_env_2                  0.093956\ndisplay_env_app_ios           0.082996\ncampaignscenario_6            0.060119\ncampaignvertical_200002.0     0.055267\nis_interstitial_True          0.039408\ncampaignscenario_11           0.038004\ncampaignvertical_23.0         0.025245\ndevice_type_Unknown           0.022993\ndevice_type_iPad              0.019757\ndevice_type_Desktop - Safari  0.019161\ncampaignscenario_5            0.017087\ncampaignscenario_17           0.014899\ndevice_type_Mobile - Other    0.007270\ndisplay_env_other             0.000099",
      "text/html": "<div>\n<style scoped>\n    .dataframe tbody tr th:only-of-type {\n        vertical-align: middle;\n    }\n\n    .dataframe tbody tr th {\n        vertical-align: top;\n    }\n\n    .dataframe thead th {\n        text-align: right;\n    }\n</style>\n<table border=\"1\" class=\"dataframe\">\n  <thead>\n    <tr style=\"text-align: right;\">\n      <th></th>\n      <th>Variance</th>\n    </tr>\n  </thead>\n  <tbody>\n    <tr>\n      <th>campaignscenario_13</th>\n      <td>0.232464</td>\n    </tr>\n    <tr>\n      <th>device_type_Desktop</th>\n      <td>0.216539</td>\n    </tr>\n    <tr>\n      <th>campaignvertical_20.0</th>\n      <td>0.211358</td>\n    </tr>\n    <tr>\n      <th>display_env_web</th>\n      <td>0.207430</td>\n    </tr>\n    <tr>\n      <th>campaignscenario_12</th>\n      <td>0.113986</td>\n    </tr>\n    <tr>\n      <th>device_type_iPhone</th>\n      <td>0.103931</td>\n    </tr>\n    <tr>\n      <th>campaignvertical_129.0</th>\n      <td>0.102221</td>\n    </tr>\n    <tr>\n      <th>target_env_2</th>\n      <td>0.093956</td>\n    </tr>\n    <tr>\n      <th>display_env_app_ios</th>\n      <td>0.082996</td>\n    </tr>\n    <tr>\n      <th>campaignscenario_6</th>\n      <td>0.060119</td>\n    </tr>\n    <tr>\n      <th>campaignvertical_200002.0</th>\n      <td>0.055267</td>\n    </tr>\n    <tr>\n      <th>is_interstitial_True</th>\n      <td>0.039408</td>\n    </tr>\n    <tr>\n      <th>campaignscenario_11</th>\n      <td>0.038004</td>\n    </tr>\n    <tr>\n      <th>campaignvertical_23.0</th>\n      <td>0.025245</td>\n    </tr>\n    <tr>\n      <th>device_type_Unknown</th>\n      <td>0.022993</td>\n    </tr>\n    <tr>\n      <th>device_type_iPad</th>\n      <td>0.019757</td>\n    </tr>\n    <tr>\n      <th>device_type_Desktop - Safari</th>\n      <td>0.019161</td>\n    </tr>\n    <tr>\n      <th>campaignscenario_5</th>\n      <td>0.017087</td>\n    </tr>\n    <tr>\n      <th>campaignscenario_17</th>\n      <td>0.014899</td>\n    </tr>\n    <tr>\n      <th>device_type_Mobile - Other</th>\n      <td>0.007270</td>\n    </tr>\n    <tr>\n      <th>display_env_other</th>\n      <td>0.000099</td>\n    </tr>\n  </tbody>\n</table>\n</div>"
     },
     "metadata": {}
    },
    {
     "output_type": "execute_result",
     "data": {
      "text/plain": [
       "array([[0, 1, 0, ..., 0, 0, 0],\n",
       "       [0, 1, 0, ..., 0, 0, 0],\n",
       "       [0, 1, 0, ..., 0, 0, 0],\n",
       "       ...,\n",
       "       [1, 0, 1, ..., 0, 0, 1],\n",
       "       [1, 0, 1, ..., 0, 0, 1],\n",
       "       [0, 1, 0, ..., 0, 0, 0]], dtype=uint8)"
      ]
     },
     "metadata": {},
     "execution_count": 12
    }
   ],
   "source": [
    "Y = df_cat\n",
    "low_variance_feature_selection(Y, 0.01)"
   ]
  },
  {
   "cell_type": "code",
   "execution_count": 13,
   "metadata": {},
   "outputs": [
    {
     "output_type": "stream",
     "name": "stdout",
     "text": [
      "Temps d'exécution total : 00:00:56\n"
     ]
    }
   ],
   "source": [
    "print(f\"Temps d'exécution total : {time.strftime('%H:%M:%S', time.gmtime(time.time()-t))}\")"
   ]
  },
  {
   "source": [
    "## Univariate feature selection"
   ],
   "cell_type": "markdown",
   "metadata": {}
  },
  {
   "cell_type": "code",
   "execution_count": 14,
   "metadata": {},
   "outputs": [],
   "source": [
    "from scipy.stats.stats import pearsonr\n",
    "def univariate_selection(X, y) :\n",
    "    features = list(X)\n",
    "    correlation = []\n",
    "    significance = []\n",
    "    for feature in features:\n",
    "        correl = pearsonr(X[feature].values, y.values)\n",
    "        correlation.append(correl[0])\n",
    "        significance.append(correl[1])\n",
    "    df = pd.DataFrame()\n",
    "    df['feature'] = features\n",
    "    df['correlation'] = correlation\n",
    "    df['abs_correlation'] = np.abs(correlation)\n",
    "    df['significance'] = significance\n",
    "    df['significant'] = df['significance'] < 0.01 # Label those P<0.01\n",
    "    df.sort_values(by='abs_correlation', ascending=False, inplace=True)\n",
    "    return df"
   ]
  },
  {
   "cell_type": "code",
   "execution_count": 15,
   "metadata": {},
   "outputs": [
    {
     "output_type": "execute_result",
     "data": {
      "text/plain": [
       "                                 feature  correlation  abs_correlation  \\\n",
       "12                        zonecostineuro     0.214615         0.214615   \n",
       "5                           display_size     0.145901         0.145901   \n",
       "2                     campaignctrlast24h     0.104729         0.104729   \n",
       "3                        nbdisplay_1hour    -0.045473         0.045473   \n",
       "11  nbdisplayglobalapprox_1d_sum_xdevice    -0.032693         0.032693   \n",
       "4                   nbdayssincelastclick    -0.024608         0.024608   \n",
       "8                 ltf_nbpartnerclick_90d     0.023766         0.023766   \n",
       "1               dayssincelastvisitdouble    -0.022727         0.022727   \n",
       "0                              contextid     0.021707         0.021707   \n",
       "9               ltf_nbpartnerdisplay_90d     0.004920         0.004920   \n",
       "6    ltf_nbpartnerdisplayssincelastclick    -0.004315         0.004315   \n",
       "10                ltf_nbpartnersales_90d     0.003757         0.003757   \n",
       "7                 ltf_nbglobaldisplay_4w    -0.000167         0.000167   \n",
       "\n",
       "     significance  significant  \n",
       "12   0.000000e+00         True  \n",
       "5    0.000000e+00         True  \n",
       "2    0.000000e+00         True  \n",
       "3    0.000000e+00         True  \n",
       "11   0.000000e+00         True  \n",
       "4   3.742619e-214         True  \n",
       "8   6.851296e-200         True  \n",
       "1   5.873928e-183         True  \n",
       "0   4.346806e-167         True  \n",
       "9    4.269942e-10         True  \n",
       "6    4.341959e-08         True  \n",
       "10   1.865353e-06         True  \n",
       "7    8.321589e-01        False  "
      ],
      "text/html": "<div>\n<style scoped>\n    .dataframe tbody tr th:only-of-type {\n        vertical-align: middle;\n    }\n\n    .dataframe tbody tr th {\n        vertical-align: top;\n    }\n\n    .dataframe thead th {\n        text-align: right;\n    }\n</style>\n<table border=\"1\" class=\"dataframe\">\n  <thead>\n    <tr style=\"text-align: right;\">\n      <th></th>\n      <th>feature</th>\n      <th>correlation</th>\n      <th>abs_correlation</th>\n      <th>significance</th>\n      <th>significant</th>\n    </tr>\n  </thead>\n  <tbody>\n    <tr>\n      <th>12</th>\n      <td>zonecostineuro</td>\n      <td>0.214615</td>\n      <td>0.214615</td>\n      <td>0.000000e+00</td>\n      <td>True</td>\n    </tr>\n    <tr>\n      <th>5</th>\n      <td>display_size</td>\n      <td>0.145901</td>\n      <td>0.145901</td>\n      <td>0.000000e+00</td>\n      <td>True</td>\n    </tr>\n    <tr>\n      <th>2</th>\n      <td>campaignctrlast24h</td>\n      <td>0.104729</td>\n      <td>0.104729</td>\n      <td>0.000000e+00</td>\n      <td>True</td>\n    </tr>\n    <tr>\n      <th>3</th>\n      <td>nbdisplay_1hour</td>\n      <td>-0.045473</td>\n      <td>0.045473</td>\n      <td>0.000000e+00</td>\n      <td>True</td>\n    </tr>\n    <tr>\n      <th>11</th>\n      <td>nbdisplayglobalapprox_1d_sum_xdevice</td>\n      <td>-0.032693</td>\n      <td>0.032693</td>\n      <td>0.000000e+00</td>\n      <td>True</td>\n    </tr>\n    <tr>\n      <th>4</th>\n      <td>nbdayssincelastclick</td>\n      <td>-0.024608</td>\n      <td>0.024608</td>\n      <td>3.742619e-214</td>\n      <td>True</td>\n    </tr>\n    <tr>\n      <th>8</th>\n      <td>ltf_nbpartnerclick_90d</td>\n      <td>0.023766</td>\n      <td>0.023766</td>\n      <td>6.851296e-200</td>\n      <td>True</td>\n    </tr>\n    <tr>\n      <th>1</th>\n      <td>dayssincelastvisitdouble</td>\n      <td>-0.022727</td>\n      <td>0.022727</td>\n      <td>5.873928e-183</td>\n      <td>True</td>\n    </tr>\n    <tr>\n      <th>0</th>\n      <td>contextid</td>\n      <td>0.021707</td>\n      <td>0.021707</td>\n      <td>4.346806e-167</td>\n      <td>True</td>\n    </tr>\n    <tr>\n      <th>9</th>\n      <td>ltf_nbpartnerdisplay_90d</td>\n      <td>0.004920</td>\n      <td>0.004920</td>\n      <td>4.269942e-10</td>\n      <td>True</td>\n    </tr>\n    <tr>\n      <th>6</th>\n      <td>ltf_nbpartnerdisplayssincelastclick</td>\n      <td>-0.004315</td>\n      <td>0.004315</td>\n      <td>4.341959e-08</td>\n      <td>True</td>\n    </tr>\n    <tr>\n      <th>10</th>\n      <td>ltf_nbpartnersales_90d</td>\n      <td>0.003757</td>\n      <td>0.003757</td>\n      <td>1.865353e-06</td>\n      <td>True</td>\n    </tr>\n    <tr>\n      <th>7</th>\n      <td>ltf_nbglobaldisplay_4w</td>\n      <td>-0.000167</td>\n      <td>0.000167</td>\n      <td>8.321589e-01</td>\n      <td>False</td>\n    </tr>\n  </tbody>\n</table>\n</div>"
     },
     "metadata": {},
     "execution_count": 15
    }
   ],
   "source": [
    "univariate_selection(X, y)"
   ]
  },
  {
   "cell_type": "code",
   "execution_count": 16,
   "metadata": {},
   "outputs": [
    {
     "output_type": "execute_result",
     "data": {
      "text/plain": [
       "                         feature  correlation  abs_correlation   significance  \\\n",
       "14          is_interstitial_True     0.246777         0.246777   0.000000e+00   \n",
       "2                display_env_web    -0.087985         0.087985   0.000000e+00   \n",
       "3                   target_env_2     0.067383         0.067383   0.000000e+00   \n",
       "15           device_type_Desktop    -0.059810         0.059810   0.000000e+00   \n",
       "0            display_env_app_ios     0.056112         0.056112   0.000000e+00   \n",
       "8            campaignscenario_13    -0.048137         0.048137   0.000000e+00   \n",
       "9            campaignscenario_17     0.040227         0.040227   0.000000e+00   \n",
       "19              device_type_iPad     0.034953         0.034953   0.000000e+00   \n",
       "20            device_type_iPhone     0.023572         0.023572  1.145756e-196   \n",
       "7            campaignscenario_12    -0.018978         0.018978  3.478621e-128   \n",
       "16  device_type_Desktop - Safari    -0.014497         0.014497   1.341878e-75   \n",
       "6            campaignscenario_11     0.010834         0.010834   5.173525e-43   \n",
       "12        campaignvertical_129.0    -0.009968         0.009968   1.119823e-36   \n",
       "4             campaignscenario_5    -0.009725         0.009725   5.399781e-35   \n",
       "18           device_type_Unknown     0.007146         0.007146   1.207864e-19   \n",
       "5             campaignscenario_6    -0.006902         0.006902   1.972046e-18   \n",
       "17    device_type_Mobile - Other    -0.006784         0.006784   7.345106e-18   \n",
       "11         campaignvertical_23.0     0.006173         0.006173   4.725063e-15   \n",
       "13     campaignvertical_200002.0     0.003120         0.003120   7.518363e-05   \n",
       "10         campaignvertical_20.0    -0.002163         0.002163   6.058524e-03   \n",
       "1              display_env_other    -0.000569         0.000569   4.705716e-01   \n",
       "\n",
       "    significant  \n",
       "14         True  \n",
       "2          True  \n",
       "3          True  \n",
       "15         True  \n",
       "0          True  \n",
       "8          True  \n",
       "9          True  \n",
       "19         True  \n",
       "20         True  \n",
       "7          True  \n",
       "16         True  \n",
       "6          True  \n",
       "12         True  \n",
       "4          True  \n",
       "18         True  \n",
       "5          True  \n",
       "17         True  \n",
       "11         True  \n",
       "13         True  \n",
       "10         True  \n",
       "1         False  "
      ],
      "text/html": "<div>\n<style scoped>\n    .dataframe tbody tr th:only-of-type {\n        vertical-align: middle;\n    }\n\n    .dataframe tbody tr th {\n        vertical-align: top;\n    }\n\n    .dataframe thead th {\n        text-align: right;\n    }\n</style>\n<table border=\"1\" class=\"dataframe\">\n  <thead>\n    <tr style=\"text-align: right;\">\n      <th></th>\n      <th>feature</th>\n      <th>correlation</th>\n      <th>abs_correlation</th>\n      <th>significance</th>\n      <th>significant</th>\n    </tr>\n  </thead>\n  <tbody>\n    <tr>\n      <th>14</th>\n      <td>is_interstitial_True</td>\n      <td>0.246777</td>\n      <td>0.246777</td>\n      <td>0.000000e+00</td>\n      <td>True</td>\n    </tr>\n    <tr>\n      <th>2</th>\n      <td>display_env_web</td>\n      <td>-0.087985</td>\n      <td>0.087985</td>\n      <td>0.000000e+00</td>\n      <td>True</td>\n    </tr>\n    <tr>\n      <th>3</th>\n      <td>target_env_2</td>\n      <td>0.067383</td>\n      <td>0.067383</td>\n      <td>0.000000e+00</td>\n      <td>True</td>\n    </tr>\n    <tr>\n      <th>15</th>\n      <td>device_type_Desktop</td>\n      <td>-0.059810</td>\n      <td>0.059810</td>\n      <td>0.000000e+00</td>\n      <td>True</td>\n    </tr>\n    <tr>\n      <th>0</th>\n      <td>display_env_app_ios</td>\n      <td>0.056112</td>\n      <td>0.056112</td>\n      <td>0.000000e+00</td>\n      <td>True</td>\n    </tr>\n    <tr>\n      <th>8</th>\n      <td>campaignscenario_13</td>\n      <td>-0.048137</td>\n      <td>0.048137</td>\n      <td>0.000000e+00</td>\n      <td>True</td>\n    </tr>\n    <tr>\n      <th>9</th>\n      <td>campaignscenario_17</td>\n      <td>0.040227</td>\n      <td>0.040227</td>\n      <td>0.000000e+00</td>\n      <td>True</td>\n    </tr>\n    <tr>\n      <th>19</th>\n      <td>device_type_iPad</td>\n      <td>0.034953</td>\n      <td>0.034953</td>\n      <td>0.000000e+00</td>\n      <td>True</td>\n    </tr>\n    <tr>\n      <th>20</th>\n      <td>device_type_iPhone</td>\n      <td>0.023572</td>\n      <td>0.023572</td>\n      <td>1.145756e-196</td>\n      <td>True</td>\n    </tr>\n    <tr>\n      <th>7</th>\n      <td>campaignscenario_12</td>\n      <td>-0.018978</td>\n      <td>0.018978</td>\n      <td>3.478621e-128</td>\n      <td>True</td>\n    </tr>\n    <tr>\n      <th>16</th>\n      <td>device_type_Desktop - Safari</td>\n      <td>-0.014497</td>\n      <td>0.014497</td>\n      <td>1.341878e-75</td>\n      <td>True</td>\n    </tr>\n    <tr>\n      <th>6</th>\n      <td>campaignscenario_11</td>\n      <td>0.010834</td>\n      <td>0.010834</td>\n      <td>5.173525e-43</td>\n      <td>True</td>\n    </tr>\n    <tr>\n      <th>12</th>\n      <td>campaignvertical_129.0</td>\n      <td>-0.009968</td>\n      <td>0.009968</td>\n      <td>1.119823e-36</td>\n      <td>True</td>\n    </tr>\n    <tr>\n      <th>4</th>\n      <td>campaignscenario_5</td>\n      <td>-0.009725</td>\n      <td>0.009725</td>\n      <td>5.399781e-35</td>\n      <td>True</td>\n    </tr>\n    <tr>\n      <th>18</th>\n      <td>device_type_Unknown</td>\n      <td>0.007146</td>\n      <td>0.007146</td>\n      <td>1.207864e-19</td>\n      <td>True</td>\n    </tr>\n    <tr>\n      <th>5</th>\n      <td>campaignscenario_6</td>\n      <td>-0.006902</td>\n      <td>0.006902</td>\n      <td>1.972046e-18</td>\n      <td>True</td>\n    </tr>\n    <tr>\n      <th>17</th>\n      <td>device_type_Mobile - Other</td>\n      <td>-0.006784</td>\n      <td>0.006784</td>\n      <td>7.345106e-18</td>\n      <td>True</td>\n    </tr>\n    <tr>\n      <th>11</th>\n      <td>campaignvertical_23.0</td>\n      <td>0.006173</td>\n      <td>0.006173</td>\n      <td>4.725063e-15</td>\n      <td>True</td>\n    </tr>\n    <tr>\n      <th>13</th>\n      <td>campaignvertical_200002.0</td>\n      <td>0.003120</td>\n      <td>0.003120</td>\n      <td>7.518363e-05</td>\n      <td>True</td>\n    </tr>\n    <tr>\n      <th>10</th>\n      <td>campaignvertical_20.0</td>\n      <td>-0.002163</td>\n      <td>0.002163</td>\n      <td>6.058524e-03</td>\n      <td>True</td>\n    </tr>\n    <tr>\n      <th>1</th>\n      <td>display_env_other</td>\n      <td>-0.000569</td>\n      <td>0.000569</td>\n      <td>4.705716e-01</td>\n      <td>False</td>\n    </tr>\n  </tbody>\n</table>\n</div>"
     },
     "metadata": {},
     "execution_count": 16
    }
   ],
   "source": [
    "univariate_selection(Y, y)"
   ]
  }
 ],
 "metadata": {
  "kernelspec": {
   "display_name": "Python 3",
   "language": "python",
   "name": "python3"
  },
  "language_info": {
   "codemirror_mode": {
    "name": "ipython",
    "version": 3
   },
   "file_extension": ".py",
   "mimetype": "text/x-python",
   "name": "python",
   "nbconvert_exporter": "python",
   "pygments_lexer": "ipython3",
   "version": "3.7.3-final"
  }
 },
 "nbformat": 4,
 "nbformat_minor": 4
}