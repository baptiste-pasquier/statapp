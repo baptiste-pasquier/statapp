{
 "cells": [
  {
   "cell_type": "markdown",
   "metadata": {},
   "source": [
    "# Feature selection"
   ]
  },
  {
   "cell_type": "code",
   "execution_count": 1,
   "metadata": {},
   "outputs": [],
   "source": [
    "import os\n",
    "import time\n",
    "from math import log\n",
    "\n",
    "import matplotlib.pyplot as plt\n",
    "import numpy as np\n",
    "import pandas as pd\n",
    "from IPython.display import display\n",
    "from sklearn import metrics\n",
    "from sklearn.feature_extraction.text import CountVectorizer, TfidfVectorizer\n",
    "from sklearn.linear_model import Lasso, LassoCV\n",
    "from sklearn.linear_model import LogisticRegression\n",
    "from sklearn.model_selection import train_test_split\n",
    "from sklearn.preprocessing import StandardScaler\n",
    "from IPython.display import display\n",
    "\n",
    "t = time.time()"
   ]
  },
  {
   "cell_type": "code",
   "execution_count": 2,
   "metadata": {},
   "outputs": [
    {
     "output_type": "execute_result",
     "data": {
      "text/plain": [
       "(1610494, 48)"
      ]
     },
     "metadata": {},
     "execution_count": 2
    }
   ],
   "source": [
    "df = pd.read_csv('data/df_train_prepro.csv').sample(frac=1)\n",
    "df.shape"
   ]
  },
  {
   "cell_type": "code",
   "execution_count": 3,
   "metadata": {},
   "outputs": [],
   "source": [
    "X = df[['contextid',\n",
    "        'dayssincelastvisitdouble',\n",
    "        'campaignctrlast24h',\n",
    "        'nbdisplay_1hour',\n",
    "        'nbdayssincelastclick',\n",
    "        'display_size',\n",
    "        'ltf_nbpartnerdisplayssincelastclick',\n",
    "        'ltf_nbglobaldisplay_4w',\n",
    "        'ltf_nbpartnerclick_90d',\n",
    "        'ltf_nbpartnerdisplay_90d',\n",
    "        'ltf_nbpartnersales_90d',\n",
    "        'nbdisplayglobalapprox_1d_sum_xdevice',\n",
    "        'zonecostineuro']]\n",
    "y = df['is_display_clicked']"
   ]
  },
  {
   "cell_type": "code",
   "execution_count": 4,
   "metadata": {},
   "outputs": [],
   "source": [
    "scaler = StandardScaler()\n",
    "X_scaled = scaler.fit_transform(X)\n",
    "\n",
    "columns_scaled = X.select_dtypes(include=np.number).columns"
   ]
  },
  {
   "cell_type": "markdown",
   "metadata": {},
   "source": [
    "## Méthode LASSO"
   ]
  },
  {
   "cell_type": "markdown",
   "metadata": {},
   "source": [
    "On choisit `fit_intercept=False` et `normalize=False` car les données sont déjà centrées et réduites."
   ]
  },
  {
   "cell_type": "code",
   "execution_count": 5,
   "metadata": {},
   "outputs": [],
   "source": [
    "def run_LassoCV(alphas_range, X_scaled, y):\n",
    "    lcv = LassoCV(alphas=alphas_range, normalize=False, fit_intercept=False, random_state=0, n_jobs=-1).fit(X_scaled, y)\n",
    "\n",
    "    print(f\"Best alpha : {lcv.alpha_}\")\n",
    "\n",
    "    lasso = Lasso(fit_intercept=False, normalize=False, alpha=lcv.alpha_)\n",
    "    lasso.fit(X_scaled, y)\n",
    "    coeff_df = pd.DataFrame(np.transpose(lasso.coef_), columns_scaled, columns=['Coefficient'])\n",
    "\n",
    "    display(coeff_df.sort_values(by='Coefficient', ascending=False))\n",
    "\n",
    "    print(f\"\\nNombre de coeffs non nuls : {len(coeff_df[coeff_df.Coefficient != 0])}\")"
   ]
  },
  {
   "cell_type": "code",
   "execution_count": 6,
   "metadata": {},
   "outputs": [
    {
     "output_type": "stream",
     "name": "stdout",
     "text": [
      "[0.001      0.01109091 0.02118182 0.03127273 0.04136364]\n",
      "Best alpha : 0.001\n"
     ]
    },
    {
     "output_type": "display_data",
     "data": {
      "text/plain": "                                      Coefficient\nzonecostineuro                           0.043662\ndisplay_size                             0.023909\ncampaignctrlast24h                       0.023155\nltf_nbpartnerclick_90d                   0.002896\ndayssincelastvisitdouble                -0.000000\nltf_nbglobaldisplay_4w                  -0.000000\nltf_nbpartnerdisplay_90d                -0.000000\nltf_nbpartnersales_90d                  -0.000000\nltf_nbpartnerdisplayssincelastclick     -0.000031\nnbdisplayglobalapprox_1d_sum_xdevice    -0.002280\ncontextid                               -0.003043\nnbdayssincelastclick                    -0.003272\nnbdisplay_1hour                         -0.007687",
      "text/html": "<div>\n<style scoped>\n    .dataframe tbody tr th:only-of-type {\n        vertical-align: middle;\n    }\n\n    .dataframe tbody tr th {\n        vertical-align: top;\n    }\n\n    .dataframe thead th {\n        text-align: right;\n    }\n</style>\n<table border=\"1\" class=\"dataframe\">\n  <thead>\n    <tr style=\"text-align: right;\">\n      <th></th>\n      <th>Coefficient</th>\n    </tr>\n  </thead>\n  <tbody>\n    <tr>\n      <th>zonecostineuro</th>\n      <td>0.043662</td>\n    </tr>\n    <tr>\n      <th>display_size</th>\n      <td>0.023909</td>\n    </tr>\n    <tr>\n      <th>campaignctrlast24h</th>\n      <td>0.023155</td>\n    </tr>\n    <tr>\n      <th>ltf_nbpartnerclick_90d</th>\n      <td>0.002896</td>\n    </tr>\n    <tr>\n      <th>dayssincelastvisitdouble</th>\n      <td>-0.000000</td>\n    </tr>\n    <tr>\n      <th>ltf_nbglobaldisplay_4w</th>\n      <td>-0.000000</td>\n    </tr>\n    <tr>\n      <th>ltf_nbpartnerdisplay_90d</th>\n      <td>-0.000000</td>\n    </tr>\n    <tr>\n      <th>ltf_nbpartnersales_90d</th>\n      <td>-0.000000</td>\n    </tr>\n    <tr>\n      <th>ltf_nbpartnerdisplayssincelastclick</th>\n      <td>-0.000031</td>\n    </tr>\n    <tr>\n      <th>nbdisplayglobalapprox_1d_sum_xdevice</th>\n      <td>-0.002280</td>\n    </tr>\n    <tr>\n      <th>contextid</th>\n      <td>-0.003043</td>\n    </tr>\n    <tr>\n      <th>nbdayssincelastclick</th>\n      <td>-0.003272</td>\n    </tr>\n    <tr>\n      <th>nbdisplay_1hour</th>\n      <td>-0.007687</td>\n    </tr>\n  </tbody>\n</table>\n</div>"
     },
     "metadata": {}
    },
    {
     "output_type": "stream",
     "name": "stdout",
     "text": [
      "\nNombre de coeffs non nuls : 9\nWall time: 8.36 s\n"
     ]
    }
   ],
   "source": [
    "%%time\n",
    "alphas_range = np.linspace(0.001, 1, num=100)\n",
    "print(alphas_range[:5])\n",
    "run_LassoCV(alphas_range, X_scaled, y)"
   ]
  },
  {
   "source": [
    "## Variance feature selection"
   ],
   "cell_type": "markdown",
   "metadata": {}
  },
  {
   "cell_type": "code",
   "execution_count": 7,
   "metadata": {},
   "outputs": [],
   "source": [
    "from sklearn.feature_selection import VarianceThreshold"
   ]
  },
  {
   "cell_type": "code",
   "execution_count": 8,
   "metadata": {},
   "outputs": [],
   "source": [
    "def low_variance_feature_selection(X, threshold) :\n",
    "    sel = VarianceThreshold(threshold)\n",
    "    sel.fit(X)\n",
    "    print(sel.get_support(indices=True))\n",
    "\n",
    "    df = pd.DataFrame(sel.variances_, index=X.columns, columns=['Variance']).sort_values(by='Variance', ascending=False)\n",
    "\n",
    "    display(df)\n",
    "\n",
    "    return sel.transform(X)"
   ]
  },
  {
   "cell_type": "code",
   "execution_count": 9,
   "metadata": {},
   "outputs": [
    {
     "output_type": "stream",
     "name": "stdout",
     "text": [
      "[ 0  1  3  4  5  6  7  8  9 10 11 12]\n"
     ]
    },
    {
     "output_type": "display_data",
     "data": {
      "text/plain": "                                          Variance\ndisplay_size                          9.444482e+09\nltf_nbglobaldisplay_4w                2.607098e+04\nltf_nbpartnerdisplay_90d              1.061908e+04\nnbdisplayglobalapprox_1d_sum_xdevice  4.449996e+03\ndayssincelastvisitdouble              2.642414e+03\nnbdayssincelastclick                  2.066988e+03\nltf_nbpartnerdisplayssincelastclick   7.590539e+02\nnbdisplay_1hour                       7.176346e+01\nzonecostineuro                        8.801236e+00\nltf_nbpartnerclick_90d                6.238911e+00\ncontextid                             5.835694e+00\nltf_nbpartnersales_90d                3.943017e+00\ncampaignctrlast24h                    1.537679e-05",
      "text/html": "<div>\n<style scoped>\n    .dataframe tbody tr th:only-of-type {\n        vertical-align: middle;\n    }\n\n    .dataframe tbody tr th {\n        vertical-align: top;\n    }\n\n    .dataframe thead th {\n        text-align: right;\n    }\n</style>\n<table border=\"1\" class=\"dataframe\">\n  <thead>\n    <tr style=\"text-align: right;\">\n      <th></th>\n      <th>Variance</th>\n    </tr>\n  </thead>\n  <tbody>\n    <tr>\n      <th>display_size</th>\n      <td>9.444482e+09</td>\n    </tr>\n    <tr>\n      <th>ltf_nbglobaldisplay_4w</th>\n      <td>2.607098e+04</td>\n    </tr>\n    <tr>\n      <th>ltf_nbpartnerdisplay_90d</th>\n      <td>1.061908e+04</td>\n    </tr>\n    <tr>\n      <th>nbdisplayglobalapprox_1d_sum_xdevice</th>\n      <td>4.449996e+03</td>\n    </tr>\n    <tr>\n      <th>dayssincelastvisitdouble</th>\n      <td>2.642414e+03</td>\n    </tr>\n    <tr>\n      <th>nbdayssincelastclick</th>\n      <td>2.066988e+03</td>\n    </tr>\n    <tr>\n      <th>ltf_nbpartnerdisplayssincelastclick</th>\n      <td>7.590539e+02</td>\n    </tr>\n    <tr>\n      <th>nbdisplay_1hour</th>\n      <td>7.176346e+01</td>\n    </tr>\n    <tr>\n      <th>zonecostineuro</th>\n      <td>8.801236e+00</td>\n    </tr>\n    <tr>\n      <th>ltf_nbpartnerclick_90d</th>\n      <td>6.238911e+00</td>\n    </tr>\n    <tr>\n      <th>contextid</th>\n      <td>5.835694e+00</td>\n    </tr>\n    <tr>\n      <th>ltf_nbpartnersales_90d</th>\n      <td>3.943017e+00</td>\n    </tr>\n    <tr>\n      <th>campaignctrlast24h</th>\n      <td>1.537679e-05</td>\n    </tr>\n  </tbody>\n</table>\n</div>"
     },
     "metadata": {}
    },
    {
     "output_type": "execute_result",
     "data": {
      "text/plain": [
       "array([[6.00000000e+00, 1.94336000e+02, 0.00000000e+00, ...,\n",
       "        0.00000000e+00, 0.00000000e+00, 2.40533203e-01],\n",
       "       [9.00000000e+00, 6.11000000e-01, 1.40000000e+01, ...,\n",
       "        0.00000000e+00, 5.18815278e+01, 3.40449905e+00],\n",
       "       [8.00000000e+00, 2.81100000e+00, 3.00000000e+00, ...,\n",
       "        0.00000000e+00, 3.94738889e+01, 1.86483905e-01],\n",
       "       ...,\n",
       "       [3.00000000e+00, 3.95980000e+01, 0.00000000e+00, ...,\n",
       "        0.00000000e+00, 1.68551111e+02, 1.70969386e-02],\n",
       "       [3.00000000e+00, 2.31860000e+01, 2.90000000e+01, ...,\n",
       "        0.00000000e+00, 2.66301111e+02, 1.75312698e-01],\n",
       "       [6.00000000e+00, 2.50740000e+01, 0.00000000e+00, ...,\n",
       "        0.00000000e+00, 4.21303704e+01, 9.98989284e-01]])"
      ]
     },
     "metadata": {},
     "execution_count": 9
    }
   ],
   "source": [
    "low_variance_feature_selection(X, 0.01)"
   ]
  },
  {
   "cell_type": "code",
   "execution_count": 10,
   "metadata": {},
   "outputs": [],
   "source": [
    "columns_cat = ['display_env',\n",
    "            'target_env',\n",
    "            'campaignscenario',\n",
    "            'campaignvertical',\n",
    "            'is_interstitial',\n",
    "            'device_type']"
   ]
  },
  {
   "cell_type": "code",
   "execution_count": 11,
   "metadata": {},
   "outputs": [
    {
     "output_type": "execute_result",
     "data": {
      "text/plain": [
       "21"
      ]
     },
     "metadata": {},
     "execution_count": 11
    }
   ],
   "source": [
    "df_cat = pd.get_dummies(df[columns_cat], columns=columns_cat, drop_first=True)\n",
    "len(df_cat.columns)"
   ]
  },
  {
   "cell_type": "code",
   "execution_count": 12,
   "metadata": {},
   "outputs": [
    {
     "output_type": "stream",
     "name": "stdout",
     "text": [
      "[ 0  2  3  4  5  6  7  8  9 10 11 12 13 14 15 16 18 19 20]\n"
     ]
    },
    {
     "output_type": "display_data",
     "data": {
      "text/plain": "                              Variance\ncampaignscenario_13           0.232464\ndevice_type_Desktop           0.216539\ncampaignvertical_20.0         0.211358\ndisplay_env_web               0.207430\ncampaignscenario_12           0.113986\ndevice_type_iPhone            0.103931\ncampaignvertical_129.0        0.102221\ntarget_env_2                  0.093956\ndisplay_env_app_ios           0.082996\ncampaignscenario_6            0.060119\ncampaignvertical_200002.0     0.055267\nis_interstitial_True          0.039408\ncampaignscenario_11           0.038004\ncampaignvertical_23.0         0.025245\ndevice_type_Unknown           0.022993\ndevice_type_iPad              0.019757\ndevice_type_Desktop - Safari  0.019161\ncampaignscenario_5            0.017087\ncampaignscenario_17           0.014899\ndevice_type_Mobile - Other    0.007270\ndisplay_env_other             0.000099",
      "text/html": "<div>\n<style scoped>\n    .dataframe tbody tr th:only-of-type {\n        vertical-align: middle;\n    }\n\n    .dataframe tbody tr th {\n        vertical-align: top;\n    }\n\n    .dataframe thead th {\n        text-align: right;\n    }\n</style>\n<table border=\"1\" class=\"dataframe\">\n  <thead>\n    <tr style=\"text-align: right;\">\n      <th></th>\n      <th>Variance</th>\n    </tr>\n  </thead>\n  <tbody>\n    <tr>\n      <th>campaignscenario_13</th>\n      <td>0.232464</td>\n    </tr>\n    <tr>\n      <th>device_type_Desktop</th>\n      <td>0.216539</td>\n    </tr>\n    <tr>\n      <th>campaignvertical_20.0</th>\n      <td>0.211358</td>\n    </tr>\n    <tr>\n      <th>display_env_web</th>\n      <td>0.207430</td>\n    </tr>\n    <tr>\n      <th>campaignscenario_12</th>\n      <td>0.113986</td>\n    </tr>\n    <tr>\n      <th>device_type_iPhone</th>\n      <td>0.103931</td>\n    </tr>\n    <tr>\n      <th>campaignvertical_129.0</th>\n      <td>0.102221</td>\n    </tr>\n    <tr>\n      <th>target_env_2</th>\n      <td>0.093956</td>\n    </tr>\n    <tr>\n      <th>display_env_app_ios</th>\n      <td>0.082996</td>\n    </tr>\n    <tr>\n      <th>campaignscenario_6</th>\n      <td>0.060119</td>\n    </tr>\n    <tr>\n      <th>campaignvertical_200002.0</th>\n      <td>0.055267</td>\n    </tr>\n    <tr>\n      <th>is_interstitial_True</th>\n      <td>0.039408</td>\n    </tr>\n    <tr>\n      <th>campaignscenario_11</th>\n      <td>0.038004</td>\n    </tr>\n    <tr>\n      <th>campaignvertical_23.0</th>\n      <td>0.025245</td>\n    </tr>\n    <tr>\n      <th>device_type_Unknown</th>\n      <td>0.022993</td>\n    </tr>\n    <tr>\n      <th>device_type_iPad</th>\n      <td>0.019757</td>\n    </tr>\n    <tr>\n      <th>device_type_Desktop - Safari</th>\n      <td>0.019161</td>\n    </tr>\n    <tr>\n      <th>campaignscenario_5</th>\n      <td>0.017087</td>\n    </tr>\n    <tr>\n      <th>campaignscenario_17</th>\n      <td>0.014899</td>\n    </tr>\n    <tr>\n      <th>device_type_Mobile - Other</th>\n      <td>0.007270</td>\n    </tr>\n    <tr>\n      <th>display_env_other</th>\n      <td>0.000099</td>\n    </tr>\n  </tbody>\n</table>\n</div>"
     },
     "metadata": {}
    },
    {
     "output_type": "execute_result",
     "data": {
      "text/plain": [
       "array([[0, 1, 0, ..., 0, 0, 0],\n",
       "       [0, 1, 1, ..., 0, 0, 1],\n",
       "       [0, 1, 0, ..., 0, 0, 0],\n",
       "       ...,\n",
       "       [0, 0, 0, ..., 0, 0, 0],\n",
       "       [0, 1, 0, ..., 0, 0, 0],\n",
       "       [0, 1, 0, ..., 0, 0, 0]], dtype=uint8)"
      ]
     },
     "metadata": {},
     "execution_count": 12
    }
   ],
   "source": [
    "Y = df_cat\n",
    "low_variance_feature_selection(Y, 0.01)"
   ]
  },
  {
   "cell_type": "code",
   "execution_count": 13,
   "metadata": {},
   "outputs": [
    {
     "output_type": "stream",
     "name": "stdout",
     "text": [
      "Temps d'exécution total : 00:00:45\n"
     ]
    }
   ],
   "source": [
    "print(f\"Temps d'exécution total : {time.strftime('%H:%M:%S', time.gmtime(time.time()-t))}\")"
   ]
  }
 ],
 "metadata": {
  "kernelspec": {
   "display_name": "Python 3",
   "language": "python",
   "name": "python3"
  },
  "language_info": {
   "codemirror_mode": {
    "name": "ipython",
    "version": 3
   },
   "file_extension": ".py",
   "mimetype": "text/x-python",
   "name": "python",
   "nbconvert_exporter": "python",
   "pygments_lexer": "ipython3",
   "version": "3.7.3-final"
  }
 },
 "nbformat": 4,
 "nbformat_minor": 4
}