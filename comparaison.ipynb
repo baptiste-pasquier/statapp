{
 "cells": [
  {
   "cell_type": "markdown",
   "metadata": {},
   "source": [
    "# Test et comparaisons de nos modèles"
   ]
  },
  {
   "cell_type": "code",
   "execution_count": 1,
   "metadata": {},
   "outputs": [],
   "source": [
    "import time\n",
    "\n",
    "t_debut = time.time()\n",
    "\n",
    "import matplotlib.pyplot as plt\n",
    "import numpy as np\n",
    "import pandas as pd\n",
    "from sklearn.linear_model import LogisticRegression\n",
    "from sklearn.ensemble import RandomForestClassifier\n",
    "from xgboost import XGBClassifier\n",
    "from sklearn.metrics import recall_score, precision_score, confusion_matrix, ConfusionMatrixDisplay, roc_curve, roc_auc_score\n",
    "\n",
    "from tools import datasets, convert_keys_to_int"
   ]
  },
  {
   "cell_type": "markdown",
   "metadata": {},
   "source": [
    "Importation de la liste des variables explicatives sélectionnées, des meilleurs paramètres et du seuil ajusté pour chaque modèle."
   ]
  },
  {
   "cell_type": "code",
   "execution_count": 2,
   "metadata": {},
   "outputs": [],
   "source": [
    "best_LR = \"LR_RFECV\"\n",
    "best_RF = \"Forest_RFECV\"\n",
    "best_XGB = \"XGBoost_RFECV\""
   ]
  },
  {
   "cell_type": "code",
   "execution_count": 3,
   "metadata": {},
   "outputs": [
    {
     "name": "stdout",
     "output_type": "stream",
     "text": [
      "Variables explicatives régression logistique (11) :\n"
     ]
    },
    {
     "data": {
      "text/plain": [
       "['campaignctrlast24h',\n",
       " 'display_size',\n",
       " 'nbdayssincelastclick',\n",
       " 'nbdisplay_1hour',\n",
       " 'zonecostineuro',\n",
       " 'campaignscenario_13',\n",
       " 'device_type_Desktop',\n",
       " 'device_type_iPhone',\n",
       " 'display_env_app_ios',\n",
       " 'is_interstitial_True',\n",
       " 'target_env_2']"
      ]
     },
     "metadata": {},
     "output_type": "display_data"
    },
    {
     "name": "stdout",
     "output_type": "stream",
     "text": [
      "Meilleurs paramètres régression logistique (2) :\n"
     ]
    },
    {
     "data": {
      "text/plain": [
       "{'C': 0.007278953843983146, 'class_weight': {0: 1, 1: 20}}"
      ]
     },
     "metadata": {},
     "output_type": "display_data"
    },
    {
     "name": "stdout",
     "output_type": "stream",
     "text": [
      "Variables explicatives forêt aléatoires (9) :\n"
     ]
    },
    {
     "data": {
      "text/plain": [
       "['campaignctrlast24h',\n",
       " 'contextid',\n",
       " 'dayssincelastvisitdouble',\n",
       " 'display_size',\n",
       " 'nbdayssincelastclick',\n",
       " 'nbdisplay_1hour',\n",
       " 'nbdisplayglobalapprox_1d_sum_xdevice',\n",
       " 'zonecostineuro',\n",
       " 'is_interstitial_True']"
      ]
     },
     "metadata": {},
     "output_type": "display_data"
    },
    {
     "name": "stdout",
     "output_type": "stream",
     "text": [
      "Meilleurs paramètres forêt aléatoires (8) :\n"
     ]
    },
    {
     "data": {
      "text/plain": [
       "{'n_estimators': 400,\n",
       " 'min_samples_split': 10,\n",
       " 'min_samples_leaf': 4,\n",
       " 'max_features': 'sqrt',\n",
       " 'max_depth': 10,\n",
       " 'class_weight': {0: 1, 1: 32},\n",
       " 'bootstrap': False,\n",
       " 'n_jobs': -1}"
      ]
     },
     "metadata": {},
     "output_type": "display_data"
    },
    {
     "name": "stdout",
     "output_type": "stream",
     "text": [
      "Variables explicatives XGBoost (9) :\n"
     ]
    },
    {
     "data": {
      "text/plain": [
       "['campaignctrlast24h',\n",
       " 'contextid',\n",
       " 'nbdayssincelastclick',\n",
       " 'nbdisplay_1hour',\n",
       " 'zonecostineuro',\n",
       " 'device_type_Android',\n",
       " 'device_type_Desktop',\n",
       " 'device_type_iPad',\n",
       " 'is_interstitial_True']"
      ]
     },
     "metadata": {},
     "output_type": "display_data"
    },
    {
     "name": "stdout",
     "output_type": "stream",
     "text": [
      "Meilleurs paramètres XGBoost (11) :\n"
     ]
    },
    {
     "data": {
      "text/plain": [
       "{'subsample': 1.0,\n",
       " 'scale_pos_weight': 16.5,\n",
       " 'n_estimators': 100,\n",
       " 'min_child_weight': 3,\n",
       " 'max_depth': 2,\n",
       " 'learning_rate': 0.1,\n",
       " 'gamma': 1.5,\n",
       " 'colsample_bytree': 0.6,\n",
       " 'booster': 'gbtree',\n",
       " 'objective': 'binary:logistic',\n",
       " 'n_jobs': -1}"
      ]
     },
     "metadata": {},
     "output_type": "display_data"
    },
    {
     "name": "stdout",
     "output_type": "stream",
     "text": [
      "Seuils ajustés :\n"
     ]
    },
    {
     "data": {
      "text/plain": [
       "{'LR': 0.5014648437500001,\n",
       " 'Forest': 0.6503906250000003,\n",
       " 'XGBoost': 0.46533203125}"
      ]
     },
     "metadata": {},
     "output_type": "display_data"
    }
   ],
   "source": [
    "import json\n",
    "\n",
    "# Régression logistique\n",
    "with open('backups/RFECV_LR.json') as column_file:\n",
    "    LR_COLUMNS = json.load(column_file)\n",
    "    LR_COLUMNS_QUANT = LR_COLUMNS['columns_quant']\n",
    "    LR_COLUMNS_CAT = LR_COLUMNS['columns_cat']\n",
    "    LR_COLUMNS = LR_COLUMNS_QUANT + LR_COLUMNS_CAT\n",
    "\n",
    "with open('backups/PARAMS_LR.json') as param_file:\n",
    "    LR_PARAMS = json.load(param_file)[best_LR]\n",
    "    LR_PARAMS = convert_keys_to_int(LR_PARAMS)\n",
    "\n",
    "print(f'Variables explicatives régression logistique ({len(LR_COLUMNS)}) :')\n",
    "display(LR_COLUMNS)\n",
    "\n",
    "print(f'Meilleurs paramètres régression logistique ({len(LR_PARAMS)}) :')\n",
    "display(LR_PARAMS)\n",
    "\n",
    "# Forêt aléatoires\n",
    "with open('backups/RFECV_Forest.json') as column_file:\n",
    "    RF_COLUMNS = json.load(column_file)\n",
    "    RF_COLUMNS_QUANT = RF_COLUMNS['columns_quant']\n",
    "    RF_COLUMNS_CAT = RF_COLUMNS['columns_cat']\n",
    "    RF_COLUMNS = RF_COLUMNS_QUANT + RF_COLUMNS_CAT\n",
    "\n",
    "with open('backups/PARAMS_Forest.json') as param_file:\n",
    "    RF_PARAMS = json.load(param_file)[best_RF]\n",
    "    RF_PARAMS = convert_keys_to_int(RF_PARAMS)\n",
    "\n",
    "print(f'Variables explicatives forêt aléatoires ({len(RF_COLUMNS)}) :')\n",
    "display(RF_COLUMNS)\n",
    "\n",
    "print(f'Meilleurs paramètres forêt aléatoires ({len(RF_PARAMS)}) :')\n",
    "RF_PARAMS['class_weight'] = {int(k): v for k,v in RF_PARAMS['class_weight'].items()}\n",
    "display(RF_PARAMS)\n",
    "\n",
    "# XGBoost\n",
    "with open('backups/RFECV_XGBoost.json') as column_file:\n",
    "    XGB_COLUMNS = json.load(column_file)\n",
    "    XGB_COLUMNS_QUANT = XGB_COLUMNS['columns_quant']\n",
    "    XGB_COLUMNS_CAT = XGB_COLUMNS['columns_cat']\n",
    "    XGB_COLUMNS = XGB_COLUMNS_QUANT + XGB_COLUMNS_CAT\n",
    "\n",
    "with open('backups/PARAMS_XGBoost.json') as param_file:\n",
    "    XGB_PARAMS = json.load(param_file)[best_XGB]\n",
    "    XGB_PARAMS = convert_keys_to_int(XGB_PARAMS)\n",
    "\n",
    "print(f'Variables explicatives XGBoost ({len(XGB_COLUMNS)}) :')\n",
    "display(XGB_COLUMNS)\n",
    "\n",
    "print(f'Meilleurs paramètres XGBoost ({len(XGB_PARAMS)}) :')\n",
    "display(XGB_PARAMS)\n",
    "\n",
    "# Seuils ajustés\n",
    "with open('backups/THRESHOLD.json') as threshold_file:\n",
    "    SEUILS = json.load(threshold_file)\n",
    "\n",
    "print(\"Seuils ajustés :\")\n",
    "display(SEUILS)"
   ]
  },
  {
   "cell_type": "markdown",
   "metadata": {},
   "source": [
    "## 1. Régression logistique"
   ]
  },
  {
   "cell_type": "code",
   "execution_count": 4,
   "metadata": {},
   "outputs": [],
   "source": [
    "df_train = pd.read_csv('data/df_train_prepro.csv').sample(frac=1)\n",
    "df_test = pd.read_csv('data/df_test_prepro.csv').sample(frac=1)\n",
    "datasets_df_train = datasets(df_train, columns_quant=LR_COLUMNS_QUANT, columns_cat=LR_COLUMNS_CAT, drop='first', verbose=False)\n",
    "datasets_df_test = datasets(df_test, columns_quant=LR_COLUMNS_QUANT, columns_cat=LR_COLUMNS_CAT, drop='first', verbose=False)\n",
    "X_train_LR = datasets_df_train['X_only_quant_scaled']\n",
    "y_train_LR = datasets_df_train['y']\n",
    "X_test_LR = datasets_df_test['X_only_quant_scaled']\n",
    "y_test_LR = datasets_df_test['y']"
   ]
  },
  {
   "cell_type": "code",
   "execution_count": 5,
   "metadata": {},
   "outputs": [
    {
     "name": "stdout",
     "output_type": "stream",
     "text": [
      "CPU times: user 38.2 s, sys: 1min 34s, total: 2min 12s\n",
      "Wall time: 2.88 s\n"
     ]
    }
   ],
   "source": [
    "%%time\n",
    "clf_LR = LogisticRegression(**LR_PARAMS)\n",
    "t = time.time()\n",
    "clf_LR.fit(X_train_LR, y_train_LR)\n",
    "train_time_LR = time.time() - t"
   ]
  },
  {
   "cell_type": "code",
   "execution_count": 6,
   "metadata": {},
   "outputs": [],
   "source": [
    "def final_predictor_LR(X):\n",
    "    y_probas = clf_LR.predict_proba(X)[:, 1]\n",
    "    return (y_probas >= SEUILS['LR']) * 1"
   ]
  },
  {
   "cell_type": "markdown",
   "metadata": {},
   "source": [
    "Matrice de confusion"
   ]
  },
  {
   "cell_type": "code",
   "execution_count": 7,
   "metadata": {},
   "outputs": [
    {
     "data": {
      "image/png": "[encoded data removed]",
      "text/plain": [
       "<Figure size 432x288 with 2 Axes>"
      ]
     },
     "metadata": {
      "needs_background": "light"
     },
     "output_type": "display_data"
    }
   ],
   "source": [
    "y_pred = final_predictor_LR(X_test_LR)\n",
    "cm = confusion_matrix(y_test_LR, y_pred)\n",
    "disp = ConfusionMatrixDisplay(confusion_matrix=cm)\n",
    "disp.plot(cmap='Blues')\n",
    "plt.show()"
   ]
  },
  {
   "cell_type": "markdown",
   "metadata": {},
   "source": [
    "Courbe ROC"
   ]
  },
  {
   "cell_type": "code",
   "execution_count": 8,
   "metadata": {},
   "outputs": [
    {
     "data": {
      "image/png": "[encoded data removed]",
      "text/plain": [
       "<Figure size 432x288 with 1 Axes>"
      ]
     },
     "metadata": {
      "needs_background": "light"
     },
     "output_type": "display_data"
    }
   ],
   "source": [
    "y_probas = clf_LR.predict_proba(X_test_LR)[:, 1]\n",
    "fpr, tpr, _ = roc_curve(y_test_LR, y_probas)\n",
    "plt.plot(fpr, tpr, label=f\"Régression Logistique ajustée\")\n",
    "plt.plot([0, 1], [0, 1], \"r-\", label='Classifieur aléatoire')\n",
    "plt.plot([0, 0, 1], [0, 1, 1], 'b-', label='Classifieur parfait')\n",
    "plt.legend()\n",
    "plt.title('Courbe ROC')\n",
    "plt.show()"
   ]
  },
  {
   "cell_type": "markdown",
   "metadata": {},
   "source": [
    "Métriques"
   ]
  },
  {
   "cell_type": "code",
   "execution_count": 9,
   "metadata": {},
   "outputs": [
    {
     "data": {
      "text/html": [
       "<div>\n",
       "<style scoped>\n",
       "    .dataframe tbody tr th:only-of-type {\n",
       "        vertical-align: middle;\n",
       "    }\n",
       "\n",
       "    .dataframe tbody tr th {\n",
       "        vertical-align: top;\n",
       "    }\n",
       "\n",
       "    .dataframe thead th {\n",
       "        text-align: right;\n",
       "    }\n",
       "</style>\n",
       "<table border=\"1\" class=\"dataframe\">\n",
       "  <thead>\n",
       "    <tr style=\"text-align: right;\">\n",
       "      <th></th>\n",
       "      <th>Précicion</th>\n",
       "      <th>Rappel</th>\n",
       "      <th>Score F1</th>\n",
       "      <th>Score F3</th>\n",
       "      <th>Score F5</th>\n",
       "      <th>Aire sous la courbe ROC</th>\n",
       "      <th>Durée d'apprentissage</th>\n",
       "      <th>Durée de prédiction</th>\n",
       "    </tr>\n",
       "    <tr>\n",
       "      <th>Modèle</th>\n",
       "      <th></th>\n",
       "      <th></th>\n",
       "      <th></th>\n",
       "      <th></th>\n",
       "      <th></th>\n",
       "      <th></th>\n",
       "      <th></th>\n",
       "      <th></th>\n",
       "    </tr>\n",
       "  </thead>\n",
       "  <tbody>\n",
       "    <tr>\n",
       "      <th>Régression logistique</th>\n",
       "      <td>0.139673</td>\n",
       "      <td>0.670225</td>\n",
       "      <td>0.231171</td>\n",
       "      <td>0.485722</td>\n",
       "      <td>0.584789</td>\n",
       "      <td>0.710216</td>\n",
       "      <td>2.88178</td>\n",
       "      <td>0.011863</td>\n",
       "    </tr>\n",
       "  </tbody>\n",
       "</table>\n",
       "</div>"
      ],
      "text/plain": [
       "                       Précicion    Rappel  Score F1  Score F3  Score F5  \\\n",
       "Modèle                                                                     \n",
       "Régression logistique   0.139673  0.670225  0.231171  0.485722  0.584789   \n",
       "\n",
       "                       Aire sous la courbe ROC  Durée d'apprentissage  \\\n",
       "Modèle                                                                  \n",
       "Régression logistique                 0.710216                2.88178   \n",
       "\n",
       "                       Durée de prédiction  \n",
       "Modèle                                      \n",
       "Régression logistique             0.011863  "
      ]
     },
     "execution_count": 9,
     "metadata": {},
     "output_type": "execute_result"
    }
   ],
   "source": [
    "t = time.time()\n",
    "y_pred = final_predictor_LR(X_test_LR)\n",
    "pred_time_LR = time.time() - t\n",
    "recall, precision = recall_score(y_test_LR, y_pred), precision_score(y_test_LR, y_pred)\n",
    "\n",
    "METRIQUES_LR = pd.DataFrame({\"Modèle\": \"Régression logistique\",\n",
    "    \"Précicion\": [precision],\n",
    "    \"Rappel\": [recall],\n",
    "    \"Score F1\": [(2 * precision * recall) / (precision + recall)],\n",
    "    \"Score F3\": [(10 * precision * recall) / (9 * precision + recall)],\n",
    "    \"Score F5\": [(26 * precision * recall) / (25 * precision + recall)],\n",
    "    \"Aire sous la courbe ROC\": [roc_auc_score(y_test_LR, y_pred)],\n",
    "    \"Durée d'apprentissage\": [train_time_LR],\n",
    "    \"Durée de prédiction\": [pred_time_LR]}).set_index(\"Modèle\")\n",
    "\n",
    "METRIQUES_LR"
   ]
  },
  {
   "cell_type": "markdown",
   "metadata": {},
   "source": [
    "## 2. Random Forest"
   ]
  },
  {
   "cell_type": "code",
   "execution_count": 10,
   "metadata": {},
   "outputs": [],
   "source": [
    "df_train = pd.read_csv('data/df_train_prepro.csv').sample(frac=1)\n",
    "df_test = pd.read_csv('data/df_test_prepro.csv').sample(frac=1)\n",
    "datasets_df_train = datasets(df_train, columns_quant=RF_COLUMNS_QUANT, columns_cat=RF_COLUMNS_CAT, verbose=False)\n",
    "datasets_df_test = datasets(df_test, columns_quant=RF_COLUMNS_QUANT, columns_cat=RF_COLUMNS_CAT, verbose=False)\n",
    "X_train_RF = datasets_df_train['X']\n",
    "y_train_RF = datasets_df_train['y']\n",
    "X_test_RF = datasets_df_test['X']\n",
    "y_test_RF = datasets_df_test['y']"
   ]
  },
  {
   "cell_type": "code",
   "execution_count": 11,
   "metadata": {},
   "outputs": [
    {
     "name": "stdout",
     "output_type": "stream",
     "text": [
      "CPU times: user 1h 36min 53s, sys: 21 s, total: 1h 37min 14s\n",
      "Wall time: 1min 55s\n"
     ]
    }
   ],
   "source": [
    "%%time\n",
    "clf_RF = RandomForestClassifier(**RF_PARAMS)\n",
    "t = time.time()\n",
    "clf_RF.fit(X_train_RF, y_train_RF)\n",
    "train_time_RF = time.time() - t"
   ]
  },
  {
   "cell_type": "code",
   "execution_count": 12,
   "metadata": {},
   "outputs": [],
   "source": [
    "def final_predictor_RF(X):\n",
    "    y_probas = clf_RF.predict_proba(X)[:, 1]\n",
    "    return (y_probas >= SEUILS['Forest']) * 1"
   ]
  },
  {
   "cell_type": "markdown",
   "metadata": {},
   "source": [
    "Matrice de confusion"
   ]
  },
  {
   "cell_type": "code",
   "execution_count": 13,
   "metadata": {},
   "outputs": [
    {
     "data": {
      "image/png": "[encoded data removed]",
      "text/plain": [
       "<Figure size 432x288 with 2 Axes>"
      ]
     },
     "metadata": {
      "needs_background": "light"
     },
     "output_type": "display_data"
    }
   ],
   "source": [
    "y_pred = final_predictor_RF(X_test_RF)\n",
    "cm = confusion_matrix(y_test_RF, y_pred)\n",
    "disp = ConfusionMatrixDisplay(confusion_matrix=cm)\n",
    "disp.plot(cmap='Blues')\n",
    "plt.show()"
   ]
  },
  {
   "cell_type": "markdown",
   "metadata": {},
   "source": [
    "Courbe ROC"
   ]
  },
  {
   "cell_type": "code",
   "execution_count": 14,
   "metadata": {},
   "outputs": [
    {
     "data": {
      "image/png": "[encoded data removed]",
      "text/plain": [
       "<Figure size 432x288 with 1 Axes>"
      ]
     },
     "metadata": {
      "needs_background": "light"
     },
     "output_type": "display_data"
    }
   ],
   "source": [
    "y_probas = clf_RF.predict_proba(X_test_RF)[:, 1]\n",
    "fpr, tpr, _ = roc_curve(y_test_RF, y_probas)\n",
    "plt.plot(fpr, tpr, label=f\"Forêt aléatoires ajustées\")\n",
    "plt.plot([0, 1], [0, 1], \"r-\", label='Classifieur aléatoire')\n",
    "plt.plot([0, 0, 1], [0, 1, 1], 'b-', label='Classifieur parfait')\n",
    "plt.legend()\n",
    "plt.title('Courbe ROC')\n",
    "plt.show()"
   ]
  },
  {
   "cell_type": "markdown",
   "metadata": {},
   "source": [
    "Métriques"
   ]
  },
  {
   "cell_type": "code",
   "execution_count": 15,
   "metadata": {},
   "outputs": [
    {
     "data": {
      "text/html": [
       "<div>\n",
       "<style scoped>\n",
       "    .dataframe tbody tr th:only-of-type {\n",
       "        vertical-align: middle;\n",
       "    }\n",
       "\n",
       "    .dataframe tbody tr th {\n",
       "        vertical-align: top;\n",
       "    }\n",
       "\n",
       "    .dataframe thead th {\n",
       "        text-align: right;\n",
       "    }\n",
       "</style>\n",
       "<table border=\"1\" class=\"dataframe\">\n",
       "  <thead>\n",
       "    <tr style=\"text-align: right;\">\n",
       "      <th></th>\n",
       "      <th>Précicion</th>\n",
       "      <th>Rappel</th>\n",
       "      <th>Score F1</th>\n",
       "      <th>Score F3</th>\n",
       "      <th>Score F5</th>\n",
       "      <th>Aire sous la courbe ROC</th>\n",
       "      <th>Durée d'apprentissage</th>\n",
       "      <th>Durée de prédiction</th>\n",
       "    </tr>\n",
       "    <tr>\n",
       "      <th>Modèle</th>\n",
       "      <th></th>\n",
       "      <th></th>\n",
       "      <th></th>\n",
       "      <th></th>\n",
       "      <th></th>\n",
       "      <th></th>\n",
       "      <th></th>\n",
       "      <th></th>\n",
       "    </tr>\n",
       "  </thead>\n",
       "  <tbody>\n",
       "    <tr>\n",
       "      <th>Forêt aléatoires</th>\n",
       "      <td>0.159155</td>\n",
       "      <td>0.731984</td>\n",
       "      <td>0.261461</td>\n",
       "      <td>0.538255</td>\n",
       "      <td>0.642976</td>\n",
       "      <td>0.748995</td>\n",
       "      <td>115.162244</td>\n",
       "      <td>0.642656</td>\n",
       "    </tr>\n",
       "  </tbody>\n",
       "</table>\n",
       "</div>"
      ],
      "text/plain": [
       "                  Précicion    Rappel  Score F1  Score F3  Score F5  \\\n",
       "Modèle                                                                \n",
       "Forêt aléatoires   0.159155  0.731984  0.261461  0.538255  0.642976   \n",
       "\n",
       "                  Aire sous la courbe ROC  Durée d'apprentissage  \\\n",
       "Modèle                                                             \n",
       "Forêt aléatoires                 0.748995             115.162244   \n",
       "\n",
       "                  Durée de prédiction  \n",
       "Modèle                                 \n",
       "Forêt aléatoires             0.642656  "
      ]
     },
     "execution_count": 15,
     "metadata": {},
     "output_type": "execute_result"
    }
   ],
   "source": [
    "t = time.time()\n",
    "y_pred = final_predictor_RF(X_test_RF)\n",
    "pred_time_RF = time.time() - t\n",
    "recall, precision = recall_score(y_test_RF, y_pred), precision_score(y_test_RF, y_pred)\n",
    "\n",
    "METRIQUES_RF = pd.DataFrame({\"Modèle\": \"Forêt aléatoires\",\n",
    "    \"Précicion\": [precision],\n",
    "    \"Rappel\": [recall],\n",
    "    \"Score F1\": [(2 * precision * recall) / (precision + recall)],\n",
    "    \"Score F3\": [(10 * precision * recall) / (9 * precision + recall)],\n",
    "    \"Score F5\": [(26 * precision * recall) / (25 * precision + recall)],\n",
    "    \"Aire sous la courbe ROC\": [roc_auc_score(y_test_RF, y_pred)],\n",
    "    \"Durée d'apprentissage\": [train_time_RF],\n",
    "    \"Durée de prédiction\": [pred_time_RF]}).set_index(\"Modèle\")\n",
    "\n",
    "METRIQUES_RF"
   ]
  },
  {
   "cell_type": "markdown",
   "metadata": {},
   "source": [
    "## 3. XGBoost"
   ]
  },
  {
   "cell_type": "code",
   "execution_count": 16,
   "metadata": {},
   "outputs": [],
   "source": [
    "df_train = pd.read_csv('data/df_train_prepro.csv').sample(frac=1)\n",
    "df_test = pd.read_csv('data/df_test_prepro.csv').sample(frac=1)\n",
    "datasets_df_train = datasets(df_train, columns_quant=XGB_COLUMNS_QUANT, columns_cat=XGB_COLUMNS_CAT, verbose=False)\n",
    "datasets_df_test = datasets(df_test, columns_quant=XGB_COLUMNS_QUANT, columns_cat=XGB_COLUMNS_CAT, verbose=False)\n",
    "X_train_XGB = datasets_df_train['X']\n",
    "y_train_XGB = datasets_df_train['y']\n",
    "X_test_XGB = datasets_df_test['X']\n",
    "y_test_XGB = datasets_df_test['y']"
   ]
  },
  {
   "cell_type": "code",
   "execution_count": 17,
   "metadata": {},
   "outputs": [
    {
     "name": "stdout",
     "output_type": "stream",
     "text": [
      "CPU times: user 6min 12s, sys: 1.35 s, total: 6min 13s\n",
      "Wall time: 13.9 s\n"
     ]
    }
   ],
   "source": [
    "%%time\n",
    "clf_XGB = XGBClassifier(**XGB_PARAMS)\n",
    "t = time.time()\n",
    "clf_XGB.fit(X_train_XGB, y_train_XGB)\n",
    "train_time_XGB = time.time() - t"
   ]
  },
  {
   "cell_type": "code",
   "execution_count": 18,
   "metadata": {},
   "outputs": [],
   "source": [
    "def final_predictor_XGB(X):\n",
    "    y_probas = clf_XGB.predict_proba(X)[:, 1]\n",
    "    return (y_probas >= SEUILS['XGBoost']) * 1"
   ]
  },
  {
   "cell_type": "markdown",
   "metadata": {},
   "source": [
    "Matrice de confusion"
   ]
  },
  {
   "cell_type": "code",
   "execution_count": 19,
   "metadata": {},
   "outputs": [
    {
     "data": {
      "image/png": "[encoded data removed]",
      "text/plain": [
       "<Figure size 432x288 with 2 Axes>"
      ]
     },
     "metadata": {
      "needs_background": "light"
     },
     "output_type": "display_data"
    }
   ],
   "source": [
    "y_pred = final_predictor_XGB(X_test_XGB)\n",
    "cm = confusion_matrix(y_test_XGB, y_pred)\n",
    "disp = ConfusionMatrixDisplay(confusion_matrix=cm)\n",
    "disp.plot(cmap='Blues')\n",
    "plt.show()"
   ]
  },
  {
   "cell_type": "markdown",
   "metadata": {},
   "source": [
    "Courbe ROC"
   ]
  },
  {
   "cell_type": "code",
   "execution_count": 20,
   "metadata": {},
   "outputs": [
    {
     "data": {
      "image/png": "[encoded data removed]",
      "text/plain": [
       "<Figure size 432x288 with 1 Axes>"
      ]
     },
     "metadata": {
      "needs_background": "light"
     },
     "output_type": "display_data"
    }
   ],
   "source": [
    "y_probas = clf_XGB.predict_proba(X_test_XGB)[:, 1]\n",
    "fpr, tpr, _ = roc_curve(y_test_XGB, y_probas)\n",
    "plt.plot(fpr, tpr, label=f\"XGBoost ajustée\")\n",
    "plt.plot([0, 1], [0, 1], \"r-\", label='Classifieur aléatoire')\n",
    "plt.plot([0, 0, 1], [0, 1, 1], 'b-', label='Classifieur parfait')\n",
    "plt.legend()\n",
    "plt.title('Courbe ROC')\n",
    "plt.show()"
   ]
  },
  {
   "cell_type": "markdown",
   "metadata": {},
   "source": [
    "Métriques"
   ]
  },
  {
   "cell_type": "code",
   "execution_count": 21,
   "metadata": {},
   "outputs": [
    {
     "data": {
      "text/html": [
       "<div>\n",
       "<style scoped>\n",
       "    .dataframe tbody tr th:only-of-type {\n",
       "        vertical-align: middle;\n",
       "    }\n",
       "\n",
       "    .dataframe tbody tr th {\n",
       "        vertical-align: top;\n",
       "    }\n",
       "\n",
       "    .dataframe thead th {\n",
       "        text-align: right;\n",
       "    }\n",
       "</style>\n",
       "<table border=\"1\" class=\"dataframe\">\n",
       "  <thead>\n",
       "    <tr style=\"text-align: right;\">\n",
       "      <th></th>\n",
       "      <th>Précicion</th>\n",
       "      <th>Rappel</th>\n",
       "      <th>Score F1</th>\n",
       "      <th>Score F3</th>\n",
       "      <th>Score F5</th>\n",
       "      <th>Aire sous la courbe ROC</th>\n",
       "      <th>Durée d'apprentissage</th>\n",
       "      <th>Durée de prédiction</th>\n",
       "    </tr>\n",
       "    <tr>\n",
       "      <th>Modèle</th>\n",
       "      <th></th>\n",
       "      <th></th>\n",
       "      <th></th>\n",
       "      <th></th>\n",
       "      <th></th>\n",
       "      <th></th>\n",
       "      <th></th>\n",
       "      <th></th>\n",
       "    </tr>\n",
       "  </thead>\n",
       "  <tbody>\n",
       "    <tr>\n",
       "      <th>XGBoost</th>\n",
       "      <td>0.146983</td>\n",
       "      <td>0.757895</td>\n",
       "      <td>0.246216</td>\n",
       "      <td>0.535374</td>\n",
       "      <td>0.653437</td>\n",
       "      <td>0.745878</td>\n",
       "      <td>13.909576</td>\n",
       "      <td>0.058849</td>\n",
       "    </tr>\n",
       "  </tbody>\n",
       "</table>\n",
       "</div>"
      ],
      "text/plain": [
       "         Précicion    Rappel  Score F1  Score F3  Score F5  \\\n",
       "Modèle                                                       \n",
       "XGBoost   0.146983  0.757895  0.246216  0.535374  0.653437   \n",
       "\n",
       "         Aire sous la courbe ROC  Durée d'apprentissage  Durée de prédiction  \n",
       "Modèle                                                                        \n",
       "XGBoost                 0.745878              13.909576             0.058849  "
      ]
     },
     "execution_count": 21,
     "metadata": {},
     "output_type": "execute_result"
    }
   ],
   "source": [
    "t = time.time()\n",
    "y_pred = final_predictor_XGB(X_test_XGB)\n",
    "pred_time_XGB = time.time() - t\n",
    "recall, precision = recall_score(y_test_XGB, y_pred), precision_score(y_test_XGB, y_pred)\n",
    "\n",
    "METRIQUES_XGB = pd.DataFrame({\"Modèle\": \"XGBoost\",\n",
    "    \"Précicion\": [precision],\n",
    "    \"Rappel\": [recall],\n",
    "    \"Score F1\": [(2 * precision * recall) / (precision + recall)],\n",
    "    \"Score F3\": [(10 * precision * recall) / (9 * precision + recall)],\n",
    "    \"Score F5\": [(26 * precision * recall) / (25 * precision + recall)],\n",
    "    \"Aire sous la courbe ROC\": [roc_auc_score(y_test_XGB, y_pred)],\n",
    "    \"Durée d'apprentissage\": [train_time_XGB],\n",
    "    \"Durée de prédiction\": [pred_time_XGB]}).set_index(\"Modèle\")\n",
    "\n",
    "METRIQUES_XGB"
   ]
  },
  {
   "cell_type": "markdown",
   "metadata": {},
   "source": [
    "## 4. Tableau récapitulatif\n",
    "\n",
    "Modèles classés par F3."
   ]
  },
  {
   "cell_type": "code",
   "execution_count": 22,
   "metadata": {},
   "outputs": [
    {
     "data": {
      "text/html": [
       "<style  type=\"text/css\" >\n",
       "#T_3186a_row0_col0,#T_3186a_row0_col2,#T_3186a_row0_col3,#T_3186a_row0_col5,#T_3186a_row1_col1,#T_3186a_row1_col4,#T_3186a_row2_col6,#T_3186a_row2_col7{\n",
       "            background-color:  #08306b;\n",
       "            color:  #f1f1f1;\n",
       "        }#T_3186a_row0_col1{\n",
       "            background-color:  #2d7dbb;\n",
       "            color:  #000000;\n",
       "        }#T_3186a_row0_col4{\n",
       "            background-color:  #0e58a2;\n",
       "            color:  #f1f1f1;\n",
       "        }#T_3186a_row0_col6,#T_3186a_row0_col7,#T_3186a_row2_col0,#T_3186a_row2_col1,#T_3186a_row2_col2,#T_3186a_row2_col3,#T_3186a_row2_col4,#T_3186a_row2_col5{\n",
       "            background-color:  #f7fbff;\n",
       "            color:  #000000;\n",
       "        }#T_3186a_row1_col0{\n",
       "            background-color:  #9dcae1;\n",
       "            color:  #000000;\n",
       "        }#T_3186a_row1_col2{\n",
       "            background-color:  #6caed6;\n",
       "            color:  #000000;\n",
       "        }#T_3186a_row1_col3{\n",
       "            background-color:  #083e81;\n",
       "            color:  #f1f1f1;\n",
       "        }#T_3186a_row1_col5{\n",
       "            background-color:  #08458a;\n",
       "            color:  #f1f1f1;\n",
       "        }#T_3186a_row1_col6{\n",
       "            background-color:  #084a91;\n",
       "            color:  #f1f1f1;\n",
       "        }#T_3186a_row1_col7{\n",
       "            background-color:  #084488;\n",
       "            color:  #f1f1f1;\n",
       "        }</style><table id=\"T_3186a_\" ><thead>    <tr>        <th class=\"blank level0\" ></th>        <th class=\"col_heading level0 col0\" >Précicion</th>        <th class=\"col_heading level0 col1\" >Rappel</th>        <th class=\"col_heading level0 col2\" >Score F1</th>        <th class=\"col_heading level0 col3\" >Score F3</th>        <th class=\"col_heading level0 col4\" >Score F5</th>        <th class=\"col_heading level0 col5\" >Aire sous la courbe ROC</th>        <th class=\"col_heading level0 col6\" >Durée d'apprentissage</th>        <th class=\"col_heading level0 col7\" >Durée de prédiction</th>    </tr>    <tr>        <th class=\"index_name level0\" >Modèle</th>        <th class=\"blank\" ></th>        <th class=\"blank\" ></th>        <th class=\"blank\" ></th>        <th class=\"blank\" ></th>        <th class=\"blank\" ></th>        <th class=\"blank\" ></th>        <th class=\"blank\" ></th>        <th class=\"blank\" ></th>    </tr></thead><tbody>\n",
       "                <tr>\n",
       "                        <th id=\"T_3186a_level0_row0\" class=\"row_heading level0 row0\" >Forêt aléatoires</th>\n",
       "                        <td id=\"T_3186a_row0_col0\" class=\"data row0 col0\" >0.159155</td>\n",
       "                        <td id=\"T_3186a_row0_col1\" class=\"data row0 col1\" >0.731984</td>\n",
       "                        <td id=\"T_3186a_row0_col2\" class=\"data row0 col2\" >0.261461</td>\n",
       "                        <td id=\"T_3186a_row0_col3\" class=\"data row0 col3\" >0.538255</td>\n",
       "                        <td id=\"T_3186a_row0_col4\" class=\"data row0 col4\" >0.642976</td>\n",
       "                        <td id=\"T_3186a_row0_col5\" class=\"data row0 col5\" >0.748995</td>\n",
       "                        <td id=\"T_3186a_row0_col6\" class=\"data row0 col6\" >115.162244</td>\n",
       "                        <td id=\"T_3186a_row0_col7\" class=\"data row0 col7\" >0.642656</td>\n",
       "            </tr>\n",
       "            <tr>\n",
       "                        <th id=\"T_3186a_level0_row1\" class=\"row_heading level0 row1\" >XGBoost</th>\n",
       "                        <td id=\"T_3186a_row1_col0\" class=\"data row1 col0\" >0.146983</td>\n",
       "                        <td id=\"T_3186a_row1_col1\" class=\"data row1 col1\" >0.757895</td>\n",
       "                        <td id=\"T_3186a_row1_col2\" class=\"data row1 col2\" >0.246216</td>\n",
       "                        <td id=\"T_3186a_row1_col3\" class=\"data row1 col3\" >0.535374</td>\n",
       "                        <td id=\"T_3186a_row1_col4\" class=\"data row1 col4\" >0.653437</td>\n",
       "                        <td id=\"T_3186a_row1_col5\" class=\"data row1 col5\" >0.745878</td>\n",
       "                        <td id=\"T_3186a_row1_col6\" class=\"data row1 col6\" >13.909576</td>\n",
       "                        <td id=\"T_3186a_row1_col7\" class=\"data row1 col7\" >0.058849</td>\n",
       "            </tr>\n",
       "            <tr>\n",
       "                        <th id=\"T_3186a_level0_row2\" class=\"row_heading level0 row2\" >Régression logistique</th>\n",
       "                        <td id=\"T_3186a_row2_col0\" class=\"data row2 col0\" >0.139673</td>\n",
       "                        <td id=\"T_3186a_row2_col1\" class=\"data row2 col1\" >0.670225</td>\n",
       "                        <td id=\"T_3186a_row2_col2\" class=\"data row2 col2\" >0.231171</td>\n",
       "                        <td id=\"T_3186a_row2_col3\" class=\"data row2 col3\" >0.485722</td>\n",
       "                        <td id=\"T_3186a_row2_col4\" class=\"data row2 col4\" >0.584789</td>\n",
       "                        <td id=\"T_3186a_row2_col5\" class=\"data row2 col5\" >0.710216</td>\n",
       "                        <td id=\"T_3186a_row2_col6\" class=\"data row2 col6\" >2.881780</td>\n",
       "                        <td id=\"T_3186a_row2_col7\" class=\"data row2 col7\" >0.011863</td>\n",
       "            </tr>\n",
       "    </tbody></table>"
      ],
      "text/plain": [
       "<pandas.io.formats.style.Styler at 0x7f1ccb0bd6d0>"
      ]
     },
     "execution_count": 22,
     "metadata": {},
     "output_type": "execute_result"
    }
   ],
   "source": [
    "RESULTATS = pd.concat([METRIQUES_LR, METRIQUES_RF, METRIQUES_XGB])\n",
    "RESULTATS.sort_values(\"Score F3\", ascending=False, inplace=True)\n",
    "RESULTATS.to_csv('backups/SCORES_comparaison.csv')\n",
    "a = RESULTATS.columns.tolist()\n",
    "a.remove(\"Durée d'apprentissage\")\n",
    "a.remove(\"Durée de prédiction\")\n",
    "RESULTATS.style.background_gradient(cmap='Blues', subset=a).background_gradient(cmap='Blues_r', subset=[\"Durée d'apprentissage\", \"Durée de prédiction\"])"
   ]
  },
  {
   "cell_type": "markdown",
   "metadata": {},
   "source": [
    "Considérant la durée de prédiction et le faible écart de score entre les deux meilleurs modèles en termes de F3, le modèle XGBoost est, parmi ces trois modèles, le plus adapté à notre problématique."
   ]
  },
  {
   "cell_type": "code",
   "execution_count": 23,
   "metadata": {},
   "outputs": [
    {
     "name": "stdout",
     "output_type": "stream",
     "text": [
      "Durée totale d'exécution : 00:03:26\n"
     ]
    }
   ],
   "source": [
    "print(f\"Durée totale d'exécution : {time.strftime('%H:%M:%S', time.gmtime(time.time() - t_debut))}\")"
   ]
  }
 ],
 "metadata": {
  "kernelspec": {
   "display_name": "Python 3",
   "language": "python",
   "name": "python3"
  },
  "language_info": {
   "codemirror_mode": {
    "name": "ipython",
    "version": 3
   },
   "file_extension": ".py",
   "mimetype": "text/x-python",
   "name": "python",
   "nbconvert_exporter": "python",
   "pygments_lexer": "ipython3",
   "version": "3.8.8"
  }
 },
 "nbformat": 4,
 "nbformat_minor": 4
}
