{
 "cells": [
  {
   "cell_type": "code",
   "execution_count": null,
   "metadata": {},
   "outputs": [],
   "source": [
    "import os\n",
    "import time\n",
    "\n",
    "import matplotlib.pyplot as plt\n",
    "import numpy as np\n",
    "import pandas as pd\n",
    "import xgboost as xgb\n",
    "from IPython.display import display\n",
    "from sklearn import metrics\n",
    "from sklearn.feature_selection import RFE, RFECV\n",
    "from sklearn.feature_extraction.text import CountVectorizer, TfidfVectorizer\n",
    "from sklearn.linear_model import Lasso, LassoCV\n",
    "from sklearn.linear_model import LogisticRegression\n",
    "from sklearn.ensemble import RandomForestClassifier\n",
    "from sklearn.tree import DecisionTreeClassifier\n",
    "from xgboost import XGBClassifier\n",
    "from sklearn.model_selection import train_test_split\n",
    "from sklearn.preprocessing import StandardScaler\n",
    "from IPython.display import display\n",
    "from sklearn.linear_model import LogisticRegression\n",
    "from sklearn.model_selection import StratifiedKFold\n",
    "from tools import (COLUMNS_QUANT, COLUMNS_CAT, datasets)\n",
    "from kneed import KneeLocator\n",
    "import json\n",
    "from scipy.sparse import csr_matrix\n",
    "pd.options.display.max_rows = 80\n",
    "\n",
    "f3_scorer = metrics.make_scorer(metrics.fbeta_score, beta=3)\n",
    "f5_scorer = metrics.make_scorer(metrics.fbeta_score, beta=5)\n",
    "\n",
    "t = time.time()"
   ]
  },
  {
   "cell_type": "code",
   "execution_count": null,
   "metadata": {},
   "outputs": [],
   "source": [
    "df = pd.read_csv('data/df_train_prepro.csv').sample(frac=1)\n",
    "df.shape"
   ]
  },
  {
   "cell_type": "markdown",
   "metadata": {},
   "source": [
    "## 1. Régression logistique\n",
    "\n",
    "Pour la régression logistique, on enlève les premières colonnes pour les variables indicatrices."
   ]
  },
  {
   "cell_type": "code",
   "execution_count": null,
   "metadata": {},
   "outputs": [],
   "source": [
    "datasets_df = datasets(df, drop='first')\n",
    "X_quant_scaled = datasets_df['X_quant_scaled']\n",
    "X_only_quant_scaled = datasets_df['X_only_quant_scaled']\n",
    "y = datasets_df['y']"
   ]
  },
  {
   "cell_type": "markdown",
   "metadata": {},
   "source": [
    "### 1.1. Méthode RFE"
   ]
  },
  {
   "cell_type": "code",
   "execution_count": null,
   "metadata": {},
   "outputs": [],
   "source": [
    "def run_RFE(model, n_features_to_select, X, y, export=None):\n",
    "    # create the RFE model and select 3 attributes\n",
    "    rfe = RFE(model, n_features_to_select=n_features_to_select)\n",
    "    X_sparse = csr_matrix(X)\n",
    "    rfe = rfe.fit(X_sparse, y)\n",
    "\n",
    "    # summarize the selection of the attributes\n",
    "    #  print(rfe.support_)\n",
    "    #  print(rfe.ranking_)\n",
    "    \n",
    "    dico = {\"Rank\": rfe.ranking_,\n",
    "            \"Support\": rfe.support_}\n",
    "    rf_df = pd.DataFrame(dico, index=X.columns).sort_values(by='Rank', ascending=True)\n",
    "\n",
    "    display(rf_df)\n",
    "    \n",
    "    support = rf_df[rf_df.Support == True].index.to_list()\n",
    "    \n",
    "    columns_quant = sorted(list(set(support).intersection(set(COLUMNS_QUANT))))    \n",
    "    columns_cat = sorted(list(set(support).difference(set(COLUMNS_QUANT))))\n",
    "    \n",
    "    print(\"Columns_quant :\")\n",
    "    display(columns_quant)\n",
    "    print(\"\\nColumns_cat :\")\n",
    "    display(columns_cat)    \n",
    "    \n",
    "    if export:        \n",
    "        dico_export = {'columns_quant': columns_quant,\n",
    "                   'columns_cat': columns_cat}\n",
    "        with open(f\"backups/{export}.json\", 'w') as f:\n",
    "            json.dump(dico_export, f)\n",
    "        print(f\"\\nExportation : backups/{export}.json\")"
   ]
  },
  {
   "cell_type": "code",
   "execution_count": null,
   "metadata": {},
   "outputs": [],
   "source": [
    "%%time\n",
    "model = LogisticRegression()\n",
    "run_RFE(model, 8, X_quant_scaled, y)"
   ]
  },
  {
   "cell_type": "code",
   "execution_count": null,
   "metadata": {},
   "outputs": [],
   "source": [
    "%%time\n",
    "model = LogisticRegression()\n",
    "run_RFE(model, 3, X_quant_scaled, y)"
   ]
  },
  {
   "cell_type": "markdown",
   "metadata": {},
   "source": [
    "Pour ne pas avoir à définir un nombre de features, nous allons utiliser une méthode de Cross Validation qui permettra de calculer le nombre de features optimal."
   ]
  },
  {
   "cell_type": "markdown",
   "metadata": {},
   "source": [
    "### 1.2. Méthode RFECV"
   ]
  },
  {
   "cell_type": "code",
   "execution_count": null,
   "metadata": {},
   "outputs": [],
   "source": [
    "def run_RFECV(model, X, y, score=f3_scorer, min_features_to_select=1, n_jobs=-1, knee=False):\n",
    "    rfecv = RFECV(estimator=model, step=1, cv=StratifiedKFold(5),\n",
    "                  scoring=score,\n",
    "                  min_features_to_select=min_features_to_select,\n",
    "                  n_jobs=n_jobs)\n",
    "    X_sparse = csr_matrix(X)\n",
    "    rfecv.fit(X_sparse, y)\n",
    "\n",
    "    # Plot number of features VS. cross-validation scores\n",
    "    plt.figure()\n",
    "    plt.xlabel(\"Nombre de variables sélectionnées\")\n",
    "    if score == f3_scorer:\n",
    "        plt.ylabel(f\"Score F3 moyen\")\n",
    "    else:\n",
    "        plt.ylabel(f\"Score {str(score)} moyen\")\n",
    "    x = range(min_features_to_select, len(rfecv.grid_scores_) + min_features_to_select)\n",
    "    y = rfecv.grid_scores_\n",
    "    plt.plot(x, y)\n",
    "    if type(knee) == bool and knee:\n",
    "        kneedle = KneeLocator(x, y)\n",
    "        plt.vlines(kneedle.knee, plt.ylim()[0], plt.ylim()[1], linestyles=\"--\", color='black', label=\"Coude\")\n",
    "    if type(knee) == int:\n",
    "        plt.vlines(knee, plt.ylim()[0], plt.ylim()[1], linestyles=\"--\", color='black', label=\"Coude\")\n",
    "    plt.show()\n",
    "\n",
    "    if type(knee) == bool and knee:\n",
    "        print(f\"Nombre optimal de variables à sélectionner (coude) : {kneedle.knee}\")\n",
    "        return kneedle.knee\n",
    "    if type(knee) == int:\n",
    "        print(f\"Nombre optimal de variables à sélectionner (coude) : {knee}\")\n",
    "        return knee"
   ]
  },
  {
   "cell_type": "markdown",
   "metadata": {},
   "source": [
    "#### 1.2.1. Variables quantitatives"
   ]
  },
  {
   "cell_type": "code",
   "execution_count": null,
   "metadata": {},
   "outputs": [],
   "source": [
    "%%time\n",
    "model = LogisticRegression()\n",
    "knee = run_RFECV(model, X_quant_scaled, y, score=f3_scorer, knee=True)"
   ]
  },
  {
   "cell_type": "markdown",
   "metadata": {},
   "source": [
    "Le nombre de features optimal semble être 4. Nous allons donc maintenant calculer une RFE avec cette valeur pour déterminer les features à conserver."
   ]
  },
  {
   "cell_type": "code",
   "execution_count": null,
   "metadata": {},
   "outputs": [],
   "source": [
    "%%time\n",
    "model = LogisticRegression()\n",
    "run_RFE(model, 4, X_quant_scaled, y)"
   ]
  },
  {
   "cell_type": "markdown",
   "metadata": {},
   "source": [
    "#### 1.2.2. Variables quantitatives + catégorielles"
   ]
  },
  {
   "cell_type": "markdown",
   "metadata": {},
   "source": [
    "Rajoutons à présent les variables catégorielles."
   ]
  },
  {
   "cell_type": "code",
   "execution_count": null,
   "metadata": {},
   "outputs": [],
   "source": [
    "%%time\n",
    "model = LogisticRegression()\n",
    "knee = run_RFECV(model, X_only_quant_scaled, y, score=f3_scorer, knee=11)"
   ]
  },
  {
   "cell_type": "markdown",
   "metadata": {},
   "source": [
    "Le nombre de features optimal semble être 11. Nous allons donc maintenant calculer une RFE avec cette valeur pour déterminer les features à conserver."
   ]
  },
  {
   "cell_type": "code",
   "execution_count": null,
   "metadata": {},
   "outputs": [],
   "source": [
    "%%time\n",
    "model = LogisticRegression()\n",
    "run_RFE(model, 11, X_only_quant_scaled, y, export='RFECV_LR')"
   ]
  },
  {
   "cell_type": "markdown",
   "metadata": {},
   "source": [
    "## 2. Random Forest\n",
    "\n",
    "Pour les modèles de type arbre, il n'est pas nécessaire d'enlever toutes les premières colonnes des variables indicatrices."
   ]
  },
  {
   "cell_type": "code",
   "execution_count": null,
   "metadata": {},
   "outputs": [],
   "source": [
    "datasets_df = datasets(df, drop='if_binary')\n",
    "X = datasets_df['X']\n",
    "y = datasets_df['y']"
   ]
  },
  {
   "cell_type": "code",
   "execution_count": null,
   "metadata": {},
   "outputs": [],
   "source": [
    "%%time\n",
    "model = RandomForestClassifier(n_jobs=-1)\n",
    "knee = run_RFECV(model, X, y, score=f3_scorer, n_jobs=1, knee=9)"
   ]
  },
  {
   "cell_type": "markdown",
   "metadata": {},
   "source": [
    "Le nombre de features optimal semble être 9. Nous allons donc maintenant calculer une RFE avec cette valeur pour déterminer les features à conserver."
   ]
  },
  {
   "cell_type": "code",
   "execution_count": null,
   "metadata": {},
   "outputs": [],
   "source": [
    "%%time\n",
    "model = RandomForestClassifier(n_jobs=-1)\n",
    "run_RFE(model, 9, X, y, export='RFECV_Forest')"
   ]
  },
  {
   "cell_type": "markdown",
   "metadata": {},
   "source": [
    "## 3. XGBoost"
   ]
  },
  {
   "cell_type": "code",
   "execution_count": null,
   "metadata": {},
   "outputs": [],
   "source": [
    "%%time\n",
    "model = XGBClassifier(n_jobs=-1)\n",
    "knee = run_RFECV(model, X, y, score=f3_scorer, n_jobs=1, knee=True)"
   ]
  },
  {
   "cell_type": "code",
   "execution_count": null,
   "metadata": {},
   "outputs": [],
   "source": [
    "%%time\n",
    "model = XGBClassifier(n_jobs=-1)\n",
    "run_RFE(model, 8, X, y, export='RFECV_XGBoost')"
   ]
  },
  {
   "cell_type": "code",
   "execution_count": null,
   "metadata": {},
   "outputs": [],
   "source": [
    "print(f\"Temps d'exécution total : {time.strftime('%H:%M:%S', time.gmtime(time.time()-t))}\")"
   ]
  }
 ],
 "metadata": {
  "kernelspec": {
   "display_name": "Python 3",
   "language": "python",
   "name": "python3"
  },
  "language_info": {
   "codemirror_mode": {
    "name": "ipython",
    "version": 3
   },
   "file_extension": ".py",
   "mimetype": "text/x-python",
   "name": "python",
   "nbconvert_exporter": "python",
   "pygments_lexer": "ipython3",
   "version": "3.8.8"
  }
 },
 "nbformat": 4,
 "nbformat_minor": 4
}
