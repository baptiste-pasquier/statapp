{
 "cells": [
  {
   "cell_type": "code",
   "execution_count": 1,
   "metadata": {},
   "outputs": [],
   "source": [
    "import json\n",
    "import time\n",
    "\n",
    "import matplotlib.pyplot as plt\n",
    "import pandas as pd\n",
    "from IPython.display import display\n",
    "from kneed import KneeLocator\n",
    "from scipy.sparse import csr_matrix\n",
    "from sklearn import metrics\n",
    "from sklearn.ensemble import RandomForestClassifier\n",
    "from sklearn.feature_selection import RFE, RFECV\n",
    "from sklearn.linear_model import LogisticRegression\n",
    "from sklearn.model_selection import StratifiedKFold\n",
    "from xgboost import XGBClassifier\n",
    "\n",
    "from tools import COLUMNS_CAT, COLUMNS_QUANT, datasets\n",
    "\n",
    "pd.options.display.max_rows = 80\n",
    "\n",
    "f3_scorer = metrics.make_scorer(metrics.fbeta_score, beta=3)\n",
    "f5_scorer = metrics.make_scorer(metrics.fbeta_score, beta=5)\n",
    "\n",
    "t = time.time()"
   ]
  },
  {
   "cell_type": "code",
   "execution_count": 2,
   "metadata": {},
   "outputs": [
    {
     "data": {
      "text/plain": [
       "(1610494, 48)"
      ]
     },
     "execution_count": 2,
     "metadata": {},
     "output_type": "execute_result"
    }
   ],
   "source": [
    "df = pd.read_csv('data/df_train_prepro.csv').sample(frac=1, random_state=1234)\n",
    "df.shape"
   ]
  },
  {
   "cell_type": "markdown",
   "metadata": {},
   "source": [
    "## 1. Régression logistique\n",
    "\n",
    "Pour la régression logistique, on enlève les premières colonnes pour les variables indicatrices."
   ]
  },
  {
   "cell_type": "code",
   "execution_count": 3,
   "metadata": {},
   "outputs": [
    {
     "name": "stdout",
     "output_type": "stream",
     "text": [
      "Columns_quant : default\n",
      "Columns_cat : default\n",
      "drop : first\n",
      "\n",
      "Nombre de variables pour X_quant : 13\n",
      "\n"
     ]
    },
    {
     "data": {
      "text/plain": [
       "Index(['contextid', 'campaignctrlast24h', 'dayssincelastvisitdouble',\n",
       "       'ltf_nbglobaldisplay_4w', 'ltf_nbpartnerdisplayssincelastclick',\n",
       "       'ltf_nbpartnerdisplay_90d', 'ltf_nbpartnerclick_90d',\n",
       "       'ltf_nbpartnersales_90d', 'nbdayssincelastclick', 'nbdisplay_1hour',\n",
       "       'nbdisplayglobalapprox_1d_sum_xdevice', 'display_size',\n",
       "       'zonecostineuro'],\n",
       "      dtype='object')"
      ]
     },
     "metadata": {},
     "output_type": "display_data"
    },
    {
     "name": "stdout",
     "output_type": "stream",
     "text": [
      "\n",
      "Nombre de variables pour X_cat : 50\n",
      "\n"
     ]
    },
    {
     "data": {
      "text/plain": [
       "Index(['display_env_app_ios', 'display_env_other', 'display_env_web',\n",
       "       'target_env_2', 'campaignscenario_5', 'campaignscenario_6',\n",
       "       'campaignscenario_11', 'campaignscenario_12', 'campaignscenario_13',\n",
       "       'campaignscenario_17', 'campaignvertical_20.0', 'campaignvertical_23.0',\n",
       "       'campaignvertical_129.0', 'campaignvertical_200002.0',\n",
       "       'is_interstitial_True', 'device_type_Desktop',\n",
       "       'device_type_Desktop - Safari', 'device_type_Mobile - Other',\n",
       "       'device_type_Unknown', 'device_type_iPad', 'device_type_iPhone',\n",
       "       'hour_1', 'hour_2', 'hour_3', 'hour_4', 'hour_5', 'hour_6', 'hour_7',\n",
       "       'hour_8', 'hour_9', 'hour_10', 'hour_11', 'hour_12', 'hour_13',\n",
       "       'hour_14', 'hour_15', 'hour_16', 'hour_17', 'hour_18', 'hour_19',\n",
       "       'hour_20', 'hour_21', 'hour_22', 'hour_23', 'weekday_Monday',\n",
       "       'weekday_Saturday', 'weekday_Sunday', 'weekday_Thursday',\n",
       "       'weekday_Tuesday', 'weekday_Wednesday'],\n",
       "      dtype='object')"
      ]
     },
     "metadata": {},
     "output_type": "display_data"
    },
    {
     "name": "stdout",
     "output_type": "stream",
     "text": [
      "\n",
      "Nombre de variables pour X : 63\n"
     ]
    }
   ],
   "source": [
    "datasets_df = datasets(df, drop='first')\n",
    "X_quant_scaled = datasets_df['X_quant_scaled']\n",
    "X_only_quant_scaled = datasets_df['X_only_quant_scaled']\n",
    "y = datasets_df['y']"
   ]
  },
  {
   "cell_type": "markdown",
   "metadata": {},
   "source": [
    "### 1.1. Méthode RFE"
   ]
  },
  {
   "cell_type": "code",
   "execution_count": 4,
   "metadata": {},
   "outputs": [],
   "source": [
    "def run_RFE(model, n_features_to_select, X, y, export=None):\n",
    "    # create the RFE model and select 3 attributes\n",
    "    rfe = RFE(model, n_features_to_select=n_features_to_select)\n",
    "    X_sparse = csr_matrix(X)\n",
    "    rfe = rfe.fit(X_sparse, y)\n",
    "\n",
    "    # summarize the selection of the attributes\n",
    "    #  print(rfe.support_)\n",
    "    #  print(rfe.ranking_)\n",
    "    \n",
    "    dico = {\"Rank\": rfe.ranking_,\n",
    "            \"Support\": rfe.support_}\n",
    "    rf_df = pd.DataFrame(dico, index=X.columns).sort_values(by='Rank', ascending=True)\n",
    "\n",
    "    display(rf_df)\n",
    "    \n",
    "    support = rf_df[rf_df.Support == True].index.to_list()\n",
    "    \n",
    "    columns_quant = sorted(list(set(support).intersection(set(COLUMNS_QUANT))))    \n",
    "    columns_cat = sorted(list(set(support).difference(set(COLUMNS_QUANT))))\n",
    "    \n",
    "    print(\"Columns_quant :\")\n",
    "    display(columns_quant)\n",
    "    print(\"\\nColumns_cat :\")\n",
    "    display(columns_cat)    \n",
    "    \n",
    "    if export:        \n",
    "        dico_export = {'columns_quant': columns_quant,\n",
    "                       'columns_cat': columns_cat}\n",
    "        with open(f\"backups/{export}.json\", 'w') as f:\n",
    "            json.dump(dico_export, f, indent=2)\n",
    "        print(f\"\\nExportation : backups/{export}.json\")"
   ]
  },
  {
   "cell_type": "code",
   "execution_count": 5,
   "metadata": {},
   "outputs": [
    {
     "data": {
      "text/html": [
       "<div>\n",
       "<style scoped>\n",
       "    .dataframe tbody tr th:only-of-type {\n",
       "        vertical-align: middle;\n",
       "    }\n",
       "\n",
       "    .dataframe tbody tr th {\n",
       "        vertical-align: top;\n",
       "    }\n",
       "\n",
       "    .dataframe thead th {\n",
       "        text-align: right;\n",
       "    }\n",
       "</style>\n",
       "<table border=\"1\" class=\"dataframe\">\n",
       "  <thead>\n",
       "    <tr style=\"text-align: right;\">\n",
       "      <th></th>\n",
       "      <th>Rank</th>\n",
       "      <th>Support</th>\n",
       "    </tr>\n",
       "  </thead>\n",
       "  <tbody>\n",
       "    <tr>\n",
       "      <th>campaignctrlast24h</th>\n",
       "      <td>1</td>\n",
       "      <td>True</td>\n",
       "    </tr>\n",
       "    <tr>\n",
       "      <th>ltf_nbpartnerdisplayssincelastclick</th>\n",
       "      <td>1</td>\n",
       "      <td>True</td>\n",
       "    </tr>\n",
       "    <tr>\n",
       "      <th>ltf_nbpartnerclick_90d</th>\n",
       "      <td>1</td>\n",
       "      <td>True</td>\n",
       "    </tr>\n",
       "    <tr>\n",
       "      <th>nbdayssincelastclick</th>\n",
       "      <td>1</td>\n",
       "      <td>True</td>\n",
       "    </tr>\n",
       "    <tr>\n",
       "      <th>nbdisplay_1hour</th>\n",
       "      <td>1</td>\n",
       "      <td>True</td>\n",
       "    </tr>\n",
       "    <tr>\n",
       "      <th>nbdisplayglobalapprox_1d_sum_xdevice</th>\n",
       "      <td>1</td>\n",
       "      <td>True</td>\n",
       "    </tr>\n",
       "    <tr>\n",
       "      <th>display_size</th>\n",
       "      <td>1</td>\n",
       "      <td>True</td>\n",
       "    </tr>\n",
       "    <tr>\n",
       "      <th>zonecostineuro</th>\n",
       "      <td>1</td>\n",
       "      <td>True</td>\n",
       "    </tr>\n",
       "    <tr>\n",
       "      <th>dayssincelastvisitdouble</th>\n",
       "      <td>2</td>\n",
       "      <td>False</td>\n",
       "    </tr>\n",
       "    <tr>\n",
       "      <th>contextid</th>\n",
       "      <td>3</td>\n",
       "      <td>False</td>\n",
       "    </tr>\n",
       "    <tr>\n",
       "      <th>ltf_nbpartnerdisplay_90d</th>\n",
       "      <td>4</td>\n",
       "      <td>False</td>\n",
       "    </tr>\n",
       "    <tr>\n",
       "      <th>ltf_nbglobaldisplay_4w</th>\n",
       "      <td>5</td>\n",
       "      <td>False</td>\n",
       "    </tr>\n",
       "    <tr>\n",
       "      <th>ltf_nbpartnersales_90d</th>\n",
       "      <td>6</td>\n",
       "      <td>False</td>\n",
       "    </tr>\n",
       "  </tbody>\n",
       "</table>\n",
       "</div>"
      ],
      "text/plain": [
       "                                      Rank  Support\n",
       "campaignctrlast24h                       1     True\n",
       "ltf_nbpartnerdisplayssincelastclick      1     True\n",
       "ltf_nbpartnerclick_90d                   1     True\n",
       "nbdayssincelastclick                     1     True\n",
       "nbdisplay_1hour                          1     True\n",
       "nbdisplayglobalapprox_1d_sum_xdevice     1     True\n",
       "display_size                             1     True\n",
       "zonecostineuro                           1     True\n",
       "dayssincelastvisitdouble                 2    False\n",
       "contextid                                3    False\n",
       "ltf_nbpartnerdisplay_90d                 4    False\n",
       "ltf_nbglobaldisplay_4w                   5    False\n",
       "ltf_nbpartnersales_90d                   6    False"
      ]
     },
     "metadata": {},
     "output_type": "display_data"
    },
    {
     "name": "stdout",
     "output_type": "stream",
     "text": [
      "Columns_quant :\n"
     ]
    },
    {
     "data": {
      "text/plain": [
       "['campaignctrlast24h',\n",
       " 'display_size',\n",
       " 'ltf_nbpartnerclick_90d',\n",
       " 'ltf_nbpartnerdisplayssincelastclick',\n",
       " 'nbdayssincelastclick',\n",
       " 'nbdisplay_1hour',\n",
       " 'nbdisplayglobalapprox_1d_sum_xdevice',\n",
       " 'zonecostineuro']"
      ]
     },
     "metadata": {},
     "output_type": "display_data"
    },
    {
     "name": "stdout",
     "output_type": "stream",
     "text": [
      "\n",
      "Columns_cat :\n"
     ]
    },
    {
     "data": {
      "text/plain": [
       "[]"
      ]
     },
     "metadata": {},
     "output_type": "display_data"
    },
    {
     "name": "stdout",
     "output_type": "stream",
     "text": [
      "CPU times: user 18.7 s, sys: 940 ms, total: 19.6 s\n",
      "Wall time: 19.6 s\n"
     ]
    }
   ],
   "source": [
    "%%time\n",
    "model = LogisticRegression()\n",
    "run_RFE(model, 8, X_quant_scaled, y)"
   ]
  },
  {
   "cell_type": "code",
   "execution_count": 6,
   "metadata": {},
   "outputs": [
    {
     "data": {
      "text/html": [
       "<div>\n",
       "<style scoped>\n",
       "    .dataframe tbody tr th:only-of-type {\n",
       "        vertical-align: middle;\n",
       "    }\n",
       "\n",
       "    .dataframe tbody tr th {\n",
       "        vertical-align: top;\n",
       "    }\n",
       "\n",
       "    .dataframe thead th {\n",
       "        text-align: right;\n",
       "    }\n",
       "</style>\n",
       "<table border=\"1\" class=\"dataframe\">\n",
       "  <thead>\n",
       "    <tr style=\"text-align: right;\">\n",
       "      <th></th>\n",
       "      <th>Rank</th>\n",
       "      <th>Support</th>\n",
       "    </tr>\n",
       "  </thead>\n",
       "  <tbody>\n",
       "    <tr>\n",
       "      <th>campaignctrlast24h</th>\n",
       "      <td>1</td>\n",
       "      <td>True</td>\n",
       "    </tr>\n",
       "    <tr>\n",
       "      <th>display_size</th>\n",
       "      <td>1</td>\n",
       "      <td>True</td>\n",
       "    </tr>\n",
       "    <tr>\n",
       "      <th>zonecostineuro</th>\n",
       "      <td>1</td>\n",
       "      <td>True</td>\n",
       "    </tr>\n",
       "    <tr>\n",
       "      <th>nbdisplay_1hour</th>\n",
       "      <td>2</td>\n",
       "      <td>False</td>\n",
       "    </tr>\n",
       "    <tr>\n",
       "      <th>nbdayssincelastclick</th>\n",
       "      <td>3</td>\n",
       "      <td>False</td>\n",
       "    </tr>\n",
       "    <tr>\n",
       "      <th>nbdisplayglobalapprox_1d_sum_xdevice</th>\n",
       "      <td>4</td>\n",
       "      <td>False</td>\n",
       "    </tr>\n",
       "    <tr>\n",
       "      <th>ltf_nbpartnerdisplayssincelastclick</th>\n",
       "      <td>5</td>\n",
       "      <td>False</td>\n",
       "    </tr>\n",
       "    <tr>\n",
       "      <th>ltf_nbpartnerclick_90d</th>\n",
       "      <td>6</td>\n",
       "      <td>False</td>\n",
       "    </tr>\n",
       "    <tr>\n",
       "      <th>dayssincelastvisitdouble</th>\n",
       "      <td>7</td>\n",
       "      <td>False</td>\n",
       "    </tr>\n",
       "    <tr>\n",
       "      <th>contextid</th>\n",
       "      <td>8</td>\n",
       "      <td>False</td>\n",
       "    </tr>\n",
       "    <tr>\n",
       "      <th>ltf_nbpartnerdisplay_90d</th>\n",
       "      <td>9</td>\n",
       "      <td>False</td>\n",
       "    </tr>\n",
       "    <tr>\n",
       "      <th>ltf_nbglobaldisplay_4w</th>\n",
       "      <td>10</td>\n",
       "      <td>False</td>\n",
       "    </tr>\n",
       "    <tr>\n",
       "      <th>ltf_nbpartnersales_90d</th>\n",
       "      <td>11</td>\n",
       "      <td>False</td>\n",
       "    </tr>\n",
       "  </tbody>\n",
       "</table>\n",
       "</div>"
      ],
      "text/plain": [
       "                                      Rank  Support\n",
       "campaignctrlast24h                       1     True\n",
       "display_size                             1     True\n",
       "zonecostineuro                           1     True\n",
       "nbdisplay_1hour                          2    False\n",
       "nbdayssincelastclick                     3    False\n",
       "nbdisplayglobalapprox_1d_sum_xdevice     4    False\n",
       "ltf_nbpartnerdisplayssincelastclick      5    False\n",
       "ltf_nbpartnerclick_90d                   6    False\n",
       "dayssincelastvisitdouble                 7    False\n",
       "contextid                                8    False\n",
       "ltf_nbpartnerdisplay_90d                 9    False\n",
       "ltf_nbglobaldisplay_4w                  10    False\n",
       "ltf_nbpartnersales_90d                  11    False"
      ]
     },
     "metadata": {},
     "output_type": "display_data"
    },
    {
     "name": "stdout",
     "output_type": "stream",
     "text": [
      "Columns_quant :\n"
     ]
    },
    {
     "data": {
      "text/plain": [
       "['campaignctrlast24h', 'display_size', 'zonecostineuro']"
      ]
     },
     "metadata": {},
     "output_type": "display_data"
    },
    {
     "name": "stdout",
     "output_type": "stream",
     "text": [
      "\n",
      "Columns_cat :\n"
     ]
    },
    {
     "data": {
      "text/plain": [
       "[]"
      ]
     },
     "metadata": {},
     "output_type": "display_data"
    },
    {
     "name": "stdout",
     "output_type": "stream",
     "text": [
      "CPU times: user 27.4 s, sys: 1.16 s, total: 28.5 s\n",
      "Wall time: 28.5 s\n"
     ]
    }
   ],
   "source": [
    "%%time\n",
    "model = LogisticRegression()\n",
    "run_RFE(model, 3, X_quant_scaled, y)"
   ]
  },
  {
   "cell_type": "markdown",
   "metadata": {},
   "source": [
    "Pour ne pas avoir à définir un nombre de features, nous allons utiliser une méthode de Cross Validation qui permettra de calculer le nombre de features optimal."
   ]
  },
  {
   "cell_type": "markdown",
   "metadata": {},
   "source": [
    "### 1.2. Méthode RFECV"
   ]
  },
  {
   "cell_type": "code",
   "execution_count": 7,
   "metadata": {},
   "outputs": [],
   "source": [
    "def run_RFECV(model, X, y, score=f3_scorer, min_features_to_select=1, n_jobs=-1, knee=False):\n",
    "    rfecv = RFECV(estimator=model, step=1, cv=5,\n",
    "                  scoring=score,\n",
    "                  min_features_to_select=min_features_to_select,\n",
    "                  n_jobs=n_jobs)\n",
    "    X_sparse = csr_matrix(X)\n",
    "    rfecv.fit(X_sparse, y)\n",
    "\n",
    "    # Plot number of features VS. cross-validation scores\n",
    "    plt.figure()\n",
    "    plt.xlabel(\"Nombre de variables sélectionnées\")\n",
    "    if score == f3_scorer:\n",
    "        plt.ylabel(\"Score F3 moyen\")\n",
    "    else:\n",
    "        plt.ylabel(f\"Score {str(score)} moyen\")\n",
    "    x = range(min_features_to_select, len(rfecv.grid_scores_) + min_features_to_select)\n",
    "    y = rfecv.grid_scores_\n",
    "    plt.plot(x, y)\n",
    "    if type(knee) == bool and knee:\n",
    "        kneedle = KneeLocator(x, y)\n",
    "        plt.vlines(kneedle.knee, plt.ylim()[0], plt.ylim()[1], linestyles=\"--\", color='black', label=\"Coude\")\n",
    "    if type(knee) == int:\n",
    "        plt.vlines(knee, plt.ylim()[0], plt.ylim()[1], linestyles=\"--\", color='black', label=\"Coude\")\n",
    "    plt.show()\n",
    "\n",
    "    if type(knee) == bool and knee:\n",
    "        print(f\"Nombre optimal de variables à sélectionner (coude) : {kneedle.knee}\")\n",
    "        return kneedle.knee\n",
    "    if type(knee) == int:\n",
    "        print(f\"Nombre optimal de variables à sélectionner (coude) : {knee}\")\n",
    "        return knee"
   ]
  },
  {
   "cell_type": "markdown",
   "metadata": {},
   "source": [
    "#### 1.2.1. Variables quantitatives"
   ]
  },
  {
   "cell_type": "code",
   "execution_count": 8,
   "metadata": {},
   "outputs": [
    {
     "data": {
      "image/png": "[encoded data removed]",
      "text/plain": [
       "<Figure size 432x288 with 1 Axes>"
      ]
     },
     "metadata": {
      "needs_background": "light"
     },
     "output_type": "display_data"
    },
    {
     "name": "stdout",
     "output_type": "stream",
     "text": [
      "Nombre optimal de variables à sélectionner (coude) : 4\n",
      "CPU times: user 10.9 s, sys: 2.68 s, total: 13.5 s\n",
      "Wall time: 42.9 s\n"
     ]
    }
   ],
   "source": [
    "%%time\n",
    "model = LogisticRegression()\n",
    "knee = run_RFECV(model, X_quant_scaled, y, score=f3_scorer, knee=True)"
   ]
  },
  {
   "cell_type": "markdown",
   "metadata": {},
   "source": [
    "Le nombre de features optimal semble être 4. Nous allons donc maintenant calculer une RFE avec cette valeur pour déterminer les features à conserver."
   ]
  },
  {
   "cell_type": "code",
   "execution_count": 9,
   "metadata": {},
   "outputs": [
    {
     "data": {
      "text/html": [
       "<div>\n",
       "<style scoped>\n",
       "    .dataframe tbody tr th:only-of-type {\n",
       "        vertical-align: middle;\n",
       "    }\n",
       "\n",
       "    .dataframe tbody tr th {\n",
       "        vertical-align: top;\n",
       "    }\n",
       "\n",
       "    .dataframe thead th {\n",
       "        text-align: right;\n",
       "    }\n",
       "</style>\n",
       "<table border=\"1\" class=\"dataframe\">\n",
       "  <thead>\n",
       "    <tr style=\"text-align: right;\">\n",
       "      <th></th>\n",
       "      <th>Rank</th>\n",
       "      <th>Support</th>\n",
       "    </tr>\n",
       "  </thead>\n",
       "  <tbody>\n",
       "    <tr>\n",
       "      <th>campaignctrlast24h</th>\n",
       "      <td>1</td>\n",
       "      <td>True</td>\n",
       "    </tr>\n",
       "    <tr>\n",
       "      <th>nbdisplay_1hour</th>\n",
       "      <td>1</td>\n",
       "      <td>True</td>\n",
       "    </tr>\n",
       "    <tr>\n",
       "      <th>display_size</th>\n",
       "      <td>1</td>\n",
       "      <td>True</td>\n",
       "    </tr>\n",
       "    <tr>\n",
       "      <th>zonecostineuro</th>\n",
       "      <td>1</td>\n",
       "      <td>True</td>\n",
       "    </tr>\n",
       "    <tr>\n",
       "      <th>nbdayssincelastclick</th>\n",
       "      <td>2</td>\n",
       "      <td>False</td>\n",
       "    </tr>\n",
       "    <tr>\n",
       "      <th>nbdisplayglobalapprox_1d_sum_xdevice</th>\n",
       "      <td>3</td>\n",
       "      <td>False</td>\n",
       "    </tr>\n",
       "    <tr>\n",
       "      <th>ltf_nbpartnerdisplayssincelastclick</th>\n",
       "      <td>4</td>\n",
       "      <td>False</td>\n",
       "    </tr>\n",
       "    <tr>\n",
       "      <th>ltf_nbpartnerclick_90d</th>\n",
       "      <td>5</td>\n",
       "      <td>False</td>\n",
       "    </tr>\n",
       "    <tr>\n",
       "      <th>dayssincelastvisitdouble</th>\n",
       "      <td>6</td>\n",
       "      <td>False</td>\n",
       "    </tr>\n",
       "    <tr>\n",
       "      <th>contextid</th>\n",
       "      <td>7</td>\n",
       "      <td>False</td>\n",
       "    </tr>\n",
       "    <tr>\n",
       "      <th>ltf_nbpartnerdisplay_90d</th>\n",
       "      <td>8</td>\n",
       "      <td>False</td>\n",
       "    </tr>\n",
       "    <tr>\n",
       "      <th>ltf_nbglobaldisplay_4w</th>\n",
       "      <td>9</td>\n",
       "      <td>False</td>\n",
       "    </tr>\n",
       "    <tr>\n",
       "      <th>ltf_nbpartnersales_90d</th>\n",
       "      <td>10</td>\n",
       "      <td>False</td>\n",
       "    </tr>\n",
       "  </tbody>\n",
       "</table>\n",
       "</div>"
      ],
      "text/plain": [
       "                                      Rank  Support\n",
       "campaignctrlast24h                       1     True\n",
       "nbdisplay_1hour                          1     True\n",
       "display_size                             1     True\n",
       "zonecostineuro                           1     True\n",
       "nbdayssincelastclick                     2    False\n",
       "nbdisplayglobalapprox_1d_sum_xdevice     3    False\n",
       "ltf_nbpartnerdisplayssincelastclick      4    False\n",
       "ltf_nbpartnerclick_90d                   5    False\n",
       "dayssincelastvisitdouble                 6    False\n",
       "contextid                                7    False\n",
       "ltf_nbpartnerdisplay_90d                 8    False\n",
       "ltf_nbglobaldisplay_4w                   9    False\n",
       "ltf_nbpartnersales_90d                  10    False"
      ]
     },
     "metadata": {},
     "output_type": "display_data"
    },
    {
     "name": "stdout",
     "output_type": "stream",
     "text": [
      "Columns_quant :\n"
     ]
    },
    {
     "data": {
      "text/plain": [
       "['campaignctrlast24h', 'display_size', 'nbdisplay_1hour', 'zonecostineuro']"
      ]
     },
     "metadata": {},
     "output_type": "display_data"
    },
    {
     "name": "stdout",
     "output_type": "stream",
     "text": [
      "\n",
      "Columns_cat :\n"
     ]
    },
    {
     "data": {
      "text/plain": [
       "[]"
      ]
     },
     "metadata": {},
     "output_type": "display_data"
    },
    {
     "name": "stdout",
     "output_type": "stream",
     "text": [
      "CPU times: user 26.4 s, sys: 1.11 s, total: 27.5 s\n",
      "Wall time: 27.5 s\n"
     ]
    }
   ],
   "source": [
    "%%time\n",
    "model = LogisticRegression()\n",
    "run_RFE(model, 4, X_quant_scaled, y)"
   ]
  },
  {
   "cell_type": "markdown",
   "metadata": {},
   "source": [
    "#### 1.2.2. Variables quantitatives + catégorielles"
   ]
  },
  {
   "cell_type": "markdown",
   "metadata": {},
   "source": [
    "Rajoutons à présent les variables catégorielles."
   ]
  },
  {
   "cell_type": "code",
   "execution_count": 10,
   "metadata": {},
   "outputs": [
    {
     "data": {
      "image/png": "[encoded data removed]",
      "text/plain": [
       "<Figure size 432x288 with 1 Axes>"
      ]
     },
     "metadata": {
      "needs_background": "light"
     },
     "output_type": "display_data"
    },
    {
     "name": "stdout",
     "output_type": "stream",
     "text": [
      "Nombre optimal de variables à sélectionner (coude) : 11\n",
      "CPU times: user 4min 9s, sys: 5.61 s, total: 4min 14s\n",
      "Wall time: 10min 24s\n"
     ]
    }
   ],
   "source": [
    "%%time\n",
    "model = LogisticRegression()\n",
    "knee = run_RFECV(model, X_only_quant_scaled, y, score=f3_scorer, knee=11)"
   ]
  },
  {
   "cell_type": "markdown",
   "metadata": {},
   "source": [
    "Le nombre de features optimal semble être 11. Nous allons donc maintenant calculer une RFE avec cette valeur pour déterminer les features à conserver."
   ]
  },
  {
   "cell_type": "code",
   "execution_count": 11,
   "metadata": {},
   "outputs": [
    {
     "data": {
      "text/html": [
       "<div>\n",
       "<style scoped>\n",
       "    .dataframe tbody tr th:only-of-type {\n",
       "        vertical-align: middle;\n",
       "    }\n",
       "\n",
       "    .dataframe tbody tr th {\n",
       "        vertical-align: top;\n",
       "    }\n",
       "\n",
       "    .dataframe thead th {\n",
       "        text-align: right;\n",
       "    }\n",
       "</style>\n",
       "<table border=\"1\" class=\"dataframe\">\n",
       "  <thead>\n",
       "    <tr style=\"text-align: right;\">\n",
       "      <th></th>\n",
       "      <th>Rank</th>\n",
       "      <th>Support</th>\n",
       "    </tr>\n",
       "  </thead>\n",
       "  <tbody>\n",
       "    <tr>\n",
       "      <th>zonecostineuro</th>\n",
       "      <td>1</td>\n",
       "      <td>True</td>\n",
       "    </tr>\n",
       "    <tr>\n",
       "      <th>device_type_Desktop</th>\n",
       "      <td>1</td>\n",
       "      <td>True</td>\n",
       "    </tr>\n",
       "    <tr>\n",
       "      <th>display_env_app_ios</th>\n",
       "      <td>1</td>\n",
       "      <td>True</td>\n",
       "    </tr>\n",
       "    <tr>\n",
       "      <th>display_size</th>\n",
       "      <td>1</td>\n",
       "      <td>True</td>\n",
       "    </tr>\n",
       "    <tr>\n",
       "      <th>nbdisplay_1hour</th>\n",
       "      <td>1</td>\n",
       "      <td>True</td>\n",
       "    </tr>\n",
       "    <tr>\n",
       "      <th>is_interstitial_True</th>\n",
       "      <td>1</td>\n",
       "      <td>True</td>\n",
       "    </tr>\n",
       "    <tr>\n",
       "      <th>nbdayssincelastclick</th>\n",
       "      <td>1</td>\n",
       "      <td>True</td>\n",
       "    </tr>\n",
       "    <tr>\n",
       "      <th>campaignscenario_13</th>\n",
       "      <td>1</td>\n",
       "      <td>True</td>\n",
       "    </tr>\n",
       "    <tr>\n",
       "      <th>device_type_iPhone</th>\n",
       "      <td>1</td>\n",
       "      <td>True</td>\n",
       "    </tr>\n",
       "    <tr>\n",
       "      <th>campaignctrlast24h</th>\n",
       "      <td>1</td>\n",
       "      <td>True</td>\n",
       "    </tr>\n",
       "    <tr>\n",
       "      <th>target_env_2</th>\n",
       "      <td>1</td>\n",
       "      <td>True</td>\n",
       "    </tr>\n",
       "    <tr>\n",
       "      <th>campaignvertical_200002.0</th>\n",
       "      <td>2</td>\n",
       "      <td>False</td>\n",
       "    </tr>\n",
       "    <tr>\n",
       "      <th>device_type_Desktop - Safari</th>\n",
       "      <td>3</td>\n",
       "      <td>False</td>\n",
       "    </tr>\n",
       "    <tr>\n",
       "      <th>nbdisplayglobalapprox_1d_sum_xdevice</th>\n",
       "      <td>4</td>\n",
       "      <td>False</td>\n",
       "    </tr>\n",
       "    <tr>\n",
       "      <th>campaignscenario_12</th>\n",
       "      <td>5</td>\n",
       "      <td>False</td>\n",
       "    </tr>\n",
       "    <tr>\n",
       "      <th>dayssincelastvisitdouble</th>\n",
       "      <td>6</td>\n",
       "      <td>False</td>\n",
       "    </tr>\n",
       "    <tr>\n",
       "      <th>campaignscenario_5</th>\n",
       "      <td>7</td>\n",
       "      <td>False</td>\n",
       "    </tr>\n",
       "    <tr>\n",
       "      <th>contextid</th>\n",
       "      <td>8</td>\n",
       "      <td>False</td>\n",
       "    </tr>\n",
       "    <tr>\n",
       "      <th>campaignscenario_17</th>\n",
       "      <td>9</td>\n",
       "      <td>False</td>\n",
       "    </tr>\n",
       "    <tr>\n",
       "      <th>device_type_Mobile - Other</th>\n",
       "      <td>10</td>\n",
       "      <td>False</td>\n",
       "    </tr>\n",
       "    <tr>\n",
       "      <th>campaignvertical_23.0</th>\n",
       "      <td>11</td>\n",
       "      <td>False</td>\n",
       "    </tr>\n",
       "    <tr>\n",
       "      <th>campaignscenario_6</th>\n",
       "      <td>12</td>\n",
       "      <td>False</td>\n",
       "    </tr>\n",
       "    <tr>\n",
       "      <th>display_env_web</th>\n",
       "      <td>13</td>\n",
       "      <td>False</td>\n",
       "    </tr>\n",
       "    <tr>\n",
       "      <th>ltf_nbpartnerdisplayssincelastclick</th>\n",
       "      <td>14</td>\n",
       "      <td>False</td>\n",
       "    </tr>\n",
       "    <tr>\n",
       "      <th>ltf_nbpartnerclick_90d</th>\n",
       "      <td>15</td>\n",
       "      <td>False</td>\n",
       "    </tr>\n",
       "    <tr>\n",
       "      <th>campaignvertical_129.0</th>\n",
       "      <td>16</td>\n",
       "      <td>False</td>\n",
       "    </tr>\n",
       "    <tr>\n",
       "      <th>hour_18</th>\n",
       "      <td>17</td>\n",
       "      <td>False</td>\n",
       "    </tr>\n",
       "    <tr>\n",
       "      <th>hour_11</th>\n",
       "      <td>18</td>\n",
       "      <td>False</td>\n",
       "    </tr>\n",
       "    <tr>\n",
       "      <th>hour_16</th>\n",
       "      <td>19</td>\n",
       "      <td>False</td>\n",
       "    </tr>\n",
       "    <tr>\n",
       "      <th>hour_17</th>\n",
       "      <td>20</td>\n",
       "      <td>False</td>\n",
       "    </tr>\n",
       "    <tr>\n",
       "      <th>hour_12</th>\n",
       "      <td>21</td>\n",
       "      <td>False</td>\n",
       "    </tr>\n",
       "    <tr>\n",
       "      <th>hour_15</th>\n",
       "      <td>22</td>\n",
       "      <td>False</td>\n",
       "    </tr>\n",
       "    <tr>\n",
       "      <th>hour_10</th>\n",
       "      <td>23</td>\n",
       "      <td>False</td>\n",
       "    </tr>\n",
       "    <tr>\n",
       "      <th>hour_20</th>\n",
       "      <td>24</td>\n",
       "      <td>False</td>\n",
       "    </tr>\n",
       "    <tr>\n",
       "      <th>hour_13</th>\n",
       "      <td>25</td>\n",
       "      <td>False</td>\n",
       "    </tr>\n",
       "    <tr>\n",
       "      <th>hour_9</th>\n",
       "      <td>26</td>\n",
       "      <td>False</td>\n",
       "    </tr>\n",
       "    <tr>\n",
       "      <th>hour_14</th>\n",
       "      <td>27</td>\n",
       "      <td>False</td>\n",
       "    </tr>\n",
       "    <tr>\n",
       "      <th>hour_19</th>\n",
       "      <td>28</td>\n",
       "      <td>False</td>\n",
       "    </tr>\n",
       "    <tr>\n",
       "      <th>hour_8</th>\n",
       "      <td>29</td>\n",
       "      <td>False</td>\n",
       "    </tr>\n",
       "    <tr>\n",
       "      <th>campaignscenario_11</th>\n",
       "      <td>30</td>\n",
       "      <td>False</td>\n",
       "    </tr>\n",
       "    <tr>\n",
       "      <th>campaignvertical_20.0</th>\n",
       "      <td>31</td>\n",
       "      <td>False</td>\n",
       "    </tr>\n",
       "    <tr>\n",
       "      <th>hour_21</th>\n",
       "      <td>32</td>\n",
       "      <td>False</td>\n",
       "    </tr>\n",
       "    <tr>\n",
       "      <th>ltf_nbglobaldisplay_4w</th>\n",
       "      <td>33</td>\n",
       "      <td>False</td>\n",
       "    </tr>\n",
       "    <tr>\n",
       "      <th>ltf_nbpartnerdisplay_90d</th>\n",
       "      <td>34</td>\n",
       "      <td>False</td>\n",
       "    </tr>\n",
       "    <tr>\n",
       "      <th>weekday_Tuesday</th>\n",
       "      <td>35</td>\n",
       "      <td>False</td>\n",
       "    </tr>\n",
       "    <tr>\n",
       "      <th>ltf_nbpartnersales_90d</th>\n",
       "      <td>36</td>\n",
       "      <td>False</td>\n",
       "    </tr>\n",
       "    <tr>\n",
       "      <th>weekday_Thursday</th>\n",
       "      <td>37</td>\n",
       "      <td>False</td>\n",
       "    </tr>\n",
       "    <tr>\n",
       "      <th>hour_2</th>\n",
       "      <td>38</td>\n",
       "      <td>False</td>\n",
       "    </tr>\n",
       "    <tr>\n",
       "      <th>display_env_other</th>\n",
       "      <td>39</td>\n",
       "      <td>False</td>\n",
       "    </tr>\n",
       "    <tr>\n",
       "      <th>weekday_Monday</th>\n",
       "      <td>40</td>\n",
       "      <td>False</td>\n",
       "    </tr>\n",
       "    <tr>\n",
       "      <th>hour_23</th>\n",
       "      <td>41</td>\n",
       "      <td>False</td>\n",
       "    </tr>\n",
       "    <tr>\n",
       "      <th>hour_3</th>\n",
       "      <td>42</td>\n",
       "      <td>False</td>\n",
       "    </tr>\n",
       "    <tr>\n",
       "      <th>device_type_Unknown</th>\n",
       "      <td>43</td>\n",
       "      <td>False</td>\n",
       "    </tr>\n",
       "    <tr>\n",
       "      <th>weekday_Sunday</th>\n",
       "      <td>44</td>\n",
       "      <td>False</td>\n",
       "    </tr>\n",
       "    <tr>\n",
       "      <th>hour_6</th>\n",
       "      <td>45</td>\n",
       "      <td>False</td>\n",
       "    </tr>\n",
       "    <tr>\n",
       "      <th>hour_7</th>\n",
       "      <td>46</td>\n",
       "      <td>False</td>\n",
       "    </tr>\n",
       "    <tr>\n",
       "      <th>hour_4</th>\n",
       "      <td>47</td>\n",
       "      <td>False</td>\n",
       "    </tr>\n",
       "    <tr>\n",
       "      <th>hour_5</th>\n",
       "      <td>48</td>\n",
       "      <td>False</td>\n",
       "    </tr>\n",
       "    <tr>\n",
       "      <th>hour_22</th>\n",
       "      <td>49</td>\n",
       "      <td>False</td>\n",
       "    </tr>\n",
       "    <tr>\n",
       "      <th>hour_1</th>\n",
       "      <td>50</td>\n",
       "      <td>False</td>\n",
       "    </tr>\n",
       "    <tr>\n",
       "      <th>weekday_Wednesday</th>\n",
       "      <td>51</td>\n",
       "      <td>False</td>\n",
       "    </tr>\n",
       "    <tr>\n",
       "      <th>weekday_Saturday</th>\n",
       "      <td>52</td>\n",
       "      <td>False</td>\n",
       "    </tr>\n",
       "    <tr>\n",
       "      <th>device_type_iPad</th>\n",
       "      <td>53</td>\n",
       "      <td>False</td>\n",
       "    </tr>\n",
       "  </tbody>\n",
       "</table>\n",
       "</div>"
      ],
      "text/plain": [
       "                                      Rank  Support\n",
       "zonecostineuro                           1     True\n",
       "device_type_Desktop                      1     True\n",
       "display_env_app_ios                      1     True\n",
       "display_size                             1     True\n",
       "nbdisplay_1hour                          1     True\n",
       "is_interstitial_True                     1     True\n",
       "nbdayssincelastclick                     1     True\n",
       "campaignscenario_13                      1     True\n",
       "device_type_iPhone                       1     True\n",
       "campaignctrlast24h                       1     True\n",
       "target_env_2                             1     True\n",
       "campaignvertical_200002.0                2    False\n",
       "device_type_Desktop - Safari             3    False\n",
       "nbdisplayglobalapprox_1d_sum_xdevice     4    False\n",
       "campaignscenario_12                      5    False\n",
       "dayssincelastvisitdouble                 6    False\n",
       "campaignscenario_5                       7    False\n",
       "contextid                                8    False\n",
       "campaignscenario_17                      9    False\n",
       "device_type_Mobile - Other              10    False\n",
       "campaignvertical_23.0                   11    False\n",
       "campaignscenario_6                      12    False\n",
       "display_env_web                         13    False\n",
       "ltf_nbpartnerdisplayssincelastclick     14    False\n",
       "ltf_nbpartnerclick_90d                  15    False\n",
       "campaignvertical_129.0                  16    False\n",
       "hour_18                                 17    False\n",
       "hour_11                                 18    False\n",
       "hour_16                                 19    False\n",
       "hour_17                                 20    False\n",
       "hour_12                                 21    False\n",
       "hour_15                                 22    False\n",
       "hour_10                                 23    False\n",
       "hour_20                                 24    False\n",
       "hour_13                                 25    False\n",
       "hour_9                                  26    False\n",
       "hour_14                                 27    False\n",
       "hour_19                                 28    False\n",
       "hour_8                                  29    False\n",
       "campaignscenario_11                     30    False\n",
       "campaignvertical_20.0                   31    False\n",
       "hour_21                                 32    False\n",
       "ltf_nbglobaldisplay_4w                  33    False\n",
       "ltf_nbpartnerdisplay_90d                34    False\n",
       "weekday_Tuesday                         35    False\n",
       "ltf_nbpartnersales_90d                  36    False\n",
       "weekday_Thursday                        37    False\n",
       "hour_2                                  38    False\n",
       "display_env_other                       39    False\n",
       "weekday_Monday                          40    False\n",
       "hour_23                                 41    False\n",
       "hour_3                                  42    False\n",
       "device_type_Unknown                     43    False\n",
       "weekday_Sunday                          44    False\n",
       "hour_6                                  45    False\n",
       "hour_7                                  46    False\n",
       "hour_4                                  47    False\n",
       "hour_5                                  48    False\n",
       "hour_22                                 49    False\n",
       "hour_1                                  50    False\n",
       "weekday_Wednesday                       51    False\n",
       "weekday_Saturday                        52    False\n",
       "device_type_iPad                        53    False"
      ]
     },
     "metadata": {},
     "output_type": "display_data"
    },
    {
     "name": "stdout",
     "output_type": "stream",
     "text": [
      "Columns_quant :\n"
     ]
    },
    {
     "data": {
      "text/plain": [
       "['campaignctrlast24h',\n",
       " 'display_size',\n",
       " 'nbdayssincelastclick',\n",
       " 'nbdisplay_1hour',\n",
       " 'zonecostineuro']"
      ]
     },
     "metadata": {},
     "output_type": "display_data"
    },
    {
     "name": "stdout",
     "output_type": "stream",
     "text": [
      "\n",
      "Columns_cat :\n"
     ]
    },
    {
     "data": {
      "text/plain": [
       "['campaignscenario_13',\n",
       " 'device_type_Desktop',\n",
       " 'device_type_iPhone',\n",
       " 'display_env_app_ios',\n",
       " 'is_interstitial_True',\n",
       " 'target_env_2']"
      ]
     },
     "metadata": {},
     "output_type": "display_data"
    },
    {
     "name": "stdout",
     "output_type": "stream",
     "text": [
      "\n",
      "Exportation : backups/RFECV_LR.json\n",
      "CPU times: user 6min 19s, sys: 7.3 s, total: 6min 27s\n",
      "Wall time: 6min 27s\n"
     ]
    }
   ],
   "source": [
    "%%time\n",
    "model = LogisticRegression()\n",
    "run_RFE(model, 11, X_only_quant_scaled, y, export='RFECV_LR')"
   ]
  },
  {
   "cell_type": "markdown",
   "metadata": {},
   "source": [
    "## 2. Random Forest\n",
    "\n",
    "Pour les modèles de type arbre, il n'est pas nécessaire d'enlever toutes les premières colonnes des variables indicatrices."
   ]
  },
  {
   "cell_type": "code",
   "execution_count": null,
   "metadata": {},
   "outputs": [],
   "source": [
    "datasets_df = datasets(df, drop='if_binary')\n",
    "X = datasets_df['X']\n",
    "y = datasets_df['y']"
   ]
  },
  {
   "cell_type": "code",
   "execution_count": null,
   "metadata": {},
   "outputs": [],
   "source": [
    "%%time\n",
    "model = RandomForestClassifier(n_jobs=10)\n",
    "knee = run_RFECV(model, X, y, score=f3_scorer, n_jobs=5, knee=9)"
   ]
  },
  {
   "cell_type": "markdown",
   "metadata": {},
   "source": [
    "Le nombre de features optimal semble être 9. Nous allons donc maintenant calculer une RFE avec cette valeur pour déterminer les features à conserver."
   ]
  },
  {
   "cell_type": "code",
   "execution_count": null,
   "metadata": {},
   "outputs": [],
   "source": [
    "%%time\n",
    "model = RandomForestClassifier(n_jobs=28)\n",
    "run_RFE(model, 9, X, y, export='RFECV_Forest')"
   ]
  },
  {
   "cell_type": "markdown",
   "metadata": {},
   "source": [
    "## 3. XGBoost"
   ]
  },
  {
   "cell_type": "code",
   "execution_count": null,
   "metadata": {},
   "outputs": [],
   "source": [
    "%%time\n",
    "model = XGBClassifier(n_jobs=10)\n",
    "knee = run_RFECV(model, X, y, score=f3_scorer, n_jobs=5, knee=True)"
   ]
  },
  {
   "cell_type": "code",
   "execution_count": null,
   "metadata": {},
   "outputs": [],
   "source": [
    "%%time\n",
    "model = XGBClassifier(n_jobs=28)\n",
    "run_RFE(model, 8, X, y, export='RFECV_XGBoost')"
   ]
  },
  {
   "cell_type": "code",
   "execution_count": null,
   "metadata": {},
   "outputs": [],
   "source": [
    "print(f\"Temps d'exécution total : {time.strftime('%H:%M:%S', time.gmtime(time.time()-t))}\")"
   ]
  }
 ],
 "metadata": {
  "kernelspec": {
   "display_name": "Python 3",
   "language": "python",
   "name": "python3"
  },
  "language_info": {
   "codemirror_mode": {
    "name": "ipython",
    "version": 3
   },
   "file_extension": ".py",
   "mimetype": "text/x-python",
   "name": "python",
   "nbconvert_exporter": "python",
   "pygments_lexer": "ipython3",
   "version": "3.8.8"
  }
 },
 "nbformat": 4,
 "nbformat_minor": 4
}
