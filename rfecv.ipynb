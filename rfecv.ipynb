{
 "cells": [
  {
   "cell_type": "code",
   "execution_count": 1,
   "metadata": {},
   "outputs": [],
   "source": [
    "import os\n",
    "import time\n",
    "\n",
    "import matplotlib.pyplot as plt\n",
    "import numpy as np\n",
    "import pandas as pd\n",
    "import xgboost as xgb\n",
    "from IPython.display import display\n",
    "from sklearn import metrics\n",
    "from sklearn.feature_selection import RFE, RFECV\n",
    "from sklearn.feature_extraction.text import CountVectorizer, TfidfVectorizer\n",
    "from sklearn.linear_model import Lasso, LassoCV\n",
    "from sklearn.linear_model import LogisticRegression\n",
    "from sklearn.ensemble import RandomForestClassifier\n",
    "from sklearn.tree import DecisionTreeClassifier\n",
    "from xgboost import XGBClassifier\n",
    "from sklearn.model_selection import train_test_split\n",
    "from sklearn.preprocessing import StandardScaler\n",
    "from IPython.display import display\n",
    "from sklearn.linear_model import LogisticRegression\n",
    "from sklearn.model_selection import StratifiedKFold\n",
    "from tools import (COLUMNS_QUANT, COLUMNS_CAT, datasets)\n",
    "from kneed import KneeLocator\n",
    "import json\n",
    "\n",
    "\n",
    "f3_scorer = metrics.make_scorer(metrics.fbeta_score, beta=3)\n",
    "f5_scorer = metrics.make_scorer(metrics.fbeta_score, beta=5)\n",
    "\n",
    "pd.options.display.max_rows = 80\n",
    "\n",
    "t = time.time()"
   ]
  },
  {
   "cell_type": "code",
   "execution_count": 2,
   "metadata": {},
   "outputs": [
    {
     "output_type": "execute_result",
     "data": {
      "text/plain": [
       "(1610494, 48)"
      ]
     },
     "metadata": {},
     "execution_count": 2
    }
   ],
   "source": [
    "df = pd.read_csv('data/df_train_prepro.csv').sample(frac=1)\n",
    "df.shape"
   ]
  },
  {
   "cell_type": "code",
   "execution_count": 3,
   "metadata": {},
   "outputs": [
    {
     "output_type": "stream",
     "name": "stdout",
     "text": [
      "Columns_quant :\n"
     ]
    },
    {
     "output_type": "display_data",
     "data": {
      "text/plain": "['contextid',\n 'campaignctrlast24h',\n 'dayssincelastvisitdouble',\n 'ltf_nbglobaldisplay_4w',\n 'ltf_nbpartnerdisplayssincelastclick',\n 'ltf_nbpartnerdisplay_90d',\n 'ltf_nbpartnerclick_90d',\n 'ltf_nbpartnersales_90d',\n 'nbdayssincelastclick',\n 'nbdisplay_1hour',\n 'nbdisplayglobalapprox_1d_sum_xdevice',\n 'display_size',\n 'zonecostineuro']"
     },
     "metadata": {}
    },
    {
     "output_type": "stream",
     "name": "stdout",
     "text": [
      "\nColumns_cat :\n"
     ]
    },
    {
     "output_type": "display_data",
     "data": {
      "text/plain": "['display_env',\n 'target_env',\n 'campaignscenario',\n 'campaignvertical',\n 'is_interstitial',\n 'device_type',\n 'hour',\n 'weekday']"
     },
     "metadata": {}
    },
    {
     "output_type": "stream",
     "name": "stdout",
     "text": [
      "\nNombre de variables pour X_quant : 13\n\n"
     ]
    },
    {
     "output_type": "display_data",
     "data": {
      "text/plain": "Index(['contextid', 'campaignctrlast24h', 'dayssincelastvisitdouble',\n       'ltf_nbglobaldisplay_4w', 'ltf_nbpartnerdisplayssincelastclick',\n       'ltf_nbpartnerdisplay_90d', 'ltf_nbpartnerclick_90d',\n       'ltf_nbpartnersales_90d', 'nbdayssincelastclick', 'nbdisplay_1hour',\n       'nbdisplayglobalapprox_1d_sum_xdevice', 'display_size',\n       'zonecostineuro'],\n      dtype='object')"
     },
     "metadata": {}
    },
    {
     "output_type": "stream",
     "name": "stdout",
     "text": [
      "\nNombre de variables pour X_cat : 50\n\n"
     ]
    },
    {
     "output_type": "display_data",
     "data": {
      "text/plain": "Index(['display_env_app_ios', 'display_env_other', 'display_env_web',\n       'target_env_2', 'campaignscenario_5', 'campaignscenario_6',\n       'campaignscenario_11', 'campaignscenario_12', 'campaignscenario_13',\n       'campaignscenario_17', 'campaignvertical_20.0', 'campaignvertical_23.0',\n       'campaignvertical_129.0', 'campaignvertical_200002.0',\n       'is_interstitial_True', 'device_type_Desktop',\n       'device_type_Desktop - Safari', 'device_type_Mobile - Other',\n       'device_type_Unknown', 'device_type_iPad', 'device_type_iPhone',\n       'hour_1', 'hour_2', 'hour_3', 'hour_4', 'hour_5', 'hour_6', 'hour_7',\n       'hour_8', 'hour_9', 'hour_10', 'hour_11', 'hour_12', 'hour_13',\n       'hour_14', 'hour_15', 'hour_16', 'hour_17', 'hour_18', 'hour_19',\n       'hour_20', 'hour_21', 'hour_22', 'hour_23', 'weekday_Monday',\n       'weekday_Saturday', 'weekday_Sunday', 'weekday_Thursday',\n       'weekday_Tuesday', 'weekday_Wednesday'],\n      dtype='object')"
     },
     "metadata": {}
    },
    {
     "output_type": "stream",
     "name": "stdout",
     "text": [
      "\nNombre de variables pour X : 63\n"
     ]
    }
   ],
   "source": [
    "datasets_df = datasets(df)\n",
    "X_quant_scaled = datasets_df['X_quant_scaled']\n",
    "X_scaled = datasets_df['X_scaled']\n",
    "X = datasets_df['X']\n",
    "y = datasets_df['y']"
   ]
  },
  {
   "cell_type": "markdown",
   "metadata": {},
   "source": [
    "## Régression logistique\n",
    "\n",
    "L'avantage de cette méthode est qu'elle dépend du modèle utilisé.\n",
    "\n",
    "### Méthode RFE"
   ]
  },
  {
   "cell_type": "code",
   "execution_count": 4,
   "metadata": {},
   "outputs": [],
   "source": [
    "def run_RFE(model, n_features_to_select, X, y, export=None):\n",
    "    # create the RFE model and select 3 attributes\n",
    "    rfe = RFE(model, n_features_to_select=n_features_to_select)\n",
    "    rfe = rfe.fit(X, y)\n",
    "\n",
    "    # summarize the selection of the attributes\n",
    "    #  print(rfe.support_)\n",
    "    #  print(rfe.ranking_)\n",
    "    \n",
    "    dico = {\"Rank\": rfe.ranking_,\n",
    "            \"Support\": rfe.support_}\n",
    "    rf_df = pd.DataFrame(dico, index=X.columns).sort_values(by='Rank', ascending=True)\n",
    "\n",
    "    display(rf_df)\n",
    "    \n",
    "    support = rf_df[rf_df.Support == True].index.to_list()\n",
    "    \n",
    "    columns_quant = list(set(support).intersection(set(COLUMNS_QUANT)))\n",
    "    \n",
    "    columns_cat = list(set(support).difference(set(COLUMNS_QUANT)))\n",
    "    \n",
    "    print(\"Columns_quant :\")\n",
    "    display(columns_quant)\n",
    "    print(\"\\nColumns_cat :\")\n",
    "    display(columns_cat)    \n",
    "    \n",
    "    if export:        \n",
    "        dico_export = {'columns_quant': columns_quant,\n",
    "                   'columns_cat': columns_cat}\n",
    "        with open(f\"backups/{export}.json\", 'w') as f:\n",
    "            json.dump(dico_export, f)\n",
    "        print(f\"\\nExportation : backups/{export}.json\")"
   ]
  },
  {
   "cell_type": "code",
   "execution_count": 5,
   "metadata": {},
   "outputs": [
    {
     "output_type": "display_data",
     "data": {
      "text/plain": "                                      Rank  Support\ncampaignctrlast24h                       1     True\nltf_nbpartnerdisplayssincelastclick      1     True\nltf_nbpartnerclick_90d                   1     True\nnbdayssincelastclick                     1     True\nnbdisplay_1hour                          1     True\nnbdisplayglobalapprox_1d_sum_xdevice     1     True\ndisplay_size                             1     True\nzonecostineuro                           1     True\ndayssincelastvisitdouble                 2    False\ncontextid                                3    False\nltf_nbpartnerdisplay_90d                 4    False\nltf_nbglobaldisplay_4w                   5    False\nltf_nbpartnersales_90d                   6    False",
      "text/html": "<div>\n<style scoped>\n    .dataframe tbody tr th:only-of-type {\n        vertical-align: middle;\n    }\n\n    .dataframe tbody tr th {\n        vertical-align: top;\n    }\n\n    .dataframe thead th {\n        text-align: right;\n    }\n</style>\n<table border=\"1\" class=\"dataframe\">\n  <thead>\n    <tr style=\"text-align: right;\">\n      <th></th>\n      <th>Rank</th>\n      <th>Support</th>\n    </tr>\n  </thead>\n  <tbody>\n    <tr>\n      <th>campaignctrlast24h</th>\n      <td>1</td>\n      <td>True</td>\n    </tr>\n    <tr>\n      <th>ltf_nbpartnerdisplayssincelastclick</th>\n      <td>1</td>\n      <td>True</td>\n    </tr>\n    <tr>\n      <th>ltf_nbpartnerclick_90d</th>\n      <td>1</td>\n      <td>True</td>\n    </tr>\n    <tr>\n      <th>nbdayssincelastclick</th>\n      <td>1</td>\n      <td>True</td>\n    </tr>\n    <tr>\n      <th>nbdisplay_1hour</th>\n      <td>1</td>\n      <td>True</td>\n    </tr>\n    <tr>\n      <th>nbdisplayglobalapprox_1d_sum_xdevice</th>\n      <td>1</td>\n      <td>True</td>\n    </tr>\n    <tr>\n      <th>display_size</th>\n      <td>1</td>\n      <td>True</td>\n    </tr>\n    <tr>\n      <th>zonecostineuro</th>\n      <td>1</td>\n      <td>True</td>\n    </tr>\n    <tr>\n      <th>dayssincelastvisitdouble</th>\n      <td>2</td>\n      <td>False</td>\n    </tr>\n    <tr>\n      <th>contextid</th>\n      <td>3</td>\n      <td>False</td>\n    </tr>\n    <tr>\n      <th>ltf_nbpartnerdisplay_90d</th>\n      <td>4</td>\n      <td>False</td>\n    </tr>\n    <tr>\n      <th>ltf_nbglobaldisplay_4w</th>\n      <td>5</td>\n      <td>False</td>\n    </tr>\n    <tr>\n      <th>ltf_nbpartnersales_90d</th>\n      <td>6</td>\n      <td>False</td>\n    </tr>\n  </tbody>\n</table>\n</div>"
     },
     "metadata": {}
    },
    {
     "output_type": "stream",
     "name": "stdout",
     "text": [
      "Columns_quant :\n"
     ]
    },
    {
     "output_type": "display_data",
     "data": {
      "text/plain": "['nbdisplayglobalapprox_1d_sum_xdevice',\n 'zonecostineuro',\n 'nbdisplay_1hour',\n 'ltf_nbpartnerdisplayssincelastclick',\n 'campaignctrlast24h',\n 'display_size',\n 'ltf_nbpartnerclick_90d',\n 'nbdayssincelastclick']"
     },
     "metadata": {}
    },
    {
     "output_type": "stream",
     "name": "stdout",
     "text": [
      "\nColumns_cat :\n"
     ]
    },
    {
     "output_type": "display_data",
     "data": {
      "text/plain": "[]"
     },
     "metadata": {}
    },
    {
     "output_type": "stream",
     "name": "stdout",
     "text": [
      "CPU times: user 26.1 s, sys: 3.59 s, total: 29.7 s\nWall time: 8.1 s\n"
     ]
    }
   ],
   "source": [
    "%%time\n",
    "model = LogisticRegression()\n",
    "df = run_RFE(model, 8, X_quant_scaled, y)"
   ]
  },
  {
   "cell_type": "code",
   "execution_count": 6,
   "metadata": {},
   "outputs": [
    {
     "output_type": "display_data",
     "data": {
      "text/plain": "                                      Rank  Support\ncampaignctrlast24h                       1     True\ndisplay_size                             1     True\nzonecostineuro                           1     True\nnbdisplay_1hour                          2    False\nnbdayssincelastclick                     3    False\nnbdisplayglobalapprox_1d_sum_xdevice     4    False\nltf_nbpartnerdisplayssincelastclick      5    False\nltf_nbpartnerclick_90d                   6    False\ndayssincelastvisitdouble                 7    False\ncontextid                                8    False\nltf_nbpartnerdisplay_90d                 9    False\nltf_nbglobaldisplay_4w                  10    False\nltf_nbpartnersales_90d                  11    False",
      "text/html": "<div>\n<style scoped>\n    .dataframe tbody tr th:only-of-type {\n        vertical-align: middle;\n    }\n\n    .dataframe tbody tr th {\n        vertical-align: top;\n    }\n\n    .dataframe thead th {\n        text-align: right;\n    }\n</style>\n<table border=\"1\" class=\"dataframe\">\n  <thead>\n    <tr style=\"text-align: right;\">\n      <th></th>\n      <th>Rank</th>\n      <th>Support</th>\n    </tr>\n  </thead>\n  <tbody>\n    <tr>\n      <th>campaignctrlast24h</th>\n      <td>1</td>\n      <td>True</td>\n    </tr>\n    <tr>\n      <th>display_size</th>\n      <td>1</td>\n      <td>True</td>\n    </tr>\n    <tr>\n      <th>zonecostineuro</th>\n      <td>1</td>\n      <td>True</td>\n    </tr>\n    <tr>\n      <th>nbdisplay_1hour</th>\n      <td>2</td>\n      <td>False</td>\n    </tr>\n    <tr>\n      <th>nbdayssincelastclick</th>\n      <td>3</td>\n      <td>False</td>\n    </tr>\n    <tr>\n      <th>nbdisplayglobalapprox_1d_sum_xdevice</th>\n      <td>4</td>\n      <td>False</td>\n    </tr>\n    <tr>\n      <th>ltf_nbpartnerdisplayssincelastclick</th>\n      <td>5</td>\n      <td>False</td>\n    </tr>\n    <tr>\n      <th>ltf_nbpartnerclick_90d</th>\n      <td>6</td>\n      <td>False</td>\n    </tr>\n    <tr>\n      <th>dayssincelastvisitdouble</th>\n      <td>7</td>\n      <td>False</td>\n    </tr>\n    <tr>\n      <th>contextid</th>\n      <td>8</td>\n      <td>False</td>\n    </tr>\n    <tr>\n      <th>ltf_nbpartnerdisplay_90d</th>\n      <td>9</td>\n      <td>False</td>\n    </tr>\n    <tr>\n      <th>ltf_nbglobaldisplay_4w</th>\n      <td>10</td>\n      <td>False</td>\n    </tr>\n    <tr>\n      <th>ltf_nbpartnersales_90d</th>\n      <td>11</td>\n      <td>False</td>\n    </tr>\n  </tbody>\n</table>\n</div>"
     },
     "metadata": {}
    },
    {
     "output_type": "stream",
     "name": "stdout",
     "text": [
      "Columns_quant :\n"
     ]
    },
    {
     "output_type": "display_data",
     "data": {
      "text/plain": "['display_size', 'campaignctrlast24h', 'zonecostineuro']"
     },
     "metadata": {}
    },
    {
     "output_type": "stream",
     "name": "stdout",
     "text": [
      "\nColumns_cat :\n"
     ]
    },
    {
     "output_type": "display_data",
     "data": {
      "text/plain": "[]"
     },
     "metadata": {}
    },
    {
     "output_type": "stream",
     "name": "stdout",
     "text": [
      "CPU times: user 41.5 s, sys: 5.37 s, total: 46.9 s\nWall time: 12.2 s\n"
     ]
    }
   ],
   "source": [
    "%%time\n",
    "model = LogisticRegression()\n",
    "run_RFE(model, 3, X_quant_scaled, y)"
   ]
  },
  {
   "cell_type": "markdown",
   "metadata": {},
   "source": [
    "Pour ne pas avoir à définir un nombre de features, nous allons utiliser une méthode de Cross Validation qui permettra de calculer le nombre de features optimal."
   ]
  },
  {
   "cell_type": "markdown",
   "metadata": {},
   "source": [
    "### Méthode RFECV"
   ]
  },
  {
   "cell_type": "code",
   "execution_count": 7,
   "metadata": {},
   "outputs": [],
   "source": [
    "def run_RFECV(model, X, y, score=f3_scorer, min_features_to_select=1, n_jobs=-1, knee=False):\n",
    "\n",
    "    rfecv = RFECV(estimator=model, step=1, cv=StratifiedKFold(5),\n",
    "                  scoring=score,\n",
    "                  min_features_to_select=min_features_to_select,\n",
    "                  n_jobs=n_jobs)\n",
    "    rfecv.fit(X, y)\n",
    "\n",
    "    # Plot number of features VS. cross-validation scores\n",
    "    plt.figure()\n",
    "    plt.xlabel(\"Nombre de variables sélectionnées\")\n",
    "    if score == f3_scorer:\n",
    "        plt.ylabel(f\"Score F3 moyen\")\n",
    "    else:\n",
    "        plt.ylabel(f\"Score {str(score)} moyen\")\n",
    "    x = range(min_features_to_select, len(rfecv.grid_scores_) + min_features_to_select)\n",
    "    y = rfecv.grid_scores_\n",
    "    plt.plot(x, y)\n",
    "    if type(knee) == bool and knee:\n",
    "        kneedle = KneeLocator(x, y)\n",
    "        plt.vlines(kneedle.knee, plt.ylim()[0], plt.ylim()[1], linestyles=\"--\", color='black', label=\"Coude\")\n",
    "    if type(knee) == int:\n",
    "        plt.vlines(knee, plt.ylim()[0], plt.ylim()[1], linestyles=\"--\", color='black', label=\"Coude\")\n",
    "    plt.show()\n",
    "\n",
    "    if type(knee) == bool and knee:\n",
    "        print(f\"Nombre optimal de variables à sélectionner (coude) : {kneedle.knee}\")\n",
    "        return kneedle.knee\n",
    "    if type(knee) == int:\n",
    "        print(f\"Nombre optimal de variables à sélectionner (coude) : {knee}\")\n",
    "        return knee"
   ]
  },
  {
   "cell_type": "markdown",
   "metadata": {},
   "source": [
    "#### Variables quantitatives"
   ]
  },
  {
   "cell_type": "code",
   "execution_count": 8,
   "metadata": {},
   "outputs": [
    {
     "output_type": "display_data",
     "data": {
      "text/plain": "<Figure size 432x288 with 1 Axes>",
      "image/svg+xml": "<?xml version=\"1.0\" encoding=\"utf-8\" standalone=\"no\"?>\n<!DOCTYPE svg PUBLIC \"-//W3C//DTD SVG 1.1//EN\"\n  \"http://www.w3.org/Graphics/SVG/1.1/DTD/svg11.dtd\">\n<!-- Created with matplotlib (https://matplotlib.org/) -->\n<svg height=\"262.19625pt\" version=\"1.1\" viewBox=\"0 0 398.50625 262.19625\" width=\"398.50625pt\" xmlns=\"http://www.w3.org/2000/svg\" xmlns:xlink=\"http://www.w3.org/1999/xlink\">\n <metadata>\n  <rdf:RDF xmlns:cc=\"http://creativecommons.org/ns#\" xmlns:dc=\"http://purl.org/dc/elements/1.1/\" xmlns:rdf=\"http://www.w3.org/1999/02/22-rdf-syntax-ns#\">\n   <cc:Work>\n    <dc:type rdf:resource=\"http://purl.org/dc/dcmitype/StillImage\"/>\n    <dc:date>2021-03-22T23:13:06.264288</dc:date>\n    <dc:format>image/svg+xml</dc:format>\n    <dc:creator>\n     <cc:Agent>\n      <dc:title>Matplotlib v3.3.2, https://matplotlib.org/</dc:title>\n     </cc:Agent>\n    </dc:creator>\n   </cc:Work>\n  </rdf:RDF>\n </metadata>\n <defs>\n  <style type=\"text/css\">*{stroke-linecap:butt;stroke-linejoin:round;}</style>\n </defs>\n <g id=\"figure_1\">\n  <g id=\"patch_1\">\n   <path d=\"M 0 262.19625 \nL 398.50625 262.19625 \nL 398.50625 0 \nL 0 0 \nz\n\" style=\"fill:none;\"/>\n  </g>\n  <g id=\"axes_1\">\n   <g id=\"patch_2\">\n    <path d=\"M 56.50625 224.64 \nL 391.30625 224.64 \nL 391.30625 7.2 \nL 56.50625 7.2 \nz\n\" style=\"fill:#ffffff;\"/>\n   </g>\n   <g id=\"matplotlib.axis_1\">\n    <g id=\"xtick_1\">\n     <g id=\"line2d_1\">\n      <defs>\n       <path d=\"M 0 0 \nL 0 3.5 \n\" id=\"m7cd0c4320d\" style=\"stroke:#000000;stroke-width:0.8;\"/>\n      </defs>\n      <g>\n       <use style=\"stroke:#000000;stroke-width:0.8;\" x=\"97.088068\" xlink:href=\"#m7cd0c4320d\" y=\"224.64\"/>\n      </g>\n     </g>\n     <g id=\"text_1\">\n      <!-- 2 -->\n      <g transform=\"translate(93.906818 239.238437)scale(0.1 -0.1)\">\n       <defs>\n        <path d=\"M 19.1875 8.296875 \nL 53.609375 8.296875 \nL 53.609375 0 \nL 7.328125 0 \nL 7.328125 8.296875 \nQ 12.9375 14.109375 22.625 23.890625 \nQ 32.328125 33.6875 34.8125 36.53125 \nQ 39.546875 41.84375 41.421875 45.53125 \nQ 43.3125 49.21875 43.3125 52.78125 \nQ 43.3125 58.59375 39.234375 62.25 \nQ 35.15625 65.921875 28.609375 65.921875 \nQ 23.96875 65.921875 18.8125 64.3125 \nQ 13.671875 62.703125 7.8125 59.421875 \nL 7.8125 69.390625 \nQ 13.765625 71.78125 18.9375 73 \nQ 24.125 74.21875 28.421875 74.21875 \nQ 39.75 74.21875 46.484375 68.546875 \nQ 53.21875 62.890625 53.21875 53.421875 \nQ 53.21875 48.921875 51.53125 44.890625 \nQ 49.859375 40.875 45.40625 35.40625 \nQ 44.1875 33.984375 37.640625 27.21875 \nQ 31.109375 20.453125 19.1875 8.296875 \nz\n\" id=\"DejaVuSans-50\"/>\n       </defs>\n       <use xlink:href=\"#DejaVuSans-50\"/>\n      </g>\n     </g>\n    </g>\n    <g id=\"xtick_2\">\n     <g id=\"line2d_2\">\n      <g>\n       <use style=\"stroke:#000000;stroke-width:0.8;\" x=\"147.815341\" xlink:href=\"#m7cd0c4320d\" y=\"224.64\"/>\n      </g>\n     </g>\n     <g id=\"text_2\">\n      <!-- 4 -->\n      <g transform=\"translate(144.634091 239.238437)scale(0.1 -0.1)\">\n       <defs>\n        <path d=\"M 37.796875 64.3125 \nL 12.890625 25.390625 \nL 37.796875 25.390625 \nz\nM 35.203125 72.90625 \nL 47.609375 72.90625 \nL 47.609375 25.390625 \nL 58.015625 25.390625 \nL 58.015625 17.1875 \nL 47.609375 17.1875 \nL 47.609375 0 \nL 37.796875 0 \nL 37.796875 17.1875 \nL 4.890625 17.1875 \nL 4.890625 26.703125 \nz\n\" id=\"DejaVuSans-52\"/>\n       </defs>\n       <use xlink:href=\"#DejaVuSans-52\"/>\n      </g>\n     </g>\n    </g>\n    <g id=\"xtick_3\">\n     <g id=\"line2d_3\">\n      <g>\n       <use style=\"stroke:#000000;stroke-width:0.8;\" x=\"198.542614\" xlink:href=\"#m7cd0c4320d\" y=\"224.64\"/>\n      </g>\n     </g>\n     <g id=\"text_3\">\n      <!-- 6 -->\n      <g transform=\"translate(195.361364 239.238437)scale(0.1 -0.1)\">\n       <defs>\n        <path d=\"M 33.015625 40.375 \nQ 26.375 40.375 22.484375 35.828125 \nQ 18.609375 31.296875 18.609375 23.390625 \nQ 18.609375 15.53125 22.484375 10.953125 \nQ 26.375 6.390625 33.015625 6.390625 \nQ 39.65625 6.390625 43.53125 10.953125 \nQ 47.40625 15.53125 47.40625 23.390625 \nQ 47.40625 31.296875 43.53125 35.828125 \nQ 39.65625 40.375 33.015625 40.375 \nz\nM 52.59375 71.296875 \nL 52.59375 62.3125 \nQ 48.875 64.0625 45.09375 64.984375 \nQ 41.3125 65.921875 37.59375 65.921875 \nQ 27.828125 65.921875 22.671875 59.328125 \nQ 17.53125 52.734375 16.796875 39.40625 \nQ 19.671875 43.65625 24.015625 45.921875 \nQ 28.375 48.1875 33.59375 48.1875 \nQ 44.578125 48.1875 50.953125 41.515625 \nQ 57.328125 34.859375 57.328125 23.390625 \nQ 57.328125 12.15625 50.6875 5.359375 \nQ 44.046875 -1.421875 33.015625 -1.421875 \nQ 20.359375 -1.421875 13.671875 8.265625 \nQ 6.984375 17.96875 6.984375 36.375 \nQ 6.984375 53.65625 15.1875 63.9375 \nQ 23.390625 74.21875 37.203125 74.21875 \nQ 40.921875 74.21875 44.703125 73.484375 \nQ 48.484375 72.75 52.59375 71.296875 \nz\n\" id=\"DejaVuSans-54\"/>\n       </defs>\n       <use xlink:href=\"#DejaVuSans-54\"/>\n      </g>\n     </g>\n    </g>\n    <g id=\"xtick_4\">\n     <g id=\"line2d_4\">\n      <g>\n       <use style=\"stroke:#000000;stroke-width:0.8;\" x=\"249.269886\" xlink:href=\"#m7cd0c4320d\" y=\"224.64\"/>\n      </g>\n     </g>\n     <g id=\"text_4\">\n      <!-- 8 -->\n      <g transform=\"translate(246.088636 239.238437)scale(0.1 -0.1)\">\n       <defs>\n        <path d=\"M 31.78125 34.625 \nQ 24.75 34.625 20.71875 30.859375 \nQ 16.703125 27.09375 16.703125 20.515625 \nQ 16.703125 13.921875 20.71875 10.15625 \nQ 24.75 6.390625 31.78125 6.390625 \nQ 38.8125 6.390625 42.859375 10.171875 \nQ 46.921875 13.96875 46.921875 20.515625 \nQ 46.921875 27.09375 42.890625 30.859375 \nQ 38.875 34.625 31.78125 34.625 \nz\nM 21.921875 38.8125 \nQ 15.578125 40.375 12.03125 44.71875 \nQ 8.5 49.078125 8.5 55.328125 \nQ 8.5 64.0625 14.71875 69.140625 \nQ 20.953125 74.21875 31.78125 74.21875 \nQ 42.671875 74.21875 48.875 69.140625 \nQ 55.078125 64.0625 55.078125 55.328125 \nQ 55.078125 49.078125 51.53125 44.71875 \nQ 48 40.375 41.703125 38.8125 \nQ 48.828125 37.15625 52.796875 32.3125 \nQ 56.78125 27.484375 56.78125 20.515625 \nQ 56.78125 9.90625 50.3125 4.234375 \nQ 43.84375 -1.421875 31.78125 -1.421875 \nQ 19.734375 -1.421875 13.25 4.234375 \nQ 6.78125 9.90625 6.78125 20.515625 \nQ 6.78125 27.484375 10.78125 32.3125 \nQ 14.796875 37.15625 21.921875 38.8125 \nz\nM 18.3125 54.390625 \nQ 18.3125 48.734375 21.84375 45.5625 \nQ 25.390625 42.390625 31.78125 42.390625 \nQ 38.140625 42.390625 41.71875 45.5625 \nQ 45.3125 48.734375 45.3125 54.390625 \nQ 45.3125 60.0625 41.71875 63.234375 \nQ 38.140625 66.40625 31.78125 66.40625 \nQ 25.390625 66.40625 21.84375 63.234375 \nQ 18.3125 60.0625 18.3125 54.390625 \nz\n\" id=\"DejaVuSans-56\"/>\n       </defs>\n       <use xlink:href=\"#DejaVuSans-56\"/>\n      </g>\n     </g>\n    </g>\n    <g id=\"xtick_5\">\n     <g id=\"line2d_5\">\n      <g>\n       <use style=\"stroke:#000000;stroke-width:0.8;\" x=\"299.997159\" xlink:href=\"#m7cd0c4320d\" y=\"224.64\"/>\n      </g>\n     </g>\n     <g id=\"text_5\">\n      <!-- 10 -->\n      <g transform=\"translate(293.634659 239.238437)scale(0.1 -0.1)\">\n       <defs>\n        <path d=\"M 12.40625 8.296875 \nL 28.515625 8.296875 \nL 28.515625 63.921875 \nL 10.984375 60.40625 \nL 10.984375 69.390625 \nL 28.421875 72.90625 \nL 38.28125 72.90625 \nL 38.28125 8.296875 \nL 54.390625 8.296875 \nL 54.390625 0 \nL 12.40625 0 \nz\n\" id=\"DejaVuSans-49\"/>\n        <path d=\"M 31.78125 66.40625 \nQ 24.171875 66.40625 20.328125 58.90625 \nQ 16.5 51.421875 16.5 36.375 \nQ 16.5 21.390625 20.328125 13.890625 \nQ 24.171875 6.390625 31.78125 6.390625 \nQ 39.453125 6.390625 43.28125 13.890625 \nQ 47.125 21.390625 47.125 36.375 \nQ 47.125 51.421875 43.28125 58.90625 \nQ 39.453125 66.40625 31.78125 66.40625 \nz\nM 31.78125 74.21875 \nQ 44.046875 74.21875 50.515625 64.515625 \nQ 56.984375 54.828125 56.984375 36.375 \nQ 56.984375 17.96875 50.515625 8.265625 \nQ 44.046875 -1.421875 31.78125 -1.421875 \nQ 19.53125 -1.421875 13.0625 8.265625 \nQ 6.59375 17.96875 6.59375 36.375 \nQ 6.59375 54.828125 13.0625 64.515625 \nQ 19.53125 74.21875 31.78125 74.21875 \nz\n\" id=\"DejaVuSans-48\"/>\n       </defs>\n       <use xlink:href=\"#DejaVuSans-49\"/>\n       <use x=\"63.623047\" xlink:href=\"#DejaVuSans-48\"/>\n      </g>\n     </g>\n    </g>\n    <g id=\"xtick_6\">\n     <g id=\"line2d_6\">\n      <g>\n       <use style=\"stroke:#000000;stroke-width:0.8;\" x=\"350.724432\" xlink:href=\"#m7cd0c4320d\" y=\"224.64\"/>\n      </g>\n     </g>\n     <g id=\"text_6\">\n      <!-- 12 -->\n      <g transform=\"translate(344.361932 239.238437)scale(0.1 -0.1)\">\n       <use xlink:href=\"#DejaVuSans-49\"/>\n       <use x=\"63.623047\" xlink:href=\"#DejaVuSans-50\"/>\n      </g>\n     </g>\n    </g>\n    <g id=\"text_7\">\n     <!-- Nombre de variables sélectionnées -->\n     <g transform=\"translate(135.847656 252.916562)scale(0.1 -0.1)\">\n      <defs>\n       <path d=\"M 9.8125 72.90625 \nL 23.09375 72.90625 \nL 55.421875 11.921875 \nL 55.421875 72.90625 \nL 64.984375 72.90625 \nL 64.984375 0 \nL 51.703125 0 \nL 19.390625 60.984375 \nL 19.390625 0 \nL 9.8125 0 \nz\n\" id=\"DejaVuSans-78\"/>\n       <path d=\"M 30.609375 48.390625 \nQ 23.390625 48.390625 19.1875 42.75 \nQ 14.984375 37.109375 14.984375 27.296875 \nQ 14.984375 17.484375 19.15625 11.84375 \nQ 23.34375 6.203125 30.609375 6.203125 \nQ 37.796875 6.203125 41.984375 11.859375 \nQ 46.1875 17.53125 46.1875 27.296875 \nQ 46.1875 37.015625 41.984375 42.703125 \nQ 37.796875 48.390625 30.609375 48.390625 \nz\nM 30.609375 56 \nQ 42.328125 56 49.015625 48.375 \nQ 55.71875 40.765625 55.71875 27.296875 \nQ 55.71875 13.875 49.015625 6.21875 \nQ 42.328125 -1.421875 30.609375 -1.421875 \nQ 18.84375 -1.421875 12.171875 6.21875 \nQ 5.515625 13.875 5.515625 27.296875 \nQ 5.515625 40.765625 12.171875 48.375 \nQ 18.84375 56 30.609375 56 \nz\n\" id=\"DejaVuSans-111\"/>\n       <path d=\"M 52 44.1875 \nQ 55.375 50.25 60.0625 53.125 \nQ 64.75 56 71.09375 56 \nQ 79.640625 56 84.28125 50.015625 \nQ 88.921875 44.046875 88.921875 33.015625 \nL 88.921875 0 \nL 79.890625 0 \nL 79.890625 32.71875 \nQ 79.890625 40.578125 77.09375 44.375 \nQ 74.3125 48.1875 68.609375 48.1875 \nQ 61.625 48.1875 57.5625 43.546875 \nQ 53.515625 38.921875 53.515625 30.90625 \nL 53.515625 0 \nL 44.484375 0 \nL 44.484375 32.71875 \nQ 44.484375 40.625 41.703125 44.40625 \nQ 38.921875 48.1875 33.109375 48.1875 \nQ 26.21875 48.1875 22.15625 43.53125 \nQ 18.109375 38.875 18.109375 30.90625 \nL 18.109375 0 \nL 9.078125 0 \nL 9.078125 54.6875 \nL 18.109375 54.6875 \nL 18.109375 46.1875 \nQ 21.1875 51.21875 25.484375 53.609375 \nQ 29.78125 56 35.6875 56 \nQ 41.65625 56 45.828125 52.96875 \nQ 50 49.953125 52 44.1875 \nz\n\" id=\"DejaVuSans-109\"/>\n       <path d=\"M 48.6875 27.296875 \nQ 48.6875 37.203125 44.609375 42.84375 \nQ 40.53125 48.484375 33.40625 48.484375 \nQ 26.265625 48.484375 22.1875 42.84375 \nQ 18.109375 37.203125 18.109375 27.296875 \nQ 18.109375 17.390625 22.1875 11.75 \nQ 26.265625 6.109375 33.40625 6.109375 \nQ 40.53125 6.109375 44.609375 11.75 \nQ 48.6875 17.390625 48.6875 27.296875 \nz\nM 18.109375 46.390625 \nQ 20.953125 51.265625 25.265625 53.625 \nQ 29.59375 56 35.59375 56 \nQ 45.5625 56 51.78125 48.09375 \nQ 58.015625 40.1875 58.015625 27.296875 \nQ 58.015625 14.40625 51.78125 6.484375 \nQ 45.5625 -1.421875 35.59375 -1.421875 \nQ 29.59375 -1.421875 25.265625 0.953125 \nQ 20.953125 3.328125 18.109375 8.203125 \nL 18.109375 0 \nL 9.078125 0 \nL 9.078125 75.984375 \nL 18.109375 75.984375 \nz\n\" id=\"DejaVuSans-98\"/>\n       <path d=\"M 41.109375 46.296875 \nQ 39.59375 47.171875 37.8125 47.578125 \nQ 36.03125 48 33.890625 48 \nQ 26.265625 48 22.1875 43.046875 \nQ 18.109375 38.09375 18.109375 28.8125 \nL 18.109375 0 \nL 9.078125 0 \nL 9.078125 54.6875 \nL 18.109375 54.6875 \nL 18.109375 46.1875 \nQ 20.953125 51.171875 25.484375 53.578125 \nQ 30.03125 56 36.53125 56 \nQ 37.453125 56 38.578125 55.875 \nQ 39.703125 55.765625 41.0625 55.515625 \nz\n\" id=\"DejaVuSans-114\"/>\n       <path d=\"M 56.203125 29.59375 \nL 56.203125 25.203125 \nL 14.890625 25.203125 \nQ 15.484375 15.921875 20.484375 11.0625 \nQ 25.484375 6.203125 34.421875 6.203125 \nQ 39.59375 6.203125 44.453125 7.46875 \nQ 49.3125 8.734375 54.109375 11.28125 \nL 54.109375 2.78125 \nQ 49.265625 0.734375 44.1875 -0.34375 \nQ 39.109375 -1.421875 33.890625 -1.421875 \nQ 20.796875 -1.421875 13.15625 6.1875 \nQ 5.515625 13.8125 5.515625 26.8125 \nQ 5.515625 40.234375 12.765625 48.109375 \nQ 20.015625 56 32.328125 56 \nQ 43.359375 56 49.78125 48.890625 \nQ 56.203125 41.796875 56.203125 29.59375 \nz\nM 47.21875 32.234375 \nQ 47.125 39.59375 43.09375 43.984375 \nQ 39.0625 48.390625 32.421875 48.390625 \nQ 24.90625 48.390625 20.390625 44.140625 \nQ 15.875 39.890625 15.1875 32.171875 \nz\n\" id=\"DejaVuSans-101\"/>\n       <path id=\"DejaVuSans-32\"/>\n       <path d=\"M 45.40625 46.390625 \nL 45.40625 75.984375 \nL 54.390625 75.984375 \nL 54.390625 0 \nL 45.40625 0 \nL 45.40625 8.203125 \nQ 42.578125 3.328125 38.25 0.953125 \nQ 33.9375 -1.421875 27.875 -1.421875 \nQ 17.96875 -1.421875 11.734375 6.484375 \nQ 5.515625 14.40625 5.515625 27.296875 \nQ 5.515625 40.1875 11.734375 48.09375 \nQ 17.96875 56 27.875 56 \nQ 33.9375 56 38.25 53.625 \nQ 42.578125 51.265625 45.40625 46.390625 \nz\nM 14.796875 27.296875 \nQ 14.796875 17.390625 18.875 11.75 \nQ 22.953125 6.109375 30.078125 6.109375 \nQ 37.203125 6.109375 41.296875 11.75 \nQ 45.40625 17.390625 45.40625 27.296875 \nQ 45.40625 37.203125 41.296875 42.84375 \nQ 37.203125 48.484375 30.078125 48.484375 \nQ 22.953125 48.484375 18.875 42.84375 \nQ 14.796875 37.203125 14.796875 27.296875 \nz\n\" id=\"DejaVuSans-100\"/>\n       <path d=\"M 2.984375 54.6875 \nL 12.5 54.6875 \nL 29.59375 8.796875 \nL 46.6875 54.6875 \nL 56.203125 54.6875 \nL 35.6875 0 \nL 23.484375 0 \nz\n\" id=\"DejaVuSans-118\"/>\n       <path d=\"M 34.28125 27.484375 \nQ 23.390625 27.484375 19.1875 25 \nQ 14.984375 22.515625 14.984375 16.5 \nQ 14.984375 11.71875 18.140625 8.90625 \nQ 21.296875 6.109375 26.703125 6.109375 \nQ 34.1875 6.109375 38.703125 11.40625 \nQ 43.21875 16.703125 43.21875 25.484375 \nL 43.21875 27.484375 \nz\nM 52.203125 31.203125 \nL 52.203125 0 \nL 43.21875 0 \nL 43.21875 8.296875 \nQ 40.140625 3.328125 35.546875 0.953125 \nQ 30.953125 -1.421875 24.3125 -1.421875 \nQ 15.921875 -1.421875 10.953125 3.296875 \nQ 6 8.015625 6 15.921875 \nQ 6 25.140625 12.171875 29.828125 \nQ 18.359375 34.515625 30.609375 34.515625 \nL 43.21875 34.515625 \nL 43.21875 35.40625 \nQ 43.21875 41.609375 39.140625 45 \nQ 35.0625 48.390625 27.6875 48.390625 \nQ 23 48.390625 18.546875 47.265625 \nQ 14.109375 46.140625 10.015625 43.890625 \nL 10.015625 52.203125 \nQ 14.9375 54.109375 19.578125 55.046875 \nQ 24.21875 56 28.609375 56 \nQ 40.484375 56 46.34375 49.84375 \nQ 52.203125 43.703125 52.203125 31.203125 \nz\n\" id=\"DejaVuSans-97\"/>\n       <path d=\"M 9.421875 54.6875 \nL 18.40625 54.6875 \nL 18.40625 0 \nL 9.421875 0 \nz\nM 9.421875 75.984375 \nL 18.40625 75.984375 \nL 18.40625 64.59375 \nL 9.421875 64.59375 \nz\n\" id=\"DejaVuSans-105\"/>\n       <path d=\"M 9.421875 75.984375 \nL 18.40625 75.984375 \nL 18.40625 0 \nL 9.421875 0 \nz\n\" id=\"DejaVuSans-108\"/>\n       <path d=\"M 44.28125 53.078125 \nL 44.28125 44.578125 \nQ 40.484375 46.53125 36.375 47.5 \nQ 32.28125 48.484375 27.875 48.484375 \nQ 21.1875 48.484375 17.84375 46.4375 \nQ 14.5 44.390625 14.5 40.28125 \nQ 14.5 37.15625 16.890625 35.375 \nQ 19.28125 33.59375 26.515625 31.984375 \nL 29.59375 31.296875 \nQ 39.15625 29.25 43.1875 25.515625 \nQ 47.21875 21.78125 47.21875 15.09375 \nQ 47.21875 7.46875 41.1875 3.015625 \nQ 35.15625 -1.421875 24.609375 -1.421875 \nQ 20.21875 -1.421875 15.453125 -0.5625 \nQ 10.6875 0.296875 5.421875 2 \nL 5.421875 11.28125 \nQ 10.40625 8.6875 15.234375 7.390625 \nQ 20.0625 6.109375 24.8125 6.109375 \nQ 31.15625 6.109375 34.5625 8.28125 \nQ 37.984375 10.453125 37.984375 14.40625 \nQ 37.984375 18.0625 35.515625 20.015625 \nQ 33.0625 21.96875 24.703125 23.78125 \nL 21.578125 24.515625 \nQ 13.234375 26.265625 9.515625 29.90625 \nQ 5.8125 33.546875 5.8125 39.890625 \nQ 5.8125 47.609375 11.28125 51.796875 \nQ 16.75 56 26.8125 56 \nQ 31.78125 56 36.171875 55.265625 \nQ 40.578125 54.546875 44.28125 53.078125 \nz\n\" id=\"DejaVuSans-115\"/>\n       <path d=\"M 56.203125 29.59375 \nL 56.203125 25.203125 \nL 14.890625 25.203125 \nQ 15.484375 15.921875 20.484375 11.0625 \nQ 25.484375 6.203125 34.421875 6.203125 \nQ 39.59375 6.203125 44.453125 7.46875 \nQ 49.3125 8.734375 54.109375 11.28125 \nL 54.109375 2.78125 \nQ 49.265625 0.734375 44.1875 -0.34375 \nQ 39.109375 -1.421875 33.890625 -1.421875 \nQ 20.796875 -1.421875 13.15625 6.1875 \nQ 5.515625 13.8125 5.515625 26.8125 \nQ 5.515625 40.234375 12.765625 48.109375 \nQ 20.015625 56 32.328125 56 \nQ 43.359375 56 49.78125 48.890625 \nQ 56.203125 41.796875 56.203125 29.59375 \nz\nM 47.21875 32.234375 \nQ 47.125 39.59375 43.09375 43.984375 \nQ 39.0625 48.390625 32.421875 48.390625 \nQ 24.90625 48.390625 20.390625 44.140625 \nQ 15.875 39.890625 15.1875 32.171875 \nz\nM 38.53125 79.984375 \nL 48.25 79.984375 \nL 32.34375 61.625 \nL 24.859375 61.625 \nz\n\" id=\"DejaVuSans-233\"/>\n       <path d=\"M 48.78125 52.59375 \nL 48.78125 44.1875 \nQ 44.96875 46.296875 41.140625 47.34375 \nQ 37.3125 48.390625 33.40625 48.390625 \nQ 24.65625 48.390625 19.8125 42.84375 \nQ 14.984375 37.3125 14.984375 27.296875 \nQ 14.984375 17.28125 19.8125 11.734375 \nQ 24.65625 6.203125 33.40625 6.203125 \nQ 37.3125 6.203125 41.140625 7.25 \nQ 44.96875 8.296875 48.78125 10.40625 \nL 48.78125 2.09375 \nQ 45.015625 0.34375 40.984375 -0.53125 \nQ 36.96875 -1.421875 32.421875 -1.421875 \nQ 20.0625 -1.421875 12.78125 6.34375 \nQ 5.515625 14.109375 5.515625 27.296875 \nQ 5.515625 40.671875 12.859375 48.328125 \nQ 20.21875 56 33.015625 56 \nQ 37.15625 56 41.109375 55.140625 \nQ 45.0625 54.296875 48.78125 52.59375 \nz\n\" id=\"DejaVuSans-99\"/>\n       <path d=\"M 18.3125 70.21875 \nL 18.3125 54.6875 \nL 36.8125 54.6875 \nL 36.8125 47.703125 \nL 18.3125 47.703125 \nL 18.3125 18.015625 \nQ 18.3125 11.328125 20.140625 9.421875 \nQ 21.96875 7.515625 27.59375 7.515625 \nL 36.8125 7.515625 \nL 36.8125 0 \nL 27.59375 0 \nQ 17.1875 0 13.234375 3.875 \nQ 9.28125 7.765625 9.28125 18.015625 \nL 9.28125 47.703125 \nL 2.6875 47.703125 \nL 2.6875 54.6875 \nL 9.28125 54.6875 \nL 9.28125 70.21875 \nz\n\" id=\"DejaVuSans-116\"/>\n       <path d=\"M 54.890625 33.015625 \nL 54.890625 0 \nL 45.90625 0 \nL 45.90625 32.71875 \nQ 45.90625 40.484375 42.875 44.328125 \nQ 39.84375 48.1875 33.796875 48.1875 \nQ 26.515625 48.1875 22.3125 43.546875 \nQ 18.109375 38.921875 18.109375 30.90625 \nL 18.109375 0 \nL 9.078125 0 \nL 9.078125 54.6875 \nL 18.109375 54.6875 \nL 18.109375 46.1875 \nQ 21.34375 51.125 25.703125 53.5625 \nQ 30.078125 56 35.796875 56 \nQ 45.21875 56 50.046875 50.171875 \nQ 54.890625 44.34375 54.890625 33.015625 \nz\n\" id=\"DejaVuSans-110\"/>\n      </defs>\n      <use xlink:href=\"#DejaVuSans-78\"/>\n      <use x=\"74.804688\" xlink:href=\"#DejaVuSans-111\"/>\n      <use x=\"135.986328\" xlink:href=\"#DejaVuSans-109\"/>\n      <use x=\"233.398438\" xlink:href=\"#DejaVuSans-98\"/>\n      <use x=\"296.875\" xlink:href=\"#DejaVuSans-114\"/>\n      <use x=\"335.738281\" xlink:href=\"#DejaVuSans-101\"/>\n      <use x=\"397.261719\" xlink:href=\"#DejaVuSans-32\"/>\n      <use x=\"429.048828\" xlink:href=\"#DejaVuSans-100\"/>\n      <use x=\"492.525391\" xlink:href=\"#DejaVuSans-101\"/>\n      <use x=\"554.048828\" xlink:href=\"#DejaVuSans-32\"/>\n      <use x=\"585.835938\" xlink:href=\"#DejaVuSans-118\"/>\n      <use x=\"645.015625\" xlink:href=\"#DejaVuSans-97\"/>\n      <use x=\"706.294922\" xlink:href=\"#DejaVuSans-114\"/>\n      <use x=\"747.408203\" xlink:href=\"#DejaVuSans-105\"/>\n      <use x=\"775.191406\" xlink:href=\"#DejaVuSans-97\"/>\n      <use x=\"836.470703\" xlink:href=\"#DejaVuSans-98\"/>\n      <use x=\"899.947266\" xlink:href=\"#DejaVuSans-108\"/>\n      <use x=\"927.730469\" xlink:href=\"#DejaVuSans-101\"/>\n      <use x=\"989.253906\" xlink:href=\"#DejaVuSans-115\"/>\n      <use x=\"1041.353516\" xlink:href=\"#DejaVuSans-32\"/>\n      <use x=\"1073.140625\" xlink:href=\"#DejaVuSans-115\"/>\n      <use x=\"1125.240234\" xlink:href=\"#DejaVuSans-233\"/>\n      <use x=\"1186.763672\" xlink:href=\"#DejaVuSans-108\"/>\n      <use x=\"1214.546875\" xlink:href=\"#DejaVuSans-101\"/>\n      <use x=\"1276.070312\" xlink:href=\"#DejaVuSans-99\"/>\n      <use x=\"1331.050781\" xlink:href=\"#DejaVuSans-116\"/>\n      <use x=\"1370.259766\" xlink:href=\"#DejaVuSans-105\"/>\n      <use x=\"1398.042969\" xlink:href=\"#DejaVuSans-111\"/>\n      <use x=\"1459.224609\" xlink:href=\"#DejaVuSans-110\"/>\n      <use x=\"1522.603516\" xlink:href=\"#DejaVuSans-110\"/>\n      <use x=\"1585.982422\" xlink:href=\"#DejaVuSans-233\"/>\n      <use x=\"1647.505859\" xlink:href=\"#DejaVuSans-101\"/>\n      <use x=\"1709.029297\" xlink:href=\"#DejaVuSans-115\"/>\n     </g>\n    </g>\n   </g>\n   <g id=\"matplotlib.axis_2\">\n    <g id=\"ytick_1\">\n     <g id=\"line2d_7\">\n      <defs>\n       <path d=\"M 0 0 \nL -3.5 0 \n\" id=\"m600f10a639\" style=\"stroke:#000000;stroke-width:0.8;\"/>\n      </defs>\n      <g>\n       <use style=\"stroke:#000000;stroke-width:0.8;\" x=\"56.50625\" xlink:href=\"#m600f10a639\" y=\"199.161601\"/>\n      </g>\n     </g>\n     <g id=\"text_8\">\n      <!-- 0.030 -->\n      <g transform=\"translate(20.878125 202.96082)scale(0.1 -0.1)\">\n       <defs>\n        <path d=\"M 10.6875 12.40625 \nL 21 12.40625 \nL 21 0 \nL 10.6875 0 \nz\n\" id=\"DejaVuSans-46\"/>\n        <path d=\"M 40.578125 39.3125 \nQ 47.65625 37.796875 51.625 33 \nQ 55.609375 28.21875 55.609375 21.1875 \nQ 55.609375 10.40625 48.1875 4.484375 \nQ 40.765625 -1.421875 27.09375 -1.421875 \nQ 22.515625 -1.421875 17.65625 -0.515625 \nQ 12.796875 0.390625 7.625 2.203125 \nL 7.625 11.71875 \nQ 11.71875 9.328125 16.59375 8.109375 \nQ 21.484375 6.890625 26.8125 6.890625 \nQ 36.078125 6.890625 40.9375 10.546875 \nQ 45.796875 14.203125 45.796875 21.1875 \nQ 45.796875 27.640625 41.28125 31.265625 \nQ 36.765625 34.90625 28.71875 34.90625 \nL 20.21875 34.90625 \nL 20.21875 43.015625 \nL 29.109375 43.015625 \nQ 36.375 43.015625 40.234375 45.921875 \nQ 44.09375 48.828125 44.09375 54.296875 \nQ 44.09375 59.90625 40.109375 62.90625 \nQ 36.140625 65.921875 28.71875 65.921875 \nQ 24.65625 65.921875 20.015625 65.03125 \nQ 15.375 64.15625 9.8125 62.3125 \nL 9.8125 71.09375 \nQ 15.4375 72.65625 20.34375 73.4375 \nQ 25.25 74.21875 29.59375 74.21875 \nQ 40.828125 74.21875 47.359375 69.109375 \nQ 53.90625 64.015625 53.90625 55.328125 \nQ 53.90625 49.265625 50.4375 45.09375 \nQ 46.96875 40.921875 40.578125 39.3125 \nz\n\" id=\"DejaVuSans-51\"/>\n       </defs>\n       <use xlink:href=\"#DejaVuSans-48\"/>\n       <use x=\"63.623047\" xlink:href=\"#DejaVuSans-46\"/>\n       <use x=\"95.410156\" xlink:href=\"#DejaVuSans-48\"/>\n       <use x=\"159.033203\" xlink:href=\"#DejaVuSans-51\"/>\n       <use x=\"222.65625\" xlink:href=\"#DejaVuSans-48\"/>\n      </g>\n     </g>\n    </g>\n    <g id=\"ytick_2\">\n     <g id=\"line2d_8\">\n      <g>\n       <use style=\"stroke:#000000;stroke-width:0.8;\" x=\"56.50625\" xlink:href=\"#m600f10a639\" y=\"152.313649\"/>\n      </g>\n     </g>\n     <g id=\"text_9\">\n      <!-- 0.035 -->\n      <g transform=\"translate(20.878125 156.112868)scale(0.1 -0.1)\">\n       <defs>\n        <path d=\"M 10.796875 72.90625 \nL 49.515625 72.90625 \nL 49.515625 64.59375 \nL 19.828125 64.59375 \nL 19.828125 46.734375 \nQ 21.96875 47.46875 24.109375 47.828125 \nQ 26.265625 48.1875 28.421875 48.1875 \nQ 40.625 48.1875 47.75 41.5 \nQ 54.890625 34.8125 54.890625 23.390625 \nQ 54.890625 11.625 47.5625 5.09375 \nQ 40.234375 -1.421875 26.90625 -1.421875 \nQ 22.3125 -1.421875 17.546875 -0.640625 \nQ 12.796875 0.140625 7.71875 1.703125 \nL 7.71875 11.625 \nQ 12.109375 9.234375 16.796875 8.0625 \nQ 21.484375 6.890625 26.703125 6.890625 \nQ 35.15625 6.890625 40.078125 11.328125 \nQ 45.015625 15.765625 45.015625 23.390625 \nQ 45.015625 31 40.078125 35.4375 \nQ 35.15625 39.890625 26.703125 39.890625 \nQ 22.75 39.890625 18.8125 39.015625 \nQ 14.890625 38.140625 10.796875 36.28125 \nz\n\" id=\"DejaVuSans-53\"/>\n       </defs>\n       <use xlink:href=\"#DejaVuSans-48\"/>\n       <use x=\"63.623047\" xlink:href=\"#DejaVuSans-46\"/>\n       <use x=\"95.410156\" xlink:href=\"#DejaVuSans-48\"/>\n       <use x=\"159.033203\" xlink:href=\"#DejaVuSans-51\"/>\n       <use x=\"222.65625\" xlink:href=\"#DejaVuSans-53\"/>\n      </g>\n     </g>\n    </g>\n    <g id=\"ytick_3\">\n     <g id=\"line2d_9\">\n      <g>\n       <use style=\"stroke:#000000;stroke-width:0.8;\" x=\"56.50625\" xlink:href=\"#m600f10a639\" y=\"105.465696\"/>\n      </g>\n     </g>\n     <g id=\"text_10\">\n      <!-- 0.040 -->\n      <g transform=\"translate(20.878125 109.264915)scale(0.1 -0.1)\">\n       <use xlink:href=\"#DejaVuSans-48\"/>\n       <use x=\"63.623047\" xlink:href=\"#DejaVuSans-46\"/>\n       <use x=\"95.410156\" xlink:href=\"#DejaVuSans-48\"/>\n       <use x=\"159.033203\" xlink:href=\"#DejaVuSans-52\"/>\n       <use x=\"222.65625\" xlink:href=\"#DejaVuSans-48\"/>\n      </g>\n     </g>\n    </g>\n    <g id=\"ytick_4\">\n     <g id=\"line2d_10\">\n      <g>\n       <use style=\"stroke:#000000;stroke-width:0.8;\" x=\"56.50625\" xlink:href=\"#m600f10a639\" y=\"58.617744\"/>\n      </g>\n     </g>\n     <g id=\"text_11\">\n      <!-- 0.045 -->\n      <g transform=\"translate(20.878125 62.416963)scale(0.1 -0.1)\">\n       <use xlink:href=\"#DejaVuSans-48\"/>\n       <use x=\"63.623047\" xlink:href=\"#DejaVuSans-46\"/>\n       <use x=\"95.410156\" xlink:href=\"#DejaVuSans-48\"/>\n       <use x=\"159.033203\" xlink:href=\"#DejaVuSans-52\"/>\n       <use x=\"222.65625\" xlink:href=\"#DejaVuSans-53\"/>\n      </g>\n     </g>\n    </g>\n    <g id=\"ytick_5\">\n     <g id=\"line2d_11\">\n      <g>\n       <use style=\"stroke:#000000;stroke-width:0.8;\" x=\"56.50625\" xlink:href=\"#m600f10a639\" y=\"11.769792\"/>\n      </g>\n     </g>\n     <g id=\"text_12\">\n      <!-- 0.050 -->\n      <g transform=\"translate(20.878125 15.56901)scale(0.1 -0.1)\">\n       <use xlink:href=\"#DejaVuSans-48\"/>\n       <use x=\"63.623047\" xlink:href=\"#DejaVuSans-46\"/>\n       <use x=\"95.410156\" xlink:href=\"#DejaVuSans-48\"/>\n       <use x=\"159.033203\" xlink:href=\"#DejaVuSans-53\"/>\n       <use x=\"222.65625\" xlink:href=\"#DejaVuSans-48\"/>\n      </g>\n     </g>\n    </g>\n    <g id=\"text_13\">\n     <!-- Score F3 moyen -->\n     <g transform=\"translate(14.798437 156.291875)rotate(-90)scale(0.1 -0.1)\">\n      <defs>\n       <path d=\"M 53.515625 70.515625 \nL 53.515625 60.890625 \nQ 47.90625 63.578125 42.921875 64.890625 \nQ 37.9375 66.21875 33.296875 66.21875 \nQ 25.25 66.21875 20.875 63.09375 \nQ 16.5 59.96875 16.5 54.203125 \nQ 16.5 49.359375 19.40625 46.890625 \nQ 22.3125 44.4375 30.421875 42.921875 \nL 36.375 41.703125 \nQ 47.40625 39.59375 52.65625 34.296875 \nQ 57.90625 29 57.90625 20.125 \nQ 57.90625 9.515625 50.796875 4.046875 \nQ 43.703125 -1.421875 29.984375 -1.421875 \nQ 24.8125 -1.421875 18.96875 -0.25 \nQ 13.140625 0.921875 6.890625 3.21875 \nL 6.890625 13.375 \nQ 12.890625 10.015625 18.65625 8.296875 \nQ 24.421875 6.59375 29.984375 6.59375 \nQ 38.421875 6.59375 43.015625 9.90625 \nQ 47.609375 13.234375 47.609375 19.390625 \nQ 47.609375 24.75 44.3125 27.78125 \nQ 41.015625 30.8125 33.5 32.328125 \nL 27.484375 33.5 \nQ 16.453125 35.6875 11.515625 40.375 \nQ 6.59375 45.0625 6.59375 53.421875 \nQ 6.59375 63.09375 13.40625 68.65625 \nQ 20.21875 74.21875 32.171875 74.21875 \nQ 37.3125 74.21875 42.625 73.28125 \nQ 47.953125 72.359375 53.515625 70.515625 \nz\n\" id=\"DejaVuSans-83\"/>\n       <path d=\"M 9.8125 72.90625 \nL 51.703125 72.90625 \nL 51.703125 64.59375 \nL 19.671875 64.59375 \nL 19.671875 43.109375 \nL 48.578125 43.109375 \nL 48.578125 34.8125 \nL 19.671875 34.8125 \nL 19.671875 0 \nL 9.8125 0 \nz\n\" id=\"DejaVuSans-70\"/>\n       <path d=\"M 32.171875 -5.078125 \nQ 28.375 -14.84375 24.75 -17.8125 \nQ 21.140625 -20.796875 15.09375 -20.796875 \nL 7.90625 -20.796875 \nL 7.90625 -13.28125 \nL 13.1875 -13.28125 \nQ 16.890625 -13.28125 18.9375 -11.515625 \nQ 21 -9.765625 23.484375 -3.21875 \nL 25.09375 0.875 \nL 2.984375 54.6875 \nL 12.5 54.6875 \nL 29.59375 11.921875 \nL 46.6875 54.6875 \nL 56.203125 54.6875 \nz\n\" id=\"DejaVuSans-121\"/>\n      </defs>\n      <use xlink:href=\"#DejaVuSans-83\"/>\n      <use x=\"63.476562\" xlink:href=\"#DejaVuSans-99\"/>\n      <use x=\"118.457031\" xlink:href=\"#DejaVuSans-111\"/>\n      <use x=\"179.638672\" xlink:href=\"#DejaVuSans-114\"/>\n      <use x=\"218.501953\" xlink:href=\"#DejaVuSans-101\"/>\n      <use x=\"280.025391\" xlink:href=\"#DejaVuSans-32\"/>\n      <use x=\"311.8125\" xlink:href=\"#DejaVuSans-70\"/>\n      <use x=\"369.332031\" xlink:href=\"#DejaVuSans-51\"/>\n      <use x=\"432.955078\" xlink:href=\"#DejaVuSans-32\"/>\n      <use x=\"464.742188\" xlink:href=\"#DejaVuSans-109\"/>\n      <use x=\"562.154297\" xlink:href=\"#DejaVuSans-111\"/>\n      <use x=\"623.335938\" xlink:href=\"#DejaVuSans-121\"/>\n      <use x=\"682.515625\" xlink:href=\"#DejaVuSans-101\"/>\n      <use x=\"744.039062\" xlink:href=\"#DejaVuSans-110\"/>\n     </g>\n    </g>\n   </g>\n   <g id=\"LineCollection_1\">\n    <path clip-path=\"url(#p6887fd1ead)\" d=\"M 147.815341 214.756364 \nL 147.815341 17.083636 \n\" style=\"fill:none;stroke:#000000;stroke-dasharray:5.55,2.4;stroke-dashoffset:0;stroke-width:1.5;\"/>\n   </g>\n   <g id=\"line2d_12\">\n    <path clip-path=\"url(#p6887fd1ead)\" d=\"M 71.724432 205.77124 \nL 97.088068 143.344248 \nL 122.451705 54.158348 \nL 147.815341 36.436653 \nL 173.178977 33.528891 \nL 198.542614 30.402996 \nL 223.90625 30.633262 \nL 249.269886 27.736506 \nL 274.633523 28.964412 \nL 299.997159 26.51698 \nL 325.360795 26.516834 \nL 350.724432 26.06876 \nL 376.088068 26.181321 \n\" style=\"fill:none;stroke:#1f77b4;stroke-linecap:square;stroke-width:1.5;\"/>\n   </g>\n   <g id=\"patch_3\">\n    <path d=\"M 56.50625 224.64 \nL 56.50625 7.2 \n\" style=\"fill:none;stroke:#000000;stroke-linecap:square;stroke-linejoin:miter;stroke-width:0.8;\"/>\n   </g>\n   <g id=\"patch_4\">\n    <path d=\"M 391.30625 224.64 \nL 391.30625 7.2 \n\" style=\"fill:none;stroke:#000000;stroke-linecap:square;stroke-linejoin:miter;stroke-width:0.8;\"/>\n   </g>\n   <g id=\"patch_5\">\n    <path d=\"M 56.50625 224.64 \nL 391.30625 224.64 \n\" style=\"fill:none;stroke:#000000;stroke-linecap:square;stroke-linejoin:miter;stroke-width:0.8;\"/>\n   </g>\n   <g id=\"patch_6\">\n    <path d=\"M 56.50625 7.2 \nL 391.30625 7.2 \n\" style=\"fill:none;stroke:#000000;stroke-linecap:square;stroke-linejoin:miter;stroke-width:0.8;\"/>\n   </g>\n  </g>\n </g>\n <defs>\n  <clipPath id=\"p6887fd1ead\">\n   <rect height=\"217.44\" width=\"334.8\" x=\"56.50625\" y=\"7.2\"/>\n  </clipPath>\n </defs>\n</svg>\n",
      "image/png": "[encoded data removed]"
     },
     "metadata": {
      "needs_background": "light"
     }
    },
    {
     "output_type": "stream",
     "name": "stdout",
     "text": [
      "Nombre optimal de variables à sélectionner (coude) : 4\nCPU times: user 13.7 s, sys: 2.09 s, total: 15.8 s\nWall time: 27.8 s\n"
     ]
    }
   ],
   "source": [
    "%%time\n",
    "model = LogisticRegression()\n",
    "knee = run_RFECV(model, X_quant_scaled, y, score=f3_scorer, knee=True)"
   ]
  },
  {
   "cell_type": "markdown",
   "metadata": {},
   "source": [
    "Le nombre de features optimal semble être 4. Nous allons donc maintenant calculer une RFE avec cette valeur pour déterminer les features à conserver."
   ]
  },
  {
   "cell_type": "code",
   "execution_count": 9,
   "metadata": {},
   "outputs": [
    {
     "output_type": "display_data",
     "data": {
      "text/plain": "                                      Rank  Support\ncampaignctrlast24h                       1     True\nnbdisplay_1hour                          1     True\ndisplay_size                             1     True\nzonecostineuro                           1     True\nnbdayssincelastclick                     2    False\nnbdisplayglobalapprox_1d_sum_xdevice     3    False\nltf_nbpartnerdisplayssincelastclick      4    False\nltf_nbpartnerclick_90d                   5    False\ndayssincelastvisitdouble                 6    False\ncontextid                                7    False\nltf_nbpartnerdisplay_90d                 8    False\nltf_nbglobaldisplay_4w                   9    False\nltf_nbpartnersales_90d                  10    False",
      "text/html": "<div>\n<style scoped>\n    .dataframe tbody tr th:only-of-type {\n        vertical-align: middle;\n    }\n\n    .dataframe tbody tr th {\n        vertical-align: top;\n    }\n\n    .dataframe thead th {\n        text-align: right;\n    }\n</style>\n<table border=\"1\" class=\"dataframe\">\n  <thead>\n    <tr style=\"text-align: right;\">\n      <th></th>\n      <th>Rank</th>\n      <th>Support</th>\n    </tr>\n  </thead>\n  <tbody>\n    <tr>\n      <th>campaignctrlast24h</th>\n      <td>1</td>\n      <td>True</td>\n    </tr>\n    <tr>\n      <th>nbdisplay_1hour</th>\n      <td>1</td>\n      <td>True</td>\n    </tr>\n    <tr>\n      <th>display_size</th>\n      <td>1</td>\n      <td>True</td>\n    </tr>\n    <tr>\n      <th>zonecostineuro</th>\n      <td>1</td>\n      <td>True</td>\n    </tr>\n    <tr>\n      <th>nbdayssincelastclick</th>\n      <td>2</td>\n      <td>False</td>\n    </tr>\n    <tr>\n      <th>nbdisplayglobalapprox_1d_sum_xdevice</th>\n      <td>3</td>\n      <td>False</td>\n    </tr>\n    <tr>\n      <th>ltf_nbpartnerdisplayssincelastclick</th>\n      <td>4</td>\n      <td>False</td>\n    </tr>\n    <tr>\n      <th>ltf_nbpartnerclick_90d</th>\n      <td>5</td>\n      <td>False</td>\n    </tr>\n    <tr>\n      <th>dayssincelastvisitdouble</th>\n      <td>6</td>\n      <td>False</td>\n    </tr>\n    <tr>\n      <th>contextid</th>\n      <td>7</td>\n      <td>False</td>\n    </tr>\n    <tr>\n      <th>ltf_nbpartnerdisplay_90d</th>\n      <td>8</td>\n      <td>False</td>\n    </tr>\n    <tr>\n      <th>ltf_nbglobaldisplay_4w</th>\n      <td>9</td>\n      <td>False</td>\n    </tr>\n    <tr>\n      <th>ltf_nbpartnersales_90d</th>\n      <td>10</td>\n      <td>False</td>\n    </tr>\n  </tbody>\n</table>\n</div>"
     },
     "metadata": {}
    },
    {
     "output_type": "stream",
     "name": "stdout",
     "text": [
      "Columns_quant :\n"
     ]
    },
    {
     "output_type": "display_data",
     "data": {
      "text/plain": "['display_size', 'campaignctrlast24h', 'zonecostineuro', 'nbdisplay_1hour']"
     },
     "metadata": {}
    },
    {
     "output_type": "stream",
     "name": "stdout",
     "text": [
      "\nColumns_cat :\n"
     ]
    },
    {
     "output_type": "display_data",
     "data": {
      "text/plain": "[]"
     },
     "metadata": {}
    },
    {
     "output_type": "stream",
     "name": "stdout",
     "text": [
      "CPU times: user 40.2 s, sys: 5.59 s, total: 45.8 s\nWall time: 12.1 s\n"
     ]
    }
   ],
   "source": [
    "%%time\n",
    "model = LogisticRegression()\n",
    "run_RFE(model, 4, X_quant_scaled, y)"
   ]
  },
  {
   "cell_type": "markdown",
   "metadata": {},
   "source": [
    "#### Variables quantitatives + catégorielles"
   ]
  },
  {
   "cell_type": "markdown",
   "metadata": {},
   "source": [
    "Rajoutons à présent les variables catégorielles."
   ]
  },
  {
   "cell_type": "code",
   "execution_count": 10,
   "metadata": {},
   "outputs": [
    {
     "output_type": "display_data",
     "data": {
      "text/plain": "<Figure size 432x288 with 1 Axes>",
      "image/svg+xml": "<?xml version=\"1.0\" encoding=\"utf-8\" standalone=\"no\"?>\n<!DOCTYPE svg PUBLIC \"-//W3C//DTD SVG 1.1//EN\"\n  \"http://www.w3.org/Graphics/SVG/1.1/DTD/svg11.dtd\">\n<!-- Created with matplotlib (https://matplotlib.org/) -->\n<svg height=\"262.19625pt\" version=\"1.1\" viewBox=\"0 0 392.14375 262.19625\" width=\"392.14375pt\" xmlns=\"http://www.w3.org/2000/svg\" xmlns:xlink=\"http://www.w3.org/1999/xlink\">\n <metadata>\n  <rdf:RDF xmlns:cc=\"http://creativecommons.org/ns#\" xmlns:dc=\"http://purl.org/dc/elements/1.1/\" xmlns:rdf=\"http://www.w3.org/1999/02/22-rdf-syntax-ns#\">\n   <cc:Work>\n    <dc:type rdf:resource=\"http://purl.org/dc/dcmitype/StillImage\"/>\n    <dc:date>2021-03-22T23:22:50.159676</dc:date>\n    <dc:format>image/svg+xml</dc:format>\n    <dc:creator>\n     <cc:Agent>\n      <dc:title>Matplotlib v3.3.2, https://matplotlib.org/</dc:title>\n     </cc:Agent>\n    </dc:creator>\n   </cc:Work>\n  </rdf:RDF>\n </metadata>\n <defs>\n  <style type=\"text/css\">*{stroke-linecap:butt;stroke-linejoin:round;}</style>\n </defs>\n <g id=\"figure_1\">\n  <g id=\"patch_1\">\n   <path d=\"M 0 262.19625 \nL 392.14375 262.19625 \nL 392.14375 0 \nL 0 0 \nz\n\" style=\"fill:none;\"/>\n  </g>\n  <g id=\"axes_1\">\n   <g id=\"patch_2\">\n    <path d=\"M 50.14375 224.64 \nL 384.94375 224.64 \nL 384.94375 7.2 \nL 50.14375 7.2 \nz\n\" style=\"fill:#ffffff;\"/>\n   </g>\n   <g id=\"matplotlib.axis_1\">\n    <g id=\"xtick_1\">\n     <g id=\"line2d_1\">\n      <defs>\n       <path d=\"M 0 0 \nL 0 3.5 \n\" id=\"m4071a4ba8c\" style=\"stroke:#000000;stroke-width:0.8;\"/>\n      </defs>\n      <g>\n       <use style=\"stroke:#000000;stroke-width:0.8;\" x=\"60.452841\" xlink:href=\"#m4071a4ba8c\" y=\"224.64\"/>\n      </g>\n     </g>\n     <g id=\"text_1\">\n      <!-- 0 -->\n      <g transform=\"translate(57.271591 239.238437)scale(0.1 -0.1)\">\n       <defs>\n        <path d=\"M 31.78125 66.40625 \nQ 24.171875 66.40625 20.328125 58.90625 \nQ 16.5 51.421875 16.5 36.375 \nQ 16.5 21.390625 20.328125 13.890625 \nQ 24.171875 6.390625 31.78125 6.390625 \nQ 39.453125 6.390625 43.28125 13.890625 \nQ 47.125 21.390625 47.125 36.375 \nQ 47.125 51.421875 43.28125 58.90625 \nQ 39.453125 66.40625 31.78125 66.40625 \nz\nM 31.78125 74.21875 \nQ 44.046875 74.21875 50.515625 64.515625 \nQ 56.984375 54.828125 56.984375 36.375 \nQ 56.984375 17.96875 50.515625 8.265625 \nQ 44.046875 -1.421875 31.78125 -1.421875 \nQ 19.53125 -1.421875 13.0625 8.265625 \nQ 6.59375 17.96875 6.59375 36.375 \nQ 6.59375 54.828125 13.0625 64.515625 \nQ 19.53125 74.21875 31.78125 74.21875 \nz\n\" id=\"DejaVuSans-48\"/>\n       </defs>\n       <use xlink:href=\"#DejaVuSans-48\"/>\n      </g>\n     </g>\n    </g>\n    <g id=\"xtick_2\">\n     <g id=\"line2d_2\">\n      <g>\n       <use style=\"stroke:#000000;stroke-width:0.8;\" x=\"109.54375\" xlink:href=\"#m4071a4ba8c\" y=\"224.64\"/>\n      </g>\n     </g>\n     <g id=\"text_2\">\n      <!-- 10 -->\n      <g transform=\"translate(103.18125 239.238437)scale(0.1 -0.1)\">\n       <defs>\n        <path d=\"M 12.40625 8.296875 \nL 28.515625 8.296875 \nL 28.515625 63.921875 \nL 10.984375 60.40625 \nL 10.984375 69.390625 \nL 28.421875 72.90625 \nL 38.28125 72.90625 \nL 38.28125 8.296875 \nL 54.390625 8.296875 \nL 54.390625 0 \nL 12.40625 0 \nz\n\" id=\"DejaVuSans-49\"/>\n       </defs>\n       <use xlink:href=\"#DejaVuSans-49\"/>\n       <use x=\"63.623047\" xlink:href=\"#DejaVuSans-48\"/>\n      </g>\n     </g>\n    </g>\n    <g id=\"xtick_3\">\n     <g id=\"line2d_3\">\n      <g>\n       <use style=\"stroke:#000000;stroke-width:0.8;\" x=\"158.634659\" xlink:href=\"#m4071a4ba8c\" y=\"224.64\"/>\n      </g>\n     </g>\n     <g id=\"text_3\">\n      <!-- 20 -->\n      <g transform=\"translate(152.272159 239.238437)scale(0.1 -0.1)\">\n       <defs>\n        <path d=\"M 19.1875 8.296875 \nL 53.609375 8.296875 \nL 53.609375 0 \nL 7.328125 0 \nL 7.328125 8.296875 \nQ 12.9375 14.109375 22.625 23.890625 \nQ 32.328125 33.6875 34.8125 36.53125 \nQ 39.546875 41.84375 41.421875 45.53125 \nQ 43.3125 49.21875 43.3125 52.78125 \nQ 43.3125 58.59375 39.234375 62.25 \nQ 35.15625 65.921875 28.609375 65.921875 \nQ 23.96875 65.921875 18.8125 64.3125 \nQ 13.671875 62.703125 7.8125 59.421875 \nL 7.8125 69.390625 \nQ 13.765625 71.78125 18.9375 73 \nQ 24.125 74.21875 28.421875 74.21875 \nQ 39.75 74.21875 46.484375 68.546875 \nQ 53.21875 62.890625 53.21875 53.421875 \nQ 53.21875 48.921875 51.53125 44.890625 \nQ 49.859375 40.875 45.40625 35.40625 \nQ 44.1875 33.984375 37.640625 27.21875 \nQ 31.109375 20.453125 19.1875 8.296875 \nz\n\" id=\"DejaVuSans-50\"/>\n       </defs>\n       <use xlink:href=\"#DejaVuSans-50\"/>\n       <use x=\"63.623047\" xlink:href=\"#DejaVuSans-48\"/>\n      </g>\n     </g>\n    </g>\n    <g id=\"xtick_4\">\n     <g id=\"line2d_4\">\n      <g>\n       <use style=\"stroke:#000000;stroke-width:0.8;\" x=\"207.725568\" xlink:href=\"#m4071a4ba8c\" y=\"224.64\"/>\n      </g>\n     </g>\n     <g id=\"text_4\">\n      <!-- 30 -->\n      <g transform=\"translate(201.363068 239.238437)scale(0.1 -0.1)\">\n       <defs>\n        <path d=\"M 40.578125 39.3125 \nQ 47.65625 37.796875 51.625 33 \nQ 55.609375 28.21875 55.609375 21.1875 \nQ 55.609375 10.40625 48.1875 4.484375 \nQ 40.765625 -1.421875 27.09375 -1.421875 \nQ 22.515625 -1.421875 17.65625 -0.515625 \nQ 12.796875 0.390625 7.625 2.203125 \nL 7.625 11.71875 \nQ 11.71875 9.328125 16.59375 8.109375 \nQ 21.484375 6.890625 26.8125 6.890625 \nQ 36.078125 6.890625 40.9375 10.546875 \nQ 45.796875 14.203125 45.796875 21.1875 \nQ 45.796875 27.640625 41.28125 31.265625 \nQ 36.765625 34.90625 28.71875 34.90625 \nL 20.21875 34.90625 \nL 20.21875 43.015625 \nL 29.109375 43.015625 \nQ 36.375 43.015625 40.234375 45.921875 \nQ 44.09375 48.828125 44.09375 54.296875 \nQ 44.09375 59.90625 40.109375 62.90625 \nQ 36.140625 65.921875 28.71875 65.921875 \nQ 24.65625 65.921875 20.015625 65.03125 \nQ 15.375 64.15625 9.8125 62.3125 \nL 9.8125 71.09375 \nQ 15.4375 72.65625 20.34375 73.4375 \nQ 25.25 74.21875 29.59375 74.21875 \nQ 40.828125 74.21875 47.359375 69.109375 \nQ 53.90625 64.015625 53.90625 55.328125 \nQ 53.90625 49.265625 50.4375 45.09375 \nQ 46.96875 40.921875 40.578125 39.3125 \nz\n\" id=\"DejaVuSans-51\"/>\n       </defs>\n       <use xlink:href=\"#DejaVuSans-51\"/>\n       <use x=\"63.623047\" xlink:href=\"#DejaVuSans-48\"/>\n      </g>\n     </g>\n    </g>\n    <g id=\"xtick_5\">\n     <g id=\"line2d_5\">\n      <g>\n       <use style=\"stroke:#000000;stroke-width:0.8;\" x=\"256.816477\" xlink:href=\"#m4071a4ba8c\" y=\"224.64\"/>\n      </g>\n     </g>\n     <g id=\"text_5\">\n      <!-- 40 -->\n      <g transform=\"translate(250.453977 239.238437)scale(0.1 -0.1)\">\n       <defs>\n        <path d=\"M 37.796875 64.3125 \nL 12.890625 25.390625 \nL 37.796875 25.390625 \nz\nM 35.203125 72.90625 \nL 47.609375 72.90625 \nL 47.609375 25.390625 \nL 58.015625 25.390625 \nL 58.015625 17.1875 \nL 47.609375 17.1875 \nL 47.609375 0 \nL 37.796875 0 \nL 37.796875 17.1875 \nL 4.890625 17.1875 \nL 4.890625 26.703125 \nz\n\" id=\"DejaVuSans-52\"/>\n       </defs>\n       <use xlink:href=\"#DejaVuSans-52\"/>\n       <use x=\"63.623047\" xlink:href=\"#DejaVuSans-48\"/>\n      </g>\n     </g>\n    </g>\n    <g id=\"xtick_6\">\n     <g id=\"line2d_6\">\n      <g>\n       <use style=\"stroke:#000000;stroke-width:0.8;\" x=\"305.907386\" xlink:href=\"#m4071a4ba8c\" y=\"224.64\"/>\n      </g>\n     </g>\n     <g id=\"text_6\">\n      <!-- 50 -->\n      <g transform=\"translate(299.544886 239.238437)scale(0.1 -0.1)\">\n       <defs>\n        <path d=\"M 10.796875 72.90625 \nL 49.515625 72.90625 \nL 49.515625 64.59375 \nL 19.828125 64.59375 \nL 19.828125 46.734375 \nQ 21.96875 47.46875 24.109375 47.828125 \nQ 26.265625 48.1875 28.421875 48.1875 \nQ 40.625 48.1875 47.75 41.5 \nQ 54.890625 34.8125 54.890625 23.390625 \nQ 54.890625 11.625 47.5625 5.09375 \nQ 40.234375 -1.421875 26.90625 -1.421875 \nQ 22.3125 -1.421875 17.546875 -0.640625 \nQ 12.796875 0.140625 7.71875 1.703125 \nL 7.71875 11.625 \nQ 12.109375 9.234375 16.796875 8.0625 \nQ 21.484375 6.890625 26.703125 6.890625 \nQ 35.15625 6.890625 40.078125 11.328125 \nQ 45.015625 15.765625 45.015625 23.390625 \nQ 45.015625 31 40.078125 35.4375 \nQ 35.15625 39.890625 26.703125 39.890625 \nQ 22.75 39.890625 18.8125 39.015625 \nQ 14.890625 38.140625 10.796875 36.28125 \nz\n\" id=\"DejaVuSans-53\"/>\n       </defs>\n       <use xlink:href=\"#DejaVuSans-53\"/>\n       <use x=\"63.623047\" xlink:href=\"#DejaVuSans-48\"/>\n      </g>\n     </g>\n    </g>\n    <g id=\"xtick_7\">\n     <g id=\"line2d_7\">\n      <g>\n       <use style=\"stroke:#000000;stroke-width:0.8;\" x=\"354.998295\" xlink:href=\"#m4071a4ba8c\" y=\"224.64\"/>\n      </g>\n     </g>\n     <g id=\"text_7\">\n      <!-- 60 -->\n      <g transform=\"translate(348.635795 239.238437)scale(0.1 -0.1)\">\n       <defs>\n        <path d=\"M 33.015625 40.375 \nQ 26.375 40.375 22.484375 35.828125 \nQ 18.609375 31.296875 18.609375 23.390625 \nQ 18.609375 15.53125 22.484375 10.953125 \nQ 26.375 6.390625 33.015625 6.390625 \nQ 39.65625 6.390625 43.53125 10.953125 \nQ 47.40625 15.53125 47.40625 23.390625 \nQ 47.40625 31.296875 43.53125 35.828125 \nQ 39.65625 40.375 33.015625 40.375 \nz\nM 52.59375 71.296875 \nL 52.59375 62.3125 \nQ 48.875 64.0625 45.09375 64.984375 \nQ 41.3125 65.921875 37.59375 65.921875 \nQ 27.828125 65.921875 22.671875 59.328125 \nQ 17.53125 52.734375 16.796875 39.40625 \nQ 19.671875 43.65625 24.015625 45.921875 \nQ 28.375 48.1875 33.59375 48.1875 \nQ 44.578125 48.1875 50.953125 41.515625 \nQ 57.328125 34.859375 57.328125 23.390625 \nQ 57.328125 12.15625 50.6875 5.359375 \nQ 44.046875 -1.421875 33.015625 -1.421875 \nQ 20.359375 -1.421875 13.671875 8.265625 \nQ 6.984375 17.96875 6.984375 36.375 \nQ 6.984375 53.65625 15.1875 63.9375 \nQ 23.390625 74.21875 37.203125 74.21875 \nQ 40.921875 74.21875 44.703125 73.484375 \nQ 48.484375 72.75 52.59375 71.296875 \nz\n\" id=\"DejaVuSans-54\"/>\n       </defs>\n       <use xlink:href=\"#DejaVuSans-54\"/>\n       <use x=\"63.623047\" xlink:href=\"#DejaVuSans-48\"/>\n      </g>\n     </g>\n    </g>\n    <g id=\"text_8\">\n     <!-- Nombre de variables sélectionnées -->\n     <g transform=\"translate(129.485156 252.916562)scale(0.1 -0.1)\">\n      <defs>\n       <path d=\"M 9.8125 72.90625 \nL 23.09375 72.90625 \nL 55.421875 11.921875 \nL 55.421875 72.90625 \nL 64.984375 72.90625 \nL 64.984375 0 \nL 51.703125 0 \nL 19.390625 60.984375 \nL 19.390625 0 \nL 9.8125 0 \nz\n\" id=\"DejaVuSans-78\"/>\n       <path d=\"M 30.609375 48.390625 \nQ 23.390625 48.390625 19.1875 42.75 \nQ 14.984375 37.109375 14.984375 27.296875 \nQ 14.984375 17.484375 19.15625 11.84375 \nQ 23.34375 6.203125 30.609375 6.203125 \nQ 37.796875 6.203125 41.984375 11.859375 \nQ 46.1875 17.53125 46.1875 27.296875 \nQ 46.1875 37.015625 41.984375 42.703125 \nQ 37.796875 48.390625 30.609375 48.390625 \nz\nM 30.609375 56 \nQ 42.328125 56 49.015625 48.375 \nQ 55.71875 40.765625 55.71875 27.296875 \nQ 55.71875 13.875 49.015625 6.21875 \nQ 42.328125 -1.421875 30.609375 -1.421875 \nQ 18.84375 -1.421875 12.171875 6.21875 \nQ 5.515625 13.875 5.515625 27.296875 \nQ 5.515625 40.765625 12.171875 48.375 \nQ 18.84375 56 30.609375 56 \nz\n\" id=\"DejaVuSans-111\"/>\n       <path d=\"M 52 44.1875 \nQ 55.375 50.25 60.0625 53.125 \nQ 64.75 56 71.09375 56 \nQ 79.640625 56 84.28125 50.015625 \nQ 88.921875 44.046875 88.921875 33.015625 \nL 88.921875 0 \nL 79.890625 0 \nL 79.890625 32.71875 \nQ 79.890625 40.578125 77.09375 44.375 \nQ 74.3125 48.1875 68.609375 48.1875 \nQ 61.625 48.1875 57.5625 43.546875 \nQ 53.515625 38.921875 53.515625 30.90625 \nL 53.515625 0 \nL 44.484375 0 \nL 44.484375 32.71875 \nQ 44.484375 40.625 41.703125 44.40625 \nQ 38.921875 48.1875 33.109375 48.1875 \nQ 26.21875 48.1875 22.15625 43.53125 \nQ 18.109375 38.875 18.109375 30.90625 \nL 18.109375 0 \nL 9.078125 0 \nL 9.078125 54.6875 \nL 18.109375 54.6875 \nL 18.109375 46.1875 \nQ 21.1875 51.21875 25.484375 53.609375 \nQ 29.78125 56 35.6875 56 \nQ 41.65625 56 45.828125 52.96875 \nQ 50 49.953125 52 44.1875 \nz\n\" id=\"DejaVuSans-109\"/>\n       <path d=\"M 48.6875 27.296875 \nQ 48.6875 37.203125 44.609375 42.84375 \nQ 40.53125 48.484375 33.40625 48.484375 \nQ 26.265625 48.484375 22.1875 42.84375 \nQ 18.109375 37.203125 18.109375 27.296875 \nQ 18.109375 17.390625 22.1875 11.75 \nQ 26.265625 6.109375 33.40625 6.109375 \nQ 40.53125 6.109375 44.609375 11.75 \nQ 48.6875 17.390625 48.6875 27.296875 \nz\nM 18.109375 46.390625 \nQ 20.953125 51.265625 25.265625 53.625 \nQ 29.59375 56 35.59375 56 \nQ 45.5625 56 51.78125 48.09375 \nQ 58.015625 40.1875 58.015625 27.296875 \nQ 58.015625 14.40625 51.78125 6.484375 \nQ 45.5625 -1.421875 35.59375 -1.421875 \nQ 29.59375 -1.421875 25.265625 0.953125 \nQ 20.953125 3.328125 18.109375 8.203125 \nL 18.109375 0 \nL 9.078125 0 \nL 9.078125 75.984375 \nL 18.109375 75.984375 \nz\n\" id=\"DejaVuSans-98\"/>\n       <path d=\"M 41.109375 46.296875 \nQ 39.59375 47.171875 37.8125 47.578125 \nQ 36.03125 48 33.890625 48 \nQ 26.265625 48 22.1875 43.046875 \nQ 18.109375 38.09375 18.109375 28.8125 \nL 18.109375 0 \nL 9.078125 0 \nL 9.078125 54.6875 \nL 18.109375 54.6875 \nL 18.109375 46.1875 \nQ 20.953125 51.171875 25.484375 53.578125 \nQ 30.03125 56 36.53125 56 \nQ 37.453125 56 38.578125 55.875 \nQ 39.703125 55.765625 41.0625 55.515625 \nz\n\" id=\"DejaVuSans-114\"/>\n       <path d=\"M 56.203125 29.59375 \nL 56.203125 25.203125 \nL 14.890625 25.203125 \nQ 15.484375 15.921875 20.484375 11.0625 \nQ 25.484375 6.203125 34.421875 6.203125 \nQ 39.59375 6.203125 44.453125 7.46875 \nQ 49.3125 8.734375 54.109375 11.28125 \nL 54.109375 2.78125 \nQ 49.265625 0.734375 44.1875 -0.34375 \nQ 39.109375 -1.421875 33.890625 -1.421875 \nQ 20.796875 -1.421875 13.15625 6.1875 \nQ 5.515625 13.8125 5.515625 26.8125 \nQ 5.515625 40.234375 12.765625 48.109375 \nQ 20.015625 56 32.328125 56 \nQ 43.359375 56 49.78125 48.890625 \nQ 56.203125 41.796875 56.203125 29.59375 \nz\nM 47.21875 32.234375 \nQ 47.125 39.59375 43.09375 43.984375 \nQ 39.0625 48.390625 32.421875 48.390625 \nQ 24.90625 48.390625 20.390625 44.140625 \nQ 15.875 39.890625 15.1875 32.171875 \nz\n\" id=\"DejaVuSans-101\"/>\n       <path id=\"DejaVuSans-32\"/>\n       <path d=\"M 45.40625 46.390625 \nL 45.40625 75.984375 \nL 54.390625 75.984375 \nL 54.390625 0 \nL 45.40625 0 \nL 45.40625 8.203125 \nQ 42.578125 3.328125 38.25 0.953125 \nQ 33.9375 -1.421875 27.875 -1.421875 \nQ 17.96875 -1.421875 11.734375 6.484375 \nQ 5.515625 14.40625 5.515625 27.296875 \nQ 5.515625 40.1875 11.734375 48.09375 \nQ 17.96875 56 27.875 56 \nQ 33.9375 56 38.25 53.625 \nQ 42.578125 51.265625 45.40625 46.390625 \nz\nM 14.796875 27.296875 \nQ 14.796875 17.390625 18.875 11.75 \nQ 22.953125 6.109375 30.078125 6.109375 \nQ 37.203125 6.109375 41.296875 11.75 \nQ 45.40625 17.390625 45.40625 27.296875 \nQ 45.40625 37.203125 41.296875 42.84375 \nQ 37.203125 48.484375 30.078125 48.484375 \nQ 22.953125 48.484375 18.875 42.84375 \nQ 14.796875 37.203125 14.796875 27.296875 \nz\n\" id=\"DejaVuSans-100\"/>\n       <path d=\"M 2.984375 54.6875 \nL 12.5 54.6875 \nL 29.59375 8.796875 \nL 46.6875 54.6875 \nL 56.203125 54.6875 \nL 35.6875 0 \nL 23.484375 0 \nz\n\" id=\"DejaVuSans-118\"/>\n       <path d=\"M 34.28125 27.484375 \nQ 23.390625 27.484375 19.1875 25 \nQ 14.984375 22.515625 14.984375 16.5 \nQ 14.984375 11.71875 18.140625 8.90625 \nQ 21.296875 6.109375 26.703125 6.109375 \nQ 34.1875 6.109375 38.703125 11.40625 \nQ 43.21875 16.703125 43.21875 25.484375 \nL 43.21875 27.484375 \nz\nM 52.203125 31.203125 \nL 52.203125 0 \nL 43.21875 0 \nL 43.21875 8.296875 \nQ 40.140625 3.328125 35.546875 0.953125 \nQ 30.953125 -1.421875 24.3125 -1.421875 \nQ 15.921875 -1.421875 10.953125 3.296875 \nQ 6 8.015625 6 15.921875 \nQ 6 25.140625 12.171875 29.828125 \nQ 18.359375 34.515625 30.609375 34.515625 \nL 43.21875 34.515625 \nL 43.21875 35.40625 \nQ 43.21875 41.609375 39.140625 45 \nQ 35.0625 48.390625 27.6875 48.390625 \nQ 23 48.390625 18.546875 47.265625 \nQ 14.109375 46.140625 10.015625 43.890625 \nL 10.015625 52.203125 \nQ 14.9375 54.109375 19.578125 55.046875 \nQ 24.21875 56 28.609375 56 \nQ 40.484375 56 46.34375 49.84375 \nQ 52.203125 43.703125 52.203125 31.203125 \nz\n\" id=\"DejaVuSans-97\"/>\n       <path d=\"M 9.421875 54.6875 \nL 18.40625 54.6875 \nL 18.40625 0 \nL 9.421875 0 \nz\nM 9.421875 75.984375 \nL 18.40625 75.984375 \nL 18.40625 64.59375 \nL 9.421875 64.59375 \nz\n\" id=\"DejaVuSans-105\"/>\n       <path d=\"M 9.421875 75.984375 \nL 18.40625 75.984375 \nL 18.40625 0 \nL 9.421875 0 \nz\n\" id=\"DejaVuSans-108\"/>\n       <path d=\"M 44.28125 53.078125 \nL 44.28125 44.578125 \nQ 40.484375 46.53125 36.375 47.5 \nQ 32.28125 48.484375 27.875 48.484375 \nQ 21.1875 48.484375 17.84375 46.4375 \nQ 14.5 44.390625 14.5 40.28125 \nQ 14.5 37.15625 16.890625 35.375 \nQ 19.28125 33.59375 26.515625 31.984375 \nL 29.59375 31.296875 \nQ 39.15625 29.25 43.1875 25.515625 \nQ 47.21875 21.78125 47.21875 15.09375 \nQ 47.21875 7.46875 41.1875 3.015625 \nQ 35.15625 -1.421875 24.609375 -1.421875 \nQ 20.21875 -1.421875 15.453125 -0.5625 \nQ 10.6875 0.296875 5.421875 2 \nL 5.421875 11.28125 \nQ 10.40625 8.6875 15.234375 7.390625 \nQ 20.0625 6.109375 24.8125 6.109375 \nQ 31.15625 6.109375 34.5625 8.28125 \nQ 37.984375 10.453125 37.984375 14.40625 \nQ 37.984375 18.0625 35.515625 20.015625 \nQ 33.0625 21.96875 24.703125 23.78125 \nL 21.578125 24.515625 \nQ 13.234375 26.265625 9.515625 29.90625 \nQ 5.8125 33.546875 5.8125 39.890625 \nQ 5.8125 47.609375 11.28125 51.796875 \nQ 16.75 56 26.8125 56 \nQ 31.78125 56 36.171875 55.265625 \nQ 40.578125 54.546875 44.28125 53.078125 \nz\n\" id=\"DejaVuSans-115\"/>\n       <path d=\"M 56.203125 29.59375 \nL 56.203125 25.203125 \nL 14.890625 25.203125 \nQ 15.484375 15.921875 20.484375 11.0625 \nQ 25.484375 6.203125 34.421875 6.203125 \nQ 39.59375 6.203125 44.453125 7.46875 \nQ 49.3125 8.734375 54.109375 11.28125 \nL 54.109375 2.78125 \nQ 49.265625 0.734375 44.1875 -0.34375 \nQ 39.109375 -1.421875 33.890625 -1.421875 \nQ 20.796875 -1.421875 13.15625 6.1875 \nQ 5.515625 13.8125 5.515625 26.8125 \nQ 5.515625 40.234375 12.765625 48.109375 \nQ 20.015625 56 32.328125 56 \nQ 43.359375 56 49.78125 48.890625 \nQ 56.203125 41.796875 56.203125 29.59375 \nz\nM 47.21875 32.234375 \nQ 47.125 39.59375 43.09375 43.984375 \nQ 39.0625 48.390625 32.421875 48.390625 \nQ 24.90625 48.390625 20.390625 44.140625 \nQ 15.875 39.890625 15.1875 32.171875 \nz\nM 38.53125 79.984375 \nL 48.25 79.984375 \nL 32.34375 61.625 \nL 24.859375 61.625 \nz\n\" id=\"DejaVuSans-233\"/>\n       <path d=\"M 48.78125 52.59375 \nL 48.78125 44.1875 \nQ 44.96875 46.296875 41.140625 47.34375 \nQ 37.3125 48.390625 33.40625 48.390625 \nQ 24.65625 48.390625 19.8125 42.84375 \nQ 14.984375 37.3125 14.984375 27.296875 \nQ 14.984375 17.28125 19.8125 11.734375 \nQ 24.65625 6.203125 33.40625 6.203125 \nQ 37.3125 6.203125 41.140625 7.25 \nQ 44.96875 8.296875 48.78125 10.40625 \nL 48.78125 2.09375 \nQ 45.015625 0.34375 40.984375 -0.53125 \nQ 36.96875 -1.421875 32.421875 -1.421875 \nQ 20.0625 -1.421875 12.78125 6.34375 \nQ 5.515625 14.109375 5.515625 27.296875 \nQ 5.515625 40.671875 12.859375 48.328125 \nQ 20.21875 56 33.015625 56 \nQ 37.15625 56 41.109375 55.140625 \nQ 45.0625 54.296875 48.78125 52.59375 \nz\n\" id=\"DejaVuSans-99\"/>\n       <path d=\"M 18.3125 70.21875 \nL 18.3125 54.6875 \nL 36.8125 54.6875 \nL 36.8125 47.703125 \nL 18.3125 47.703125 \nL 18.3125 18.015625 \nQ 18.3125 11.328125 20.140625 9.421875 \nQ 21.96875 7.515625 27.59375 7.515625 \nL 36.8125 7.515625 \nL 36.8125 0 \nL 27.59375 0 \nQ 17.1875 0 13.234375 3.875 \nQ 9.28125 7.765625 9.28125 18.015625 \nL 9.28125 47.703125 \nL 2.6875 47.703125 \nL 2.6875 54.6875 \nL 9.28125 54.6875 \nL 9.28125 70.21875 \nz\n\" id=\"DejaVuSans-116\"/>\n       <path d=\"M 54.890625 33.015625 \nL 54.890625 0 \nL 45.90625 0 \nL 45.90625 32.71875 \nQ 45.90625 40.484375 42.875 44.328125 \nQ 39.84375 48.1875 33.796875 48.1875 \nQ 26.515625 48.1875 22.3125 43.546875 \nQ 18.109375 38.921875 18.109375 30.90625 \nL 18.109375 0 \nL 9.078125 0 \nL 9.078125 54.6875 \nL 18.109375 54.6875 \nL 18.109375 46.1875 \nQ 21.34375 51.125 25.703125 53.5625 \nQ 30.078125 56 35.796875 56 \nQ 45.21875 56 50.046875 50.171875 \nQ 54.890625 44.34375 54.890625 33.015625 \nz\n\" id=\"DejaVuSans-110\"/>\n      </defs>\n      <use xlink:href=\"#DejaVuSans-78\"/>\n      <use x=\"74.804688\" xlink:href=\"#DejaVuSans-111\"/>\n      <use x=\"135.986328\" xlink:href=\"#DejaVuSans-109\"/>\n      <use x=\"233.398438\" xlink:href=\"#DejaVuSans-98\"/>\n      <use x=\"296.875\" xlink:href=\"#DejaVuSans-114\"/>\n      <use x=\"335.738281\" xlink:href=\"#DejaVuSans-101\"/>\n      <use x=\"397.261719\" xlink:href=\"#DejaVuSans-32\"/>\n      <use x=\"429.048828\" xlink:href=\"#DejaVuSans-100\"/>\n      <use x=\"492.525391\" xlink:href=\"#DejaVuSans-101\"/>\n      <use x=\"554.048828\" xlink:href=\"#DejaVuSans-32\"/>\n      <use x=\"585.835938\" xlink:href=\"#DejaVuSans-118\"/>\n      <use x=\"645.015625\" xlink:href=\"#DejaVuSans-97\"/>\n      <use x=\"706.294922\" xlink:href=\"#DejaVuSans-114\"/>\n      <use x=\"747.408203\" xlink:href=\"#DejaVuSans-105\"/>\n      <use x=\"775.191406\" xlink:href=\"#DejaVuSans-97\"/>\n      <use x=\"836.470703\" xlink:href=\"#DejaVuSans-98\"/>\n      <use x=\"899.947266\" xlink:href=\"#DejaVuSans-108\"/>\n      <use x=\"927.730469\" xlink:href=\"#DejaVuSans-101\"/>\n      <use x=\"989.253906\" xlink:href=\"#DejaVuSans-115\"/>\n      <use x=\"1041.353516\" xlink:href=\"#DejaVuSans-32\"/>\n      <use x=\"1073.140625\" xlink:href=\"#DejaVuSans-115\"/>\n      <use x=\"1125.240234\" xlink:href=\"#DejaVuSans-233\"/>\n      <use x=\"1186.763672\" xlink:href=\"#DejaVuSans-108\"/>\n      <use x=\"1214.546875\" xlink:href=\"#DejaVuSans-101\"/>\n      <use x=\"1276.070312\" xlink:href=\"#DejaVuSans-99\"/>\n      <use x=\"1331.050781\" xlink:href=\"#DejaVuSans-116\"/>\n      <use x=\"1370.259766\" xlink:href=\"#DejaVuSans-105\"/>\n      <use x=\"1398.042969\" xlink:href=\"#DejaVuSans-111\"/>\n      <use x=\"1459.224609\" xlink:href=\"#DejaVuSans-110\"/>\n      <use x=\"1522.603516\" xlink:href=\"#DejaVuSans-110\"/>\n      <use x=\"1585.982422\" xlink:href=\"#DejaVuSans-233\"/>\n      <use x=\"1647.505859\" xlink:href=\"#DejaVuSans-101\"/>\n      <use x=\"1709.029297\" xlink:href=\"#DejaVuSans-115\"/>\n     </g>\n    </g>\n   </g>\n   <g id=\"matplotlib.axis_2\">\n    <g id=\"ytick_1\">\n     <g id=\"line2d_8\">\n      <defs>\n       <path d=\"M 0 0 \nL -3.5 0 \n\" id=\"me2c2e027cc\" style=\"stroke:#000000;stroke-width:0.8;\"/>\n      </defs>\n      <g>\n       <use style=\"stroke:#000000;stroke-width:0.8;\" x=\"50.14375\" xlink:href=\"#me2c2e027cc\" y=\"205.77124\"/>\n      </g>\n     </g>\n     <g id=\"text_9\">\n      <!-- 0.00 -->\n      <g transform=\"translate(20.878125 209.570458)scale(0.1 -0.1)\">\n       <defs>\n        <path d=\"M 10.6875 12.40625 \nL 21 12.40625 \nL 21 0 \nL 10.6875 0 \nz\n\" id=\"DejaVuSans-46\"/>\n       </defs>\n       <use xlink:href=\"#DejaVuSans-48\"/>\n       <use x=\"63.623047\" xlink:href=\"#DejaVuSans-46\"/>\n       <use x=\"95.410156\" xlink:href=\"#DejaVuSans-48\"/>\n       <use x=\"159.033203\" xlink:href=\"#DejaVuSans-48\"/>\n      </g>\n     </g>\n    </g>\n    <g id=\"ytick_2\">\n     <g id=\"line2d_9\">\n      <g>\n       <use style=\"stroke:#000000;stroke-width:0.8;\" x=\"50.14375\" xlink:href=\"#me2c2e027cc\" y=\"179.786436\"/>\n      </g>\n     </g>\n     <g id=\"text_10\">\n      <!-- 0.01 -->\n      <g transform=\"translate(20.878125 183.585655)scale(0.1 -0.1)\">\n       <use xlink:href=\"#DejaVuSans-48\"/>\n       <use x=\"63.623047\" xlink:href=\"#DejaVuSans-46\"/>\n       <use x=\"95.410156\" xlink:href=\"#DejaVuSans-48\"/>\n       <use x=\"159.033203\" xlink:href=\"#DejaVuSans-49\"/>\n      </g>\n     </g>\n    </g>\n    <g id=\"ytick_3\">\n     <g id=\"line2d_10\">\n      <g>\n       <use style=\"stroke:#000000;stroke-width:0.8;\" x=\"50.14375\" xlink:href=\"#me2c2e027cc\" y=\"153.801632\"/>\n      </g>\n     </g>\n     <g id=\"text_11\">\n      <!-- 0.02 -->\n      <g transform=\"translate(20.878125 157.600851)scale(0.1 -0.1)\">\n       <use xlink:href=\"#DejaVuSans-48\"/>\n       <use x=\"63.623047\" xlink:href=\"#DejaVuSans-46\"/>\n       <use x=\"95.410156\" xlink:href=\"#DejaVuSans-48\"/>\n       <use x=\"159.033203\" xlink:href=\"#DejaVuSans-50\"/>\n      </g>\n     </g>\n    </g>\n    <g id=\"ytick_4\">\n     <g id=\"line2d_11\">\n      <g>\n       <use style=\"stroke:#000000;stroke-width:0.8;\" x=\"50.14375\" xlink:href=\"#me2c2e027cc\" y=\"127.816828\"/>\n      </g>\n     </g>\n     <g id=\"text_12\">\n      <!-- 0.03 -->\n      <g transform=\"translate(20.878125 131.616047)scale(0.1 -0.1)\">\n       <use xlink:href=\"#DejaVuSans-48\"/>\n       <use x=\"63.623047\" xlink:href=\"#DejaVuSans-46\"/>\n       <use x=\"95.410156\" xlink:href=\"#DejaVuSans-48\"/>\n       <use x=\"159.033203\" xlink:href=\"#DejaVuSans-51\"/>\n      </g>\n     </g>\n    </g>\n    <g id=\"ytick_5\">\n     <g id=\"line2d_12\">\n      <g>\n       <use style=\"stroke:#000000;stroke-width:0.8;\" x=\"50.14375\" xlink:href=\"#me2c2e027cc\" y=\"101.832025\"/>\n      </g>\n     </g>\n     <g id=\"text_13\">\n      <!-- 0.04 -->\n      <g transform=\"translate(20.878125 105.631243)scale(0.1 -0.1)\">\n       <use xlink:href=\"#DejaVuSans-48\"/>\n       <use x=\"63.623047\" xlink:href=\"#DejaVuSans-46\"/>\n       <use x=\"95.410156\" xlink:href=\"#DejaVuSans-48\"/>\n       <use x=\"159.033203\" xlink:href=\"#DejaVuSans-52\"/>\n      </g>\n     </g>\n    </g>\n    <g id=\"ytick_6\">\n     <g id=\"line2d_13\">\n      <g>\n       <use style=\"stroke:#000000;stroke-width:0.8;\" x=\"50.14375\" xlink:href=\"#me2c2e027cc\" y=\"75.847221\"/>\n      </g>\n     </g>\n     <g id=\"text_14\">\n      <!-- 0.05 -->\n      <g transform=\"translate(20.878125 79.64644)scale(0.1 -0.1)\">\n       <use xlink:href=\"#DejaVuSans-48\"/>\n       <use x=\"63.623047\" xlink:href=\"#DejaVuSans-46\"/>\n       <use x=\"95.410156\" xlink:href=\"#DejaVuSans-48\"/>\n       <use x=\"159.033203\" xlink:href=\"#DejaVuSans-53\"/>\n      </g>\n     </g>\n    </g>\n    <g id=\"ytick_7\">\n     <g id=\"line2d_14\">\n      <g>\n       <use style=\"stroke:#000000;stroke-width:0.8;\" x=\"50.14375\" xlink:href=\"#me2c2e027cc\" y=\"49.862417\"/>\n      </g>\n     </g>\n     <g id=\"text_15\">\n      <!-- 0.06 -->\n      <g transform=\"translate(20.878125 53.661636)scale(0.1 -0.1)\">\n       <use xlink:href=\"#DejaVuSans-48\"/>\n       <use x=\"63.623047\" xlink:href=\"#DejaVuSans-46\"/>\n       <use x=\"95.410156\" xlink:href=\"#DejaVuSans-48\"/>\n       <use x=\"159.033203\" xlink:href=\"#DejaVuSans-54\"/>\n      </g>\n     </g>\n    </g>\n    <g id=\"ytick_8\">\n     <g id=\"line2d_15\">\n      <g>\n       <use style=\"stroke:#000000;stroke-width:0.8;\" x=\"50.14375\" xlink:href=\"#me2c2e027cc\" y=\"23.877613\"/>\n      </g>\n     </g>\n     <g id=\"text_16\">\n      <!-- 0.07 -->\n      <g transform=\"translate(20.878125 27.676832)scale(0.1 -0.1)\">\n       <defs>\n        <path d=\"M 8.203125 72.90625 \nL 55.078125 72.90625 \nL 55.078125 68.703125 \nL 28.609375 0 \nL 18.3125 0 \nL 43.21875 64.59375 \nL 8.203125 64.59375 \nz\n\" id=\"DejaVuSans-55\"/>\n       </defs>\n       <use xlink:href=\"#DejaVuSans-48\"/>\n       <use x=\"63.623047\" xlink:href=\"#DejaVuSans-46\"/>\n       <use x=\"95.410156\" xlink:href=\"#DejaVuSans-48\"/>\n       <use x=\"159.033203\" xlink:href=\"#DejaVuSans-55\"/>\n      </g>\n     </g>\n    </g>\n    <g id=\"text_17\">\n     <!-- Score F3 moyen -->\n     <g transform=\"translate(14.798438 156.291875)rotate(-90)scale(0.1 -0.1)\">\n      <defs>\n       <path d=\"M 53.515625 70.515625 \nL 53.515625 60.890625 \nQ 47.90625 63.578125 42.921875 64.890625 \nQ 37.9375 66.21875 33.296875 66.21875 \nQ 25.25 66.21875 20.875 63.09375 \nQ 16.5 59.96875 16.5 54.203125 \nQ 16.5 49.359375 19.40625 46.890625 \nQ 22.3125 44.4375 30.421875 42.921875 \nL 36.375 41.703125 \nQ 47.40625 39.59375 52.65625 34.296875 \nQ 57.90625 29 57.90625 20.125 \nQ 57.90625 9.515625 50.796875 4.046875 \nQ 43.703125 -1.421875 29.984375 -1.421875 \nQ 24.8125 -1.421875 18.96875 -0.25 \nQ 13.140625 0.921875 6.890625 3.21875 \nL 6.890625 13.375 \nQ 12.890625 10.015625 18.65625 8.296875 \nQ 24.421875 6.59375 29.984375 6.59375 \nQ 38.421875 6.59375 43.015625 9.90625 \nQ 47.609375 13.234375 47.609375 19.390625 \nQ 47.609375 24.75 44.3125 27.78125 \nQ 41.015625 30.8125 33.5 32.328125 \nL 27.484375 33.5 \nQ 16.453125 35.6875 11.515625 40.375 \nQ 6.59375 45.0625 6.59375 53.421875 \nQ 6.59375 63.09375 13.40625 68.65625 \nQ 20.21875 74.21875 32.171875 74.21875 \nQ 37.3125 74.21875 42.625 73.28125 \nQ 47.953125 72.359375 53.515625 70.515625 \nz\n\" id=\"DejaVuSans-83\"/>\n       <path d=\"M 9.8125 72.90625 \nL 51.703125 72.90625 \nL 51.703125 64.59375 \nL 19.671875 64.59375 \nL 19.671875 43.109375 \nL 48.578125 43.109375 \nL 48.578125 34.8125 \nL 19.671875 34.8125 \nL 19.671875 0 \nL 9.8125 0 \nz\n\" id=\"DejaVuSans-70\"/>\n       <path d=\"M 32.171875 -5.078125 \nQ 28.375 -14.84375 24.75 -17.8125 \nQ 21.140625 -20.796875 15.09375 -20.796875 \nL 7.90625 -20.796875 \nL 7.90625 -13.28125 \nL 13.1875 -13.28125 \nQ 16.890625 -13.28125 18.9375 -11.515625 \nQ 21 -9.765625 23.484375 -3.21875 \nL 25.09375 0.875 \nL 2.984375 54.6875 \nL 12.5 54.6875 \nL 29.59375 11.921875 \nL 46.6875 54.6875 \nL 56.203125 54.6875 \nz\n\" id=\"DejaVuSans-121\"/>\n      </defs>\n      <use xlink:href=\"#DejaVuSans-83\"/>\n      <use x=\"63.476562\" xlink:href=\"#DejaVuSans-99\"/>\n      <use x=\"118.457031\" xlink:href=\"#DejaVuSans-111\"/>\n      <use x=\"179.638672\" xlink:href=\"#DejaVuSans-114\"/>\n      <use x=\"218.501953\" xlink:href=\"#DejaVuSans-101\"/>\n      <use x=\"280.025391\" xlink:href=\"#DejaVuSans-32\"/>\n      <use x=\"311.8125\" xlink:href=\"#DejaVuSans-70\"/>\n      <use x=\"369.332031\" xlink:href=\"#DejaVuSans-51\"/>\n      <use x=\"432.955078\" xlink:href=\"#DejaVuSans-32\"/>\n      <use x=\"464.742188\" xlink:href=\"#DejaVuSans-109\"/>\n      <use x=\"562.154297\" xlink:href=\"#DejaVuSans-111\"/>\n      <use x=\"623.335938\" xlink:href=\"#DejaVuSans-121\"/>\n      <use x=\"682.515625\" xlink:href=\"#DejaVuSans-101\"/>\n      <use x=\"744.039062\" xlink:href=\"#DejaVuSans-110\"/>\n     </g>\n    </g>\n   </g>\n   <g id=\"LineCollection_1\">\n    <path clip-path=\"url(#p4912603b39)\" d=\"M 114.452841 214.756364 \nL 114.452841 17.083636 \n\" style=\"fill:none;stroke:#000000;stroke-dasharray:5.55,2.4;stroke-dashoffset:0;stroke-width:1.5;\"/>\n   </g>\n   <g id=\"line2d_16\">\n    <path clip-path=\"url(#p4912603b39)\" d=\"M 65.361932 205.77124 \nL 70.271023 135.705442 \nL 75.180114 47.044275 \nL 80.089205 46.887905 \nL 84.998295 47.384638 \nL 89.907386 48.241627 \nL 94.816477 45.452465 \nL 99.725568 45.719672 \nL 104.634659 45.114873 \nL 109.54375 43.702012 \nL 114.452841 28.691155 \nL 119.361932 30.016193 \nL 124.271023 28.142978 \nL 129.180114 28.020583 \nL 134.089205 26.629145 \nL 138.998295 27.275915 \nL 143.907386 26.690513 \nL 148.816477 28.299604 \nL 153.725568 28.808758 \nL 158.634659 28.222778 \nL 163.54375 28.036153 \nL 168.452841 27.911141 \nL 173.361932 29.180035 \nL 178.271023 28.904926 \nL 183.180114 28.412583 \nL 188.089205 27.799868 \nL 192.998295 27.82956 \nL 197.907386 27.766372 \nL 202.816477 27.363944 \nL 207.725568 27.208569 \nL 212.634659 27.423705 \nL 217.54375 27.302198 \nL 222.452841 27.269548 \nL 227.361932 27.084007 \nL 232.271023 27.022201 \nL 237.180114 26.928961 \nL 242.089205 27.084436 \nL 246.998295 27.271479 \nL 251.907386 27.116482 \nL 256.816477 26.193038 \nL 261.725568 26.06876 \nL 266.634659 26.19407 \nL 271.54375 26.100922 \nL 276.452841 26.412005 \nL 281.361932 26.381055 \nL 286.271023 26.504082 \nL 291.180114 26.472548 \nL 296.089205 26.813848 \nL 300.998295 26.814287 \nL 305.907386 26.876339 \nL 310.816477 26.783427 \nL 315.725568 26.721385 \nL 320.634659 26.783615 \nL 325.54375 26.782737 \nL 330.452841 26.814263 \nL 335.361932 26.845171 \nL 340.271023 26.813854 \nL 345.180114 26.751778 \nL 350.089205 26.844275 \nL 354.998295 26.844052 \nL 359.907386 26.843834 \nL 364.816477 26.874746 \nL 369.725568 26.874541 \n\" style=\"fill:none;stroke:#1f77b4;stroke-linecap:square;stroke-width:1.5;\"/>\n   </g>\n   <g id=\"patch_3\">\n    <path d=\"M 50.14375 224.64 \nL 50.14375 7.2 \n\" style=\"fill:none;stroke:#000000;stroke-linecap:square;stroke-linejoin:miter;stroke-width:0.8;\"/>\n   </g>\n   <g id=\"patch_4\">\n    <path d=\"M 384.94375 224.64 \nL 384.94375 7.2 \n\" style=\"fill:none;stroke:#000000;stroke-linecap:square;stroke-linejoin:miter;stroke-width:0.8;\"/>\n   </g>\n   <g id=\"patch_5\">\n    <path d=\"M 50.14375 224.64 \nL 384.94375 224.64 \n\" style=\"fill:none;stroke:#000000;stroke-linecap:square;stroke-linejoin:miter;stroke-width:0.8;\"/>\n   </g>\n   <g id=\"patch_6\">\n    <path d=\"M 50.14375 7.2 \nL 384.94375 7.2 \n\" style=\"fill:none;stroke:#000000;stroke-linecap:square;stroke-linejoin:miter;stroke-width:0.8;\"/>\n   </g>\n  </g>\n </g>\n <defs>\n  <clipPath id=\"p4912603b39\">\n   <rect height=\"217.44\" width=\"334.8\" x=\"50.14375\" y=\"7.2\"/>\n  </clipPath>\n </defs>\n</svg>\n",
      "image/png": "[encoded data removed]"
     },
     "metadata": {
      "needs_background": "light"
     }
    },
    {
     "output_type": "stream",
     "name": "stdout",
     "text": [
      "Nombre optimal de variables à sélectionner (coude) : 11\nCPU times: user 5min 55s, sys: 36.1 s, total: 6min 31s\nWall time: 9min 31s\n"
     ]
    }
   ],
   "source": [
    "%%time\n",
    "model = LogisticRegression()\n",
    "knee = run_RFECV(model, X_scaled, y, score=f3_scorer, knee=11)"
   ]
  },
  {
   "cell_type": "markdown",
   "metadata": {},
   "source": [
    "Le nombre de features optimal semble être 11. Nous allons donc maintenant calculer une RFE avec cette valeur pour déterminer les features à conserver."
   ]
  },
  {
   "cell_type": "code",
   "execution_count": 11,
   "metadata": {},
   "outputs": [
    {
     "output_type": "display_data",
     "data": {
      "text/plain": "                                      Rank  Support\nzonecostineuro                           1     True\ndevice_type_Desktop                      1     True\ndisplay_env_app_ios                      1     True\ndisplay_size                             1     True\nnbdisplay_1hour                          1     True\nis_interstitial_True                     1     True\nnbdayssincelastclick                     1     True\ncampaignscenario_13                      1     True\ndevice_type_iPhone                       1     True\ncampaignctrlast24h                       1     True\ntarget_env_2                             1     True\ncampaignvertical_200002.0                2    False\ndevice_type_Desktop - Safari             3    False\nnbdisplayglobalapprox_1d_sum_xdevice     4    False\ncampaignscenario_12                      5    False\ndayssincelastvisitdouble                 6    False\ncampaignscenario_5                       7    False\ncontextid                                8    False\ncampaignscenario_17                      9    False\ndevice_type_Mobile - Other              10    False\ncampaignvertical_23.0                   11    False\ncampaignscenario_6                      12    False\ndisplay_env_web                         13    False\nltf_nbpartnerdisplayssincelastclick     14    False\nltf_nbpartnerclick_90d                  15    False\ncampaignvertical_129.0                  16    False\nhour_18                                 17    False\nhour_11                                 18    False\nhour_16                                 19    False\nhour_17                                 20    False\nhour_12                                 21    False\nhour_15                                 22    False\nhour_10                                 23    False\nhour_20                                 24    False\nhour_13                                 25    False\nhour_9                                  26    False\nhour_14                                 27    False\nhour_19                                 28    False\nhour_8                                  29    False\ncampaignscenario_11                     30    False\ncampaignvertical_20.0                   31    False\nhour_21                                 32    False\nltf_nbglobaldisplay_4w                  33    False\nltf_nbpartnerdisplay_90d                34    False\nweekday_Tuesday                         35    False\nltf_nbpartnersales_90d                  36    False\nweekday_Thursday                        37    False\nhour_2                                  38    False\ndisplay_env_other                       39    False\nweekday_Monday                          40    False\nhour_23                                 41    False\nhour_3                                  42    False\ndevice_type_Unknown                     43    False\nweekday_Sunday                          44    False\nhour_6                                  45    False\nhour_7                                  46    False\nhour_4                                  47    False\nhour_5                                  48    False\nhour_22                                 49    False\nhour_1                                  50    False\nweekday_Wednesday                       51    False\nweekday_Saturday                        52    False\ndevice_type_iPad                        53    False",
      "text/html": "<div>\n<style scoped>\n    .dataframe tbody tr th:only-of-type {\n        vertical-align: middle;\n    }\n\n    .dataframe tbody tr th {\n        vertical-align: top;\n    }\n\n    .dataframe thead th {\n        text-align: right;\n    }\n</style>\n<table border=\"1\" class=\"dataframe\">\n  <thead>\n    <tr style=\"text-align: right;\">\n      <th></th>\n      <th>Rank</th>\n      <th>Support</th>\n    </tr>\n  </thead>\n  <tbody>\n    <tr>\n      <th>zonecostineuro</th>\n      <td>1</td>\n      <td>True</td>\n    </tr>\n    <tr>\n      <th>device_type_Desktop</th>\n      <td>1</td>\n      <td>True</td>\n    </tr>\n    <tr>\n      <th>display_env_app_ios</th>\n      <td>1</td>\n      <td>True</td>\n    </tr>\n    <tr>\n      <th>display_size</th>\n      <td>1</td>\n      <td>True</td>\n    </tr>\n    <tr>\n      <th>nbdisplay_1hour</th>\n      <td>1</td>\n      <td>True</td>\n    </tr>\n    <tr>\n      <th>is_interstitial_True</th>\n      <td>1</td>\n      <td>True</td>\n    </tr>\n    <tr>\n      <th>nbdayssincelastclick</th>\n      <td>1</td>\n      <td>True</td>\n    </tr>\n    <tr>\n      <th>campaignscenario_13</th>\n      <td>1</td>\n      <td>True</td>\n    </tr>\n    <tr>\n      <th>device_type_iPhone</th>\n      <td>1</td>\n      <td>True</td>\n    </tr>\n    <tr>\n      <th>campaignctrlast24h</th>\n      <td>1</td>\n      <td>True</td>\n    </tr>\n    <tr>\n      <th>target_env_2</th>\n      <td>1</td>\n      <td>True</td>\n    </tr>\n    <tr>\n      <th>campaignvertical_200002.0</th>\n      <td>2</td>\n      <td>False</td>\n    </tr>\n    <tr>\n      <th>device_type_Desktop - Safari</th>\n      <td>3</td>\n      <td>False</td>\n    </tr>\n    <tr>\n      <th>nbdisplayglobalapprox_1d_sum_xdevice</th>\n      <td>4</td>\n      <td>False</td>\n    </tr>\n    <tr>\n      <th>campaignscenario_12</th>\n      <td>5</td>\n      <td>False</td>\n    </tr>\n    <tr>\n      <th>dayssincelastvisitdouble</th>\n      <td>6</td>\n      <td>False</td>\n    </tr>\n    <tr>\n      <th>campaignscenario_5</th>\n      <td>7</td>\n      <td>False</td>\n    </tr>\n    <tr>\n      <th>contextid</th>\n      <td>8</td>\n      <td>False</td>\n    </tr>\n    <tr>\n      <th>campaignscenario_17</th>\n      <td>9</td>\n      <td>False</td>\n    </tr>\n    <tr>\n      <th>device_type_Mobile - Other</th>\n      <td>10</td>\n      <td>False</td>\n    </tr>\n    <tr>\n      <th>campaignvertical_23.0</th>\n      <td>11</td>\n      <td>False</td>\n    </tr>\n    <tr>\n      <th>campaignscenario_6</th>\n      <td>12</td>\n      <td>False</td>\n    </tr>\n    <tr>\n      <th>display_env_web</th>\n      <td>13</td>\n      <td>False</td>\n    </tr>\n    <tr>\n      <th>ltf_nbpartnerdisplayssincelastclick</th>\n      <td>14</td>\n      <td>False</td>\n    </tr>\n    <tr>\n      <th>ltf_nbpartnerclick_90d</th>\n      <td>15</td>\n      <td>False</td>\n    </tr>\n    <tr>\n      <th>campaignvertical_129.0</th>\n      <td>16</td>\n      <td>False</td>\n    </tr>\n    <tr>\n      <th>hour_18</th>\n      <td>17</td>\n      <td>False</td>\n    </tr>\n    <tr>\n      <th>hour_11</th>\n      <td>18</td>\n      <td>False</td>\n    </tr>\n    <tr>\n      <th>hour_16</th>\n      <td>19</td>\n      <td>False</td>\n    </tr>\n    <tr>\n      <th>hour_17</th>\n      <td>20</td>\n      <td>False</td>\n    </tr>\n    <tr>\n      <th>hour_12</th>\n      <td>21</td>\n      <td>False</td>\n    </tr>\n    <tr>\n      <th>hour_15</th>\n      <td>22</td>\n      <td>False</td>\n    </tr>\n    <tr>\n      <th>hour_10</th>\n      <td>23</td>\n      <td>False</td>\n    </tr>\n    <tr>\n      <th>hour_20</th>\n      <td>24</td>\n      <td>False</td>\n    </tr>\n    <tr>\n      <th>hour_13</th>\n      <td>25</td>\n      <td>False</td>\n    </tr>\n    <tr>\n      <th>hour_9</th>\n      <td>26</td>\n      <td>False</td>\n    </tr>\n    <tr>\n      <th>hour_14</th>\n      <td>27</td>\n      <td>False</td>\n    </tr>\n    <tr>\n      <th>hour_19</th>\n      <td>28</td>\n      <td>False</td>\n    </tr>\n    <tr>\n      <th>hour_8</th>\n      <td>29</td>\n      <td>False</td>\n    </tr>\n    <tr>\n      <th>campaignscenario_11</th>\n      <td>30</td>\n      <td>False</td>\n    </tr>\n    <tr>\n      <th>campaignvertical_20.0</th>\n      <td>31</td>\n      <td>False</td>\n    </tr>\n    <tr>\n      <th>hour_21</th>\n      <td>32</td>\n      <td>False</td>\n    </tr>\n    <tr>\n      <th>ltf_nbglobaldisplay_4w</th>\n      <td>33</td>\n      <td>False</td>\n    </tr>\n    <tr>\n      <th>ltf_nbpartnerdisplay_90d</th>\n      <td>34</td>\n      <td>False</td>\n    </tr>\n    <tr>\n      <th>weekday_Tuesday</th>\n      <td>35</td>\n      <td>False</td>\n    </tr>\n    <tr>\n      <th>ltf_nbpartnersales_90d</th>\n      <td>36</td>\n      <td>False</td>\n    </tr>\n    <tr>\n      <th>weekday_Thursday</th>\n      <td>37</td>\n      <td>False</td>\n    </tr>\n    <tr>\n      <th>hour_2</th>\n      <td>38</td>\n      <td>False</td>\n    </tr>\n    <tr>\n      <th>display_env_other</th>\n      <td>39</td>\n      <td>False</td>\n    </tr>\n    <tr>\n      <th>weekday_Monday</th>\n      <td>40</td>\n      <td>False</td>\n    </tr>\n    <tr>\n      <th>hour_23</th>\n      <td>41</td>\n      <td>False</td>\n    </tr>\n    <tr>\n      <th>hour_3</th>\n      <td>42</td>\n      <td>False</td>\n    </tr>\n    <tr>\n      <th>device_type_Unknown</th>\n      <td>43</td>\n      <td>False</td>\n    </tr>\n    <tr>\n      <th>weekday_Sunday</th>\n      <td>44</td>\n      <td>False</td>\n    </tr>\n    <tr>\n      <th>hour_6</th>\n      <td>45</td>\n      <td>False</td>\n    </tr>\n    <tr>\n      <th>hour_7</th>\n      <td>46</td>\n      <td>False</td>\n    </tr>\n    <tr>\n      <th>hour_4</th>\n      <td>47</td>\n      <td>False</td>\n    </tr>\n    <tr>\n      <th>hour_5</th>\n      <td>48</td>\n      <td>False</td>\n    </tr>\n    <tr>\n      <th>hour_22</th>\n      <td>49</td>\n      <td>False</td>\n    </tr>\n    <tr>\n      <th>hour_1</th>\n      <td>50</td>\n      <td>False</td>\n    </tr>\n    <tr>\n      <th>weekday_Wednesday</th>\n      <td>51</td>\n      <td>False</td>\n    </tr>\n    <tr>\n      <th>weekday_Saturday</th>\n      <td>52</td>\n      <td>False</td>\n    </tr>\n    <tr>\n      <th>device_type_iPad</th>\n      <td>53</td>\n      <td>False</td>\n    </tr>\n  </tbody>\n</table>\n</div>"
     },
     "metadata": {}
    },
    {
     "output_type": "stream",
     "name": "stdout",
     "text": [
      "Columns_quant :\n"
     ]
    },
    {
     "output_type": "display_data",
     "data": {
      "text/plain": "['zonecostineuro',\n 'nbdisplay_1hour',\n 'display_size',\n 'campaignctrlast24h',\n 'nbdayssincelastclick']"
     },
     "metadata": {}
    },
    {
     "output_type": "stream",
     "name": "stdout",
     "text": [
      "\nColumns_cat :\n"
     ]
    },
    {
     "output_type": "display_data",
     "data": {
      "text/plain": "['display_env_app_ios',\n 'is_interstitial_True',\n 'device_type_Desktop',\n 'campaignscenario_13',\n 'target_env_2',\n 'device_type_iPhone']"
     },
     "metadata": {}
    },
    {
     "output_type": "stream",
     "name": "stdout",
     "text": [
      "\nExportation : backups/RFECV_LR.json\nCPU times: user 9min 38s, sys: 58.5 s, total: 10min 37s\nWall time: 3min 1s\n"
     ]
    }
   ],
   "source": [
    "%%time\n",
    "model = LogisticRegression()\n",
    "run_RFE(model, 11, X_scaled, y, export='RFECV_LR')"
   ]
  },
  {
   "cell_type": "markdown",
   "metadata": {},
   "source": [
    "## Random Forest"
   ]
  },
  {
   "source": [
    "%%time\n",
    "model = RandomForestClassifier(n_jobs=-1)\n",
    "knee = run_RFECV(model, X, y, score=f3_scorer, n_jobs=1, knee=9)"
   ],
   "cell_type": "code",
   "metadata": {},
   "execution_count": null,
   "outputs": []
  },
  {
   "cell_type": "markdown",
   "metadata": {},
   "source": [
    "Le nombre de features optimal semble être 9. Nous allons donc maintenant calculer une RFE avec cette valeur pour déterminer les features à conserver."
   ]
  },
  {
   "cell_type": "code",
   "execution_count": 10,
   "metadata": {},
   "outputs": [
    {
     "data": {
      "text/html": [
       "<div>\n",
       "<style scoped>\n",
       "    .dataframe tbody tr th:only-of-type {\n",
       "        vertical-align: middle;\n",
       "    }\n",
       "\n",
       "    .dataframe tbody tr th {\n",
       "        vertical-align: top;\n",
       "    }\n",
       "\n",
       "    .dataframe thead th {\n",
       "        text-align: right;\n",
       "    }\n",
       "</style>\n",
       "<table border=\"1\" class=\"dataframe\">\n",
       "  <thead>\n",
       "    <tr style=\"text-align: right;\">\n",
       "      <th></th>\n",
       "      <th>Rank</th>\n",
       "      <th>Support</th>\n",
       "    </tr>\n",
       "  </thead>\n",
       "  <tbody>\n",
       "    <tr>\n",
       "      <th>contextid</th>\n",
       "      <td>1</td>\n",
       "      <td>True</td>\n",
       "    </tr>\n",
       "    <tr>\n",
       "      <th>campaignctrlast24h</th>\n",
       "      <td>1</td>\n",
       "      <td>True</td>\n",
       "    </tr>\n",
       "    <tr>\n",
       "      <th>dayssincelastvisitdouble</th>\n",
       "      <td>1</td>\n",
       "      <td>True</td>\n",
       "    </tr>\n",
       "    <tr>\n",
       "      <th>is_interstitial_True</th>\n",
       "      <td>1</td>\n",
       "      <td>True</td>\n",
       "    </tr>\n",
       "    <tr>\n",
       "      <th>nbdayssincelastclick</th>\n",
       "      <td>1</td>\n",
       "      <td>True</td>\n",
       "    </tr>\n",
       "    <tr>\n",
       "      <th>nbdisplay_1hour</th>\n",
       "      <td>1</td>\n",
       "      <td>True</td>\n",
       "    </tr>\n",
       "    <tr>\n",
       "      <th>nbdisplayglobalapprox_1d_sum_xdevice</th>\n",
       "      <td>1</td>\n",
       "      <td>True</td>\n",
       "    </tr>\n",
       "    <tr>\n",
       "      <th>display_size</th>\n",
       "      <td>1</td>\n",
       "      <td>True</td>\n",
       "    </tr>\n",
       "    <tr>\n",
       "      <th>zonecostineuro</th>\n",
       "      <td>1</td>\n",
       "      <td>True</td>\n",
       "    </tr>\n",
       "    <tr>\n",
       "      <th>weekday_Monday</th>\n",
       "      <td>2</td>\n",
       "      <td>False</td>\n",
       "    </tr>\n",
       "    <tr>\n",
       "      <th>weekday_Thursday</th>\n",
       "      <td>3</td>\n",
       "      <td>False</td>\n",
       "    </tr>\n",
       "    <tr>\n",
       "      <th>display_env_web</th>\n",
       "      <td>4</td>\n",
       "      <td>False</td>\n",
       "    </tr>\n",
       "    <tr>\n",
       "      <th>weekday_Saturday</th>\n",
       "      <td>5</td>\n",
       "      <td>False</td>\n",
       "    </tr>\n",
       "    <tr>\n",
       "      <th>weekday_Wednesday</th>\n",
       "      <td>6</td>\n",
       "      <td>False</td>\n",
       "    </tr>\n",
       "    <tr>\n",
       "      <th>weekday_Sunday</th>\n",
       "      <td>7</td>\n",
       "      <td>False</td>\n",
       "    </tr>\n",
       "    <tr>\n",
       "      <th>campaignvertical_20.0</th>\n",
       "      <td>8</td>\n",
       "      <td>False</td>\n",
       "    </tr>\n",
       "    <tr>\n",
       "      <th>weekday_Tuesday</th>\n",
       "      <td>9</td>\n",
       "      <td>False</td>\n",
       "    </tr>\n",
       "    <tr>\n",
       "      <th>hour_19</th>\n",
       "      <td>10</td>\n",
       "      <td>False</td>\n",
       "    </tr>\n",
       "    <tr>\n",
       "      <th>hour_18</th>\n",
       "      <td>11</td>\n",
       "      <td>False</td>\n",
       "    </tr>\n",
       "    <tr>\n",
       "      <th>hour_20</th>\n",
       "      <td>12</td>\n",
       "      <td>False</td>\n",
       "    </tr>\n",
       "    <tr>\n",
       "      <th>hour_17</th>\n",
       "      <td>13</td>\n",
       "      <td>False</td>\n",
       "    </tr>\n",
       "    <tr>\n",
       "      <th>device_type_iPhone</th>\n",
       "      <td>14</td>\n",
       "      <td>False</td>\n",
       "    </tr>\n",
       "    <tr>\n",
       "      <th>hour_15</th>\n",
       "      <td>15</td>\n",
       "      <td>False</td>\n",
       "    </tr>\n",
       "    <tr>\n",
       "      <th>hour_16</th>\n",
       "      <td>16</td>\n",
       "      <td>False</td>\n",
       "    </tr>\n",
       "    <tr>\n",
       "      <th>hour_14</th>\n",
       "      <td>17</td>\n",
       "      <td>False</td>\n",
       "    </tr>\n",
       "    <tr>\n",
       "      <th>hour_12</th>\n",
       "      <td>18</td>\n",
       "      <td>False</td>\n",
       "    </tr>\n",
       "    <tr>\n",
       "      <th>hour_13</th>\n",
       "      <td>19</td>\n",
       "      <td>False</td>\n",
       "    </tr>\n",
       "    <tr>\n",
       "      <th>hour_11</th>\n",
       "      <td>20</td>\n",
       "      <td>False</td>\n",
       "    </tr>\n",
       "    <tr>\n",
       "      <th>hour_21</th>\n",
       "      <td>21</td>\n",
       "      <td>False</td>\n",
       "    </tr>\n",
       "    <tr>\n",
       "      <th>hour_7</th>\n",
       "      <td>22</td>\n",
       "      <td>False</td>\n",
       "    </tr>\n",
       "    <tr>\n",
       "      <th>campaignscenario_13</th>\n",
       "      <td>23</td>\n",
       "      <td>False</td>\n",
       "    </tr>\n",
       "    <tr>\n",
       "      <th>device_type_Desktop</th>\n",
       "      <td>24</td>\n",
       "      <td>False</td>\n",
       "    </tr>\n",
       "    <tr>\n",
       "      <th>ltf_nbglobaldisplay_4w</th>\n",
       "      <td>25</td>\n",
       "      <td>False</td>\n",
       "    </tr>\n",
       "    <tr>\n",
       "      <th>hour_10</th>\n",
       "      <td>26</td>\n",
       "      <td>False</td>\n",
       "    </tr>\n",
       "    <tr>\n",
       "      <th>hour_8</th>\n",
       "      <td>27</td>\n",
       "      <td>False</td>\n",
       "    </tr>\n",
       "    <tr>\n",
       "      <th>hour_9</th>\n",
       "      <td>28</td>\n",
       "      <td>False</td>\n",
       "    </tr>\n",
       "    <tr>\n",
       "      <th>hour_6</th>\n",
       "      <td>29</td>\n",
       "      <td>False</td>\n",
       "    </tr>\n",
       "    <tr>\n",
       "      <th>display_env_app_ios</th>\n",
       "      <td>30</td>\n",
       "      <td>False</td>\n",
       "    </tr>\n",
       "    <tr>\n",
       "      <th>target_env_2</th>\n",
       "      <td>31</td>\n",
       "      <td>False</td>\n",
       "    </tr>\n",
       "    <tr>\n",
       "      <th>hour_5</th>\n",
       "      <td>32</td>\n",
       "      <td>False</td>\n",
       "    </tr>\n",
       "    <tr>\n",
       "      <th>device_type_Unknown</th>\n",
       "      <td>33</td>\n",
       "      <td>False</td>\n",
       "    </tr>\n",
       "    <tr>\n",
       "      <th>campaignscenario_12</th>\n",
       "      <td>34</td>\n",
       "      <td>False</td>\n",
       "    </tr>\n",
       "    <tr>\n",
       "      <th>ltf_nbpartnerdisplay_90d</th>\n",
       "      <td>35</td>\n",
       "      <td>False</td>\n",
       "    </tr>\n",
       "    <tr>\n",
       "      <th>hour_22</th>\n",
       "      <td>36</td>\n",
       "      <td>False</td>\n",
       "    </tr>\n",
       "    <tr>\n",
       "      <th>campaignvertical_129.0</th>\n",
       "      <td>37</td>\n",
       "      <td>False</td>\n",
       "    </tr>\n",
       "    <tr>\n",
       "      <th>device_type_iPad</th>\n",
       "      <td>38</td>\n",
       "      <td>False</td>\n",
       "    </tr>\n",
       "    <tr>\n",
       "      <th>hour_4</th>\n",
       "      <td>39</td>\n",
       "      <td>False</td>\n",
       "    </tr>\n",
       "    <tr>\n",
       "      <th>campaignscenario_6</th>\n",
       "      <td>40</td>\n",
       "      <td>False</td>\n",
       "    </tr>\n",
       "    <tr>\n",
       "      <th>ltf_nbpartnerclick_90d</th>\n",
       "      <td>41</td>\n",
       "      <td>False</td>\n",
       "    </tr>\n",
       "    <tr>\n",
       "      <th>hour_23</th>\n",
       "      <td>42</td>\n",
       "      <td>False</td>\n",
       "    </tr>\n",
       "    <tr>\n",
       "      <th>campaignscenario_11</th>\n",
       "      <td>43</td>\n",
       "      <td>False</td>\n",
       "    </tr>\n",
       "    <tr>\n",
       "      <th>campaignvertical_200002.0</th>\n",
       "      <td>44</td>\n",
       "      <td>False</td>\n",
       "    </tr>\n",
       "    <tr>\n",
       "      <th>campaignscenario_17</th>\n",
       "      <td>45</td>\n",
       "      <td>False</td>\n",
       "    </tr>\n",
       "    <tr>\n",
       "      <th>hour_3</th>\n",
       "      <td>46</td>\n",
       "      <td>False</td>\n",
       "    </tr>\n",
       "    <tr>\n",
       "      <th>device_type_Desktop - Safari</th>\n",
       "      <td>47</td>\n",
       "      <td>False</td>\n",
       "    </tr>\n",
       "    <tr>\n",
       "      <th>ltf_nbpartnerdisplayssincelastclick</th>\n",
       "      <td>48</td>\n",
       "      <td>False</td>\n",
       "    </tr>\n",
       "    <tr>\n",
       "      <th>hour_2</th>\n",
       "      <td>49</td>\n",
       "      <td>False</td>\n",
       "    </tr>\n",
       "    <tr>\n",
       "      <th>hour_1</th>\n",
       "      <td>50</td>\n",
       "      <td>False</td>\n",
       "    </tr>\n",
       "    <tr>\n",
       "      <th>device_type_Mobile - Other</th>\n",
       "      <td>51</td>\n",
       "      <td>False</td>\n",
       "    </tr>\n",
       "    <tr>\n",
       "      <th>campaignvertical_23.0</th>\n",
       "      <td>52</td>\n",
       "      <td>False</td>\n",
       "    </tr>\n",
       "    <tr>\n",
       "      <th>campaignscenario_5</th>\n",
       "      <td>53</td>\n",
       "      <td>False</td>\n",
       "    </tr>\n",
       "    <tr>\n",
       "      <th>ltf_nbpartnersales_90d</th>\n",
       "      <td>54</td>\n",
       "      <td>False</td>\n",
       "    </tr>\n",
       "    <tr>\n",
       "      <th>display_env_other</th>\n",
       "      <td>55</td>\n",
       "      <td>False</td>\n",
       "    </tr>\n",
       "  </tbody>\n",
       "</table>\n",
       "</div>"
      ],
      "text/plain": [
       "                                      Rank  Support\n",
       "contextid                                1     True\n",
       "campaignctrlast24h                       1     True\n",
       "dayssincelastvisitdouble                 1     True\n",
       "is_interstitial_True                     1     True\n",
       "nbdayssincelastclick                     1     True\n",
       "nbdisplay_1hour                          1     True\n",
       "nbdisplayglobalapprox_1d_sum_xdevice     1     True\n",
       "display_size                             1     True\n",
       "zonecostineuro                           1     True\n",
       "weekday_Monday                           2    False\n",
       "weekday_Thursday                         3    False\n",
       "display_env_web                          4    False\n",
       "weekday_Saturday                         5    False\n",
       "weekday_Wednesday                        6    False\n",
       "weekday_Sunday                           7    False\n",
       "campaignvertical_20.0                    8    False\n",
       "weekday_Tuesday                          9    False\n",
       "hour_19                                 10    False\n",
       "hour_18                                 11    False\n",
       "hour_20                                 12    False\n",
       "hour_17                                 13    False\n",
       "device_type_iPhone                      14    False\n",
       "hour_15                                 15    False\n",
       "hour_16                                 16    False\n",
       "hour_14                                 17    False\n",
       "hour_12                                 18    False\n",
       "hour_13                                 19    False\n",
       "hour_11                                 20    False\n",
       "hour_21                                 21    False\n",
       "hour_7                                  22    False\n",
       "campaignscenario_13                     23    False\n",
       "device_type_Desktop                     24    False\n",
       "ltf_nbglobaldisplay_4w                  25    False\n",
       "hour_10                                 26    False\n",
       "hour_8                                  27    False\n",
       "hour_9                                  28    False\n",
       "hour_6                                  29    False\n",
       "display_env_app_ios                     30    False\n",
       "target_env_2                            31    False\n",
       "hour_5                                  32    False\n",
       "device_type_Unknown                     33    False\n",
       "campaignscenario_12                     34    False\n",
       "ltf_nbpartnerdisplay_90d                35    False\n",
       "hour_22                                 36    False\n",
       "campaignvertical_129.0                  37    False\n",
       "device_type_iPad                        38    False\n",
       "hour_4                                  39    False\n",
       "campaignscenario_6                      40    False\n",
       "ltf_nbpartnerclick_90d                  41    False\n",
       "hour_23                                 42    False\n",
       "campaignscenario_11                     43    False\n",
       "campaignvertical_200002.0               44    False\n",
       "campaignscenario_17                     45    False\n",
       "hour_3                                  46    False\n",
       "device_type_Desktop - Safari            47    False\n",
       "ltf_nbpartnerdisplayssincelastclick     48    False\n",
       "hour_2                                  49    False\n",
       "hour_1                                  50    False\n",
       "device_type_Mobile - Other              51    False\n",
       "campaignvertical_23.0                   52    False\n",
       "campaignscenario_5                      53    False\n",
       "ltf_nbpartnersales_90d                  54    False\n",
       "display_env_other                       55    False"
      ]
     },
     "metadata": {},
     "output_type": "display_data"
    },
    {
     "name": "stdout",
     "output_type": "stream",
     "text": [
      "Columns_quant :\n"
     ]
    },
    {
     "data": {
      "text/plain": [
       "['display_size',\n",
       " 'nbdayssincelastclick',\n",
       " 'campaignctrlast24h',\n",
       " 'nbdisplay_1hour',\n",
       " 'dayssincelastvisitdouble',\n",
       " 'nbdisplayglobalapprox_1d_sum_xdevice',\n",
       " 'contextid',\n",
       " 'zonecostineuro']"
      ]
     },
     "metadata": {},
     "output_type": "display_data"
    },
    {
     "name": "stdout",
     "output_type": "stream",
     "text": [
      "\n",
      "Columns_cat :\n"
     ]
    },
    {
     "data": {
      "text/plain": [
       "['is_interstitial_True']"
      ]
     },
     "metadata": {},
     "output_type": "display_data"
    },
    {
     "name": "stdout",
     "output_type": "stream",
     "text": [
      "Exportation : backups/RFECV_Forest.json\n",
      "CPU times: user 20h 54min 36s, sys: 12min 23s, total: 21h 7min\n",
      "Wall time: 30min 14s\n"
     ]
    }
   ],
   "source": [
    "%%time\n",
    "model = RandomForestClassifier(n_jobs=-1)\n",
    "run_RFE(model, 9, X, y, export='RFECV_Forest')"
   ]
  },
  {
   "cell_type": "markdown",
   "metadata": {},
   "source": [
    "## XGBoost"
   ]
  },
  {
   "cell_type": "code",
   "execution_count": 15,
   "metadata": {},
   "outputs": [
    {
     "data": {
      "image/png": "[encoded data removed]",
      "text/plain": [
       "<Figure size 432x288 with 1 Axes>"
      ]
     },
     "metadata": {
      "needs_background": "light"
     },
     "output_type": "display_data"
    },
    {
     "name": "stdout",
     "output_type": "stream",
     "text": [
      "Optimal number of features (knee) : 8\n",
      "CPU times: user 3d 50min 17s, sys: 25min 13s, total: 3d 1h 15min 31s\n",
      "Wall time: 2h 27min 2s\n"
     ]
    }
   ],
   "source": [
    "%%time\n",
    "model = XGBClassifier(n_jobs=-1)\n",
    "knee = run_RFECV(model, X, y, score=f3_scorer, n_jobs=1, knee=True)"
   ]
  },
  {
   "cell_type": "code",
   "execution_count": 11,
   "metadata": {},
   "outputs": [
    {
     "data": {
      "text/html": [
       "<div>\n",
       "<style scoped>\n",
       "    .dataframe tbody tr th:only-of-type {\n",
       "        vertical-align: middle;\n",
       "    }\n",
       "\n",
       "    .dataframe tbody tr th {\n",
       "        vertical-align: top;\n",
       "    }\n",
       "\n",
       "    .dataframe thead th {\n",
       "        text-align: right;\n",
       "    }\n",
       "</style>\n",
       "<table border=\"1\" class=\"dataframe\">\n",
       "  <thead>\n",
       "    <tr style=\"text-align: right;\">\n",
       "      <th></th>\n",
       "      <th>Rank</th>\n",
       "      <th>Support</th>\n",
       "    </tr>\n",
       "  </thead>\n",
       "  <tbody>\n",
       "    <tr>\n",
       "      <th>contextid</th>\n",
       "      <td>1</td>\n",
       "      <td>True</td>\n",
       "    </tr>\n",
       "    <tr>\n",
       "      <th>zonecostineuro</th>\n",
       "      <td>1</td>\n",
       "      <td>True</td>\n",
       "    </tr>\n",
       "    <tr>\n",
       "      <th>nbdisplay_1hour</th>\n",
       "      <td>1</td>\n",
       "      <td>True</td>\n",
       "    </tr>\n",
       "    <tr>\n",
       "      <th>is_interstitial_True</th>\n",
       "      <td>1</td>\n",
       "      <td>True</td>\n",
       "    </tr>\n",
       "    <tr>\n",
       "      <th>device_type_Desktop</th>\n",
       "      <td>1</td>\n",
       "      <td>True</td>\n",
       "    </tr>\n",
       "    <tr>\n",
       "      <th>nbdayssincelastclick</th>\n",
       "      <td>1</td>\n",
       "      <td>True</td>\n",
       "    </tr>\n",
       "    <tr>\n",
       "      <th>campaignctrlast24h</th>\n",
       "      <td>1</td>\n",
       "      <td>True</td>\n",
       "    </tr>\n",
       "    <tr>\n",
       "      <th>device_type_iPad</th>\n",
       "      <td>1</td>\n",
       "      <td>True</td>\n",
       "    </tr>\n",
       "    <tr>\n",
       "      <th>campaignscenario_13</th>\n",
       "      <td>2</td>\n",
       "      <td>False</td>\n",
       "    </tr>\n",
       "    <tr>\n",
       "      <th>campaignvertical_23.0</th>\n",
       "      <td>3</td>\n",
       "      <td>False</td>\n",
       "    </tr>\n",
       "    <tr>\n",
       "      <th>nbdisplayglobalapprox_1d_sum_xdevice</th>\n",
       "      <td>4</td>\n",
       "      <td>False</td>\n",
       "    </tr>\n",
       "    <tr>\n",
       "      <th>dayssincelastvisitdouble</th>\n",
       "      <td>5</td>\n",
       "      <td>False</td>\n",
       "    </tr>\n",
       "    <tr>\n",
       "      <th>display_env_web</th>\n",
       "      <td>6</td>\n",
       "      <td>False</td>\n",
       "    </tr>\n",
       "    <tr>\n",
       "      <th>campaignscenario_6</th>\n",
       "      <td>7</td>\n",
       "      <td>False</td>\n",
       "    </tr>\n",
       "    <tr>\n",
       "      <th>device_type_iPhone</th>\n",
       "      <td>8</td>\n",
       "      <td>False</td>\n",
       "    </tr>\n",
       "    <tr>\n",
       "      <th>campaignscenario_17</th>\n",
       "      <td>9</td>\n",
       "      <td>False</td>\n",
       "    </tr>\n",
       "    <tr>\n",
       "      <th>campaignscenario_5</th>\n",
       "      <td>10</td>\n",
       "      <td>False</td>\n",
       "    </tr>\n",
       "    <tr>\n",
       "      <th>campaignscenario_11</th>\n",
       "      <td>11</td>\n",
       "      <td>False</td>\n",
       "    </tr>\n",
       "    <tr>\n",
       "      <th>device_type_Desktop - Safari</th>\n",
       "      <td>12</td>\n",
       "      <td>False</td>\n",
       "    </tr>\n",
       "    <tr>\n",
       "      <th>campaignscenario_12</th>\n",
       "      <td>13</td>\n",
       "      <td>False</td>\n",
       "    </tr>\n",
       "    <tr>\n",
       "      <th>display_size</th>\n",
       "      <td>14</td>\n",
       "      <td>False</td>\n",
       "    </tr>\n",
       "    <tr>\n",
       "      <th>campaignvertical_20.0</th>\n",
       "      <td>15</td>\n",
       "      <td>False</td>\n",
       "    </tr>\n",
       "    <tr>\n",
       "      <th>campaignvertical_200002.0</th>\n",
       "      <td>16</td>\n",
       "      <td>False</td>\n",
       "    </tr>\n",
       "    <tr>\n",
       "      <th>target_env_2</th>\n",
       "      <td>17</td>\n",
       "      <td>False</td>\n",
       "    </tr>\n",
       "    <tr>\n",
       "      <th>display_env_app_ios</th>\n",
       "      <td>18</td>\n",
       "      <td>False</td>\n",
       "    </tr>\n",
       "    <tr>\n",
       "      <th>weekday_Saturday</th>\n",
       "      <td>19</td>\n",
       "      <td>False</td>\n",
       "    </tr>\n",
       "    <tr>\n",
       "      <th>ltf_nbpartnerdisplay_90d</th>\n",
       "      <td>20</td>\n",
       "      <td>False</td>\n",
       "    </tr>\n",
       "    <tr>\n",
       "      <th>ltf_nbpartnerdisplayssincelastclick</th>\n",
       "      <td>21</td>\n",
       "      <td>False</td>\n",
       "    </tr>\n",
       "    <tr>\n",
       "      <th>ltf_nbglobaldisplay_4w</th>\n",
       "      <td>22</td>\n",
       "      <td>False</td>\n",
       "    </tr>\n",
       "    <tr>\n",
       "      <th>ltf_nbpartnerclick_90d</th>\n",
       "      <td>23</td>\n",
       "      <td>False</td>\n",
       "    </tr>\n",
       "    <tr>\n",
       "      <th>ltf_nbpartnersales_90d</th>\n",
       "      <td>24</td>\n",
       "      <td>False</td>\n",
       "    </tr>\n",
       "    <tr>\n",
       "      <th>hour_6</th>\n",
       "      <td>25</td>\n",
       "      <td>False</td>\n",
       "    </tr>\n",
       "    <tr>\n",
       "      <th>hour_4</th>\n",
       "      <td>26</td>\n",
       "      <td>False</td>\n",
       "    </tr>\n",
       "    <tr>\n",
       "      <th>weekday_Monday</th>\n",
       "      <td>27</td>\n",
       "      <td>False</td>\n",
       "    </tr>\n",
       "    <tr>\n",
       "      <th>hour_7</th>\n",
       "      <td>28</td>\n",
       "      <td>False</td>\n",
       "    </tr>\n",
       "    <tr>\n",
       "      <th>hour_5</th>\n",
       "      <td>29</td>\n",
       "      <td>False</td>\n",
       "    </tr>\n",
       "    <tr>\n",
       "      <th>hour_22</th>\n",
       "      <td>30</td>\n",
       "      <td>False</td>\n",
       "    </tr>\n",
       "    <tr>\n",
       "      <th>hour_23</th>\n",
       "      <td>31</td>\n",
       "      <td>False</td>\n",
       "    </tr>\n",
       "    <tr>\n",
       "      <th>hour_18</th>\n",
       "      <td>32</td>\n",
       "      <td>False</td>\n",
       "    </tr>\n",
       "    <tr>\n",
       "      <th>hour_21</th>\n",
       "      <td>33</td>\n",
       "      <td>False</td>\n",
       "    </tr>\n",
       "    <tr>\n",
       "      <th>hour_2</th>\n",
       "      <td>34</td>\n",
       "      <td>False</td>\n",
       "    </tr>\n",
       "    <tr>\n",
       "      <th>hour_3</th>\n",
       "      <td>35</td>\n",
       "      <td>False</td>\n",
       "    </tr>\n",
       "    <tr>\n",
       "      <th>hour_20</th>\n",
       "      <td>36</td>\n",
       "      <td>False</td>\n",
       "    </tr>\n",
       "    <tr>\n",
       "      <th>hour_8</th>\n",
       "      <td>37</td>\n",
       "      <td>False</td>\n",
       "    </tr>\n",
       "    <tr>\n",
       "      <th>hour_9</th>\n",
       "      <td>38</td>\n",
       "      <td>False</td>\n",
       "    </tr>\n",
       "    <tr>\n",
       "      <th>hour_17</th>\n",
       "      <td>39</td>\n",
       "      <td>False</td>\n",
       "    </tr>\n",
       "    <tr>\n",
       "      <th>hour_10</th>\n",
       "      <td>40</td>\n",
       "      <td>False</td>\n",
       "    </tr>\n",
       "    <tr>\n",
       "      <th>hour_11</th>\n",
       "      <td>41</td>\n",
       "      <td>False</td>\n",
       "    </tr>\n",
       "    <tr>\n",
       "      <th>hour_14</th>\n",
       "      <td>42</td>\n",
       "      <td>False</td>\n",
       "    </tr>\n",
       "    <tr>\n",
       "      <th>campaignvertical_129.0</th>\n",
       "      <td>43</td>\n",
       "      <td>False</td>\n",
       "    </tr>\n",
       "    <tr>\n",
       "      <th>hour_1</th>\n",
       "      <td>44</td>\n",
       "      <td>False</td>\n",
       "    </tr>\n",
       "    <tr>\n",
       "      <th>hour_12</th>\n",
       "      <td>45</td>\n",
       "      <td>False</td>\n",
       "    </tr>\n",
       "    <tr>\n",
       "      <th>display_env_other</th>\n",
       "      <td>46</td>\n",
       "      <td>False</td>\n",
       "    </tr>\n",
       "    <tr>\n",
       "      <th>hour_13</th>\n",
       "      <td>47</td>\n",
       "      <td>False</td>\n",
       "    </tr>\n",
       "    <tr>\n",
       "      <th>hour_15</th>\n",
       "      <td>48</td>\n",
       "      <td>False</td>\n",
       "    </tr>\n",
       "    <tr>\n",
       "      <th>hour_16</th>\n",
       "      <td>49</td>\n",
       "      <td>False</td>\n",
       "    </tr>\n",
       "    <tr>\n",
       "      <th>hour_19</th>\n",
       "      <td>50</td>\n",
       "      <td>False</td>\n",
       "    </tr>\n",
       "    <tr>\n",
       "      <th>weekday_Sunday</th>\n",
       "      <td>51</td>\n",
       "      <td>False</td>\n",
       "    </tr>\n",
       "    <tr>\n",
       "      <th>weekday_Thursday</th>\n",
       "      <td>52</td>\n",
       "      <td>False</td>\n",
       "    </tr>\n",
       "    <tr>\n",
       "      <th>weekday_Tuesday</th>\n",
       "      <td>53</td>\n",
       "      <td>False</td>\n",
       "    </tr>\n",
       "    <tr>\n",
       "      <th>weekday_Wednesday</th>\n",
       "      <td>54</td>\n",
       "      <td>False</td>\n",
       "    </tr>\n",
       "    <tr>\n",
       "      <th>device_type_Mobile - Other</th>\n",
       "      <td>55</td>\n",
       "      <td>False</td>\n",
       "    </tr>\n",
       "    <tr>\n",
       "      <th>device_type_Unknown</th>\n",
       "      <td>56</td>\n",
       "      <td>False</td>\n",
       "    </tr>\n",
       "  </tbody>\n",
       "</table>\n",
       "</div>"
      ],
      "text/plain": [
       "                                      Rank  Support\n",
       "contextid                                1     True\n",
       "zonecostineuro                           1     True\n",
       "nbdisplay_1hour                          1     True\n",
       "is_interstitial_True                     1     True\n",
       "device_type_Desktop                      1     True\n",
       "nbdayssincelastclick                     1     True\n",
       "campaignctrlast24h                       1     True\n",
       "device_type_iPad                         1     True\n",
       "campaignscenario_13                      2    False\n",
       "campaignvertical_23.0                    3    False\n",
       "nbdisplayglobalapprox_1d_sum_xdevice     4    False\n",
       "dayssincelastvisitdouble                 5    False\n",
       "display_env_web                          6    False\n",
       "campaignscenario_6                       7    False\n",
       "device_type_iPhone                       8    False\n",
       "campaignscenario_17                      9    False\n",
       "campaignscenario_5                      10    False\n",
       "campaignscenario_11                     11    False\n",
       "device_type_Desktop - Safari            12    False\n",
       "campaignscenario_12                     13    False\n",
       "display_size                            14    False\n",
       "campaignvertical_20.0                   15    False\n",
       "campaignvertical_200002.0               16    False\n",
       "target_env_2                            17    False\n",
       "display_env_app_ios                     18    False\n",
       "weekday_Saturday                        19    False\n",
       "ltf_nbpartnerdisplay_90d                20    False\n",
       "ltf_nbpartnerdisplayssincelastclick     21    False\n",
       "ltf_nbglobaldisplay_4w                  22    False\n",
       "ltf_nbpartnerclick_90d                  23    False\n",
       "ltf_nbpartnersales_90d                  24    False\n",
       "hour_6                                  25    False\n",
       "hour_4                                  26    False\n",
       "weekday_Monday                          27    False\n",
       "hour_7                                  28    False\n",
       "hour_5                                  29    False\n",
       "hour_22                                 30    False\n",
       "hour_23                                 31    False\n",
       "hour_18                                 32    False\n",
       "hour_21                                 33    False\n",
       "hour_2                                  34    False\n",
       "hour_3                                  35    False\n",
       "hour_20                                 36    False\n",
       "hour_8                                  37    False\n",
       "hour_9                                  38    False\n",
       "hour_17                                 39    False\n",
       "hour_10                                 40    False\n",
       "hour_11                                 41    False\n",
       "hour_14                                 42    False\n",
       "campaignvertical_129.0                  43    False\n",
       "hour_1                                  44    False\n",
       "hour_12                                 45    False\n",
       "display_env_other                       46    False\n",
       "hour_13                                 47    False\n",
       "hour_15                                 48    False\n",
       "hour_16                                 49    False\n",
       "hour_19                                 50    False\n",
       "weekday_Sunday                          51    False\n",
       "weekday_Thursday                        52    False\n",
       "weekday_Tuesday                         53    False\n",
       "weekday_Wednesday                       54    False\n",
       "device_type_Mobile - Other              55    False\n",
       "device_type_Unknown                     56    False"
      ]
     },
     "metadata": {},
     "output_type": "display_data"
    },
    {
     "name": "stdout",
     "output_type": "stream",
     "text": [
      "Columns_quant :\n"
     ]
    },
    {
     "data": {
      "text/plain": [
       "['nbdayssincelastclick',\n",
       " 'campaignctrlast24h',\n",
       " 'nbdisplay_1hour',\n",
       " 'contextid',\n",
       " 'zonecostineuro']"
      ]
     },
     "metadata": {},
     "output_type": "display_data"
    },
    {
     "name": "stdout",
     "output_type": "stream",
     "text": [
      "\n",
      "Columns_cat :\n"
     ]
    },
    {
     "data": {
      "text/plain": [
       "['is_interstitial_True', 'device_type_iPad', 'device_type_Desktop']"
      ]
     },
     "metadata": {},
     "output_type": "display_data"
    },
    {
     "name": "stdout",
     "output_type": "stream",
     "text": [
      "Exportation : backups/RFECV_XGBoost.json\n",
      "CPU times: user 12h 49min 39s, sys: 3min 26s, total: 12h 53min 6s\n",
      "Wall time: 27min 38s\n"
     ]
    }
   ],
   "source": [
    "%%time\n",
    "model = XGBClassifier(n_jobs=-1)\n",
    "run_RFE(model, 8, X, y, export='RFECV_XGBoost')"
   ]
  },
  {
   "cell_type": "code",
   "execution_count": 17,
   "metadata": {},
   "outputs": [
    {
     "name": "stdout",
     "output_type": "stream",
     "text": [
      "Temps d'exécution total : 05:53:01\n"
     ]
    }
   ],
   "source": [
    "print(f\"Temps d'exécution total : {time.strftime('%H:%M:%S', time.gmtime(time.time()-t))}\")"
   ]
  }
 ],
 "metadata": {
  "kernelspec": {
   "display_name": "Python 3",
   "language": "python",
   "name": "python3"
  },
  "language_info": {
   "codemirror_mode": {
    "name": "ipython",
    "version": 3
   },
   "file_extension": ".py",
   "mimetype": "text/x-python",
   "name": "python",
   "nbconvert_exporter": "python",
   "pygments_lexer": "ipython3",
   "version": "3.8.8-final"
  }
 },
 "nbformat": 4,
 "nbformat_minor": 4
}