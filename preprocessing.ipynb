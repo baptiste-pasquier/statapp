{
 "cells": [
  {
   "cell_type": "code",
   "execution_count": 1,
   "metadata": {},
   "outputs": [],
   "source": [
    "import pandas as pd\n",
    "import numpy as np\n",
    "import seaborn as sns\n",
    "import matplotlib.pyplot as plt\n",
    "import sklearn\n",
    "from sklearn.preprocessing import StandardScaler\n",
    "from sklearn.decomposition import PCA\n",
    "import time\n",
    "\n",
    "\n",
    "## VS Code, choisir un seul des 3 :\n",
    "\n",
    "# Pour affichage interactif (notamment 3D) dans notebook\n",
    "# %matplotlib widget\n",
    "\n",
    "# Pour affichage interactif (notamment 3D) dans une fenêtre qt externe au notebook\n",
    "# %matplotlib qt\n",
    "\n",
    "# Pour affichage simple dans notebook\n",
    "%config InlineBackend.figure_format = 'png'\n",
    "\n",
    "t = time.time()"
   ]
  },
  {
   "cell_type": "code",
   "execution_count": 2,
   "metadata": {},
   "outputs": [
    {
     "output_type": "stream",
     "name": "stdout",
     "text": [
      "Index(['Unnamed: 0', 'day', 'hashed_partner_id', 'hashed_campaign_id',\n       'contextid', 'display_env', 'target_env', 'rtbtypeid',\n       'rtbadvisibility', 'rtb_detectedlanguage', 'urlhash2', 'urlhash3',\n       'urlhash4', 'user_country', 'hashed_affiliateid', 'hashed_app_id',\n       'googleviewability', 'googlepagevertical', 'campaignscenario',\n       'campaignvertical', 'campaignctrlast24h', 'is_interstitial',\n       'dayssincelastvisitdouble', 'ltf_lastpartnerclicktimestamp',\n       'ltf_nbglobalclick_4w', 'ltf_nbglobaldisplay_4w',\n       'ltf_nbglobaldisplaysincelastpartnerproductview',\n       'ltf_nbpartnerdisplayssincelastclick', 'ltf_nbpartnerclick_4w',\n       'ltf_nbpartnerdisplay_4w', 'ltf_nbpartnersales_4w',\n       'ltf_nbpartnerdisplay_90d', 'ltf_nbpartnerclick_90d',\n       'ltf_nbpartnersales_90d', 'nbdayssincelastclick', 'nbdisplay_1hour',\n       'nbdisplaypartnerapprox_1d_sum_xdevice',\n       'nbdisplayaffiliateapprox_1d_sum_xdevice',\n       'nbdisplayglobalapprox_1d_sum_xdevice', 'hashed_uid', 'hashed_xd_id',\n       'valueperclick', 'device_type', 'display_width', 'display_height',\n       'display_timestamp', 'is_display_clicked', 'zonecostineuro'],\n      dtype='object')\n48\n"
     ]
    }
   ],
   "source": [
    "df = pd.read_csv('data/df_train.csv')\n",
    "print(df.columns)\n",
    "print(len(df.columns))"
   ]
  },
  {
   "cell_type": "code",
   "execution_count": 3,
   "metadata": {},
   "outputs": [],
   "source": [
    "# Suppression de la variable \"Unnamed: 0\"\n",
    "df.drop('Unnamed: 0', inplace=True, axis=1)\n",
    "\n",
    "# Recodage de certaines modalités afin de réordonner par ordre croissant d'engagement\n",
    "df[\"contextid\"] = df[\"contextid\"].replace(0,1)\n",
    "df[\"contextid\"] = df[\"contextid\"].replace(10,3)\n",
    "\n",
    "# Remplacement des valeurs manquantes par des 0 dans les variables commençant par ltf\n",
    "df['ltf_lastpartnerclicktimestamp'] = df['ltf_lastpartnerclicktimestamp'].fillna(0)\n",
    "df['ltf_nbglobalclick_4w'] = df['ltf_nbglobalclick_4w'].fillna(0)\n",
    "df['ltf_nbglobaldisplay_4w'] = df['ltf_nbglobaldisplay_4w'].fillna(0)\n",
    "df['ltf_nbglobaldisplaysincelastpartnerproductview'] = df['ltf_nbglobaldisplaysincelastpartnerproductview'].fillna(0)\n",
    "df['ltf_nbpartnerdisplayssincelastclick'] = df['ltf_nbpartnerdisplayssincelastclick'].fillna(0)\n",
    "df['ltf_nbpartnerclick_4w'] = df['ltf_nbpartnerclick_4w'].fillna(0)\n",
    "df['ltf_nbpartnerdisplay_4w'] = df['ltf_nbpartnerdisplay_4w'].fillna(0)\n",
    "df['ltf_nbpartnersales_4w'] = df['ltf_nbpartnersales_4w'].fillna(0)\n",
    "df['ltf_nbpartnerdisplay_90d'] = df['ltf_nbpartnerdisplay_90d'].fillna(0)\n",
    "df['ltf_nbpartnerclick_90d'] = df['ltf_nbpartnerclick_90d'].fillna(0)\n",
    "df['ltf_nbpartnersales_90d'] = df['ltf_nbpartnersales_90d'].fillna(0)\n",
    "\n",
    "# Idem ici\n",
    "df['nbdisplay_1hour'] = df['nbdisplay_1hour'].fillna(0)\n",
    "df['nbdisplaypartnerapprox_1d_sum_xdevice'] = df['nbdisplaypartnerapprox_1d_sum_xdevice'].fillna(0)\n",
    "df['nbdisplayaffiliateapprox_1d_sum_xdevice'] = df['nbdisplayaffiliateapprox_1d_sum_xdevice'].fillna(0)\n",
    "df['nbdisplayglobalapprox_1d_sum_xdevice'] = df['nbdisplayglobalapprox_1d_sum_xdevice'].fillna(0)\t\n",
    "df['campaignctrlast24h'] = df['campaignctrlast24h'].fillna(0)"
   ]
  },
  {
   "cell_type": "code",
   "execution_count": 4,
   "metadata": {},
   "outputs": [
    {
     "output_type": "execute_result",
     "data": {
      "text/plain": [
       "                      Valeurs manquantes  Proportion manquante\n",
       "rtbtypeid                           9066              0.004887\n",
       "rtbadvisibility                     9066              0.004887\n",
       "rtb_detectedlanguage                9066              0.004887\n",
       "urlhash2                          155695              0.083918\n",
       "urlhash3                          155695              0.083918\n",
       "urlhash4                          155695              0.083918\n",
       "user_country                         366              0.000197\n",
       "hashed_app_id                     736418              0.396924\n",
       "googleviewability                1278860              0.689296\n",
       "googlepagevertical                  9066              0.004887\n",
       "campaignvertical                      35              0.000019\n",
       "is_interstitial                     9066              0.004887"
      ],
      "text/html": "<div>\n<style scoped>\n    .dataframe tbody tr th:only-of-type {\n        vertical-align: middle;\n    }\n\n    .dataframe tbody tr th {\n        vertical-align: top;\n    }\n\n    .dataframe thead th {\n        text-align: right;\n    }\n</style>\n<table border=\"1\" class=\"dataframe\">\n  <thead>\n    <tr style=\"text-align: right;\">\n      <th></th>\n      <th>Valeurs manquantes</th>\n      <th>Proportion manquante</th>\n    </tr>\n  </thead>\n  <tbody>\n    <tr>\n      <th>rtbtypeid</th>\n      <td>9066</td>\n      <td>0.004887</td>\n    </tr>\n    <tr>\n      <th>rtbadvisibility</th>\n      <td>9066</td>\n      <td>0.004887</td>\n    </tr>\n    <tr>\n      <th>rtb_detectedlanguage</th>\n      <td>9066</td>\n      <td>0.004887</td>\n    </tr>\n    <tr>\n      <th>urlhash2</th>\n      <td>155695</td>\n      <td>0.083918</td>\n    </tr>\n    <tr>\n      <th>urlhash3</th>\n      <td>155695</td>\n      <td>0.083918</td>\n    </tr>\n    <tr>\n      <th>urlhash4</th>\n      <td>155695</td>\n      <td>0.083918</td>\n    </tr>\n    <tr>\n      <th>user_country</th>\n      <td>366</td>\n      <td>0.000197</td>\n    </tr>\n    <tr>\n      <th>hashed_app_id</th>\n      <td>736418</td>\n      <td>0.396924</td>\n    </tr>\n    <tr>\n      <th>googleviewability</th>\n      <td>1278860</td>\n      <td>0.689296</td>\n    </tr>\n    <tr>\n      <th>googlepagevertical</th>\n      <td>9066</td>\n      <td>0.004887</td>\n    </tr>\n    <tr>\n      <th>campaignvertical</th>\n      <td>35</td>\n      <td>0.000019</td>\n    </tr>\n    <tr>\n      <th>is_interstitial</th>\n      <td>9066</td>\n      <td>0.004887</td>\n    </tr>\n  </tbody>\n</table>\n</div>"
     },
     "metadata": {},
     "execution_count": 4
    }
   ],
   "source": [
    "# Variables avec valeurs manquantes\n",
    "pd.DataFrame({\"Valeurs manquantes\":df[df.columns[df.isnull().sum() != 0]].isnull().sum(), \"Proportion manquante\":df[df.columns[df.isnull().sum() != 0]].isnull().sum()/len(df)})"
   ]
  },
  {
   "cell_type": "code",
   "execution_count": 5,
   "metadata": {},
   "outputs": [],
   "source": [
    "# Suppression de l'appareil cliquant un nombre aberrant de fois\n",
    "df.drop(df.index[df['hashed_xd_id'] == r\"b'\\x12\\xb97|\\xbe~\\\\\\x94\\xe8\\xa7\\r\\x9d#\\x92\\x95#\\xd1J\\xfa\\x95G\\x93\\x13\\x0f\\x8a9Y\\xc7\\xb8I\\xac\\xa8'\"], inplace = True)"
   ]
  },
  {
   "cell_type": "code",
   "execution_count": 6,
   "metadata": {},
   "outputs": [
    {
     "output_type": "execute_result",
     "data": {
      "text/plain": [
       "                                                    is_display_clicked\n",
       "hashed_xd_id                                                          \n",
       "b'\\x97\\x9d)\\xb3*\\x8e\\xf6\\xeer\\xf7\\x166a\\x12\\xcc...                  10\n",
       "b\"L\\xf5H\\x97\\x10\\xfd\\x7f~\\x1a9\\xa3?\\xac\\xfdNf\\x...                  10\n",
       "b'\\xc4\\xc8\\xb7\\xb0\\x7faU\\x01D5\\xfe\\x96\\xb7\\x165...                   9\n",
       "b'\\xadk\\x10\\x99k\\\\\\x7f\\xef\\xf3\\x86\\xe6f\\\\{)\\xd8...                   9\n",
       "b'>\\x90\\xdd\\x05s\\xf2\\x8a\\x1dv\\xc8Kdy\\xbc\\xd9\\xe...                   9\n",
       "...                                                                ...\n",
       "b'\\x05\\xa3\\x85\\xf7TeZ\\x98\\xcc&\\x15\\xdc\\xbaY\\x85...                   0\n",
       "b'\\x05\\xa3\\x99\\xafx4\\x96,G\\xca\\x03I\\x97C|\\xe7~\\...                   0\n",
       "b'\\x05\\xa3\\xaa?\\xa0W\\xf5\\xc2\\xf4\\xcev~X\\xe6\\xfc...                   0\n",
       "b'\\x05\\xa3\\xae\\x8f\\xdd\\xbc\\xfejD6\\x83\\x0cs\\\\j\\x...                   0\n",
       "b'\\x93\\x9a\\xa4_\\xbf\\xb1\\xd1\\x19\\x1f\\xfc\\n3AG\\xd...                   0\n",
       "\n",
       "[1138731 rows x 1 columns]"
      ],
      "text/html": "<div>\n<style scoped>\n    .dataframe tbody tr th:only-of-type {\n        vertical-align: middle;\n    }\n\n    .dataframe tbody tr th {\n        vertical-align: top;\n    }\n\n    .dataframe thead th {\n        text-align: right;\n    }\n</style>\n<table border=\"1\" class=\"dataframe\">\n  <thead>\n    <tr style=\"text-align: right;\">\n      <th></th>\n      <th>is_display_clicked</th>\n    </tr>\n    <tr>\n      <th>hashed_xd_id</th>\n      <th></th>\n    </tr>\n  </thead>\n  <tbody>\n    <tr>\n      <th>b'\\x97\\x9d)\\xb3*\\x8e\\xf6\\xeer\\xf7\\x166a\\x12\\xcc\\xa5\\xf4\\x90\\xc9\\xd9\\x197\\xd1\\xdf\\x17f\\x10%\\xfe\\x99\\xe4\\xb1'</th>\n      <td>10</td>\n    </tr>\n    <tr>\n      <th>b\"L\\xf5H\\x97\\x10\\xfd\\x7f~\\x1a9\\xa3?\\xac\\xfdNf\\xf6\\\\\\x8f13\\xc1\\xcc\\xf8\\xbf\\xc9q\\x87'\\xbc]H\"</th>\n      <td>10</td>\n    </tr>\n    <tr>\n      <th>b'\\xc4\\xc8\\xb7\\xb0\\x7faU\\x01D5\\xfe\\x96\\xb7\\x165\\xff\\x90\\xc2\\xcd;\\xbf^\\\\\\x10\\xf9z*\\x0e\\xc6%4v'</th>\n      <td>9</td>\n    </tr>\n    <tr>\n      <th>b'\\xadk\\x10\\x99k\\\\\\x7f\\xef\\xf3\\x86\\xe6f\\\\{)\\xd8\\x14t\\x8b\\x8b\\x16\\x7f\\xb0z)\\xd4\\n\\xe7&amp;dN\\xe9'</th>\n      <td>9</td>\n    </tr>\n    <tr>\n      <th>b'&gt;\\x90\\xdd\\x05s\\xf2\\x8a\\x1dv\\xc8Kdy\\xbc\\xd9\\xe7a+\\xf6\\x04G2\\xed\\x1eT\\xe6\\xaeS\\x81L$\\x9c'</th>\n      <td>9</td>\n    </tr>\n    <tr>\n      <th>...</th>\n      <td>...</td>\n    </tr>\n    <tr>\n      <th>b'\\x05\\xa3\\x85\\xf7TeZ\\x98\\xcc&amp;\\x15\\xdc\\xbaY\\x85\\xe8\\xf3\\xce\\xd2I\\xc8R:;-\\x1f\\xb9\\xb9\\x9e\\xef\\x89\\x95'</th>\n      <td>0</td>\n    </tr>\n    <tr>\n      <th>b'\\x05\\xa3\\x99\\xafx4\\x96,G\\xca\\x03I\\x97C|\\xe7~\\xad\\x1d\\x80M\\x96[\\xf0\\xbd\\x886\\x96\\x1c\\xb8\\x9c\\xa9'</th>\n      <td>0</td>\n    </tr>\n    <tr>\n      <th>b'\\x05\\xa3\\xaa?\\xa0W\\xf5\\xc2\\xf4\\xcev~X\\xe6\\xfc\\xb3%\\xc8?;T\\xff\\xc1\\x02\\xf5\\\\k\\xcb2N[\\n'</th>\n      <td>0</td>\n    </tr>\n    <tr>\n      <th>b'\\x05\\xa3\\xae\\x8f\\xdd\\xbc\\xfejD6\\x83\\x0cs\\\\j\\xe8\\x1beT\\xba{\\xc0r_\\x98\\xc6\\xbf\\x06\\xd4\\t\\xcc['</th>\n      <td>0</td>\n    </tr>\n    <tr>\n      <th>b'\\x93\\x9a\\xa4_\\xbf\\xb1\\xd1\\x19\\x1f\\xfc\\n3AG\\xd7\\x06m\\xd5\\xaeU\\x85y/`\\xa4\\xf2B\\xfa\\xd6\\xf8\\xbd='</th>\n      <td>0</td>\n    </tr>\n  </tbody>\n</table>\n<p>1138731 rows × 1 columns</p>\n</div>"
     },
     "metadata": {},
     "execution_count": 6
    }
   ],
   "source": [
    "# Les nombres de clics ne sont plus aberrants\n",
    "b = df[['is_display_clicked', 'hashed_xd_id']].groupby(['hashed_xd_id']).sum()\n",
    "b.sort_values('is_display_clicked', ascending=False)"
   ]
  },
  {
   "cell_type": "code",
   "execution_count": 7,
   "metadata": {},
   "outputs": [],
   "source": [
    "# On n'utilisera que la taille totale de la publicité\n",
    "df['display_size'] = df['display_width']*df['display_height']\n",
    "df.drop('display_width', inplace=True, axis=1)\n",
    "df.drop('display_height', inplace=True, axis=1)"
   ]
  },
  {
   "cell_type": "code",
   "execution_count": 8,
   "metadata": {},
   "outputs": [
    {
     "output_type": "display_data",
     "data": {
      "text/plain": "          day                                  hashed_partner_id  \\\n0  2020-10-19  b'=\\xa6\\xeef\\x99\\xda\\x1e\\xb5-5\\x8a\\xa5\\x9b\\x8e...   \n1  2020-10-19  b'=\\xa6\\xeef\\x99\\xda\\x1e\\xb5-5\\x8a\\xa5\\x9b\\x8e...   \n2  2020-10-19  b'\\xa1l\\n\\xb2`\\xe3\\x0b\"\\xcd\\x06\\xfa\\xdf\\x9aj0\\...   \n3  2020-10-19  b'=\\xa6\\xeef\\x99\\xda\\x1e\\xb5-5\\x8a\\xa5\\x9b\\x8e...   \n4  2020-10-19  b'\\x0f\\xbc\\x909\\x14[dI\\xa7v]\\xcc\\x00\\xd3\\xbd\\x...   \n\n                                  hashed_campaign_id  contextid display_env  \\\n0  b\"f|g\\xd5T\\xc8\\xe2\\x90\\xc6\\xc8\\xfeL\\x0c\\x15\\xe...          6         web   \n1  b'7\\xa0%5\\x98\\x02\\x00\\xe5\\xa2\\xfb\\xd6\\xa9^\\xb7...          1         web   \n2  b'\\xbe\\xa0?\\xc2</,\\xa4&w\\x86\\xe9\\x150Y\\xd4\\xdf...          6         web   \n3  b'7\\xa0%5\\x98\\x02\\x00\\xe5\\xa2\\xfb\\xd6\\xa9^\\xb7...          6         web   \n4  b'\\xa0\\t^\\xa5Z\\x06[-\\x86\\x13\\xd8\\x08\\x98\\x8de\\...          8     app_ios   \n\n   target_env  rtbtypeid  rtbadvisibility  rtb_detectedlanguage      urlhash2  \\\n0           1       74.0              0.0                 127.0  1.697895e+08   \n1           1       74.0              0.0                 127.0  3.589877e+08   \n2           1        4.0              2.0                  10.0 -1.859395e+09   \n3           1       73.0              1.0                 127.0 -8.462803e+08   \n4           2       74.0              0.0                 127.0           NaN   \n\n   ...  nbdisplayaffiliateapprox_1d_sum_xdevice  \\\n0  ...                                      2.0   \n1  ...                                     42.0   \n2  ...                                      0.0   \n3  ...                                     31.0   \n4  ...                                      2.0   \n\n   nbdisplayglobalapprox_1d_sum_xdevice  \\\n0                             23.000000   \n1                             98.252222   \n2                             11.000000   \n3                             57.000000   \n4                              2.000000   \n\n                                          hashed_uid  \\\n0  b'\\x99w[\\xb8\\xe1\\x9e\\xbaz\\x01\\x06\\x9c\\xdc\\x03\\...   \n1  b'>\\x1a\\x00W\\xb0\\x81\\x06\\x00\\x90\\xc8\\x8aL\\xb4\\...   \n2  b'o\\xa5~{\\xf5\\xd0C\\xac_\\xa9\\x10\\x95\\x04L\\x8a\\x...   \n3  b'\\xf2\\x93e\\xae\\xadBh\\x9f<<\\x9e\\xf0\\x91q\\xba\\x...   \n4  b'\\xe6\\xa9\\xb2:\\xc5\\x04\\xfd\\x89/Lg\\xc1\\x0e\\xa4...   \n\n                                        hashed_xd_id valueperclick  \\\n0  b'\\xdb\\xfc\\xdfBY`$\\x97\\xf9\\xaaGn\\x98\\xe0{RQ\\x9...      0.529218   \n1  b'\\xe9\\xcd\\x80\\xb5\\x96\\xcf8\\x8eo(p-\\x0f\\xf4\\xf...      0.269752   \n2  b'o\\xa5~{\\xf5\\xd0C\\xac_\\xa9\\x10\\x95\\x04L\\x8a\\x...      0.095993   \n3  b'\\x83u\\xce\\x10n\\x9f\\x10hP\\x0cI\\xdb \\xed\\xa8,E...      0.269752   \n4  b'\\xe6\\xa9\\xb2:\\xc5\\x04\\xfd\\x89/Lg\\xc1\\x0e\\xa4...      0.136416   \n\n   device_type  display_timestamp  is_display_clicked  zonecostineuro  \\\n0      Android         1603150590                   0        0.366238   \n1      Desktop         1603150640                   0        0.025551   \n2      Android         1603150780                   0        0.289000   \n3       iPhone         1603150840                   0        0.243945   \n4       iPhone         1603149970                   0        0.647304   \n\n   display_size  \n0             0  \n1             0  \n2         96000  \n3             4  \n4             0  \n\n[5 rows x 46 columns]",
      "text/html": "<div>\n<style scoped>\n    .dataframe tbody tr th:only-of-type {\n        vertical-align: middle;\n    }\n\n    .dataframe tbody tr th {\n        vertical-align: top;\n    }\n\n    .dataframe thead th {\n        text-align: right;\n    }\n</style>\n<table border=\"1\" class=\"dataframe\">\n  <thead>\n    <tr style=\"text-align: right;\">\n      <th></th>\n      <th>day</th>\n      <th>hashed_partner_id</th>\n      <th>hashed_campaign_id</th>\n      <th>contextid</th>\n      <th>display_env</th>\n      <th>target_env</th>\n      <th>rtbtypeid</th>\n      <th>rtbadvisibility</th>\n      <th>rtb_detectedlanguage</th>\n      <th>urlhash2</th>\n      <th>...</th>\n      <th>nbdisplayaffiliateapprox_1d_sum_xdevice</th>\n      <th>nbdisplayglobalapprox_1d_sum_xdevice</th>\n      <th>hashed_uid</th>\n      <th>hashed_xd_id</th>\n      <th>valueperclick</th>\n      <th>device_type</th>\n      <th>display_timestamp</th>\n      <th>is_display_clicked</th>\n      <th>zonecostineuro</th>\n      <th>display_size</th>\n    </tr>\n  </thead>\n  <tbody>\n    <tr>\n      <th>0</th>\n      <td>2020-10-19</td>\n      <td>b'=\\xa6\\xeef\\x99\\xda\\x1e\\xb5-5\\x8a\\xa5\\x9b\\x8e...</td>\n      <td>b\"f|g\\xd5T\\xc8\\xe2\\x90\\xc6\\xc8\\xfeL\\x0c\\x15\\xe...</td>\n      <td>6</td>\n      <td>web</td>\n      <td>1</td>\n      <td>74.0</td>\n      <td>0.0</td>\n      <td>127.0</td>\n      <td>1.697895e+08</td>\n      <td>...</td>\n      <td>2.0</td>\n      <td>23.000000</td>\n      <td>b'\\x99w[\\xb8\\xe1\\x9e\\xbaz\\x01\\x06\\x9c\\xdc\\x03\\...</td>\n      <td>b'\\xdb\\xfc\\xdfBY`$\\x97\\xf9\\xaaGn\\x98\\xe0{RQ\\x9...</td>\n      <td>0.529218</td>\n      <td>Android</td>\n      <td>1603150590</td>\n      <td>0</td>\n      <td>0.366238</td>\n      <td>0</td>\n    </tr>\n    <tr>\n      <th>1</th>\n      <td>2020-10-19</td>\n      <td>b'=\\xa6\\xeef\\x99\\xda\\x1e\\xb5-5\\x8a\\xa5\\x9b\\x8e...</td>\n      <td>b'7\\xa0%5\\x98\\x02\\x00\\xe5\\xa2\\xfb\\xd6\\xa9^\\xb7...</td>\n      <td>1</td>\n      <td>web</td>\n      <td>1</td>\n      <td>74.0</td>\n      <td>0.0</td>\n      <td>127.0</td>\n      <td>3.589877e+08</td>\n      <td>...</td>\n      <td>42.0</td>\n      <td>98.252222</td>\n      <td>b'&gt;\\x1a\\x00W\\xb0\\x81\\x06\\x00\\x90\\xc8\\x8aL\\xb4\\...</td>\n      <td>b'\\xe9\\xcd\\x80\\xb5\\x96\\xcf8\\x8eo(p-\\x0f\\xf4\\xf...</td>\n      <td>0.269752</td>\n      <td>Desktop</td>\n      <td>1603150640</td>\n      <td>0</td>\n      <td>0.025551</td>\n      <td>0</td>\n    </tr>\n    <tr>\n      <th>2</th>\n      <td>2020-10-19</td>\n      <td>b'\\xa1l\\n\\xb2`\\xe3\\x0b\"\\xcd\\x06\\xfa\\xdf\\x9aj0\\...</td>\n      <td>b'\\xbe\\xa0?\\xc2&lt;/,\\xa4&amp;w\\x86\\xe9\\x150Y\\xd4\\xdf...</td>\n      <td>6</td>\n      <td>web</td>\n      <td>1</td>\n      <td>4.0</td>\n      <td>2.0</td>\n      <td>10.0</td>\n      <td>-1.859395e+09</td>\n      <td>...</td>\n      <td>0.0</td>\n      <td>11.000000</td>\n      <td>b'o\\xa5~{\\xf5\\xd0C\\xac_\\xa9\\x10\\x95\\x04L\\x8a\\x...</td>\n      <td>b'o\\xa5~{\\xf5\\xd0C\\xac_\\xa9\\x10\\x95\\x04L\\x8a\\x...</td>\n      <td>0.095993</td>\n      <td>Android</td>\n      <td>1603150780</td>\n      <td>0</td>\n      <td>0.289000</td>\n      <td>96000</td>\n    </tr>\n    <tr>\n      <th>3</th>\n      <td>2020-10-19</td>\n      <td>b'=\\xa6\\xeef\\x99\\xda\\x1e\\xb5-5\\x8a\\xa5\\x9b\\x8e...</td>\n      <td>b'7\\xa0%5\\x98\\x02\\x00\\xe5\\xa2\\xfb\\xd6\\xa9^\\xb7...</td>\n      <td>6</td>\n      <td>web</td>\n      <td>1</td>\n      <td>73.0</td>\n      <td>1.0</td>\n      <td>127.0</td>\n      <td>-8.462803e+08</td>\n      <td>...</td>\n      <td>31.0</td>\n      <td>57.000000</td>\n      <td>b'\\xf2\\x93e\\xae\\xadBh\\x9f&lt;&lt;\\x9e\\xf0\\x91q\\xba\\x...</td>\n      <td>b'\\x83u\\xce\\x10n\\x9f\\x10hP\\x0cI\\xdb \\xed\\xa8,E...</td>\n      <td>0.269752</td>\n      <td>iPhone</td>\n      <td>1603150840</td>\n      <td>0</td>\n      <td>0.243945</td>\n      <td>4</td>\n    </tr>\n    <tr>\n      <th>4</th>\n      <td>2020-10-19</td>\n      <td>b'\\x0f\\xbc\\x909\\x14[dI\\xa7v]\\xcc\\x00\\xd3\\xbd\\x...</td>\n      <td>b'\\xa0\\t^\\xa5Z\\x06[-\\x86\\x13\\xd8\\x08\\x98\\x8de\\...</td>\n      <td>8</td>\n      <td>app_ios</td>\n      <td>2</td>\n      <td>74.0</td>\n      <td>0.0</td>\n      <td>127.0</td>\n      <td>NaN</td>\n      <td>...</td>\n      <td>2.0</td>\n      <td>2.000000</td>\n      <td>b'\\xe6\\xa9\\xb2:\\xc5\\x04\\xfd\\x89/Lg\\xc1\\x0e\\xa4...</td>\n      <td>b'\\xe6\\xa9\\xb2:\\xc5\\x04\\xfd\\x89/Lg\\xc1\\x0e\\xa4...</td>\n      <td>0.136416</td>\n      <td>iPhone</td>\n      <td>1603149970</td>\n      <td>0</td>\n      <td>0.647304</td>\n      <td>0</td>\n    </tr>\n  </tbody>\n</table>\n<p>5 rows × 46 columns</p>\n</div>"
     },
     "metadata": {}
    },
    {
     "output_type": "stream",
     "name": "stdout",
     "text": [
      "46\n"
     ]
    }
   ],
   "source": [
    "display(df.head())\n",
    "print(len(df.columns))"
   ]
  },
  {
   "cell_type": "code",
   "execution_count": 9,
   "metadata": {},
   "outputs": [],
   "source": [
    "df.to_csv('data/df_train_prepro.csv', index=False)"
   ]
  },
  {
   "cell_type": "code",
   "execution_count": 10,
   "metadata": {},
   "outputs": [
    {
     "output_type": "stream",
     "name": "stdout",
     "text": [
      "Temps d'exécution total : 00:01:21\n"
     ]
    }
   ],
   "source": [
    "print(f\"Temps d'exécution total : {time.strftime('%H:%M:%S', time.gmtime(time.time()-t))}\")"
   ]
  }
 ],
 "metadata": {
  "kernelspec": {
   "display_name": "Python 3",
   "language": "python",
   "name": "python3"
  },
  "language_info": {
   "codemirror_mode": {
    "name": "ipython",
    "version": 3
   },
   "file_extension": ".py",
   "mimetype": "text/x-python",
   "name": "python",
   "nbconvert_exporter": "python",
   "pygments_lexer": "ipython3",
   "version": "3.8.7-final"
  }
 },
 "nbformat": 4,
 "nbformat_minor": 4
}