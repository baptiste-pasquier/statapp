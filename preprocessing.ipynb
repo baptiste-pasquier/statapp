{
 "cells": [
  {
   "cell_type": "code",
   "execution_count": 1,
   "metadata": {},
   "outputs": [],
   "source": [
    "import pandas as pd\n",
    "import numpy as np\n",
    "import seaborn as sns\n",
    "import matplotlib.pyplot as plt\n",
    "import sklearn\n",
    "from sklearn.preprocessing import StandardScaler\n",
    "from sklearn.decomposition import PCA\n",
    "import time\n",
    "\n",
    "\n",
    "## VS Code, choisir un seul des 3 :\n",
    "\n",
    "# Pour affichage interactif (notamment 3D) dans notebook\n",
    "# %matplotlib widget\n",
    "\n",
    "# Pour affichage interactif (notamment 3D) dans une fenêtre qt externe au notebook\n",
    "# %matplotlib qt\n",
    "\n",
    "# Pour affichage simple dans notebook\n",
    "%config InlineBackend.figure_format = 'png'\n",
    "\n",
    "t = time.time()"
   ]
  },
  {
   "cell_type": "code",
   "execution_count": 2,
   "metadata": {},
   "outputs": [
    {
     "data": {
      "text/plain": [
       "Index(['Unnamed: 0', 'day', 'hashed_partner_id', 'hashed_campaign_id',\n",
       "       'contextid', 'display_env', 'target_env', 'rtbtypeid',\n",
       "       'rtbadvisibility', 'rtb_detectedlanguage', 'urlhash2', 'urlhash3',\n",
       "       'urlhash4', 'user_country', 'hashed_affiliateid', 'hashed_app_id',\n",
       "       'googleviewability', 'googlepagevertical', 'campaignscenario',\n",
       "       'campaignvertical', 'campaignctrlast24h', 'is_interstitial',\n",
       "       'dayssincelastvisitdouble', 'ltf_lastpartnerclicktimestamp',\n",
       "       'ltf_nbglobalclick_4w', 'ltf_nbglobaldisplay_4w',\n",
       "       'ltf_nbglobaldisplaysincelastpartnerproductview',\n",
       "       'ltf_nbpartnerdisplayssincelastclick', 'ltf_nbpartnerclick_4w',\n",
       "       'ltf_nbpartnerdisplay_4w', 'ltf_nbpartnersales_4w',\n",
       "       'ltf_nbpartnerdisplay_90d', 'ltf_nbpartnerclick_90d',\n",
       "       'ltf_nbpartnersales_90d', 'nbdayssincelastclick', 'nbdisplay_1hour',\n",
       "       'nbdisplaypartnerapprox_1d_sum_xdevice',\n",
       "       'nbdisplayaffiliateapprox_1d_sum_xdevice',\n",
       "       'nbdisplayglobalapprox_1d_sum_xdevice', 'hashed_uid', 'hashed_xd_id',\n",
       "       'valueperclick', 'device_type', 'display_width', 'display_height',\n",
       "       'display_timestamp', 'is_display_clicked', 'zonecostineuro'],\n",
       "      dtype='object')"
      ]
     },
     "execution_count": 2,
     "metadata": {},
     "output_type": "execute_result"
    }
   ],
   "source": [
    "df = pd.read_csv('data/df_train.csv')\n",
    "df.columns"
   ]
  },
  {
   "cell_type": "code",
   "execution_count": 3,
   "metadata": {},
   "outputs": [],
   "source": [
    "# Recodage de certaines modalités afin de réordonner par ordre croissant d'engagement\n",
    "df[\"contextid\"] = df[\"contextid\"].replace(0,1)\n",
    "df[\"contextid\"] = df[\"contextid\"].replace(10,3)\n",
    "\n",
    "# Remplacement des valeurs manquantes par des 0 dans les variables commençant par ltf\n",
    "df['ltf_lastpartnerclicktimestamp'] = df['ltf_lastpartnerclicktimestamp'].fillna(0)\n",
    "df['ltf_nbglobalclick_4w'] = df['ltf_nbglobalclick_4w'].fillna(0)\n",
    "df['ltf_nbglobaldisplay_4w'] = df['ltf_nbglobaldisplay_4w'].fillna(0)\n",
    "df['ltf_nbglobaldisplaysincelastpartnerproductview'] = df['ltf_nbglobaldisplaysincelastpartnerproductview'].fillna(0)\n",
    "df['ltf_nbpartnerdisplayssincelastclick'] = df['ltf_nbpartnerdisplayssincelastclick'].fillna(0)\n",
    "df['ltf_nbpartnerclick_4w'] = df['ltf_nbpartnerclick_4w'].fillna(0)\n",
    "df['ltf_nbpartnerdisplay_4w'] = df['ltf_nbpartnerdisplay_4w'].fillna(0)\n",
    "df['ltf_nbpartnersales_4w'] = df['ltf_nbpartnersales_4w'].fillna(0)\n",
    "df['ltf_nbpartnerdisplay_90d'] = df['ltf_nbpartnerdisplay_90d'].fillna(0)\n",
    "df['ltf_nbpartnerclick_90d'] = df['ltf_nbpartnerclick_90d'].fillna(0)\n",
    "df['ltf_nbpartnersales_90d'] = df['ltf_nbpartnersales_90d'].fillna(0)\n",
    "# Idem ici\n",
    "df['nbdisplay_1hour'] = df['nbdisplay_1hour'].fillna(0)\n",
    "df['nbdisplaypartnerapprox_1d_sum_xdevice'] = df['nbdisplaypartnerapprox_1d_sum_xdevice'].fillna(0)\n",
    "df['nbdisplayaffiliateapprox_1d_sum_xdevice'] = df['nbdisplayaffiliateapprox_1d_sum_xdevice'].fillna(0)\n",
    "df['nbdisplayglobalapprox_1d_sum_xdevice'] = df['nbdisplayglobalapprox_1d_sum_xdevice'].fillna(0)\t\n",
    "df['campaignctrlast24h'] = df['campaignctrlast24h'].fillna(0)"
   ]
  },
  {
   "cell_type": "code",
   "execution_count": 4,
   "metadata": {},
   "outputs": [
    {
     "data": {
      "text/html": [
       "<div>\n",
       "<style scoped>\n",
       "    .dataframe tbody tr th:only-of-type {\n",
       "        vertical-align: middle;\n",
       "    }\n",
       "\n",
       "    .dataframe tbody tr th {\n",
       "        vertical-align: top;\n",
       "    }\n",
       "\n",
       "    .dataframe thead th {\n",
       "        text-align: right;\n",
       "    }\n",
       "</style>\n",
       "<table border=\"1\" class=\"dataframe\">\n",
       "  <thead>\n",
       "    <tr style=\"text-align: right;\">\n",
       "      <th></th>\n",
       "      <th>Valeurs manquantes</th>\n",
       "      <th>Proportion manquante</th>\n",
       "    </tr>\n",
       "  </thead>\n",
       "  <tbody>\n",
       "    <tr>\n",
       "      <th>rtbtypeid</th>\n",
       "      <td>9066</td>\n",
       "      <td>0.004887</td>\n",
       "    </tr>\n",
       "    <tr>\n",
       "      <th>rtbadvisibility</th>\n",
       "      <td>9066</td>\n",
       "      <td>0.004887</td>\n",
       "    </tr>\n",
       "    <tr>\n",
       "      <th>rtb_detectedlanguage</th>\n",
       "      <td>9066</td>\n",
       "      <td>0.004887</td>\n",
       "    </tr>\n",
       "    <tr>\n",
       "      <th>urlhash2</th>\n",
       "      <td>155695</td>\n",
       "      <td>0.083918</td>\n",
       "    </tr>\n",
       "    <tr>\n",
       "      <th>urlhash3</th>\n",
       "      <td>155695</td>\n",
       "      <td>0.083918</td>\n",
       "    </tr>\n",
       "    <tr>\n",
       "      <th>urlhash4</th>\n",
       "      <td>155695</td>\n",
       "      <td>0.083918</td>\n",
       "    </tr>\n",
       "    <tr>\n",
       "      <th>user_country</th>\n",
       "      <td>366</td>\n",
       "      <td>0.000197</td>\n",
       "    </tr>\n",
       "    <tr>\n",
       "      <th>hashed_app_id</th>\n",
       "      <td>736418</td>\n",
       "      <td>0.396924</td>\n",
       "    </tr>\n",
       "    <tr>\n",
       "      <th>googleviewability</th>\n",
       "      <td>1278860</td>\n",
       "      <td>0.689296</td>\n",
       "    </tr>\n",
       "    <tr>\n",
       "      <th>googlepagevertical</th>\n",
       "      <td>9066</td>\n",
       "      <td>0.004887</td>\n",
       "    </tr>\n",
       "    <tr>\n",
       "      <th>campaignvertical</th>\n",
       "      <td>35</td>\n",
       "      <td>0.000019</td>\n",
       "    </tr>\n",
       "    <tr>\n",
       "      <th>is_interstitial</th>\n",
       "      <td>9066</td>\n",
       "      <td>0.004887</td>\n",
       "    </tr>\n",
       "  </tbody>\n",
       "</table>\n",
       "</div>"
      ],
      "text/plain": [
       "                      Valeurs manquantes  Proportion manquante\n",
       "rtbtypeid                           9066              0.004887\n",
       "rtbadvisibility                     9066              0.004887\n",
       "rtb_detectedlanguage                9066              0.004887\n",
       "urlhash2                          155695              0.083918\n",
       "urlhash3                          155695              0.083918\n",
       "urlhash4                          155695              0.083918\n",
       "user_country                         366              0.000197\n",
       "hashed_app_id                     736418              0.396924\n",
       "googleviewability                1278860              0.689296\n",
       "googlepagevertical                  9066              0.004887\n",
       "campaignvertical                      35              0.000019\n",
       "is_interstitial                     9066              0.004887"
      ]
     },
     "execution_count": 4,
     "metadata": {},
     "output_type": "execute_result"
    }
   ],
   "source": [
    "# Variables avec valeurs manquantes\n",
    "pd.DataFrame({\"Valeurs manquantes\":df[df.columns[df.isnull().sum() != 0]].isnull().sum(), \"Proportion manquante\":df[df.columns[df.isnull().sum() != 0]].isnull().sum()/len(df)})"
   ]
  },
  {
   "cell_type": "code",
   "execution_count": 5,
   "metadata": {},
   "outputs": [],
   "source": [
    "# Suppression de l'appareil cliquant un nombre aberrant de fois\n",
    "df.drop(df.index[df['hashed_xd_id'] == r\"b'\\x12\\xb97|\\xbe~\\\\\\x94\\xe8\\xa7\\r\\x9d#\\x92\\x95#\\xd1J\\xfa\\x95G\\x93\\x13\\x0f\\x8a9Y\\xc7\\xb8I\\xac\\xa8'\"], inplace = True)"
   ]
  },
  {
   "cell_type": "code",
   "execution_count": 6,
   "metadata": {},
   "outputs": [
    {
     "data": {
      "text/html": [
       "<div>\n",
       "<style scoped>\n",
       "    .dataframe tbody tr th:only-of-type {\n",
       "        vertical-align: middle;\n",
       "    }\n",
       "\n",
       "    .dataframe tbody tr th {\n",
       "        vertical-align: top;\n",
       "    }\n",
       "\n",
       "    .dataframe thead th {\n",
       "        text-align: right;\n",
       "    }\n",
       "</style>\n",
       "<table border=\"1\" class=\"dataframe\">\n",
       "  <thead>\n",
       "    <tr style=\"text-align: right;\">\n",
       "      <th></th>\n",
       "      <th>is_display_clicked</th>\n",
       "    </tr>\n",
       "    <tr>\n",
       "      <th>hashed_xd_id</th>\n",
       "      <th></th>\n",
       "    </tr>\n",
       "  </thead>\n",
       "  <tbody>\n",
       "    <tr>\n",
       "      <th>b'\\x97\\x9d)\\xb3*\\x8e\\xf6\\xeer\\xf7\\x166a\\x12\\xcc\\xa5\\xf4\\x90\\xc9\\xd9\\x197\\xd1\\xdf\\x17f\\x10%\\xfe\\x99\\xe4\\xb1'</th>\n",
       "      <td>10</td>\n",
       "    </tr>\n",
       "    <tr>\n",
       "      <th>b\"L\\xf5H\\x97\\x10\\xfd\\x7f~\\x1a9\\xa3?\\xac\\xfdNf\\xf6\\\\\\x8f13\\xc1\\xcc\\xf8\\xbf\\xc9q\\x87'\\xbc]H\"</th>\n",
       "      <td>10</td>\n",
       "    </tr>\n",
       "    <tr>\n",
       "      <th>b'\\xc4\\xc8\\xb7\\xb0\\x7faU\\x01D5\\xfe\\x96\\xb7\\x165\\xff\\x90\\xc2\\xcd;\\xbf^\\\\\\x10\\xf9z*\\x0e\\xc6%4v'</th>\n",
       "      <td>9</td>\n",
       "    </tr>\n",
       "    <tr>\n",
       "      <th>b'\\xadk\\x10\\x99k\\\\\\x7f\\xef\\xf3\\x86\\xe6f\\\\{)\\xd8\\x14t\\x8b\\x8b\\x16\\x7f\\xb0z)\\xd4\\n\\xe7&amp;dN\\xe9'</th>\n",
       "      <td>9</td>\n",
       "    </tr>\n",
       "    <tr>\n",
       "      <th>b'&gt;\\x90\\xdd\\x05s\\xf2\\x8a\\x1dv\\xc8Kdy\\xbc\\xd9\\xe7a+\\xf6\\x04G2\\xed\\x1eT\\xe6\\xaeS\\x81L$\\x9c'</th>\n",
       "      <td>9</td>\n",
       "    </tr>\n",
       "    <tr>\n",
       "      <th>...</th>\n",
       "      <td>...</td>\n",
       "    </tr>\n",
       "    <tr>\n",
       "      <th>b'\\x05\\xa3\\x85\\xf7TeZ\\x98\\xcc&amp;\\x15\\xdc\\xbaY\\x85\\xe8\\xf3\\xce\\xd2I\\xc8R:;-\\x1f\\xb9\\xb9\\x9e\\xef\\x89\\x95'</th>\n",
       "      <td>0</td>\n",
       "    </tr>\n",
       "    <tr>\n",
       "      <th>b'\\x05\\xa3\\x99\\xafx4\\x96,G\\xca\\x03I\\x97C|\\xe7~\\xad\\x1d\\x80M\\x96[\\xf0\\xbd\\x886\\x96\\x1c\\xb8\\x9c\\xa9'</th>\n",
       "      <td>0</td>\n",
       "    </tr>\n",
       "    <tr>\n",
       "      <th>b'\\x05\\xa3\\xaa?\\xa0W\\xf5\\xc2\\xf4\\xcev~X\\xe6\\xfc\\xb3%\\xc8?;T\\xff\\xc1\\x02\\xf5\\\\k\\xcb2N[\\n'</th>\n",
       "      <td>0</td>\n",
       "    </tr>\n",
       "    <tr>\n",
       "      <th>b'\\x05\\xa3\\xae\\x8f\\xdd\\xbc\\xfejD6\\x83\\x0cs\\\\j\\xe8\\x1beT\\xba{\\xc0r_\\x98\\xc6\\xbf\\x06\\xd4\\t\\xcc['</th>\n",
       "      <td>0</td>\n",
       "    </tr>\n",
       "    <tr>\n",
       "      <th>b'\\x93\\x9a\\xa4_\\xbf\\xb1\\xd1\\x19\\x1f\\xfc\\n3AG\\xd7\\x06m\\xd5\\xaeU\\x85y/`\\xa4\\xf2B\\xfa\\xd6\\xf8\\xbd='</th>\n",
       "      <td>0</td>\n",
       "    </tr>\n",
       "  </tbody>\n",
       "</table>\n",
       "<p>1138731 rows × 1 columns</p>\n",
       "</div>"
      ],
      "text/plain": [
       "                                                    is_display_clicked\n",
       "hashed_xd_id                                                          \n",
       "b'\\x97\\x9d)\\xb3*\\x8e\\xf6\\xeer\\xf7\\x166a\\x12\\xcc...                  10\n",
       "b\"L\\xf5H\\x97\\x10\\xfd\\x7f~\\x1a9\\xa3?\\xac\\xfdNf\\x...                  10\n",
       "b'\\xc4\\xc8\\xb7\\xb0\\x7faU\\x01D5\\xfe\\x96\\xb7\\x165...                   9\n",
       "b'\\xadk\\x10\\x99k\\\\\\x7f\\xef\\xf3\\x86\\xe6f\\\\{)\\xd8...                   9\n",
       "b'>\\x90\\xdd\\x05s\\xf2\\x8a\\x1dv\\xc8Kdy\\xbc\\xd9\\xe...                   9\n",
       "...                                                                ...\n",
       "b'\\x05\\xa3\\x85\\xf7TeZ\\x98\\xcc&\\x15\\xdc\\xbaY\\x85...                   0\n",
       "b'\\x05\\xa3\\x99\\xafx4\\x96,G\\xca\\x03I\\x97C|\\xe7~\\...                   0\n",
       "b'\\x05\\xa3\\xaa?\\xa0W\\xf5\\xc2\\xf4\\xcev~X\\xe6\\xfc...                   0\n",
       "b'\\x05\\xa3\\xae\\x8f\\xdd\\xbc\\xfejD6\\x83\\x0cs\\\\j\\x...                   0\n",
       "b'\\x93\\x9a\\xa4_\\xbf\\xb1\\xd1\\x19\\x1f\\xfc\\n3AG\\xd...                   0\n",
       "\n",
       "[1138731 rows x 1 columns]"
      ]
     },
     "execution_count": 6,
     "metadata": {},
     "output_type": "execute_result"
    }
   ],
   "source": [
    "# Les nombres de clics ne sont plus aberrants\n",
    "b = df[['is_display_clicked', 'hashed_xd_id']].groupby(['hashed_xd_id']).sum()\n",
    "b.sort_values('is_display_clicked', ascending=False)"
   ]
  },
  {
   "cell_type": "code",
   "execution_count": 7,
   "metadata": {},
   "outputs": [],
   "source": [
    "df['display_size'] = df['display_width']*df['display_height']"
   ]
  },
  {
   "cell_type": "code",
   "execution_count": 8,
   "metadata": {},
   "outputs": [],
   "source": [
    "df.to_csv('data/df_train_prepro.csv')"
   ]
  },
  {
   "cell_type": "code",
   "execution_count": 9,
   "metadata": {},
   "outputs": [
    {
     "name": "stdout",
     "output_type": "stream",
     "text": [
      "Temps d'exécution total : 00:01:35\n"
     ]
    }
   ],
   "source": [
    "print(f\"Temps d'exécution total : {time.strftime('%H:%M:%S', time.gmtime(time.time()-t))}\")"
   ]
  }
 ],
 "metadata": {
  "kernelspec": {
   "display_name": "Python 3",
   "language": "python",
   "name": "python3"
  },
  "language_info": {
   "codemirror_mode": {
    "name": "ipython",
    "version": 3
   },
   "file_extension": ".py",
   "mimetype": "text/x-python",
   "name": "python",
   "nbconvert_exporter": "python",
   "pygments_lexer": "ipython3",
   "version": "3.8.5"
  }
 },
 "nbformat": 4,
 "nbformat_minor": 4
}
