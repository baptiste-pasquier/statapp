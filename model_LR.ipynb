{
 "cells": [
  {
   "cell_type": "code",
   "execution_count": 1,
   "metadata": {},
   "outputs": [],
   "source": [
    "import os\n",
    "import time\n",
    "from math import log\n",
    "\n",
    "import matplotlib.pyplot as plt\n",
    "import numpy as np\n",
    "import pandas as pd\n",
    "from IPython.display import display\n",
    "from sklearn import metrics\n",
    "from sklearn.feature_extraction.text import CountVectorizer, TfidfVectorizer\n",
    "from sklearn.linear_model import LogisticRegression\n",
    "from sklearn.model_selection import train_test_split\n",
    "from sklearn.preprocessing import StandardScaler\n",
    "\n",
    "t = time.time()"
   ]
  },
  {
   "cell_type": "code",
   "execution_count": 2,
   "metadata": {},
   "outputs": [],
   "source": [
    "class Modelisation():\n",
    "    def __init__(self, X, y, model, scaling=True):\n",
    "        if scaling:\n",
    "            scaler = StandardScaler()\n",
    "            X = scaler.fit_transform(X)\n",
    "\n",
    "        X_train, X_test, y_train, y_test = train_test_split(X, y, train_size=0.80, random_state=1234)\n",
    "\n",
    "        model.fit(X_train, y_train)\n",
    "        y_pred = model.predict(X_test)\n",
    "\n",
    "        sc_accuracy = metrics.accuracy_score(y_pred, y_test)    \n",
    "        sc_balanced_accuracy = metrics.balanced_accuracy_score(y_pred, y_test)\n",
    "        sc_f1 = metrics.f1_score(y_pred, y_test)\n",
    "        sc_recall = metrics.recall_score(y_pred, y_test)\n",
    "        sc_precision = metrics.precision_score(y_pred, y_test)\n",
    "        sc_roc_auc = metrics.roc_auc_score(y_test, model.predict_proba(X_test)[:, 1])\n",
    "        probs = model.predict_proba(X_test)[:, 1]\n",
    "\n",
    "        metrics_score = {'accuracy': sc_accuracy, \n",
    "                         'balanced_accuracy': sc_balanced_accuracy, \n",
    "                         'f1': sc_f1,\n",
    "                         'recall': sc_recall,\n",
    "                         'precision': sc_precision,\n",
    "                         'roc_auc': sc_roc_auc}\n",
    "\n",
    "        self.X_train, self.X_test, self.y_train, self.y_test = X_train, X_test, y_train, y_test\n",
    "        self.model = model\n",
    "        self.probs = probs\n",
    "        self.metrics_score = metrics_score\n",
    "\n",
    "    def get_data(self):\n",
    "        return self.X_train, self.X_test, self.y_train, self.y_test\n",
    "    \n",
    "    def show_conf_matrix(self):\n",
    "        metrics.plot_confusion_matrix(self.model, self.X_test, self.y_test, cmap='Blues')\n",
    "        plt.show()     \n",
    "    \n",
    "    def show_metrics_score(self):\n",
    "        for key, value in self.metrics_score.items():\n",
    "            print(f\"{key} : {value:.4f}\")\n",
    "            \n",
    "    def show_ROC(self):\n",
    "        fpr, tpr, _ = metrics.roc_curve(self.y_test, self.probs)\n",
    "        plt.plot(fpr, tpr, label=f\"{self.model}\")\n",
    "        plt.plot([0, 1], [0, 1], \"r-\")\n",
    "        plt.plot([0, 0, 1], [0, 1, 1], 'b-')\n",
    "        plt.legend()\n",
    "        plt.show()"
   ]
  },
  {
   "cell_type": "code",
   "execution_count": 3,
   "metadata": {},
   "outputs": [
    {
     "data": {
      "text/plain": [
       "(1610494, 50)"
      ]
     },
     "execution_count": 3,
     "metadata": {},
     "output_type": "execute_result"
    }
   ],
   "source": [
    "df = pd.read_csv('data/df_train_prepro.csv').sample(frac=1)\n",
    "df.shape"
   ]
  },
  {
   "cell_type": "code",
   "execution_count": 4,
   "metadata": {},
   "outputs": [],
   "source": [
    "X = df[['contextid','dayssincelastvisitdouble','campaignctrlast24h','nbdisplay_1hour','nbdayssincelastclick','display_size','ltf_nbpartnerdisplayssincelastclick','ltf_nbglobaldisplay_4w','ltf_nbpartnerclick_90d','ltf_nbpartnerdisplay_90d','ltf_nbpartnersales_90d','nbdisplayglobalapprox_1d_sum_xdevice']]\n",
    "y = df['is_display_clicked']"
   ]
  },
  {
   "cell_type": "code",
   "execution_count": 5,
   "metadata": {},
   "outputs": [
    {
     "data": {
      "image/png": "[encoded data removed]",
      "text/plain": [
       "<Figure size 432x288 with 2 Axes>"
      ]
     },
     "metadata": {
      "needs_background": "light"
     },
     "output_type": "display_data"
    },
    {
     "name": "stdout",
     "output_type": "stream",
     "text": [
      "accuracy : 0.9422\n",
      "balanced_accuracy : 0.6470\n",
      "f1 : 0.0280\n",
      "recall : 0.3503\n",
      "precision : 0.0146\n",
      "roc_auc : 0.6862\n"
     ]
    }
   ],
   "source": [
    "m = Modelisation(X, y, LogisticRegression())\n",
    "m.show_conf_matrix()\n",
    "m.show_metrics_score()"
   ]
  },
  {
   "cell_type": "code",
   "execution_count": 6,
   "metadata": {},
   "outputs": [
    {
     "data": {
      "image/png": "[encoded data removed]",
      "text/plain": [
       "<Figure size 432x288 with 1 Axes>"
      ]
     },
     "metadata": {
      "needs_background": "light"
     },
     "output_type": "display_data"
    }
   ],
   "source": [
    "m.show_ROC()"
   ]
  },
  {
   "cell_type": "code",
   "execution_count": 7,
   "metadata": {},
   "outputs": [
    {
     "data": {
      "text/html": [
       "<div>\n",
       "<style scoped>\n",
       "    .dataframe tbody tr th:only-of-type {\n",
       "        vertical-align: middle;\n",
       "    }\n",
       "\n",
       "    .dataframe tbody tr th {\n",
       "        vertical-align: top;\n",
       "    }\n",
       "\n",
       "    .dataframe thead th {\n",
       "        text-align: right;\n",
       "    }\n",
       "</style>\n",
       "<table border=\"1\" class=\"dataframe\">\n",
       "  <thead>\n",
       "    <tr style=\"text-align: right;\">\n",
       "      <th></th>\n",
       "      <th>Coefficient</th>\n",
       "    </tr>\n",
       "  </thead>\n",
       "  <tbody>\n",
       "    <tr>\n",
       "      <th>contextid</th>\n",
       "      <td>0.094578</td>\n",
       "    </tr>\n",
       "    <tr>\n",
       "      <th>dayssincelastvisitdouble</th>\n",
       "      <td>-0.088618</td>\n",
       "    </tr>\n",
       "    <tr>\n",
       "      <th>campaignctrlast24h</th>\n",
       "      <td>0.349899</td>\n",
       "    </tr>\n",
       "    <tr>\n",
       "      <th>nbdisplay_1hour</th>\n",
       "      <td>-0.253037</td>\n",
       "    </tr>\n",
       "    <tr>\n",
       "      <th>nbdayssincelastclick</th>\n",
       "      <td>-0.138410</td>\n",
       "    </tr>\n",
       "    <tr>\n",
       "      <th>display_size</th>\n",
       "      <td>0.371334</td>\n",
       "    </tr>\n",
       "    <tr>\n",
       "      <th>ltf_nbpartnerdisplayssincelastclick</th>\n",
       "      <td>-0.030667</td>\n",
       "    </tr>\n",
       "    <tr>\n",
       "      <th>ltf_nbglobaldisplay_4w</th>\n",
       "      <td>0.004953</td>\n",
       "    </tr>\n",
       "    <tr>\n",
       "      <th>ltf_nbpartnerclick_90d</th>\n",
       "      <td>0.040980</td>\n",
       "    </tr>\n",
       "    <tr>\n",
       "      <th>ltf_nbpartnerdisplay_90d</th>\n",
       "      <td>-0.012835</td>\n",
       "    </tr>\n",
       "    <tr>\n",
       "      <th>ltf_nbpartnersales_90d</th>\n",
       "      <td>-0.009111</td>\n",
       "    </tr>\n",
       "    <tr>\n",
       "      <th>nbdisplayglobalapprox_1d_sum_xdevice</th>\n",
       "      <td>-0.126948</td>\n",
       "    </tr>\n",
       "  </tbody>\n",
       "</table>\n",
       "</div>"
      ],
      "text/plain": [
       "                                      Coefficient\n",
       "contextid                                0.094578\n",
       "dayssincelastvisitdouble                -0.088618\n",
       "campaignctrlast24h                       0.349899\n",
       "nbdisplay_1hour                         -0.253037\n",
       "nbdayssincelastclick                    -0.138410\n",
       "display_size                             0.371334\n",
       "ltf_nbpartnerdisplayssincelastclick     -0.030667\n",
       "ltf_nbglobaldisplay_4w                   0.004953\n",
       "ltf_nbpartnerclick_90d                   0.040980\n",
       "ltf_nbpartnerdisplay_90d                -0.012835\n",
       "ltf_nbpartnersales_90d                  -0.009111\n",
       "nbdisplayglobalapprox_1d_sum_xdevice    -0.126948"
      ]
     },
     "execution_count": 7,
     "metadata": {},
     "output_type": "execute_result"
    }
   ],
   "source": [
    "coeff_df = pd.DataFrame(np.transpose(m.model.coef_), X.columns, columns=['Coefficient'])\n",
    "coeff_df"
   ]
  },
  {
   "cell_type": "code",
   "execution_count": 8,
   "metadata": {},
   "outputs": [
    {
     "name": "stdout",
     "output_type": "stream",
     "text": [
      "Optimization terminated successfully.\n",
      "         Current function value: 0.249951\n",
      "         Iterations 8\n",
      "                           Logit Regression Results                           \n",
      "==============================================================================\n",
      "Dep. Variable:     is_display_clicked   No. Observations:              1610494\n",
      "Model:                          Logit   Df Residuals:                  1610482\n",
      "Method:                           MLE   Df Model:                           11\n",
      "Date:                Thu, 17 Dec 2020   Pseudo R-squ.:                 -0.1437\n",
      "Time:                        13:35:40   Log-Likelihood:            -4.0254e+05\n",
      "converged:                       True   LL-Null:                   -3.5198e+05\n",
      "Covariance Type:            nonrobust   LLR p-value:                     1.000\n",
      "========================================================================================================\n",
      "                                           coef    std err          z      P>|z|      [0.025      0.975]\n",
      "--------------------------------------------------------------------------------------------------------\n",
      "contextid                               -0.2309      0.001   -226.735      0.000      -0.233      -0.229\n",
      "dayssincelastvisitdouble                -0.0067      0.000    -67.160      0.000      -0.007      -0.007\n",
      "campaignctrlast24h                    -109.1345      0.705   -154.698      0.000    -110.517    -107.752\n",
      "nbdisplay_1hour                         -0.0564      0.001    -83.463      0.000      -0.058      -0.055\n",
      "nbdayssincelastclick                    -0.0036   9.96e-05    -36.113      0.000      -0.004      -0.003\n",
      "display_size                          1.493e-06   2.45e-08     60.919      0.000    1.44e-06    1.54e-06\n",
      "ltf_nbpartnerdisplayssincelastclick     -0.0008      0.000     -3.567      0.000      -0.001      -0.000\n",
      "ltf_nbglobaldisplay_4w                  -0.0002    3.9e-05     -4.093      0.000      -0.000   -8.32e-05\n",
      "ltf_nbpartnerclick_90d                   0.0290      0.002     18.476      0.000       0.026       0.032\n",
      "ltf_nbpartnerdisplay_90d                 0.0002   5.79e-05      2.869      0.004    5.26e-05       0.000\n",
      "ltf_nbpartnersales_90d                  -0.0079      0.001     -5.851      0.000      -0.011      -0.005\n",
      "nbdisplayglobalapprox_1d_sum_xdevice    -0.0090   8.82e-05   -102.461      0.000      -0.009      -0.009\n",
      "========================================================================================================\n"
     ]
    }
   ],
   "source": [
    "from statsmodels.discrete.discrete_model import Logit\n",
    "from statsmodels.tools import add_constant\n",
    "\n",
    "print(Logit(y, X).fit().summary())"
   ]
  },
  {
   "cell_type": "code",
   "execution_count": 9,
   "metadata": {},
   "outputs": [
    {
     "name": "stdout",
     "output_type": "stream",
     "text": [
      "Optimization terminated successfully.\n",
      "         Current function value: 0.204464\n",
      "         Iterations 8\n",
      "                           Logit Regression Results                           \n",
      "==============================================================================\n",
      "Dep. Variable:     is_display_clicked   No. Observations:              1610494\n",
      "Model:                          Logit   Df Residuals:                  1610481\n",
      "Method:                           MLE   Df Model:                           12\n",
      "Date:                Thu, 17 Dec 2020   Pseudo R-squ.:                 0.06446\n",
      "Time:                        13:35:51   Log-Likelihood:            -3.2929e+05\n",
      "converged:                       True   LL-Null:                   -3.5198e+05\n",
      "Covariance Type:            nonrobust   LLR p-value:                     0.000\n",
      "========================================================================================================\n",
      "                                           coef    std err          z      P>|z|      [0.025      0.975]\n",
      "--------------------------------------------------------------------------------------------------------\n",
      "const                                   -3.8410      0.012   -331.004      0.000      -3.864      -3.818\n",
      "contextid                                0.0393      0.002     26.136      0.000       0.036       0.042\n",
      "dayssincelastvisitdouble                -0.0018    8.7e-05    -20.178      0.000      -0.002      -0.002\n",
      "campaignctrlast24h                      88.5662      0.748    118.343      0.000      87.099      90.033\n",
      "nbdisplay_1hour                         -0.0298      0.001    -51.494      0.000      -0.031      -0.029\n",
      "nbdayssincelastclick                    -0.0031   9.72e-05    -31.901      0.000      -0.003      -0.003\n",
      "display_size                          3.833e-06   2.35e-08    162.848      0.000    3.79e-06    3.88e-06\n",
      "ltf_nbpartnerdisplayssincelastclick     -0.0010      0.000     -4.397      0.000      -0.001      -0.001\n",
      "ltf_nbglobaldisplay_4w                 5.28e-05   2.96e-05      1.782      0.075   -5.29e-06       0.000\n",
      "ltf_nbpartnerclick_90d                   0.0169      0.001     12.486      0.000       0.014       0.020\n",
      "ltf_nbpartnerdisplay_90d                -0.0002   5.25e-05     -2.948      0.003      -0.000   -5.19e-05\n",
      "ltf_nbpartnersales_90d                  -0.0044      0.001     -3.626      0.000      -0.007      -0.002\n",
      "nbdisplayglobalapprox_1d_sum_xdevice    -0.0019   7.02e-05    -27.197      0.000      -0.002      -0.002\n",
      "========================================================================================================\n"
     ]
    }
   ],
   "source": [
    "X_ = add_constant(X)\n",
    "print(Logit(y, X_).fit().summary())"
   ]
  },
  {
   "cell_type": "code",
   "execution_count": 10,
   "metadata": {},
   "outputs": [
    {
     "name": "stdout",
     "output_type": "stream",
     "text": [
      "Temps d'exécution total : 00:00:43\n"
     ]
    }
   ],
   "source": [
    "print(f\"Temps d'exécution total : {time.strftime('%H:%M:%S', time.gmtime(time.time()-t))}\")"
   ]
  }
 ],
 "metadata": {
  "kernelspec": {
   "display_name": "Python 3",
   "language": "python",
   "name": "python3"
  },
  "language_info": {
   "codemirror_mode": {
    "name": "ipython",
    "version": 3
   },
   "file_extension": ".py",
   "mimetype": "text/x-python",
   "name": "python",
   "nbconvert_exporter": "python",
   "pygments_lexer": "ipython3",
   "version": "3.8.5"
  }
 },
 "nbformat": 4,
 "nbformat_minor": 4
}
