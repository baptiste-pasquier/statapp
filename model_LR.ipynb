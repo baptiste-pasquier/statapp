{
 "cells": [
  {
   "cell_type": "markdown",
   "metadata": {},
   "source": [
    "# Régression logistique"
   ]
  },
  {
   "cell_type": "code",
   "execution_count": null,
   "metadata": {},
   "outputs": [],
   "source": [
    "import json\n",
    "import time\n",
    "\n",
    "import numpy as np\n",
    "import pandas as pd\n",
    "from imblearn.over_sampling import SMOTENC, RandomOverSampler\n",
    "from imblearn.pipeline import Pipeline as Pipeline_imb\n",
    "from sklearn.linear_model import LogisticRegression\n",
    "from sklearn.model_selection import ParameterGrid\n",
    "from statsmodels.discrete.discrete_model import Logit\n",
    "from statsmodels.tools import add_constant\n",
    "\n",
    "from tools import (COLUMNS_CAT, COLUMNS_QUANT, Modelisation, SearchCV,\n",
    "                   best_score_CV, datasets, graph_2scores_CV,\n",
    "                   graph_2scores_CV_comp, graph_3scores_CV, graph_param_CV,\n",
    "                   restauration_CV)\n",
    "\n",
    "## Matplotlib : \n",
    "# Pour affichage interactif (notamment 3D) dans notebook\n",
    "# %matplotlib widget\n",
    "\n",
    "# Pour affichage interactif (notamment 3D) dans une fenêtre qt externe au notebook\n",
    "# %matplotlib qt\n",
    "\n",
    "# Pour affichage simple dans notebook\n",
    "# %config InlineBackend.figure_format = 'png'\n",
    "\n",
    "t = time.time()"
   ]
  },
  {
   "cell_type": "code",
   "execution_count": null,
   "metadata": {},
   "outputs": [],
   "source": [
    "df = pd.read_csv('data/df_train_prepro.csv').sample(frac=1)\n",
    "df.shape"
   ]
  },
  {
   "cell_type": "markdown",
   "metadata": {},
   "source": [
    "**Définition des variables quantitatives, des variables catégorielles et des datasets :**"
   ]
  },
  {
   "cell_type": "code",
   "execution_count": null,
   "metadata": {},
   "outputs": [],
   "source": [
    "datasets_df = datasets(df, drop='first')\n",
    "X_quant = datasets_df['X_quant_scaled']\n",
    "X_cat = datasets_df['X_cat']\n",
    "X = datasets_df['X_only_quant_scaled']\n",
    "y = datasets_df['y']"
   ]
  },
  {
   "cell_type": "markdown",
   "metadata": {},
   "source": [
    "Afin de comparer nos modèles en termes de performances brutes et de temps d'exécution, il est fondamental de déterminer quelques métriques de référence. Ici, il faut surtout faire en sorte d'éviter de prédire des non-clics qui seraient en réalité des clics (ie prédire trop de 0), quitte à prédire trop de 1. Autrement dit, il faut maximiser le recall et le NPV (Negative predictive value) afin de limiter les erreurs de type II. Le F1 Score, combinaison du recall et de la précision, est également pertinent. "
   ]
  },
  {
   "cell_type": "markdown",
   "metadata": {},
   "source": [
    "## 1. Modèle brut\n",
    "### 1.1. Variables quantitatives"
   ]
  },
  {
   "cell_type": "code",
   "execution_count": null,
   "metadata": {},
   "outputs": [],
   "source": [
    "m = Modelisation(X_quant, y, LogisticRegression())\n",
    "m.show_conf_matrix()\n",
    "m.show_metrics_score()"
   ]
  },
  {
   "cell_type": "code",
   "execution_count": null,
   "metadata": {},
   "outputs": [],
   "source": [
    "m.show_ROC()"
   ]
  },
  {
   "cell_type": "code",
   "execution_count": null,
   "metadata": {},
   "outputs": [],
   "source": [
    "coeff_df = pd.DataFrame(np.transpose(m.model.coef_), X_quant.columns, columns=['Coefficient'])\n",
    "coeff_df"
   ]
  },
  {
   "cell_type": "code",
   "execution_count": null,
   "metadata": {},
   "outputs": [],
   "source": [
    "X_ = add_constant(X_quant)\n",
    "print(Logit(y, X_).fit().summary())"
   ]
  },
  {
   "cell_type": "markdown",
   "metadata": {},
   "source": [
    "### 1.2. Variables catégorielles"
   ]
  },
  {
   "cell_type": "code",
   "execution_count": null,
   "metadata": {},
   "outputs": [],
   "source": [
    "# Nombre de valeurs distinctes\n",
    "for column in COLUMNS_CAT:\n",
    "    print(f\"{column} : {len(set(df[column]))}\")"
   ]
  },
  {
   "cell_type": "code",
   "execution_count": null,
   "metadata": {},
   "outputs": [],
   "source": [
    "m = Modelisation(X_cat, y, LogisticRegression())\n",
    "m.show_conf_matrix()\n",
    "m.show_metrics_score()"
   ]
  },
  {
   "cell_type": "markdown",
   "metadata": {},
   "source": [
    "### 1.3. Variables quantitatives + catégorielles"
   ]
  },
  {
   "cell_type": "code",
   "execution_count": null,
   "metadata": {},
   "outputs": [],
   "source": [
    "m = Modelisation(X, y, LogisticRegression())\n",
    "m.show_conf_matrix()\n",
    "m.show_metrics_score()"
   ]
  },
  {
   "cell_type": "code",
   "execution_count": null,
   "metadata": {},
   "outputs": [],
   "source": [
    "m = Modelisation(X, y, LogisticRegression(class_weight='balanced'))\n",
    "m.show_conf_matrix()\n",
    "m.show_metrics_score()"
   ]
  },
  {
   "cell_type": "markdown",
   "metadata": {},
   "source": [
    "## 2. Tuning des hyperparamètres avec GridSearchCV"
   ]
  },
  {
   "cell_type": "code",
   "execution_count": null,
   "metadata": {},
   "outputs": [],
   "source": [
    "model = LogisticRegression()\n",
    "\n",
    "cv_params = {\n",
    "    \"C\": np.logspace(-6, 2, 30),\n",
    "    \"class_weight\": [None, 'balanced', {0:1, 1:2}, {0:1, 1:4}, {0:1, 1:6}, {0:1, 1:8},\n",
    "                     {0:1, 1:10}, {0:1, 1:12}, {0:1, 1:14}, {0:1, 1:16}, {0:1, 1:18},\n",
    "                     {0:1, 1:20}, {0:1, 1:22}, {0:1, 1:24}, {0:1, 1:26}, {0:1, 1:28},\n",
    "                     {0:1, 1:30}, {0:1, 1:32}]\n",
    "}\n",
    "\n",
    "print(len(ParameterGrid(cv_params)))"
   ]
  },
  {
   "cell_type": "code",
   "execution_count": null,
   "metadata": {},
   "outputs": [],
   "source": [
    "SearchCV(model, cv_params, data_frac=1, drop='first', scaling=True, n_jobs=28)"
   ]
  },
  {
   "cell_type": "code",
   "execution_count": null,
   "metadata": {},
   "outputs": [],
   "source": [
    "dico, results = restauration_CV('LR_CV_Grid_540_1')"
   ]
  },
  {
   "cell_type": "code",
   "execution_count": null,
   "metadata": {},
   "outputs": [],
   "source": [
    "graph_2scores_CV(dico, results, 'recall', 'f1', s=20)"
   ]
  },
  {
   "cell_type": "code",
   "execution_count": null,
   "metadata": {},
   "outputs": [],
   "source": [
    "graph_2scores_CV(dico, results, 'recall', 'f3', s=20)"
   ]
  },
  {
   "cell_type": "code",
   "execution_count": null,
   "metadata": {},
   "outputs": [],
   "source": [
    "graph_2scores_CV(dico, results, 'recall', 'f5', s=20)"
   ]
  },
  {
   "cell_type": "code",
   "execution_count": null,
   "metadata": {},
   "outputs": [],
   "source": [
    "graph_2scores_CV(dico, results, 'recall', 'precision', s=20)"
   ]
  },
  {
   "cell_type": "code",
   "execution_count": null,
   "metadata": {},
   "outputs": [],
   "source": [
    "graph_3scores_CV(dico, results, 'recall', 'precision', 'f1', s=15)"
   ]
  },
  {
   "cell_type": "code",
   "execution_count": null,
   "metadata": {},
   "outputs": [],
   "source": [
    "graph_3scores_CV(dico, results, 'f1', 'f3', 'f5', s=15)"
   ]
  },
  {
   "cell_type": "code",
   "execution_count": null,
   "metadata": {},
   "outputs": [],
   "source": [
    "graph_param_CV(dico, results, xscale={'C': 'log'}, ncols=2, height=5, width=6)"
   ]
  },
  {
   "cell_type": "code",
   "execution_count": null,
   "metadata": {},
   "outputs": [],
   "source": [
    "best_params = best_score_CV(dico, results, 'f3')"
   ]
  },
  {
   "cell_type": "code",
   "execution_count": null,
   "metadata": {},
   "outputs": [],
   "source": [
    "PARAMS = {}\n",
    "PARAMS[dico['model_name']] = best_params"
   ]
  },
  {
   "cell_type": "code",
   "execution_count": null,
   "metadata": {},
   "outputs": [],
   "source": [
    "m = Modelisation(X, y, LogisticRegression(**best_params))\n",
    "m.show_conf_matrix()\n",
    "m.show_metrics_score()"
   ]
  },
  {
   "cell_type": "markdown",
   "metadata": {},
   "source": [
    "## 3. Régression logistique avec oversampling"
   ]
  },
  {
   "cell_type": "code",
   "execution_count": null,
   "metadata": {},
   "outputs": [],
   "source": [
    "len(y[y == 1]) / (len(y[y == 0]))"
   ]
  },
  {
   "cell_type": "code",
   "execution_count": null,
   "metadata": {},
   "outputs": [],
   "source": [
    "df_small = pd.read_csv('data/df_train_prepro.csv').sample(frac=0.05)\n",
    "df_small.shape"
   ]
  },
  {
   "cell_type": "code",
   "execution_count": null,
   "metadata": {},
   "outputs": [],
   "source": [
    "datasets_df_small = datasets(df_small, verbose=False, drop='first')\n",
    "X_small = datasets_df_small['X']\n",
    "y_small = datasets_df_small['y']"
   ]
  },
  {
   "cell_type": "code",
   "execution_count": null,
   "metadata": {},
   "outputs": [],
   "source": [
    "categorical_features = list(range(len(COLUMNS_QUANT), len(X.columns)))\n",
    "print(categorical_features)\n",
    "\n",
    "over = SMOTENC(categorical_features=categorical_features,\n",
    "               sampling_strategy=1,\n",
    "               k_neighbors=5,\n",
    "               random_state=1234,\n",
    "               n_jobs=-1)\n",
    "\n",
    "pipeline = Pipeline_imb([('over', over),\n",
    "                         ('model', LogisticRegression())\n",
    "                         ])"
   ]
  },
  {
   "cell_type": "code",
   "execution_count": null,
   "metadata": {},
   "outputs": [],
   "source": [
    "m = Modelisation(X_small, y_small, pipeline)\n",
    "m.show_conf_matrix()\n",
    "m.show_metrics_score()"
   ]
  },
  {
   "cell_type": "code",
   "execution_count": null,
   "metadata": {},
   "outputs": [],
   "source": [
    "over = RandomOverSampler(sampling_strategy=1, random_state=1234)\n",
    "\n",
    "pipeline = Pipeline_imb([('over', over),\n",
    "                         ('model', LogisticRegression())\n",
    "                         ])"
   ]
  },
  {
   "cell_type": "code",
   "execution_count": null,
   "metadata": {},
   "outputs": [],
   "source": [
    "m = Modelisation(X_small, y_small, pipeline)\n",
    "m.show_conf_matrix()\n",
    "m.show_metrics_score()"
   ]
  },
  {
   "cell_type": "markdown",
   "metadata": {},
   "source": [
    "### 3.1. GridSearchCV avec RandomOverSampler"
   ]
  },
  {
   "cell_type": "code",
   "execution_count": null,
   "metadata": {},
   "outputs": [],
   "source": [
    "over = RandomOverSampler(random_state=1234)\n",
    "\n",
    "pipeline = Pipeline_imb([('over', over),\n",
    "                         ('model', LogisticRegression())\n",
    "                         ])\n",
    "\n",
    "cv_params = {\n",
    "    \"over__sampling_strategy\": [0.1, 0.2, 0.4, 0.6, 0.8, 1],\n",
    "    \"model__C\": np.logspace(-6, 2, 30),\n",
    "    \"model__class_weight\": [None, 'balanced', {0:1, 1:2}, {0:1, 1:4}, {0:1, 1:6}, {0:1, 1:8}, \n",
    "                            {0:1, 1:10}, {0:1, 1:12}, {0:1, 1:14}, {0:1, 1:16}, {0:1, 1:18}, \n",
    "                            {0:1, 1:20}, {0:1, 1:22}, {0:1, 1:24}, {0:1, 1:26}, {0:1, 1:28}, \n",
    "                            {0:1, 1:30}, {0:1, 1:32}]\n",
    "}\n",
    "\n",
    "print(len(ParameterGrid(cv_params)))"
   ]
  },
  {
   "cell_type": "code",
   "execution_count": null,
   "metadata": {},
   "outputs": [],
   "source": [
    "SearchCV(pipeline, cv_params, data_frac=1, drop='first', scaling=True, n_jobs=28)"
   ]
  },
  {
   "cell_type": "code",
   "execution_count": null,
   "metadata": {},
   "outputs": [],
   "source": [
    "dico, results = restauration_CV('RandomOver_LR_CV_Grid_3240_1')"
   ]
  },
  {
   "cell_type": "code",
   "execution_count": null,
   "metadata": {},
   "outputs": [],
   "source": [
    "graph_2scores_CV(dico, results, 'recall', 'f1', s=10)"
   ]
  },
  {
   "cell_type": "code",
   "execution_count": null,
   "metadata": {},
   "outputs": [],
   "source": [
    "graph_2scores_CV(dico, results, 'recall', 'f3', s=10)"
   ]
  },
  {
   "cell_type": "code",
   "execution_count": null,
   "metadata": {},
   "outputs": [],
   "source": [
    "graph_2scores_CV(dico, results, 'recall', 'f5', s=10)"
   ]
  },
  {
   "cell_type": "code",
   "execution_count": null,
   "metadata": {},
   "outputs": [],
   "source": [
    "graph_2scores_CV(dico, results, 'recall', 'precision', s=10)"
   ]
  },
  {
   "cell_type": "code",
   "execution_count": null,
   "metadata": {},
   "outputs": [],
   "source": [
    "graph_3scores_CV(dico, results, 'recall', 'precision', 'f1', s=10)"
   ]
  },
  {
   "cell_type": "code",
   "execution_count": null,
   "metadata": {},
   "outputs": [],
   "source": [
    "graph_3scores_CV(dico, results, 'f1', 'f3', 'f5', s=10)"
   ]
  },
  {
   "cell_type": "code",
   "execution_count": null,
   "metadata": {},
   "outputs": [],
   "source": [
    "graph_param_CV(dico, results, xscale={'model__C': 'log'}, ncols=2, height=5, width=6)"
   ]
  },
  {
   "cell_type": "code",
   "execution_count": null,
   "metadata": {},
   "outputs": [],
   "source": [
    "best_params = best_score_CV(dico, results, 'f3')"
   ]
  },
  {
   "cell_type": "code",
   "execution_count": null,
   "metadata": {},
   "outputs": [],
   "source": [
    "PARAMS[dico['model_name']] = best_params"
   ]
  },
  {
   "cell_type": "code",
   "execution_count": null,
   "metadata": {},
   "outputs": [],
   "source": [
    "m = Modelisation(X, y, pipeline.set_params(**best_params))\n",
    "m.show_conf_matrix()\n",
    "m.show_metrics_score()"
   ]
  },
  {
   "cell_type": "markdown",
   "metadata": {},
   "source": [
    "### 3.2. GridSearchCV avec SMOTE"
   ]
  },
  {
   "cell_type": "code",
   "execution_count": null,
   "metadata": {},
   "outputs": [],
   "source": [
    "categorical_features = list(range(len(COLUMNS_QUANT), len(X.columns)))\n",
    "print(categorical_features)\n",
    "\n",
    "over = SMOTENC(categorical_features=categorical_features,\n",
    "               random_state=1234)\n",
    "\n",
    "pipeline = Pipeline_imb([('over', over),\n",
    "                         ('model', LogisticRegression())\n",
    "                         ])\n",
    "\n",
    "cv_params = {\n",
    "    \"over__sampling_strategy\": [0.1, 0.2, 0.4, 0.6, 0.8, 1],\n",
    "    \"over__k_neighbors\": [3, 4, 5],\n",
    "    \"model__C\": np.logspace(-6, 2, 30),\n",
    "    \"model__class_weight\": [None, 'balanced', {0:1, 1:2}, {0:1, 1:4}, {0:1, 1:6}, {0:1, 1:8}, \n",
    "                            {0:1, 1:10}, {0:1, 1:12}, {0:1, 1:14}, {0:1, 1:16}, {0:1, 1:18}, \n",
    "                            {0:1, 1:20}, {0:1, 1:22}, {0:1, 1:24}, {0:1, 1:26}, {0:1, 1:28}, \n",
    "                            {0:1, 1:30}, {0:1, 1:32}] \n",
    "}\n",
    "\n",
    "print(len(ParameterGrid(cv_params)))"
   ]
  },
  {
   "cell_type": "code",
   "execution_count": null,
   "metadata": {},
   "outputs": [],
   "source": [
    "SearchCV(pipeline, cv_params, data_frac=0.1, drop='first', scaling=True, random=True, n_iter=2500, random_state=1234, n_jobs=28)"
   ]
  },
  {
   "cell_type": "code",
   "execution_count": null,
   "metadata": {},
   "outputs": [],
   "source": [
    "dico, results = restauration_CV('SMOTENC_LR_CV_Randomized2500_9720_0.1')"
   ]
  },
  {
   "cell_type": "code",
   "execution_count": null,
   "metadata": {},
   "outputs": [],
   "source": [
    "graph_2scores_CV(dico, results, 'recall', 'f1', s=5)"
   ]
  },
  {
   "cell_type": "code",
   "execution_count": null,
   "metadata": {},
   "outputs": [],
   "source": [
    "graph_2scores_CV(dico, results, 'recall', 'f3', s=5)"
   ]
  },
  {
   "cell_type": "code",
   "execution_count": null,
   "metadata": {},
   "outputs": [],
   "source": [
    "graph_2scores_CV(dico, results, 'recall', 'f5', s=5)"
   ]
  },
  {
   "cell_type": "code",
   "execution_count": null,
   "metadata": {},
   "outputs": [],
   "source": [
    "graph_2scores_CV(dico, results, 'recall', 'precision', s=5)"
   ]
  },
  {
   "cell_type": "code",
   "execution_count": null,
   "metadata": {},
   "outputs": [],
   "source": [
    "graph_3scores_CV(dico, results, 'recall', 'precision', 'f1', s=2)"
   ]
  },
  {
   "cell_type": "code",
   "execution_count": null,
   "metadata": {},
   "outputs": [],
   "source": [
    "graph_3scores_CV(dico, results, 'f1', 'f3', 'f5', s=2)"
   ]
  },
  {
   "cell_type": "code",
   "execution_count": null,
   "metadata": {},
   "outputs": [],
   "source": [
    "graph_param_CV(dico, results, xscale={'model__C': 'log'}, ncols=2, height=5, width=6)"
   ]
  },
  {
   "cell_type": "code",
   "execution_count": null,
   "metadata": {},
   "outputs": [],
   "source": [
    "best_params = best_score_CV(dico, results, 'f3')"
   ]
  },
  {
   "cell_type": "code",
   "execution_count": null,
   "metadata": {},
   "outputs": [],
   "source": [
    "best_params['over__n_jobs'] = -1\n",
    "PARAMS[dico['model_name']] = best_params"
   ]
  },
  {
   "cell_type": "code",
   "execution_count": null,
   "metadata": {},
   "outputs": [],
   "source": [
    "m = Modelisation(X, y, pipeline.set_params(**best_params))\n",
    "m.show_conf_matrix()\n",
    "m.show_metrics_score()"
   ]
  },
  {
   "cell_type": "markdown",
   "metadata": {},
   "source": [
    "### 3.3. Comparaison"
   ]
  },
  {
   "cell_type": "code",
   "execution_count": null,
   "metadata": {},
   "outputs": [],
   "source": [
    "dr1 = restauration_CV('LR_CV_Grid_540_1', verbose=False)\n",
    "dr2 = restauration_CV('RandomOver_LR_CV_Grid_3240_1', verbose=False)\n",
    "dr3 = restauration_CV('SMOTENC_LR_CV_Randomized2500_9720_0.1', verbose=False)"
   ]
  },
  {
   "cell_type": "code",
   "execution_count": null,
   "metadata": {},
   "outputs": [],
   "source": [
    "graph_2scores_CV_comp([dr3, dr2, dr1], 'recall', 'f3', s=[1, 5, 15], alpha=0.3)"
   ]
  },
  {
   "cell_type": "code",
   "execution_count": null,
   "metadata": {},
   "outputs": [],
   "source": [
    "graph_2scores_CV_comp([dr3, dr2, dr1], 'recall', 'precision', s=[1, 5, 15], alpha=0.3)"
   ]
  },
  {
   "cell_type": "markdown",
   "metadata": {},
   "source": [
    "## 4. Régression logistique avec RFECV\n",
    "\n",
    "### 4.1. Sans oversampling"
   ]
  },
  {
   "cell_type": "code",
   "execution_count": null,
   "metadata": {},
   "outputs": [],
   "source": [
    "with open(\"backups/RFECV_LR.json\", 'r') as f:\n",
    "    export = json.load(f)\n",
    "    columns_quant_RFECV = export['columns_quant']\n",
    "    columns_cat_RFECV = export['columns_cat']"
   ]
  },
  {
   "cell_type": "code",
   "execution_count": null,
   "metadata": {},
   "outputs": [],
   "source": [
    "model = LogisticRegression()\n",
    "\n",
    "cv_params = {\n",
    "    \"C\": np.logspace(-6, 2, 30),\n",
    "    \"class_weight\": [None, 'balanced', {0:1, 1:2}, {0:1, 1:4}, {0:1, 1:6}, {0:1, 1:8}, \n",
    "                     {0:1, 1:10}, {0:1, 1:12}, {0:1, 1:14}, {0:1, 1:16}, {0:1, 1:18}, \n",
    "                     {0:1, 1:20}, {0:1, 1:22}, {0:1, 1:24}, {0:1, 1:26}, {0:1, 1:28}, \n",
    "                     {0:1, 1:30}, {0:1, 1:32}] \n",
    "}\n",
    "\n",
    "print(len(ParameterGrid(cv_params)))"
   ]
  },
  {
   "cell_type": "code",
   "execution_count": null,
   "metadata": {},
   "outputs": [],
   "source": [
    "SearchCV(model, cv_params, columns_quant=columns_quant_RFECV, columns_cat=columns_cat_RFECV, data_frac=1, drop='first', scaling=False, n_jobs=28, name='RFECV')"
   ]
  },
  {
   "cell_type": "code",
   "execution_count": null,
   "metadata": {},
   "outputs": [],
   "source": [
    "dico, results = restauration_CV('LR_RFECV_CV_Grid_540_1')"
   ]
  },
  {
   "cell_type": "code",
   "execution_count": null,
   "metadata": {},
   "outputs": [],
   "source": [
    "best_params = best_score_CV(dico, results, 'f3', display_table=False)"
   ]
  },
  {
   "cell_type": "code",
   "execution_count": null,
   "metadata": {},
   "outputs": [],
   "source": [
    "PARAMS[dico['model_name']] = best_params"
   ]
  },
  {
   "cell_type": "code",
   "execution_count": null,
   "metadata": {},
   "outputs": [],
   "source": [
    "datasets_df_RFECV = datasets(df, columns_quant=columns_quant_RFECV, columns_cat=columns_cat_RFECV, drop='first')\n",
    "X_RFECV = datasets_df_RFECV['X_only_quant_scaled']"
   ]
  },
  {
   "cell_type": "code",
   "execution_count": null,
   "metadata": {},
   "outputs": [],
   "source": [
    "m = Modelisation(X_RFECV, y, LogisticRegression(**best_params))\n",
    "m.show_conf_matrix()\n",
    "m.show_metrics_score()"
   ]
  },
  {
   "cell_type": "markdown",
   "metadata": {},
   "source": [
    "### 4.2. Avec oversampling"
   ]
  },
  {
   "cell_type": "code",
   "execution_count": null,
   "metadata": {},
   "outputs": [],
   "source": [
    "over = RandomOverSampler(random_state=1234)\n",
    "\n",
    "pipeline = Pipeline_imb([('over', over),\n",
    "                         ('model', LogisticRegression())\n",
    "                         ])\n",
    "\n",
    "cv_params = {\n",
    "        \"over__sampling_strategy\": [0.1, 0.2, 0.4, 0.6, 0.8, 1],\n",
    "        \"model__C\": np.logspace(-6, 2, 30),\n",
    "        \"model__class_weight\": [None, 'balanced', {0:1, 1:2}, {0:1, 1:4}, {0:1, 1:6}, {0:1, 1:8}, \n",
    "                                 {0:1, 1:10}, {0:1, 1:12}, {0:1, 1:14}, {0:1, 1:16}, {0:1, 1:18}, \n",
    "                                 {0:1, 1:20}, {0:1, 1:22}, {0:1, 1:24}, {0:1, 1:26}, {0:1, 1:28}, \n",
    "                                 {0:1, 1:30}, {0:1, 1:32}]\n",
    "        }\n",
    "\n",
    "print(len(ParameterGrid(cv_params)))"
   ]
  },
  {
   "cell_type": "code",
   "execution_count": null,
   "metadata": {},
   "outputs": [],
   "source": [
    "SearchCV(pipeline, cv_params, columns_quant=columns_quant_RFECV, columns_cat=columns_cat_RFECV, data_frac=1, drop='first', scaling=False, n_jobs=28, name='RFECV')"
   ]
  },
  {
   "cell_type": "code",
   "execution_count": null,
   "metadata": {},
   "outputs": [],
   "source": [
    "dico, results = restauration_CV('RandomOver_LR_RFECV_CV_Grid_3240_1')"
   ]
  },
  {
   "cell_type": "code",
   "execution_count": null,
   "metadata": {},
   "outputs": [],
   "source": [
    "best_params = best_score_CV(dico, results, 'f3', display_table=False)"
   ]
  },
  {
   "cell_type": "code",
   "execution_count": null,
   "metadata": {},
   "outputs": [],
   "source": [
    "PARAMS[dico['model_name']] = best_params\n",
    "with open(\"backups/PARAMS_LR.json\", 'w') as f:\n",
    "    json.dump(PARAMS, f, indent=2)"
   ]
  },
  {
   "cell_type": "code",
   "execution_count": null,
   "metadata": {},
   "outputs": [],
   "source": [
    "m = Modelisation(X_RFECV, y, pipeline.set_params(**best_params))\n",
    "m.show_conf_matrix()\n",
    "m.show_metrics_score()"
   ]
  },
  {
   "cell_type": "markdown",
   "metadata": {},
   "source": [
    "### 4.3. Comparaison"
   ]
  },
  {
   "cell_type": "code",
   "execution_count": null,
   "metadata": {},
   "outputs": [],
   "source": [
    "dr1 = restauration_CV('LR_CV_Grid_540_1', verbose=False)\n",
    "dr2 = restauration_CV('LR_RFECV_CV_Grid_540_1', verbose=False)\n",
    "dr3 = restauration_CV('RandomOver_LR_CV_Grid_3240_1', verbose=False)\n",
    "dr4 = restauration_CV('RandomOver_LR_RFECV_CV_Grid_3240_1', verbose=False)"
   ]
  },
  {
   "cell_type": "code",
   "execution_count": null,
   "metadata": {},
   "outputs": [],
   "source": [
    "graph_2scores_CV_comp([dr1, dr2], 'recall', 'f3', alpha=0.3)"
   ]
  },
  {
   "cell_type": "code",
   "execution_count": null,
   "metadata": {},
   "outputs": [],
   "source": [
    "graph_2scores_CV_comp([dr1, dr2], 'recall', 'precision', alpha=0.3)"
   ]
  },
  {
   "cell_type": "code",
   "execution_count": null,
   "metadata": {},
   "outputs": [],
   "source": [
    "graph_2scores_CV_comp([dr3, dr4], 'recall', 'f3', s=[5, 5], alpha=0.3)"
   ]
  },
  {
   "cell_type": "code",
   "execution_count": null,
   "metadata": {},
   "outputs": [],
   "source": [
    "graph_2scores_CV_comp([dr3, dr4], 'recall', 'precision', s=[5, 5], alpha=0.3)"
   ]
  },
  {
   "cell_type": "code",
   "execution_count": null,
   "metadata": {},
   "outputs": [],
   "source": [
    "print(f\"Temps d'exécution total : {time.strftime('%H:%M:%S', time.gmtime(time.time()-t))}\")"
   ]
  }
 ],
 "metadata": {
  "kernelspec": {
   "display_name": "Python 3",
   "language": "python",
   "name": "python3"
  },
  "language_info": {
   "codemirror_mode": {
    "name": "ipython",
    "version": 3
   },
   "file_extension": ".py",
   "mimetype": "text/x-python",
   "name": "python",
   "nbconvert_exporter": "python",
   "pygments_lexer": "ipython3",
   "version": "3.7.10"
  }
 },
 "nbformat": 4,
 "nbformat_minor": 4
}
