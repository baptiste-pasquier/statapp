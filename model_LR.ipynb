{
 "cells": [
  {
   "cell_type": "code",
   "execution_count": 1,
   "metadata": {},
   "outputs": [],
   "source": [
    "import time\n",
    "\n",
    "import matplotlib.pyplot as plt\n",
    "import numpy as np\n",
    "import pandas as pd\n",
    "from IPython.display import display\n",
    "from sklearn.linear_model import LogisticRegression\n",
    "\n",
    "from tools import Modelisation, datasets\n",
    "\n",
    "t = time.time()"
   ]
  },
  {
   "cell_type": "code",
   "execution_count": 2,
   "metadata": {},
   "outputs": [
    {
     "data": {
      "text/plain": [
       "(1610494, 48)"
      ]
     },
     "execution_count": 2,
     "metadata": {},
     "output_type": "execute_result"
    }
   ],
   "source": [
    "df = pd.read_csv('data/df_train_prepro.csv').sample(frac=1)\n",
    "df.shape"
   ]
  },
  {
   "cell_type": "markdown",
   "metadata": {},
   "source": [
    "**Définition des variables quantitatives, des variables catégorielles et des datasets :**"
   ]
  },
  {
   "cell_type": "code",
   "execution_count": 3,
   "metadata": {},
   "outputs": [
    {
     "name": "stdout",
     "output_type": "stream",
     "text": [
      "Columns_quant :\n"
     ]
    },
    {
     "data": {
      "text/plain": [
       "['contextid',\n",
       " 'campaignctrlast24h',\n",
       " 'dayssincelastvisitdouble',\n",
       " 'ltf_nbglobaldisplay_4w',\n",
       " 'ltf_nbpartnerdisplayssincelastclick',\n",
       " 'ltf_nbpartnerdisplay_90d',\n",
       " 'ltf_nbpartnerclick_90d',\n",
       " 'ltf_nbpartnersales_90d',\n",
       " 'nbdayssincelastclick',\n",
       " 'nbdisplay_1hour',\n",
       " 'nbdisplayglobalapprox_1d_sum_xdevice',\n",
       " 'display_size',\n",
       " 'zonecostineuro']"
      ]
     },
     "metadata": {},
     "output_type": "display_data"
    },
    {
     "name": "stdout",
     "output_type": "stream",
     "text": [
      "\n",
      "Columns_cat :\n"
     ]
    },
    {
     "data": {
      "text/plain": [
       "['display_env',\n",
       " 'target_env',\n",
       " 'campaignscenario',\n",
       " 'campaignvertical',\n",
       " 'is_interstitial',\n",
       " 'device_type',\n",
       " 'hour',\n",
       " 'weekday']"
      ]
     },
     "metadata": {},
     "output_type": "display_data"
    },
    {
     "name": "stdout",
     "output_type": "stream",
     "text": [
      "\n",
      "Nombre de variables pour X_quant : 13\n",
      "\n"
     ]
    },
    {
     "data": {
      "text/plain": [
       "Index(['contextid', 'campaignctrlast24h', 'dayssincelastvisitdouble',\n",
       "       'ltf_nbglobaldisplay_4w', 'ltf_nbpartnerdisplayssincelastclick',\n",
       "       'ltf_nbpartnerdisplay_90d', 'ltf_nbpartnerclick_90d',\n",
       "       'ltf_nbpartnersales_90d', 'nbdayssincelastclick', 'nbdisplay_1hour',\n",
       "       'nbdisplayglobalapprox_1d_sum_xdevice', 'display_size',\n",
       "       'zonecostineuro'],\n",
       "      dtype='object')"
      ]
     },
     "metadata": {},
     "output_type": "display_data"
    },
    {
     "name": "stdout",
     "output_type": "stream",
     "text": [
      "\n",
      "Nombre de variables pour X_cat : 50\n",
      "\n"
     ]
    },
    {
     "data": {
      "text/plain": [
       "Index(['display_env_app_ios', 'display_env_other', 'display_env_web',\n",
       "       'target_env_2', 'campaignscenario_5', 'campaignscenario_6',\n",
       "       'campaignscenario_11', 'campaignscenario_12', 'campaignscenario_13',\n",
       "       'campaignscenario_17', 'campaignvertical_20.0', 'campaignvertical_23.0',\n",
       "       'campaignvertical_129.0', 'campaignvertical_200002.0',\n",
       "       'is_interstitial_True', 'device_type_Desktop',\n",
       "       'device_type_Desktop - Safari', 'device_type_Mobile - Other',\n",
       "       'device_type_Unknown', 'device_type_iPad', 'device_type_iPhone',\n",
       "       'hour_1', 'hour_2', 'hour_3', 'hour_4', 'hour_5', 'hour_6', 'hour_7',\n",
       "       'hour_8', 'hour_9', 'hour_10', 'hour_11', 'hour_12', 'hour_13',\n",
       "       'hour_14', 'hour_15', 'hour_16', 'hour_17', 'hour_18', 'hour_19',\n",
       "       'hour_20', 'hour_21', 'hour_22', 'hour_23', 'weekday_Monday',\n",
       "       'weekday_Saturday', 'weekday_Sunday', 'weekday_Thursday',\n",
       "       'weekday_Tuesday', 'weekday_Wednesday'],\n",
       "      dtype='object')"
      ]
     },
     "metadata": {},
     "output_type": "display_data"
    },
    {
     "name": "stdout",
     "output_type": "stream",
     "text": [
      "\n",
      "Nombre de variables pour X : 63\n"
     ]
    }
   ],
   "source": [
    "datasets_df = datasets(df)\n",
    "X_quant = datasets_df['X_quant']\n",
    "X_cat = datasets_df['X_cat']\n",
    "X = datasets_df['X']\n",
    "y = datasets_df['y']"
   ]
  },
  {
   "cell_type": "markdown",
   "metadata": {},
   "source": [
    "Afin de comparer nos modèles en termes de performances brutes et de temps d'exécution, il est fondamental de déterminer quelques métriques de référence. Ici, il faut surtout faire en sorte d'éviter de prédire des non-clics qui seraient en réalité des clics (ie prédire trop de 0), quitte à prédire trop de 1. Autrement dit, il faut maximiser le recall et le NPV (Negative predictive value) afin de limiter les erreurs de type II. Le F1 Score, combinaison du recall et de la précision, est également pertinent. "
   ]
  },
  {
   "cell_type": "markdown",
   "metadata": {},
   "source": [
    "# Régression logistique\n",
    "## Variables quantitatives"
   ]
  },
  {
   "cell_type": "code",
   "execution_count": 4,
   "metadata": {},
   "outputs": [
    {
     "data": {
      "image/png": "[encoded data removed]",
      "text/plain": [
       "<Figure size 432x288 with 2 Axes>"
      ]
     },
     "metadata": {
      "needs_background": "light"
     },
     "output_type": "display_data"
    },
    {
     "name": "stdout",
     "output_type": "stream",
     "text": [
      "f1 : 0.0804\n",
      "recall : 0.0442\n",
      "negative predictive value : 0.9450\n",
      "precision : 0.4480\n",
      "roc_auc : 0.7402\n"
     ]
    }
   ],
   "source": [
    "m = Modelisation(X_quant, y, LogisticRegression(), scaling=True)\n",
    "m.show_conf_matrix()\n",
    "m.show_metrics_score()"
   ]
  },
  {
   "cell_type": "code",
   "execution_count": 5,
   "metadata": {},
   "outputs": [
    {
     "data": {
      "image/png": "[encoded data removed]",
      "text/plain": [
       "<Figure size 432x288 with 1 Axes>"
      ]
     },
     "metadata": {
      "needs_background": "light"
     },
     "output_type": "display_data"
    }
   ],
   "source": [
    "m.show_ROC()"
   ]
  },
  {
   "cell_type": "code",
   "execution_count": 6,
   "metadata": {},
   "outputs": [
    {
     "data": {
      "text/html": [
       "<div>\n",
       "<style scoped>\n",
       "    .dataframe tbody tr th:only-of-type {\n",
       "        vertical-align: middle;\n",
       "    }\n",
       "\n",
       "    .dataframe tbody tr th {\n",
       "        vertical-align: top;\n",
       "    }\n",
       "\n",
       "    .dataframe thead th {\n",
       "        text-align: right;\n",
       "    }\n",
       "</style>\n",
       "<table border=\"1\" class=\"dataframe\">\n",
       "  <thead>\n",
       "    <tr style=\"text-align: right;\">\n",
       "      <th></th>\n",
       "      <th>Coefficient</th>\n",
       "    </tr>\n",
       "  </thead>\n",
       "  <tbody>\n",
       "    <tr>\n",
       "      <th>contextid</th>\n",
       "      <td>-0.022778</td>\n",
       "    </tr>\n",
       "    <tr>\n",
       "      <th>campaignctrlast24h</th>\n",
       "      <td>0.359393</td>\n",
       "    </tr>\n",
       "    <tr>\n",
       "      <th>dayssincelastvisitdouble</th>\n",
       "      <td>-0.027930</td>\n",
       "    </tr>\n",
       "    <tr>\n",
       "      <th>ltf_nbglobaldisplay_4w</th>\n",
       "      <td>0.007898</td>\n",
       "    </tr>\n",
       "    <tr>\n",
       "      <th>ltf_nbpartnerdisplayssincelastclick</th>\n",
       "      <td>-0.020552</td>\n",
       "    </tr>\n",
       "    <tr>\n",
       "      <th>ltf_nbpartnerdisplay_90d</th>\n",
       "      <td>-0.013512</td>\n",
       "    </tr>\n",
       "    <tr>\n",
       "      <th>ltf_nbpartnerclick_90d</th>\n",
       "      <td>0.037300</td>\n",
       "    </tr>\n",
       "    <tr>\n",
       "      <th>ltf_nbpartnersales_90d</th>\n",
       "      <td>-0.008930</td>\n",
       "    </tr>\n",
       "    <tr>\n",
       "      <th>nbdayssincelastclick</th>\n",
       "      <td>-0.110443</td>\n",
       "    </tr>\n",
       "    <tr>\n",
       "      <th>nbdisplay_1hour</th>\n",
       "      <td>-0.222024</td>\n",
       "    </tr>\n",
       "    <tr>\n",
       "      <th>nbdisplayglobalapprox_1d_sum_xdevice</th>\n",
       "      <td>-0.097498</td>\n",
       "    </tr>\n",
       "    <tr>\n",
       "      <th>display_size</th>\n",
       "      <td>0.300842</td>\n",
       "    </tr>\n",
       "    <tr>\n",
       "      <th>zonecostineuro</th>\n",
       "      <td>0.360105</td>\n",
       "    </tr>\n",
       "  </tbody>\n",
       "</table>\n",
       "</div>"
      ],
      "text/plain": [
       "                                      Coefficient\n",
       "contextid                               -0.022778\n",
       "campaignctrlast24h                       0.359393\n",
       "dayssincelastvisitdouble                -0.027930\n",
       "ltf_nbglobaldisplay_4w                   0.007898\n",
       "ltf_nbpartnerdisplayssincelastclick     -0.020552\n",
       "ltf_nbpartnerdisplay_90d                -0.013512\n",
       "ltf_nbpartnerclick_90d                   0.037300\n",
       "ltf_nbpartnersales_90d                  -0.008930\n",
       "nbdayssincelastclick                    -0.110443\n",
       "nbdisplay_1hour                         -0.222024\n",
       "nbdisplayglobalapprox_1d_sum_xdevice    -0.097498\n",
       "display_size                             0.300842\n",
       "zonecostineuro                           0.360105"
      ]
     },
     "execution_count": 6,
     "metadata": {},
     "output_type": "execute_result"
    }
   ],
   "source": [
    "coeff_df = pd.DataFrame(np.transpose(m.model.coef_), X_quant.columns, columns=['Coefficient'])\n",
    "coeff_df"
   ]
  },
  {
   "cell_type": "markdown",
   "metadata": {},
   "source": [
    "**Problème :** pas de scaling dans la cellule suivante"
   ]
  },
  {
   "cell_type": "code",
   "execution_count": 7,
   "metadata": {},
   "outputs": [
    {
     "name": "stdout",
     "output_type": "stream",
     "text": [
      "Optimization terminated successfully.\n",
      "         Current function value: 0.197126\n",
      "         Iterations 8\n",
      "                           Logit Regression Results                           \n",
      "==============================================================================\n",
      "Dep. Variable:     is_display_clicked   No. Observations:              1610494\n",
      "Model:                          Logit   Df Residuals:                  1610480\n",
      "Method:                           MLE   Df Model:                           13\n",
      "Date:                Wed, 17 Feb 2021   Pseudo R-squ.:                 0.09804\n",
      "Time:                        17:09:34   Log-Likelihood:            -3.1747e+05\n",
      "converged:                       True   LL-Null:                   -3.5198e+05\n",
      "Covariance Type:            nonrobust   LLR p-value:                     0.000\n",
      "========================================================================================================\n",
      "                                           coef    std err          z      P>|z|      [0.025      0.975]\n",
      "--------------------------------------------------------------------------------------------------------\n",
      "const                                   -3.7845      0.012   -326.322      0.000      -3.807      -3.762\n",
      "contextid                               -0.0103      0.002     -6.655      0.000      -0.013      -0.007\n",
      "campaignctrlast24h                      91.9514      0.762    120.631      0.000      90.457      93.445\n",
      "dayssincelastvisitdouble                -0.0005   8.04e-05     -6.709      0.000      -0.001      -0.000\n",
      "ltf_nbglobaldisplay_4w                6.498e-05   2.92e-05      2.228      0.026    7.82e-06       0.000\n",
      "ltf_nbpartnerdisplayssincelastclick     -0.0009      0.000     -3.794      0.000      -0.001      -0.000\n",
      "ltf_nbpartnerdisplay_90d                -0.0001   5.37e-05     -2.381      0.017      -0.000   -2.26e-05\n",
      "ltf_nbpartnerclick_90d                   0.0141      0.001     10.405      0.000       0.011       0.017\n",
      "ltf_nbpartnersales_90d                  -0.0047      0.001     -3.512      0.000      -0.007      -0.002\n",
      "nbdayssincelastclick                    -0.0024   9.66e-05    -24.986      0.000      -0.003      -0.002\n",
      "nbdisplay_1hour                         -0.0261      0.001    -44.819      0.000      -0.027      -0.025\n",
      "nbdisplayglobalapprox_1d_sum_xdevice    -0.0015   6.97e-05    -21.054      0.000      -0.002      -0.001\n",
      "display_size                          3.075e-06   2.45e-08    125.546      0.000    3.03e-06    3.12e-06\n",
      "zonecostineuro                           0.1220      0.001    144.280      0.000       0.120       0.124\n",
      "========================================================================================================\n"
     ]
    }
   ],
   "source": [
    "from statsmodels.discrete.discrete_model import Logit\n",
    "from statsmodels.tools import add_constant\n",
    "\n",
    "X_ = add_constant(X_quant)\n",
    "print(Logit(y, X_).fit().summary())"
   ]
  },
  {
   "cell_type": "markdown",
   "metadata": {},
   "source": [
    "Avec LASSO (+ univariate mais variable déjà exclue par Lasso): "
   ]
  },
  {
   "cell_type": "code",
   "execution_count": 8,
   "metadata": {},
   "outputs": [],
   "source": [
    "X1 = df[['contextid',\n",
    "         'zonecostineuro',\n",
    "         'campaignctrlast24h',\n",
    "         'ltf_nbpartnerclick_90d',\n",
    "         'nbdisplay_1hour',\n",
    "         'nbdayssincelastclick',\n",
    "         'display_size',\n",
    "         'nbdisplayglobalapprox_1d_sum_xdevice']]\n",
    "y1 = df['is_display_clicked']"
   ]
  },
  {
   "cell_type": "code",
   "execution_count": 9,
   "metadata": {},
   "outputs": [
    {
     "data": {
      "image/png": "[encoded data removed]",
      "text/plain": [
       "<Figure size 432x288 with 2 Axes>"
      ]
     },
     "metadata": {
      "needs_background": "light"
     },
     "output_type": "display_data"
    },
    {
     "name": "stdout",
     "output_type": "stream",
     "text": [
      "f1 : 0.0807\n",
      "recall : 0.0443\n",
      "negative predictive value : 0.9450\n",
      "precision : 0.4484\n",
      "roc_auc : 0.7401\n"
     ]
    }
   ],
   "source": [
    "m1 = Modelisation(X1, y1, LogisticRegression(), scaling=True)\n",
    "m1.show_conf_matrix()\n",
    "m1.show_metrics_score()"
   ]
  },
  {
   "cell_type": "markdown",
   "metadata": {},
   "source": [
    "## Variables catégorielles"
   ]
  },
  {
   "cell_type": "code",
   "execution_count": 10,
   "metadata": {},
   "outputs": [
    {
     "name": "stdout",
     "output_type": "stream",
     "text": [
      "display_env : 4\n",
      "target_env : 2\n",
      "campaignscenario : 7\n",
      "campaignvertical : 34\n",
      "is_interstitial : 3\n",
      "device_type : 7\n",
      "hour : 24\n",
      "weekday : 7\n"
     ]
    }
   ],
   "source": [
    "# Nombre de valeurs distinctes\n",
    "from tools import COLUMNS_CAT\n",
    "for column in COLUMNS_CAT:\n",
    "    print(f\"{column} : {len(set(df[column]))}\")"
   ]
  },
  {
   "cell_type": "code",
   "execution_count": 11,
   "metadata": {},
   "outputs": [
    {
     "data": {
      "image/png": "[encoded data removed]",
      "text/plain": [
       "<Figure size 432x288 with 2 Axes>"
      ]
     },
     "metadata": {
      "needs_background": "light"
     },
     "output_type": "display_data"
    },
    {
     "name": "stdout",
     "output_type": "stream",
     "text": [
      "f1 : 0.0104\n",
      "recall : 0.0053\n",
      "negative predictive value : 0.9430\n",
      "precision : 0.4076\n",
      "roc_auc : 0.6876\n"
     ]
    }
   ],
   "source": [
    "m = Modelisation(X_cat, y, LogisticRegression(), scaling=True)\n",
    "m.show_conf_matrix()\n",
    "m.show_metrics_score()"
   ]
  },
  {
   "cell_type": "markdown",
   "metadata": {},
   "source": [
    "## Variables quantitatives + catégorielles"
   ]
  },
  {
   "cell_type": "code",
   "execution_count": 12,
   "metadata": {},
   "outputs": [
    {
     "data": {
      "image/png": "[encoded data removed]",
      "text/plain": [
       "<Figure size 432x288 with 2 Axes>"
      ]
     },
     "metadata": {
      "needs_background": "light"
     },
     "output_type": "display_data"
    },
    {
     "name": "stdout",
     "output_type": "stream",
     "text": [
      "f1 : 0.1135\n",
      "recall : 0.0640\n",
      "negative predictive value : 0.9460\n",
      "precision : 0.4983\n",
      "roc_auc : 0.7569\n",
      "Wall time: 10.8 s\n"
     ]
    }
   ],
   "source": [
    "%%time\n",
    "m = Modelisation(X, y, LogisticRegression(), scaling=True)\n",
    "m.show_conf_matrix()\n",
    "m.show_metrics_score()"
   ]
  },
  {
   "cell_type": "markdown",
   "metadata": {},
   "source": [
    "Avec RFECV :"
   ]
  },
  {
   "cell_type": "code",
   "execution_count": 13,
   "metadata": {},
   "outputs": [],
   "source": [
    "X2 = X[['zonecostineuro',\n",
    "         'campaignctrlast24h',\n",
    "         'nbdisplay_1hour',\n",
    "         'nbdayssincelastclick',\n",
    "         'display_size',\n",
    "         'is_interstitial_True',\n",
    "         'device_type_Desktop',\n",
    "         'device_type_iPhone',\n",
    "         'display_env_app_ios',\n",
    "         'target_env_2',\n",
    "         'campaignscenario_13']]\n",
    "y2 = df['is_display_clicked']"
   ]
  },
  {
   "cell_type": "code",
   "execution_count": 14,
   "metadata": {},
   "outputs": [
    {
     "data": {
      "image/png": "[encoded data removed]",
      "text/plain": [
       "<Figure size 432x288 with 2 Axes>"
      ]
     },
     "metadata": {
      "needs_background": "light"
     },
     "output_type": "display_data"
    },
    {
     "name": "stdout",
     "output_type": "stream",
     "text": [
      "f1 : 0.1117\n",
      "recall : 0.0628\n",
      "negative predictive value : 0.9460\n",
      "precision : 0.5046\n",
      "roc_auc : 0.7534\n",
      "Wall time: 3.15 s\n"
     ]
    }
   ],
   "source": [
    "%%time\n",
    "m2 = Modelisation(X2, y2, LogisticRegression(), scaling=True)\n",
    "m2.show_conf_matrix()\n",
    "m2.show_metrics_score()"
   ]
  },
  {
   "cell_type": "markdown",
   "metadata": {},
   "source": [
    "## Comparaison par rapport aux valeurs de C "
   ]
  },
  {
   "cell_type": "code",
   "execution_count": 15,
   "metadata": {},
   "outputs": [
    {
     "data": {
      "image/png": "[encoded data removed]",
      "text/plain": [
       "<Figure size 432x288 with 2 Axes>"
      ]
     },
     "metadata": {
      "needs_background": "light"
     },
     "output_type": "display_data"
    },
    {
     "name": "stdout",
     "output_type": "stream",
     "text": [
      "f1 : 0.1135\n",
      "recall : 0.0640\n",
      "negative predictive value : 0.9460\n",
      "precision : 0.4983\n",
      "roc_auc : 0.7569\n"
     ]
    }
   ],
   "source": [
    "m = Modelisation(X, y, LogisticRegression(C=0.2), scaling=True)\n",
    "m.show_conf_matrix()\n",
    "m.show_metrics_score()"
   ]
  },
  {
   "cell_type": "code",
   "execution_count": 16,
   "metadata": {},
   "outputs": [
    {
     "data": {
      "image/png": "[encoded data removed]",
      "text/plain": [
       "<Figure size 432x288 with 1 Axes>"
      ]
     },
     "metadata": {
      "needs_background": "light"
     },
     "output_type": "display_data"
    },
    {
     "name": "stdout",
     "output_type": "stream",
     "text": [
      "Wall time: 1min 36s\n"
     ]
    }
   ],
   "source": [
    "%%time\n",
    "C, list_recall = [], []\n",
    "for c in np.logspace(-5.5, 5.5, num=11): \n",
    "    m = Modelisation(X, y, LogisticRegression(C=c), scaling=True)\n",
    "    C.append(c)\n",
    "    list_recall.append(m.recall)\n",
    "plt.plot(C, list_recall)\n",
    "plt.xscale('log')\n",
    "plt.title(\"Recall de la régression logistique en fonction des valeurs de C\")\n",
    "plt.show()"
   ]
  },
  {
   "cell_type": "markdown",
   "metadata": {},
   "source": [
    "## Régression logistique sur la base sur-échantillonnée\n",
    "\n",
    "**/!\\ : Seule la base de training est sur-échantillonnée.**"
   ]
  },
  {
   "cell_type": "code",
   "execution_count": 17,
   "metadata": {},
   "outputs": [
    {
     "name": "stdout",
     "output_type": "stream",
     "text": [
      "(2419276, 22)\n"
     ]
    }
   ],
   "source": [
    "df_train_res = pd.read_csv('data/df_train_res.csv').sample(frac=1)\n",
    "print(df_train_res.shape)"
   ]
  },
  {
   "cell_type": "code",
   "execution_count": 23,
   "metadata": {},
   "outputs": [
    {
     "name": "stdout",
     "output_type": "stream",
     "text": [
      "(320711, 22)\n"
     ]
    }
   ],
   "source": [
    "df_test_res = pd.read_csv('data/df_test_res.csv').sample(frac=1)\n",
    "print(df_test_res.shape)"
   ]
  },
  {
   "cell_type": "code",
   "execution_count": 19,
   "metadata": {},
   "outputs": [],
   "source": [
    "datasets_df_train_res = datasets(df_train_res, verbose=False)\n",
    "X_quant_train_res = datasets_df_train_res['X_quant']\n",
    "X_cat_train_res = datasets_df_train_res['X_cat']\n",
    "X_train_res = datasets_df_train_res['X']\n",
    "y_train_res = datasets_df_train_res['y']"
   ]
  },
  {
   "cell_type": "code",
   "execution_count": 20,
   "metadata": {},
   "outputs": [],
   "source": [
    "datasets_df_test_res = datasets(df_test_res, verbose=False)\n",
    "X_quant_test_res = datasets_df_test_res['X_quant']\n",
    "X_cat_test_res = datasets_df_test_res['X_cat']\n",
    "X_test_res = datasets_df_test_res['X']\n",
    "y_test_res = datasets_df_test_res['y']"
   ]
  },
  {
   "cell_type": "code",
   "execution_count": 21,
   "metadata": {},
   "outputs": [
    {
     "data": {
      "image/png": "[encoded data removed]",
      "text/plain": [
       "<Figure size 432x288 with 2 Axes>"
      ]
     },
     "metadata": {
      "needs_background": "light"
     },
     "output_type": "display_data"
    },
    {
     "name": "stdout",
     "output_type": "stream",
     "text": [
      "f1 : 0.2347\n",
      "recall : 0.6007\n",
      "negative predictive value : 0.9703\n",
      "precision : 0.1459\n",
      "roc_auc : 0.7550\n",
      "Wall time: 18.3 s\n"
     ]
    }
   ],
   "source": [
    "%%time\n",
    "m = Modelisation(X_train_res, y_train_res, LogisticRegression(), X_test=X_test_res, y_test=y_test_res, scaling=True)\n",
    "m.show_conf_matrix()\n",
    "m.show_metrics_score()"
   ]
  },
  {
   "cell_type": "code",
   "execution_count": 22,
   "metadata": {},
   "outputs": [
    {
     "name": "stdout",
     "output_type": "stream",
     "text": [
      "Temps d'exécution total : 00:03:23\n"
     ]
    }
   ],
   "source": [
    "print(f\"Temps d'exécution total : {time.strftime('%H:%M:%S', time.gmtime(time.time()-t))}\")"
   ]
  }
 ],
 "metadata": {
  "kernelspec": {
   "display_name": "Python 3",
   "language": "python",
   "name": "python3"
  },
  "language_info": {
   "codemirror_mode": {
    "name": "ipython",
    "version": 3
   },
   "file_extension": ".py",
   "mimetype": "text/x-python",
   "name": "python",
   "nbconvert_exporter": "python",
   "pygments_lexer": "ipython3",
   "version": "3.7.9"
  }
 },
 "nbformat": 4,
 "nbformat_minor": 4
}
