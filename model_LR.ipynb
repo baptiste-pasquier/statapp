{
 "cells": [
  {
   "cell_type": "code",
   "execution_count": 1,
   "metadata": {},
   "outputs": [],
   "source": [
    "import os\n",
    "import time\n",
    "from math import log\n",
    "\n",
    "import matplotlib.pyplot as plt\n",
    "import numpy as np\n",
    "import pandas as pd\n",
    "from IPython.display import display\n",
    "from sklearn import metrics\n",
    "from sklearn.metrics import confusion_matrix\n",
    "from sklearn.feature_extraction.text import CountVectorizer, TfidfVectorizer\n",
    "from sklearn.linear_model import LogisticRegression\n",
    "from sklearn.model_selection import train_test_split\n",
    "from sklearn.preprocessing import StandardScaler\n",
    "\n",
    "\n",
    "t = time.time()"
   ]
  },
  {
   "cell_type": "code",
   "execution_count": 2,
   "metadata": {},
   "outputs": [
    {
     "data": {
      "text/plain": [
       "(1610494, 48)"
      ]
     },
     "execution_count": 2,
     "metadata": {},
     "output_type": "execute_result"
    }
   ],
   "source": [
    "df = pd.read_csv('data/df_train_prepro.csv').sample(frac=1)\n",
    "df.shape"
   ]
  },
  {
   "cell_type": "code",
   "execution_count": 3,
   "metadata": {},
   "outputs": [
    {
     "name": "stdout",
     "output_type": "stream",
     "text": [
      "13\n"
     ]
    },
    {
     "data": {
      "text/plain": [
       "Index(['contextid', 'campaignctrlast24h', 'dayssincelastvisitdouble',\n",
       "       'ltf_nbglobaldisplay_4w', 'ltf_nbpartnerdisplayssincelastclick',\n",
       "       'ltf_nbpartnerdisplay_90d', 'ltf_nbpartnerclick_90d',\n",
       "       'ltf_nbpartnersales_90d', 'nbdayssincelastclick', 'nbdisplay_1hour',\n",
       "       'nbdisplayglobalapprox_1d_sum_xdevice', 'display_size',\n",
       "       'zonecostineuro'],\n",
       "      dtype='object')"
      ]
     },
     "metadata": {},
     "output_type": "display_data"
    },
    {
     "name": "stdout",
     "output_type": "stream",
     "text": [
      "21\n"
     ]
    },
    {
     "data": {
      "text/plain": [
       "Index(['display_env_app_ios', 'display_env_other', 'display_env_web',\n",
       "       'target_env_2', 'campaignscenario_5', 'campaignscenario_6',\n",
       "       'campaignscenario_11', 'campaignscenario_12', 'campaignscenario_13',\n",
       "       'campaignscenario_17', 'campaignvertical_20.0', 'campaignvertical_23.0',\n",
       "       'campaignvertical_129.0', 'campaignvertical_200002.0',\n",
       "       'is_interstitial_True', 'device_type_Desktop',\n",
       "       'device_type_Desktop - Safari', 'device_type_Mobile - Other',\n",
       "       'device_type_Unknown', 'device_type_iPad', 'device_type_iPhone'],\n",
       "      dtype='object')"
      ]
     },
     "metadata": {},
     "output_type": "display_data"
    },
    {
     "name": "stdout",
     "output_type": "stream",
     "text": [
      "34\n"
     ]
    },
    {
     "data": {
      "text/plain": [
       "Index(['contextid', 'campaignctrlast24h', 'dayssincelastvisitdouble',\n",
       "       'ltf_nbglobaldisplay_4w', 'ltf_nbpartnerdisplayssincelastclick',\n",
       "       'ltf_nbpartnerdisplay_90d', 'ltf_nbpartnerclick_90d',\n",
       "       'ltf_nbpartnersales_90d', 'nbdayssincelastclick', 'nbdisplay_1hour',\n",
       "       'nbdisplayglobalapprox_1d_sum_xdevice', 'display_size',\n",
       "       'zonecostineuro', 'display_env_app_ios', 'display_env_other',\n",
       "       'display_env_web', 'target_env_2', 'campaignscenario_5',\n",
       "       'campaignscenario_6', 'campaignscenario_11', 'campaignscenario_12',\n",
       "       'campaignscenario_13', 'campaignscenario_17', 'campaignvertical_20.0',\n",
       "       'campaignvertical_23.0', 'campaignvertical_129.0',\n",
       "       'campaignvertical_200002.0', 'is_interstitial_True',\n",
       "       'device_type_Desktop', 'device_type_Desktop - Safari',\n",
       "       'device_type_Mobile - Other', 'device_type_Unknown', 'device_type_iPad',\n",
       "       'device_type_iPhone'],\n",
       "      dtype='object')"
      ]
     },
     "metadata": {},
     "output_type": "display_data"
    }
   ],
   "source": [
    "columns_quant = ['contextid',\n",
    " 'campaignctrlast24h',\n",
    " 'dayssincelastvisitdouble',\n",
    " 'ltf_nbglobaldisplay_4w',\n",
    " 'ltf_nbpartnerdisplayssincelastclick',\n",
    " 'ltf_nbpartnerdisplay_90d',\n",
    " 'ltf_nbpartnerclick_90d',\n",
    " 'ltf_nbpartnersales_90d',\n",
    " 'nbdayssincelastclick',\n",
    " 'nbdisplay_1hour',\n",
    " 'nbdisplayglobalapprox_1d_sum_xdevice',\n",
    " 'display_size',\n",
    " 'zonecostineuro']\n",
    "\n",
    "columns_cat = ['display_env',\n",
    "            'target_env',\n",
    "            'campaignscenario',\n",
    "            'campaignvertical',\n",
    "            'is_interstitial',\n",
    "            'device_type']\n",
    "\n",
    "X_quant = df[columns_quant]\n",
    "X_quant_scaled = StandardScaler().fit_transform(X_quant)\n",
    "print(len(X_quant.columns))\n",
    "display(X_quant.columns)\n",
    "\n",
    "X_cat = df[columns_cat]\n",
    "X_cat = pd.get_dummies(X_cat, columns=columns_cat, drop_first=True)\n",
    "X_cat_scaled = StandardScaler().fit_transform(X_cat)\n",
    "print(len(X_cat.columns))\n",
    "display(X_cat.columns)\n",
    "\n",
    "X_quant_cat = df[columns_quant + columns_cat]\n",
    "X_quant_cat = pd.get_dummies(X_quant_cat, columns=columns_cat, drop_first=True)\n",
    "X_quant_cat_scaled = StandardScaler().fit_transform(X_quant_cat)\n",
    "print(len(X_quant_cat.columns))\n",
    "display(X_quant_cat.columns)\n",
    "\n",
    "y = df['is_display_clicked']"
   ]
  },
  {
   "cell_type": "code",
   "execution_count": 4,
   "metadata": {},
   "outputs": [],
   "source": [
    "class Modelisation():\n",
    "    def __init__(self, X, y, model, scaling=True):\n",
    "        if scaling:\n",
    "            scaler = StandardScaler()\n",
    "            X = scaler.fit_transform(X)\n",
    "\n",
    "        X_train, X_test, y_train, y_test = train_test_split(X, y, train_size=0.80, random_state=1234)\n",
    "\n",
    "        model.fit(X_train, y_train)\n",
    "        y_pred = model.predict(X_test)\n",
    "\n",
    "        cm = confusion_matrix(y_test, y_pred)\n",
    "        probs = model.predict_proba(X_test)[:, 1]\n",
    "        \n",
    "        TP = cm[1][1]\n",
    "        FN = cm[0][1]\n",
    "        FP = cm[1][0]\n",
    "        TN = cm[0][0]\n",
    "        sc_roc_auc = metrics.roc_auc_score(y_test, model.predict_proba(X_test)[:, 1])\n",
    "\n",
    "        # Recall\n",
    "        Recall = TP/(TP+FN)\n",
    "        # Precision\n",
    "        Precision = TP/(TP+FP)\n",
    "        # Negative predictive value\n",
    "        NPV = TN/(TN+FN)\n",
    "        # F1_Score\n",
    "        F1 = (2*Precision*Recall)/(Precision+Recall)\n",
    "\n",
    "        metrics_score = {'f1': F1, 'recall': Recall,'negative predictive value': NPV,'precision': Precision, 'roc_auc': sc_roc_auc}\n",
    "\n",
    "        self.X_train, self.X_test, self.y_train, self.y_test = X_train, X_test, y_train, y_test\n",
    "        self.model = model\n",
    "        self.probs = probs\n",
    "        self.metrics_score = metrics_score\n",
    "        self.recall = Recall\n",
    "\n",
    "    def get_data(self):\n",
    "        return self.X_train, self.X_test, self.y_train, self.y_test\n",
    "    \n",
    "    def show_conf_matrix(self):\n",
    "        metrics.plot_confusion_matrix(self.model, self.X_test, self.y_test, cmap='Blues')\n",
    "        plt.show()     \n",
    "    \n",
    "    def show_metrics_score(self):\n",
    "        for key, value in self.metrics_score.items():\n",
    "            print(f\"{key} : {value:.4f}\")\n",
    "            \n",
    "    def show_ROC(self):\n",
    "        fpr, tpr, _ = metrics.roc_curve(self.y_test, self.probs)\n",
    "        plt.plot(fpr, tpr, label=f\"{self.model}\")\n",
    "        plt.plot([0, 1], [0, 1], \"r-\", label='Modèle aléatoire')\n",
    "        plt.plot([0, 0, 1], [0, 1, 1], 'b-', label='Modèle parfait')\n",
    "        plt.legend()\n",
    "        plt.title('Courbe ROC')\n",
    "        plt.show()\n",
    "    \n",
    "    def show_recall(self): \n",
    "        return self.recall"
   ]
  },
  {
   "cell_type": "markdown",
   "metadata": {},
   "source": [
    "Afin de comparer nos modèles en termes de performances brutes et de temps d'exécution, il est fondamental de déterminer quelques métriques de référence. Ici, il faut surtout faire en sorte d'éviter de prédire des non-clics qui seraient en réalité des clics (ie prédire trop de 0), quitte à prédire trop de 1. Autrement dit, il faut maximiser le recall et le NPV (Negative predictive value) afin de limiter les erreurs de type II. Le F1 Score, combinaison du recall et de la précision, est également pertinent. "
   ]
  },
  {
   "cell_type": "markdown",
   "metadata": {},
   "source": [
    "## Variables quantitatives"
   ]
  },
  {
   "cell_type": "code",
   "execution_count": 5,
   "metadata": {},
   "outputs": [
    {
     "data": {
      "image/png": "[encoded data removed]",
      "text/plain": [
       "<Figure size 432x288 with 2 Axes>"
      ]
     },
     "metadata": {
      "needs_background": "light"
     },
     "output_type": "display_data"
    },
    {
     "name": "stdout",
     "output_type": "stream",
     "text": [
      "f1 : 0.0833\n",
      "recall : 0.4507\n",
      "negative predictive value : 0.9966\n",
      "precision : 0.0459\n",
      "roc_auc : 0.7386\n"
     ]
    }
   ],
   "source": [
    "m = Modelisation(X_quant, y, LogisticRegression())\n",
    "m.show_conf_matrix()\n",
    "m.show_metrics_score()"
   ]
  },
  {
   "cell_type": "code",
   "execution_count": 6,
   "metadata": {},
   "outputs": [
    {
     "data": {
      "image/png": "[encoded data removed]",
      "text/plain": [
       "<Figure size 432x288 with 1 Axes>"
      ]
     },
     "metadata": {
      "needs_background": "light"
     },
     "output_type": "display_data"
    }
   ],
   "source": [
    "m.show_ROC()"
   ]
  },
  {
   "cell_type": "code",
   "execution_count": 7,
   "metadata": {},
   "outputs": [
    {
     "data": {
      "text/html": [
       "<div>\n",
       "<style scoped>\n",
       "    .dataframe tbody tr th:only-of-type {\n",
       "        vertical-align: middle;\n",
       "    }\n",
       "\n",
       "    .dataframe tbody tr th {\n",
       "        vertical-align: top;\n",
       "    }\n",
       "\n",
       "    .dataframe thead th {\n",
       "        text-align: right;\n",
       "    }\n",
       "</style>\n",
       "<table border=\"1\" class=\"dataframe\">\n",
       "  <thead>\n",
       "    <tr style=\"text-align: right;\">\n",
       "      <th></th>\n",
       "      <th>Coefficient</th>\n",
       "    </tr>\n",
       "  </thead>\n",
       "  <tbody>\n",
       "    <tr>\n",
       "      <th>contextid</th>\n",
       "      <td>-0.026745</td>\n",
       "    </tr>\n",
       "    <tr>\n",
       "      <th>campaignctrlast24h</th>\n",
       "      <td>0.359232</td>\n",
       "    </tr>\n",
       "    <tr>\n",
       "      <th>dayssincelastvisitdouble</th>\n",
       "      <td>-0.030002</td>\n",
       "    </tr>\n",
       "    <tr>\n",
       "      <th>ltf_nbglobaldisplay_4w</th>\n",
       "      <td>0.007955</td>\n",
       "    </tr>\n",
       "    <tr>\n",
       "      <th>ltf_nbpartnerdisplayssincelastclick</th>\n",
       "      <td>-0.022924</td>\n",
       "    </tr>\n",
       "    <tr>\n",
       "      <th>ltf_nbpartnerdisplay_90d</th>\n",
       "      <td>-0.013580</td>\n",
       "    </tr>\n",
       "    <tr>\n",
       "      <th>ltf_nbpartnerclick_90d</th>\n",
       "      <td>0.036695</td>\n",
       "    </tr>\n",
       "    <tr>\n",
       "      <th>ltf_nbpartnersales_90d</th>\n",
       "      <td>-0.008244</td>\n",
       "    </tr>\n",
       "    <tr>\n",
       "      <th>nbdayssincelastclick</th>\n",
       "      <td>-0.112167</td>\n",
       "    </tr>\n",
       "    <tr>\n",
       "      <th>nbdisplay_1hour</th>\n",
       "      <td>-0.223714</td>\n",
       "    </tr>\n",
       "    <tr>\n",
       "      <th>nbdisplayglobalapprox_1d_sum_xdevice</th>\n",
       "      <td>-0.100868</td>\n",
       "    </tr>\n",
       "    <tr>\n",
       "      <th>display_size</th>\n",
       "      <td>0.299449</td>\n",
       "    </tr>\n",
       "    <tr>\n",
       "      <th>zonecostineuro</th>\n",
       "      <td>0.362565</td>\n",
       "    </tr>\n",
       "  </tbody>\n",
       "</table>\n",
       "</div>"
      ],
      "text/plain": [
       "                                      Coefficient\n",
       "contextid                               -0.026745\n",
       "campaignctrlast24h                       0.359232\n",
       "dayssincelastvisitdouble                -0.030002\n",
       "ltf_nbglobaldisplay_4w                   0.007955\n",
       "ltf_nbpartnerdisplayssincelastclick     -0.022924\n",
       "ltf_nbpartnerdisplay_90d                -0.013580\n",
       "ltf_nbpartnerclick_90d                   0.036695\n",
       "ltf_nbpartnersales_90d                  -0.008244\n",
       "nbdayssincelastclick                    -0.112167\n",
       "nbdisplay_1hour                         -0.223714\n",
       "nbdisplayglobalapprox_1d_sum_xdevice    -0.100868\n",
       "display_size                             0.299449\n",
       "zonecostineuro                           0.362565"
      ]
     },
     "execution_count": 7,
     "metadata": {},
     "output_type": "execute_result"
    }
   ],
   "source": [
    "coeff_df = pd.DataFrame(np.transpose(m.model.coef_), X_quant.columns, columns=['Coefficient'])\n",
    "coeff_df"
   ]
  },
  {
   "cell_type": "code",
   "execution_count": 8,
   "metadata": {},
   "outputs": [
    {
     "name": "stdout",
     "output_type": "stream",
     "text": [
      "Optimization terminated successfully.\n",
      "         Current function value: 0.197126\n",
      "         Iterations 8\n",
      "                           Logit Regression Results                           \n",
      "==============================================================================\n",
      "Dep. Variable:     is_display_clicked   No. Observations:              1610494\n",
      "Model:                          Logit   Df Residuals:                  1610480\n",
      "Method:                           MLE   Df Model:                           13\n",
      "Date:                Wed, 20 Jan 2021   Pseudo R-squ.:                 0.09804\n",
      "Time:                        20:07:01   Log-Likelihood:            -3.1747e+05\n",
      "converged:                       True   LL-Null:                   -3.5198e+05\n",
      "Covariance Type:            nonrobust   LLR p-value:                     0.000\n",
      "========================================================================================================\n",
      "                                           coef    std err          z      P>|z|      [0.025      0.975]\n",
      "--------------------------------------------------------------------------------------------------------\n",
      "const                                   -3.7845      0.012   -326.322      0.000      -3.807      -3.762\n",
      "contextid                               -0.0103      0.002     -6.655      0.000      -0.013      -0.007\n",
      "campaignctrlast24h                      91.9514      0.762    120.631      0.000      90.457      93.445\n",
      "dayssincelastvisitdouble                -0.0005   8.04e-05     -6.709      0.000      -0.001      -0.000\n",
      "ltf_nbglobaldisplay_4w                6.498e-05   2.92e-05      2.228      0.026    7.82e-06       0.000\n",
      "ltf_nbpartnerdisplayssincelastclick     -0.0009      0.000     -3.794      0.000      -0.001      -0.000\n",
      "ltf_nbpartnerdisplay_90d                -0.0001   5.37e-05     -2.381      0.017      -0.000   -2.26e-05\n",
      "ltf_nbpartnerclick_90d                   0.0141      0.001     10.405      0.000       0.011       0.017\n",
      "ltf_nbpartnersales_90d                  -0.0047      0.001     -3.512      0.000      -0.007      -0.002\n",
      "nbdayssincelastclick                    -0.0024   9.66e-05    -24.986      0.000      -0.003      -0.002\n",
      "nbdisplay_1hour                         -0.0261      0.001    -44.819      0.000      -0.027      -0.025\n",
      "nbdisplayglobalapprox_1d_sum_xdevice    -0.0015   6.97e-05    -21.054      0.000      -0.002      -0.001\n",
      "display_size                          3.075e-06   2.45e-08    125.546      0.000    3.03e-06    3.12e-06\n",
      "zonecostineuro                           0.1220      0.001    144.280      0.000       0.120       0.124\n",
      "========================================================================================================\n"
     ]
    }
   ],
   "source": [
    "from statsmodels.discrete.discrete_model import Logit\n",
    "from statsmodels.tools import add_constant\n",
    "\n",
    "X_ = add_constant(X_quant)\n",
    "print(Logit(y, X_).fit().summary())"
   ]
  },
  {
   "cell_type": "markdown",
   "metadata": {},
   "source": [
    "Avec LASSO : "
   ]
  },
  {
   "cell_type": "code",
   "execution_count": 9,
   "metadata": {},
   "outputs": [],
   "source": [
    "X1 = df[['contextid',\n",
    "         'dayssincelastvisitdouble',\n",
    "         'campaignctrlast24h',\n",
    "         'nbdisplay_1hour',\n",
    "         'nbdayssincelastclick',\n",
    "         'display_size',\n",
    "         'nbdisplayglobalapprox_1d_sum_xdevice']]\n",
    "y1 = df['is_display_clicked']"
   ]
  },
  {
   "cell_type": "code",
   "execution_count": 10,
   "metadata": {},
   "outputs": [
    {
     "data": {
      "image/png": "[encoded data removed]",
      "text/plain": [
       "<Figure size 432x288 with 2 Axes>"
      ]
     },
     "metadata": {
      "needs_background": "light"
     },
     "output_type": "display_data"
    },
    {
     "name": "stdout",
     "output_type": "stream",
     "text": [
      "f1 : 0.0282\n",
      "recall : 0.3530\n",
      "negative predictive value : 0.9984\n",
      "precision : 0.0147\n",
      "roc_auc : 0.6865\n"
     ]
    }
   ],
   "source": [
    "m1 = Modelisation(X1, y1, LogisticRegression())\n",
    "m1.show_conf_matrix()\n",
    "m1.show_metrics_score()"
   ]
  },
  {
   "cell_type": "markdown",
   "metadata": {},
   "source": [
    "# Categorical variables"
   ]
  },
  {
   "cell_type": "code",
   "execution_count": 11,
   "metadata": {},
   "outputs": [
    {
     "name": "stdout",
     "output_type": "stream",
     "text": [
      "display_env : 4\n",
      "target_env : 2\n",
      "campaignscenario : 7\n",
      "campaignvertical : 34\n",
      "is_interstitial : 3\n",
      "device_type : 7\n"
     ]
    }
   ],
   "source": [
    "# Nombre de valeurs distinctes\n",
    "for column in columns_cat:\n",
    "    print(f\"{column} : {len(set(df[column]))}\")"
   ]
  },
  {
   "cell_type": "code",
   "execution_count": 12,
   "metadata": {},
   "outputs": [
    {
     "data": {
      "image/png": "[encoded data removed]",
      "text/plain": [
       "<Figure size 432x288 with 2 Axes>"
      ]
     },
     "metadata": {
      "needs_background": "light"
     },
     "output_type": "display_data"
    },
    {
     "name": "stdout",
     "output_type": "stream",
     "text": [
      "f1 : 0.0100\n",
      "recall : 0.4493\n",
      "negative predictive value : 0.9996\n",
      "precision : 0.0051\n",
      "roc_auc : 0.6912\n"
     ]
    }
   ],
   "source": [
    "m = Modelisation(X_cat, y, LogisticRegression())\n",
    "m.show_conf_matrix()\n",
    "m.show_metrics_score()"
   ]
  },
  {
   "cell_type": "markdown",
   "metadata": {},
   "source": [
    "## Quantitative + categorical"
   ]
  },
  {
   "cell_type": "code",
   "execution_count": 13,
   "metadata": {},
   "outputs": [
    {
     "data": {
      "image/png": "[encoded data removed]",
      "text/plain": [
       "<Figure size 432x288 with 2 Axes>"
      ]
     },
     "metadata": {
      "needs_background": "light"
     },
     "output_type": "display_data"
    },
    {
     "name": "stdout",
     "output_type": "stream",
     "text": [
      "f1 : 0.1163\n",
      "recall : 0.5042\n",
      "negative predictive value : 0.9961\n",
      "precision : 0.0657\n",
      "roc_auc : 0.7579\n",
      "Wall time: 6.82 s\n"
     ]
    }
   ],
   "source": [
    "%%time\n",
    "m = Modelisation(X_quant_cat, y, LogisticRegression())\n",
    "m.show_conf_matrix()\n",
    "m.show_metrics_score()"
   ]
  },
  {
   "cell_type": "markdown",
   "metadata": {},
   "source": [
    "## Comparaison par rapport aux valeurs de C "
   ]
  },
  {
   "cell_type": "code",
   "execution_count": 14,
   "metadata": {},
   "outputs": [
    {
     "data": {
      "image/png": "[encoded data removed]",
      "text/plain": [
       "<Figure size 432x288 with 2 Axes>"
      ]
     },
     "metadata": {
      "needs_background": "light"
     },
     "output_type": "display_data"
    },
    {
     "name": "stdout",
     "output_type": "stream",
     "text": [
      "f1 : 0.1163\n",
      "recall : 0.5042\n",
      "negative predictive value : 0.9961\n",
      "precision : 0.0657\n",
      "roc_auc : 0.7579\n"
     ]
    }
   ],
   "source": [
    "m = Modelisation(X_quant_cat, y, LogisticRegression(C=0.2))\n",
    "m.show_conf_matrix()\n",
    "m.show_metrics_score()"
   ]
  },
  {
   "cell_type": "code",
   "execution_count": 15,
   "metadata": {},
   "outputs": [
    {
     "data": {
      "image/png": "[encoded data removed]",
      "text/plain": [
       "<Figure size 432x288 with 1 Axes>"
      ]
     },
     "metadata": {
      "needs_background": "light"
     },
     "output_type": "display_data"
    }
   ],
   "source": [
    "C, list_recall = [], []\n",
    "for c in np.logspace(-5.5, 5.5, num = 11): \n",
    "    m = Modelisation(X_quant_cat, y, LogisticRegression(C=c))\n",
    "    C.append(c)\n",
    "    list_recall.append(m.show_recall())\n",
    "plt.plot(C, list_recall)\n",
    "plt.xscale('log')\n",
    "plt.show()"
   ]
  },
  {
   "cell_type": "code",
   "execution_count": 16,
   "metadata": {},
   "outputs": [
    {
     "name": "stdout",
     "output_type": "stream",
     "text": [
      "Temps d'exécution total : 00:02:14\n"
     ]
    }
   ],
   "source": [
    "print(f\"Temps d'exécution total : {time.strftime('%H:%M:%S', time.gmtime(time.time()-t))}\")"
   ]
  }
 ],
 "metadata": {
  "kernelspec": {
   "display_name": "Python 3",
   "language": "python",
   "name": "python3"
  },
  "language_info": {
   "codemirror_mode": {
    "name": "ipython",
    "version": 3
   },
   "file_extension": ".py",
   "mimetype": "text/x-python",
   "name": "python",
   "nbconvert_exporter": "python",
   "pygments_lexer": "ipython3",
   "version": "3.9.1"
  }
 },
 "nbformat": 4,
 "nbformat_minor": 4
}
