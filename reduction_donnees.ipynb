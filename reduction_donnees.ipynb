{
 "cells": [
  {
   "cell_type": "markdown",
   "id": "6971a16c",
   "metadata": {},
   "source": [
    "# Étude de l'impact de la réduction des données"
   ]
  },
  {
   "cell_type": "code",
   "execution_count": 1,
   "id": "46db9273",
   "metadata": {},
   "outputs": [],
   "source": [
    "import time\n",
    "\n",
    "import matplotlib.pyplot as plt\n",
    "import numpy as np\n",
    "import pandas as pd\n",
    "from sklearn.linear_model import LogisticRegression\n",
    "from sklearn.ensemble import RandomForestClassifier\n",
    "from xgboost import XGBClassifier\n",
    "from sklearn.metrics import recall_score, precision_score, confusion_matrix, ConfusionMatrixDisplay, roc_curve, roc_auc_score\n",
    "from tqdm.notebook import trange, tqdm\n",
    "\n",
    "from tools import Modelisation, datasets, convert_keys_to_int, PDF\n",
    "\n",
    "pdf = PDF('output/reduction_donnees/')\n",
    "\n",
    "t = time.time()"
   ]
  },
  {
   "cell_type": "code",
   "execution_count": 2,
   "id": "bfff2724",
   "metadata": {},
   "outputs": [],
   "source": [
    "best_LR = \"LR_RFECV\"\n",
    "best_RF = \"Forest_RFECV\"\n",
    "best_XGB = \"XGBoost_RFECV\""
   ]
  },
  {
   "cell_type": "code",
   "execution_count": 3,
   "id": "e0e49be2",
   "metadata": {},
   "outputs": [
    {
     "name": "stdout",
     "output_type": "stream",
     "text": [
      "Variables explicatives régression logistique (11) :\n"
     ]
    },
    {
     "data": {
      "text/plain": [
       "['campaignctrlast24h',\n",
       " 'display_size',\n",
       " 'nbdayssincelastclick',\n",
       " 'nbdisplay_1hour',\n",
       " 'zonecostineuro',\n",
       " 'campaignscenario_13',\n",
       " 'device_type_Desktop',\n",
       " 'device_type_iPhone',\n",
       " 'display_env_app_ios',\n",
       " 'is_interstitial_True',\n",
       " 'target_env_2']"
      ]
     },
     "metadata": {},
     "output_type": "display_data"
    },
    {
     "name": "stdout",
     "output_type": "stream",
     "text": [
      "Meilleurs paramètres régression logistique (2) :\n"
     ]
    },
    {
     "data": {
      "text/plain": [
       "{'C': 0.007278953843983146, 'class_weight': {0: 1, 1: 20}}"
      ]
     },
     "metadata": {},
     "output_type": "display_data"
    },
    {
     "name": "stdout",
     "output_type": "stream",
     "text": [
      "Variables explicatives forêt aléatoires (9) :\n"
     ]
    },
    {
     "data": {
      "text/plain": [
       "['campaignctrlast24h',\n",
       " 'contextid',\n",
       " 'dayssincelastvisitdouble',\n",
       " 'display_size',\n",
       " 'nbdayssincelastclick',\n",
       " 'nbdisplay_1hour',\n",
       " 'nbdisplayglobalapprox_1d_sum_xdevice',\n",
       " 'zonecostineuro',\n",
       " 'is_interstitial_True']"
      ]
     },
     "metadata": {},
     "output_type": "display_data"
    },
    {
     "name": "stdout",
     "output_type": "stream",
     "text": [
      "Meilleurs paramètres forêt aléatoires (8) :\n"
     ]
    },
    {
     "data": {
      "text/plain": [
       "{'n_estimators': 400,\n",
       " 'min_samples_split': 10,\n",
       " 'min_samples_leaf': 4,\n",
       " 'max_features': 'sqrt',\n",
       " 'max_depth': 10,\n",
       " 'class_weight': {0: 1, 1: 32},\n",
       " 'bootstrap': False,\n",
       " 'n_jobs': -1}"
      ]
     },
     "metadata": {},
     "output_type": "display_data"
    },
    {
     "name": "stdout",
     "output_type": "stream",
     "text": [
      "Variables explicatives XGBoost (9) :\n"
     ]
    },
    {
     "data": {
      "text/plain": [
       "['campaignctrlast24h',\n",
       " 'contextid',\n",
       " 'nbdayssincelastclick',\n",
       " 'nbdisplay_1hour',\n",
       " 'zonecostineuro',\n",
       " 'device_type_Android',\n",
       " 'device_type_Desktop',\n",
       " 'device_type_iPad',\n",
       " 'is_interstitial_True']"
      ]
     },
     "metadata": {},
     "output_type": "display_data"
    },
    {
     "name": "stdout",
     "output_type": "stream",
     "text": [
      "Meilleurs paramètres XGBoost (11) :\n"
     ]
    },
    {
     "data": {
      "text/plain": [
       "{'subsample': 1.0,\n",
       " 'scale_pos_weight': 16.5,\n",
       " 'n_estimators': 100,\n",
       " 'min_child_weight': 3,\n",
       " 'max_depth': 2,\n",
       " 'learning_rate': 0.1,\n",
       " 'gamma': 1.5,\n",
       " 'colsample_bytree': 0.6,\n",
       " 'booster': 'gbtree',\n",
       " 'objective': 'binary:logistic',\n",
       " 'n_jobs': -1}"
      ]
     },
     "metadata": {},
     "output_type": "display_data"
    },
    {
     "name": "stdout",
     "output_type": "stream",
     "text": [
      "Seuils ajustés :\n"
     ]
    },
    {
     "data": {
      "text/plain": [
       "{'LR': 0.5014648437500001,\n",
       " 'Forest': 0.6503906250000003,\n",
       " 'XGBoost': 0.46533203125}"
      ]
     },
     "metadata": {},
     "output_type": "display_data"
    }
   ],
   "source": [
    "import json\n",
    "\n",
    "# Régression logistique\n",
    "with open('backups/RFECV_LR.json') as column_file:\n",
    "    LR_COLUMNS = json.load(column_file)\n",
    "    LR_COLUMNS_QUANT = LR_COLUMNS['columns_quant']\n",
    "    LR_COLUMNS_CAT = LR_COLUMNS['columns_cat']\n",
    "    LR_COLUMNS = LR_COLUMNS_QUANT + LR_COLUMNS_CAT\n",
    "\n",
    "with open('backups/PARAMS_LR.json') as param_file:\n",
    "    LR_PARAMS = json.load(param_file)[best_LR]\n",
    "    LR_PARAMS = convert_keys_to_int(LR_PARAMS)\n",
    "\n",
    "print(f'Variables explicatives régression logistique ({len(LR_COLUMNS)}) :')\n",
    "display(LR_COLUMNS)\n",
    "\n",
    "print(f'Meilleurs paramètres régression logistique ({len(LR_PARAMS)}) :')\n",
    "display(LR_PARAMS)\n",
    "\n",
    "# Forêt aléatoires\n",
    "with open('backups/RFECV_Forest.json') as column_file:\n",
    "    RF_COLUMNS = json.load(column_file)\n",
    "    RF_COLUMNS_QUANT = RF_COLUMNS['columns_quant']\n",
    "    RF_COLUMNS_CAT = RF_COLUMNS['columns_cat']\n",
    "    RF_COLUMNS = RF_COLUMNS_QUANT + RF_COLUMNS_CAT\n",
    "\n",
    "with open('backups/PARAMS_Forest.json') as param_file:\n",
    "    RF_PARAMS = json.load(param_file)[best_RF]\n",
    "    RF_PARAMS = convert_keys_to_int(RF_PARAMS)\n",
    "\n",
    "print(f'Variables explicatives forêt aléatoires ({len(RF_COLUMNS)}) :')\n",
    "display(RF_COLUMNS)\n",
    "\n",
    "print(f'Meilleurs paramètres forêt aléatoires ({len(RF_PARAMS)}) :')\n",
    "RF_PARAMS['class_weight'] = {int(k): v for k,v in RF_PARAMS['class_weight'].items()}\n",
    "display(RF_PARAMS)\n",
    "\n",
    "# XGBoost\n",
    "with open('backups/RFECV_XGBoost.json') as column_file:\n",
    "    XGB_COLUMNS = json.load(column_file)\n",
    "    XGB_COLUMNS_QUANT = XGB_COLUMNS['columns_quant']\n",
    "    XGB_COLUMNS_CAT = XGB_COLUMNS['columns_cat']\n",
    "    XGB_COLUMNS = XGB_COLUMNS_QUANT + XGB_COLUMNS_CAT\n",
    "\n",
    "with open('backups/PARAMS_XGBoost.json') as param_file:\n",
    "    XGB_PARAMS = json.load(param_file)[best_XGB]\n",
    "    XGB_PARAMS = convert_keys_to_int(XGB_PARAMS)\n",
    "\n",
    "print(f'Variables explicatives XGBoost ({len(XGB_COLUMNS)}) :')\n",
    "display(XGB_COLUMNS)\n",
    "\n",
    "print(f'Meilleurs paramètres XGBoost ({len(XGB_PARAMS)}) :')\n",
    "display(XGB_PARAMS)\n",
    "\n",
    "# Seuils ajustés\n",
    "with open('backups/THRESHOLD.json') as threshold_file:\n",
    "    SEUILS = json.load(threshold_file)\n",
    "\n",
    "print(\"Seuils ajustés :\")\n",
    "display(SEUILS)"
   ]
  },
  {
   "cell_type": "code",
   "execution_count": 4,
   "id": "625dc01b",
   "metadata": {},
   "outputs": [
    {
     "name": "stdout",
     "output_type": "stream",
     "text": [
      "Minimum : 0.050% soit 807 observations\n",
      "2ème : 0.086% soit 1389 observations\n"
     ]
    },
    {
     "data": {
      "text/plain": [
       "array([5.01187234e-04, 8.62410997e-04, 1.48398179e-03, 2.55354113e-03,\n",
       "       4.39397056e-03, 7.56086404e-03, 1.30102522e-02, 2.23872114e-02,\n",
       "       3.85224842e-02, 6.62870316e-02, 1.14062492e-01, 1.96271455e-01,\n",
       "       3.37731391e-01, 5.81146617e-01, 1.00000000e+00])"
      ]
     },
     "execution_count": 4,
     "metadata": {},
     "output_type": "execute_result"
    }
   ],
   "source": [
    "data_frac_list = np.logspace(-3.3, 0, 15)\n",
    "nb = len(pd.read_csv('data/df_train_prepro.csv'))\n",
    "print(f\"Minimum : {data_frac_list[0]*100:.3f}% soit {data_frac_list[0]*nb:.0f} observations\")\n",
    "print(f\"2ème : {data_frac_list[1]*100:.3f}% soit {data_frac_list[1]*nb:.0f} observations\")\n",
    "data_frac_list"
   ]
  },
  {
   "cell_type": "code",
   "execution_count": 5,
   "id": "cc72936c",
   "metadata": {},
   "outputs": [
    {
     "data": {
      "image/png": "[encoded data removed]",
      "text/plain": [
       "<Figure size 432x288 with 1 Axes>"
      ]
     },
     "metadata": {
      "needs_background": "light"
     },
     "output_type": "display_data"
    }
   ],
   "source": [
    "plt.plot(100*data_frac_list, marker='o')\n",
    "plt.title(\"Pourcentages de données\")\n",
    "plt.show()"
   ]
  },
  {
   "cell_type": "code",
   "execution_count": 6,
   "id": "e3421edd",
   "metadata": {},
   "outputs": [
    {
     "data": {
      "image/png": "[encoded data removed]",
      "text/plain": [
       "<Figure size 432x288 with 1 Axes>"
      ]
     },
     "metadata": {
      "needs_background": "light"
     },
     "output_type": "display_data"
    }
   ],
   "source": [
    "plt.plot([int(1/elem) for elem in data_frac_list], marker='o')\n",
    "plt.title(\"Nombres de blocs\")\n",
    "plt.show()"
   ]
  },
  {
   "cell_type": "code",
   "execution_count": 7,
   "id": "e81d488a",
   "metadata": {},
   "outputs": [],
   "source": [
    "def graph(scores, column='f3'):\n",
    "    fig, ax = plt.subplots()\n",
    "    for model_name in scores['model_name'].unique():\n",
    "        scores_model = scores[scores.model_name == model_name]    \n",
    "        ax.plot(100*scores_model['data_frac'], scores_model[column], label=model_name, marker='o')\n",
    "    ax.set_xscale('log')\n",
    "    ax.set_xlabel(\"Pourcentage de données\")\n",
    "    ax.set_ylabel(column)\n",
    "    ax.legend()\n",
    "    pdf.export()\n",
    "    plt.show()"
   ]
  },
  {
   "cell_type": "code",
   "execution_count": 8,
   "id": "c2d9c9c6",
   "metadata": {},
   "outputs": [],
   "source": [
    "def graph_x(scores, column='f3', x_column='training_time'):\n",
    "    fig, ax = plt.subplots()\n",
    "    for model_name in scores['model_name'].unique():\n",
    "        scores_model = scores[scores.model_name == model_name]    \n",
    "        ax.scatter(scores_model[x_column], scores_model[column], label=model_name, marker='o', s=15)\n",
    "    ax.set_xlabel(x_column)\n",
    "    ax.set_ylabel(column)\n",
    "    ax.legend()\n",
    "    pdf.export()\n",
    "    plt.show()"
   ]
  },
  {
   "cell_type": "markdown",
   "id": "7570db0c",
   "metadata": {},
   "source": [
    "## 1. Régression logistique"
   ]
  },
  {
   "cell_type": "code",
   "execution_count": 9,
   "id": "aa6564f7",
   "metadata": {},
   "outputs": [],
   "source": [
    "df_train_all = pd.read_csv('data/df_train_prepro.csv').sample(frac=1, random_state=1234)\n",
    "df_test = pd.read_csv('data/df_test_prepro.csv').sample(frac=1, random_state=1234)\n",
    "datasets_df_test = datasets(df_test, columns_quant=LR_COLUMNS_QUANT, columns_cat=LR_COLUMNS_CAT, drop='first', verbose=False)\n",
    "X_test = datasets_df_test['X_only_quant_scaled']\n",
    "y_test = datasets_df_test['y']"
   ]
  },
  {
   "cell_type": "markdown",
   "id": "8908d250",
   "metadata": {},
   "source": [
    "**Première idée non robuste avec un seul calcul pour chaque pourcentage**"
   ]
  },
  {
   "cell_type": "code",
   "execution_count": 10,
   "id": "bf31c14a",
   "metadata": {},
   "outputs": [
    {
     "data": {
      "application/vnd.jupyter.widget-view+json": {
       "model_id": "650a1d8d99bf48b692efcb79a6664a1b",
       "version_major": 2,
       "version_minor": 0
      },
      "text/plain": [
       "  0%|          | 0/15 [00:00<?, ?it/s]"
      ]
     },
     "metadata": {},
     "output_type": "display_data"
    },
    {
     "name": "stdout",
     "output_type": "stream",
     "text": [
      "CPU times: user 2min 27s, sys: 6min 36s, total: 9min 3s\n",
      "Wall time: 34.6 s\n"
     ]
    }
   ],
   "source": [
    "%%time\n",
    "SCORES_LR = []\n",
    "for data_frac in tqdm(data_frac_list):\n",
    "    df_train = df_train_all.sample(frac=data_frac, random_state=1234)\n",
    "    datasets_df_train = datasets(df_train, columns_quant=LR_COLUMNS_QUANT, columns_cat=LR_COLUMNS_CAT, drop='first', verbose=False)\n",
    "    X_train = datasets_df_train['X_only_quant_scaled']\n",
    "    y_train = datasets_df_train['y']\n",
    "\n",
    "    m = Modelisation(X_train, y_train, LogisticRegression(**LR_PARAMS), X_test=X_test, y_test=y_test, seuil=SEUILS['LR'])\n",
    "\n",
    "    metrics = m.metrics_score\n",
    "    metrics['model_name'] = 'Régression logistique'\n",
    "    metrics['data_frac'] = data_frac\n",
    "    metrics['training_time'] = m.training_time\n",
    "    metrics['prediction_time'] = m.prediction_time\n",
    "    SCORES_LR.append(metrics)\n",
    "SCORES_LR = pd.DataFrame(SCORES_LR)"
   ]
  },
  {
   "cell_type": "code",
   "execution_count": 11,
   "id": "227be807",
   "metadata": {},
   "outputs": [
    {
     "name": "stdout",
     "output_type": "stream",
     "text": [
      "Export PDF : output/reduction_donnees/00.pdf\n",
      "\n"
     ]
    },
    {
     "data": {
      "image/png": "[encoded data removed]",
      "text/plain": [
       "<Figure size 432x288 with 1 Axes>"
      ]
     },
     "metadata": {
      "needs_background": "light"
     },
     "output_type": "display_data"
    }
   ],
   "source": [
    "graph(SCORES_LR)"
   ]
  },
  {
   "cell_type": "code",
   "execution_count": 12,
   "id": "886256b2",
   "metadata": {},
   "outputs": [
    {
     "name": "stdout",
     "output_type": "stream",
     "text": [
      "Export PDF : output/reduction_donnees/01.pdf\n",
      "\n"
     ]
    },
    {
     "data": {
      "image/png": "[encoded data removed]",
      "text/plain": [
       "<Figure size 432x288 with 1 Axes>"
      ]
     },
     "metadata": {
      "needs_background": "light"
     },
     "output_type": "display_data"
    }
   ],
   "source": [
    "graph(SCORES_LR, column='training_time')"
   ]
  },
  {
   "cell_type": "code",
   "execution_count": 13,
   "id": "f408fcf8",
   "metadata": {},
   "outputs": [
    {
     "name": "stdout",
     "output_type": "stream",
     "text": [
      "Export PDF : output/reduction_donnees/02.pdf\n",
      "\n"
     ]
    },
    {
     "data": {
      "image/png": "[encoded data removed]",
      "text/plain": [
       "<Figure size 432x288 with 1 Axes>"
      ]
     },
     "metadata": {
      "needs_background": "light"
     },
     "output_type": "display_data"
    }
   ],
   "source": [
    "graph(SCORES_LR, column='prediction_time')"
   ]
  },
  {
   "cell_type": "markdown",
   "id": "9281d731",
   "metadata": {},
   "source": [
    "**Méthode plus robuste avec moyenne**"
   ]
  },
  {
   "cell_type": "code",
   "execution_count": 14,
   "id": "843e40ee",
   "metadata": {},
   "outputs": [
    {
     "data": {
      "application/vnd.jupyter.widget-view+json": {
       "model_id": "ec57e7640b1e4b5485797ff8db6987d2",
       "version_major": 2,
       "version_minor": 0
      },
      "text/plain": [
       "data_frac loop:   0%|          | 0/15 [00:00<?, ?it/s]"
      ]
     },
     "metadata": {},
     "output_type": "display_data"
    },
    {
     "data": {
      "application/vnd.jupyter.widget-view+json": {
       "model_id": "",
       "version_major": 2,
       "version_minor": 0
      },
      "text/plain": [
       "split loop:   0%|          | 0/1995 [00:00<?, ?it/s]"
      ]
     },
     "metadata": {},
     "output_type": "display_data"
    },
    {
     "data": {
      "application/vnd.jupyter.widget-view+json": {
       "model_id": "",
       "version_major": 2,
       "version_minor": 0
      },
      "text/plain": [
       "split loop:   0%|          | 0/1159 [00:00<?, ?it/s]"
      ]
     },
     "metadata": {},
     "output_type": "display_data"
    },
    {
     "data": {
      "application/vnd.jupyter.widget-view+json": {
       "model_id": "",
       "version_major": 2,
       "version_minor": 0
      },
      "text/plain": [
       "split loop:   0%|          | 0/673 [00:00<?, ?it/s]"
      ]
     },
     "metadata": {},
     "output_type": "display_data"
    },
    {
     "data": {
      "application/vnd.jupyter.widget-view+json": {
       "model_id": "",
       "version_major": 2,
       "version_minor": 0
      },
      "text/plain": [
       "split loop:   0%|          | 0/391 [00:00<?, ?it/s]"
      ]
     },
     "metadata": {},
     "output_type": "display_data"
    },
    {
     "data": {
      "application/vnd.jupyter.widget-view+json": {
       "model_id": "",
       "version_major": 2,
       "version_minor": 0
      },
      "text/plain": [
       "split loop:   0%|          | 0/227 [00:00<?, ?it/s]"
      ]
     },
     "metadata": {},
     "output_type": "display_data"
    },
    {
     "data": {
      "application/vnd.jupyter.widget-view+json": {
       "model_id": "",
       "version_major": 2,
       "version_minor": 0
      },
      "text/plain": [
       "split loop:   0%|          | 0/132 [00:00<?, ?it/s]"
      ]
     },
     "metadata": {},
     "output_type": "display_data"
    },
    {
     "data": {
      "application/vnd.jupyter.widget-view+json": {
       "model_id": "",
       "version_major": 2,
       "version_minor": 0
      },
      "text/plain": [
       "split loop:   0%|          | 0/76 [00:00<?, ?it/s]"
      ]
     },
     "metadata": {},
     "output_type": "display_data"
    },
    {
     "data": {
      "application/vnd.jupyter.widget-view+json": {
       "model_id": "",
       "version_major": 2,
       "version_minor": 0
      },
      "text/plain": [
       "split loop:   0%|          | 0/44 [00:00<?, ?it/s]"
      ]
     },
     "metadata": {},
     "output_type": "display_data"
    },
    {
     "data": {
      "application/vnd.jupyter.widget-view+json": {
       "model_id": "",
       "version_major": 2,
       "version_minor": 0
      },
      "text/plain": [
       "split loop:   0%|          | 0/25 [00:00<?, ?it/s]"
      ]
     },
     "metadata": {},
     "output_type": "display_data"
    },
    {
     "data": {
      "application/vnd.jupyter.widget-view+json": {
       "model_id": "",
       "version_major": 2,
       "version_minor": 0
      },
      "text/plain": [
       "split loop:   0%|          | 0/15 [00:00<?, ?it/s]"
      ]
     },
     "metadata": {},
     "output_type": "display_data"
    },
    {
     "data": {
      "application/vnd.jupyter.widget-view+json": {
       "model_id": "",
       "version_major": 2,
       "version_minor": 0
      },
      "text/plain": [
       "split loop:   0%|          | 0/8 [00:00<?, ?it/s]"
      ]
     },
     "metadata": {},
     "output_type": "display_data"
    },
    {
     "data": {
      "application/vnd.jupyter.widget-view+json": {
       "model_id": "",
       "version_major": 2,
       "version_minor": 0
      },
      "text/plain": [
       "split loop:   0%|          | 0/5 [00:00<?, ?it/s]"
      ]
     },
     "metadata": {},
     "output_type": "display_data"
    },
    {
     "data": {
      "application/vnd.jupyter.widget-view+json": {
       "model_id": "",
       "version_major": 2,
       "version_minor": 0
      },
      "text/plain": [
       "split loop:   0%|          | 0/2 [00:00<?, ?it/s]"
      ]
     },
     "metadata": {},
     "output_type": "display_data"
    },
    {
     "data": {
      "application/vnd.jupyter.widget-view+json": {
       "model_id": "",
       "version_major": 2,
       "version_minor": 0
      },
      "text/plain": [
       "split loop:   0%|          | 0/1 [00:00<?, ?it/s]"
      ]
     },
     "metadata": {},
     "output_type": "display_data"
    },
    {
     "data": {
      "application/vnd.jupyter.widget-view+json": {
       "model_id": "",
       "version_major": 2,
       "version_minor": 0
      },
      "text/plain": [
       "split loop:   0%|          | 0/1 [00:00<?, ?it/s]"
      ]
     },
     "metadata": {},
     "output_type": "display_data"
    },
    {
     "name": "stdout",
     "output_type": "stream",
     "text": [
      "CPU times: user 4h 17min 4s, sys: 14h 30min 40s, total: 18h 47min 44s\n",
      "Wall time: 57min 3s\n"
     ]
    }
   ],
   "source": [
    "%%time\n",
    "SCORES_LR = []\n",
    "for data_frac in tqdm(data_frac_list, desc=\"data_frac loop\"):\n",
    "    nb_blocs = int(1/data_frac)\n",
    "    df_train_list = np.array_split(df_train_all, nb_blocs)\n",
    "    scores_frac = []\n",
    "    for df_train in tqdm(df_train_list, desc=\"split loop\", leave=False):\n",
    "        datasets_df_train = datasets(df_train, columns_quant=LR_COLUMNS_QUANT, columns_cat=LR_COLUMNS_CAT, drop='first', verbose=False)\n",
    "        X_train = datasets_df_train['X_only_quant_scaled']\n",
    "        y_train = datasets_df_train['y']    \n",
    "\n",
    "        m = Modelisation(X_train, y_train, LogisticRegression(**LR_PARAMS), X_test=X_test, y_test=y_test, seuil=SEUILS['LR'])\n",
    "\n",
    "        metrics = m.metrics_score\n",
    "        metrics['data_frac'] = data_frac\n",
    "        metrics['training_time'] = m.training_time\n",
    "        metrics['prediction_time'] = m.prediction_time\n",
    "        scores_frac.append(metrics)\n",
    "    scores_frac = pd.DataFrame(scores_frac)\n",
    "    mean = scores_frac.mean()\n",
    "    mean['model_name'] = 'Régression logistique'\n",
    "    SCORES_LR.append(mean)\n",
    "SCORES_LR = pd.DataFrame(SCORES_LR)"
   ]
  },
  {
   "cell_type": "code",
   "execution_count": 15,
   "id": "d7e7a5b0",
   "metadata": {},
   "outputs": [
    {
     "name": "stdout",
     "output_type": "stream",
     "text": [
      "Export PDF : output/reduction_donnees/03.pdf\n",
      "\n"
     ]
    },
    {
     "data": {
      "image/png": "[encoded data removed]",
      "text/plain": [
       "<Figure size 432x288 with 1 Axes>"
      ]
     },
     "metadata": {
      "needs_background": "light"
     },
     "output_type": "display_data"
    }
   ],
   "source": [
    "graph(SCORES_LR)"
   ]
  },
  {
   "cell_type": "code",
   "execution_count": 16,
   "id": "759f42d8",
   "metadata": {},
   "outputs": [
    {
     "name": "stdout",
     "output_type": "stream",
     "text": [
      "Export PDF : output/reduction_donnees/04.pdf\n",
      "\n"
     ]
    },
    {
     "data": {
      "image/png": "[encoded data removed]",
      "text/plain": [
       "<Figure size 432x288 with 1 Axes>"
      ]
     },
     "metadata": {
      "needs_background": "light"
     },
     "output_type": "display_data"
    }
   ],
   "source": [
    "graph(SCORES_LR, column='training_time')"
   ]
  },
  {
   "cell_type": "code",
   "execution_count": 17,
   "id": "9c6f30b6",
   "metadata": {},
   "outputs": [
    {
     "name": "stdout",
     "output_type": "stream",
     "text": [
      "Export PDF : output/reduction_donnees/05.pdf\n",
      "\n"
     ]
    },
    {
     "data": {
      "image/png": "[encoded data removed]",
      "text/plain": [
       "<Figure size 432x288 with 1 Axes>"
      ]
     },
     "metadata": {
      "needs_background": "light"
     },
     "output_type": "display_data"
    }
   ],
   "source": [
    "graph(SCORES_LR, column='prediction_time')"
   ]
  },
  {
   "cell_type": "code",
   "execution_count": 18,
   "id": "2bf9f365",
   "metadata": {},
   "outputs": [
    {
     "name": "stdout",
     "output_type": "stream",
     "text": [
      "Export PDF : output/reduction_donnees/06.pdf\n",
      "\n"
     ]
    },
    {
     "data": {
      "image/png": "[encoded data removed]",
      "text/plain": [
       "<Figure size 432x288 with 1 Axes>"
      ]
     },
     "metadata": {
      "needs_background": "light"
     },
     "output_type": "display_data"
    }
   ],
   "source": [
    "graph_x(SCORES_LR)"
   ]
  },
  {
   "cell_type": "code",
   "execution_count": 19,
   "id": "685e51f1",
   "metadata": {},
   "outputs": [
    {
     "name": "stdout",
     "output_type": "stream",
     "text": [
      "Export PDF : output/reduction_donnees/07.pdf\n",
      "\n"
     ]
    },
    {
     "data": {
      "image/png": "[encoded data removed]",
      "text/plain": [
       "<Figure size 432x288 with 1 Axes>"
      ]
     },
     "metadata": {
      "needs_background": "light"
     },
     "output_type": "display_data"
    }
   ],
   "source": [
    "graph_x(SCORES_LR, x_column='prediction_time')"
   ]
  },
  {
   "cell_type": "markdown",
   "id": "b5b7c8cf",
   "metadata": {},
   "source": [
    "## 2. Random Forest"
   ]
  },
  {
   "cell_type": "code",
   "execution_count": 20,
   "id": "aa37966a",
   "metadata": {},
   "outputs": [],
   "source": [
    "df_train_all = pd.read_csv('data/df_train_prepro.csv').sample(frac=1, random_state=1234)\n",
    "df_test = pd.read_csv('data/df_test_prepro.csv').sample(frac=1, random_state=1234)\n",
    "datasets_df_test = datasets(df_test, columns_quant=RF_COLUMNS_QUANT, columns_cat=RF_COLUMNS_CAT, verbose=False)\n",
    "X_test = datasets_df_test['X']\n",
    "y_test = datasets_df_test['y']"
   ]
  },
  {
   "cell_type": "code",
   "execution_count": 21,
   "id": "6abb7d2d",
   "metadata": {},
   "outputs": [
    {
     "data": {
      "application/vnd.jupyter.widget-view+json": {
       "model_id": "2d20d1f37d0a4f34858c4becdb17a887",
       "version_major": 2,
       "version_minor": 0
      },
      "text/plain": [
       "data_frac loop:   0%|          | 0/15 [00:00<?, ?it/s]"
      ]
     },
     "metadata": {},
     "output_type": "display_data"
    },
    {
     "data": {
      "application/vnd.jupyter.widget-view+json": {
       "model_id": "",
       "version_major": 2,
       "version_minor": 0
      },
      "text/plain": [
       "split loop:   0%|          | 0/1995 [00:00<?, ?it/s]"
      ]
     },
     "metadata": {},
     "output_type": "display_data"
    },
    {
     "data": {
      "application/vnd.jupyter.widget-view+json": {
       "model_id": "",
       "version_major": 2,
       "version_minor": 0
      },
      "text/plain": [
       "split loop:   0%|          | 0/1159 [00:00<?, ?it/s]"
      ]
     },
     "metadata": {},
     "output_type": "display_data"
    },
    {
     "data": {
      "application/vnd.jupyter.widget-view+json": {
       "model_id": "",
       "version_major": 2,
       "version_minor": 0
      },
      "text/plain": [
       "split loop:   0%|          | 0/673 [00:00<?, ?it/s]"
      ]
     },
     "metadata": {},
     "output_type": "display_data"
    },
    {
     "data": {
      "application/vnd.jupyter.widget-view+json": {
       "model_id": "",
       "version_major": 2,
       "version_minor": 0
      },
      "text/plain": [
       "split loop:   0%|          | 0/391 [00:00<?, ?it/s]"
      ]
     },
     "metadata": {},
     "output_type": "display_data"
    },
    {
     "data": {
      "application/vnd.jupyter.widget-view+json": {
       "model_id": "",
       "version_major": 2,
       "version_minor": 0
      },
      "text/plain": [
       "split loop:   0%|          | 0/227 [00:00<?, ?it/s]"
      ]
     },
     "metadata": {},
     "output_type": "display_data"
    },
    {
     "data": {
      "application/vnd.jupyter.widget-view+json": {
       "model_id": "",
       "version_major": 2,
       "version_minor": 0
      },
      "text/plain": [
       "split loop:   0%|          | 0/132 [00:00<?, ?it/s]"
      ]
     },
     "metadata": {},
     "output_type": "display_data"
    },
    {
     "data": {
      "application/vnd.jupyter.widget-view+json": {
       "model_id": "",
       "version_major": 2,
       "version_minor": 0
      },
      "text/plain": [
       "split loop:   0%|          | 0/76 [00:00<?, ?it/s]"
      ]
     },
     "metadata": {},
     "output_type": "display_data"
    },
    {
     "data": {
      "application/vnd.jupyter.widget-view+json": {
       "model_id": "",
       "version_major": 2,
       "version_minor": 0
      },
      "text/plain": [
       "split loop:   0%|          | 0/44 [00:00<?, ?it/s]"
      ]
     },
     "metadata": {},
     "output_type": "display_data"
    },
    {
     "data": {
      "application/vnd.jupyter.widget-view+json": {
       "model_id": "",
       "version_major": 2,
       "version_minor": 0
      },
      "text/plain": [
       "split loop:   0%|          | 0/25 [00:00<?, ?it/s]"
      ]
     },
     "metadata": {},
     "output_type": "display_data"
    },
    {
     "data": {
      "application/vnd.jupyter.widget-view+json": {
       "model_id": "",
       "version_major": 2,
       "version_minor": 0
      },
      "text/plain": [
       "split loop:   0%|          | 0/15 [00:00<?, ?it/s]"
      ]
     },
     "metadata": {},
     "output_type": "display_data"
    },
    {
     "data": {
      "application/vnd.jupyter.widget-view+json": {
       "model_id": "",
       "version_major": 2,
       "version_minor": 0
      },
      "text/plain": [
       "split loop:   0%|          | 0/8 [00:00<?, ?it/s]"
      ]
     },
     "metadata": {},
     "output_type": "display_data"
    },
    {
     "data": {
      "application/vnd.jupyter.widget-view+json": {
       "model_id": "",
       "version_major": 2,
       "version_minor": 0
      },
      "text/plain": [
       "split loop:   0%|          | 0/5 [00:00<?, ?it/s]"
      ]
     },
     "metadata": {},
     "output_type": "display_data"
    },
    {
     "data": {
      "application/vnd.jupyter.widget-view+json": {
       "model_id": "",
       "version_major": 2,
       "version_minor": 0
      },
      "text/plain": [
       "split loop:   0%|          | 0/2 [00:00<?, ?it/s]"
      ]
     },
     "metadata": {},
     "output_type": "display_data"
    },
    {
     "data": {
      "application/vnd.jupyter.widget-view+json": {
       "model_id": "",
       "version_major": 2,
       "version_minor": 0
      },
      "text/plain": [
       "split loop:   0%|          | 0/1 [00:00<?, ?it/s]"
      ]
     },
     "metadata": {},
     "output_type": "display_data"
    },
    {
     "data": {
      "application/vnd.jupyter.widget-view+json": {
       "model_id": "",
       "version_major": 2,
       "version_minor": 0
      },
      "text/plain": [
       "split loop:   0%|          | 0/1 [00:00<?, ?it/s]"
      ]
     },
     "metadata": {},
     "output_type": "display_data"
    },
    {
     "name": "stdout",
     "output_type": "stream",
     "text": [
      "CPU times: user 2d 17h 17min, sys: 1h 7min 8s, total: 2d 18h 24min 9s\n",
      "Wall time: 5h 2min 46s\n"
     ]
    }
   ],
   "source": [
    "%%time\n",
    "SCORES_RF = []\n",
    "for data_frac in tqdm(data_frac_list, desc=\"data_frac loop\"):\n",
    "    nb_blocs = int(1/data_frac)\n",
    "    df_train_list = np.array_split(df_train_all, nb_blocs)\n",
    "    scores_frac = []\n",
    "    for df_train in tqdm(df_train_list, desc=\"split loop\", leave=False):\n",
    "        datasets_df_train = datasets(df_train, columns_quant=RF_COLUMNS_QUANT, columns_cat=RF_COLUMNS_CAT, verbose=False)\n",
    "        X_train = datasets_df_train['X']\n",
    "        y_train = datasets_df_train['y']    \n",
    "\n",
    "        m = Modelisation(X_train, y_train, RandomForestClassifier(**RF_PARAMS), X_test=X_test, y_test=y_test, seuil=SEUILS['Forest'])\n",
    "\n",
    "        metrics = m.metrics_score\n",
    "        metrics['data_frac'] = data_frac\n",
    "        metrics['training_time'] = m.training_time\n",
    "        metrics['prediction_time'] = m.prediction_time\n",
    "        scores_frac.append(metrics)\n",
    "    scores_frac = pd.DataFrame(scores_frac)\n",
    "    mean = scores_frac.mean()\n",
    "    mean['model_name'] = 'Random Forest'\n",
    "    SCORES_RF.append(mean)\n",
    "SCORES_RF = pd.DataFrame(SCORES_RF)"
   ]
  },
  {
   "cell_type": "code",
   "execution_count": 22,
   "id": "74f333ee",
   "metadata": {},
   "outputs": [
    {
     "name": "stdout",
     "output_type": "stream",
     "text": [
      "Export PDF : output/reduction_donnees/08.pdf\n",
      "\n"
     ]
    },
    {
     "data": {
      "image/png": "[encoded data removed]",
      "text/plain": [
       "<Figure size 432x288 with 1 Axes>"
      ]
     },
     "metadata": {
      "needs_background": "light"
     },
     "output_type": "display_data"
    }
   ],
   "source": [
    "graph(SCORES_RF)"
   ]
  },
  {
   "cell_type": "code",
   "execution_count": 23,
   "id": "137b7083",
   "metadata": {},
   "outputs": [
    {
     "name": "stdout",
     "output_type": "stream",
     "text": [
      "Export PDF : output/reduction_donnees/09.pdf\n",
      "\n"
     ]
    },
    {
     "data": {
      "image/png": "[encoded data removed]",
      "text/plain": [
       "<Figure size 432x288 with 1 Axes>"
      ]
     },
     "metadata": {
      "needs_background": "light"
     },
     "output_type": "display_data"
    }
   ],
   "source": [
    "graph(SCORES_RF, column='training_time')"
   ]
  },
  {
   "cell_type": "code",
   "execution_count": 24,
   "id": "dca53dbb",
   "metadata": {},
   "outputs": [
    {
     "name": "stdout",
     "output_type": "stream",
     "text": [
      "Export PDF : output/reduction_donnees/10.pdf\n",
      "\n"
     ]
    },
    {
     "data": {
      "image/png": "[encoded data removed]",
      "text/plain": [
       "<Figure size 432x288 with 1 Axes>"
      ]
     },
     "metadata": {
      "needs_background": "light"
     },
     "output_type": "display_data"
    }
   ],
   "source": [
    "graph(SCORES_RF, column='prediction_time')"
   ]
  },
  {
   "cell_type": "code",
   "execution_count": 25,
   "id": "0d5595d3",
   "metadata": {},
   "outputs": [
    {
     "name": "stdout",
     "output_type": "stream",
     "text": [
      "Export PDF : output/reduction_donnees/11.pdf\n",
      "\n"
     ]
    },
    {
     "data": {
      "image/png": "[encoded data removed]",
      "text/plain": [
       "<Figure size 432x288 with 1 Axes>"
      ]
     },
     "metadata": {
      "needs_background": "light"
     },
     "output_type": "display_data"
    }
   ],
   "source": [
    "graph_x(SCORES_RF)"
   ]
  },
  {
   "cell_type": "code",
   "execution_count": 26,
   "id": "bd7f8009",
   "metadata": {},
   "outputs": [
    {
     "name": "stdout",
     "output_type": "stream",
     "text": [
      "Export PDF : output/reduction_donnees/12.pdf\n",
      "\n"
     ]
    },
    {
     "data": {
      "image/png": "[encoded data removed]",
      "text/plain": [
       "<Figure size 432x288 with 1 Axes>"
      ]
     },
     "metadata": {
      "needs_background": "light"
     },
     "output_type": "display_data"
    }
   ],
   "source": [
    "graph_x(SCORES_RF, x_column='prediction_time')"
   ]
  },
  {
   "cell_type": "markdown",
   "id": "fc1740d3",
   "metadata": {},
   "source": [
    "## 3. XGBoost"
   ]
  },
  {
   "cell_type": "code",
   "execution_count": 27,
   "id": "3d7d0864",
   "metadata": {},
   "outputs": [],
   "source": [
    "df_train_all = pd.read_csv('data/df_train_prepro.csv').sample(frac=1, random_state=1234)\n",
    "df_test = pd.read_csv('data/df_test_prepro.csv').sample(frac=1, random_state=1234)\n",
    "datasets_df_test = datasets(df_test, columns_quant=XGB_COLUMNS_QUANT, columns_cat=XGB_COLUMNS_CAT, verbose=False)\n",
    "X_test = datasets_df_test['X']\n",
    "y_test = datasets_df_test['y']"
   ]
  },
  {
   "cell_type": "code",
   "execution_count": 28,
   "id": "15ca4310",
   "metadata": {},
   "outputs": [
    {
     "data": {
      "application/vnd.jupyter.widget-view+json": {
       "model_id": "ac783a7fe3f14e88b02921aaecc4f0c8",
       "version_major": 2,
       "version_minor": 0
      },
      "text/plain": [
       "data_frac loop:   0%|          | 0/15 [00:00<?, ?it/s]"
      ]
     },
     "metadata": {},
     "output_type": "display_data"
    },
    {
     "data": {
      "application/vnd.jupyter.widget-view+json": {
       "model_id": "",
       "version_major": 2,
       "version_minor": 0
      },
      "text/plain": [
       "split loop:   0%|          | 0/1995 [00:00<?, ?it/s]"
      ]
     },
     "metadata": {},
     "output_type": "display_data"
    },
    {
     "data": {
      "application/vnd.jupyter.widget-view+json": {
       "model_id": "",
       "version_major": 2,
       "version_minor": 0
      },
      "text/plain": [
       "split loop:   0%|          | 0/1159 [00:00<?, ?it/s]"
      ]
     },
     "metadata": {},
     "output_type": "display_data"
    },
    {
     "data": {
      "application/vnd.jupyter.widget-view+json": {
       "model_id": "",
       "version_major": 2,
       "version_minor": 0
      },
      "text/plain": [
       "split loop:   0%|          | 0/673 [00:00<?, ?it/s]"
      ]
     },
     "metadata": {},
     "output_type": "display_data"
    },
    {
     "data": {
      "application/vnd.jupyter.widget-view+json": {
       "model_id": "",
       "version_major": 2,
       "version_minor": 0
      },
      "text/plain": [
       "split loop:   0%|          | 0/391 [00:00<?, ?it/s]"
      ]
     },
     "metadata": {},
     "output_type": "display_data"
    },
    {
     "data": {
      "application/vnd.jupyter.widget-view+json": {
       "model_id": "",
       "version_major": 2,
       "version_minor": 0
      },
      "text/plain": [
       "split loop:   0%|          | 0/227 [00:00<?, ?it/s]"
      ]
     },
     "metadata": {},
     "output_type": "display_data"
    },
    {
     "data": {
      "application/vnd.jupyter.widget-view+json": {
       "model_id": "",
       "version_major": 2,
       "version_minor": 0
      },
      "text/plain": [
       "split loop:   0%|          | 0/132 [00:00<?, ?it/s]"
      ]
     },
     "metadata": {},
     "output_type": "display_data"
    },
    {
     "data": {
      "application/vnd.jupyter.widget-view+json": {
       "model_id": "",
       "version_major": 2,
       "version_minor": 0
      },
      "text/plain": [
       "split loop:   0%|          | 0/76 [00:00<?, ?it/s]"
      ]
     },
     "metadata": {},
     "output_type": "display_data"
    },
    {
     "data": {
      "application/vnd.jupyter.widget-view+json": {
       "model_id": "",
       "version_major": 2,
       "version_minor": 0
      },
      "text/plain": [
       "split loop:   0%|          | 0/44 [00:00<?, ?it/s]"
      ]
     },
     "metadata": {},
     "output_type": "display_data"
    },
    {
     "data": {
      "application/vnd.jupyter.widget-view+json": {
       "model_id": "",
       "version_major": 2,
       "version_minor": 0
      },
      "text/plain": [
       "split loop:   0%|          | 0/25 [00:00<?, ?it/s]"
      ]
     },
     "metadata": {},
     "output_type": "display_data"
    },
    {
     "data": {
      "application/vnd.jupyter.widget-view+json": {
       "model_id": "",
       "version_major": 2,
       "version_minor": 0
      },
      "text/plain": [
       "split loop:   0%|          | 0/15 [00:00<?, ?it/s]"
      ]
     },
     "metadata": {},
     "output_type": "display_data"
    },
    {
     "data": {
      "application/vnd.jupyter.widget-view+json": {
       "model_id": "",
       "version_major": 2,
       "version_minor": 0
      },
      "text/plain": [
       "split loop:   0%|          | 0/8 [00:00<?, ?it/s]"
      ]
     },
     "metadata": {},
     "output_type": "display_data"
    },
    {
     "data": {
      "application/vnd.jupyter.widget-view+json": {
       "model_id": "",
       "version_major": 2,
       "version_minor": 0
      },
      "text/plain": [
       "split loop:   0%|          | 0/5 [00:00<?, ?it/s]"
      ]
     },
     "metadata": {},
     "output_type": "display_data"
    },
    {
     "data": {
      "application/vnd.jupyter.widget-view+json": {
       "model_id": "",
       "version_major": 2,
       "version_minor": 0
      },
      "text/plain": [
       "split loop:   0%|          | 0/2 [00:00<?, ?it/s]"
      ]
     },
     "metadata": {},
     "output_type": "display_data"
    },
    {
     "data": {
      "application/vnd.jupyter.widget-view+json": {
       "model_id": "",
       "version_major": 2,
       "version_minor": 0
      },
      "text/plain": [
       "split loop:   0%|          | 0/1 [00:00<?, ?it/s]"
      ]
     },
     "metadata": {},
     "output_type": "display_data"
    },
    {
     "data": {
      "application/vnd.jupyter.widget-view+json": {
       "model_id": "",
       "version_major": 2,
       "version_minor": 0
      },
      "text/plain": [
       "split loop:   0%|          | 0/1 [00:00<?, ?it/s]"
      ]
     },
     "metadata": {},
     "output_type": "display_data"
    },
    {
     "name": "stdout",
     "output_type": "stream",
     "text": [
      "CPU times: user 2d 3h 43min 52s, sys: 5min 47s, total: 2d 3h 49min 40s\n",
      "Wall time: 1h 51min 40s\n"
     ]
    }
   ],
   "source": [
    "%%time\n",
    "SCORES_XGB = []\n",
    "for data_frac in tqdm(data_frac_list, desc=\"data_frac loop\"):\n",
    "    nb_blocs = int(1/data_frac)\n",
    "    df_train_list = np.array_split(df_train_all, nb_blocs)\n",
    "    scores_frac = []\n",
    "    for df_train in tqdm(df_train_list, desc=\"split loop\", leave=False):\n",
    "        datasets_df_train = datasets(df_train, columns_quant=XGB_COLUMNS_QUANT, columns_cat=XGB_COLUMNS_CAT, verbose=False)\n",
    "        X_train = datasets_df_train['X']\n",
    "        y_train = datasets_df_train['y']    \n",
    "\n",
    "        m = Modelisation(X_train, y_train, XGBClassifier(**XGB_PARAMS), X_test=X_test, y_test=y_test, seuil=SEUILS['XGBoost'])\n",
    "\n",
    "        metrics = m.metrics_score\n",
    "        metrics['data_frac'] = data_frac\n",
    "        metrics['training_time'] = m.training_time\n",
    "        metrics['prediction_time'] = m.prediction_time\n",
    "        scores_frac.append(metrics)\n",
    "    scores_frac = pd.DataFrame(scores_frac)\n",
    "    mean = scores_frac.mean()\n",
    "    mean['model_name'] = 'XGBoost'\n",
    "    SCORES_XGB.append(mean)\n",
    "SCORES_XGB = pd.DataFrame(SCORES_XGB)"
   ]
  },
  {
   "cell_type": "code",
   "execution_count": 29,
   "id": "2f93be70",
   "metadata": {},
   "outputs": [
    {
     "name": "stdout",
     "output_type": "stream",
     "text": [
      "Export PDF : output/reduction_donnees/13.pdf\n",
      "\n"
     ]
    },
    {
     "data": {
      "image/png": "[encoded data removed]",
      "text/plain": [
       "<Figure size 432x288 with 1 Axes>"
      ]
     },
     "metadata": {
      "needs_background": "light"
     },
     "output_type": "display_data"
    }
   ],
   "source": [
    "graph(SCORES_XGB)"
   ]
  },
  {
   "cell_type": "code",
   "execution_count": 30,
   "id": "93aeee61",
   "metadata": {},
   "outputs": [
    {
     "name": "stdout",
     "output_type": "stream",
     "text": [
      "Export PDF : output/reduction_donnees/14.pdf\n",
      "\n"
     ]
    },
    {
     "data": {
      "image/png": "[encoded data removed]",
      "text/plain": [
       "<Figure size 432x288 with 1 Axes>"
      ]
     },
     "metadata": {
      "needs_background": "light"
     },
     "output_type": "display_data"
    }
   ],
   "source": [
    "graph(SCORES_XGB, column='training_time')"
   ]
  },
  {
   "cell_type": "code",
   "execution_count": 31,
   "id": "3f0ca033",
   "metadata": {},
   "outputs": [
    {
     "name": "stdout",
     "output_type": "stream",
     "text": [
      "Export PDF : output/reduction_donnees/15.pdf\n",
      "\n"
     ]
    },
    {
     "data": {
      "image/png": "[encoded data removed]",
      "text/plain": [
       "<Figure size 432x288 with 1 Axes>"
      ]
     },
     "metadata": {
      "needs_background": "light"
     },
     "output_type": "display_data"
    }
   ],
   "source": [
    "graph(SCORES_XGB, column='prediction_time')"
   ]
  },
  {
   "cell_type": "code",
   "execution_count": 32,
   "id": "d3d38129",
   "metadata": {},
   "outputs": [
    {
     "name": "stdout",
     "output_type": "stream",
     "text": [
      "Export PDF : output/reduction_donnees/16.pdf\n",
      "\n"
     ]
    },
    {
     "data": {
      "image/png": "[encoded data removed]",
      "text/plain": [
       "<Figure size 432x288 with 1 Axes>"
      ]
     },
     "metadata": {
      "needs_background": "light"
     },
     "output_type": "display_data"
    }
   ],
   "source": [
    "graph_x(SCORES_XGB)"
   ]
  },
  {
   "cell_type": "code",
   "execution_count": 33,
   "id": "12c7c834",
   "metadata": {},
   "outputs": [
    {
     "name": "stdout",
     "output_type": "stream",
     "text": [
      "Export PDF : output/reduction_donnees/17.pdf\n",
      "\n"
     ]
    },
    {
     "data": {
      "image/png": "[encoded data removed]",
      "text/plain": [
       "<Figure size 432x288 with 1 Axes>"
      ]
     },
     "metadata": {
      "needs_background": "light"
     },
     "output_type": "display_data"
    }
   ],
   "source": [
    "graph_x(SCORES_XGB, x_column='prediction_time')"
   ]
  },
  {
   "cell_type": "markdown",
   "id": "48f8f8af",
   "metadata": {},
   "source": [
    "## 4. Comparaison"
   ]
  },
  {
   "cell_type": "code",
   "execution_count": 34,
   "id": "dffdb652",
   "metadata": {},
   "outputs": [],
   "source": [
    "df_concat = pd.concat([SCORES_LR, SCORES_RF, SCORES_XGB])"
   ]
  },
  {
   "cell_type": "code",
   "execution_count": 35,
   "id": "598e7b72",
   "metadata": {},
   "outputs": [
    {
     "name": "stdout",
     "output_type": "stream",
     "text": [
      "Export PDF : output/reduction_donnees/18.pdf\n",
      "\n"
     ]
    },
    {
     "data": {
      "image/png": "[encoded data removed]",
      "text/plain": [
       "<Figure size 432x288 with 1 Axes>"
      ]
     },
     "metadata": {
      "needs_background": "light"
     },
     "output_type": "display_data"
    }
   ],
   "source": [
    "graph(df_concat)"
   ]
  },
  {
   "cell_type": "code",
   "execution_count": 36,
   "id": "e503734b",
   "metadata": {},
   "outputs": [
    {
     "name": "stdout",
     "output_type": "stream",
     "text": [
      "Export PDF : output/reduction_donnees/19.pdf\n",
      "\n"
     ]
    },
    {
     "data": {
      "image/png": "[encoded data removed]",
      "text/plain": [
       "<Figure size 432x288 with 1 Axes>"
      ]
     },
     "metadata": {
      "needs_background": "light"
     },
     "output_type": "display_data"
    }
   ],
   "source": [
    "graph_x(df_concat)"
   ]
  },
  {
   "cell_type": "code",
   "execution_count": 37,
   "id": "0c6c43d5",
   "metadata": {},
   "outputs": [
    {
     "name": "stdout",
     "output_type": "stream",
     "text": [
      "Export PDF : output/reduction_donnees/20.pdf\n",
      "\n"
     ]
    },
    {
     "data": {
      "image/png": "[encoded data removed]",
      "text/plain": [
       "<Figure size 432x288 with 1 Axes>"
      ]
     },
     "metadata": {
      "needs_background": "light"
     },
     "output_type": "display_data"
    }
   ],
   "source": [
    "graph_x(df_concat, x_column='prediction_time')"
   ]
  },
  {
   "cell_type": "code",
   "execution_count": 38,
   "id": "fa8eb59c",
   "metadata": {},
   "outputs": [],
   "source": [
    "df_concat.to_csv('backups/SCORES_reduction_donnees.csv')"
   ]
  },
  {
   "cell_type": "code",
   "execution_count": 39,
   "id": "83c90eb6",
   "metadata": {},
   "outputs": [
    {
     "name": "stdout",
     "output_type": "stream",
     "text": [
      "Durée totale d'exécution : 07:53:26\n"
     ]
    }
   ],
   "source": [
    "print(f\"Durée totale d'exécution : {time.strftime('%H:%M:%S', time.gmtime(time.time() - t))}\")"
   ]
  }
 ],
 "metadata": {
  "kernelspec": {
   "display_name": "Python 3",
   "language": "python",
   "name": "python3"
  },
  "language_info": {
   "codemirror_mode": {
    "name": "ipython",
    "version": 3
   },
   "file_extension": ".py",
   "mimetype": "text/x-python",
   "name": "python",
   "nbconvert_exporter": "python",
   "pygments_lexer": "ipython3",
   "version": "3.8.8"
  }
 },
 "nbformat": 4,
 "nbformat_minor": 5
}
