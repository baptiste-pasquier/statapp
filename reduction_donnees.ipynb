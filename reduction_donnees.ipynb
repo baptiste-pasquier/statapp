{
 "cells": [
  {
   "cell_type": "markdown",
   "id": "registered-basics",
   "metadata": {},
   "source": [
    "# Étude de l'impact de la réduction des données"
   ]
  },
  {
   "cell_type": "code",
   "execution_count": 1,
   "id": "imperial-scotland",
   "metadata": {},
   "outputs": [],
   "source": [
    "import time\n",
    "\n",
    "\n",
    "import matplotlib.pyplot as plt\n",
    "import numpy as np\n",
    "import pandas as pd\n",
    "from sklearn.linear_model import LogisticRegression\n",
    "from sklearn.ensemble import RandomForestClassifier\n",
    "from xgboost import XGBClassifier\n",
    "from sklearn.metrics import recall_score, precision_score, confusion_matrix, ConfusionMatrixDisplay, roc_curve, roc_auc_score\n",
    "from tqdm.notebook import trange, tqdm\n",
    "\n",
    "from tools import Modelisation, datasets, convert_keys_to_int\n",
    "\n",
    "\n",
    "t = time.time()"
   ]
  },
  {
   "cell_type": "code",
   "execution_count": 2,
   "id": "subject-visiting",
   "metadata": {},
   "outputs": [],
   "source": [
    "best_LR = \"LR_RFECV\"\n",
    "best_Forest = \"Forest_RFECV\"\n",
    "best_XGBoost = \"XGBoost_RFECV\""
   ]
  },
  {
   "cell_type": "code",
   "execution_count": 3,
   "id": "convenient-panel",
   "metadata": {},
   "outputs": [
    {
     "name": "stdout",
     "output_type": "stream",
     "text": [
      "Variables explicatives régression logistique (11) :\n"
     ]
    },
    {
     "data": {
      "text/plain": [
       "['campaignctrlast24h',\n",
       " 'display_size',\n",
       " 'nbdayssincelastclick',\n",
       " 'nbdisplay_1hour',\n",
       " 'zonecostineuro',\n",
       " 'campaignscenario_13',\n",
       " 'device_type_Desktop',\n",
       " 'device_type_iPhone',\n",
       " 'display_env_app_ios',\n",
       " 'is_interstitial_True',\n",
       " 'target_env_2']"
      ]
     },
     "metadata": {},
     "output_type": "display_data"
    },
    {
     "name": "stdout",
     "output_type": "stream",
     "text": [
      "Meilleurs paramètres régression logistique (2) :\n"
     ]
    },
    {
     "data": {
      "text/plain": [
       "{'C': 7.880462815669905, 'class_weight': {0: 1, 1: 20}}"
      ]
     },
     "metadata": {},
     "output_type": "display_data"
    },
    {
     "name": "stdout",
     "output_type": "stream",
     "text": [
      "Variables explicatives forêt aléatoires (9) :\n"
     ]
    },
    {
     "data": {
      "text/plain": [
       "['campaignctrlast24h',\n",
       " 'contextid',\n",
       " 'dayssincelastvisitdouble',\n",
       " 'display_size',\n",
       " 'nbdayssincelastclick',\n",
       " 'nbdisplay_1hour',\n",
       " 'nbdisplayglobalapprox_1d_sum_xdevice',\n",
       " 'zonecostineuro',\n",
       " 'is_interstitial_True']"
      ]
     },
     "metadata": {},
     "output_type": "display_data"
    },
    {
     "name": "stdout",
     "output_type": "stream",
     "text": [
      "Meilleurs paramètres forêt aléatoires (8) :\n"
     ]
    },
    {
     "data": {
      "text/plain": [
       "{'n_estimators': 400,\n",
       " 'min_samples_split': 10,\n",
       " 'min_samples_leaf': 4,\n",
       " 'max_features': 'sqrt',\n",
       " 'max_depth': 10,\n",
       " 'class_weight': {0: 1, 1: 32},\n",
       " 'bootstrap': False,\n",
       " 'n_jobs': -1}"
      ]
     },
     "metadata": {},
     "output_type": "display_data"
    },
    {
     "name": "stdout",
     "output_type": "stream",
     "text": [
      "Variables explicatives XGBoost (9) :\n"
     ]
    },
    {
     "data": {
      "text/plain": [
       "['campaignctrlast24h',\n",
       " 'contextid',\n",
       " 'nbdayssincelastclick',\n",
       " 'nbdisplay_1hour',\n",
       " 'zonecostineuro',\n",
       " 'device_type_Android',\n",
       " 'device_type_Desktop',\n",
       " 'device_type_iPad',\n",
       " 'is_interstitial_True']"
      ]
     },
     "metadata": {},
     "output_type": "display_data"
    },
    {
     "name": "stdout",
     "output_type": "stream",
     "text": [
      "Meilleurs paramètres XGBoost (11) :\n"
     ]
    },
    {
     "data": {
      "text/plain": [
       "{'subsample': 1.0,\n",
       " 'scale_pos_weight': 16.5,\n",
       " 'n_estimators': 100,\n",
       " 'min_child_weight': 3,\n",
       " 'max_depth': 2,\n",
       " 'learning_rate': 0.1,\n",
       " 'gamma': 1.5,\n",
       " 'colsample_bytree': 0.6,\n",
       " 'booster': 'gbtree',\n",
       " 'objective': 'binary:logistic',\n",
       " 'n_jobs': -1}"
      ]
     },
     "metadata": {},
     "output_type": "display_data"
    },
    {
     "name": "stdout",
     "output_type": "stream",
     "text": [
      "Seuils ajustés :\n"
     ]
    },
    {
     "data": {
      "text/plain": [
       "{'LR': 0.4898437499999999,\n",
       " 'Forest': 0.6426757812500004,\n",
       " 'XGBoost': 0.4701171874999999}"
      ]
     },
     "metadata": {},
     "output_type": "display_data"
    }
   ],
   "source": [
    "import json\n",
    "\n",
    "# Régression logistique\n",
    "with open('backups/RFECV_LR.json') as column_file:\n",
    "    LR_COLUMNS = json.load(column_file)\n",
    "    LR_COLUMNS_QUANT = LR_COLUMNS['columns_quant']\n",
    "    LR_COLUMNS_CAT = LR_COLUMNS['columns_cat']\n",
    "    LR_COLUMNS = LR_COLUMNS_QUANT + LR_COLUMNS_CAT\n",
    "\n",
    "with open('backups/PARAMS_LR.json') as param_file:\n",
    "    LR_PARAMS = json.load(param_file)[best_LR]\n",
    "    LR_PARAMS = convert_keys_to_int(LR_PARAMS)\n",
    "\n",
    "print(f'Variables explicatives régression logistique ({len(LR_COLUMNS)}) :')\n",
    "display(LR_COLUMNS)\n",
    "\n",
    "print(f'Meilleurs paramètres régression logistique ({len(LR_PARAMS)}) :')\n",
    "display(LR_PARAMS)\n",
    "\n",
    "# Forêt aléatoires\n",
    "with open('backups/RFECV_Forest.json') as column_file:\n",
    "    F_COLUMNS = json.load(column_file)\n",
    "    F_COLUMNS_QUANT = F_COLUMNS['columns_quant']\n",
    "    F_COLUMNS_CAT = F_COLUMNS['columns_cat']\n",
    "    F_COLUMNS = F_COLUMNS_QUANT + F_COLUMNS_CAT\n",
    "\n",
    "with open('backups/PARAMS_Forest.json') as param_file:\n",
    "    F_PARAMS = json.load(param_file)[best_Forest]\n",
    "    F_PARAMS = convert_keys_to_int(F_PARAMS)\n",
    "\n",
    "print(f'Variables explicatives forêt aléatoires ({len(F_COLUMNS)}) :')\n",
    "display(F_COLUMNS)\n",
    "\n",
    "print(f'Meilleurs paramètres forêt aléatoires ({len(F_PARAMS)}) :')\n",
    "F_PARAMS['class_weight'] = {int(k): v for k,v in F_PARAMS['class_weight'].items()}\n",
    "display(F_PARAMS)\n",
    "\n",
    "# XGBoost\n",
    "with open('backups/RFECV_XGBoost.json') as column_file:\n",
    "    XG_COLUMNS = json.load(column_file)\n",
    "    XG_COLUMNS_QUANT = XG_COLUMNS['columns_quant']\n",
    "    XG_COLUMNS_CAT = XG_COLUMNS['columns_cat']\n",
    "    XG_COLUMNS = XG_COLUMNS_QUANT + XG_COLUMNS_CAT\n",
    "\n",
    "with open('backups/PARAMS_XGBoost.json') as param_file:\n",
    "    XG_PARAMS = json.load(param_file)[best_XGBoost]\n",
    "    XG_PARAMS = convert_keys_to_int(XG_PARAMS)\n",
    "\n",
    "print(f'Variables explicatives XGBoost ({len(XG_COLUMNS)}) :')\n",
    "display(XG_COLUMNS)\n",
    "\n",
    "print(f'Meilleurs paramètres XGBoost ({len(XG_PARAMS)}) :')\n",
    "display(XG_PARAMS)\n",
    "\n",
    "# Seuils ajustés\n",
    "with open('backups/THRESHOLD.json') as threshold_file:\n",
    "    SEUILS = json.load(threshold_file)\n",
    "\n",
    "print(\"Seuils ajustés :\")\n",
    "display(SEUILS)"
   ]
  },
  {
   "cell_type": "code",
   "execution_count": 4,
   "id": "english-chess",
   "metadata": {},
   "outputs": [
    {
     "name": "stdout",
     "output_type": "stream",
     "text": [
      "Minimum : 0.100%\n",
      "2ème : 0.215%\n"
     ]
    },
    {
     "data": {
      "text/plain": [
       "array([0.001     , 0.00215443, 0.00464159, 0.01      , 0.02154435,\n",
       "       0.04641589, 0.1       , 0.21544347, 0.46415888, 1.        ])"
      ]
     },
     "execution_count": 4,
     "metadata": {},
     "output_type": "execute_result"
    }
   ],
   "source": [
    "data_frac_list = np.logspace(-3, 0, 10)\n",
    "print(f\"Minimum : {data_frac_list[0]*100:.3f}%\")\n",
    "print(f\"2ème : {data_frac_list[1]*100:.3f}%\")\n",
    "data_frac_list"
   ]
  },
  {
   "cell_type": "code",
   "execution_count": 5,
   "id": "understood-announcement",
   "metadata": {},
   "outputs": [
    {
     "data": {
      "image/png": "[encoded data removed]",
      "text/plain": [
       "<Figure size 432x288 with 1 Axes>"
      ]
     },
     "metadata": {
      "needs_background": "light"
     },
     "output_type": "display_data"
    }
   ],
   "source": [
    "plt.plot(100*data_frac_list, marker='o')\n",
    "plt.title(\"Pourcentages de données\")\n",
    "plt.show()"
   ]
  },
  {
   "cell_type": "code",
   "execution_count": 6,
   "id": "spare-links",
   "metadata": {},
   "outputs": [
    {
     "data": {
      "image/png": "[encoded data removed]",
      "text/plain": [
       "<Figure size 432x288 with 1 Axes>"
      ]
     },
     "metadata": {
      "needs_background": "light"
     },
     "output_type": "display_data"
    }
   ],
   "source": [
    "plt.plot([int(1/elem) for elem in data_frac_list], marker='o')\n",
    "plt.title(\"Nombres de blocs\")\n",
    "plt.show()"
   ]
  },
  {
   "cell_type": "markdown",
   "id": "increasing-nation",
   "metadata": {},
   "source": [
    "## Régression logistique"
   ]
  },
  {
   "cell_type": "code",
   "execution_count": 7,
   "id": "velvet-relay",
   "metadata": {},
   "outputs": [],
   "source": [
    "df_train_all = pd.read_csv('data/df_train_prepro.csv').sample(frac=1, random_state=1234)\n",
    "df_test = pd.read_csv('data/df_test_prepro.csv').sample(frac=1, random_state=1234)\n",
    "datasets_df_test = datasets(df_test, columns_quant=LR_COLUMNS_QUANT, columns_cat=LR_COLUMNS_CAT, drop='first', verbose=False)\n",
    "X_test = datasets_df_test['X_only_quant_scaled']\n",
    "y_test = datasets_df_test['y']"
   ]
  },
  {
   "cell_type": "markdown",
   "id": "assisted-duplicate",
   "metadata": {},
   "source": [
    "**Première idée non robuste avec un seul calcul pour chaque pourcentage**"
   ]
  },
  {
   "cell_type": "code",
   "execution_count": 8,
   "id": "tough-farmer",
   "metadata": {},
   "outputs": [
    {
     "data": {
      "application/vnd.jupyter.widget-view+json": {
       "model_id": "19f05814c95c4616b05f1621391d80f5",
       "version_major": 2,
       "version_minor": 0
      },
      "text/plain": [
       "  0%|          | 0/10 [00:00<?, ?it/s]"
      ]
     },
     "metadata": {},
     "output_type": "display_data"
    },
    {
     "name": "stdout",
     "output_type": "stream",
     "text": [
      "Wall time: 22.4 s\n"
     ]
    }
   ],
   "source": [
    "%%time\n",
    "SCORES_LR = []\n",
    "for data_frac in tqdm(data_frac_list):\n",
    "    df_train = df_train_all.sample(frac=data_frac, random_state=1234)\n",
    "    datasets_df_train = datasets(df_train, columns_quant=LR_COLUMNS_QUANT, columns_cat=LR_COLUMNS_CAT, drop='first', verbose=False)\n",
    "    X_train = datasets_df_train['X_only_quant_scaled']\n",
    "    y_train = datasets_df_train['y']\n",
    "    \n",
    "    m = Modelisation(X_train, y_train, LogisticRegression(**LR_PARAMS), X_test=X_test, y_test=y_test)\n",
    "#     m = Modelisation(X_train, y_train, LogisticRegression(**LR_PARAMS), X_test=X_test, y_test=y_test, seuil=SEUILS['LR'])\n",
    "\n",
    "    metrics = m.metrics_score\n",
    "    metrics['model_name'] = 'Régression logistique'\n",
    "    metrics['data_frac'] = data_frac\n",
    "    metrics['training_time'] = m.training_time\n",
    "    metrics['prediction_time'] = m.prediction_time\n",
    "    SCORES_LR.append(metrics)\n",
    "SCORES_LR = pd.DataFrame(SCORES_LR)"
   ]
  },
  {
   "cell_type": "code",
   "execution_count": 9,
   "id": "respiratory-intensity",
   "metadata": {},
   "outputs": [],
   "source": [
    "def graph(scores, column='f3'):\n",
    "    fig, ax = plt.subplots()\n",
    "    for model_name in scores['model_name'].unique():\n",
    "        scores_model = scores[scores.model_name == model_name]    \n",
    "        ax.plot(100*scores_model['data_frac'], scores_model[column], label=model_name, marker='o')\n",
    "    ax.set_xscale('log')\n",
    "    ax.set_xlabel(\"Pourcentage de données\")\n",
    "    ax.set_ylabel(column)\n",
    "    ax.legend()\n",
    "#     pdf.export()\n",
    "    plt.show()"
   ]
  },
  {
   "cell_type": "code",
   "execution_count": 10,
   "id": "intensive-money",
   "metadata": {},
   "outputs": [
    {
     "data": {
      "image/png": "[encoded data removed]",
      "text/plain": [
       "<Figure size 432x288 with 1 Axes>"
      ]
     },
     "metadata": {
      "needs_background": "light"
     },
     "output_type": "display_data"
    }
   ],
   "source": [
    "graph(SCORES_LR)"
   ]
  },
  {
   "cell_type": "code",
   "execution_count": 11,
   "id": "meaningful-assessment",
   "metadata": {},
   "outputs": [
    {
     "data": {
      "image/png": "[encoded data removed]",
      "text/plain": [
       "<Figure size 432x288 with 1 Axes>"
      ]
     },
     "metadata": {
      "needs_background": "light"
     },
     "output_type": "display_data"
    }
   ],
   "source": [
    "graph(SCORES_LR, column='training_time')"
   ]
  },
  {
   "cell_type": "code",
   "execution_count": 12,
   "id": "colonial-pastor",
   "metadata": {},
   "outputs": [
    {
     "data": {
      "image/png": "[encoded data removed]",
      "text/plain": [
       "<Figure size 432x288 with 1 Axes>"
      ]
     },
     "metadata": {
      "needs_background": "light"
     },
     "output_type": "display_data"
    }
   ],
   "source": [
    "graph(SCORES_LR, column='prediction_time')"
   ]
  },
  {
   "cell_type": "markdown",
   "id": "careful-movement",
   "metadata": {},
   "source": [
    "**Méthode plus robuste avec moyenne**"
   ]
  },
  {
   "cell_type": "code",
   "execution_count": 13,
   "id": "referenced-instrumentation",
   "metadata": {},
   "outputs": [
    {
     "data": {
      "application/vnd.jupyter.widget-view+json": {
       "model_id": "ea81271ac4df47d1a8f892a2b602f92a",
       "version_major": 2,
       "version_minor": 0
      },
      "text/plain": [
       "data_frac loop:   0%|          | 0/10 [00:00<?, ?it/s]"
      ]
     },
     "metadata": {},
     "output_type": "display_data"
    },
    {
     "data": {
      "application/vnd.jupyter.widget-view+json": {
       "model_id": "",
       "version_major": 2,
       "version_minor": 0
      },
      "text/plain": [
       "split loop:   0%|          | 0/1000 [00:00<?, ?it/s]"
      ]
     },
     "metadata": {},
     "output_type": "display_data"
    },
    {
     "data": {
      "application/vnd.jupyter.widget-view+json": {
       "model_id": "",
       "version_major": 2,
       "version_minor": 0
      },
      "text/plain": [
       "split loop:   0%|          | 0/464 [00:00<?, ?it/s]"
      ]
     },
     "metadata": {},
     "output_type": "display_data"
    },
    {
     "data": {
      "application/vnd.jupyter.widget-view+json": {
       "model_id": "",
       "version_major": 2,
       "version_minor": 0
      },
      "text/plain": [
       "split loop:   0%|          | 0/215 [00:00<?, ?it/s]"
      ]
     },
     "metadata": {},
     "output_type": "display_data"
    },
    {
     "data": {
      "application/vnd.jupyter.widget-view+json": {
       "model_id": "",
       "version_major": 2,
       "version_minor": 0
      },
      "text/plain": [
       "split loop:   0%|          | 0/100 [00:00<?, ?it/s]"
      ]
     },
     "metadata": {},
     "output_type": "display_data"
    },
    {
     "data": {
      "application/vnd.jupyter.widget-view+json": {
       "model_id": "",
       "version_major": 2,
       "version_minor": 0
      },
      "text/plain": [
       "split loop:   0%|          | 0/46 [00:00<?, ?it/s]"
      ]
     },
     "metadata": {},
     "output_type": "display_data"
    },
    {
     "data": {
      "application/vnd.jupyter.widget-view+json": {
       "model_id": "",
       "version_major": 2,
       "version_minor": 0
      },
      "text/plain": [
       "split loop:   0%|          | 0/21 [00:00<?, ?it/s]"
      ]
     },
     "metadata": {},
     "output_type": "display_data"
    },
    {
     "data": {
      "application/vnd.jupyter.widget-view+json": {
       "model_id": "",
       "version_major": 2,
       "version_minor": 0
      },
      "text/plain": [
       "split loop:   0%|          | 0/10 [00:00<?, ?it/s]"
      ]
     },
     "metadata": {},
     "output_type": "display_data"
    },
    {
     "data": {
      "application/vnd.jupyter.widget-view+json": {
       "model_id": "",
       "version_major": 2,
       "version_minor": 0
      },
      "text/plain": [
       "split loop:   0%|          | 0/4 [00:00<?, ?it/s]"
      ]
     },
     "metadata": {},
     "output_type": "display_data"
    },
    {
     "data": {
      "application/vnd.jupyter.widget-view+json": {
       "model_id": "",
       "version_major": 2,
       "version_minor": 0
      },
      "text/plain": [
       "split loop:   0%|          | 0/2 [00:00<?, ?it/s]"
      ]
     },
     "metadata": {},
     "output_type": "display_data"
    },
    {
     "data": {
      "application/vnd.jupyter.widget-view+json": {
       "model_id": "",
       "version_major": 2,
       "version_minor": 0
      },
      "text/plain": [
       "split loop:   0%|          | 0/1 [00:00<?, ?it/s]"
      ]
     },
     "metadata": {},
     "output_type": "display_data"
    },
    {
     "name": "stdout",
     "output_type": "stream",
     "text": [
      "Wall time: 12min 15s\n"
     ]
    }
   ],
   "source": [
    "%%time\n",
    "SCORES_LR = []\n",
    "for data_frac in tqdm(data_frac_list, desc=\"data_frac loop\"):\n",
    "    nb_blocs = int(1/data_frac)\n",
    "    df_train_list = np.array_split(df_train_all, nb_blocs)\n",
    "    scores_frac = []\n",
    "    for df_train in tqdm(df_train_list, desc=\"split loop\", leave=False):\n",
    "        datasets_df_train = datasets(df_train, columns_quant=LR_COLUMNS_QUANT, columns_cat=LR_COLUMNS_CAT, drop='first', verbose=False)\n",
    "        X_train = datasets_df_train['X_only_quant_scaled']\n",
    "        y_train = datasets_df_train['y']    \n",
    "\n",
    "        m = Modelisation(X_train, y_train, LogisticRegression(**LR_PARAMS), X_test=X_test, y_test=y_test)\n",
    "    #     m = Modelisation(X_train, y_train, LogisticRegression(**LR_PARAMS), X_test=X_test, y_test=y_test, seuil=SEUILS['LR'])\n",
    "\n",
    "        metrics = m.metrics_score\n",
    "        metrics['data_frac'] = data_frac\n",
    "        metrics['training_time'] = m.training_time\n",
    "        metrics['prediction_time'] = m.prediction_time\n",
    "        scores_frac.append(metrics)\n",
    "    scores_frac = pd.DataFrame(scores_frac)\n",
    "    mean = scores_frac.mean()\n",
    "    mean['model_name'] = 'Régression logistique'\n",
    "    SCORES_LR.append(mean)\n",
    "SCORES_LR = pd.DataFrame(SCORES_LR)"
   ]
  },
  {
   "cell_type": "code",
   "execution_count": 14,
   "id": "controversial-modem",
   "metadata": {},
   "outputs": [
    {
     "data": {
      "image/png": "[encoded data removed]",
      "text/plain": [
       "<Figure size 432x288 with 1 Axes>"
      ]
     },
     "metadata": {
      "needs_background": "light"
     },
     "output_type": "display_data"
    }
   ],
   "source": [
    "graph(SCORES_LR)"
   ]
  },
  {
   "cell_type": "code",
   "execution_count": 15,
   "id": "hispanic-vietnamese",
   "metadata": {},
   "outputs": [
    {
     "data": {
      "image/png": "[encoded data removed]",
      "text/plain": [
       "<Figure size 432x288 with 1 Axes>"
      ]
     },
     "metadata": {
      "needs_background": "light"
     },
     "output_type": "display_data"
    }
   ],
   "source": [
    "graph(SCORES_LR, column='training_time')"
   ]
  },
  {
   "cell_type": "code",
   "execution_count": 16,
   "id": "acknowledged-documentation",
   "metadata": {},
   "outputs": [
    {
     "data": {
      "image/png": "[encoded data removed]",
      "text/plain": [
       "<Figure size 432x288 with 1 Axes>"
      ]
     },
     "metadata": {
      "needs_background": "light"
     },
     "output_type": "display_data"
    }
   ],
   "source": [
    "graph(SCORES_LR, column='prediction_time')"
   ]
  },
  {
   "cell_type": "code",
   "execution_count": 17,
   "id": "composite-drink",
   "metadata": {},
   "outputs": [
    {
     "name": "stdout",
     "output_type": "stream",
     "text": [
      "Durée totale d'exécution : 00:13:02\n"
     ]
    }
   ],
   "source": [
    "print(f\"Durée totale d'exécution : {time.strftime('%H:%M:%S', time.gmtime(time.time() - t))}\")"
   ]
  }
 ],
 "metadata": {
  "kernelspec": {
   "display_name": "Python 3",
   "language": "python",
   "name": "python3"
  },
  "language_info": {
   "codemirror_mode": {
    "name": "ipython",
    "version": 3
   },
   "file_extension": ".py",
   "mimetype": "text/x-python",
   "name": "python",
   "nbconvert_exporter": "python",
   "pygments_lexer": "ipython3",
   "version": "3.7.10"
  }
 },
 "nbformat": 4,
 "nbformat_minor": 5
}
