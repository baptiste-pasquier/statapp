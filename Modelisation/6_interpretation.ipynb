{
 "cells": [
  {
   "cell_type": "markdown",
   "id": "outstanding-emphasis",
   "metadata": {},
   "source": [
    "# Interprétation"
   ]
  },
  {
   "cell_type": "code",
   "execution_count": 1,
   "id": "gothic-international",
   "metadata": {},
   "outputs": [],
   "source": [
    "import os\n",
    "os.chdir(os.path.dirname(os.getcwd()))\n",
    "import time\n",
    "\n",
    "import matplotlib.pyplot as plt\n",
    "import numpy as np\n",
    "import pandas as pd\n",
    "from sklearn.linear_model import LogisticRegression\n",
    "from sklearn.ensemble import RandomForestClassifier\n",
    "from xgboost import XGBClassifier\n",
    "from tqdm.notebook import trange, tqdm\n",
    "\n",
    "from tools import Modelisation, datasets, convert_keys_to_int, PDF\n",
    "\n",
    "# pdf = PDF('output/interpretation/')\n",
    "\n",
    "t = time.time()"
   ]
  },
  {
   "cell_type": "code",
   "execution_count": 2,
   "id": "perfect-plant",
   "metadata": {},
   "outputs": [],
   "source": [
    "best_LR = \"LR_RFECV\"\n",
    "best_RF = \"Forest_RFECV\"\n",
    "best_XGB = \"XGBoost_RFECV\""
   ]
  },
  {
   "cell_type": "code",
   "execution_count": 3,
   "id": "conventional-aluminum",
   "metadata": {},
   "outputs": [
    {
     "name": "stdout",
     "output_type": "stream",
     "text": [
      "Variables explicatives régression logistique (11) :\n"
     ]
    },
    {
     "data": {
      "text/plain": [
       "['campaignctrlast24h',\n",
       " 'display_size',\n",
       " 'nbdayssincelastclick',\n",
       " 'nbdisplay_1hour',\n",
       " 'zonecostineuro',\n",
       " 'campaignscenario_13',\n",
       " 'device_type_Desktop',\n",
       " 'device_type_iPhone',\n",
       " 'display_env_app_ios',\n",
       " 'is_interstitial_True',\n",
       " 'target_env_2']"
      ]
     },
     "metadata": {},
     "output_type": "display_data"
    },
    {
     "name": "stdout",
     "output_type": "stream",
     "text": [
      "Meilleurs paramètres régression logistique (2) :\n"
     ]
    },
    {
     "data": {
      "text/plain": [
       "{'C': 0.007278953843983146, 'class_weight': {0: 1, 1: 20}}"
      ]
     },
     "metadata": {},
     "output_type": "display_data"
    },
    {
     "name": "stdout",
     "output_type": "stream",
     "text": [
      "Variables explicatives forêt aléatoires (9) :\n"
     ]
    },
    {
     "data": {
      "text/plain": [
       "['campaignctrlast24h',\n",
       " 'contextid',\n",
       " 'dayssincelastvisitdouble',\n",
       " 'display_size',\n",
       " 'nbdayssincelastclick',\n",
       " 'nbdisplay_1hour',\n",
       " 'nbdisplayglobalapprox_1d_sum_xdevice',\n",
       " 'zonecostineuro',\n",
       " 'is_interstitial_True']"
      ]
     },
     "metadata": {},
     "output_type": "display_data"
    },
    {
     "name": "stdout",
     "output_type": "stream",
     "text": [
      "Meilleurs paramètres forêt aléatoires (8) :\n"
     ]
    },
    {
     "data": {
      "text/plain": [
       "{'n_estimators': 400,\n",
       " 'min_samples_split': 10,\n",
       " 'min_samples_leaf': 4,\n",
       " 'max_features': 'sqrt',\n",
       " 'max_depth': 10,\n",
       " 'class_weight': {0: 1, 1: 32},\n",
       " 'bootstrap': False,\n",
       " 'n_jobs': -1}"
      ]
     },
     "metadata": {},
     "output_type": "display_data"
    },
    {
     "name": "stdout",
     "output_type": "stream",
     "text": [
      "Variables explicatives XGBoost (9) :\n"
     ]
    },
    {
     "data": {
      "text/plain": [
       "['campaignctrlast24h',\n",
       " 'contextid',\n",
       " 'nbdayssincelastclick',\n",
       " 'nbdisplay_1hour',\n",
       " 'zonecostineuro',\n",
       " 'device_type_Android',\n",
       " 'device_type_Desktop',\n",
       " 'device_type_iPad',\n",
       " 'is_interstitial_True']"
      ]
     },
     "metadata": {},
     "output_type": "display_data"
    },
    {
     "name": "stdout",
     "output_type": "stream",
     "text": [
      "Meilleurs paramètres XGBoost (11) :\n"
     ]
    },
    {
     "data": {
      "text/plain": [
       "{'subsample': 1.0,\n",
       " 'scale_pos_weight': 16.5,\n",
       " 'n_estimators': 100,\n",
       " 'min_child_weight': 3,\n",
       " 'max_depth': 2,\n",
       " 'learning_rate': 0.1,\n",
       " 'gamma': 1.5,\n",
       " 'colsample_bytree': 0.6,\n",
       " 'booster': 'gbtree',\n",
       " 'objective': 'binary:logistic',\n",
       " 'n_jobs': -1}"
      ]
     },
     "metadata": {},
     "output_type": "display_data"
    },
    {
     "name": "stdout",
     "output_type": "stream",
     "text": [
      "Seuils ajustés :\n"
     ]
    },
    {
     "data": {
      "text/plain": [
       "{'LR': 0.5005859374999999,\n",
       " 'Forest': 0.6492187500000004,\n",
       " 'XGBoost': 0.4799804687499999}"
      ]
     },
     "metadata": {},
     "output_type": "display_data"
    }
   ],
   "source": [
    "import json\n",
    "\n",
    "# Régression logistique\n",
    "with open('backups/RFECV_LR.json') as column_file:\n",
    "    LR_COLUMNS = json.load(column_file)\n",
    "    LR_COLUMNS_QUANT = LR_COLUMNS['columns_quant']\n",
    "    LR_COLUMNS_CAT = LR_COLUMNS['columns_cat']\n",
    "    LR_COLUMNS = LR_COLUMNS_QUANT + LR_COLUMNS_CAT\n",
    "\n",
    "with open('backups/PARAMS_LR.json') as param_file:\n",
    "    LR_PARAMS = json.load(param_file)[best_LR]\n",
    "    LR_PARAMS = convert_keys_to_int(LR_PARAMS)\n",
    "\n",
    "print(f'Variables explicatives régression logistique ({len(LR_COLUMNS)}) :')\n",
    "display(LR_COLUMNS)\n",
    "\n",
    "print(f'Meilleurs paramètres régression logistique ({len(LR_PARAMS)}) :')\n",
    "display(LR_PARAMS)\n",
    "\n",
    "# Forêt aléatoires\n",
    "with open('backups/RFECV_Forest.json') as column_file:\n",
    "    RF_COLUMNS = json.load(column_file)\n",
    "    RF_COLUMNS_QUANT = RF_COLUMNS['columns_quant']\n",
    "    RF_COLUMNS_CAT = RF_COLUMNS['columns_cat']\n",
    "    RF_COLUMNS = RF_COLUMNS_QUANT + RF_COLUMNS_CAT\n",
    "\n",
    "with open('backups/PARAMS_Forest.json') as param_file:\n",
    "    RF_PARAMS = json.load(param_file)[best_RF]\n",
    "    RF_PARAMS = convert_keys_to_int(RF_PARAMS)\n",
    "\n",
    "print(f'Variables explicatives forêt aléatoires ({len(RF_COLUMNS)}) :')\n",
    "display(RF_COLUMNS)\n",
    "\n",
    "print(f'Meilleurs paramètres forêt aléatoires ({len(RF_PARAMS)}) :')\n",
    "RF_PARAMS['class_weight'] = {int(k): v for k,v in RF_PARAMS['class_weight'].items()}\n",
    "display(RF_PARAMS)\n",
    "\n",
    "# XGBoost\n",
    "with open('backups/RFECV_XGBoost.json') as column_file:\n",
    "    XGB_COLUMNS = json.load(column_file)\n",
    "    XGB_COLUMNS_QUANT = XGB_COLUMNS['columns_quant']\n",
    "    XGB_COLUMNS_CAT = XGB_COLUMNS['columns_cat']\n",
    "    XGB_COLUMNS = XGB_COLUMNS_QUANT + XGB_COLUMNS_CAT\n",
    "\n",
    "with open('backups/PARAMS_XGBoost.json') as param_file:\n",
    "    XGB_PARAMS = json.load(param_file)[best_XGB]\n",
    "    XGB_PARAMS = convert_keys_to_int(XGB_PARAMS)\n",
    "\n",
    "print(f'Variables explicatives XGBoost ({len(XGB_COLUMNS)}) :')\n",
    "display(XGB_COLUMNS)\n",
    "\n",
    "print(f'Meilleurs paramètres XGBoost ({len(XGB_PARAMS)}) :')\n",
    "display(XGB_PARAMS)\n",
    "\n",
    "# Seuils ajustés\n",
    "with open('backups/THRESHOLD.json') as threshold_file:\n",
    "    SEUILS = json.load(threshold_file)\n",
    "\n",
    "print(\"Seuils ajustés :\")\n",
    "display(SEUILS)"
   ]
  },
  {
   "cell_type": "markdown",
   "id": "fewer-kingdom",
   "metadata": {},
   "source": [
    "# 1. Régression logistique"
   ]
  },
  {
   "cell_type": "code",
   "execution_count": 4,
   "id": "manufactured-hotel",
   "metadata": {},
   "outputs": [],
   "source": [
    "df = pd.read_csv('data/df_train_prepro.csv').sample(frac=1, random_state=1234)\n",
    "datasets_df = datasets(df, columns_quant=LR_COLUMNS_QUANT, columns_cat=LR_COLUMNS_CAT, drop='first', verbose=False)\n",
    "X = datasets_df['X_only_quant_scaled']\n",
    "y = datasets_df['y']"
   ]
  },
  {
   "cell_type": "code",
   "execution_count": 5,
   "id": "commercial-pacific",
   "metadata": {},
   "outputs": [
    {
     "data": {
      "image/png": "[encoded data removed]",
      "text/plain": [
       "<Figure size 432x288 with 2 Axes>"
      ]
     },
     "metadata": {
      "needs_background": "light"
     },
     "output_type": "display_data"
    },
    {
     "name": "stdout",
     "output_type": "stream",
     "text": [
      "f1 : 0.2253\n",
      "f3 : 0.4821\n",
      "f5 : 0.5846\n",
      "recall : 0.6742\n",
      "negative predictive value : 0.9733\n",
      "precision : 0.1353\n",
      "roc_auc : 0.7731\n",
      "training time : 4.014s\n",
      "prediction time : 0.027s\n"
     ]
    }
   ],
   "source": [
    "m = Modelisation(X, y, LogisticRegression(**LR_PARAMS), seuil=SEUILS['LR'])\n",
    "m.show_conf_matrix()\n",
    "m.show_metrics_score()"
   ]
  },
  {
   "cell_type": "code",
   "execution_count": 6,
   "id": "common-holmes",
   "metadata": {},
   "outputs": [
    {
     "data": {
      "text/html": [
       "<div>\n",
       "<style scoped>\n",
       "    .dataframe tbody tr th:only-of-type {\n",
       "        vertical-align: middle;\n",
       "    }\n",
       "\n",
       "    .dataframe tbody tr th {\n",
       "        vertical-align: top;\n",
       "    }\n",
       "\n",
       "    .dataframe thead th {\n",
       "        text-align: right;\n",
       "    }\n",
       "</style>\n",
       "<table border=\"1\" class=\"dataframe\">\n",
       "  <thead>\n",
       "    <tr style=\"text-align: right;\">\n",
       "      <th></th>\n",
       "      <th>Feature</th>\n",
       "      <th>Coefficients</th>\n",
       "    </tr>\n",
       "  </thead>\n",
       "  <tbody>\n",
       "    <tr>\n",
       "      <th>4</th>\n",
       "      <td>zonecostineuro</td>\n",
       "      <td>0.761387</td>\n",
       "    </tr>\n",
       "    <tr>\n",
       "      <th>0</th>\n",
       "      <td>campaignctrlast24h</td>\n",
       "      <td>0.319630</td>\n",
       "    </tr>\n",
       "    <tr>\n",
       "      <th>9</th>\n",
       "      <td>is_interstitial_True</td>\n",
       "      <td>0.242325</td>\n",
       "    </tr>\n",
       "    <tr>\n",
       "      <th>1</th>\n",
       "      <td>display_size</td>\n",
       "      <td>0.150248</td>\n",
       "    </tr>\n",
       "    <tr>\n",
       "      <th>8</th>\n",
       "      <td>display_env_app_ios</td>\n",
       "      <td>0.072367</td>\n",
       "    </tr>\n",
       "    <tr>\n",
       "      <th>10</th>\n",
       "      <td>target_env_2</td>\n",
       "      <td>-0.069301</td>\n",
       "    </tr>\n",
       "    <tr>\n",
       "      <th>2</th>\n",
       "      <td>nbdayssincelastclick</td>\n",
       "      <td>-0.096038</td>\n",
       "    </tr>\n",
       "    <tr>\n",
       "      <th>5</th>\n",
       "      <td>campaignscenario_13</td>\n",
       "      <td>-0.129949</td>\n",
       "    </tr>\n",
       "    <tr>\n",
       "      <th>7</th>\n",
       "      <td>device_type_iPhone</td>\n",
       "      <td>-0.146696</td>\n",
       "    </tr>\n",
       "    <tr>\n",
       "      <th>3</th>\n",
       "      <td>nbdisplay_1hour</td>\n",
       "      <td>-0.156718</td>\n",
       "    </tr>\n",
       "    <tr>\n",
       "      <th>6</th>\n",
       "      <td>device_type_Desktop</td>\n",
       "      <td>-0.253952</td>\n",
       "    </tr>\n",
       "  </tbody>\n",
       "</table>\n",
       "</div>"
      ],
      "text/plain": [
       "                 Feature  Coefficients\n",
       "4         zonecostineuro      0.761387\n",
       "0     campaignctrlast24h      0.319630\n",
       "9   is_interstitial_True      0.242325\n",
       "1           display_size      0.150248\n",
       "8    display_env_app_ios      0.072367\n",
       "10          target_env_2     -0.069301\n",
       "2   nbdayssincelastclick     -0.096038\n",
       "5    campaignscenario_13     -0.129949\n",
       "7     device_type_iPhone     -0.146696\n",
       "3        nbdisplay_1hour     -0.156718\n",
       "6    device_type_Desktop     -0.253952"
      ]
     },
     "execution_count": 6,
     "metadata": {},
     "output_type": "execute_result"
    }
   ],
   "source": [
    "coeffs = pd.DataFrame({\"Feature\": X.columns.tolist(),\"Coefficients\": m.model.coef_[0]})\n",
    "coeffs.sort_values(by=\"Coefficients\", ascending = False)"
   ]
  },
  {
   "cell_type": "markdown",
   "id": "altered-bidding",
   "metadata": {},
   "source": [
    "## 2. Random Forest"
   ]
  },
  {
   "cell_type": "code",
   "execution_count": null,
   "id": "weird-adventure",
   "metadata": {},
   "outputs": [],
   "source": [
    "df = pd.read_csv('data/df_train_prepro.csv').sample(frac=1, random_state=1234)\n",
    "datasets_df = datasets(df, columns_quant=RF_COLUMNS_QUANT, columns_cat=RF_COLUMNS_CAT, verbose=False)\n",
    "X = datasets_df['X']\n",
    "y = datasets_df['y']"
   ]
  },
  {
   "cell_type": "code",
   "execution_count": null,
   "id": "fuzzy-pixel",
   "metadata": {},
   "outputs": [],
   "source": [
    "m = Modelisation(X, y, RandomForestClassifier(**RF_PARAMS), seuil=SEUILS['Forest'])\n",
    "m.show_conf_matrix()\n",
    "m.show_metrics_score()"
   ]
  },
  {
   "cell_type": "markdown",
   "id": "minimal-difference",
   "metadata": {},
   "source": [
    "## 3. XGBoost"
   ]
  },
  {
   "cell_type": "code",
   "execution_count": null,
   "id": "lasting-catholic",
   "metadata": {},
   "outputs": [],
   "source": [
    "df = pd.read_csv('data/df_train_prepro.csv').sample(frac=1, random_state=1234)\n",
    "datasets_df = datasets(df, columns_quant=XGB_COLUMNS_QUANT, columns_cat=XGB_COLUMNS_CAT, verbose=False)\n",
    "X = datasets_df['X']\n",
    "y = datasets_df['y']"
   ]
  },
  {
   "cell_type": "code",
   "execution_count": null,
   "id": "inappropriate-japanese",
   "metadata": {},
   "outputs": [],
   "source": [
    "m = Modelisation(X, y, RandomForestClassifier(**RF_PARAMS), seuil=SEUILS['XGBoost'])\n",
    "m.show_conf_matrix()\n",
    "m.show_metrics_score()"
   ]
  },
  {
   "cell_type": "code",
   "execution_count": null,
   "id": "friendly-andrew",
   "metadata": {},
   "outputs": [],
   "source": [
    "print(f\"Durée totale d'exécution : {time.strftime('%H:%M:%S', time.gmtime(time.time() - t_debut))}\")"
   ]
  }
 ],
 "metadata": {
  "kernelspec": {
   "display_name": "Python 3",
   "language": "python",
   "name": "python3"
  },
  "language_info": {
   "codemirror_mode": {
    "name": "ipython",
    "version": 3
   },
   "file_extension": ".py",
   "mimetype": "text/x-python",
   "name": "python",
   "nbconvert_exporter": "python",
   "pygments_lexer": "ipython3",
   "version": "3.7.10"
  }
 },
 "nbformat": 4,
 "nbformat_minor": 5
}
