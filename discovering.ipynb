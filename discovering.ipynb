{
 "cells": [
  {
   "cell_type": "code",
   "execution_count": 1,
   "metadata": {},
   "outputs": [],
   "source": [
    "import time\n",
    "import pandas as pd\n",
    "import numpy as np\n",
    "import seaborn as sns\n",
    "import matplotlib.pyplot as plt\n",
    "from tools import PDF\n",
    "\n",
    "pd.set_option('display.max_columns', None)\n",
    "plt.rcParams['axes.axisbelow'] = True\n",
    "pdf = PDF('output/discovering/')\n",
    "\n",
    "t = time.time()"
   ]
  },
  {
   "cell_type": "code",
   "execution_count": 2,
   "metadata": {},
   "outputs": [],
   "source": [
    "df = pd.read_csv('data/df_train.csv')\n",
    "df_test = pd.read_csv('data/df_test.csv')"
   ]
  },
  {
   "cell_type": "code",
   "execution_count": 3,
   "metadata": {},
   "outputs": [
    {
     "data": {
      "text/plain": [
       "Unnamed: 0                                          int64\n",
       "day                                                object\n",
       "hashed_partner_id                                  object\n",
       "hashed_campaign_id                                 object\n",
       "contextid                                           int64\n",
       "display_env                                        object\n",
       "target_env                                          int64\n",
       "rtbtypeid                                         float64\n",
       "rtbadvisibility                                   float64\n",
       "rtb_detectedlanguage                              float64\n",
       "urlhash2                                          float64\n",
       "urlhash3                                          float64\n",
       "urlhash4                                          float64\n",
       "user_country                                       object\n",
       "hashed_affiliateid                                 object\n",
       "hashed_app_id                                      object\n",
       "googleviewability                                 float64\n",
       "googlepagevertical                                float64\n",
       "campaignscenario                                    int64\n",
       "campaignvertical                                  float64\n",
       "campaignctrlast24h                                float64\n",
       "is_interstitial                                    object\n",
       "dayssincelastvisitdouble                          float64\n",
       "ltf_lastpartnerclicktimestamp                     float64\n",
       "ltf_nbglobalclick_4w                              float64\n",
       "ltf_nbglobaldisplay_4w                            float64\n",
       "ltf_nbglobaldisplaysincelastpartnerproductview    float64\n",
       "ltf_nbpartnerdisplayssincelastclick               float64\n",
       "ltf_nbpartnerclick_4w                             float64\n",
       "ltf_nbpartnerdisplay_4w                           float64\n",
       "ltf_nbpartnersales_4w                             float64\n",
       "ltf_nbpartnerdisplay_90d                          float64\n",
       "ltf_nbpartnerclick_90d                            float64\n",
       "ltf_nbpartnersales_90d                            float64\n",
       "nbdayssincelastclick                                int64\n",
       "nbdisplay_1hour                                   float64\n",
       "nbdisplaypartnerapprox_1d_sum_xdevice             float64\n",
       "nbdisplayaffiliateapprox_1d_sum_xdevice           float64\n",
       "nbdisplayglobalapprox_1d_sum_xdevice              float64\n",
       "hashed_uid                                         object\n",
       "hashed_xd_id                                       object\n",
       "valueperclick                                     float64\n",
       "device_type                                        object\n",
       "display_width                                       int64\n",
       "display_height                                      int64\n",
       "display_timestamp                                   int64\n",
       "is_display_clicked                                  int64\n",
       "zonecostineuro                                    float64\n",
       "dtype: object"
      ]
     },
     "execution_count": 3,
     "metadata": {},
     "output_type": "execute_result"
    }
   ],
   "source": [
    "df.dtypes"
   ]
  },
  {
   "cell_type": "code",
   "execution_count": 4,
   "metadata": {},
   "outputs": [
    {
     "name": "stdout",
     "output_type": "stream",
     "text": [
      "Nombre d'observations (jeu d'entraînement) : 1855314.\n",
      "Nombre d'observations (jeu de test) : 279927.\n",
      "Nombre total d'observations : 2135241.\n",
      "Proportion des observations dans le jeu d'entraînement : 0.8689014495319264.\n",
      "Proportion des observations dans le jeu de test : 0.13109855046807362.\n",
      "Nombre de variables : 47)\n"
     ]
    }
   ],
   "source": [
    "print(f\"Nombre d'observations (jeu d'entraînement) : {len(df)}.\")\n",
    "print(f\"Nombre d'observations (jeu de test) : {len(df_test)}.\")\n",
    "print(f\"Nombre total d'observations : {len(df) + len(df_test)}.\")\n",
    "print(f\"Proportion des observations dans le jeu d'entraînement : {len(df) / (len(df) + len(df_test))}.\")\n",
    "print(f\"Proportion des observations dans le jeu de test : {len(df_test) / (len(df) + len(df_test))}.\")\n",
    "print(f\"Nombre de variables : {len(df.columns) - 1})\")"
   ]
  },
  {
   "cell_type": "code",
   "execution_count": 5,
   "metadata": {},
   "outputs": [
    {
     "data": {
      "text/html": [
       "<div>\n",
       "<style scoped>\n",
       "    .dataframe tbody tr th:only-of-type {\n",
       "        vertical-align: middle;\n",
       "    }\n",
       "\n",
       "    .dataframe tbody tr th {\n",
       "        vertical-align: top;\n",
       "    }\n",
       "\n",
       "    .dataframe thead th {\n",
       "        text-align: right;\n",
       "    }\n",
       "</style>\n",
       "<table border=\"1\" class=\"dataframe\">\n",
       "  <thead>\n",
       "    <tr style=\"text-align: right;\">\n",
       "      <th></th>\n",
       "      <th>Unnamed: 0</th>\n",
       "      <th>day</th>\n",
       "      <th>hashed_partner_id</th>\n",
       "      <th>hashed_campaign_id</th>\n",
       "      <th>contextid</th>\n",
       "      <th>display_env</th>\n",
       "      <th>target_env</th>\n",
       "      <th>rtbtypeid</th>\n",
       "      <th>rtbadvisibility</th>\n",
       "      <th>rtb_detectedlanguage</th>\n",
       "      <th>urlhash2</th>\n",
       "      <th>urlhash3</th>\n",
       "      <th>urlhash4</th>\n",
       "      <th>user_country</th>\n",
       "      <th>hashed_affiliateid</th>\n",
       "      <th>hashed_app_id</th>\n",
       "      <th>googleviewability</th>\n",
       "      <th>googlepagevertical</th>\n",
       "      <th>campaignscenario</th>\n",
       "      <th>campaignvertical</th>\n",
       "      <th>campaignctrlast24h</th>\n",
       "      <th>is_interstitial</th>\n",
       "      <th>dayssincelastvisitdouble</th>\n",
       "      <th>ltf_lastpartnerclicktimestamp</th>\n",
       "      <th>ltf_nbglobalclick_4w</th>\n",
       "      <th>ltf_nbglobaldisplay_4w</th>\n",
       "      <th>ltf_nbglobaldisplaysincelastpartnerproductview</th>\n",
       "      <th>ltf_nbpartnerdisplayssincelastclick</th>\n",
       "      <th>ltf_nbpartnerclick_4w</th>\n",
       "      <th>ltf_nbpartnerdisplay_4w</th>\n",
       "      <th>ltf_nbpartnersales_4w</th>\n",
       "      <th>ltf_nbpartnerdisplay_90d</th>\n",
       "      <th>ltf_nbpartnerclick_90d</th>\n",
       "      <th>ltf_nbpartnersales_90d</th>\n",
       "      <th>nbdayssincelastclick</th>\n",
       "      <th>nbdisplay_1hour</th>\n",
       "      <th>nbdisplaypartnerapprox_1d_sum_xdevice</th>\n",
       "      <th>nbdisplayaffiliateapprox_1d_sum_xdevice</th>\n",
       "      <th>nbdisplayglobalapprox_1d_sum_xdevice</th>\n",
       "      <th>hashed_uid</th>\n",
       "      <th>hashed_xd_id</th>\n",
       "      <th>valueperclick</th>\n",
       "      <th>device_type</th>\n",
       "      <th>display_width</th>\n",
       "      <th>display_height</th>\n",
       "      <th>display_timestamp</th>\n",
       "      <th>is_display_clicked</th>\n",
       "      <th>zonecostineuro</th>\n",
       "    </tr>\n",
       "  </thead>\n",
       "  <tbody>\n",
       "    <tr>\n",
       "      <th>0</th>\n",
       "      <td>0</td>\n",
       "      <td>2020-10-19</td>\n",
       "      <td>b'=\\xa6\\xeef\\x99\\xda\\x1e\\xb5-5\\x8a\\xa5\\x9b\\x8e...</td>\n",
       "      <td>b\"f|g\\xd5T\\xc8\\xe2\\x90\\xc6\\xc8\\xfeL\\x0c\\x15\\xe...</td>\n",
       "      <td>6</td>\n",
       "      <td>web</td>\n",
       "      <td>1</td>\n",
       "      <td>74.0</td>\n",
       "      <td>0.0</td>\n",
       "      <td>127.0</td>\n",
       "      <td>1.697895e+08</td>\n",
       "      <td>1.697895e+08</td>\n",
       "      <td>1.697895e+08</td>\n",
       "      <td>FR</td>\n",
       "      <td>b'\\xd2\\x87g\\xe8\\x9f\\xdaE\\x86z\\x12\\xbb\\x8fz{\\x8...</td>\n",
       "      <td>b\"\\xe3\\xb0\\xc4B\\x98\\xfc\\x1c\\x14\\x9a\\xfb\\xf4\\xc...</td>\n",
       "      <td>NaN</td>\n",
       "      <td>-1.0</td>\n",
       "      <td>13</td>\n",
       "      <td>20.0</td>\n",
       "      <td>0.003768</td>\n",
       "      <td>False</td>\n",
       "      <td>1.086</td>\n",
       "      <td>NaN</td>\n",
       "      <td>NaN</td>\n",
       "      <td>NaN</td>\n",
       "      <td>NaN</td>\n",
       "      <td>NaN</td>\n",
       "      <td>NaN</td>\n",
       "      <td>NaN</td>\n",
       "      <td>NaN</td>\n",
       "      <td>NaN</td>\n",
       "      <td>NaN</td>\n",
       "      <td>NaN</td>\n",
       "      <td>5</td>\n",
       "      <td>2.0</td>\n",
       "      <td>NaN</td>\n",
       "      <td>2.000000</td>\n",
       "      <td>23.000000</td>\n",
       "      <td>b'\\x99w[\\xb8\\xe1\\x9e\\xbaz\\x01\\x06\\x9c\\xdc\\x03\\...</td>\n",
       "      <td>b'\\xdb\\xfc\\xdfBY`$\\x97\\xf9\\xaaGn\\x98\\xe0{RQ\\x9...</td>\n",
       "      <td>0.529218</td>\n",
       "      <td>Android</td>\n",
       "      <td>0</td>\n",
       "      <td>0</td>\n",
       "      <td>1603150590</td>\n",
       "      <td>0</td>\n",
       "      <td>0.366238</td>\n",
       "    </tr>\n",
       "    <tr>\n",
       "      <th>1</th>\n",
       "      <td>1</td>\n",
       "      <td>2020-10-19</td>\n",
       "      <td>b'=\\xa6\\xeef\\x99\\xda\\x1e\\xb5-5\\x8a\\xa5\\x9b\\x8e...</td>\n",
       "      <td>b'7\\xa0%5\\x98\\x02\\x00\\xe5\\xa2\\xfb\\xd6\\xa9^\\xb7...</td>\n",
       "      <td>0</td>\n",
       "      <td>web</td>\n",
       "      <td>1</td>\n",
       "      <td>74.0</td>\n",
       "      <td>0.0</td>\n",
       "      <td>127.0</td>\n",
       "      <td>3.589877e+08</td>\n",
       "      <td>3.589877e+08</td>\n",
       "      <td>3.589877e+08</td>\n",
       "      <td>FR</td>\n",
       "      <td>b'\\xd2\\x87g\\xe8\\x9f\\xdaE\\x86z\\x12\\xbb\\x8fz{\\x8...</td>\n",
       "      <td>b\"\\xe3\\xb0\\xc4B\\x98\\xfc\\x1c\\x14\\x9a\\xfb\\xf4\\xc...</td>\n",
       "      <td>NaN</td>\n",
       "      <td>-1.0</td>\n",
       "      <td>13</td>\n",
       "      <td>20.0</td>\n",
       "      <td>0.005846</td>\n",
       "      <td>False</td>\n",
       "      <td>-1.000</td>\n",
       "      <td>NaN</td>\n",
       "      <td>NaN</td>\n",
       "      <td>NaN</td>\n",
       "      <td>NaN</td>\n",
       "      <td>NaN</td>\n",
       "      <td>NaN</td>\n",
       "      <td>NaN</td>\n",
       "      <td>NaN</td>\n",
       "      <td>NaN</td>\n",
       "      <td>NaN</td>\n",
       "      <td>NaN</td>\n",
       "      <td>0</td>\n",
       "      <td>1.0</td>\n",
       "      <td>5.000000</td>\n",
       "      <td>42.000000</td>\n",
       "      <td>98.252222</td>\n",
       "      <td>b'&gt;\\x1a\\x00W\\xb0\\x81\\x06\\x00\\x90\\xc8\\x8aL\\xb4\\...</td>\n",
       "      <td>b'\\xe9\\xcd\\x80\\xb5\\x96\\xcf8\\x8eo(p-\\x0f\\xf4\\xf...</td>\n",
       "      <td>0.269752</td>\n",
       "      <td>Desktop</td>\n",
       "      <td>0</td>\n",
       "      <td>0</td>\n",
       "      <td>1603150640</td>\n",
       "      <td>0</td>\n",
       "      <td>0.025551</td>\n",
       "    </tr>\n",
       "    <tr>\n",
       "      <th>2</th>\n",
       "      <td>2</td>\n",
       "      <td>2020-10-19</td>\n",
       "      <td>b'\\xa1l\\n\\xb2`\\xe3\\x0b\"\\xcd\\x06\\xfa\\xdf\\x9aj0\\...</td>\n",
       "      <td>b'\\xbe\\xa0?\\xc2&lt;/,\\xa4&amp;w\\x86\\xe9\\x150Y\\xd4\\xdf...</td>\n",
       "      <td>6</td>\n",
       "      <td>web</td>\n",
       "      <td>1</td>\n",
       "      <td>4.0</td>\n",
       "      <td>2.0</td>\n",
       "      <td>10.0</td>\n",
       "      <td>-1.859395e+09</td>\n",
       "      <td>4.960864e+07</td>\n",
       "      <td>2.901651e+07</td>\n",
       "      <td>ES</td>\n",
       "      <td>b'uS\\x86\\x94[2\\xe0\\xe7\\x8f\\xf8\\x0f\\xd5\\xa5\\x1d...</td>\n",
       "      <td>NaN</td>\n",
       "      <td>20.0</td>\n",
       "      <td>-1.0</td>\n",
       "      <td>0</td>\n",
       "      <td>20.0</td>\n",
       "      <td>0.014426</td>\n",
       "      <td>False</td>\n",
       "      <td>4.716</td>\n",
       "      <td>NaN</td>\n",
       "      <td>NaN</td>\n",
       "      <td>NaN</td>\n",
       "      <td>NaN</td>\n",
       "      <td>NaN</td>\n",
       "      <td>NaN</td>\n",
       "      <td>NaN</td>\n",
       "      <td>NaN</td>\n",
       "      <td>NaN</td>\n",
       "      <td>NaN</td>\n",
       "      <td>NaN</td>\n",
       "      <td>6</td>\n",
       "      <td>0.0</td>\n",
       "      <td>5.000000</td>\n",
       "      <td>NaN</td>\n",
       "      <td>11.000000</td>\n",
       "      <td>b'o\\xa5~{\\xf5\\xd0C\\xac_\\xa9\\x10\\x95\\x04L\\x8a\\x...</td>\n",
       "      <td>b'o\\xa5~{\\xf5\\xd0C\\xac_\\xa9\\x10\\x95\\x04L\\x8a\\x...</td>\n",
       "      <td>0.095993</td>\n",
       "      <td>Android</td>\n",
       "      <td>640</td>\n",
       "      <td>150</td>\n",
       "      <td>1603150780</td>\n",
       "      <td>0</td>\n",
       "      <td>0.289000</td>\n",
       "    </tr>\n",
       "    <tr>\n",
       "      <th>3</th>\n",
       "      <td>3</td>\n",
       "      <td>2020-10-19</td>\n",
       "      <td>b'=\\xa6\\xeef\\x99\\xda\\x1e\\xb5-5\\x8a\\xa5\\x9b\\x8e...</td>\n",
       "      <td>b'7\\xa0%5\\x98\\x02\\x00\\xe5\\xa2\\xfb\\xd6\\xa9^\\xb7...</td>\n",
       "      <td>6</td>\n",
       "      <td>web</td>\n",
       "      <td>1</td>\n",
       "      <td>73.0</td>\n",
       "      <td>1.0</td>\n",
       "      <td>127.0</td>\n",
       "      <td>-8.462803e+08</td>\n",
       "      <td>8.353379e+08</td>\n",
       "      <td>-1.975498e+09</td>\n",
       "      <td>FR</td>\n",
       "      <td>b\"\\xa7\\xc0\\x1a\\x91Je\\xfbF}\\xedD\\x8ah\\xfc-\\x1a'...</td>\n",
       "      <td>NaN</td>\n",
       "      <td>NaN</td>\n",
       "      <td>-1.0</td>\n",
       "      <td>13</td>\n",
       "      <td>20.0</td>\n",
       "      <td>NaN</td>\n",
       "      <td>False</td>\n",
       "      <td>0.296</td>\n",
       "      <td>NaN</td>\n",
       "      <td>NaN</td>\n",
       "      <td>NaN</td>\n",
       "      <td>NaN</td>\n",
       "      <td>NaN</td>\n",
       "      <td>NaN</td>\n",
       "      <td>NaN</td>\n",
       "      <td>NaN</td>\n",
       "      <td>NaN</td>\n",
       "      <td>NaN</td>\n",
       "      <td>NaN</td>\n",
       "      <td>0</td>\n",
       "      <td>32.0</td>\n",
       "      <td>40.000000</td>\n",
       "      <td>31.000000</td>\n",
       "      <td>57.000000</td>\n",
       "      <td>b'\\xf2\\x93e\\xae\\xadBh\\x9f&lt;&lt;\\x9e\\xf0\\x91q\\xba\\x...</td>\n",
       "      <td>b'\\x83u\\xce\\x10n\\x9f\\x10hP\\x0cI\\xdb \\xed\\xa8,E...</td>\n",
       "      <td>0.269752</td>\n",
       "      <td>iPhone</td>\n",
       "      <td>2</td>\n",
       "      <td>2</td>\n",
       "      <td>1603150840</td>\n",
       "      <td>0</td>\n",
       "      <td>0.243945</td>\n",
       "    </tr>\n",
       "    <tr>\n",
       "      <th>4</th>\n",
       "      <td>4</td>\n",
       "      <td>2020-10-19</td>\n",
       "      <td>b'\\x0f\\xbc\\x909\\x14[dI\\xa7v]\\xcc\\x00\\xd3\\xbd\\x...</td>\n",
       "      <td>b'\\xa0\\t^\\xa5Z\\x06[-\\x86\\x13\\xd8\\x08\\x98\\x8de\\...</td>\n",
       "      <td>8</td>\n",
       "      <td>app_ios</td>\n",
       "      <td>2</td>\n",
       "      <td>74.0</td>\n",
       "      <td>0.0</td>\n",
       "      <td>127.0</td>\n",
       "      <td>NaN</td>\n",
       "      <td>NaN</td>\n",
       "      <td>NaN</td>\n",
       "      <td>IT</td>\n",
       "      <td>b'\\xdc\\xc8+Uj\\x07\\xbd\\xa7[sI\\xd8\\x90\\xb8\\xb0\\x...</td>\n",
       "      <td>b'\\xa5B\\xff\\x1e\\xcb\\xcf\\xae\\x06R\\xf3\\xc3\\xe1-|...</td>\n",
       "      <td>NaN</td>\n",
       "      <td>-1.0</td>\n",
       "      <td>0</td>\n",
       "      <td>20.0</td>\n",
       "      <td>0.017327</td>\n",
       "      <td>False</td>\n",
       "      <td>0.004</td>\n",
       "      <td>NaN</td>\n",
       "      <td>NaN</td>\n",
       "      <td>NaN</td>\n",
       "      <td>NaN</td>\n",
       "      <td>NaN</td>\n",
       "      <td>NaN</td>\n",
       "      <td>NaN</td>\n",
       "      <td>NaN</td>\n",
       "      <td>NaN</td>\n",
       "      <td>NaN</td>\n",
       "      <td>NaN</td>\n",
       "      <td>44</td>\n",
       "      <td>0.0</td>\n",
       "      <td>1.000000</td>\n",
       "      <td>2.000000</td>\n",
       "      <td>2.000000</td>\n",
       "      <td>b'\\xe6\\xa9\\xb2:\\xc5\\x04\\xfd\\x89/Lg\\xc1\\x0e\\xa4...</td>\n",
       "      <td>b'\\xe6\\xa9\\xb2:\\xc5\\x04\\xfd\\x89/Lg\\xc1\\x0e\\xa4...</td>\n",
       "      <td>0.136416</td>\n",
       "      <td>iPhone</td>\n",
       "      <td>0</td>\n",
       "      <td>0</td>\n",
       "      <td>1603149970</td>\n",
       "      <td>0</td>\n",
       "      <td>0.647304</td>\n",
       "    </tr>\n",
       "    <tr>\n",
       "      <th>...</th>\n",
       "      <td>...</td>\n",
       "      <td>...</td>\n",
       "      <td>...</td>\n",
       "      <td>...</td>\n",
       "      <td>...</td>\n",
       "      <td>...</td>\n",
       "      <td>...</td>\n",
       "      <td>...</td>\n",
       "      <td>...</td>\n",
       "      <td>...</td>\n",
       "      <td>...</td>\n",
       "      <td>...</td>\n",
       "      <td>...</td>\n",
       "      <td>...</td>\n",
       "      <td>...</td>\n",
       "      <td>...</td>\n",
       "      <td>...</td>\n",
       "      <td>...</td>\n",
       "      <td>...</td>\n",
       "      <td>...</td>\n",
       "      <td>...</td>\n",
       "      <td>...</td>\n",
       "      <td>...</td>\n",
       "      <td>...</td>\n",
       "      <td>...</td>\n",
       "      <td>...</td>\n",
       "      <td>...</td>\n",
       "      <td>...</td>\n",
       "      <td>...</td>\n",
       "      <td>...</td>\n",
       "      <td>...</td>\n",
       "      <td>...</td>\n",
       "      <td>...</td>\n",
       "      <td>...</td>\n",
       "      <td>...</td>\n",
       "      <td>...</td>\n",
       "      <td>...</td>\n",
       "      <td>...</td>\n",
       "      <td>...</td>\n",
       "      <td>...</td>\n",
       "      <td>...</td>\n",
       "      <td>...</td>\n",
       "      <td>...</td>\n",
       "      <td>...</td>\n",
       "      <td>...</td>\n",
       "      <td>...</td>\n",
       "      <td>...</td>\n",
       "      <td>...</td>\n",
       "    </tr>\n",
       "    <tr>\n",
       "      <th>1855309</th>\n",
       "      <td>1856868</td>\n",
       "      <td>2020-10-13</td>\n",
       "      <td>b'=\\xa6\\xeef\\x99\\xda\\x1e\\xb5-5\\x8a\\xa5\\x9b\\x8e...</td>\n",
       "      <td>b'\\xef5\\x9d\\xc0y\\x18\\xa1\\x8c\\xa5l\\xb5\\r\\x92-\\x...</td>\n",
       "      <td>0</td>\n",
       "      <td>app_android</td>\n",
       "      <td>1</td>\n",
       "      <td>4.0</td>\n",
       "      <td>1.0</td>\n",
       "      <td>12.0</td>\n",
       "      <td>1.384186e+09</td>\n",
       "      <td>-6.162982e+07</td>\n",
       "      <td>-6.396569e+08</td>\n",
       "      <td>FR</td>\n",
       "      <td>b'\\x16DWw\\xb6\\xfd\\xd0&amp;\\x1d!x:Kh\\x88\\x00\\xa4\\xc...</td>\n",
       "      <td>b'tR\\xdb\\x0f\\xbdNo=\\x8a\\x9b\\xbd\\xf9@#\\x97\\xf3\\...</td>\n",
       "      <td>85.0</td>\n",
       "      <td>-1.0</td>\n",
       "      <td>13</td>\n",
       "      <td>20.0</td>\n",
       "      <td>0.006683</td>\n",
       "      <td>True</td>\n",
       "      <td>-1.000</td>\n",
       "      <td>NaN</td>\n",
       "      <td>NaN</td>\n",
       "      <td>NaN</td>\n",
       "      <td>NaN</td>\n",
       "      <td>NaN</td>\n",
       "      <td>NaN</td>\n",
       "      <td>NaN</td>\n",
       "      <td>NaN</td>\n",
       "      <td>NaN</td>\n",
       "      <td>NaN</td>\n",
       "      <td>NaN</td>\n",
       "      <td>0</td>\n",
       "      <td>0.0</td>\n",
       "      <td>NaN</td>\n",
       "      <td>12.000000</td>\n",
       "      <td>14.000000</td>\n",
       "      <td>b'\\xd3\\x12\\xaat\\xfb\\x1c\\xde\\xe9\\xa7qs\\x00\\x17\\...</td>\n",
       "      <td>b'p\\xee,\\xe4\\xb8\\x1c\\x81\\xe1\\xac\\xe3\\xb5\\xe0L\\...</td>\n",
       "      <td>0.086955</td>\n",
       "      <td>Android</td>\n",
       "      <td>800</td>\n",
       "      <td>1280</td>\n",
       "      <td>1602617290</td>\n",
       "      <td>1</td>\n",
       "      <td>0.558000</td>\n",
       "    </tr>\n",
       "    <tr>\n",
       "      <th>1855310</th>\n",
       "      <td>1856869</td>\n",
       "      <td>2020-10-13</td>\n",
       "      <td>b'\\xa3w\\x0e\\x92#\\xa6\\xa8\\x1b\\xe2\\xbeS\\x85C\\x10...</td>\n",
       "      <td>b'\\x9aMGt\\x00\\x1a\\xf4\\xee\\x0fS\\xe5\\x03\\xd0\\x88...</td>\n",
       "      <td>9</td>\n",
       "      <td>web</td>\n",
       "      <td>1</td>\n",
       "      <td>83.0</td>\n",
       "      <td>1.0</td>\n",
       "      <td>127.0</td>\n",
       "      <td>1.200800e+09</td>\n",
       "      <td>1.200800e+09</td>\n",
       "      <td>1.200800e+09</td>\n",
       "      <td>ES</td>\n",
       "      <td>b'\\x05\\x1e\\x03\\x8d\\xccD\\x87\\x8b\\xfc\\x1aqc\\xbc\\...</td>\n",
       "      <td>b\"\\xe3\\xb0\\xc4B\\x98\\xfc\\x1c\\x14\\x9a\\xfb\\xf4\\xc...</td>\n",
       "      <td>NaN</td>\n",
       "      <td>-1.0</td>\n",
       "      <td>6</td>\n",
       "      <td>200002.0</td>\n",
       "      <td>0.003459</td>\n",
       "      <td>False</td>\n",
       "      <td>224.938</td>\n",
       "      <td>NaN</td>\n",
       "      <td>NaN</td>\n",
       "      <td>NaN</td>\n",
       "      <td>NaN</td>\n",
       "      <td>NaN</td>\n",
       "      <td>NaN</td>\n",
       "      <td>NaN</td>\n",
       "      <td>NaN</td>\n",
       "      <td>NaN</td>\n",
       "      <td>NaN</td>\n",
       "      <td>NaN</td>\n",
       "      <td>0</td>\n",
       "      <td>1.0</td>\n",
       "      <td>1.000000</td>\n",
       "      <td>NaN</td>\n",
       "      <td>1.000000</td>\n",
       "      <td>b'\\xee\\xd7_&lt;\\xa3\\xa8\\x01\\x1e\\xaa\\xa09\\x88\\xe8\\...</td>\n",
       "      <td>b'\\n\\xd5D\\x88\\x9eA\\xf3c\\x8dg\\xecJ\\xad|f\\x99\\xa...</td>\n",
       "      <td>0.203823</td>\n",
       "      <td>Desktop</td>\n",
       "      <td>970</td>\n",
       "      <td>250</td>\n",
       "      <td>1602615620</td>\n",
       "      <td>0</td>\n",
       "      <td>0.150153</td>\n",
       "    </tr>\n",
       "    <tr>\n",
       "      <th>1855311</th>\n",
       "      <td>1856870</td>\n",
       "      <td>2020-10-13</td>\n",
       "      <td>b'=\\xa6\\xeef\\x99\\xda\\x1e\\xb5-5\\x8a\\xa5\\x9b\\x8e...</td>\n",
       "      <td>b\"f|g\\xd5T\\xc8\\xe2\\x90\\xc6\\xc8\\xfeL\\x0c\\x15\\xe...</td>\n",
       "      <td>8</td>\n",
       "      <td>app_android</td>\n",
       "      <td>1</td>\n",
       "      <td>4.0</td>\n",
       "      <td>1.0</td>\n",
       "      <td>12.0</td>\n",
       "      <td>1.384186e+09</td>\n",
       "      <td>-6.162982e+07</td>\n",
       "      <td>-6.396569e+08</td>\n",
       "      <td>FR</td>\n",
       "      <td>b'\\x9a\\x8dl\\x10\\xf5\\x92N\\x15\\xc8\\xbd\\xe77\\xc2\\...</td>\n",
       "      <td>b'rf\\xccN\\xd1a\\x0c\\x11\\xc7\\xe5Y\\xe5]\\xb6\\x8f2t...</td>\n",
       "      <td>61.0</td>\n",
       "      <td>-1.0</td>\n",
       "      <td>13</td>\n",
       "      <td>20.0</td>\n",
       "      <td>0.003620</td>\n",
       "      <td>False</td>\n",
       "      <td>3.155</td>\n",
       "      <td>NaN</td>\n",
       "      <td>NaN</td>\n",
       "      <td>NaN</td>\n",
       "      <td>NaN</td>\n",
       "      <td>NaN</td>\n",
       "      <td>NaN</td>\n",
       "      <td>NaN</td>\n",
       "      <td>NaN</td>\n",
       "      <td>NaN</td>\n",
       "      <td>NaN</td>\n",
       "      <td>NaN</td>\n",
       "      <td>4</td>\n",
       "      <td>5.0</td>\n",
       "      <td>6.831806</td>\n",
       "      <td>4.000000</td>\n",
       "      <td>10.159028</td>\n",
       "      <td>b'\\xb8d\\x99\\xd4\\x10\\xf1M$&amp;_\\xcaV\\x07\\x9b\\xedt&gt;...</td>\n",
       "      <td>b'\\xf6+\\xfe\\xafJ\\xc5\\x82\\xcc\\x99\\x10\\x8dg\\x8f\\...</td>\n",
       "      <td>0.500099</td>\n",
       "      <td>Android</td>\n",
       "      <td>320</td>\n",
       "      <td>480</td>\n",
       "      <td>1602615640</td>\n",
       "      <td>0</td>\n",
       "      <td>5.790000</td>\n",
       "    </tr>\n",
       "    <tr>\n",
       "      <th>1855312</th>\n",
       "      <td>1856871</td>\n",
       "      <td>2020-10-13</td>\n",
       "      <td>b'\\x0f\\xbc\\x909\\x14[dI\\xa7v]\\xcc\\x00\\xd3\\xbd\\x...</td>\n",
       "      <td>b'\\xf4k\\x93K{l\\xcfK3n\\xc2\\xa2U.R1\\x9a\\xd3\\xe6H...</td>\n",
       "      <td>9</td>\n",
       "      <td>web</td>\n",
       "      <td>2</td>\n",
       "      <td>4.0</td>\n",
       "      <td>2.0</td>\n",
       "      <td>16.0</td>\n",
       "      <td>1.374506e+09</td>\n",
       "      <td>1.374506e+09</td>\n",
       "      <td>1.374506e+09</td>\n",
       "      <td>IT</td>\n",
       "      <td>b'\\xda\\xba4\\xe1\\x96d\\x19\\nH!\\xa3OS\\xc1\\x9b\\xec...</td>\n",
       "      <td>NaN</td>\n",
       "      <td>-1.0</td>\n",
       "      <td>-1.0</td>\n",
       "      <td>0</td>\n",
       "      <td>20.0</td>\n",
       "      <td>0.015898</td>\n",
       "      <td>False</td>\n",
       "      <td>0.638</td>\n",
       "      <td>NaN</td>\n",
       "      <td>NaN</td>\n",
       "      <td>NaN</td>\n",
       "      <td>NaN</td>\n",
       "      <td>NaN</td>\n",
       "      <td>NaN</td>\n",
       "      <td>NaN</td>\n",
       "      <td>NaN</td>\n",
       "      <td>NaN</td>\n",
       "      <td>NaN</td>\n",
       "      <td>NaN</td>\n",
       "      <td>52</td>\n",
       "      <td>5.0</td>\n",
       "      <td>16.983889</td>\n",
       "      <td>8.153241</td>\n",
       "      <td>21.645185</td>\n",
       "      <td>b'\\xffqWf\\xfbU\\xb5\\x10\\xcd\\xed\\x89W\\xe9\\xcb\\xa...</td>\n",
       "      <td>b'\\x8b\\xb9\\xcf\\x82\\x9f\\xe96@\\xbf7\\xed#\\xfb\\x10...</td>\n",
       "      <td>0.145812</td>\n",
       "      <td>Android</td>\n",
       "      <td>300</td>\n",
       "      <td>250</td>\n",
       "      <td>1602615660</td>\n",
       "      <td>0</td>\n",
       "      <td>0.020000</td>\n",
       "    </tr>\n",
       "    <tr>\n",
       "      <th>1855313</th>\n",
       "      <td>1856872</td>\n",
       "      <td>2020-10-13</td>\n",
       "      <td>b'=\\xa6\\xeef\\x99\\xda\\x1e\\xb5-5\\x8a\\xa5\\x9b\\x8e...</td>\n",
       "      <td>b'7\\xa0%5\\x98\\x02\\x00\\xe5\\xa2\\xfb\\xd6\\xa9^\\xb7...</td>\n",
       "      <td>6</td>\n",
       "      <td>web</td>\n",
       "      <td>1</td>\n",
       "      <td>73.0</td>\n",
       "      <td>1.0</td>\n",
       "      <td>127.0</td>\n",
       "      <td>1.293013e+09</td>\n",
       "      <td>1.757411e+09</td>\n",
       "      <td>-2.571973e+08</td>\n",
       "      <td>FR</td>\n",
       "      <td>b'p5\\x17X\\xbf\\xea]c\\xddt\\x085*k\\x9c\\xc0\\xa2!\\x...</td>\n",
       "      <td>NaN</td>\n",
       "      <td>NaN</td>\n",
       "      <td>-1.0</td>\n",
       "      <td>13</td>\n",
       "      <td>20.0</td>\n",
       "      <td>0.005294</td>\n",
       "      <td>False</td>\n",
       "      <td>13.508</td>\n",
       "      <td>NaN</td>\n",
       "      <td>NaN</td>\n",
       "      <td>NaN</td>\n",
       "      <td>NaN</td>\n",
       "      <td>NaN</td>\n",
       "      <td>NaN</td>\n",
       "      <td>NaN</td>\n",
       "      <td>NaN</td>\n",
       "      <td>NaN</td>\n",
       "      <td>NaN</td>\n",
       "      <td>NaN</td>\n",
       "      <td>0</td>\n",
       "      <td>7.0</td>\n",
       "      <td>14.000000</td>\n",
       "      <td>7.000000</td>\n",
       "      <td>14.000000</td>\n",
       "      <td>b'\\x9c\\xf2q\\x1f%\\xf9\\xd6\\xb89\\x8e\\x86&gt;\\xa7\\xbd...</td>\n",
       "      <td>b'\\x95\\xb0$\\xa6:n\\xc2\\x85\\xd8A\\x1d\\xb1\\x05\\xd4...</td>\n",
       "      <td>0.274808</td>\n",
       "      <td>Desktop - Safari</td>\n",
       "      <td>300</td>\n",
       "      <td>600</td>\n",
       "      <td>1602615700</td>\n",
       "      <td>0</td>\n",
       "      <td>0.544333</td>\n",
       "    </tr>\n",
       "  </tbody>\n",
       "</table>\n",
       "<p>1855314 rows × 48 columns</p>\n",
       "</div>"
      ],
      "text/plain": [
       "         Unnamed: 0         day  \\\n",
       "0                 0  2020-10-19   \n",
       "1                 1  2020-10-19   \n",
       "2                 2  2020-10-19   \n",
       "3                 3  2020-10-19   \n",
       "4                 4  2020-10-19   \n",
       "...             ...         ...   \n",
       "1855309     1856868  2020-10-13   \n",
       "1855310     1856869  2020-10-13   \n",
       "1855311     1856870  2020-10-13   \n",
       "1855312     1856871  2020-10-13   \n",
       "1855313     1856872  2020-10-13   \n",
       "\n",
       "                                         hashed_partner_id  \\\n",
       "0        b'=\\xa6\\xeef\\x99\\xda\\x1e\\xb5-5\\x8a\\xa5\\x9b\\x8e...   \n",
       "1        b'=\\xa6\\xeef\\x99\\xda\\x1e\\xb5-5\\x8a\\xa5\\x9b\\x8e...   \n",
       "2        b'\\xa1l\\n\\xb2`\\xe3\\x0b\"\\xcd\\x06\\xfa\\xdf\\x9aj0\\...   \n",
       "3        b'=\\xa6\\xeef\\x99\\xda\\x1e\\xb5-5\\x8a\\xa5\\x9b\\x8e...   \n",
       "4        b'\\x0f\\xbc\\x909\\x14[dI\\xa7v]\\xcc\\x00\\xd3\\xbd\\x...   \n",
       "...                                                    ...   \n",
       "1855309  b'=\\xa6\\xeef\\x99\\xda\\x1e\\xb5-5\\x8a\\xa5\\x9b\\x8e...   \n",
       "1855310  b'\\xa3w\\x0e\\x92#\\xa6\\xa8\\x1b\\xe2\\xbeS\\x85C\\x10...   \n",
       "1855311  b'=\\xa6\\xeef\\x99\\xda\\x1e\\xb5-5\\x8a\\xa5\\x9b\\x8e...   \n",
       "1855312  b'\\x0f\\xbc\\x909\\x14[dI\\xa7v]\\xcc\\x00\\xd3\\xbd\\x...   \n",
       "1855313  b'=\\xa6\\xeef\\x99\\xda\\x1e\\xb5-5\\x8a\\xa5\\x9b\\x8e...   \n",
       "\n",
       "                                        hashed_campaign_id  contextid  \\\n",
       "0        b\"f|g\\xd5T\\xc8\\xe2\\x90\\xc6\\xc8\\xfeL\\x0c\\x15\\xe...          6   \n",
       "1        b'7\\xa0%5\\x98\\x02\\x00\\xe5\\xa2\\xfb\\xd6\\xa9^\\xb7...          0   \n",
       "2        b'\\xbe\\xa0?\\xc2</,\\xa4&w\\x86\\xe9\\x150Y\\xd4\\xdf...          6   \n",
       "3        b'7\\xa0%5\\x98\\x02\\x00\\xe5\\xa2\\xfb\\xd6\\xa9^\\xb7...          6   \n",
       "4        b'\\xa0\\t^\\xa5Z\\x06[-\\x86\\x13\\xd8\\x08\\x98\\x8de\\...          8   \n",
       "...                                                    ...        ...   \n",
       "1855309  b'\\xef5\\x9d\\xc0y\\x18\\xa1\\x8c\\xa5l\\xb5\\r\\x92-\\x...          0   \n",
       "1855310  b'\\x9aMGt\\x00\\x1a\\xf4\\xee\\x0fS\\xe5\\x03\\xd0\\x88...          9   \n",
       "1855311  b\"f|g\\xd5T\\xc8\\xe2\\x90\\xc6\\xc8\\xfeL\\x0c\\x15\\xe...          8   \n",
       "1855312  b'\\xf4k\\x93K{l\\xcfK3n\\xc2\\xa2U.R1\\x9a\\xd3\\xe6H...          9   \n",
       "1855313  b'7\\xa0%5\\x98\\x02\\x00\\xe5\\xa2\\xfb\\xd6\\xa9^\\xb7...          6   \n",
       "\n",
       "         display_env  target_env  rtbtypeid  rtbadvisibility  \\\n",
       "0                web           1       74.0              0.0   \n",
       "1                web           1       74.0              0.0   \n",
       "2                web           1        4.0              2.0   \n",
       "3                web           1       73.0              1.0   \n",
       "4            app_ios           2       74.0              0.0   \n",
       "...              ...         ...        ...              ...   \n",
       "1855309  app_android           1        4.0              1.0   \n",
       "1855310          web           1       83.0              1.0   \n",
       "1855311  app_android           1        4.0              1.0   \n",
       "1855312          web           2        4.0              2.0   \n",
       "1855313          web           1       73.0              1.0   \n",
       "\n",
       "         rtb_detectedlanguage      urlhash2      urlhash3      urlhash4  \\\n",
       "0                       127.0  1.697895e+08  1.697895e+08  1.697895e+08   \n",
       "1                       127.0  3.589877e+08  3.589877e+08  3.589877e+08   \n",
       "2                        10.0 -1.859395e+09  4.960864e+07  2.901651e+07   \n",
       "3                       127.0 -8.462803e+08  8.353379e+08 -1.975498e+09   \n",
       "4                       127.0           NaN           NaN           NaN   \n",
       "...                       ...           ...           ...           ...   \n",
       "1855309                  12.0  1.384186e+09 -6.162982e+07 -6.396569e+08   \n",
       "1855310                 127.0  1.200800e+09  1.200800e+09  1.200800e+09   \n",
       "1855311                  12.0  1.384186e+09 -6.162982e+07 -6.396569e+08   \n",
       "1855312                  16.0  1.374506e+09  1.374506e+09  1.374506e+09   \n",
       "1855313                 127.0  1.293013e+09  1.757411e+09 -2.571973e+08   \n",
       "\n",
       "        user_country                                 hashed_affiliateid  \\\n",
       "0                 FR  b'\\xd2\\x87g\\xe8\\x9f\\xdaE\\x86z\\x12\\xbb\\x8fz{\\x8...   \n",
       "1                 FR  b'\\xd2\\x87g\\xe8\\x9f\\xdaE\\x86z\\x12\\xbb\\x8fz{\\x8...   \n",
       "2                 ES  b'uS\\x86\\x94[2\\xe0\\xe7\\x8f\\xf8\\x0f\\xd5\\xa5\\x1d...   \n",
       "3                 FR  b\"\\xa7\\xc0\\x1a\\x91Je\\xfbF}\\xedD\\x8ah\\xfc-\\x1a'...   \n",
       "4                 IT  b'\\xdc\\xc8+Uj\\x07\\xbd\\xa7[sI\\xd8\\x90\\xb8\\xb0\\x...   \n",
       "...              ...                                                ...   \n",
       "1855309           FR  b'\\x16DWw\\xb6\\xfd\\xd0&\\x1d!x:Kh\\x88\\x00\\xa4\\xc...   \n",
       "1855310           ES  b'\\x05\\x1e\\x03\\x8d\\xccD\\x87\\x8b\\xfc\\x1aqc\\xbc\\...   \n",
       "1855311           FR  b'\\x9a\\x8dl\\x10\\xf5\\x92N\\x15\\xc8\\xbd\\xe77\\xc2\\...   \n",
       "1855312           IT  b'\\xda\\xba4\\xe1\\x96d\\x19\\nH!\\xa3OS\\xc1\\x9b\\xec...   \n",
       "1855313           FR  b'p5\\x17X\\xbf\\xea]c\\xddt\\x085*k\\x9c\\xc0\\xa2!\\x...   \n",
       "\n",
       "                                             hashed_app_id  googleviewability  \\\n",
       "0        b\"\\xe3\\xb0\\xc4B\\x98\\xfc\\x1c\\x14\\x9a\\xfb\\xf4\\xc...                NaN   \n",
       "1        b\"\\xe3\\xb0\\xc4B\\x98\\xfc\\x1c\\x14\\x9a\\xfb\\xf4\\xc...                NaN   \n",
       "2                                                      NaN               20.0   \n",
       "3                                                      NaN                NaN   \n",
       "4        b'\\xa5B\\xff\\x1e\\xcb\\xcf\\xae\\x06R\\xf3\\xc3\\xe1-|...                NaN   \n",
       "...                                                    ...                ...   \n",
       "1855309  b'tR\\xdb\\x0f\\xbdNo=\\x8a\\x9b\\xbd\\xf9@#\\x97\\xf3\\...               85.0   \n",
       "1855310  b\"\\xe3\\xb0\\xc4B\\x98\\xfc\\x1c\\x14\\x9a\\xfb\\xf4\\xc...                NaN   \n",
       "1855311  b'rf\\xccN\\xd1a\\x0c\\x11\\xc7\\xe5Y\\xe5]\\xb6\\x8f2t...               61.0   \n",
       "1855312                                                NaN               -1.0   \n",
       "1855313                                                NaN                NaN   \n",
       "\n",
       "         googlepagevertical  campaignscenario  campaignvertical  \\\n",
       "0                      -1.0                13              20.0   \n",
       "1                      -1.0                13              20.0   \n",
       "2                      -1.0                 0              20.0   \n",
       "3                      -1.0                13              20.0   \n",
       "4                      -1.0                 0              20.0   \n",
       "...                     ...               ...               ...   \n",
       "1855309                -1.0                13              20.0   \n",
       "1855310                -1.0                 6          200002.0   \n",
       "1855311                -1.0                13              20.0   \n",
       "1855312                -1.0                 0              20.0   \n",
       "1855313                -1.0                13              20.0   \n",
       "\n",
       "         campaignctrlast24h is_interstitial  dayssincelastvisitdouble  \\\n",
       "0                  0.003768           False                     1.086   \n",
       "1                  0.005846           False                    -1.000   \n",
       "2                  0.014426           False                     4.716   \n",
       "3                       NaN           False                     0.296   \n",
       "4                  0.017327           False                     0.004   \n",
       "...                     ...             ...                       ...   \n",
       "1855309            0.006683            True                    -1.000   \n",
       "1855310            0.003459           False                   224.938   \n",
       "1855311            0.003620           False                     3.155   \n",
       "1855312            0.015898           False                     0.638   \n",
       "1855313            0.005294           False                    13.508   \n",
       "\n",
       "         ltf_lastpartnerclicktimestamp  ltf_nbglobalclick_4w  \\\n",
       "0                                  NaN                   NaN   \n",
       "1                                  NaN                   NaN   \n",
       "2                                  NaN                   NaN   \n",
       "3                                  NaN                   NaN   \n",
       "4                                  NaN                   NaN   \n",
       "...                                ...                   ...   \n",
       "1855309                            NaN                   NaN   \n",
       "1855310                            NaN                   NaN   \n",
       "1855311                            NaN                   NaN   \n",
       "1855312                            NaN                   NaN   \n",
       "1855313                            NaN                   NaN   \n",
       "\n",
       "         ltf_nbglobaldisplay_4w  \\\n",
       "0                           NaN   \n",
       "1                           NaN   \n",
       "2                           NaN   \n",
       "3                           NaN   \n",
       "4                           NaN   \n",
       "...                         ...   \n",
       "1855309                     NaN   \n",
       "1855310                     NaN   \n",
       "1855311                     NaN   \n",
       "1855312                     NaN   \n",
       "1855313                     NaN   \n",
       "\n",
       "         ltf_nbglobaldisplaysincelastpartnerproductview  \\\n",
       "0                                                   NaN   \n",
       "1                                                   NaN   \n",
       "2                                                   NaN   \n",
       "3                                                   NaN   \n",
       "4                                                   NaN   \n",
       "...                                                 ...   \n",
       "1855309                                             NaN   \n",
       "1855310                                             NaN   \n",
       "1855311                                             NaN   \n",
       "1855312                                             NaN   \n",
       "1855313                                             NaN   \n",
       "\n",
       "         ltf_nbpartnerdisplayssincelastclick  ltf_nbpartnerclick_4w  \\\n",
       "0                                        NaN                    NaN   \n",
       "1                                        NaN                    NaN   \n",
       "2                                        NaN                    NaN   \n",
       "3                                        NaN                    NaN   \n",
       "4                                        NaN                    NaN   \n",
       "...                                      ...                    ...   \n",
       "1855309                                  NaN                    NaN   \n",
       "1855310                                  NaN                    NaN   \n",
       "1855311                                  NaN                    NaN   \n",
       "1855312                                  NaN                    NaN   \n",
       "1855313                                  NaN                    NaN   \n",
       "\n",
       "         ltf_nbpartnerdisplay_4w  ltf_nbpartnersales_4w  \\\n",
       "0                            NaN                    NaN   \n",
       "1                            NaN                    NaN   \n",
       "2                            NaN                    NaN   \n",
       "3                            NaN                    NaN   \n",
       "4                            NaN                    NaN   \n",
       "...                          ...                    ...   \n",
       "1855309                      NaN                    NaN   \n",
       "1855310                      NaN                    NaN   \n",
       "1855311                      NaN                    NaN   \n",
       "1855312                      NaN                    NaN   \n",
       "1855313                      NaN                    NaN   \n",
       "\n",
       "         ltf_nbpartnerdisplay_90d  ltf_nbpartnerclick_90d  \\\n",
       "0                             NaN                     NaN   \n",
       "1                             NaN                     NaN   \n",
       "2                             NaN                     NaN   \n",
       "3                             NaN                     NaN   \n",
       "4                             NaN                     NaN   \n",
       "...                           ...                     ...   \n",
       "1855309                       NaN                     NaN   \n",
       "1855310                       NaN                     NaN   \n",
       "1855311                       NaN                     NaN   \n",
       "1855312                       NaN                     NaN   \n",
       "1855313                       NaN                     NaN   \n",
       "\n",
       "         ltf_nbpartnersales_90d  nbdayssincelastclick  nbdisplay_1hour  \\\n",
       "0                           NaN                     5              2.0   \n",
       "1                           NaN                     0              1.0   \n",
       "2                           NaN                     6              0.0   \n",
       "3                           NaN                     0             32.0   \n",
       "4                           NaN                    44              0.0   \n",
       "...                         ...                   ...              ...   \n",
       "1855309                     NaN                     0              0.0   \n",
       "1855310                     NaN                     0              1.0   \n",
       "1855311                     NaN                     4              5.0   \n",
       "1855312                     NaN                    52              5.0   \n",
       "1855313                     NaN                     0              7.0   \n",
       "\n",
       "         nbdisplaypartnerapprox_1d_sum_xdevice  \\\n",
       "0                                          NaN   \n",
       "1                                     5.000000   \n",
       "2                                     5.000000   \n",
       "3                                    40.000000   \n",
       "4                                     1.000000   \n",
       "...                                        ...   \n",
       "1855309                                    NaN   \n",
       "1855310                               1.000000   \n",
       "1855311                               6.831806   \n",
       "1855312                              16.983889   \n",
       "1855313                              14.000000   \n",
       "\n",
       "         nbdisplayaffiliateapprox_1d_sum_xdevice  \\\n",
       "0                                       2.000000   \n",
       "1                                      42.000000   \n",
       "2                                            NaN   \n",
       "3                                      31.000000   \n",
       "4                                       2.000000   \n",
       "...                                          ...   \n",
       "1855309                                12.000000   \n",
       "1855310                                      NaN   \n",
       "1855311                                 4.000000   \n",
       "1855312                                 8.153241   \n",
       "1855313                                 7.000000   \n",
       "\n",
       "         nbdisplayglobalapprox_1d_sum_xdevice  \\\n",
       "0                                   23.000000   \n",
       "1                                   98.252222   \n",
       "2                                   11.000000   \n",
       "3                                   57.000000   \n",
       "4                                    2.000000   \n",
       "...                                       ...   \n",
       "1855309                             14.000000   \n",
       "1855310                              1.000000   \n",
       "1855311                             10.159028   \n",
       "1855312                             21.645185   \n",
       "1855313                             14.000000   \n",
       "\n",
       "                                                hashed_uid  \\\n",
       "0        b'\\x99w[\\xb8\\xe1\\x9e\\xbaz\\x01\\x06\\x9c\\xdc\\x03\\...   \n",
       "1        b'>\\x1a\\x00W\\xb0\\x81\\x06\\x00\\x90\\xc8\\x8aL\\xb4\\...   \n",
       "2        b'o\\xa5~{\\xf5\\xd0C\\xac_\\xa9\\x10\\x95\\x04L\\x8a\\x...   \n",
       "3        b'\\xf2\\x93e\\xae\\xadBh\\x9f<<\\x9e\\xf0\\x91q\\xba\\x...   \n",
       "4        b'\\xe6\\xa9\\xb2:\\xc5\\x04\\xfd\\x89/Lg\\xc1\\x0e\\xa4...   \n",
       "...                                                    ...   \n",
       "1855309  b'\\xd3\\x12\\xaat\\xfb\\x1c\\xde\\xe9\\xa7qs\\x00\\x17\\...   \n",
       "1855310  b'\\xee\\xd7_<\\xa3\\xa8\\x01\\x1e\\xaa\\xa09\\x88\\xe8\\...   \n",
       "1855311  b'\\xb8d\\x99\\xd4\\x10\\xf1M$&_\\xcaV\\x07\\x9b\\xedt>...   \n",
       "1855312  b'\\xffqWf\\xfbU\\xb5\\x10\\xcd\\xed\\x89W\\xe9\\xcb\\xa...   \n",
       "1855313  b'\\x9c\\xf2q\\x1f%\\xf9\\xd6\\xb89\\x8e\\x86>\\xa7\\xbd...   \n",
       "\n",
       "                                              hashed_xd_id  valueperclick  \\\n",
       "0        b'\\xdb\\xfc\\xdfBY`$\\x97\\xf9\\xaaGn\\x98\\xe0{RQ\\x9...       0.529218   \n",
       "1        b'\\xe9\\xcd\\x80\\xb5\\x96\\xcf8\\x8eo(p-\\x0f\\xf4\\xf...       0.269752   \n",
       "2        b'o\\xa5~{\\xf5\\xd0C\\xac_\\xa9\\x10\\x95\\x04L\\x8a\\x...       0.095993   \n",
       "3        b'\\x83u\\xce\\x10n\\x9f\\x10hP\\x0cI\\xdb \\xed\\xa8,E...       0.269752   \n",
       "4        b'\\xe6\\xa9\\xb2:\\xc5\\x04\\xfd\\x89/Lg\\xc1\\x0e\\xa4...       0.136416   \n",
       "...                                                    ...            ...   \n",
       "1855309  b'p\\xee,\\xe4\\xb8\\x1c\\x81\\xe1\\xac\\xe3\\xb5\\xe0L\\...       0.086955   \n",
       "1855310  b'\\n\\xd5D\\x88\\x9eA\\xf3c\\x8dg\\xecJ\\xad|f\\x99\\xa...       0.203823   \n",
       "1855311  b'\\xf6+\\xfe\\xafJ\\xc5\\x82\\xcc\\x99\\x10\\x8dg\\x8f\\...       0.500099   \n",
       "1855312  b'\\x8b\\xb9\\xcf\\x82\\x9f\\xe96@\\xbf7\\xed#\\xfb\\x10...       0.145812   \n",
       "1855313  b'\\x95\\xb0$\\xa6:n\\xc2\\x85\\xd8A\\x1d\\xb1\\x05\\xd4...       0.274808   \n",
       "\n",
       "              device_type  display_width  display_height  display_timestamp  \\\n",
       "0                 Android              0               0         1603150590   \n",
       "1                 Desktop              0               0         1603150640   \n",
       "2                 Android            640             150         1603150780   \n",
       "3                  iPhone              2               2         1603150840   \n",
       "4                  iPhone              0               0         1603149970   \n",
       "...                   ...            ...             ...                ...   \n",
       "1855309           Android            800            1280         1602617290   \n",
       "1855310           Desktop            970             250         1602615620   \n",
       "1855311           Android            320             480         1602615640   \n",
       "1855312           Android            300             250         1602615660   \n",
       "1855313  Desktop - Safari            300             600         1602615700   \n",
       "\n",
       "         is_display_clicked  zonecostineuro  \n",
       "0                         0        0.366238  \n",
       "1                         0        0.025551  \n",
       "2                         0        0.289000  \n",
       "3                         0        0.243945  \n",
       "4                         0        0.647304  \n",
       "...                     ...             ...  \n",
       "1855309                   1        0.558000  \n",
       "1855310                   0        0.150153  \n",
       "1855311                   0        5.790000  \n",
       "1855312                   0        0.020000  \n",
       "1855313                   0        0.544333  \n",
       "\n",
       "[1855314 rows x 48 columns]"
      ]
     },
     "execution_count": 5,
     "metadata": {},
     "output_type": "execute_result"
    }
   ],
   "source": [
    "df"
   ]
  },
  {
   "cell_type": "code",
   "execution_count": 6,
   "metadata": {},
   "outputs": [
    {
     "data": {
      "text/html": [
       "<div>\n",
       "<style scoped>\n",
       "    .dataframe tbody tr th:only-of-type {\n",
       "        vertical-align: middle;\n",
       "    }\n",
       "\n",
       "    .dataframe tbody tr th {\n",
       "        vertical-align: top;\n",
       "    }\n",
       "\n",
       "    .dataframe thead th {\n",
       "        text-align: right;\n",
       "    }\n",
       "</style>\n",
       "<table border=\"1\" class=\"dataframe\">\n",
       "  <thead>\n",
       "    <tr style=\"text-align: right;\">\n",
       "      <th></th>\n",
       "      <th>Unnamed: 0</th>\n",
       "      <th>day</th>\n",
       "      <th>hashed_partner_id</th>\n",
       "      <th>hashed_campaign_id</th>\n",
       "      <th>contextid</th>\n",
       "      <th>display_env</th>\n",
       "      <th>target_env</th>\n",
       "      <th>rtbtypeid</th>\n",
       "      <th>rtbadvisibility</th>\n",
       "      <th>rtb_detectedlanguage</th>\n",
       "      <th>urlhash2</th>\n",
       "      <th>urlhash3</th>\n",
       "      <th>urlhash4</th>\n",
       "      <th>user_country</th>\n",
       "      <th>hashed_affiliateid</th>\n",
       "      <th>hashed_app_id</th>\n",
       "      <th>googleviewability</th>\n",
       "      <th>googlepagevertical</th>\n",
       "      <th>campaignscenario</th>\n",
       "      <th>campaignvertical</th>\n",
       "      <th>campaignctrlast24h</th>\n",
       "      <th>is_interstitial</th>\n",
       "      <th>dayssincelastvisitdouble</th>\n",
       "      <th>ltf_lastpartnerclicktimestamp</th>\n",
       "      <th>ltf_nbglobalclick_4w</th>\n",
       "      <th>ltf_nbglobaldisplay_4w</th>\n",
       "      <th>ltf_nbglobaldisplaysincelastpartnerproductview</th>\n",
       "      <th>ltf_nbpartnerdisplayssincelastclick</th>\n",
       "      <th>ltf_nbpartnerclick_4w</th>\n",
       "      <th>ltf_nbpartnerdisplay_4w</th>\n",
       "      <th>ltf_nbpartnersales_4w</th>\n",
       "      <th>ltf_nbpartnerdisplay_90d</th>\n",
       "      <th>ltf_nbpartnerclick_90d</th>\n",
       "      <th>ltf_nbpartnersales_90d</th>\n",
       "      <th>nbdayssincelastclick</th>\n",
       "      <th>nbdisplay_1hour</th>\n",
       "      <th>nbdisplaypartnerapprox_1d_sum_xdevice</th>\n",
       "      <th>nbdisplayaffiliateapprox_1d_sum_xdevice</th>\n",
       "      <th>nbdisplayglobalapprox_1d_sum_xdevice</th>\n",
       "      <th>hashed_uid</th>\n",
       "      <th>hashed_xd_id</th>\n",
       "      <th>valueperclick</th>\n",
       "      <th>device_type</th>\n",
       "      <th>display_width</th>\n",
       "      <th>display_height</th>\n",
       "      <th>display_timestamp</th>\n",
       "      <th>is_display_clicked</th>\n",
       "      <th>zonecostineuro</th>\n",
       "    </tr>\n",
       "  </thead>\n",
       "  <tbody>\n",
       "    <tr>\n",
       "      <th>0</th>\n",
       "      <td>0</td>\n",
       "      <td>2020-10-20</td>\n",
       "      <td>b'\\xa3w\\x0e\\x92#\\xa6\\xa8\\x1b\\xe2\\xbeS\\x85C\\x10...</td>\n",
       "      <td>b'\\x9aMGt\\x00\\x1a\\xf4\\xee\\x0fS\\xe5\\x03\\xd0\\x88...</td>\n",
       "      <td>0</td>\n",
       "      <td>web</td>\n",
       "      <td>1</td>\n",
       "      <td>79.0</td>\n",
       "      <td>0.0</td>\n",
       "      <td>10.0</td>\n",
       "      <td>8.842972e+07</td>\n",
       "      <td>-1.424632e+09</td>\n",
       "      <td>-5.877206e+07</td>\n",
       "      <td>ES</td>\n",
       "      <td>b\"\\x05\\xb6\\x88#\\x88\\xd7C\\x91\\x9cDF\\x027\\x84`\\x...</td>\n",
       "      <td>b\"\\xe3\\xb0\\xc4B\\x98\\xfc\\x1c\\x14\\x9a\\xfb\\xf4\\xc...</td>\n",
       "      <td>NaN</td>\n",
       "      <td>-1.0</td>\n",
       "      <td>6</td>\n",
       "      <td>200002</td>\n",
       "      <td>0.003169</td>\n",
       "      <td>False</td>\n",
       "      <td>-1.000</td>\n",
       "      <td>NaN</td>\n",
       "      <td>NaN</td>\n",
       "      <td>NaN</td>\n",
       "      <td>NaN</td>\n",
       "      <td>NaN</td>\n",
       "      <td>NaN</td>\n",
       "      <td>NaN</td>\n",
       "      <td>NaN</td>\n",
       "      <td>NaN</td>\n",
       "      <td>NaN</td>\n",
       "      <td>NaN</td>\n",
       "      <td>0</td>\n",
       "      <td>0.000000</td>\n",
       "      <td>4.000000</td>\n",
       "      <td>NaN</td>\n",
       "      <td>40.000000</td>\n",
       "      <td>b'\\x9fY\\x9b\\xc1o\\xd7\\xbf\\xfb\"\\r@\\xee&gt;\\x8eM\\x05...</td>\n",
       "      <td>b'\\x12\\xb97|\\xbe~\\\\\\x94\\xe8\\xa7\\r\\x9d#\\x92\\x95...</td>\n",
       "      <td>0.204246</td>\n",
       "      <td>Android</td>\n",
       "      <td>0</td>\n",
       "      <td>0</td>\n",
       "      <td>1603236320</td>\n",
       "      <td>0</td>\n",
       "      <td>1.349173</td>\n",
       "    </tr>\n",
       "    <tr>\n",
       "      <th>1</th>\n",
       "      <td>1</td>\n",
       "      <td>2020-10-20</td>\n",
       "      <td>b'=\\xa6\\xeef\\x99\\xda\\x1e\\xb5-5\\x8a\\xa5\\x9b\\x8e...</td>\n",
       "      <td>b'G\\x85\\xe1u\\x9a\\x85\\x158\\xbdb\\x91\\xde2\\x16\\x0...</td>\n",
       "      <td>6</td>\n",
       "      <td>web</td>\n",
       "      <td>1</td>\n",
       "      <td>73.0</td>\n",
       "      <td>1.0</td>\n",
       "      <td>127.0</td>\n",
       "      <td>-2.684551e+08</td>\n",
       "      <td>-2.684551e+08</td>\n",
       "      <td>-2.684551e+08</td>\n",
       "      <td>FR</td>\n",
       "      <td>b'\\xa2\\x14B}\\xf6\\xdb\\xd2\\xaf~eyuW\\xa2\\x9ae\\xda...</td>\n",
       "      <td>NaN</td>\n",
       "      <td>NaN</td>\n",
       "      <td>-1.0</td>\n",
       "      <td>12</td>\n",
       "      <td>20</td>\n",
       "      <td>0.005561</td>\n",
       "      <td>False</td>\n",
       "      <td>0.503</td>\n",
       "      <td>NaN</td>\n",
       "      <td>NaN</td>\n",
       "      <td>NaN</td>\n",
       "      <td>NaN</td>\n",
       "      <td>NaN</td>\n",
       "      <td>NaN</td>\n",
       "      <td>NaN</td>\n",
       "      <td>NaN</td>\n",
       "      <td>NaN</td>\n",
       "      <td>NaN</td>\n",
       "      <td>NaN</td>\n",
       "      <td>0</td>\n",
       "      <td>4.000000</td>\n",
       "      <td>10.000000</td>\n",
       "      <td>NaN</td>\n",
       "      <td>12.000000</td>\n",
       "      <td>b\"\\xf0x]\\x9a\\xe7/\\xd7=\\xcd\\x82&amp;\\x9b\\xd1\\xc4Qu:...</td>\n",
       "      <td>b\"\\xf0x]\\x9a\\xe7/\\xd7=\\xcd\\x82&amp;\\x9b\\xd1\\xc4Qu:...</td>\n",
       "      <td>0.585255</td>\n",
       "      <td>Android</td>\n",
       "      <td>300</td>\n",
       "      <td>250</td>\n",
       "      <td>1603236820</td>\n",
       "      <td>0</td>\n",
       "      <td>0.050001</td>\n",
       "    </tr>\n",
       "    <tr>\n",
       "      <th>2</th>\n",
       "      <td>2</td>\n",
       "      <td>2020-10-20</td>\n",
       "      <td>b'\\xa3w\\x0e\\x92#\\xa6\\xa8\\x1b\\xe2\\xbeS\\x85C\\x10...</td>\n",
       "      <td>b'%\\x01\\xb1\\xdf)Dh\\x9f=j\\xe81my\\xf9\\xa3\\xe1\\xd...</td>\n",
       "      <td>9</td>\n",
       "      <td>web</td>\n",
       "      <td>1</td>\n",
       "      <td>4.0</td>\n",
       "      <td>2.0</td>\n",
       "      <td>9.0</td>\n",
       "      <td>1.219344e+09</td>\n",
       "      <td>-1.935520e+09</td>\n",
       "      <td>-1.935520e+09</td>\n",
       "      <td>ES</td>\n",
       "      <td>b'\\x8b\\x8eo&amp;\\xeb\\x811\\x0b\\xcau\\xcb\\x86)\\x8c\\x9...</td>\n",
       "      <td>NaN</td>\n",
       "      <td>68.0</td>\n",
       "      <td>-1.0</td>\n",
       "      <td>0</td>\n",
       "      <td>200002</td>\n",
       "      <td>0.006584</td>\n",
       "      <td>False</td>\n",
       "      <td>0.003</td>\n",
       "      <td>NaN</td>\n",
       "      <td>NaN</td>\n",
       "      <td>NaN</td>\n",
       "      <td>NaN</td>\n",
       "      <td>NaN</td>\n",
       "      <td>NaN</td>\n",
       "      <td>NaN</td>\n",
       "      <td>NaN</td>\n",
       "      <td>NaN</td>\n",
       "      <td>NaN</td>\n",
       "      <td>NaN</td>\n",
       "      <td>12</td>\n",
       "      <td>10.000000</td>\n",
       "      <td>10.000000</td>\n",
       "      <td>10.000000</td>\n",
       "      <td>18.000000</td>\n",
       "      <td>b'\\xc2p\\x9c\\xcf0\\xe9\\xbf\\xb0b\\xa3\\x89G\\x90\\x08...</td>\n",
       "      <td>b'\\x12\\xb97|\\xbe~\\\\\\x94\\xe8\\xa7\\r\\x9d#\\x92\\x95...</td>\n",
       "      <td>0.153290</td>\n",
       "      <td>Desktop</td>\n",
       "      <td>510</td>\n",
       "      <td>280</td>\n",
       "      <td>1603236840</td>\n",
       "      <td>0</td>\n",
       "      <td>2.210000</td>\n",
       "    </tr>\n",
       "    <tr>\n",
       "      <th>3</th>\n",
       "      <td>3</td>\n",
       "      <td>2020-10-20</td>\n",
       "      <td>b'F\\xb7$\\xb2\\xf8]O{\\xd4\\x85B:\\x04\\xbc\\xf2\\xcf\\...</td>\n",
       "      <td>b'z+\\xb4py\\xb9\\xd8\\x1eG\\xbf\\x19\\x00\\x0e\\xa8\\xf...</td>\n",
       "      <td>9</td>\n",
       "      <td>web</td>\n",
       "      <td>1</td>\n",
       "      <td>4.0</td>\n",
       "      <td>2.0</td>\n",
       "      <td>24.0</td>\n",
       "      <td>-5.447171e+08</td>\n",
       "      <td>2.597535e+08</td>\n",
       "      <td>-1.189036e+08</td>\n",
       "      <td>IT</td>\n",
       "      <td>b\"\\xaa\\xf6\\x86u\\xc4\\xbe\\xa5`\\x0c'?mCq\\xe8\\xd1\\...</td>\n",
       "      <td>NaN</td>\n",
       "      <td>18.0</td>\n",
       "      <td>-1.0</td>\n",
       "      <td>0</td>\n",
       "      <td>14</td>\n",
       "      <td>0.008545</td>\n",
       "      <td>False</td>\n",
       "      <td>0.005</td>\n",
       "      <td>NaN</td>\n",
       "      <td>NaN</td>\n",
       "      <td>NaN</td>\n",
       "      <td>NaN</td>\n",
       "      <td>NaN</td>\n",
       "      <td>NaN</td>\n",
       "      <td>NaN</td>\n",
       "      <td>NaN</td>\n",
       "      <td>NaN</td>\n",
       "      <td>NaN</td>\n",
       "      <td>NaN</td>\n",
       "      <td>6</td>\n",
       "      <td>5.000000</td>\n",
       "      <td>5.000000</td>\n",
       "      <td>5.000000</td>\n",
       "      <td>5.000000</td>\n",
       "      <td>b'\\x91\\xdaT\\xa4\\x050RX&gt;7m\\xd3S*\\xb1P\\xf0\\xbb\\x...</td>\n",
       "      <td>b':\\xaaXO=\\xe67\\xbaL\\xed\\xdb\\xfa\\x9c\\xdb\\xe4Yp...</td>\n",
       "      <td>0.187720</td>\n",
       "      <td>Android</td>\n",
       "      <td>320</td>\n",
       "      <td>480</td>\n",
       "      <td>1603236530</td>\n",
       "      <td>0</td>\n",
       "      <td>1.880000</td>\n",
       "    </tr>\n",
       "    <tr>\n",
       "      <th>4</th>\n",
       "      <td>4</td>\n",
       "      <td>2020-10-20</td>\n",
       "      <td>b'=\\xa6\\xeef\\x99\\xda\\x1e\\xb5-5\\x8a\\xa5\\x9b\\x8e...</td>\n",
       "      <td>b'Q\\xba\\x90%\\xf8\\xb0V\\xdcM\\xd4\\r)1\\x9d\\x0f)w\\x...</td>\n",
       "      <td>0</td>\n",
       "      <td>app_android</td>\n",
       "      <td>1</td>\n",
       "      <td>5.0</td>\n",
       "      <td>0.0</td>\n",
       "      <td>12.0</td>\n",
       "      <td>NaN</td>\n",
       "      <td>NaN</td>\n",
       "      <td>NaN</td>\n",
       "      <td>FR</td>\n",
       "      <td>b'NX\\\\\\x99A\\xf5\\xe8\\tT\\xbd\\xef\\xa6\\x85{;\\xa8\\x...</td>\n",
       "      <td>b'\\x0e53\\x04\\x8a\\xf8q&gt;t\\xe9\\xfdx\\xe1\\xa8\\xab\\x...</td>\n",
       "      <td>NaN</td>\n",
       "      <td>-1.0</td>\n",
       "      <td>11</td>\n",
       "      <td>20</td>\n",
       "      <td>0.009612</td>\n",
       "      <td>False</td>\n",
       "      <td>-1.000</td>\n",
       "      <td>NaN</td>\n",
       "      <td>NaN</td>\n",
       "      <td>NaN</td>\n",
       "      <td>NaN</td>\n",
       "      <td>NaN</td>\n",
       "      <td>NaN</td>\n",
       "      <td>NaN</td>\n",
       "      <td>NaN</td>\n",
       "      <td>NaN</td>\n",
       "      <td>NaN</td>\n",
       "      <td>NaN</td>\n",
       "      <td>0</td>\n",
       "      <td>1.000000</td>\n",
       "      <td>15.000000</td>\n",
       "      <td>252.361944</td>\n",
       "      <td>301.723889</td>\n",
       "      <td>b'\\x14x\\x95\\xf5Y\\x85\\xa7\\xc32&lt;n\\xc5\\xf4oF~\\xfc...</td>\n",
       "      <td>b'\\xca\\xb2F\\x08\\xba\\x93\\x1c\\xbb\\xb5,\\xefL\\xcf\\...</td>\n",
       "      <td>0.050532</td>\n",
       "      <td>Android</td>\n",
       "      <td>320</td>\n",
       "      <td>50</td>\n",
       "      <td>1603236570</td>\n",
       "      <td>0</td>\n",
       "      <td>0.016971</td>\n",
       "    </tr>\n",
       "    <tr>\n",
       "      <th>...</th>\n",
       "      <td>...</td>\n",
       "      <td>...</td>\n",
       "      <td>...</td>\n",
       "      <td>...</td>\n",
       "      <td>...</td>\n",
       "      <td>...</td>\n",
       "      <td>...</td>\n",
       "      <td>...</td>\n",
       "      <td>...</td>\n",
       "      <td>...</td>\n",
       "      <td>...</td>\n",
       "      <td>...</td>\n",
       "      <td>...</td>\n",
       "      <td>...</td>\n",
       "      <td>...</td>\n",
       "      <td>...</td>\n",
       "      <td>...</td>\n",
       "      <td>...</td>\n",
       "      <td>...</td>\n",
       "      <td>...</td>\n",
       "      <td>...</td>\n",
       "      <td>...</td>\n",
       "      <td>...</td>\n",
       "      <td>...</td>\n",
       "      <td>...</td>\n",
       "      <td>...</td>\n",
       "      <td>...</td>\n",
       "      <td>...</td>\n",
       "      <td>...</td>\n",
       "      <td>...</td>\n",
       "      <td>...</td>\n",
       "      <td>...</td>\n",
       "      <td>...</td>\n",
       "      <td>...</td>\n",
       "      <td>...</td>\n",
       "      <td>...</td>\n",
       "      <td>...</td>\n",
       "      <td>...</td>\n",
       "      <td>...</td>\n",
       "      <td>...</td>\n",
       "      <td>...</td>\n",
       "      <td>...</td>\n",
       "      <td>...</td>\n",
       "      <td>...</td>\n",
       "      <td>...</td>\n",
       "      <td>...</td>\n",
       "      <td>...</td>\n",
       "      <td>...</td>\n",
       "    </tr>\n",
       "    <tr>\n",
       "      <th>279922</th>\n",
       "      <td>280122</td>\n",
       "      <td>2020-10-20</td>\n",
       "      <td>b'\\xa1l\\n\\xb2`\\xe3\\x0b\"\\xcd\\x06\\xfa\\xdf\\x9aj0\\...</td>\n",
       "      <td>b'\\x18Z\\x0e\\x9a\\x9ap\\x0f\\x80\\x1d\\xdc\\x9c\\x80\\x...</td>\n",
       "      <td>6</td>\n",
       "      <td>web</td>\n",
       "      <td>1</td>\n",
       "      <td>4.0</td>\n",
       "      <td>2.0</td>\n",
       "      <td>10.0</td>\n",
       "      <td>-5.888793e+08</td>\n",
       "      <td>-5.888793e+08</td>\n",
       "      <td>-5.888793e+08</td>\n",
       "      <td>ES</td>\n",
       "      <td>b'=\\x8a\\x8eO\\xc8\\x0e\\xa7\\xc8\\xe5=\\x90\\x04\\x7fz...</td>\n",
       "      <td>NaN</td>\n",
       "      <td>47.0</td>\n",
       "      <td>-1.0</td>\n",
       "      <td>12</td>\n",
       "      <td>20</td>\n",
       "      <td>0.008952</td>\n",
       "      <td>False</td>\n",
       "      <td>0.002</td>\n",
       "      <td>NaN</td>\n",
       "      <td>NaN</td>\n",
       "      <td>NaN</td>\n",
       "      <td>NaN</td>\n",
       "      <td>NaN</td>\n",
       "      <td>NaN</td>\n",
       "      <td>NaN</td>\n",
       "      <td>NaN</td>\n",
       "      <td>NaN</td>\n",
       "      <td>NaN</td>\n",
       "      <td>NaN</td>\n",
       "      <td>1</td>\n",
       "      <td>16.000000</td>\n",
       "      <td>30.393194</td>\n",
       "      <td>0.436157</td>\n",
       "      <td>86.244028</td>\n",
       "      <td>b\"\\x0c\\xac\\xc5\\xceO\\x07N\\x9ff\\x92'\\xeal\\xb9_\\x...</td>\n",
       "      <td>b':!\\x90x\\xe4\\xf6\\xe5o\\xf1v\\xc4\\xd8\\xe1r\\xd5\\x...</td>\n",
       "      <td>0.201687</td>\n",
       "      <td>Desktop</td>\n",
       "      <td>980</td>\n",
       "      <td>250</td>\n",
       "      <td>1603164180</td>\n",
       "      <td>0</td>\n",
       "      <td>1.925000</td>\n",
       "    </tr>\n",
       "    <tr>\n",
       "      <th>279923</th>\n",
       "      <td>280123</td>\n",
       "      <td>2020-10-20</td>\n",
       "      <td>b'5IH\\xefa\\xd1\\x01I\\xfa\\x91\\xad\\x1b\\xf6\\xa8go\\...</td>\n",
       "      <td>b'|\\xc9\\x17R$I\\xfb\\xc76\\x8c3}3^a\\x99yaM\\x1c\\x9...</td>\n",
       "      <td>6</td>\n",
       "      <td>app_android</td>\n",
       "      <td>1</td>\n",
       "      <td>97.0</td>\n",
       "      <td>0.0</td>\n",
       "      <td>12.0</td>\n",
       "      <td>NaN</td>\n",
       "      <td>NaN</td>\n",
       "      <td>NaN</td>\n",
       "      <td>FR</td>\n",
       "      <td>b'G\\x13\\xc8\\xd70\\xd9-\\x14~\\xba&lt;\\xd7\\xd4\\xc4pN*...</td>\n",
       "      <td>b'!GZ)p\\x8e\\x98\\x99\\x8dG)\\x0e\\xfa\\xdfr\\x8c\\xd5...</td>\n",
       "      <td>NaN</td>\n",
       "      <td>-1.0</td>\n",
       "      <td>0</td>\n",
       "      <td>129</td>\n",
       "      <td>0.005236</td>\n",
       "      <td>False</td>\n",
       "      <td>8.942</td>\n",
       "      <td>NaN</td>\n",
       "      <td>NaN</td>\n",
       "      <td>NaN</td>\n",
       "      <td>NaN</td>\n",
       "      <td>NaN</td>\n",
       "      <td>NaN</td>\n",
       "      <td>NaN</td>\n",
       "      <td>NaN</td>\n",
       "      <td>NaN</td>\n",
       "      <td>NaN</td>\n",
       "      <td>NaN</td>\n",
       "      <td>10</td>\n",
       "      <td>3.000000</td>\n",
       "      <td>34.000000</td>\n",
       "      <td>163.000000</td>\n",
       "      <td>190.000000</td>\n",
       "      <td>b'\\x98*\\\\\\x01\\x95\\x98\\x9ck\\xd3\\xc5\\x84\\x80BV\\x...</td>\n",
       "      <td>b'\\x98*\\\\\\x01\\x95\\x98\\x9ck\\xd3\\xc5\\x84\\x80BV\\x...</td>\n",
       "      <td>0.254829</td>\n",
       "      <td>Android</td>\n",
       "      <td>320</td>\n",
       "      <td>50</td>\n",
       "      <td>1603164380</td>\n",
       "      <td>0</td>\n",
       "      <td>0.008485</td>\n",
       "    </tr>\n",
       "    <tr>\n",
       "      <th>279924</th>\n",
       "      <td>280124</td>\n",
       "      <td>2020-10-20</td>\n",
       "      <td>b\"\\x82\\x97\\xdd\\xe6o+\\xed\\xd2'\\x1f\\x13;='pg\\xab...</td>\n",
       "      <td>b\"W\\xfe\\x0bI\\xa5Y\\x9cB\\x87(|&gt;\\x84\\x8d\\xe7\\x1d\\...</td>\n",
       "      <td>5</td>\n",
       "      <td>web</td>\n",
       "      <td>1</td>\n",
       "      <td>73.0</td>\n",
       "      <td>2.0</td>\n",
       "      <td>127.0</td>\n",
       "      <td>6.328226e+08</td>\n",
       "      <td>6.328226e+08</td>\n",
       "      <td>6.328226e+08</td>\n",
       "      <td>IT</td>\n",
       "      <td>b'5@\\x98\\xf6\\xcc4!\\x8b\\x8c*C\\xe4s\\xd7\\x91wj\\xf...</td>\n",
       "      <td>NaN</td>\n",
       "      <td>NaN</td>\n",
       "      <td>-1.0</td>\n",
       "      <td>6</td>\n",
       "      <td>23</td>\n",
       "      <td>0.008740</td>\n",
       "      <td>False</td>\n",
       "      <td>65.631</td>\n",
       "      <td>NaN</td>\n",
       "      <td>NaN</td>\n",
       "      <td>NaN</td>\n",
       "      <td>NaN</td>\n",
       "      <td>NaN</td>\n",
       "      <td>NaN</td>\n",
       "      <td>NaN</td>\n",
       "      <td>NaN</td>\n",
       "      <td>NaN</td>\n",
       "      <td>NaN</td>\n",
       "      <td>NaN</td>\n",
       "      <td>67</td>\n",
       "      <td>0.781111</td>\n",
       "      <td>NaN</td>\n",
       "      <td>2.037731</td>\n",
       "      <td>71.339583</td>\n",
       "      <td>b')\\x96Q\\xe7\\xe5\\xc3W&gt;\\ra\\x9c\\x12\\x06\\xda\\x8f....</td>\n",
       "      <td>b'\\x12\\xb97|\\xbe~\\\\\\x94\\xe8\\xa7\\r\\x9d#\\x92\\x95...</td>\n",
       "      <td>0.033684</td>\n",
       "      <td>Desktop</td>\n",
       "      <td>300</td>\n",
       "      <td>250</td>\n",
       "      <td>1603164820</td>\n",
       "      <td>0</td>\n",
       "      <td>0.213025</td>\n",
       "    </tr>\n",
       "    <tr>\n",
       "      <th>279925</th>\n",
       "      <td>280125</td>\n",
       "      <td>2020-10-20</td>\n",
       "      <td>b'=\\xa6\\xeef\\x99\\xda\\x1e\\xb5-5\\x8a\\xa5\\x9b\\x8e...</td>\n",
       "      <td>b\"f|g\\xd5T\\xc8\\xe2\\x90\\xc6\\xc8\\xfeL\\x0c\\x15\\xe...</td>\n",
       "      <td>9</td>\n",
       "      <td>web</td>\n",
       "      <td>1</td>\n",
       "      <td>4.0</td>\n",
       "      <td>2.0</td>\n",
       "      <td>12.0</td>\n",
       "      <td>-6.255486e+08</td>\n",
       "      <td>-9.241729e+08</td>\n",
       "      <td>6.315194e+07</td>\n",
       "      <td>FR</td>\n",
       "      <td>b'\\x16DWw\\xb6\\xfd\\xd0&amp;\\x1d!x:Kh\\x88\\x00\\xa4\\xc...</td>\n",
       "      <td>NaN</td>\n",
       "      <td>-1.0</td>\n",
       "      <td>-1.0</td>\n",
       "      <td>13</td>\n",
       "      <td>20</td>\n",
       "      <td>0.003754</td>\n",
       "      <td>False</td>\n",
       "      <td>4.355</td>\n",
       "      <td>NaN</td>\n",
       "      <td>NaN</td>\n",
       "      <td>NaN</td>\n",
       "      <td>NaN</td>\n",
       "      <td>NaN</td>\n",
       "      <td>NaN</td>\n",
       "      <td>NaN</td>\n",
       "      <td>NaN</td>\n",
       "      <td>NaN</td>\n",
       "      <td>NaN</td>\n",
       "      <td>NaN</td>\n",
       "      <td>5</td>\n",
       "      <td>9.000000</td>\n",
       "      <td>16.242593</td>\n",
       "      <td>2.000000</td>\n",
       "      <td>16.242593</td>\n",
       "      <td>b'_\\xd2I\\xd6\\x8e\"\\x9b\\xda{\\x03\\xae\\xae\\xe6\\xbf...</td>\n",
       "      <td>b'_\\xd2I\\xd6\\x8e\"\\x9b\\xda{\\x03\\xae\\xae\\xe6\\xbf...</td>\n",
       "      <td>0.532403</td>\n",
       "      <td>Android</td>\n",
       "      <td>0</td>\n",
       "      <td>0</td>\n",
       "      <td>1603164850</td>\n",
       "      <td>0</td>\n",
       "      <td>0.050000</td>\n",
       "    </tr>\n",
       "    <tr>\n",
       "      <th>279926</th>\n",
       "      <td>280126</td>\n",
       "      <td>2020-10-20</td>\n",
       "      <td>b'=\\xa6\\xeef\\x99\\xda\\x1e\\xb5-5\\x8a\\xa5\\x9b\\x8e...</td>\n",
       "      <td>b'7\\xa0%5\\x98\\x02\\x00\\xe5\\xa2\\xfb\\xd6\\xa9^\\xb7...</td>\n",
       "      <td>6</td>\n",
       "      <td>web</td>\n",
       "      <td>1</td>\n",
       "      <td>73.0</td>\n",
       "      <td>0.0</td>\n",
       "      <td>127.0</td>\n",
       "      <td>6.944641e+08</td>\n",
       "      <td>-1.095962e+09</td>\n",
       "      <td>5.421921e+08</td>\n",
       "      <td>FR</td>\n",
       "      <td>b'!\\xfd\\xf6\\x94\\xcf\\xcct\\x90\\xfe\\x92!\\xfe\\xe8L...</td>\n",
       "      <td>NaN</td>\n",
       "      <td>NaN</td>\n",
       "      <td>-1.0</td>\n",
       "      <td>13</td>\n",
       "      <td>20</td>\n",
       "      <td>0.005797</td>\n",
       "      <td>False</td>\n",
       "      <td>0.096</td>\n",
       "      <td>NaN</td>\n",
       "      <td>NaN</td>\n",
       "      <td>NaN</td>\n",
       "      <td>NaN</td>\n",
       "      <td>NaN</td>\n",
       "      <td>NaN</td>\n",
       "      <td>NaN</td>\n",
       "      <td>NaN</td>\n",
       "      <td>NaN</td>\n",
       "      <td>NaN</td>\n",
       "      <td>NaN</td>\n",
       "      <td>0</td>\n",
       "      <td>2.000000</td>\n",
       "      <td>22.000000</td>\n",
       "      <td>17.000000</td>\n",
       "      <td>25.000000</td>\n",
       "      <td>b'_=\\xd0\\xfa\\x95\\xee\\x93b@\\x93:\\x13\\x1c\\x7f\\xa...</td>\n",
       "      <td>b'\\xf6w\\xc9{g\\x03\\xc5\\xbcf\\xb1\\xe8\\\\\\x1d|\\xd9\\...</td>\n",
       "      <td>0.268702</td>\n",
       "      <td>Desktop</td>\n",
       "      <td>120</td>\n",
       "      <td>600</td>\n",
       "      <td>1603162910</td>\n",
       "      <td>0</td>\n",
       "      <td>5.861667</td>\n",
       "    </tr>\n",
       "  </tbody>\n",
       "</table>\n",
       "<p>279927 rows × 48 columns</p>\n",
       "</div>"
      ],
      "text/plain": [
       "        Unnamed: 0         day  \\\n",
       "0                0  2020-10-20   \n",
       "1                1  2020-10-20   \n",
       "2                2  2020-10-20   \n",
       "3                3  2020-10-20   \n",
       "4                4  2020-10-20   \n",
       "...            ...         ...   \n",
       "279922      280122  2020-10-20   \n",
       "279923      280123  2020-10-20   \n",
       "279924      280124  2020-10-20   \n",
       "279925      280125  2020-10-20   \n",
       "279926      280126  2020-10-20   \n",
       "\n",
       "                                        hashed_partner_id  \\\n",
       "0       b'\\xa3w\\x0e\\x92#\\xa6\\xa8\\x1b\\xe2\\xbeS\\x85C\\x10...   \n",
       "1       b'=\\xa6\\xeef\\x99\\xda\\x1e\\xb5-5\\x8a\\xa5\\x9b\\x8e...   \n",
       "2       b'\\xa3w\\x0e\\x92#\\xa6\\xa8\\x1b\\xe2\\xbeS\\x85C\\x10...   \n",
       "3       b'F\\xb7$\\xb2\\xf8]O{\\xd4\\x85B:\\x04\\xbc\\xf2\\xcf\\...   \n",
       "4       b'=\\xa6\\xeef\\x99\\xda\\x1e\\xb5-5\\x8a\\xa5\\x9b\\x8e...   \n",
       "...                                                   ...   \n",
       "279922  b'\\xa1l\\n\\xb2`\\xe3\\x0b\"\\xcd\\x06\\xfa\\xdf\\x9aj0\\...   \n",
       "279923  b'5IH\\xefa\\xd1\\x01I\\xfa\\x91\\xad\\x1b\\xf6\\xa8go\\...   \n",
       "279924  b\"\\x82\\x97\\xdd\\xe6o+\\xed\\xd2'\\x1f\\x13;='pg\\xab...   \n",
       "279925  b'=\\xa6\\xeef\\x99\\xda\\x1e\\xb5-5\\x8a\\xa5\\x9b\\x8e...   \n",
       "279926  b'=\\xa6\\xeef\\x99\\xda\\x1e\\xb5-5\\x8a\\xa5\\x9b\\x8e...   \n",
       "\n",
       "                                       hashed_campaign_id  contextid  \\\n",
       "0       b'\\x9aMGt\\x00\\x1a\\xf4\\xee\\x0fS\\xe5\\x03\\xd0\\x88...          0   \n",
       "1       b'G\\x85\\xe1u\\x9a\\x85\\x158\\xbdb\\x91\\xde2\\x16\\x0...          6   \n",
       "2       b'%\\x01\\xb1\\xdf)Dh\\x9f=j\\xe81my\\xf9\\xa3\\xe1\\xd...          9   \n",
       "3       b'z+\\xb4py\\xb9\\xd8\\x1eG\\xbf\\x19\\x00\\x0e\\xa8\\xf...          9   \n",
       "4       b'Q\\xba\\x90%\\xf8\\xb0V\\xdcM\\xd4\\r)1\\x9d\\x0f)w\\x...          0   \n",
       "...                                                   ...        ...   \n",
       "279922  b'\\x18Z\\x0e\\x9a\\x9ap\\x0f\\x80\\x1d\\xdc\\x9c\\x80\\x...          6   \n",
       "279923  b'|\\xc9\\x17R$I\\xfb\\xc76\\x8c3}3^a\\x99yaM\\x1c\\x9...          6   \n",
       "279924  b\"W\\xfe\\x0bI\\xa5Y\\x9cB\\x87(|>\\x84\\x8d\\xe7\\x1d\\...          5   \n",
       "279925  b\"f|g\\xd5T\\xc8\\xe2\\x90\\xc6\\xc8\\xfeL\\x0c\\x15\\xe...          9   \n",
       "279926  b'7\\xa0%5\\x98\\x02\\x00\\xe5\\xa2\\xfb\\xd6\\xa9^\\xb7...          6   \n",
       "\n",
       "        display_env  target_env  rtbtypeid  rtbadvisibility  \\\n",
       "0               web           1       79.0              0.0   \n",
       "1               web           1       73.0              1.0   \n",
       "2               web           1        4.0              2.0   \n",
       "3               web           1        4.0              2.0   \n",
       "4       app_android           1        5.0              0.0   \n",
       "...             ...         ...        ...              ...   \n",
       "279922          web           1        4.0              2.0   \n",
       "279923  app_android           1       97.0              0.0   \n",
       "279924          web           1       73.0              2.0   \n",
       "279925          web           1        4.0              2.0   \n",
       "279926          web           1       73.0              0.0   \n",
       "\n",
       "        rtb_detectedlanguage      urlhash2      urlhash3      urlhash4  \\\n",
       "0                       10.0  8.842972e+07 -1.424632e+09 -5.877206e+07   \n",
       "1                      127.0 -2.684551e+08 -2.684551e+08 -2.684551e+08   \n",
       "2                        9.0  1.219344e+09 -1.935520e+09 -1.935520e+09   \n",
       "3                       24.0 -5.447171e+08  2.597535e+08 -1.189036e+08   \n",
       "4                       12.0           NaN           NaN           NaN   \n",
       "...                      ...           ...           ...           ...   \n",
       "279922                  10.0 -5.888793e+08 -5.888793e+08 -5.888793e+08   \n",
       "279923                  12.0           NaN           NaN           NaN   \n",
       "279924                 127.0  6.328226e+08  6.328226e+08  6.328226e+08   \n",
       "279925                  12.0 -6.255486e+08 -9.241729e+08  6.315194e+07   \n",
       "279926                 127.0  6.944641e+08 -1.095962e+09  5.421921e+08   \n",
       "\n",
       "       user_country                                 hashed_affiliateid  \\\n",
       "0                ES  b\"\\x05\\xb6\\x88#\\x88\\xd7C\\x91\\x9cDF\\x027\\x84`\\x...   \n",
       "1                FR  b'\\xa2\\x14B}\\xf6\\xdb\\xd2\\xaf~eyuW\\xa2\\x9ae\\xda...   \n",
       "2                ES  b'\\x8b\\x8eo&\\xeb\\x811\\x0b\\xcau\\xcb\\x86)\\x8c\\x9...   \n",
       "3                IT  b\"\\xaa\\xf6\\x86u\\xc4\\xbe\\xa5`\\x0c'?mCq\\xe8\\xd1\\...   \n",
       "4                FR  b'NX\\\\\\x99A\\xf5\\xe8\\tT\\xbd\\xef\\xa6\\x85{;\\xa8\\x...   \n",
       "...             ...                                                ...   \n",
       "279922           ES  b'=\\x8a\\x8eO\\xc8\\x0e\\xa7\\xc8\\xe5=\\x90\\x04\\x7fz...   \n",
       "279923           FR  b'G\\x13\\xc8\\xd70\\xd9-\\x14~\\xba<\\xd7\\xd4\\xc4pN*...   \n",
       "279924           IT  b'5@\\x98\\xf6\\xcc4!\\x8b\\x8c*C\\xe4s\\xd7\\x91wj\\xf...   \n",
       "279925           FR  b'\\x16DWw\\xb6\\xfd\\xd0&\\x1d!x:Kh\\x88\\x00\\xa4\\xc...   \n",
       "279926           FR  b'!\\xfd\\xf6\\x94\\xcf\\xcct\\x90\\xfe\\x92!\\xfe\\xe8L...   \n",
       "\n",
       "                                            hashed_app_id  googleviewability  \\\n",
       "0       b\"\\xe3\\xb0\\xc4B\\x98\\xfc\\x1c\\x14\\x9a\\xfb\\xf4\\xc...                NaN   \n",
       "1                                                     NaN                NaN   \n",
       "2                                                     NaN               68.0   \n",
       "3                                                     NaN               18.0   \n",
       "4       b'\\x0e53\\x04\\x8a\\xf8q>t\\xe9\\xfdx\\xe1\\xa8\\xab\\x...                NaN   \n",
       "...                                                   ...                ...   \n",
       "279922                                                NaN               47.0   \n",
       "279923  b'!GZ)p\\x8e\\x98\\x99\\x8dG)\\x0e\\xfa\\xdfr\\x8c\\xd5...                NaN   \n",
       "279924                                                NaN                NaN   \n",
       "279925                                                NaN               -1.0   \n",
       "279926                                                NaN                NaN   \n",
       "\n",
       "        googlepagevertical  campaignscenario  campaignvertical  \\\n",
       "0                     -1.0                 6            200002   \n",
       "1                     -1.0                12                20   \n",
       "2                     -1.0                 0            200002   \n",
       "3                     -1.0                 0                14   \n",
       "4                     -1.0                11                20   \n",
       "...                    ...               ...               ...   \n",
       "279922                -1.0                12                20   \n",
       "279923                -1.0                 0               129   \n",
       "279924                -1.0                 6                23   \n",
       "279925                -1.0                13                20   \n",
       "279926                -1.0                13                20   \n",
       "\n",
       "        campaignctrlast24h is_interstitial  dayssincelastvisitdouble  \\\n",
       "0                 0.003169           False                    -1.000   \n",
       "1                 0.005561           False                     0.503   \n",
       "2                 0.006584           False                     0.003   \n",
       "3                 0.008545           False                     0.005   \n",
       "4                 0.009612           False                    -1.000   \n",
       "...                    ...             ...                       ...   \n",
       "279922            0.008952           False                     0.002   \n",
       "279923            0.005236           False                     8.942   \n",
       "279924            0.008740           False                    65.631   \n",
       "279925            0.003754           False                     4.355   \n",
       "279926            0.005797           False                     0.096   \n",
       "\n",
       "        ltf_lastpartnerclicktimestamp  ltf_nbglobalclick_4w  \\\n",
       "0                                 NaN                   NaN   \n",
       "1                                 NaN                   NaN   \n",
       "2                                 NaN                   NaN   \n",
       "3                                 NaN                   NaN   \n",
       "4                                 NaN                   NaN   \n",
       "...                               ...                   ...   \n",
       "279922                            NaN                   NaN   \n",
       "279923                            NaN                   NaN   \n",
       "279924                            NaN                   NaN   \n",
       "279925                            NaN                   NaN   \n",
       "279926                            NaN                   NaN   \n",
       "\n",
       "        ltf_nbglobaldisplay_4w  \\\n",
       "0                          NaN   \n",
       "1                          NaN   \n",
       "2                          NaN   \n",
       "3                          NaN   \n",
       "4                          NaN   \n",
       "...                        ...   \n",
       "279922                     NaN   \n",
       "279923                     NaN   \n",
       "279924                     NaN   \n",
       "279925                     NaN   \n",
       "279926                     NaN   \n",
       "\n",
       "        ltf_nbglobaldisplaysincelastpartnerproductview  \\\n",
       "0                                                  NaN   \n",
       "1                                                  NaN   \n",
       "2                                                  NaN   \n",
       "3                                                  NaN   \n",
       "4                                                  NaN   \n",
       "...                                                ...   \n",
       "279922                                             NaN   \n",
       "279923                                             NaN   \n",
       "279924                                             NaN   \n",
       "279925                                             NaN   \n",
       "279926                                             NaN   \n",
       "\n",
       "        ltf_nbpartnerdisplayssincelastclick  ltf_nbpartnerclick_4w  \\\n",
       "0                                       NaN                    NaN   \n",
       "1                                       NaN                    NaN   \n",
       "2                                       NaN                    NaN   \n",
       "3                                       NaN                    NaN   \n",
       "4                                       NaN                    NaN   \n",
       "...                                     ...                    ...   \n",
       "279922                                  NaN                    NaN   \n",
       "279923                                  NaN                    NaN   \n",
       "279924                                  NaN                    NaN   \n",
       "279925                                  NaN                    NaN   \n",
       "279926                                  NaN                    NaN   \n",
       "\n",
       "        ltf_nbpartnerdisplay_4w  ltf_nbpartnersales_4w  \\\n",
       "0                           NaN                    NaN   \n",
       "1                           NaN                    NaN   \n",
       "2                           NaN                    NaN   \n",
       "3                           NaN                    NaN   \n",
       "4                           NaN                    NaN   \n",
       "...                         ...                    ...   \n",
       "279922                      NaN                    NaN   \n",
       "279923                      NaN                    NaN   \n",
       "279924                      NaN                    NaN   \n",
       "279925                      NaN                    NaN   \n",
       "279926                      NaN                    NaN   \n",
       "\n",
       "        ltf_nbpartnerdisplay_90d  ltf_nbpartnerclick_90d  \\\n",
       "0                            NaN                     NaN   \n",
       "1                            NaN                     NaN   \n",
       "2                            NaN                     NaN   \n",
       "3                            NaN                     NaN   \n",
       "4                            NaN                     NaN   \n",
       "...                          ...                     ...   \n",
       "279922                       NaN                     NaN   \n",
       "279923                       NaN                     NaN   \n",
       "279924                       NaN                     NaN   \n",
       "279925                       NaN                     NaN   \n",
       "279926                       NaN                     NaN   \n",
       "\n",
       "        ltf_nbpartnersales_90d  nbdayssincelastclick  nbdisplay_1hour  \\\n",
       "0                          NaN                     0         0.000000   \n",
       "1                          NaN                     0         4.000000   \n",
       "2                          NaN                    12        10.000000   \n",
       "3                          NaN                     6         5.000000   \n",
       "4                          NaN                     0         1.000000   \n",
       "...                        ...                   ...              ...   \n",
       "279922                     NaN                     1        16.000000   \n",
       "279923                     NaN                    10         3.000000   \n",
       "279924                     NaN                    67         0.781111   \n",
       "279925                     NaN                     5         9.000000   \n",
       "279926                     NaN                     0         2.000000   \n",
       "\n",
       "        nbdisplaypartnerapprox_1d_sum_xdevice  \\\n",
       "0                                    4.000000   \n",
       "1                                   10.000000   \n",
       "2                                   10.000000   \n",
       "3                                    5.000000   \n",
       "4                                   15.000000   \n",
       "...                                       ...   \n",
       "279922                              30.393194   \n",
       "279923                              34.000000   \n",
       "279924                                    NaN   \n",
       "279925                              16.242593   \n",
       "279926                              22.000000   \n",
       "\n",
       "        nbdisplayaffiliateapprox_1d_sum_xdevice  \\\n",
       "0                                           NaN   \n",
       "1                                           NaN   \n",
       "2                                     10.000000   \n",
       "3                                      5.000000   \n",
       "4                                    252.361944   \n",
       "...                                         ...   \n",
       "279922                                 0.436157   \n",
       "279923                               163.000000   \n",
       "279924                                 2.037731   \n",
       "279925                                 2.000000   \n",
       "279926                                17.000000   \n",
       "\n",
       "        nbdisplayglobalapprox_1d_sum_xdevice  \\\n",
       "0                                  40.000000   \n",
       "1                                  12.000000   \n",
       "2                                  18.000000   \n",
       "3                                   5.000000   \n",
       "4                                 301.723889   \n",
       "...                                      ...   \n",
       "279922                             86.244028   \n",
       "279923                            190.000000   \n",
       "279924                             71.339583   \n",
       "279925                             16.242593   \n",
       "279926                             25.000000   \n",
       "\n",
       "                                               hashed_uid  \\\n",
       "0       b'\\x9fY\\x9b\\xc1o\\xd7\\xbf\\xfb\"\\r@\\xee>\\x8eM\\x05...   \n",
       "1       b\"\\xf0x]\\x9a\\xe7/\\xd7=\\xcd\\x82&\\x9b\\xd1\\xc4Qu:...   \n",
       "2       b'\\xc2p\\x9c\\xcf0\\xe9\\xbf\\xb0b\\xa3\\x89G\\x90\\x08...   \n",
       "3       b'\\x91\\xdaT\\xa4\\x050RX>7m\\xd3S*\\xb1P\\xf0\\xbb\\x...   \n",
       "4       b'\\x14x\\x95\\xf5Y\\x85\\xa7\\xc32<n\\xc5\\xf4oF~\\xfc...   \n",
       "...                                                   ...   \n",
       "279922  b\"\\x0c\\xac\\xc5\\xceO\\x07N\\x9ff\\x92'\\xeal\\xb9_\\x...   \n",
       "279923  b'\\x98*\\\\\\x01\\x95\\x98\\x9ck\\xd3\\xc5\\x84\\x80BV\\x...   \n",
       "279924  b')\\x96Q\\xe7\\xe5\\xc3W>\\ra\\x9c\\x12\\x06\\xda\\x8f....   \n",
       "279925  b'_\\xd2I\\xd6\\x8e\"\\x9b\\xda{\\x03\\xae\\xae\\xe6\\xbf...   \n",
       "279926  b'_=\\xd0\\xfa\\x95\\xee\\x93b@\\x93:\\x13\\x1c\\x7f\\xa...   \n",
       "\n",
       "                                             hashed_xd_id  valueperclick  \\\n",
       "0       b'\\x12\\xb97|\\xbe~\\\\\\x94\\xe8\\xa7\\r\\x9d#\\x92\\x95...       0.204246   \n",
       "1       b\"\\xf0x]\\x9a\\xe7/\\xd7=\\xcd\\x82&\\x9b\\xd1\\xc4Qu:...       0.585255   \n",
       "2       b'\\x12\\xb97|\\xbe~\\\\\\x94\\xe8\\xa7\\r\\x9d#\\x92\\x95...       0.153290   \n",
       "3       b':\\xaaXO=\\xe67\\xbaL\\xed\\xdb\\xfa\\x9c\\xdb\\xe4Yp...       0.187720   \n",
       "4       b'\\xca\\xb2F\\x08\\xba\\x93\\x1c\\xbb\\xb5,\\xefL\\xcf\\...       0.050532   \n",
       "...                                                   ...            ...   \n",
       "279922  b':!\\x90x\\xe4\\xf6\\xe5o\\xf1v\\xc4\\xd8\\xe1r\\xd5\\x...       0.201687   \n",
       "279923  b'\\x98*\\\\\\x01\\x95\\x98\\x9ck\\xd3\\xc5\\x84\\x80BV\\x...       0.254829   \n",
       "279924  b'\\x12\\xb97|\\xbe~\\\\\\x94\\xe8\\xa7\\r\\x9d#\\x92\\x95...       0.033684   \n",
       "279925  b'_\\xd2I\\xd6\\x8e\"\\x9b\\xda{\\x03\\xae\\xae\\xe6\\xbf...       0.532403   \n",
       "279926  b'\\xf6w\\xc9{g\\x03\\xc5\\xbcf\\xb1\\xe8\\\\\\x1d|\\xd9\\...       0.268702   \n",
       "\n",
       "       device_type  display_width  display_height  display_timestamp  \\\n",
       "0          Android              0               0         1603236320   \n",
       "1          Android            300             250         1603236820   \n",
       "2          Desktop            510             280         1603236840   \n",
       "3          Android            320             480         1603236530   \n",
       "4          Android            320              50         1603236570   \n",
       "...            ...            ...             ...                ...   \n",
       "279922     Desktop            980             250         1603164180   \n",
       "279923     Android            320              50         1603164380   \n",
       "279924     Desktop            300             250         1603164820   \n",
       "279925     Android              0               0         1603164850   \n",
       "279926     Desktop            120             600         1603162910   \n",
       "\n",
       "        is_display_clicked  zonecostineuro  \n",
       "0                        0        1.349173  \n",
       "1                        0        0.050001  \n",
       "2                        0        2.210000  \n",
       "3                        0        1.880000  \n",
       "4                        0        0.016971  \n",
       "...                    ...             ...  \n",
       "279922                   0        1.925000  \n",
       "279923                   0        0.008485  \n",
       "279924                   0        0.213025  \n",
       "279925                   0        0.050000  \n",
       "279926                   0        5.861667  \n",
       "\n",
       "[279927 rows x 48 columns]"
      ]
     },
     "execution_count": 6,
     "metadata": {},
     "output_type": "execute_result"
    }
   ],
   "source": [
    "df_test"
   ]
  },
  {
   "cell_type": "code",
   "execution_count": 7,
   "metadata": {},
   "outputs": [
    {
     "data": {
      "text/html": [
       "<div>\n",
       "<style scoped>\n",
       "    .dataframe tbody tr th:only-of-type {\n",
       "        vertical-align: middle;\n",
       "    }\n",
       "\n",
       "    .dataframe tbody tr th {\n",
       "        vertical-align: top;\n",
       "    }\n",
       "\n",
       "    .dataframe thead th {\n",
       "        text-align: right;\n",
       "    }\n",
       "</style>\n",
       "<table border=\"1\" class=\"dataframe\">\n",
       "  <thead>\n",
       "    <tr style=\"text-align: right;\">\n",
       "      <th></th>\n",
       "      <th>Proportion manquante</th>\n",
       "    </tr>\n",
       "  </thead>\n",
       "  <tbody>\n",
       "    <tr>\n",
       "      <th>ltf_nbpartnersales_4w</th>\n",
       "      <td>0.997217</td>\n",
       "    </tr>\n",
       "    <tr>\n",
       "      <th>ltf_nbpartnersales_90d</th>\n",
       "      <td>0.995440</td>\n",
       "    </tr>\n",
       "    <tr>\n",
       "      <th>ltf_nbpartnerclick_4w</th>\n",
       "      <td>0.993874</td>\n",
       "    </tr>\n",
       "    <tr>\n",
       "      <th>ltf_nbpartnerdisplayssincelastclick</th>\n",
       "      <td>0.991794</td>\n",
       "    </tr>\n",
       "    <tr>\n",
       "      <th>ltf_lastpartnerclicktimestamp</th>\n",
       "      <td>0.991498</td>\n",
       "    </tr>\n",
       "    <tr>\n",
       "      <th>ltf_nbpartnerclick_90d</th>\n",
       "      <td>0.991498</td>\n",
       "    </tr>\n",
       "    <tr>\n",
       "      <th>ltf_nbglobalclick_4w</th>\n",
       "      <td>0.988667</td>\n",
       "    </tr>\n",
       "    <tr>\n",
       "      <th>ltf_nbglobaldisplaysincelastpartnerproductview</th>\n",
       "      <td>0.988471</td>\n",
       "    </tr>\n",
       "    <tr>\n",
       "      <th>ltf_nbpartnerdisplay_4w</th>\n",
       "      <td>0.983209</td>\n",
       "    </tr>\n",
       "    <tr>\n",
       "      <th>ltf_nbpartnerdisplay_90d</th>\n",
       "      <td>0.982932</td>\n",
       "    </tr>\n",
       "    <tr>\n",
       "      <th>ltf_nbglobaldisplay_4w</th>\n",
       "      <td>0.980472</td>\n",
       "    </tr>\n",
       "    <tr>\n",
       "      <th>googleviewability</th>\n",
       "      <td>0.689296</td>\n",
       "    </tr>\n",
       "    <tr>\n",
       "      <th>hashed_app_id</th>\n",
       "      <td>0.396924</td>\n",
       "    </tr>\n",
       "    <tr>\n",
       "      <th>nbdisplayaffiliateapprox_1d_sum_xdevice</th>\n",
       "      <td>0.196151</td>\n",
       "    </tr>\n",
       "    <tr>\n",
       "      <th>nbdisplaypartnerapprox_1d_sum_xdevice</th>\n",
       "      <td>0.121476</td>\n",
       "    </tr>\n",
       "    <tr>\n",
       "      <th>nbdisplay_1hour</th>\n",
       "      <td>0.098582</td>\n",
       "    </tr>\n",
       "    <tr>\n",
       "      <th>urlhash4</th>\n",
       "      <td>0.083918</td>\n",
       "    </tr>\n",
       "    <tr>\n",
       "      <th>urlhash3</th>\n",
       "      <td>0.083918</td>\n",
       "    </tr>\n",
       "    <tr>\n",
       "      <th>urlhash2</th>\n",
       "      <td>0.083918</td>\n",
       "    </tr>\n",
       "    <tr>\n",
       "      <th>campaignctrlast24h</th>\n",
       "      <td>0.027993</td>\n",
       "    </tr>\n",
       "    <tr>\n",
       "      <th>rtbtypeid</th>\n",
       "      <td>0.004887</td>\n",
       "    </tr>\n",
       "    <tr>\n",
       "      <th>rtbadvisibility</th>\n",
       "      <td>0.004887</td>\n",
       "    </tr>\n",
       "    <tr>\n",
       "      <th>is_interstitial</th>\n",
       "      <td>0.004887</td>\n",
       "    </tr>\n",
       "    <tr>\n",
       "      <th>googlepagevertical</th>\n",
       "      <td>0.004887</td>\n",
       "    </tr>\n",
       "    <tr>\n",
       "      <th>rtb_detectedlanguage</th>\n",
       "      <td>0.004887</td>\n",
       "    </tr>\n",
       "    <tr>\n",
       "      <th>nbdisplayglobalapprox_1d_sum_xdevice</th>\n",
       "      <td>0.000565</td>\n",
       "    </tr>\n",
       "    <tr>\n",
       "      <th>user_country</th>\n",
       "      <td>0.000197</td>\n",
       "    </tr>\n",
       "    <tr>\n",
       "      <th>campaignvertical</th>\n",
       "      <td>0.000019</td>\n",
       "    </tr>\n",
       "  </tbody>\n",
       "</table>\n",
       "</div>"
      ],
      "text/plain": [
       "                                                Proportion manquante\n",
       "ltf_nbpartnersales_4w                                       0.997217\n",
       "ltf_nbpartnersales_90d                                      0.995440\n",
       "ltf_nbpartnerclick_4w                                       0.993874\n",
       "ltf_nbpartnerdisplayssincelastclick                         0.991794\n",
       "ltf_lastpartnerclicktimestamp                               0.991498\n",
       "ltf_nbpartnerclick_90d                                      0.991498\n",
       "ltf_nbglobalclick_4w                                        0.988667\n",
       "ltf_nbglobaldisplaysincelastpartnerproductview              0.988471\n",
       "ltf_nbpartnerdisplay_4w                                     0.983209\n",
       "ltf_nbpartnerdisplay_90d                                    0.982932\n",
       "ltf_nbglobaldisplay_4w                                      0.980472\n",
       "googleviewability                                           0.689296\n",
       "hashed_app_id                                               0.396924\n",
       "nbdisplayaffiliateapprox_1d_sum_xdevice                     0.196151\n",
       "nbdisplaypartnerapprox_1d_sum_xdevice                       0.121476\n",
       "nbdisplay_1hour                                             0.098582\n",
       "urlhash4                                                    0.083918\n",
       "urlhash3                                                    0.083918\n",
       "urlhash2                                                    0.083918\n",
       "campaignctrlast24h                                          0.027993\n",
       "rtbtypeid                                                   0.004887\n",
       "rtbadvisibility                                             0.004887\n",
       "is_interstitial                                             0.004887\n",
       "googlepagevertical                                          0.004887\n",
       "rtb_detectedlanguage                                        0.004887\n",
       "nbdisplayglobalapprox_1d_sum_xdevice                        0.000565\n",
       "user_country                                                0.000197\n",
       "campaignvertical                                            0.000019"
      ]
     },
     "execution_count": 7,
     "metadata": {},
     "output_type": "execute_result"
    }
   ],
   "source": [
    "pd.DataFrame({\"Valeurs manquantes\":df[df.columns[df.isnull().sum() != 0]].isnull().sum(), \"Proportion manquante\":df[df.columns[df.isnull().sum() != 0]].isnull().sum()/len(df)})[[\"Proportion manquante\"]].sort_values(\"Proportion manquante\", ascending=False)"
   ]
  },
  {
   "cell_type": "code",
   "execution_count": 8,
   "metadata": {},
   "outputs": [
    {
     "data": {
      "text/html": [
       "<div>\n",
       "<style scoped>\n",
       "    .dataframe tbody tr th:only-of-type {\n",
       "        vertical-align: middle;\n",
       "    }\n",
       "\n",
       "    .dataframe tbody tr th {\n",
       "        vertical-align: top;\n",
       "    }\n",
       "\n",
       "    .dataframe thead th {\n",
       "        text-align: right;\n",
       "    }\n",
       "</style>\n",
       "<table border=\"1\" class=\"dataframe\">\n",
       "  <thead>\n",
       "    <tr style=\"text-align: right;\">\n",
       "      <th></th>\n",
       "      <th>Unnamed: 0</th>\n",
       "      <th>contextid</th>\n",
       "      <th>target_env</th>\n",
       "      <th>rtbtypeid</th>\n",
       "      <th>rtbadvisibility</th>\n",
       "      <th>rtb_detectedlanguage</th>\n",
       "      <th>urlhash2</th>\n",
       "      <th>urlhash3</th>\n",
       "      <th>urlhash4</th>\n",
       "      <th>googleviewability</th>\n",
       "      <th>googlepagevertical</th>\n",
       "      <th>campaignscenario</th>\n",
       "      <th>campaignvertical</th>\n",
       "      <th>campaignctrlast24h</th>\n",
       "      <th>dayssincelastvisitdouble</th>\n",
       "      <th>ltf_lastpartnerclicktimestamp</th>\n",
       "      <th>ltf_nbglobalclick_4w</th>\n",
       "      <th>ltf_nbglobaldisplay_4w</th>\n",
       "      <th>ltf_nbglobaldisplaysincelastpartnerproductview</th>\n",
       "      <th>ltf_nbpartnerdisplayssincelastclick</th>\n",
       "      <th>ltf_nbpartnerclick_4w</th>\n",
       "      <th>ltf_nbpartnerdisplay_4w</th>\n",
       "      <th>ltf_nbpartnersales_4w</th>\n",
       "      <th>ltf_nbpartnerdisplay_90d</th>\n",
       "      <th>ltf_nbpartnerclick_90d</th>\n",
       "      <th>ltf_nbpartnersales_90d</th>\n",
       "      <th>nbdayssincelastclick</th>\n",
       "      <th>nbdisplay_1hour</th>\n",
       "      <th>nbdisplaypartnerapprox_1d_sum_xdevice</th>\n",
       "      <th>nbdisplayaffiliateapprox_1d_sum_xdevice</th>\n",
       "      <th>nbdisplayglobalapprox_1d_sum_xdevice</th>\n",
       "      <th>valueperclick</th>\n",
       "      <th>display_width</th>\n",
       "      <th>display_height</th>\n",
       "      <th>display_timestamp</th>\n",
       "      <th>is_display_clicked</th>\n",
       "      <th>zonecostineuro</th>\n",
       "    </tr>\n",
       "  </thead>\n",
       "  <tbody>\n",
       "    <tr>\n",
       "      <th>count</th>\n",
       "      <td>1.855314e+06</td>\n",
       "      <td>1.855314e+06</td>\n",
       "      <td>1.855314e+06</td>\n",
       "      <td>1.846248e+06</td>\n",
       "      <td>1.846248e+06</td>\n",
       "      <td>1.846248e+06</td>\n",
       "      <td>1.699619e+06</td>\n",
       "      <td>1.699619e+06</td>\n",
       "      <td>1.699619e+06</td>\n",
       "      <td>576454.000000</td>\n",
       "      <td>1846248.0</td>\n",
       "      <td>1.855314e+06</td>\n",
       "      <td>1.855279e+06</td>\n",
       "      <td>1.803379e+06</td>\n",
       "      <td>1.855314e+06</td>\n",
       "      <td>1.577300e+04</td>\n",
       "      <td>21027.000000</td>\n",
       "      <td>36231.000000</td>\n",
       "      <td>21389.000000</td>\n",
       "      <td>15224.000000</td>\n",
       "      <td>11365.000000</td>\n",
       "      <td>31152.000000</td>\n",
       "      <td>5164.000000</td>\n",
       "      <td>31667.000000</td>\n",
       "      <td>15773.000000</td>\n",
       "      <td>8460.000000</td>\n",
       "      <td>1.855314e+06</td>\n",
       "      <td>1.672413e+06</td>\n",
       "      <td>1.629937e+06</td>\n",
       "      <td>1.491393e+06</td>\n",
       "      <td>1.854266e+06</td>\n",
       "      <td>1.855314e+06</td>\n",
       "      <td>1.855314e+06</td>\n",
       "      <td>1.855314e+06</td>\n",
       "      <td>1.855314e+06</td>\n",
       "      <td>1.855314e+06</td>\n",
       "      <td>1.855314e+06</td>\n",
       "    </tr>\n",
       "    <tr>\n",
       "      <th>mean</th>\n",
       "      <td>9.282739e+05</td>\n",
       "      <td>5.492869e+00</td>\n",
       "      <td>1.096359e+00</td>\n",
       "      <td>3.659570e+01</td>\n",
       "      <td>7.478898e-01</td>\n",
       "      <td>1.007522e+02</td>\n",
       "      <td>7.850766e+07</td>\n",
       "      <td>-7.446977e+07</td>\n",
       "      <td>-1.062055e+08</td>\n",
       "      <td>57.999716</td>\n",
       "      <td>-1.0</td>\n",
       "      <td>7.139971e+00</td>\n",
       "      <td>1.696979e+04</td>\n",
       "      <td>7.546215e-03</td>\n",
       "      <td>2.165348e+01</td>\n",
       "      <td>1.600975e+09</td>\n",
       "      <td>8.286964</td>\n",
       "      <td>613.869587</td>\n",
       "      <td>239.300061</td>\n",
       "      <td>158.976222</td>\n",
       "      <td>5.556797</td>\n",
       "      <td>189.001830</td>\n",
       "      <td>5.380325</td>\n",
       "      <td>403.139893</td>\n",
       "      <td>9.118177</td>\n",
       "      <td>6.963239</td>\n",
       "      <td>1.895177e+01</td>\n",
       "      <td>5.400462e+00</td>\n",
       "      <td>1.582711e+01</td>\n",
       "      <td>2.109685e+01</td>\n",
       "      <td>4.209516e+01</td>\n",
       "      <td>2.484612e-01</td>\n",
       "      <td>3.016472e+02</td>\n",
       "      <td>2.332704e+02</td>\n",
       "      <td>1.602857e+09</td>\n",
       "      <td>5.725392e-02</td>\n",
       "      <td>1.047950e+00</td>\n",
       "    </tr>\n",
       "    <tr>\n",
       "      <th>std</th>\n",
       "      <td>5.359886e+05</td>\n",
       "      <td>2.838990e+00</td>\n",
       "      <td>2.950829e-01</td>\n",
       "      <td>3.337124e+01</td>\n",
       "      <td>8.159876e-01</td>\n",
       "      <td>1.080311e+03</td>\n",
       "      <td>1.252350e+09</td>\n",
       "      <td>1.164329e+09</td>\n",
       "      <td>1.179730e+09</td>\n",
       "      <td>31.362079</td>\n",
       "      <td>0.0</td>\n",
       "      <td>6.041474e+00</td>\n",
       "      <td>5.567753e+04</td>\n",
       "      <td>3.745928e-03</td>\n",
       "      <td>5.090574e+01</td>\n",
       "      <td>2.025644e+06</td>\n",
       "      <td>15.333033</td>\n",
       "      <td>922.818141</td>\n",
       "      <td>504.772931</td>\n",
       "      <td>240.701921</td>\n",
       "      <td>11.540726</td>\n",
       "      <td>266.436444</td>\n",
       "      <td>33.620390</td>\n",
       "      <td>634.691229</td>\n",
       "      <td>23.905260</td>\n",
       "      <td>40.325944</td>\n",
       "      <td>4.375192e+01</td>\n",
       "      <td>8.717584e+00</td>\n",
       "      <td>1.734542e+01</td>\n",
       "      <td>4.471625e+01</td>\n",
       "      <td>6.476439e+01</td>\n",
       "      <td>1.825008e-01</td>\n",
       "      <td>2.597547e+02</td>\n",
       "      <td>2.290920e+02</td>\n",
       "      <td>1.754009e+05</td>\n",
       "      <td>2.323272e-01</td>\n",
       "      <td>2.828386e+00</td>\n",
       "    </tr>\n",
       "    <tr>\n",
       "      <th>min</th>\n",
       "      <td>0.000000e+00</td>\n",
       "      <td>0.000000e+00</td>\n",
       "      <td>1.000000e+00</td>\n",
       "      <td>3.000000e+00</td>\n",
       "      <td>0.000000e+00</td>\n",
       "      <td>-1.000000e+00</td>\n",
       "      <td>-2.147479e+09</td>\n",
       "      <td>-2.147454e+09</td>\n",
       "      <td>-2.147479e+09</td>\n",
       "      <td>-1.000000</td>\n",
       "      <td>-1.0</td>\n",
       "      <td>0.000000e+00</td>\n",
       "      <td>1.400000e+01</td>\n",
       "      <td>2.124557e-03</td>\n",
       "      <td>-1.000000e+00</td>\n",
       "      <td>1.594703e+09</td>\n",
       "      <td>1.000000</td>\n",
       "      <td>1.000000</td>\n",
       "      <td>1.000000</td>\n",
       "      <td>1.000000</td>\n",
       "      <td>1.000000</td>\n",
       "      <td>1.000000</td>\n",
       "      <td>1.000000</td>\n",
       "      <td>1.000000</td>\n",
       "      <td>1.000000</td>\n",
       "      <td>1.000000</td>\n",
       "      <td>0.000000e+00</td>\n",
       "      <td>0.000000e+00</td>\n",
       "      <td>0.000000e+00</td>\n",
       "      <td>0.000000e+00</td>\n",
       "      <td>0.000000e+00</td>\n",
       "      <td>3.411759e-02</td>\n",
       "      <td>0.000000e+00</td>\n",
       "      <td>0.000000e+00</td>\n",
       "      <td>1.602547e+09</td>\n",
       "      <td>0.000000e+00</td>\n",
       "      <td>0.000000e+00</td>\n",
       "    </tr>\n",
       "    <tr>\n",
       "      <th>25%</th>\n",
       "      <td>4.641292e+05</td>\n",
       "      <td>5.000000e+00</td>\n",
       "      <td>1.000000e+00</td>\n",
       "      <td>4.000000e+00</td>\n",
       "      <td>0.000000e+00</td>\n",
       "      <td>1.200000e+01</td>\n",
       "      <td>-9.658852e+08</td>\n",
       "      <td>-1.042497e+09</td>\n",
       "      <td>-1.049987e+09</td>\n",
       "      <td>33.000000</td>\n",
       "      <td>-1.0</td>\n",
       "      <td>0.000000e+00</td>\n",
       "      <td>2.000000e+01</td>\n",
       "      <td>5.100172e-03</td>\n",
       "      <td>1.270000e-01</td>\n",
       "      <td>1.600064e+09</td>\n",
       "      <td>1.000000</td>\n",
       "      <td>96.000000</td>\n",
       "      <td>24.000000</td>\n",
       "      <td>23.000000</td>\n",
       "      <td>1.000000</td>\n",
       "      <td>21.000000</td>\n",
       "      <td>1.000000</td>\n",
       "      <td>41.500000</td>\n",
       "      <td>1.000000</td>\n",
       "      <td>1.000000</td>\n",
       "      <td>0.000000e+00</td>\n",
       "      <td>0.000000e+00</td>\n",
       "      <td>3.000000e+00</td>\n",
       "      <td>2.000000e+00</td>\n",
       "      <td>7.000000e+00</td>\n",
       "      <td>1.029036e-01</td>\n",
       "      <td>2.000000e+00</td>\n",
       "      <td>2.000000e+00</td>\n",
       "      <td>1.602699e+09</td>\n",
       "      <td>0.000000e+00</td>\n",
       "      <td>6.838775e-02</td>\n",
       "    </tr>\n",
       "    <tr>\n",
       "      <th>50%</th>\n",
       "      <td>9.281675e+05</td>\n",
       "      <td>6.000000e+00</td>\n",
       "      <td>1.000000e+00</td>\n",
       "      <td>2.900000e+01</td>\n",
       "      <td>1.000000e+00</td>\n",
       "      <td>1.600000e+01</td>\n",
       "      <td>2.208790e+08</td>\n",
       "      <td>-6.162982e+07</td>\n",
       "      <td>-2.684551e+08</td>\n",
       "      <td>65.000000</td>\n",
       "      <td>-1.0</td>\n",
       "      <td>1.100000e+01</td>\n",
       "      <td>2.000000e+01</td>\n",
       "      <td>6.569261e-03</td>\n",
       "      <td>3.316000e+00</td>\n",
       "      <td>1.601839e+09</td>\n",
       "      <td>4.000000</td>\n",
       "      <td>289.000000</td>\n",
       "      <td>82.000000</td>\n",
       "      <td>71.000000</td>\n",
       "      <td>2.000000</td>\n",
       "      <td>78.000000</td>\n",
       "      <td>1.000000</td>\n",
       "      <td>148.000000</td>\n",
       "      <td>3.000000</td>\n",
       "      <td>2.000000</td>\n",
       "      <td>1.000000e+00</td>\n",
       "      <td>2.000000e+00</td>\n",
       "      <td>9.000000e+00</td>\n",
       "      <td>7.000000e+00</td>\n",
       "      <td>2.112509e+01</td>\n",
       "      <td>1.573855e-01</td>\n",
       "      <td>3.000000e+02</td>\n",
       "      <td>2.500000e+02</td>\n",
       "      <td>1.602854e+09</td>\n",
       "      <td>0.000000e+00</td>\n",
       "      <td>2.906480e-01</td>\n",
       "    </tr>\n",
       "    <tr>\n",
       "      <th>75%</th>\n",
       "      <td>1.392381e+06</td>\n",
       "      <td>7.000000e+00</td>\n",
       "      <td>1.000000e+00</td>\n",
       "      <td>7.300000e+01</td>\n",
       "      <td>1.000000e+00</td>\n",
       "      <td>1.270000e+02</td>\n",
       "      <td>1.316810e+09</td>\n",
       "      <td>8.353379e+08</td>\n",
       "      <td>7.838681e+08</td>\n",
       "      <td>85.000000</td>\n",
       "      <td>-1.0</td>\n",
       "      <td>1.300000e+01</td>\n",
       "      <td>2.000000e+01</td>\n",
       "      <td>9.169599e-03</td>\n",
       "      <td>2.006900e+01</td>\n",
       "      <td>1.602443e+09</td>\n",
       "      <td>9.000000</td>\n",
       "      <td>750.000000</td>\n",
       "      <td>241.000000</td>\n",
       "      <td>190.000000</td>\n",
       "      <td>5.000000</td>\n",
       "      <td>241.250000</td>\n",
       "      <td>3.000000</td>\n",
       "      <td>471.000000</td>\n",
       "      <td>8.000000</td>\n",
       "      <td>3.000000</td>\n",
       "      <td>1.500000e+01</td>\n",
       "      <td>7.000000e+00</td>\n",
       "      <td>2.353755e+01</td>\n",
       "      <td>2.100000e+01</td>\n",
       "      <td>5.177653e+01</td>\n",
       "      <td>4.014691e-01</td>\n",
       "      <td>3.200000e+02</td>\n",
       "      <td>3.000000e+02</td>\n",
       "      <td>1.603021e+09</td>\n",
       "      <td>0.000000e+00</td>\n",
       "      <td>8.990000e-01</td>\n",
       "    </tr>\n",
       "    <tr>\n",
       "      <th>max</th>\n",
       "      <td>1.856872e+06</td>\n",
       "      <td>1.000000e+01</td>\n",
       "      <td>2.000000e+00</td>\n",
       "      <td>1.340000e+02</td>\n",
       "      <td>2.000000e+00</td>\n",
       "      <td>3.177000e+04</td>\n",
       "      <td>2.147366e+09</td>\n",
       "      <td>2.147451e+09</td>\n",
       "      <td>2.147451e+09</td>\n",
       "      <td>100.000000</td>\n",
       "      <td>-1.0</td>\n",
       "      <td>1.700000e+01</td>\n",
       "      <td>2.000020e+05</td>\n",
       "      <td>2.824585e-02</td>\n",
       "      <td>1.398813e+03</td>\n",
       "      <td>1.603065e+09</td>\n",
       "      <td>293.000000</td>\n",
       "      <td>14495.000000</td>\n",
       "      <td>8907.000000</td>\n",
       "      <td>2478.000000</td>\n",
       "      <td>214.000000</td>\n",
       "      <td>1943.000000</td>\n",
       "      <td>1461.000000</td>\n",
       "      <td>5383.000000</td>\n",
       "      <td>514.000000</td>\n",
       "      <td>1702.000000</td>\n",
       "      <td>1.062000e+03</td>\n",
       "      <td>1.610000e+02</td>\n",
       "      <td>4.602779e+02</td>\n",
       "      <td>2.269557e+03</td>\n",
       "      <td>3.953889e+03</td>\n",
       "      <td>7.905422e-01</td>\n",
       "      <td>1.374000e+03</td>\n",
       "      <td>1.286000e+03</td>\n",
       "      <td>1.603155e+09</td>\n",
       "      <td>1.000000e+00</td>\n",
       "      <td>1.000000e+02</td>\n",
       "    </tr>\n",
       "  </tbody>\n",
       "</table>\n",
       "</div>"
      ],
      "text/plain": [
       "         Unnamed: 0     contextid    target_env     rtbtypeid  \\\n",
       "count  1.855314e+06  1.855314e+06  1.855314e+06  1.846248e+06   \n",
       "mean   9.282739e+05  5.492869e+00  1.096359e+00  3.659570e+01   \n",
       "std    5.359886e+05  2.838990e+00  2.950829e-01  3.337124e+01   \n",
       "min    0.000000e+00  0.000000e+00  1.000000e+00  3.000000e+00   \n",
       "25%    4.641292e+05  5.000000e+00  1.000000e+00  4.000000e+00   \n",
       "50%    9.281675e+05  6.000000e+00  1.000000e+00  2.900000e+01   \n",
       "75%    1.392381e+06  7.000000e+00  1.000000e+00  7.300000e+01   \n",
       "max    1.856872e+06  1.000000e+01  2.000000e+00  1.340000e+02   \n",
       "\n",
       "       rtbadvisibility  rtb_detectedlanguage      urlhash2      urlhash3  \\\n",
       "count     1.846248e+06          1.846248e+06  1.699619e+06  1.699619e+06   \n",
       "mean      7.478898e-01          1.007522e+02  7.850766e+07 -7.446977e+07   \n",
       "std       8.159876e-01          1.080311e+03  1.252350e+09  1.164329e+09   \n",
       "min       0.000000e+00         -1.000000e+00 -2.147479e+09 -2.147454e+09   \n",
       "25%       0.000000e+00          1.200000e+01 -9.658852e+08 -1.042497e+09   \n",
       "50%       1.000000e+00          1.600000e+01  2.208790e+08 -6.162982e+07   \n",
       "75%       1.000000e+00          1.270000e+02  1.316810e+09  8.353379e+08   \n",
       "max       2.000000e+00          3.177000e+04  2.147366e+09  2.147451e+09   \n",
       "\n",
       "           urlhash4  googleviewability  googlepagevertical  campaignscenario  \\\n",
       "count  1.699619e+06      576454.000000           1846248.0      1.855314e+06   \n",
       "mean  -1.062055e+08          57.999716                -1.0      7.139971e+00   \n",
       "std    1.179730e+09          31.362079                 0.0      6.041474e+00   \n",
       "min   -2.147479e+09          -1.000000                -1.0      0.000000e+00   \n",
       "25%   -1.049987e+09          33.000000                -1.0      0.000000e+00   \n",
       "50%   -2.684551e+08          65.000000                -1.0      1.100000e+01   \n",
       "75%    7.838681e+08          85.000000                -1.0      1.300000e+01   \n",
       "max    2.147451e+09         100.000000                -1.0      1.700000e+01   \n",
       "\n",
       "       campaignvertical  campaignctrlast24h  dayssincelastvisitdouble  \\\n",
       "count      1.855279e+06        1.803379e+06              1.855314e+06   \n",
       "mean       1.696979e+04        7.546215e-03              2.165348e+01   \n",
       "std        5.567753e+04        3.745928e-03              5.090574e+01   \n",
       "min        1.400000e+01        2.124557e-03             -1.000000e+00   \n",
       "25%        2.000000e+01        5.100172e-03              1.270000e-01   \n",
       "50%        2.000000e+01        6.569261e-03              3.316000e+00   \n",
       "75%        2.000000e+01        9.169599e-03              2.006900e+01   \n",
       "max        2.000020e+05        2.824585e-02              1.398813e+03   \n",
       "\n",
       "       ltf_lastpartnerclicktimestamp  ltf_nbglobalclick_4w  \\\n",
       "count                   1.577300e+04          21027.000000   \n",
       "mean                    1.600975e+09              8.286964   \n",
       "std                     2.025644e+06             15.333033   \n",
       "min                     1.594703e+09              1.000000   \n",
       "25%                     1.600064e+09              1.000000   \n",
       "50%                     1.601839e+09              4.000000   \n",
       "75%                     1.602443e+09              9.000000   \n",
       "max                     1.603065e+09            293.000000   \n",
       "\n",
       "       ltf_nbglobaldisplay_4w  ltf_nbglobaldisplaysincelastpartnerproductview  \\\n",
       "count            36231.000000                                    21389.000000   \n",
       "mean               613.869587                                      239.300061   \n",
       "std                922.818141                                      504.772931   \n",
       "min                  1.000000                                        1.000000   \n",
       "25%                 96.000000                                       24.000000   \n",
       "50%                289.000000                                       82.000000   \n",
       "75%                750.000000                                      241.000000   \n",
       "max              14495.000000                                     8907.000000   \n",
       "\n",
       "       ltf_nbpartnerdisplayssincelastclick  ltf_nbpartnerclick_4w  \\\n",
       "count                         15224.000000           11365.000000   \n",
       "mean                            158.976222               5.556797   \n",
       "std                             240.701921              11.540726   \n",
       "min                               1.000000               1.000000   \n",
       "25%                              23.000000               1.000000   \n",
       "50%                              71.000000               2.000000   \n",
       "75%                             190.000000               5.000000   \n",
       "max                            2478.000000             214.000000   \n",
       "\n",
       "       ltf_nbpartnerdisplay_4w  ltf_nbpartnersales_4w  \\\n",
       "count             31152.000000            5164.000000   \n",
       "mean                189.001830               5.380325   \n",
       "std                 266.436444              33.620390   \n",
       "min                   1.000000               1.000000   \n",
       "25%                  21.000000               1.000000   \n",
       "50%                  78.000000               1.000000   \n",
       "75%                 241.250000               3.000000   \n",
       "max                1943.000000            1461.000000   \n",
       "\n",
       "       ltf_nbpartnerdisplay_90d  ltf_nbpartnerclick_90d  \\\n",
       "count              31667.000000            15773.000000   \n",
       "mean                 403.139893                9.118177   \n",
       "std                  634.691229               23.905260   \n",
       "min                    1.000000                1.000000   \n",
       "25%                   41.500000                1.000000   \n",
       "50%                  148.000000                3.000000   \n",
       "75%                  471.000000                8.000000   \n",
       "max                 5383.000000              514.000000   \n",
       "\n",
       "       ltf_nbpartnersales_90d  nbdayssincelastclick  nbdisplay_1hour  \\\n",
       "count             8460.000000          1.855314e+06     1.672413e+06   \n",
       "mean                 6.963239          1.895177e+01     5.400462e+00   \n",
       "std                 40.325944          4.375192e+01     8.717584e+00   \n",
       "min                  1.000000          0.000000e+00     0.000000e+00   \n",
       "25%                  1.000000          0.000000e+00     0.000000e+00   \n",
       "50%                  2.000000          1.000000e+00     2.000000e+00   \n",
       "75%                  3.000000          1.500000e+01     7.000000e+00   \n",
       "max               1702.000000          1.062000e+03     1.610000e+02   \n",
       "\n",
       "       nbdisplaypartnerapprox_1d_sum_xdevice  \\\n",
       "count                           1.629937e+06   \n",
       "mean                            1.582711e+01   \n",
       "std                             1.734542e+01   \n",
       "min                             0.000000e+00   \n",
       "25%                             3.000000e+00   \n",
       "50%                             9.000000e+00   \n",
       "75%                             2.353755e+01   \n",
       "max                             4.602779e+02   \n",
       "\n",
       "       nbdisplayaffiliateapprox_1d_sum_xdevice  \\\n",
       "count                             1.491393e+06   \n",
       "mean                              2.109685e+01   \n",
       "std                               4.471625e+01   \n",
       "min                               0.000000e+00   \n",
       "25%                               2.000000e+00   \n",
       "50%                               7.000000e+00   \n",
       "75%                               2.100000e+01   \n",
       "max                               2.269557e+03   \n",
       "\n",
       "       nbdisplayglobalapprox_1d_sum_xdevice  valueperclick  display_width  \\\n",
       "count                          1.854266e+06   1.855314e+06   1.855314e+06   \n",
       "mean                           4.209516e+01   2.484612e-01   3.016472e+02   \n",
       "std                            6.476439e+01   1.825008e-01   2.597547e+02   \n",
       "min                            0.000000e+00   3.411759e-02   0.000000e+00   \n",
       "25%                            7.000000e+00   1.029036e-01   2.000000e+00   \n",
       "50%                            2.112509e+01   1.573855e-01   3.000000e+02   \n",
       "75%                            5.177653e+01   4.014691e-01   3.200000e+02   \n",
       "max                            3.953889e+03   7.905422e-01   1.374000e+03   \n",
       "\n",
       "       display_height  display_timestamp  is_display_clicked  zonecostineuro  \n",
       "count    1.855314e+06       1.855314e+06        1.855314e+06    1.855314e+06  \n",
       "mean     2.332704e+02       1.602857e+09        5.725392e-02    1.047950e+00  \n",
       "std      2.290920e+02       1.754009e+05        2.323272e-01    2.828386e+00  \n",
       "min      0.000000e+00       1.602547e+09        0.000000e+00    0.000000e+00  \n",
       "25%      2.000000e+00       1.602699e+09        0.000000e+00    6.838775e-02  \n",
       "50%      2.500000e+02       1.602854e+09        0.000000e+00    2.906480e-01  \n",
       "75%      3.000000e+02       1.603021e+09        0.000000e+00    8.990000e-01  \n",
       "max      1.286000e+03       1.603155e+09        1.000000e+00    1.000000e+02  "
      ]
     },
     "execution_count": 8,
     "metadata": {},
     "output_type": "execute_result"
    }
   ],
   "source": [
    "df.describe()"
   ]
  },
  {
   "cell_type": "code",
   "execution_count": 9,
   "metadata": {},
   "outputs": [
    {
     "data": {
      "text/plain": [
       "0.057253920360650544"
      ]
     },
     "execution_count": 9,
     "metadata": {},
     "output_type": "execute_result"
    }
   ],
   "source": [
    "df['is_display_clicked'].sum()/len(df)"
   ]
  },
  {
   "cell_type": "markdown",
   "metadata": {},
   "source": [
    "## `day` : Date"
   ]
  },
  {
   "cell_type": "code",
   "execution_count": 10,
   "metadata": {},
   "outputs": [
    {
     "name": "stdout",
     "output_type": "stream",
     "text": [
      "Période d'observation base d'entraînement : du 2020-10-13 au 2020-10-19.\n",
      "Période d'observation base de test : du 2020-10-20 au 2020-10-20.\n"
     ]
    }
   ],
   "source": [
    "print(f\"Période d'observation base d'entraînement : du {df['day'].min()} au {df['day'].max()}.\")\n",
    "print(f\"Période d'observation base de test : du {df_test['day'].min()} au {df_test['day'].max()}.\")"
   ]
  },
  {
   "cell_type": "markdown",
   "metadata": {},
   "source": [
    "## `hashed_xd_id` : Hashed cross device identification number (it can gather several devices of a Web user)"
   ]
  },
  {
   "cell_type": "code",
   "execution_count": 11,
   "metadata": {},
   "outputs": [
    {
     "data": {
      "text/plain": [
       "'Nombre de valeurs distinctes : 1138732'"
      ]
     },
     "execution_count": 11,
     "metadata": {},
     "output_type": "execute_result"
    }
   ],
   "source": [
    "f\"Nombre de valeurs distinctes : {df.hashed_xd_id.nunique()}\""
   ]
  },
  {
   "cell_type": "markdown",
   "metadata": {},
   "source": [
    "## `hashed_partner_id` : Hashed identification number of our client\n"
   ]
  },
  {
   "cell_type": "code",
   "execution_count": 12,
   "metadata": {},
   "outputs": [
    {
     "data": {
      "text/plain": [
       "'Nombre de valeurs distinctes : 10'"
      ]
     },
     "execution_count": 12,
     "metadata": {},
     "output_type": "execute_result"
    }
   ],
   "source": [
    "f\"Nombre de valeurs distinctes : {df.hashed_partner_id.nunique()}\""
   ]
  },
  {
   "cell_type": "markdown",
   "metadata": {},
   "source": [
    "## `hashed_campaign_id`: Hashed identification number of the advertising campaign\n"
   ]
  },
  {
   "cell_type": "code",
   "execution_count": 13,
   "metadata": {},
   "outputs": [
    {
     "data": {
      "text/plain": [
       "'Nombre de valeurs distinctes : 78'"
      ]
     },
     "execution_count": 13,
     "metadata": {},
     "output_type": "execute_result"
    }
   ],
   "source": [
    "f\"Nombre de valeurs distinctes : {df.hashed_campaign_id.nunique()}\""
   ]
  },
  {
   "cell_type": "markdown",
   "metadata": {},
   "source": [
    "## `contextid` : Engagement of the user\n",
    "\n",
    "**Question** : Comment et sur quels critères cette variable est déterminée (surtout que ça va de 0 à 10 mais que les valeurs 1 et 3 sont jamais attribuées, plutôt étrange) "
   ]
  },
  {
   "cell_type": "code",
   "execution_count": 14,
   "metadata": {},
   "outputs": [
    {
     "data": {
      "text/plain": [
       "6     629059\n",
       "0     311874\n",
       "7     229737\n",
       "9     205667\n",
       "8     168342\n",
       "5     149310\n",
       "4     106780\n",
       "10     40998\n",
       "2      13547\n",
       "Name: contextid, dtype: int64"
      ]
     },
     "execution_count": 14,
     "metadata": {},
     "output_type": "execute_result"
    }
   ],
   "source": [
    "df[\"contextid\"].value_counts()"
   ]
  },
  {
   "cell_type": "code",
   "execution_count": 15,
   "metadata": {},
   "outputs": [
    {
     "name": "stdout",
     "output_type": "stream",
     "text": [
      "Export PDF : output/discovering/00.pdf\n",
      "\n"
     ]
    },
    {
     "data": {
      "image/png": "[encoded data removed]",
      "text/plain": [
       "<Figure size 432x288 with 1 Axes>"
      ]
     },
     "metadata": {
      "needs_background": "light"
     },
     "output_type": "display_data"
    }
   ],
   "source": [
    "sns.countplot(data=df, x=\"contextid\", color='tab:blue').set(ylabel=None)\n",
    "plt.grid(axis=\"y\")\n",
    "pdf.export()\n",
    "plt.show()"
   ]
  },
  {
   "cell_type": "markdown",
   "metadata": {},
   "source": [
    "## `display_env` : environment of the display"
   ]
  },
  {
   "cell_type": "code",
   "execution_count": 16,
   "metadata": {},
   "outputs": [
    {
     "name": "stdout",
     "output_type": "stream",
     "text": [
      "Export PDF : output/discovering/01.pdf\n",
      "\n"
     ]
    },
    {
     "data": {
      "image/png": "[encoded data removed]",
      "text/plain": [
       "<Figure size 432x288 with 1 Axes>"
      ]
     },
     "metadata": {
      "needs_background": "light"
     },
     "output_type": "display_data"
    }
   ],
   "source": [
    "sns.countplot(x=\"display_env\", data=df, color='tab:blue').set(ylabel=None)\n",
    "plt.grid(axis=\"y\")\n",
    "pdf.export()\n",
    "plt.show()"
   ]
  },
  {
   "cell_type": "markdown",
   "metadata": {},
   "source": [
    "## `target_env` : Target environment of the displays of a campaign (in which environment a click will land)\n",
    "* 1 for web\n",
    "* 2 or App"
   ]
  },
  {
   "cell_type": "code",
   "execution_count": 17,
   "metadata": {},
   "outputs": [
    {
     "name": "stdout",
     "output_type": "stream",
     "text": [
      "Export PDF : output/discovering/02.pdf\n",
      "\n"
     ]
    },
    {
     "data": {
      "image/png": "[encoded data removed]",
      "text/plain": [
       "<Figure size 432x288 with 1 Axes>"
      ]
     },
     "metadata": {
      "needs_background": "light"
     },
     "output_type": "display_data"
    }
   ],
   "source": [
    "sns.countplot(x=\"target_env\", data=df, color='tab:blue').set(ylabel=None)\n",
    "plt.grid(axis=\"y\")\n",
    "pdf.export()\n",
    "plt.show()"
   ]
  },
  {
   "cell_type": "markdown",
   "metadata": {},
   "source": [
    "## `rtbtypeid` : Id of the Real Time Bidding Platform\n",
    "(Technology platform that provides outsourced media selling and ad network management services for publishers).\n",
    "\n"
   ]
  },
  {
   "cell_type": "code",
   "execution_count": 18,
   "metadata": {},
   "outputs": [
    {
     "data": {
      "text/plain": [
       "'Nombre de valeurs distinctes : 41'"
      ]
     },
     "execution_count": 18,
     "metadata": {},
     "output_type": "execute_result"
    }
   ],
   "source": [
    "f\"Nombre de valeurs distinctes : {df.rtbtypeid.nunique()}\""
   ]
  },
  {
   "cell_type": "markdown",
   "metadata": {},
   "source": [
    "## `rtbadvisibility` : Value passed by RTB platforms to signal if the ad is above/below the fold or partially viewable\n",
    "Encoding is not consistent between platforms so this id should always be crossed with rtbtypeid."
   ]
  },
  {
   "cell_type": "code",
   "execution_count": 19,
   "metadata": {},
   "outputs": [
    {
     "name": "stdout",
     "output_type": "stream",
     "text": [
      "Export PDF : output/discovering/03.pdf\n",
      "\n"
     ]
    },
    {
     "data": {
      "image/png": "[encoded data removed]",
      "text/plain": [
       "<Figure size 432x288 with 1 Axes>"
      ]
     },
     "metadata": {
      "needs_background": "light"
     },
     "output_type": "display_data"
    }
   ],
   "source": [
    "sns.countplot(x=\"rtbadvisibility\", data=df, color='tab:blue').set(ylabel=None)\n",
    "plt.grid(axis=\"y\")\n",
    "pdf.export()\n",
    "plt.show()"
   ]
  },
  {
   "cell_type": "markdown",
   "metadata": {},
   "source": [
    "## `rtb_detectedlanguage` : Value passed by RTB platforms to signal the detected language\n",
    "Should be crossed with rtbtypeid.\n"
   ]
  },
  {
   "cell_type": "code",
   "execution_count": 20,
   "metadata": {},
   "outputs": [
    {
     "data": {
      "text/plain": [
       "127.0    819446\n",
       "12.0     535424\n",
       "16.0     215648\n",
       "10.0     124437\n",
       "9.0       96058\n",
       "          ...  \n",
       "82.0          1\n",
       "131.0         1\n",
       "77.0          1\n",
       "35.0          1\n",
       "126.0         1\n",
       "Name: rtb_detectedlanguage, Length: 68, dtype: int64"
      ]
     },
     "execution_count": 20,
     "metadata": {},
     "output_type": "execute_result"
    }
   ],
   "source": [
    "df.rtb_detectedlanguage.value_counts()"
   ]
  },
  {
   "cell_type": "code",
   "execution_count": 21,
   "metadata": {},
   "outputs": [
    {
     "name": "stdout",
     "output_type": "stream",
     "text": [
      "Export PDF : output/discovering/04.pdf\n",
      "\n"
     ]
    },
    {
     "data": {
      "image/png": "[encoded data removed]",
      "text/plain": [
       "<Figure size 432x288 with 1 Axes>"
      ]
     },
     "metadata": {
      "needs_background": "light"
     },
     "output_type": "display_data"
    }
   ],
   "source": [
    "sns.countplot(x=\"rtb_detectedlanguage\", data=df, order=pd.value_counts(df.rtb_detectedlanguage).iloc[:10].index, color='tab:blue').set(ylabel=None)\n",
    "plt.grid(axis=\"y\")\n",
    "pdf.export()\n",
    "plt.show()"
   ]
  },
  {
   "cell_type": "markdown",
   "metadata": {},
   "source": [
    "## `urlhash2` : Part of the hashed URL\n"
   ]
  },
  {
   "cell_type": "code",
   "execution_count": 22,
   "metadata": {},
   "outputs": [
    {
     "data": {
      "text/plain": [
       "'Nombre de valeurs distinctes : 30480'"
      ]
     },
     "execution_count": 22,
     "metadata": {},
     "output_type": "execute_result"
    }
   ],
   "source": [
    "f\"Nombre de valeurs distinctes : {df.urlhash2.nunique()}\""
   ]
  },
  {
   "cell_type": "markdown",
   "metadata": {},
   "source": [
    "## `urlhash3` : Part of the hashed URL"
   ]
  },
  {
   "cell_type": "code",
   "execution_count": 23,
   "metadata": {},
   "outputs": [
    {
     "data": {
      "text/plain": [
       "'Nombre de valeurs distinctes : 121020'"
      ]
     },
     "execution_count": 23,
     "metadata": {},
     "output_type": "execute_result"
    }
   ],
   "source": [
    "f\"Nombre de valeurs distinctes : {df.urlhash3.nunique()}\""
   ]
  },
  {
   "cell_type": "markdown",
   "metadata": {},
   "source": [
    "## `urlhash4` : Part of the hashed URL"
   ]
  },
  {
   "cell_type": "code",
   "execution_count": 24,
   "metadata": {},
   "outputs": [
    {
     "data": {
      "text/plain": [
       "'Nombre de valeurs distinctes : 258491'"
      ]
     },
     "execution_count": 24,
     "metadata": {},
     "output_type": "execute_result"
    }
   ],
   "source": [
    "f\"Nombre de valeurs distinctes : {df.urlhash4.nunique()}\""
   ]
  },
  {
   "cell_type": "markdown",
   "metadata": {},
   "source": [
    "## `user_country` : Country of the Web user"
   ]
  },
  {
   "cell_type": "code",
   "execution_count": 25,
   "metadata": {},
   "outputs": [
    {
     "data": {
      "text/plain": [
       "FR    1120378\n",
       "IT     377497\n",
       "ES     253495\n",
       "DE      85891\n",
       "BE       2117\n",
       "       ...   \n",
       "TM          1\n",
       "IM          1\n",
       "VE          1\n",
       "BW          1\n",
       "KG          1\n",
       "Name: user_country, Length: 144, dtype: int64"
      ]
     },
     "execution_count": 25,
     "metadata": {},
     "output_type": "execute_result"
    }
   ],
   "source": [
    "df.user_country.value_counts()"
   ]
  },
  {
   "cell_type": "code",
   "execution_count": 26,
   "metadata": {},
   "outputs": [
    {
     "name": "stdout",
     "output_type": "stream",
     "text": [
      "Export PDF : output/discovering/05.pdf\n",
      "\n"
     ]
    },
    {
     "data": {
      "image/png": "[encoded data removed]",
      "text/plain": [
       "<Figure size 432x288 with 1 Axes>"
      ]
     },
     "metadata": {
      "needs_background": "light"
     },
     "output_type": "display_data"
    }
   ],
   "source": [
    "sns.countplot(x=\"user_country\", data=df, order=pd.value_counts(df.user_country).iloc[:10].index, color='tab:blue').set(ylabel=None)\n",
    "plt.grid(axis=\"y\")\n",
    "pdf.export()\n",
    "plt.show()"
   ]
  },
  {
   "cell_type": "markdown",
   "metadata": {},
   "source": [
    "## `hashed_affiliateid` : Hashed identifcation number of the publisher affiliate\n",
    "\n"
   ]
  },
  {
   "cell_type": "code",
   "execution_count": 27,
   "metadata": {},
   "outputs": [
    {
     "data": {
      "text/plain": [
       "'Nombre de valeurs distinctes : 3867'"
      ]
     },
     "execution_count": 27,
     "metadata": {},
     "output_type": "execute_result"
    }
   ],
   "source": [
    "f\"Nombre de valeurs distinctes : {df.hashed_affiliateid.nunique()}\""
   ]
  },
  {
   "cell_type": "markdown",
   "metadata": {},
   "source": [
    "## `hashed_app_id` : Hashed identifcation number of the App"
   ]
  },
  {
   "cell_type": "code",
   "execution_count": 28,
   "metadata": {},
   "outputs": [
    {
     "data": {
      "text/plain": [
       "'Nombre de valeurs distinctes : 9338'"
      ]
     },
     "execution_count": 28,
     "metadata": {},
     "output_type": "execute_result"
    }
   ],
   "source": [
    "f\"Nombre de valeurs distinctes : {df.hashed_app_id.nunique()}\""
   ]
  },
  {
   "cell_type": "markdown",
   "metadata": {},
   "source": [
    "## `googleviewability` : Information, when it's given by Google, on the vieawability of the page"
   ]
  },
  {
   "cell_type": "code",
   "execution_count": 29,
   "metadata": {},
   "outputs": [
    {
     "name": "stdout",
     "output_type": "stream",
     "text": [
      "Export PDF : output/discovering/06.pdf\n",
      "\n"
     ]
    },
    {
     "data": {
      "image/png": "[encoded data removed]",
      "text/plain": [
       "<Figure size 432x288 with 1 Axes>"
      ]
     },
     "metadata": {
      "needs_background": "light"
     },
     "output_type": "display_data"
    }
   ],
   "source": [
    "sns.histplot(data=df, x='googleviewability', binwidth=2).set(ylabel=None)\n",
    "plt.grid()\n",
    "pdf.export()\n",
    "plt.show()"
   ]
  },
  {
   "cell_type": "markdown",
   "metadata": {},
   "source": [
    "## `googlepagevertical` : Publisher type"
   ]
  },
  {
   "cell_type": "code",
   "execution_count": 30,
   "metadata": {},
   "outputs": [
    {
     "name": "stdout",
     "output_type": "stream",
     "text": [
      "Export PDF : output/discovering/07.pdf\n",
      "\n"
     ]
    },
    {
     "data": {
      "image/png": "[encoded data removed]",
      "text/plain": [
       "<Figure size 432x288 with 1 Axes>"
      ]
     },
     "metadata": {
      "needs_background": "light"
     },
     "output_type": "display_data"
    }
   ],
   "source": [
    "sns.countplot(x=\"googlepagevertical\", data=df, color='tab:blue')\n",
    "plt.grid(axis=\"y\")\n",
    "pdf.export()\n",
    "plt.show()"
   ]
  },
  {
   "cell_type": "markdown",
   "metadata": {},
   "source": [
    "## `campaignscenario` : Id corresponding to the type of campaign \n",
    "* 0 = Retargeting\n",
    "\n",
    "**Question** : modalités à expliciter\n"
   ]
  },
  {
   "cell_type": "code",
   "execution_count": 31,
   "metadata": {},
   "outputs": [
    {
     "name": "stdout",
     "output_type": "stream",
     "text": [
      "Export PDF : output/discovering/08.pdf\n",
      "\n"
     ]
    },
    {
     "data": {
      "image/png": "[encoded data removed]",
      "text/plain": [
       "<Figure size 432x288 with 1 Axes>"
      ]
     },
     "metadata": {
      "needs_background": "light"
     },
     "output_type": "display_data"
    }
   ],
   "source": [
    "sns.countplot(x=\"campaignscenario\", data=df, color='tab:blue').set(ylabel=None)\n",
    "plt.grid(axis=\"y\")\n",
    "pdf.export()\n",
    "plt.show()"
   ]
  },
  {
   "cell_type": "markdown",
   "metadata": {},
   "source": [
    "## `campaignvertical` : Id corresponding to the type of products concerned in the campaign"
   ]
  },
  {
   "cell_type": "code",
   "execution_count": 32,
   "metadata": {},
   "outputs": [
    {
     "name": "stdout",
     "output_type": "stream",
     "text": [
      "Export PDF : output/discovering/09.pdf\n",
      "\n"
     ]
    },
    {
     "data": {
      "image/png": "[encoded data removed]",
      "text/plain": [
       "<Figure size 432x288 with 1 Axes>"
      ]
     },
     "metadata": {
      "needs_background": "light"
     },
     "output_type": "display_data"
    }
   ],
   "source": [
    "sns.countplot(x=\"campaignvertical\", data=df, color='tab:blue').set(ylabel=None)\n",
    "plt.grid(axis=\"y\")\n",
    "pdf.export()\n",
    "plt.show()"
   ]
  },
  {
   "cell_type": "markdown",
   "metadata": {},
   "source": [
    "## `campaignctrlast24h` : Campaign Click Through Rate computed on the last 24 hours \n",
    "(CTR = Clicks / Displays)\n"
   ]
  },
  {
   "cell_type": "code",
   "execution_count": 33,
   "metadata": {},
   "outputs": [
    {
     "name": "stdout",
     "output_type": "stream",
     "text": [
      "Export PDF : output/discovering/10.pdf\n",
      "\n"
     ]
    },
    {
     "data": {
      "image/png": "[encoded data removed]",
      "text/plain": [
       "<Figure size 432x288 with 1 Axes>"
      ]
     },
     "metadata": {
      "needs_background": "light"
     },
     "output_type": "display_data"
    }
   ],
   "source": [
    "sns.histplot(data=df, x='campaignctrlast24h', binwidth=0.001).set(ylabel=None)\n",
    "plt.grid()\n",
    "pdf.export()\n",
    "plt.show()"
   ]
  },
  {
   "cell_type": "markdown",
   "metadata": {},
   "source": [
    "## `is_interstitial` : Information about the bid request primary source of the field"
   ]
  },
  {
   "cell_type": "code",
   "execution_count": 34,
   "metadata": {},
   "outputs": [
    {
     "name": "stdout",
     "output_type": "stream",
     "text": [
      "Export PDF : output/discovering/11.pdf\n",
      "\n"
     ]
    },
    {
     "data": {
      "image/png": "[encoded data removed]",
      "text/plain": [
       "<Figure size 432x288 with 1 Axes>"
      ]
     },
     "metadata": {
      "needs_background": "light"
     },
     "output_type": "display_data"
    }
   ],
   "source": [
    "sns.countplot(x=\"is_interstitial\", data=df, color='tab:blue').set(ylabel=None)\n",
    "plt.grid(axis=\"y\")\n",
    "pdf.export()\n",
    "plt.show()"
   ]
  },
  {
   "cell_type": "markdown",
   "metadata": {},
   "source": [
    "## `dayssincelastvisitdouble` : Number of days since the last user's visit\n"
   ]
  },
  {
   "cell_type": "code",
   "execution_count": 35,
   "metadata": {},
   "outputs": [
    {
     "name": "stdout",
     "output_type": "stream",
     "text": [
      "Export PDF : output/discovering/12.pdf\n",
      "\n"
     ]
    },
    {
     "data": {
      "image/png": "[encoded data removed]",
      "text/plain": [
       "<Figure size 432x288 with 1 Axes>"
      ]
     },
     "metadata": {
      "needs_background": "light"
     },
     "output_type": "display_data"
    }
   ],
   "source": [
    "df.hist(column='dayssincelastvisitdouble')\n",
    "pdf.export()\n",
    "plt.show()"
   ]
  },
  {
   "cell_type": "code",
   "execution_count": 36,
   "metadata": {},
   "outputs": [
    {
     "name": "stdout",
     "output_type": "stream",
     "text": [
      "Export PDF : output/discovering/13.pdf\n",
      "\n"
     ]
    },
    {
     "data": {
      "image/png": "[encoded data removed]",
      "text/plain": [
       "<Figure size 432x288 with 1 Axes>"
      ]
     },
     "metadata": {
      "needs_background": "light"
     },
     "output_type": "display_data"
    }
   ],
   "source": [
    "df[df.dayssincelastvisitdouble < df.dayssincelastvisitdouble.quantile(q=0.9)].hist(column='dayssincelastvisitdouble')\n",
    "plt.title(\"q=0.9\")\n",
    "pdf.export()\n",
    "plt.show()"
   ]
  },
  {
   "cell_type": "markdown",
   "metadata": {},
   "source": [
    "## `ltf_lastpartnerclicktimestamp` : Last timestamp the user clicked on a display of this partner"
   ]
  },
  {
   "cell_type": "code",
   "execution_count": 37,
   "metadata": {},
   "outputs": [
    {
     "name": "stdout",
     "output_type": "stream",
     "text": [
      "Export PDF : output/discovering/14.pdf\n",
      "\n"
     ]
    },
    {
     "data": {
      "image/png": "[encoded data removed]",
      "text/plain": [
       "<Figure size 432x288 with 1 Axes>"
      ]
     },
     "metadata": {
      "needs_background": "light"
     },
     "output_type": "display_data"
    }
   ],
   "source": [
    "df.hist(column='ltf_lastpartnerclicktimestamp')\n",
    "pdf.export()\n",
    "plt.show()"
   ]
  },
  {
   "cell_type": "code",
   "execution_count": 38,
   "metadata": {},
   "outputs": [
    {
     "name": "stdout",
     "output_type": "stream",
     "text": [
      "Export PDF : output/discovering/15.pdf\n",
      "\n"
     ]
    },
    {
     "data": {
      "image/png": "[encoded data removed]",
      "text/plain": [
       "<Figure size 432x288 with 1 Axes>"
      ]
     },
     "metadata": {
      "needs_background": "light"
     },
     "output_type": "display_data"
    }
   ],
   "source": [
    "df.hist(column='ltf_lastpartnerclicktimestamp')\n",
    "pdf.export()\n",
    "plt.show()"
   ]
  },
  {
   "cell_type": "markdown",
   "metadata": {},
   "source": [
    "## `ltf_nbglobalclick_4w` : Total number of clicks for this user over the past 4 weeks"
   ]
  },
  {
   "cell_type": "code",
   "execution_count": 39,
   "metadata": {},
   "outputs": [
    {
     "name": "stdout",
     "output_type": "stream",
     "text": [
      "Export PDF : output/discovering/16.pdf\n",
      "\n"
     ]
    },
    {
     "data": {
      "image/png": "[encoded data removed]",
      "text/plain": [
       "<Figure size 432x288 with 1 Axes>"
      ]
     },
     "metadata": {
      "needs_background": "light"
     },
     "output_type": "display_data"
    }
   ],
   "source": [
    "df.hist(column='ltf_nbglobalclick_4w')\n",
    "pdf.export()\n",
    "plt.show()"
   ]
  },
  {
   "cell_type": "code",
   "execution_count": 40,
   "metadata": {},
   "outputs": [
    {
     "name": "stdout",
     "output_type": "stream",
     "text": [
      "Export PDF : output/discovering/17.pdf\n",
      "\n"
     ]
    },
    {
     "data": {
      "image/png": "[encoded data removed]",
      "text/plain": [
       "<Figure size 432x288 with 1 Axes>"
      ]
     },
     "metadata": {
      "needs_background": "light"
     },
     "output_type": "display_data"
    }
   ],
   "source": [
    "df[df.ltf_nbglobalclick_4w < df.ltf_nbglobalclick_4w.quantile(q=0.9)].hist(column='ltf_nbglobalclick_4w')\n",
    "plt.title(\"q=0.9\")\n",
    "pdf.export()\n",
    "plt.show()"
   ]
  },
  {
   "cell_type": "markdown",
   "metadata": {},
   "source": [
    "## `ltf_nbglobaldisplay_4w` : Total number of displays for this user over the past 4 weeks"
   ]
  },
  {
   "cell_type": "code",
   "execution_count": 41,
   "metadata": {},
   "outputs": [
    {
     "name": "stdout",
     "output_type": "stream",
     "text": [
      "Export PDF : output/discovering/18.pdf\n",
      "\n"
     ]
    },
    {
     "data": {
      "image/png": "[encoded data removed]",
      "text/plain": [
       "<Figure size 432x288 with 1 Axes>"
      ]
     },
     "metadata": {
      "needs_background": "light"
     },
     "output_type": "display_data"
    }
   ],
   "source": [
    "df.hist(column='ltf_nbglobaldisplay_4w')\n",
    "pdf.export()\n",
    "plt.show()"
   ]
  },
  {
   "cell_type": "code",
   "execution_count": 42,
   "metadata": {},
   "outputs": [
    {
     "name": "stdout",
     "output_type": "stream",
     "text": [
      "Export PDF : output/discovering/19.pdf\n",
      "\n"
     ]
    },
    {
     "data": {
      "image/png": "[encoded data removed]",
      "text/plain": [
       "<Figure size 432x288 with 1 Axes>"
      ]
     },
     "metadata": {
      "needs_background": "light"
     },
     "output_type": "display_data"
    }
   ],
   "source": [
    "df[df.ltf_nbglobaldisplay_4w < df.ltf_nbglobaldisplay_4w.quantile(q=0.9)].hist(column='ltf_nbglobaldisplay_4w')\n",
    "plt.title(\"q=0.9\")\n",
    "pdf.export()\n",
    "plt.show()"
   ]
  },
  {
   "cell_type": "markdown",
   "metadata": {},
   "source": [
    "## `ltf_nbglobaldisplaysincelastpartnerproductview` : Total number of displays for this user since the last view of a product of the partner"
   ]
  },
  {
   "cell_type": "code",
   "execution_count": 43,
   "metadata": {},
   "outputs": [
    {
     "name": "stdout",
     "output_type": "stream",
     "text": [
      "Export PDF : output/discovering/20.pdf\n",
      "\n"
     ]
    },
    {
     "data": {
      "image/png": "[encoded data removed]",
      "text/plain": [
       "<Figure size 432x288 with 1 Axes>"
      ]
     },
     "metadata": {
      "needs_background": "light"
     },
     "output_type": "display_data"
    }
   ],
   "source": [
    "df.hist(column='ltf_nbglobaldisplaysincelastpartnerproductview')\n",
    "pdf.export()\n",
    "plt.show()"
   ]
  },
  {
   "cell_type": "code",
   "execution_count": 44,
   "metadata": {},
   "outputs": [
    {
     "name": "stdout",
     "output_type": "stream",
     "text": [
      "Export PDF : output/discovering/21.pdf\n",
      "\n"
     ]
    },
    {
     "data": {
      "image/png": "[encoded data removed]",
      "text/plain": [
       "<Figure size 432x288 with 1 Axes>"
      ]
     },
     "metadata": {
      "needs_background": "light"
     },
     "output_type": "display_data"
    }
   ],
   "source": [
    "df[df.ltf_nbglobaldisplaysincelastpartnerproductview < df.ltf_nbglobaldisplaysincelastpartnerproductview.quantile(q=0.9)].hist(column='ltf_nbglobaldisplaysincelastpartnerproductview')\n",
    "plt.title(\"q=0.9\")\n",
    "pdf.export()\n",
    "plt.show()"
   ]
  },
  {
   "cell_type": "markdown",
   "metadata": {},
   "source": [
    "## `ltf_nbpartnerdisplayssincelastclick` : Number of displays of the partner for this user since last click"
   ]
  },
  {
   "cell_type": "code",
   "execution_count": 45,
   "metadata": {},
   "outputs": [
    {
     "name": "stdout",
     "output_type": "stream",
     "text": [
      "Export PDF : output/discovering/22.pdf\n",
      "\n"
     ]
    },
    {
     "data": {
      "image/png": "[encoded data removed]",
      "text/plain": [
       "<Figure size 432x288 with 1 Axes>"
      ]
     },
     "metadata": {
      "needs_background": "light"
     },
     "output_type": "display_data"
    }
   ],
   "source": [
    "df.hist(column='ltf_nbpartnerdisplayssincelastclick')\n",
    "pdf.export()\n",
    "plt.show()"
   ]
  },
  {
   "cell_type": "code",
   "execution_count": 46,
   "metadata": {},
   "outputs": [
    {
     "name": "stdout",
     "output_type": "stream",
     "text": [
      "Export PDF : output/discovering/23.pdf\n",
      "\n"
     ]
    },
    {
     "data": {
      "image/png": "[encoded data removed]",
      "text/plain": [
       "<Figure size 432x288 with 1 Axes>"
      ]
     },
     "metadata": {
      "needs_background": "light"
     },
     "output_type": "display_data"
    }
   ],
   "source": [
    "df[df.ltf_nbpartnerdisplayssincelastclick < df.ltf_nbpartnerdisplayssincelastclick.quantile(q=0.9)].hist(column='ltf_nbpartnerdisplayssincelastclick')\n",
    "plt.title(\"q=0.9\")\n",
    "pdf.export()\n",
    "plt.show()"
   ]
  },
  {
   "cell_type": "markdown",
   "metadata": {},
   "source": [
    "## `ltf_nbpartnerclick_4w` : Number of clicks for this user on the partner over the past 4 weeks"
   ]
  },
  {
   "cell_type": "code",
   "execution_count": 47,
   "metadata": {},
   "outputs": [
    {
     "name": "stdout",
     "output_type": "stream",
     "text": [
      "Export PDF : output/discovering/24.pdf\n",
      "\n"
     ]
    },
    {
     "data": {
      "image/png": "[encoded data removed]",
      "text/plain": [
       "<Figure size 432x288 with 1 Axes>"
      ]
     },
     "metadata": {
      "needs_background": "light"
     },
     "output_type": "display_data"
    }
   ],
   "source": [
    "df.hist(column='ltf_nbpartnerclick_4w')\n",
    "pdf.export()\n",
    "plt.show()"
   ]
  },
  {
   "cell_type": "code",
   "execution_count": 48,
   "metadata": {},
   "outputs": [
    {
     "name": "stdout",
     "output_type": "stream",
     "text": [
      "Export PDF : output/discovering/25.pdf\n",
      "\n"
     ]
    },
    {
     "data": {
      "image/png": "[encoded data removed]",
      "text/plain": [
       "<Figure size 432x288 with 1 Axes>"
      ]
     },
     "metadata": {
      "needs_background": "light"
     },
     "output_type": "display_data"
    }
   ],
   "source": [
    "df[df.ltf_nbpartnerclick_4w < df.ltf_nbpartnerclick_4w.quantile(q=0.9)].hist(column='ltf_nbpartnerclick_4w')\n",
    "plt.title(\"q=0.9\")\n",
    "pdf.export()\n",
    "plt.show()"
   ]
  },
  {
   "cell_type": "markdown",
   "metadata": {},
   "source": [
    "## `ltf_nbpartnerdisplay_4w` : Number of displays of the partner for this user over the past 4 weeks"
   ]
  },
  {
   "cell_type": "code",
   "execution_count": 49,
   "metadata": {},
   "outputs": [
    {
     "name": "stdout",
     "output_type": "stream",
     "text": [
      "Export PDF : output/discovering/26.pdf\n",
      "\n"
     ]
    },
    {
     "data": {
      "image/png": "[encoded data removed]",
      "text/plain": [
       "<Figure size 432x288 with 1 Axes>"
      ]
     },
     "metadata": {
      "needs_background": "light"
     },
     "output_type": "display_data"
    }
   ],
   "source": [
    "df.hist(column='ltf_nbpartnerdisplay_4w')\n",
    "pdf.export()\n",
    "plt.show()"
   ]
  },
  {
   "cell_type": "markdown",
   "metadata": {},
   "source": [
    "## `ltf_nbpartnersales_4w` : Number of sales of the partner for this user over the past 4 weeks"
   ]
  },
  {
   "cell_type": "code",
   "execution_count": 50,
   "metadata": {},
   "outputs": [
    {
     "name": "stdout",
     "output_type": "stream",
     "text": [
      "Export PDF : output/discovering/27.pdf\n",
      "\n"
     ]
    },
    {
     "data": {
      "image/png": "[encoded data removed]",
      "text/plain": [
       "<Figure size 432x288 with 1 Axes>"
      ]
     },
     "metadata": {
      "needs_background": "light"
     },
     "output_type": "display_data"
    }
   ],
   "source": [
    "df.hist(column='ltf_nbpartnersales_4w')\n",
    "pdf.export()\n",
    "plt.show()"
   ]
  },
  {
   "cell_type": "code",
   "execution_count": 51,
   "metadata": {},
   "outputs": [
    {
     "name": "stdout",
     "output_type": "stream",
     "text": [
      "Export PDF : output/discovering/28.pdf\n",
      "\n"
     ]
    },
    {
     "data": {
      "image/png": "[encoded data removed]",
      "text/plain": [
       "<Figure size 432x288 with 1 Axes>"
      ]
     },
     "metadata": {
      "needs_background": "light"
     },
     "output_type": "display_data"
    }
   ],
   "source": [
    "df[df.ltf_nbpartnersales_4w < df.ltf_nbpartnersales_4w.quantile(q=0.9)].hist(column='ltf_nbpartnersales_4w')\n",
    "plt.title(\"q=0.9\")\n",
    "pdf.export()\n",
    "plt.show()"
   ]
  },
  {
   "cell_type": "markdown",
   "metadata": {},
   "source": [
    "## `ltf_nbpartnerdisplay_90d` : Number of displays for this user on the partner over the past 90 days"
   ]
  },
  {
   "cell_type": "code",
   "execution_count": 52,
   "metadata": {},
   "outputs": [
    {
     "name": "stdout",
     "output_type": "stream",
     "text": [
      "Export PDF : output/discovering/29.pdf\n",
      "\n"
     ]
    },
    {
     "data": {
      "image/png": "[encoded data removed]",
      "text/plain": [
       "<Figure size 432x288 with 1 Axes>"
      ]
     },
     "metadata": {
      "needs_background": "light"
     },
     "output_type": "display_data"
    }
   ],
   "source": [
    "df.hist(column='ltf_nbpartnerdisplay_90d')\n",
    "pdf.export()\n",
    "plt.show()"
   ]
  },
  {
   "cell_type": "markdown",
   "metadata": {},
   "source": [
    "## `ltf_nbpartnerclick_90d` : Number of clicks for this user on the partner over the past 90 days"
   ]
  },
  {
   "cell_type": "code",
   "execution_count": 53,
   "metadata": {},
   "outputs": [
    {
     "name": "stdout",
     "output_type": "stream",
     "text": [
      "Export PDF : output/discovering/30.pdf\n",
      "\n"
     ]
    },
    {
     "data": {
      "image/png": "[encoded data removed]",
      "text/plain": [
       "<Figure size 432x288 with 1 Axes>"
      ]
     },
     "metadata": {
      "needs_background": "light"
     },
     "output_type": "display_data"
    }
   ],
   "source": [
    "df.hist(column='ltf_nbpartnerclick_90d')\n",
    "pdf.export()\n",
    "plt.show()"
   ]
  },
  {
   "cell_type": "code",
   "execution_count": 54,
   "metadata": {},
   "outputs": [
    {
     "name": "stdout",
     "output_type": "stream",
     "text": [
      "Export PDF : output/discovering/31.pdf\n",
      "\n"
     ]
    },
    {
     "data": {
      "image/png": "[encoded data removed]",
      "text/plain": [
       "<Figure size 432x288 with 1 Axes>"
      ]
     },
     "metadata": {
      "needs_background": "light"
     },
     "output_type": "display_data"
    }
   ],
   "source": [
    "df[df.ltf_nbpartnerclick_90d < df.ltf_nbpartnerclick_90d.quantile(q=0.9)].hist(column='ltf_nbpartnerclick_90d')\n",
    "plt.title(\"q=0.9\")\n",
    "pdf.export()\n",
    "plt.show()"
   ]
  },
  {
   "cell_type": "markdown",
   "metadata": {},
   "source": [
    "## `ltf_nbpartnersales_90d` : Number of sales of the partner for this user over the past 90 days"
   ]
  },
  {
   "cell_type": "code",
   "execution_count": 55,
   "metadata": {},
   "outputs": [
    {
     "name": "stdout",
     "output_type": "stream",
     "text": [
      "Export PDF : output/discovering/32.pdf\n",
      "\n"
     ]
    },
    {
     "data": {
      "image/png": "[encoded data removed]",
      "text/plain": [
       "<Figure size 432x288 with 1 Axes>"
      ]
     },
     "metadata": {
      "needs_background": "light"
     },
     "output_type": "display_data"
    }
   ],
   "source": [
    "df.hist(column='ltf_nbpartnersales_90d')\n",
    "pdf.export()\n",
    "plt.show()"
   ]
  },
  {
   "cell_type": "code",
   "execution_count": 56,
   "metadata": {},
   "outputs": [
    {
     "name": "stdout",
     "output_type": "stream",
     "text": [
      "Export PDF : output/discovering/33.pdf\n",
      "\n"
     ]
    },
    {
     "data": {
      "image/png": "[encoded data removed]",
      "text/plain": [
       "<Figure size 432x288 with 1 Axes>"
      ]
     },
     "metadata": {
      "needs_background": "light"
     },
     "output_type": "display_data"
    }
   ],
   "source": [
    "df[df.ltf_nbpartnersales_90d < df.ltf_nbpartnersales_90d.quantile(q=0.9)].hist(column='ltf_nbpartnersales_90d')\n",
    "plt.title(\"q=0.9\")\n",
    "pdf.export()\n",
    "plt.show()"
   ]
  },
  {
   "cell_type": "markdown",
   "metadata": {},
   "source": [
    "## `nbdayssincelastclick` : Number of days since the last user's click"
   ]
  },
  {
   "cell_type": "code",
   "execution_count": 57,
   "metadata": {},
   "outputs": [
    {
     "data": {
      "text/plain": [
       "0      900805\n",
       "1       84186\n",
       "2       68412\n",
       "3       52370\n",
       "4       42993\n",
       "        ...  \n",
       "668         1\n",
       "667         1\n",
       "557         1\n",
       "558         1\n",
       "995         1\n",
       "Name: nbdayssincelastclick, Length: 707, dtype: int64"
      ]
     },
     "execution_count": 57,
     "metadata": {},
     "output_type": "execute_result"
    }
   ],
   "source": [
    "df[\"nbdayssincelastclick\"].value_counts()"
   ]
  },
  {
   "cell_type": "code",
   "execution_count": 58,
   "metadata": {},
   "outputs": [
    {
     "name": "stdout",
     "output_type": "stream",
     "text": [
      "Export PDF : output/discovering/34.pdf\n",
      "\n"
     ]
    },
    {
     "data": {
      "image/png": "[encoded data removed]",
      "text/plain": [
       "<Figure size 432x288 with 1 Axes>"
      ]
     },
     "metadata": {
      "needs_background": "light"
     },
     "output_type": "display_data"
    }
   ],
   "source": [
    "df.hist(column='nbdayssincelastclick')\n",
    "pdf.export()\n",
    "plt.show()"
   ]
  },
  {
   "cell_type": "markdown",
   "metadata": {},
   "source": [
    "## `nbdisplay_1hour` : Number of displays for the user over the past hour"
   ]
  },
  {
   "cell_type": "code",
   "execution_count": 59,
   "metadata": {},
   "outputs": [
    {
     "name": "stdout",
     "output_type": "stream",
     "text": [
      "Export PDF : output/discovering/35.pdf\n",
      "\n"
     ]
    },
    {
     "data": {
      "image/png": "[encoded data removed]",
      "text/plain": [
       "<Figure size 432x288 with 1 Axes>"
      ]
     },
     "metadata": {
      "needs_background": "light"
     },
     "output_type": "display_data"
    }
   ],
   "source": [
    "df.hist(column='nbdisplay_1hour')\n",
    "pdf.export()\n",
    "plt.show()"
   ]
  },
  {
   "cell_type": "markdown",
   "metadata": {},
   "source": [
    "## `nbdisplaypartnerapprox_1d_sum_xdevice` : Number of displays of the partner over the past day on all devices of the user\n",
    "(approximation)"
   ]
  },
  {
   "cell_type": "code",
   "execution_count": 60,
   "metadata": {},
   "outputs": [
    {
     "name": "stdout",
     "output_type": "stream",
     "text": [
      "Export PDF : output/discovering/36.pdf\n",
      "\n"
     ]
    },
    {
     "data": {
      "image/png": "[encoded data removed]",
      "text/plain": [
       "<Figure size 432x288 with 1 Axes>"
      ]
     },
     "metadata": {
      "needs_background": "light"
     },
     "output_type": "display_data"
    }
   ],
   "source": [
    "df.hist(column='nbdisplaypartnerapprox_1d_sum_xdevice')\n",
    "pdf.export()\n",
    "plt.show()"
   ]
  },
  {
   "cell_type": "code",
   "execution_count": 61,
   "metadata": {},
   "outputs": [
    {
     "name": "stdout",
     "output_type": "stream",
     "text": [
      "Export PDF : output/discovering/37.pdf\n",
      "\n"
     ]
    },
    {
     "data": {
      "image/png": "[encoded data removed]",
      "text/plain": [
       "<Figure size 432x288 with 1 Axes>"
      ]
     },
     "metadata": {
      "needs_background": "light"
     },
     "output_type": "display_data"
    }
   ],
   "source": [
    "df[df.nbdisplaypartnerapprox_1d_sum_xdevice < df.nbdisplaypartnerapprox_1d_sum_xdevice.quantile(q=0.99)].hist(column='nbdisplaypartnerapprox_1d_sum_xdevice')\n",
    "plt.title(\"q=0.99\")\n",
    "pdf.export()\n",
    "plt.show()"
   ]
  },
  {
   "cell_type": "markdown",
   "metadata": {},
   "source": [
    "## `nbdisplayaffiliateapprox_1d_sum_xdevice` : Number of displays of the publisher affiliate over the past day on all devices of the user \n",
    "(approximation)\n"
   ]
  },
  {
   "cell_type": "code",
   "execution_count": 62,
   "metadata": {},
   "outputs": [
    {
     "name": "stdout",
     "output_type": "stream",
     "text": [
      "Export PDF : output/discovering/38.pdf\n",
      "\n"
     ]
    },
    {
     "data": {
      "image/png": "[encoded data removed]",
      "text/plain": [
       "<Figure size 432x288 with 1 Axes>"
      ]
     },
     "metadata": {
      "needs_background": "light"
     },
     "output_type": "display_data"
    }
   ],
   "source": [
    "df.hist(column='nbdisplayaffiliateapprox_1d_sum_xdevice')\n",
    "pdf.export()\n",
    "plt.show()"
   ]
  },
  {
   "cell_type": "code",
   "execution_count": 63,
   "metadata": {},
   "outputs": [
    {
     "name": "stdout",
     "output_type": "stream",
     "text": [
      "Export PDF : output/discovering/39.pdf\n",
      "\n"
     ]
    },
    {
     "data": {
      "image/png": "[encoded data removed]",
      "text/plain": [
       "<Figure size 432x288 with 1 Axes>"
      ]
     },
     "metadata": {
      "needs_background": "light"
     },
     "output_type": "display_data"
    }
   ],
   "source": [
    "df[df.nbdisplayaffiliateapprox_1d_sum_xdevice < df.nbdisplayaffiliateapprox_1d_sum_xdevice.quantile(q=0.99)].hist(column='nbdisplayaffiliateapprox_1d_sum_xdevice')\n",
    "plt.title(\"q=0.99\")\n",
    "pdf.export()\n",
    "plt.show()"
   ]
  },
  {
   "cell_type": "markdown",
   "metadata": {},
   "source": [
    "## `nbdisplayglobalapprox_1d_sum_xdevice` : Total number of displays over the past day on all devices of the user \n",
    "(approximation)\n"
   ]
  },
  {
   "cell_type": "code",
   "execution_count": 64,
   "metadata": {},
   "outputs": [
    {
     "name": "stdout",
     "output_type": "stream",
     "text": [
      "Export PDF : output/discovering/40.pdf\n",
      "\n"
     ]
    },
    {
     "data": {
      "image/png": "[encoded data removed]",
      "text/plain": [
       "<Figure size 432x288 with 1 Axes>"
      ]
     },
     "metadata": {
      "needs_background": "light"
     },
     "output_type": "display_data"
    }
   ],
   "source": [
    "df.hist(column='nbdisplayglobalapprox_1d_sum_xdevice')\n",
    "pdf.export()\n",
    "plt.show()"
   ]
  },
  {
   "cell_type": "code",
   "execution_count": 65,
   "metadata": {},
   "outputs": [
    {
     "name": "stdout",
     "output_type": "stream",
     "text": [
      "Export PDF : output/discovering/41.pdf\n",
      "\n"
     ]
    },
    {
     "data": {
      "image/png": "[encoded data removed]",
      "text/plain": [
       "<Figure size 432x288 with 1 Axes>"
      ]
     },
     "metadata": {
      "needs_background": "light"
     },
     "output_type": "display_data"
    }
   ],
   "source": [
    "df[df.nbdisplayglobalapprox_1d_sum_xdevice < df.nbdisplayglobalapprox_1d_sum_xdevice.quantile(q=0.99)].hist(column='nbdisplayglobalapprox_1d_sum_xdevice')\n",
    "plt.title(\"q=0.99\")\n",
    "pdf.export()\n",
    "plt.show()"
   ]
  },
  {
   "cell_type": "markdown",
   "metadata": {},
   "source": [
    "## `hashed_uid` : Hashed identification number of the Web user\n",
    "\n"
   ]
  },
  {
   "cell_type": "code",
   "execution_count": 66,
   "metadata": {},
   "outputs": [
    {
     "data": {
      "text/plain": [
       "'Nombre de valeurs distinctes : 1385411'"
      ]
     },
     "execution_count": 66,
     "metadata": {},
     "output_type": "execute_result"
    }
   ],
   "source": [
    "f\"Nombre de valeurs distinctes : {df.hashed_uid.nunique()}\""
   ]
  },
  {
   "cell_type": "markdown",
   "metadata": {},
   "source": [
    "## `hashed_xd_id` : Hashed cross device identification number \n",
    "(it can gather several devices of a Web user)"
   ]
  },
  {
   "cell_type": "code",
   "execution_count": 67,
   "metadata": {},
   "outputs": [
    {
     "data": {
      "text/plain": [
       "'Nombre de valeurs distinctes : 1138732'"
      ]
     },
     "execution_count": 67,
     "metadata": {},
     "output_type": "execute_result"
    }
   ],
   "source": [
    "f\"Nombre de valeurs distinctes : {df.hashed_xd_id.nunique()}\""
   ]
  },
  {
   "cell_type": "markdown",
   "metadata": {},
   "source": [
    "## `valueperclick` : Revenue in euro if the display is clicked"
   ]
  },
  {
   "cell_type": "code",
   "execution_count": 68,
   "metadata": {},
   "outputs": [
    {
     "name": "stdout",
     "output_type": "stream",
     "text": [
      "Export PDF : output/discovering/42.pdf\n",
      "\n"
     ]
    },
    {
     "data": {
      "image/png": "[encoded data removed]",
      "text/plain": [
       "<Figure size 432x288 with 1 Axes>"
      ]
     },
     "metadata": {
      "needs_background": "light"
     },
     "output_type": "display_data"
    }
   ],
   "source": [
    "df.hist(column='valueperclick')\n",
    "pdf.export()\n",
    "plt.show()"
   ]
  },
  {
   "cell_type": "markdown",
   "metadata": {},
   "source": [
    "## `device_type` : Type of device"
   ]
  },
  {
   "cell_type": "code",
   "execution_count": 69,
   "metadata": {},
   "outputs": [
    {
     "name": "stdout",
     "output_type": "stream",
     "text": [
      "Export PDF : output/discovering/43.pdf\n",
      "\n"
     ]
    },
    {
     "data": {
      "image/png": "[encoded data removed]",
      "text/plain": [
       "<Figure size 432x288 with 1 Axes>"
      ]
     },
     "metadata": {
      "needs_background": "light"
     },
     "output_type": "display_data"
    }
   ],
   "source": [
    "a = sns.countplot(x=\"device_type\", data=df, color='tab:blue', order = df['device_type'].value_counts().index).set(ylabel=None)\n",
    "plt.grid(axis=\"y\")\n",
    "plt.xticks(rotation=30)\n",
    "pdf.export()\n",
    "plt.show()"
   ]
  },
  {
   "cell_type": "markdown",
   "metadata": {},
   "source": [
    "## `display_width` : Width of the banner where the ad is displayed"
   ]
  },
  {
   "cell_type": "code",
   "execution_count": 70,
   "metadata": {},
   "outputs": [
    {
     "name": "stdout",
     "output_type": "stream",
     "text": [
      "Export PDF : output/discovering/44.pdf\n",
      "\n"
     ]
    },
    {
     "data": {
      "image/png": "[encoded data removed]",
      "text/plain": [
       "<Figure size 432x288 with 1 Axes>"
      ]
     },
     "metadata": {
      "needs_background": "light"
     },
     "output_type": "display_data"
    }
   ],
   "source": [
    "sns.histplot(data=df, x='display_width', binwidth=100).set(ylabel=None)\n",
    "plt.grid()\n",
    "pdf.export()\n",
    "plt.show()"
   ]
  },
  {
   "cell_type": "markdown",
   "metadata": {},
   "source": [
    "## `display_height` : Height of the banner where the ad is displayed"
   ]
  },
  {
   "cell_type": "code",
   "execution_count": 71,
   "metadata": {},
   "outputs": [
    {
     "name": "stdout",
     "output_type": "stream",
     "text": [
      "Export PDF : output/discovering/45.pdf\n",
      "\n"
     ]
    },
    {
     "data": {
      "image/png": "[encoded data removed]",
      "text/plain": [
       "<Figure size 432x288 with 1 Axes>"
      ]
     },
     "metadata": {
      "needs_background": "light"
     },
     "output_type": "display_data"
    }
   ],
   "source": [
    "sns.histplot(data=df, x='display_height', binwidth=100).set(ylabel=None)\n",
    "plt.grid()\n",
    "pdf.export()\n",
    "plt.show()"
   ]
  },
  {
   "cell_type": "markdown",
   "metadata": {},
   "source": [
    "## `display_timestamp` : Timestamp of the display"
   ]
  },
  {
   "cell_type": "code",
   "execution_count": 72,
   "metadata": {},
   "outputs": [
    {
     "name": "stdout",
     "output_type": "stream",
     "text": [
      "Export PDF : output/discovering/46.pdf\n",
      "\n"
     ]
    },
    {
     "data": {
      "image/png": "[encoded data removed]",
      "text/plain": [
       "<Figure size 432x288 with 1 Axes>"
      ]
     },
     "metadata": {
      "needs_background": "light"
     },
     "output_type": "display_data"
    }
   ],
   "source": [
    "df.hist(column='display_timestamp')\n",
    "pdf.export()\n",
    "plt.show()"
   ]
  },
  {
   "cell_type": "markdown",
   "metadata": {},
   "source": [
    "## `is_display_clicked` : Has the display been clicked?\n"
   ]
  },
  {
   "cell_type": "code",
   "execution_count": 73,
   "metadata": {},
   "outputs": [
    {
     "name": "stdout",
     "output_type": "stream",
     "text": [
      "Export PDF : output/discovering/47.pdf\n",
      "\n"
     ]
    },
    {
     "data": {
      "image/png": "[encoded data removed]",
      "text/plain": [
       "<Figure size 432x288 with 1 Axes>"
      ]
     },
     "metadata": {
      "needs_background": "light"
     },
     "output_type": "display_data"
    }
   ],
   "source": [
    "sns.countplot(x=\"is_display_clicked\", data=df, color='tab:blue')\n",
    "plt.grid(axis=\"y\")\n",
    "pdf.export()\n",
    "plt.show()"
   ]
  },
  {
   "cell_type": "markdown",
   "metadata": {},
   "source": [
    "## `zonecostineuro` : Price paid in euros to display an add on this zone"
   ]
  },
  {
   "cell_type": "code",
   "execution_count": 74,
   "metadata": {},
   "outputs": [
    {
     "name": "stdout",
     "output_type": "stream",
     "text": [
      "Export PDF : output/discovering/48.pdf\n",
      "\n"
     ]
    },
    {
     "data": {
      "image/png": "[encoded data removed]",
      "text/plain": [
       "<Figure size 432x288 with 1 Axes>"
      ]
     },
     "metadata": {
      "needs_background": "light"
     },
     "output_type": "display_data"
    }
   ],
   "source": [
    "sns.histplot(data=df, x='zonecostineuro', binwidth=1).set(ylabel=None)\n",
    "plt.grid()\n",
    "pdf.export()\n",
    "plt.show()"
   ]
  },
  {
   "cell_type": "code",
   "execution_count": 75,
   "metadata": {},
   "outputs": [
    {
     "name": "stdout",
     "output_type": "stream",
     "text": [
      "Export PDF : output/discovering/49.pdf\n",
      "\n"
     ]
    },
    {
     "data": {
      "image/png": "[encoded data removed]",
      "text/plain": [
       "<Figure size 432x288 with 1 Axes>"
      ]
     },
     "metadata": {
      "needs_background": "light"
     },
     "output_type": "display_data"
    }
   ],
   "source": [
    "sns.histplot(data=df[df.zonecostineuro < df.zonecostineuro.quantile(q=0.95)], x='zonecostineuro', binwidth=0.1).set(ylabel=None)\n",
    "plt.title(\"Tracé jusqu'au quantile d'ordre 95%\")\n",
    "plt.grid()\n",
    "pdf.export()\n",
    "plt.show()"
   ]
  },
  {
   "cell_type": "code",
   "execution_count": 76,
   "metadata": {},
   "outputs": [
    {
     "name": "stdout",
     "output_type": "stream",
     "text": [
      "Temps d'exécution total : 00:00:55\n"
     ]
    }
   ],
   "source": [
    "print(f\"Temps d'exécution total : {time.strftime('%H:%M:%S', time.gmtime(time.time()-t))}\")"
   ]
  }
 ],
 "metadata": {
  "kernelspec": {
   "display_name": "Python 3",
   "language": "python",
   "name": "python3"
  },
  "language_info": {
   "codemirror_mode": {
    "name": "ipython",
    "version": 3
   },
   "file_extension": ".py",
   "mimetype": "text/x-python",
   "name": "python",
   "nbconvert_exporter": "python",
   "pygments_lexer": "ipython3",
   "version": "3.7.10"
  }
 },
 "nbformat": 4,
 "nbformat_minor": 4
}
