{
 "cells": [
  {
   "cell_type": "code",
   "execution_count": 33,
   "metadata": {},
   "outputs": [],
   "source": [
    "import time\n",
    "\n",
    "import matplotlib.pyplot as plt\n",
    "import numpy as np\n",
    "import pandas as pd\n",
    "import xgboost as xgb\n",
    "from IPython.display import display\n",
    "from sklearn.model_selection import (GridSearchCV, ParameterGrid,\n",
    "                                     RandomizedSearchCV)\n",
    "from xgboost import XGBClassifier\n",
    "import pickle\n",
    "\n",
    "from tools import Modelisation, columns_cat, columns_quant, datasets\n",
    "\n",
    "t = time.time()"
   ]
  },
  {
   "cell_type": "code",
   "execution_count": 2,
   "metadata": {},
   "outputs": [
    {
     "data": {
      "text/plain": [
       "(1610494, 48)"
      ]
     },
     "execution_count": 2,
     "metadata": {},
     "output_type": "execute_result"
    }
   ],
   "source": [
    "df = pd.read_csv('data/df_train_prepro.csv').sample(frac=1)\n",
    "df.shape"
   ]
  },
  {
   "cell_type": "markdown",
   "metadata": {},
   "source": [
    "**Définition des variables quantitatives, des variables catégorielles et des datasets :**"
   ]
  },
  {
   "cell_type": "code",
   "execution_count": 3,
   "metadata": {},
   "outputs": [
    {
     "name": "stdout",
     "output_type": "stream",
     "text": [
      "Columns_quant :\n"
     ]
    },
    {
     "data": {
      "text/plain": [
       "['contextid',\n",
       " 'campaignctrlast24h',\n",
       " 'dayssincelastvisitdouble',\n",
       " 'ltf_nbglobaldisplay_4w',\n",
       " 'ltf_nbpartnerdisplayssincelastclick',\n",
       " 'ltf_nbpartnerdisplay_90d',\n",
       " 'ltf_nbpartnerclick_90d',\n",
       " 'ltf_nbpartnersales_90d',\n",
       " 'nbdayssincelastclick',\n",
       " 'nbdisplay_1hour',\n",
       " 'nbdisplayglobalapprox_1d_sum_xdevice',\n",
       " 'display_size',\n",
       " 'zonecostineuro']"
      ]
     },
     "metadata": {},
     "output_type": "display_data"
    },
    {
     "name": "stdout",
     "output_type": "stream",
     "text": [
      "\n",
      "Columns_cat :\n"
     ]
    },
    {
     "data": {
      "text/plain": [
       "['display_env',\n",
       " 'target_env',\n",
       " 'campaignscenario',\n",
       " 'campaignvertical',\n",
       " 'is_interstitial',\n",
       " 'device_type',\n",
       " 'hour',\n",
       " 'weekday']"
      ]
     },
     "metadata": {},
     "output_type": "display_data"
    },
    {
     "name": "stdout",
     "output_type": "stream",
     "text": [
      "\n",
      "Nombre de variables pour X_quant : 13\n",
      "\n"
     ]
    },
    {
     "data": {
      "text/plain": [
       "Index(['contextid', 'campaignctrlast24h', 'dayssincelastvisitdouble',\n",
       "       'ltf_nbglobaldisplay_4w', 'ltf_nbpartnerdisplayssincelastclick',\n",
       "       'ltf_nbpartnerdisplay_90d', 'ltf_nbpartnerclick_90d',\n",
       "       'ltf_nbpartnersales_90d', 'nbdayssincelastclick', 'nbdisplay_1hour',\n",
       "       'nbdisplayglobalapprox_1d_sum_xdevice', 'display_size',\n",
       "       'zonecostineuro'],\n",
       "      dtype='object')"
      ]
     },
     "metadata": {},
     "output_type": "display_data"
    },
    {
     "name": "stdout",
     "output_type": "stream",
     "text": [
      "\n",
      "Nombre de variables pour X_cat : 50\n",
      "\n"
     ]
    },
    {
     "data": {
      "text/plain": [
       "Index(['display_env_app_ios', 'display_env_other', 'display_env_web',\n",
       "       'target_env_2', 'campaignscenario_5', 'campaignscenario_6',\n",
       "       'campaignscenario_11', 'campaignscenario_12', 'campaignscenario_13',\n",
       "       'campaignscenario_17', 'campaignvertical_20.0', 'campaignvertical_23.0',\n",
       "       'campaignvertical_129.0', 'campaignvertical_200002.0',\n",
       "       'is_interstitial_True', 'device_type_Desktop',\n",
       "       'device_type_Desktop - Safari', 'device_type_Mobile - Other',\n",
       "       'device_type_Unknown', 'device_type_iPad', 'device_type_iPhone',\n",
       "       'hour_1', 'hour_2', 'hour_3', 'hour_4', 'hour_5', 'hour_6', 'hour_7',\n",
       "       'hour_8', 'hour_9', 'hour_10', 'hour_11', 'hour_12', 'hour_13',\n",
       "       'hour_14', 'hour_15', 'hour_16', 'hour_17', 'hour_18', 'hour_19',\n",
       "       'hour_20', 'hour_21', 'hour_22', 'hour_23', 'weekday_Monday',\n",
       "       'weekday_Saturday', 'weekday_Sunday', 'weekday_Thursday',\n",
       "       'weekday_Tuesday', 'weekday_Wednesday'],\n",
       "      dtype='object')"
      ]
     },
     "metadata": {},
     "output_type": "display_data"
    },
    {
     "name": "stdout",
     "output_type": "stream",
     "text": [
      "\n",
      "Nombre de variables pour X_quant_cat : 63\n"
     ]
    }
   ],
   "source": [
    "print(\"Columns_quant :\")\n",
    "display(columns_quant)\n",
    "print(\"\\nColumns_cat :\")\n",
    "display(columns_cat)\n",
    "\n",
    "X_quant, _, X_cat, _, X_quant_cat, _, y = datasets(df)"
   ]
  },
  {
   "cell_type": "code",
   "execution_count": 4,
   "metadata": {},
   "outputs": [
    {
     "data": {
      "text/plain": [
       "16.552685500043594"
      ]
     },
     "execution_count": 4,
     "metadata": {},
     "output_type": "execute_result"
    }
   ],
   "source": [
    "len(y[y == 0]) / (len(y[y == 1]))"
   ]
  },
  {
   "cell_type": "markdown",
   "metadata": {},
   "source": [
    "# XGBoost\n",
    "## Variables quantitatives"
   ]
  },
  {
   "cell_type": "code",
   "execution_count": 5,
   "metadata": {},
   "outputs": [
    {
     "data": {
      "image/png": "[encoded data removed]",
      "text/plain": [
       "<Figure size 432x288 with 2 Axes>"
      ]
     },
     "metadata": {
      "needs_background": "light"
     },
     "output_type": "display_data"
    },
    {
     "name": "stdout",
     "output_type": "stream",
     "text": [
      "f1 : 0.1334\n",
      "recall : 0.0746\n",
      "negative predictive value : 0.9469\n",
      "precision : 0.6302\n",
      "roc_auc : 0.8267\n",
      "Wall time: 30.5 s\n"
     ]
    }
   ],
   "source": [
    "%%time\n",
    "m = Modelisation(X_quant, y, XGBClassifier(n_jobs=-1), scaling=False)\n",
    "m.show_conf_matrix()\n",
    "m.show_metrics_score()"
   ]
  },
  {
   "cell_type": "code",
   "execution_count": 6,
   "metadata": {},
   "outputs": [
    {
     "data": {
      "image/png": "[encoded data removed]",
      "text/plain": [
       "<Figure size 432x288 with 1 Axes>"
      ]
     },
     "metadata": {
      "needs_background": "light"
     },
     "output_type": "display_data"
    }
   ],
   "source": [
    "m.show_ROC()"
   ]
  },
  {
   "cell_type": "code",
   "execution_count": 7,
   "metadata": {},
   "outputs": [
    {
     "data": {
      "image/png": "[encoded data removed]",
      "text/plain": [
       "<Figure size 432x288 with 1 Axes>"
      ]
     },
     "metadata": {
      "needs_background": "light"
     },
     "output_type": "display_data"
    }
   ],
   "source": [
    "m.plot_importance()"
   ]
  },
  {
   "cell_type": "code",
   "execution_count": 8,
   "metadata": {},
   "outputs": [
    {
     "data": {
      "image/svg+xml": [
       "<?xml version=\"1.0\" encoding=\"UTF-8\" standalone=\"no\"?>\r\n",
       "<!DOCTYPE svg PUBLIC \"-//W3C//DTD SVG 1.1//EN\"\r\n",
       " \"http://www.w3.org/Graphics/SVG/1.1/DTD/svg11.dtd\">\r\n",
       "<!-- Generated by graphviz version 2.38.0 (20140413.2041)\r\n",
       " -->\r\n",
       "<!-- Title: %3 Pages: 1 -->\r\n",
       "<svg width=\"1362pt\" height=\"305pt\"\r\n",
       " viewBox=\"0.00 0.00 1361.99 305.00\" xmlns=\"http://www.w3.org/2000/svg\" xmlns:xlink=\"http://www.w3.org/1999/xlink\">\r\n",
       "<g id=\"graph0\" class=\"graph\" transform=\"scale(1 1) rotate(0) translate(4 301)\">\r\n",
       "<title>%3</title>\r\n",
       "<polygon fill=\"white\" stroke=\"none\" points=\"-4,4 -4,-301 1357.99,-301 1357.99,4 -4,4\"/>\r\n",
       "<!-- 0 -->\r\n",
       "<g id=\"node1\" class=\"node\"><title>0</title>\r\n",
       "<ellipse fill=\"none\" stroke=\"black\" cx=\"724.993\" cy=\"-279\" rx=\"113.18\" ry=\"18\"/>\r\n",
       "<text text-anchor=\"middle\" x=\"724.993\" y=\"-275.3\" font-family=\"Times New Roman,serif\" font-size=\"14.00\">zonecostineuro&lt;1.66598988</text>\r\n",
       "</g>\r\n",
       "<!-- 1 -->\r\n",
       "<g id=\"node2\" class=\"node\"><title>1</title>\r\n",
       "<ellipse fill=\"none\" stroke=\"black\" cx=\"553.993\" cy=\"-192\" rx=\"117.779\" ry=\"18\"/>\r\n",
       "<text text-anchor=\"middle\" x=\"553.993\" y=\"-188.3\" font-family=\"Times New Roman,serif\" font-size=\"14.00\">zonecostineuro&lt;0.476200879</text>\r\n",
       "</g>\r\n",
       "<!-- 0&#45;&gt;1 -->\r\n",
       "<g id=\"edge1\" class=\"edge\"><title>0&#45;&gt;1</title>\r\n",
       "<path fill=\"none\" stroke=\"#0000ff\" d=\"M692.023,-261.611C664.699,-248.029 625.691,-228.639 596.109,-213.935\"/>\r\n",
       "<polygon fill=\"#0000ff\" stroke=\"#0000ff\" points=\"597.375,-210.656 586.862,-209.339 594.259,-216.924 597.375,-210.656\"/>\r\n",
       "<text text-anchor=\"middle\" x=\"684.493\" y=\"-231.8\" font-family=\"Times New Roman,serif\" font-size=\"14.00\">yes, missing</text>\r\n",
       "</g>\r\n",
       "<!-- 2 -->\r\n",
       "<g id=\"node3\" class=\"node\"><title>2</title>\r\n",
       "<ellipse fill=\"none\" stroke=\"black\" cx=\"845.993\" cy=\"-192\" rx=\"141.075\" ry=\"18\"/>\r\n",
       "<text text-anchor=\"middle\" x=\"845.993\" y=\"-188.3\" font-family=\"Times New Roman,serif\" font-size=\"14.00\">campaignctrlast24h&lt;0.00642647594</text>\r\n",
       "</g>\r\n",
       "<!-- 0&#45;&gt;2 -->\r\n",
       "<g id=\"edge2\" class=\"edge\"><title>0&#45;&gt;2</title>\r\n",
       "<path fill=\"none\" stroke=\"#ff0000\" d=\"M748.899,-261.207C767.46,-248.168 793.382,-229.958 813.774,-215.633\"/>\r\n",
       "<polygon fill=\"#ff0000\" stroke=\"#ff0000\" points=\"815.966,-218.371 822.137,-209.758 811.942,-212.643 815.966,-218.371\"/>\r\n",
       "<text text-anchor=\"middle\" x=\"800.493\" y=\"-231.8\" font-family=\"Times New Roman,serif\" font-size=\"14.00\">no</text>\r\n",
       "</g>\r\n",
       "<!-- 3 -->\r\n",
       "<g id=\"node4\" class=\"node\"><title>3</title>\r\n",
       "<ellipse fill=\"none\" stroke=\"black\" cx=\"251.993\" cy=\"-105\" rx=\"113.18\" ry=\"18\"/>\r\n",
       "<text text-anchor=\"middle\" x=\"251.993\" y=\"-101.3\" font-family=\"Times New Roman,serif\" font-size=\"14.00\">zonecostineuro&lt;0.15386945</text>\r\n",
       "</g>\r\n",
       "<!-- 1&#45;&gt;3 -->\r\n",
       "<g id=\"edge3\" class=\"edge\"><title>1&#45;&gt;3</title>\r\n",
       "<path fill=\"none\" stroke=\"#0000ff\" d=\"M500.35,-175.902C448.491,-161.306 369.924,-139.193 315.088,-123.759\"/>\r\n",
       "<polygon fill=\"#0000ff\" stroke=\"#0000ff\" points=\"315.711,-120.298 305.137,-120.958 313.815,-127.036 315.711,-120.298\"/>\r\n",
       "<text text-anchor=\"middle\" x=\"456.493\" y=\"-144.8\" font-family=\"Times New Roman,serif\" font-size=\"14.00\">yes, missing</text>\r\n",
       "</g>\r\n",
       "<!-- 4 -->\r\n",
       "<g id=\"node5\" class=\"node\"><title>4</title>\r\n",
       "<ellipse fill=\"none\" stroke=\"black\" cx=\"553.993\" cy=\"-105\" rx=\"141.075\" ry=\"18\"/>\r\n",
       "<text text-anchor=\"middle\" x=\"553.993\" y=\"-101.3\" font-family=\"Times New Roman,serif\" font-size=\"14.00\">campaignctrlast24h&lt;0.00612169784</text>\r\n",
       "</g>\r\n",
       "<!-- 1&#45;&gt;4 -->\r\n",
       "<g id=\"edge4\" class=\"edge\"><title>1&#45;&gt;4</title>\r\n",
       "<path fill=\"none\" stroke=\"#ff0000\" d=\"M553.993,-173.799C553.993,-162.163 553.993,-146.548 553.993,-133.237\"/>\r\n",
       "<polygon fill=\"#ff0000\" stroke=\"#ff0000\" points=\"557.493,-133.175 553.993,-123.175 550.493,-133.175 557.493,-133.175\"/>\r\n",
       "<text text-anchor=\"middle\" x=\"561.493\" y=\"-144.8\" font-family=\"Times New Roman,serif\" font-size=\"14.00\">no</text>\r\n",
       "</g>\r\n",
       "<!-- 5 -->\r\n",
       "<g id=\"node10\" class=\"node\"><title>5</title>\r\n",
       "<ellipse fill=\"none\" stroke=\"black\" cx=\"845.993\" cy=\"-105\" rx=\"113.18\" ry=\"18\"/>\r\n",
       "<text text-anchor=\"middle\" x=\"845.993\" y=\"-101.3\" font-family=\"Times New Roman,serif\" font-size=\"14.00\">zonecostineuro&lt;7.20010757</text>\r\n",
       "</g>\r\n",
       "<!-- 2&#45;&gt;5 -->\r\n",
       "<g id=\"edge9\" class=\"edge\"><title>2&#45;&gt;5</title>\r\n",
       "<path fill=\"none\" stroke=\"#0000ff\" d=\"M845.993,-173.799C845.993,-162.163 845.993,-146.548 845.993,-133.237\"/>\r\n",
       "<polygon fill=\"#0000ff\" stroke=\"#0000ff\" points=\"849.493,-133.175 845.993,-123.175 842.493,-133.175 849.493,-133.175\"/>\r\n",
       "<text text-anchor=\"middle\" x=\"880.493\" y=\"-144.8\" font-family=\"Times New Roman,serif\" font-size=\"14.00\">yes, missing</text>\r\n",
       "</g>\r\n",
       "<!-- 6 -->\r\n",
       "<g id=\"node11\" class=\"node\"><title>6</title>\r\n",
       "<ellipse fill=\"none\" stroke=\"black\" cx=\"1101.99\" cy=\"-105\" rx=\"108.581\" ry=\"18\"/>\r\n",
       "<text text-anchor=\"middle\" x=\"1101.99\" y=\"-101.3\" font-family=\"Times New Roman,serif\" font-size=\"14.00\">zonecostineuro&lt;5.0400629</text>\r\n",
       "</g>\r\n",
       "<!-- 2&#45;&gt;6 -->\r\n",
       "<g id=\"edge10\" class=\"edge\"><title>2&#45;&gt;6</title>\r\n",
       "<path fill=\"none\" stroke=\"#ff0000\" d=\"M894.145,-175.012C937.324,-160.675 1000.69,-139.636 1046.09,-124.561\"/>\r\n",
       "<polygon fill=\"#ff0000\" stroke=\"#ff0000\" points=\"1047.39,-127.817 1055.78,-121.344 1045.19,-121.173 1047.39,-127.817\"/>\r\n",
       "<text text-anchor=\"middle\" x=\"997.493\" y=\"-144.8\" font-family=\"Times New Roman,serif\" font-size=\"14.00\">no</text>\r\n",
       "</g>\r\n",
       "<!-- 7 -->\r\n",
       "<g id=\"node6\" class=\"node\"><title>7</title>\r\n",
       "<ellipse fill=\"none\" stroke=\"black\" cx=\"77.9931\" cy=\"-18\" rx=\"77.9862\" ry=\"18\"/>\r\n",
       "<text text-anchor=\"middle\" x=\"77.9931\" y=\"-14.3\" font-family=\"Times New Roman,serif\" font-size=\"14.00\">leaf=&#45;0.194038659</text>\r\n",
       "</g>\r\n",
       "<!-- 3&#45;&gt;7 -->\r\n",
       "<g id=\"edge5\" class=\"edge\"><title>3&#45;&gt;7</title>\r\n",
       "<path fill=\"none\" stroke=\"#0000ff\" d=\"M217.783,-87.7074C205.531,-81.8434 191.628,-75.1561 178.993,-69 158.981,-59.2494 136.807,-48.2895 118.345,-39.1213\"/>\r\n",
       "<polygon fill=\"#0000ff\" stroke=\"#0000ff\" points=\"119.847,-35.9593 109.334,-34.6423 116.731,-42.2276 119.847,-35.9593\"/>\r\n",
       "<text text-anchor=\"middle\" x=\"213.493\" y=\"-57.8\" font-family=\"Times New Roman,serif\" font-size=\"14.00\">yes, missing</text>\r\n",
       "</g>\r\n",
       "<!-- 8 -->\r\n",
       "<g id=\"node7\" class=\"node\"><title>8</title>\r\n",
       "<ellipse fill=\"none\" stroke=\"black\" cx=\"251.993\" cy=\"-18\" rx=\"77.9862\" ry=\"18\"/>\r\n",
       "<text text-anchor=\"middle\" x=\"251.993\" y=\"-14.3\" font-family=\"Times New Roman,serif\" font-size=\"14.00\">leaf=&#45;0.186364427</text>\r\n",
       "</g>\r\n",
       "<!-- 3&#45;&gt;8 -->\r\n",
       "<g id=\"edge6\" class=\"edge\"><title>3&#45;&gt;8</title>\r\n",
       "<path fill=\"none\" stroke=\"#ff0000\" d=\"M251.993,-86.799C251.993,-75.1626 251.993,-59.5479 251.993,-46.2368\"/>\r\n",
       "<polygon fill=\"#ff0000\" stroke=\"#ff0000\" points=\"255.493,-46.1754 251.993,-36.1754 248.493,-46.1755 255.493,-46.1754\"/>\r\n",
       "<text text-anchor=\"middle\" x=\"259.493\" y=\"-57.8\" font-family=\"Times New Roman,serif\" font-size=\"14.00\">no</text>\r\n",
       "</g>\r\n",
       "<!-- 9 -->\r\n",
       "<g id=\"node8\" class=\"node\"><title>9</title>\r\n",
       "<ellipse fill=\"none\" stroke=\"black\" cx=\"420.993\" cy=\"-18\" rx=\"73.387\" ry=\"18\"/>\r\n",
       "<text text-anchor=\"middle\" x=\"420.993\" y=\"-14.3\" font-family=\"Times New Roman,serif\" font-size=\"14.00\">leaf=&#45;0.18451567</text>\r\n",
       "</g>\r\n",
       "<!-- 4&#45;&gt;9 -->\r\n",
       "<g id=\"edge7\" class=\"edge\"><title>4&#45;&gt;9</title>\r\n",
       "<path fill=\"none\" stroke=\"#0000ff\" d=\"M526.343,-87.2606C516.984,-81.5318 506.499,-75.0433 496.993,-69 482.67,-59.8943 466.98,-49.6229 453.595,-40.7689\"/>\r\n",
       "<polygon fill=\"#0000ff\" stroke=\"#0000ff\" points=\"455.437,-37.7912 445.169,-35.1817 451.569,-43.6251 455.437,-37.7912\"/>\r\n",
       "<text text-anchor=\"middle\" x=\"531.493\" y=\"-57.8\" font-family=\"Times New Roman,serif\" font-size=\"14.00\">yes, missing</text>\r\n",
       "</g>\r\n",
       "<!-- 10 -->\r\n",
       "<g id=\"node9\" class=\"node\"><title>10</title>\r\n",
       "<ellipse fill=\"none\" stroke=\"black\" cx=\"589.993\" cy=\"-18\" rx=\"77.9862\" ry=\"18\"/>\r\n",
       "<text text-anchor=\"middle\" x=\"589.993\" y=\"-14.3\" font-family=\"Times New Roman,serif\" font-size=\"14.00\">leaf=&#45;0.156782717</text>\r\n",
       "</g>\r\n",
       "<!-- 4&#45;&gt;10 -->\r\n",
       "<g id=\"edge8\" class=\"edge\"><title>4&#45;&gt;10</title>\r\n",
       "<path fill=\"none\" stroke=\"#ff0000\" d=\"M561.278,-86.799C566.304,-74.9322 573.082,-58.9279 578.791,-45.4488\"/>\r\n",
       "<polygon fill=\"#ff0000\" stroke=\"#ff0000\" points=\"582.042,-46.7486 582.719,-36.1754 575.596,-44.0186 582.042,-46.7486\"/>\r\n",
       "<text text-anchor=\"middle\" x=\"582.493\" y=\"-57.8\" font-family=\"Times New Roman,serif\" font-size=\"14.00\">no</text>\r\n",
       "</g>\r\n",
       "<!-- 11 -->\r\n",
       "<g id=\"node12\" class=\"node\"><title>11</title>\r\n",
       "<ellipse fill=\"none\" stroke=\"black\" cx=\"763.993\" cy=\"-18\" rx=\"77.9862\" ry=\"18\"/>\r\n",
       "<text text-anchor=\"middle\" x=\"763.993\" y=\"-14.3\" font-family=\"Times New Roman,serif\" font-size=\"14.00\">leaf=&#45;0.163182363</text>\r\n",
       "</g>\r\n",
       "<!-- 5&#45;&gt;11 -->\r\n",
       "<g id=\"edge11\" class=\"edge\"><title>5&#45;&gt;11</title>\r\n",
       "<path fill=\"none\" stroke=\"#0000ff\" d=\"M829.399,-86.799C817.316,-74.2742 800.788,-57.1406 787.369,-43.2313\"/>\r\n",
       "<polygon fill=\"#0000ff\" stroke=\"#0000ff\" points=\"789.744,-40.6523 780.282,-35.8854 784.706,-45.5123 789.744,-40.6523\"/>\r\n",
       "<text text-anchor=\"middle\" x=\"844.493\" y=\"-57.8\" font-family=\"Times New Roman,serif\" font-size=\"14.00\">yes, missing</text>\r\n",
       "</g>\r\n",
       "<!-- 12 -->\r\n",
       "<g id=\"node13\" class=\"node\"><title>12</title>\r\n",
       "<ellipse fill=\"none\" stroke=\"black\" cx=\"932.993\" cy=\"-18\" rx=\"73.387\" ry=\"18\"/>\r\n",
       "<text text-anchor=\"middle\" x=\"932.993\" y=\"-14.3\" font-family=\"Times New Roman,serif\" font-size=\"14.00\">leaf=&#45;0.12083637</text>\r\n",
       "</g>\r\n",
       "<!-- 5&#45;&gt;12 -->\r\n",
       "<g id=\"edge12\" class=\"edge\"><title>5&#45;&gt;12</title>\r\n",
       "<path fill=\"none\" stroke=\"#ff0000\" d=\"M864.155,-87.0098C870.184,-81.3199 876.908,-74.9184 882.993,-69 891.617,-60.612 900.966,-51.3188 909.22,-43.0426\"/>\r\n",
       "<polygon fill=\"#ff0000\" stroke=\"#ff0000\" points=\"911.871,-45.3414 916.441,-35.7832 906.908,-40.4048 911.871,-45.3414\"/>\r\n",
       "<text text-anchor=\"middle\" x=\"906.493\" y=\"-57.8\" font-family=\"Times New Roman,serif\" font-size=\"14.00\">no</text>\r\n",
       "</g>\r\n",
       "<!-- 13 -->\r\n",
       "<g id=\"node14\" class=\"node\"><title>13</title>\r\n",
       "<ellipse fill=\"none\" stroke=\"black\" cx=\"1101.99\" cy=\"-18\" rx=\"77.9862\" ry=\"18\"/>\r\n",
       "<text text-anchor=\"middle\" x=\"1101.99\" y=\"-14.3\" font-family=\"Times New Roman,serif\" font-size=\"14.00\">leaf=&#45;0.106356643</text>\r\n",
       "</g>\r\n",
       "<!-- 6&#45;&gt;13 -->\r\n",
       "<g id=\"edge13\" class=\"edge\"><title>6&#45;&gt;13</title>\r\n",
       "<path fill=\"none\" stroke=\"#0000ff\" d=\"M1101.99,-86.799C1101.99,-75.1626 1101.99,-59.5479 1101.99,-46.2368\"/>\r\n",
       "<polygon fill=\"#0000ff\" stroke=\"#0000ff\" points=\"1105.49,-46.1754 1101.99,-36.1754 1098.49,-46.1755 1105.49,-46.1754\"/>\r\n",
       "<text text-anchor=\"middle\" x=\"1136.49\" y=\"-57.8\" font-family=\"Times New Roman,serif\" font-size=\"14.00\">yes, missing</text>\r\n",
       "</g>\r\n",
       "<!-- 14 -->\r\n",
       "<g id=\"node15\" class=\"node\"><title>14</title>\r\n",
       "<ellipse fill=\"none\" stroke=\"black\" cx=\"1275.99\" cy=\"-18\" rx=\"77.9862\" ry=\"18\"/>\r\n",
       "<text text-anchor=\"middle\" x=\"1275.99\" y=\"-14.3\" font-family=\"Times New Roman,serif\" font-size=\"14.00\">leaf=&#45;0.032154277</text>\r\n",
       "</g>\r\n",
       "<!-- 6&#45;&gt;14 -->\r\n",
       "<g id=\"edge14\" class=\"edge\"><title>6&#45;&gt;14</title>\r\n",
       "<path fill=\"none\" stroke=\"#ff0000\" d=\"M1135.84,-87.8831C1148.18,-81.9772 1162.23,-75.2177 1174.99,-69 1195.01,-59.2494 1217.18,-48.2895 1235.64,-39.1213\"/>\r\n",
       "<polygon fill=\"#ff0000\" stroke=\"#ff0000\" points=\"1237.25,-42.2276 1244.65,-34.6423 1234.14,-35.9593 1237.25,-42.2276\"/>\r\n",
       "<text text-anchor=\"middle\" x=\"1210.49\" y=\"-57.8\" font-family=\"Times New Roman,serif\" font-size=\"14.00\">no</text>\r\n",
       "</g>\r\n",
       "</g>\r\n",
       "</svg>\r\n"
      ],
      "text/plain": [
       "<graphviz.dot.Digraph at 0x221ad81ac88>"
      ]
     },
     "metadata": {},
     "output_type": "display_data"
    }
   ],
   "source": [
    "m.show_graph()"
   ]
  },
  {
   "cell_type": "markdown",
   "metadata": {},
   "source": [
    "## Categorical variables"
   ]
  },
  {
   "cell_type": "code",
   "execution_count": 9,
   "metadata": {},
   "outputs": [
    {
     "name": "stdout",
     "output_type": "stream",
     "text": [
      "display_env : 4\n",
      "target_env : 2\n",
      "campaignscenario : 7\n",
      "campaignvertical : 34\n",
      "is_interstitial : 3\n",
      "device_type : 7\n",
      "hour : 24\n",
      "weekday : 7\n"
     ]
    }
   ],
   "source": [
    "# Nombre de valeurs distinctes\n",
    "for column in columns_cat:\n",
    "    print(f\"{column} : {len(set(df[column]))}\")"
   ]
  },
  {
   "cell_type": "code",
   "execution_count": 10,
   "metadata": {},
   "outputs": [
    {
     "data": {
      "image/png": "[encoded data removed]",
      "text/plain": [
       "<Figure size 432x288 with 2 Axes>"
      ]
     },
     "metadata": {
      "needs_background": "light"
     },
     "output_type": "display_data"
    },
    {
     "name": "stdout",
     "output_type": "stream",
     "text": [
      "f1 : 0.0451\n",
      "recall : 0.0234\n",
      "negative predictive value : 0.9442\n",
      "precision : 0.6039\n",
      "roc_auc : 0.6923\n",
      "Wall time: 45.6 s\n"
     ]
    }
   ],
   "source": [
    "%%time\n",
    "m = Modelisation(X_cat, y, XGBClassifier(n_jobs=-1), scaling=False)\n",
    "m.show_conf_matrix()\n",
    "m.show_metrics_score()"
   ]
  },
  {
   "cell_type": "code",
   "execution_count": 11,
   "metadata": {},
   "outputs": [
    {
     "data": {
      "image/png": "[encoded data removed]",
      "text/plain": [
       "<Figure size 432x288 with 1 Axes>"
      ]
     },
     "metadata": {
      "needs_background": "light"
     },
     "output_type": "display_data"
    }
   ],
   "source": [
    "m.show_ROC()"
   ]
  },
  {
   "cell_type": "code",
   "execution_count": 12,
   "metadata": {},
   "outputs": [
    {
     "data": {
      "image/png": "[encoded data removed]",
      "text/plain": [
       "<Figure size 720x576 with 1 Axes>"
      ]
     },
     "metadata": {
      "needs_background": "light"
     },
     "output_type": "display_data"
    }
   ],
   "source": [
    "fig, ax = plt.subplots(figsize=(10, 8))\n",
    "m.plot_importance(ax=ax)"
   ]
  },
  {
   "cell_type": "code",
   "execution_count": 13,
   "metadata": {},
   "outputs": [
    {
     "data": {
      "image/svg+xml": [
       "<?xml version=\"1.0\" encoding=\"UTF-8\" standalone=\"no\"?>\r\n",
       "<!DOCTYPE svg PUBLIC \"-//W3C//DTD SVG 1.1//EN\"\r\n",
       " \"http://www.w3.org/Graphics/SVG/1.1/DTD/svg11.dtd\">\r\n",
       "<!-- Generated by graphviz version 2.38.0 (20140413.2041)\r\n",
       " -->\r\n",
       "<!-- Title: %3 Pages: 1 -->\r\n",
       "<svg width=\"1393pt\" height=\"305pt\"\r\n",
       " viewBox=\"0.00 0.00 1392.99 305.00\" xmlns=\"http://www.w3.org/2000/svg\" xmlns:xlink=\"http://www.w3.org/1999/xlink\">\r\n",
       "<g id=\"graph0\" class=\"graph\" transform=\"scale(1 1) rotate(0) translate(4 301)\">\r\n",
       "<title>%3</title>\r\n",
       "<polygon fill=\"white\" stroke=\"none\" points=\"-4,4 -4,-301 1388.99,-301 1388.99,4 -4,4\"/>\r\n",
       "<!-- 0 -->\r\n",
       "<g id=\"node1\" class=\"node\"><title>0</title>\r\n",
       "<ellipse fill=\"none\" stroke=\"black\" cx=\"671.993\" cy=\"-279\" rx=\"87.1846\" ry=\"18\"/>\r\n",
       "<text text-anchor=\"middle\" x=\"671.993\" y=\"-275.3\" font-family=\"Times New Roman,serif\" font-size=\"14.00\">is_interstitial_True&lt;1</text>\r\n",
       "</g>\r\n",
       "<!-- 1 -->\r\n",
       "<g id=\"node2\" class=\"node\"><title>1</title>\r\n",
       "<ellipse fill=\"none\" stroke=\"black\" cx=\"523.993\" cy=\"-192\" rx=\"98.5829\" ry=\"18\"/>\r\n",
       "<text text-anchor=\"middle\" x=\"523.993\" y=\"-188.3\" font-family=\"Times New Roman,serif\" font-size=\"14.00\">campaignscenario_13&lt;1</text>\r\n",
       "</g>\r\n",
       "<!-- 0&#45;&gt;1 -->\r\n",
       "<g id=\"edge1\" class=\"edge\"><title>0&#45;&gt;1</title>\r\n",
       "<path fill=\"none\" stroke=\"#0000ff\" d=\"M643.807,-261.812C620.325,-248.326 586.695,-229.011 561.039,-214.276\"/>\r\n",
       "<polygon fill=\"#0000ff\" stroke=\"#0000ff\" points=\"562.741,-211.217 552.326,-209.272 559.254,-217.288 562.741,-211.217\"/>\r\n",
       "<text text-anchor=\"middle\" x=\"641.493\" y=\"-231.8\" font-family=\"Times New Roman,serif\" font-size=\"14.00\">yes, missing</text>\r\n",
       "</g>\r\n",
       "<!-- 2 -->\r\n",
       "<g id=\"node3\" class=\"node\"><title>2</title>\r\n",
       "<ellipse fill=\"none\" stroke=\"black\" cx=\"779.993\" cy=\"-192\" rx=\"85.2851\" ry=\"18\"/>\r\n",
       "<text text-anchor=\"middle\" x=\"779.993\" y=\"-188.3\" font-family=\"Times New Roman,serif\" font-size=\"14.00\">device_type_iPad&lt;1</text>\r\n",
       "</g>\r\n",
       "<!-- 0&#45;&gt;2 -->\r\n",
       "<g id=\"edge2\" class=\"edge\"><title>0&#45;&gt;2</title>\r\n",
       "<path fill=\"none\" stroke=\"#ff0000\" d=\"M693.073,-261.409C709.575,-248.421 732.711,-230.213 750.964,-215.847\"/>\r\n",
       "<polygon fill=\"#ff0000\" stroke=\"#ff0000\" points=\"753.273,-218.484 758.966,-209.549 748.944,-212.983 753.273,-218.484\"/>\r\n",
       "<text text-anchor=\"middle\" x=\"740.493\" y=\"-231.8\" font-family=\"Times New Roman,serif\" font-size=\"14.00\">no</text>\r\n",
       "</g>\r\n",
       "<!-- 3 -->\r\n",
       "<g id=\"node4\" class=\"node\"><title>3</title>\r\n",
       "<ellipse fill=\"none\" stroke=\"black\" cx=\"251.993\" cy=\"-105\" rx=\"98.5829\" ry=\"18\"/>\r\n",
       "<text text-anchor=\"middle\" x=\"251.993\" y=\"-101.3\" font-family=\"Times New Roman,serif\" font-size=\"14.00\">campaignscenario_12&lt;1</text>\r\n",
       "</g>\r\n",
       "<!-- 1&#45;&gt;3 -->\r\n",
       "<g id=\"edge3\" class=\"edge\"><title>1&#45;&gt;3</title>\r\n",
       "<path fill=\"none\" stroke=\"#0000ff\" d=\"M476.614,-176.194C430.096,-161.657 359.077,-139.464 309.383,-123.934\"/>\r\n",
       "<polygon fill=\"#0000ff\" stroke=\"#0000ff\" points=\"310.33,-120.564 299.742,-120.921 308.242,-127.245 310.33,-120.564\"/>\r\n",
       "<text text-anchor=\"middle\" x=\"439.493\" y=\"-144.8\" font-family=\"Times New Roman,serif\" font-size=\"14.00\">yes, missing</text>\r\n",
       "</g>\r\n",
       "<!-- 4 -->\r\n",
       "<g id=\"node5\" class=\"node\"><title>4</title>\r\n",
       "<ellipse fill=\"none\" stroke=\"black\" cx=\"523.993\" cy=\"-105\" rx=\"100.182\" ry=\"18\"/>\r\n",
       "<text text-anchor=\"middle\" x=\"523.993\" y=\"-101.3\" font-family=\"Times New Roman,serif\" font-size=\"14.00\">device_type_Desktop&lt;1</text>\r\n",
       "</g>\r\n",
       "<!-- 1&#45;&gt;4 -->\r\n",
       "<g id=\"edge4\" class=\"edge\"><title>1&#45;&gt;4</title>\r\n",
       "<path fill=\"none\" stroke=\"#ff0000\" d=\"M523.993,-173.799C523.993,-162.163 523.993,-146.548 523.993,-133.237\"/>\r\n",
       "<polygon fill=\"#ff0000\" stroke=\"#ff0000\" points=\"527.493,-133.175 523.993,-123.175 520.493,-133.175 527.493,-133.175\"/>\r\n",
       "<text text-anchor=\"middle\" x=\"531.493\" y=\"-144.8\" font-family=\"Times New Roman,serif\" font-size=\"14.00\">no</text>\r\n",
       "</g>\r\n",
       "<!-- 5 -->\r\n",
       "<g id=\"node10\" class=\"node\"><title>5</title>\r\n",
       "<ellipse fill=\"none\" stroke=\"black\" cx=\"779.993\" cy=\"-105\" rx=\"67.6881\" ry=\"18\"/>\r\n",
       "<text text-anchor=\"middle\" x=\"779.993\" y=\"-101.3\" font-family=\"Times New Roman,serif\" font-size=\"14.00\">target_env_2&lt;1</text>\r\n",
       "</g>\r\n",
       "<!-- 2&#45;&gt;5 -->\r\n",
       "<g id=\"edge9\" class=\"edge\"><title>2&#45;&gt;5</title>\r\n",
       "<path fill=\"none\" stroke=\"#0000ff\" d=\"M779.993,-173.799C779.993,-162.163 779.993,-146.548 779.993,-133.237\"/>\r\n",
       "<polygon fill=\"#0000ff\" stroke=\"#0000ff\" points=\"783.493,-133.175 779.993,-123.175 776.493,-133.175 783.493,-133.175\"/>\r\n",
       "<text text-anchor=\"middle\" x=\"814.493\" y=\"-144.8\" font-family=\"Times New Roman,serif\" font-size=\"14.00\">yes, missing</text>\r\n",
       "</g>\r\n",
       "<!-- 6 -->\r\n",
       "<g id=\"node11\" class=\"node\"><title>6</title>\r\n",
       "<ellipse fill=\"none\" stroke=\"black\" cx=\"1131.99\" cy=\"-105\" rx=\"98.5829\" ry=\"18\"/>\r\n",
       "<text text-anchor=\"middle\" x=\"1131.99\" y=\"-101.3\" font-family=\"Times New Roman,serif\" font-size=\"14.00\">campaignscenario_17&lt;1</text>\r\n",
       "</g>\r\n",
       "<!-- 2&#45;&gt;6 -->\r\n",
       "<g id=\"edge10\" class=\"edge\"><title>2&#45;&gt;6</title>\r\n",
       "<path fill=\"none\" stroke=\"#ff0000\" d=\"M833.837,-177.998C895.846,-163.024 997.773,-138.411 1064.89,-122.204\"/>\r\n",
       "<polygon fill=\"#ff0000\" stroke=\"#ff0000\" points=\"1066.04,-125.526 1074.94,-119.776 1064.4,-118.722 1066.04,-125.526\"/>\r\n",
       "<text text-anchor=\"middle\" x=\"985.493\" y=\"-144.8\" font-family=\"Times New Roman,serif\" font-size=\"14.00\">no</text>\r\n",
       "</g>\r\n",
       "<!-- 7 -->\r\n",
       "<g id=\"node6\" class=\"node\"><title>7</title>\r\n",
       "<ellipse fill=\"none\" stroke=\"black\" cx=\"77.9931\" cy=\"-18\" rx=\"77.9862\" ry=\"18\"/>\r\n",
       "<text text-anchor=\"middle\" x=\"77.9931\" y=\"-14.3\" font-family=\"Times New Roman,serif\" font-size=\"14.00\">leaf=&#45;0.177290887</text>\r\n",
       "</g>\r\n",
       "<!-- 3&#45;&gt;7 -->\r\n",
       "<g id=\"edge5\" class=\"edge\"><title>3&#45;&gt;7</title>\r\n",
       "<path fill=\"none\" stroke=\"#0000ff\" d=\"M218.516,-88.0583C206.088,-82.1111 191.881,-75.2793 178.993,-69 158.981,-59.2494 136.807,-48.2895 118.345,-39.1213\"/>\r\n",
       "<polygon fill=\"#0000ff\" stroke=\"#0000ff\" points=\"119.847,-35.9593 109.334,-34.6423 116.731,-42.2276 119.847,-35.9593\"/>\r\n",
       "<text text-anchor=\"middle\" x=\"213.493\" y=\"-57.8\" font-family=\"Times New Roman,serif\" font-size=\"14.00\">yes, missing</text>\r\n",
       "</g>\r\n",
       "<!-- 8 -->\r\n",
       "<g id=\"node7\" class=\"node\"><title>8</title>\r\n",
       "<ellipse fill=\"none\" stroke=\"black\" cx=\"251.993\" cy=\"-18\" rx=\"77.9862\" ry=\"18\"/>\r\n",
       "<text text-anchor=\"middle\" x=\"251.993\" y=\"-14.3\" font-family=\"Times New Roman,serif\" font-size=\"14.00\">leaf=&#45;0.184180394</text>\r\n",
       "</g>\r\n",
       "<!-- 3&#45;&gt;8 -->\r\n",
       "<g id=\"edge6\" class=\"edge\"><title>3&#45;&gt;8</title>\r\n",
       "<path fill=\"none\" stroke=\"#ff0000\" d=\"M251.993,-86.799C251.993,-75.1626 251.993,-59.5479 251.993,-46.2368\"/>\r\n",
       "<polygon fill=\"#ff0000\" stroke=\"#ff0000\" points=\"255.493,-46.1754 251.993,-36.1754 248.493,-46.1755 255.493,-46.1754\"/>\r\n",
       "<text text-anchor=\"middle\" x=\"259.493\" y=\"-57.8\" font-family=\"Times New Roman,serif\" font-size=\"14.00\">no</text>\r\n",
       "</g>\r\n",
       "<!-- 9 -->\r\n",
       "<g id=\"node8\" class=\"node\"><title>9</title>\r\n",
       "<ellipse fill=\"none\" stroke=\"black\" cx=\"420.993\" cy=\"-18\" rx=\"73.387\" ry=\"18\"/>\r\n",
       "<text text-anchor=\"middle\" x=\"420.993\" y=\"-14.3\" font-family=\"Times New Roman,serif\" font-size=\"14.00\">leaf=&#45;0.18580623</text>\r\n",
       "</g>\r\n",
       "<!-- 4&#45;&gt;9 -->\r\n",
       "<g id=\"edge7\" class=\"edge\"><title>4&#45;&gt;9</title>\r\n",
       "<path fill=\"none\" stroke=\"#0000ff\" d=\"M503.394,-87.3134C496.283,-81.5316 488.275,-74.997 480.993,-69 470.339,-60.2255 458.672,-50.5239 448.481,-42.0197\"/>\r\n",
       "<polygon fill=\"#0000ff\" stroke=\"#0000ff\" points=\"450.591,-39.2217 440.673,-35.4967 446.103,-44.5939 450.591,-39.2217\"/>\r\n",
       "<text text-anchor=\"middle\" x=\"515.493\" y=\"-57.8\" font-family=\"Times New Roman,serif\" font-size=\"14.00\">yes, missing</text>\r\n",
       "</g>\r\n",
       "<!-- 10 -->\r\n",
       "<g id=\"node9\" class=\"node\"><title>10</title>\r\n",
       "<ellipse fill=\"none\" stroke=\"black\" cx=\"589.993\" cy=\"-18\" rx=\"77.9862\" ry=\"18\"/>\r\n",
       "<text text-anchor=\"middle\" x=\"589.993\" y=\"-14.3\" font-family=\"Times New Roman,serif\" font-size=\"14.00\">leaf=&#45;0.190586179</text>\r\n",
       "</g>\r\n",
       "<!-- 4&#45;&gt;10 -->\r\n",
       "<g id=\"edge8\" class=\"edge\"><title>4&#45;&gt;10</title>\r\n",
       "<path fill=\"none\" stroke=\"#ff0000\" d=\"M537.349,-86.799C546.894,-74.5062 559.887,-57.7736 570.576,-44.0073\"/>\r\n",
       "<polygon fill=\"#ff0000\" stroke=\"#ff0000\" points=\"573.514,-45.9305 576.882,-35.8854 567.985,-41.6373 573.514,-45.9305\"/>\r\n",
       "<text text-anchor=\"middle\" x=\"568.493\" y=\"-57.8\" font-family=\"Times New Roman,serif\" font-size=\"14.00\">no</text>\r\n",
       "</g>\r\n",
       "<!-- 11 -->\r\n",
       "<g id=\"node12\" class=\"node\"><title>11</title>\r\n",
       "<ellipse fill=\"none\" stroke=\"black\" cx=\"768.993\" cy=\"-18\" rx=\"82.5854\" ry=\"18\"/>\r\n",
       "<text text-anchor=\"middle\" x=\"768.993\" y=\"-14.3\" font-family=\"Times New Roman,serif\" font-size=\"14.00\">leaf=&#45;0.0829791799</text>\r\n",
       "</g>\r\n",
       "<!-- 5&#45;&gt;11 -->\r\n",
       "<g id=\"edge11\" class=\"edge\"><title>5&#45;&gt;11</title>\r\n",
       "<path fill=\"none\" stroke=\"#0000ff\" d=\"M777.767,-86.799C776.261,-75.1626 774.24,-59.5479 772.518,-46.2368\"/>\r\n",
       "<polygon fill=\"#0000ff\" stroke=\"#0000ff\" points=\"775.97,-45.6435 771.216,-36.1754 769.028,-46.542 775.97,-45.6435\"/>\r\n",
       "<text text-anchor=\"middle\" x=\"810.493\" y=\"-57.8\" font-family=\"Times New Roman,serif\" font-size=\"14.00\">yes, missing</text>\r\n",
       "</g>\r\n",
       "<!-- 12 -->\r\n",
       "<g id=\"node13\" class=\"node\"><title>12</title>\r\n",
       "<ellipse fill=\"none\" stroke=\"black\" cx=\"951.993\" cy=\"-18\" rx=\"82.5854\" ry=\"18\"/>\r\n",
       "<text text-anchor=\"middle\" x=\"951.993\" y=\"-14.3\" font-family=\"Times New Roman,serif\" font-size=\"14.00\">leaf=&#45;0.0531050526</text>\r\n",
       "</g>\r\n",
       "<!-- 5&#45;&gt;12 -->\r\n",
       "<g id=\"edge12\" class=\"edge\"><title>5&#45;&gt;12</title>\r\n",
       "<path fill=\"none\" stroke=\"#ff0000\" d=\"M810.743,-88.8037C838.765,-74.9556 880.359,-54.4007 911.16,-39.1792\"/>\r\n",
       "<polygon fill=\"#ff0000\" stroke=\"#ff0000\" points=\"912.931,-42.208 920.345,-34.6398 909.83,-35.9325 912.931,-42.208\"/>\r\n",
       "<text text-anchor=\"middle\" x=\"884.493\" y=\"-57.8\" font-family=\"Times New Roman,serif\" font-size=\"14.00\">no</text>\r\n",
       "</g>\r\n",
       "<!-- 13 -->\r\n",
       "<g id=\"node14\" class=\"node\"><title>13</title>\r\n",
       "<ellipse fill=\"none\" stroke=\"black\" cx=\"1131.99\" cy=\"-18\" rx=\"79.0865\" ry=\"18\"/>\r\n",
       "<text text-anchor=\"middle\" x=\"1131.99\" y=\"-14.3\" font-family=\"Times New Roman,serif\" font-size=\"14.00\">leaf=0.0328110009</text>\r\n",
       "</g>\r\n",
       "<!-- 6&#45;&gt;13 -->\r\n",
       "<g id=\"edge13\" class=\"edge\"><title>6&#45;&gt;13</title>\r\n",
       "<path fill=\"none\" stroke=\"#0000ff\" d=\"M1131.99,-86.799C1131.99,-75.1626 1131.99,-59.5479 1131.99,-46.2368\"/>\r\n",
       "<polygon fill=\"#0000ff\" stroke=\"#0000ff\" points=\"1135.49,-46.1754 1131.99,-36.1754 1128.49,-46.1755 1135.49,-46.1754\"/>\r\n",
       "<text text-anchor=\"middle\" x=\"1166.49\" y=\"-57.8\" font-family=\"Times New Roman,serif\" font-size=\"14.00\">yes, missing</text>\r\n",
       "</g>\r\n",
       "<!-- 14 -->\r\n",
       "<g id=\"node15\" class=\"node\"><title>14</title>\r\n",
       "<ellipse fill=\"none\" stroke=\"black\" cx=\"1306.99\" cy=\"-18\" rx=\"77.9862\" ry=\"18\"/>\r\n",
       "<text text-anchor=\"middle\" x=\"1306.99\" y=\"-14.3\" font-family=\"Times New Roman,serif\" font-size=\"14.00\">leaf=&#45;0.114666663</text>\r\n",
       "</g>\r\n",
       "<!-- 6&#45;&gt;14 -->\r\n",
       "<g id=\"edge14\" class=\"edge\"><title>6&#45;&gt;14</title>\r\n",
       "<path fill=\"none\" stroke=\"#ff0000\" d=\"M1165.46,-88.0309C1177.88,-82.0808 1192.09,-75.2541 1204.99,-69 1225.18,-59.2112 1247.58,-48.2471 1266.22,-39.0859\"/>\r\n",
       "<polygon fill=\"#ff0000\" stroke=\"#ff0000\" points=\"1267.9,-42.164 1275.33,-34.6113 1264.81,-35.882 1267.9,-42.164\"/>\r\n",
       "<text text-anchor=\"middle\" x=\"1241.49\" y=\"-57.8\" font-family=\"Times New Roman,serif\" font-size=\"14.00\">no</text>\r\n",
       "</g>\r\n",
       "</g>\r\n",
       "</svg>\r\n"
      ],
      "text/plain": [
       "<graphviz.dot.Digraph at 0x221adfe9fc8>"
      ]
     },
     "metadata": {},
     "output_type": "display_data"
    }
   ],
   "source": [
    "m.show_graph()"
   ]
  },
  {
   "cell_type": "markdown",
   "metadata": {},
   "source": [
    "## Quantitative + categorical"
   ]
  },
  {
   "cell_type": "code",
   "execution_count": 14,
   "metadata": {},
   "outputs": [
    {
     "data": {
      "image/png": "[encoded data removed]",
      "text/plain": [
       "<Figure size 432x288 with 2 Axes>"
      ]
     },
     "metadata": {
      "needs_background": "light"
     },
     "output_type": "display_data"
    },
    {
     "name": "stdout",
     "output_type": "stream",
     "text": [
      "f1 : 0.1511\n",
      "recall : 0.0859\n",
      "negative predictive value : 0.9474\n",
      "precision : 0.6292\n",
      "roc_auc : 0.8340\n",
      "Wall time: 1min 4s\n"
     ]
    }
   ],
   "source": [
    "%%time\n",
    "m = Modelisation(X_quant_cat, y, XGBClassifier(n_jobs=-1), scaling=False)\n",
    "m.show_conf_matrix()\n",
    "m.show_metrics_score()"
   ]
  },
  {
   "cell_type": "code",
   "execution_count": 15,
   "metadata": {},
   "outputs": [
    {
     "data": {
      "image/png": "[encoded data removed]",
      "text/plain": [
       "<Figure size 432x288 with 1 Axes>"
      ]
     },
     "metadata": {
      "needs_background": "light"
     },
     "output_type": "display_data"
    }
   ],
   "source": [
    "m.show_ROC()"
   ]
  },
  {
   "cell_type": "code",
   "execution_count": 16,
   "metadata": {},
   "outputs": [
    {
     "data": {
      "image/png": "[encoded data removed]",
      "text/plain": [
       "<Figure size 576x432 with 1 Axes>"
      ]
     },
     "metadata": {
      "needs_background": "light"
     },
     "output_type": "display_data"
    }
   ],
   "source": [
    "fig, ax = plt.subplots(figsize=(8, 6))\n",
    "m.plot_importance(ax=ax)"
   ]
  },
  {
   "cell_type": "code",
   "execution_count": 17,
   "metadata": {},
   "outputs": [
    {
     "data": {
      "image/svg+xml": [
       "<?xml version=\"1.0\" encoding=\"UTF-8\" standalone=\"no\"?>\r\n",
       "<!DOCTYPE svg PUBLIC \"-//W3C//DTD SVG 1.1//EN\"\r\n",
       " \"http://www.w3.org/Graphics/SVG/1.1/DTD/svg11.dtd\">\r\n",
       "<!-- Generated by graphviz version 2.38.0 (20140413.2041)\r\n",
       " -->\r\n",
       "<!-- Title: %3 Pages: 1 -->\r\n",
       "<svg width=\"1419pt\" height=\"305pt\"\r\n",
       " viewBox=\"0.00 0.00 1418.54 305.00\" xmlns=\"http://www.w3.org/2000/svg\" xmlns:xlink=\"http://www.w3.org/1999/xlink\">\r\n",
       "<g id=\"graph0\" class=\"graph\" transform=\"scale(1 1) rotate(0) translate(4 301)\">\r\n",
       "<title>%3</title>\r\n",
       "<polygon fill=\"white\" stroke=\"none\" points=\"-4,4 -4,-301 1414.54,-301 1414.54,4 -4,4\"/>\r\n",
       "<!-- 0 -->\r\n",
       "<g id=\"node1\" class=\"node\"><title>0</title>\r\n",
       "<ellipse fill=\"none\" stroke=\"black\" cx=\"689.443\" cy=\"-279\" rx=\"87.1846\" ry=\"18\"/>\r\n",
       "<text text-anchor=\"middle\" x=\"689.443\" y=\"-275.3\" font-family=\"Times New Roman,serif\" font-size=\"14.00\">is_interstitial_True&lt;1</text>\r\n",
       "</g>\r\n",
       "<!-- 1 -->\r\n",
       "<g id=\"node2\" class=\"node\"><title>1</title>\r\n",
       "<ellipse fill=\"none\" stroke=\"black\" cx=\"537.443\" cy=\"-192\" rx=\"113.18\" ry=\"18\"/>\r\n",
       "<text text-anchor=\"middle\" x=\"537.443\" y=\"-188.3\" font-family=\"Times New Roman,serif\" font-size=\"14.00\">zonecostineuro&lt;1.21882606</text>\r\n",
       "</g>\r\n",
       "<!-- 0&#45;&gt;1 -->\r\n",
       "<g id=\"edge1\" class=\"edge\"><title>0&#45;&gt;1</title>\r\n",
       "<path fill=\"none\" stroke=\"#0000ff\" d=\"M660.496,-261.812C636.456,-248.369 602.061,-229.135 575.743,-214.418\"/>\r\n",
       "<polygon fill=\"#0000ff\" stroke=\"#0000ff\" points=\"577.238,-211.243 566.801,-209.417 573.821,-217.353 577.238,-211.243\"/>\r\n",
       "<text text-anchor=\"middle\" x=\"657.943\" y=\"-231.8\" font-family=\"Times New Roman,serif\" font-size=\"14.00\">yes, missing</text>\r\n",
       "</g>\r\n",
       "<!-- 2 -->\r\n",
       "<g id=\"node3\" class=\"node\"><title>2</title>\r\n",
       "<ellipse fill=\"none\" stroke=\"black\" cx=\"799.443\" cy=\"-192\" rx=\"113.18\" ry=\"18\"/>\r\n",
       "<text text-anchor=\"middle\" x=\"799.443\" y=\"-188.3\" font-family=\"Times New Roman,serif\" font-size=\"14.00\">zonecostineuro&lt;3.03435326</text>\r\n",
       "</g>\r\n",
       "<!-- 0&#45;&gt;2 -->\r\n",
       "<g id=\"edge2\" class=\"edge\"><title>0&#45;&gt;2</title>\r\n",
       "<path fill=\"none\" stroke=\"#ff0000\" d=\"M710.914,-261.409C727.613,-248.505 750.982,-230.448 769.517,-216.125\"/>\r\n",
       "<polygon fill=\"#ff0000\" stroke=\"#ff0000\" points=\"771.879,-218.723 777.651,-209.839 767.599,-213.184 771.879,-218.723\"/>\r\n",
       "<text text-anchor=\"middle\" x=\"758.943\" y=\"-231.8\" font-family=\"Times New Roman,serif\" font-size=\"14.00\">no</text>\r\n",
       "</g>\r\n",
       "<!-- 3 -->\r\n",
       "<g id=\"node4\" class=\"node\"><title>3</title>\r\n",
       "<ellipse fill=\"none\" stroke=\"black\" cx=\"242.443\" cy=\"-105\" rx=\"117.779\" ry=\"18\"/>\r\n",
       "<text text-anchor=\"middle\" x=\"242.443\" y=\"-101.3\" font-family=\"Times New Roman,serif\" font-size=\"14.00\">zonecostineuro&lt;0.263977855</text>\r\n",
       "</g>\r\n",
       "<!-- 1&#45;&gt;3 -->\r\n",
       "<g id=\"edge3\" class=\"edge\"><title>1&#45;&gt;3</title>\r\n",
       "<path fill=\"none\" stroke=\"#0000ff\" d=\"M485.382,-175.999C434.931,-161.462 358.372,-139.403 304.717,-123.943\"/>\r\n",
       "<polygon fill=\"#0000ff\" stroke=\"#0000ff\" points=\"305.554,-120.542 294.976,-121.137 303.616,-127.269 305.554,-120.542\"/>\r\n",
       "<text text-anchor=\"middle\" x=\"442.943\" y=\"-144.8\" font-family=\"Times New Roman,serif\" font-size=\"14.00\">yes, missing</text>\r\n",
       "</g>\r\n",
       "<!-- 4 -->\r\n",
       "<g id=\"node5\" class=\"node\"><title>4</title>\r\n",
       "<ellipse fill=\"none\" stroke=\"black\" cx=\"537.443\" cy=\"-105\" rx=\"141.075\" ry=\"18\"/>\r\n",
       "<text text-anchor=\"middle\" x=\"537.443\" y=\"-101.3\" font-family=\"Times New Roman,serif\" font-size=\"14.00\">campaignctrlast24h&lt;0.00611364562</text>\r\n",
       "</g>\r\n",
       "<!-- 1&#45;&gt;4 -->\r\n",
       "<g id=\"edge4\" class=\"edge\"><title>1&#45;&gt;4</title>\r\n",
       "<path fill=\"none\" stroke=\"#ff0000\" d=\"M537.443,-173.799C537.443,-162.163 537.443,-146.548 537.443,-133.237\"/>\r\n",
       "<polygon fill=\"#ff0000\" stroke=\"#ff0000\" points=\"540.944,-133.175 537.443,-123.175 533.944,-133.175 540.944,-133.175\"/>\r\n",
       "<text text-anchor=\"middle\" x=\"544.943\" y=\"-144.8\" font-family=\"Times New Roman,serif\" font-size=\"14.00\">no</text>\r\n",
       "</g>\r\n",
       "<!-- 5 -->\r\n",
       "<g id=\"node10\" class=\"node\"><title>5</title>\r\n",
       "<ellipse fill=\"none\" stroke=\"black\" cx=\"799.443\" cy=\"-105\" rx=\"85.2851\" ry=\"18\"/>\r\n",
       "<text text-anchor=\"middle\" x=\"799.443\" y=\"-101.3\" font-family=\"Times New Roman,serif\" font-size=\"14.00\">device_type_iPad&lt;1</text>\r\n",
       "</g>\r\n",
       "<!-- 2&#45;&gt;5 -->\r\n",
       "<g id=\"edge9\" class=\"edge\"><title>2&#45;&gt;5</title>\r\n",
       "<path fill=\"none\" stroke=\"#0000ff\" d=\"M799.443,-173.799C799.443,-162.163 799.443,-146.548 799.443,-133.237\"/>\r\n",
       "<polygon fill=\"#0000ff\" stroke=\"#0000ff\" points=\"802.944,-133.175 799.443,-123.175 795.944,-133.175 802.944,-133.175\"/>\r\n",
       "<text text-anchor=\"middle\" x=\"833.943\" y=\"-144.8\" font-family=\"Times New Roman,serif\" font-size=\"14.00\">yes, missing</text>\r\n",
       "</g>\r\n",
       "<!-- 6 -->\r\n",
       "<g id=\"node11\" class=\"node\"><title>6</title>\r\n",
       "<ellipse fill=\"none\" stroke=\"black\" cx=\"1135.44\" cy=\"-105\" rx=\"141.075\" ry=\"18\"/>\r\n",
       "<text text-anchor=\"middle\" x=\"1135.44\" y=\"-101.3\" font-family=\"Times New Roman,serif\" font-size=\"14.00\">campaignctrlast24h&lt;0.00644572917</text>\r\n",
       "</g>\r\n",
       "<!-- 2&#45;&gt;6 -->\r\n",
       "<g id=\"edge10\" class=\"edge\"><title>2&#45;&gt;6</title>\r\n",
       "<path fill=\"none\" stroke=\"#ff0000\" d=\"M856.822,-176.485C914.348,-161.932 1003.02,-139.499 1064.83,-123.862\"/>\r\n",
       "<polygon fill=\"#ff0000\" stroke=\"#ff0000\" points=\"1066.06,-127.162 1074.9,-121.317 1064.34,-120.376 1066.06,-127.162\"/>\r\n",
       "<text text-anchor=\"middle\" x=\"995.943\" y=\"-144.8\" font-family=\"Times New Roman,serif\" font-size=\"14.00\">no</text>\r\n",
       "</g>\r\n",
       "<!-- 7 -->\r\n",
       "<g id=\"node6\" class=\"node\"><title>7</title>\r\n",
       "<ellipse fill=\"none\" stroke=\"black\" cx=\"73.4435\" cy=\"-18\" rx=\"73.387\" ry=\"18\"/>\r\n",
       "<text text-anchor=\"middle\" x=\"73.4435\" y=\"-14.3\" font-family=\"Times New Roman,serif\" font-size=\"14.00\">leaf=&#45;0.19293873</text>\r\n",
       "</g>\r\n",
       "<!-- 3&#45;&gt;7 -->\r\n",
       "<g id=\"edge5\" class=\"edge\"><title>3&#45;&gt;7</title>\r\n",
       "<path fill=\"none\" stroke=\"#0000ff\" d=\"M207.794,-87.6755C195.626,-81.8665 181.889,-75.2224 169.443,-69 150.44,-59.4987 129.497,-48.6372 112.034,-39.4702\"/>\r\n",
       "<polygon fill=\"#0000ff\" stroke=\"#0000ff\" points=\"113.205,-36.1311 102.725,-34.5711 109.945,-42.3256 113.205,-36.1311\"/>\r\n",
       "<text text-anchor=\"middle\" x=\"203.943\" y=\"-57.8\" font-family=\"Times New Roman,serif\" font-size=\"14.00\">yes, missing</text>\r\n",
       "</g>\r\n",
       "<!-- 8 -->\r\n",
       "<g id=\"node7\" class=\"node\"><title>8</title>\r\n",
       "<ellipse fill=\"none\" stroke=\"black\" cx=\"242.443\" cy=\"-18\" rx=\"77.9862\" ry=\"18\"/>\r\n",
       "<text text-anchor=\"middle\" x=\"242.443\" y=\"-14.3\" font-family=\"Times New Roman,serif\" font-size=\"14.00\">leaf=&#45;0.181114659</text>\r\n",
       "</g>\r\n",
       "<!-- 3&#45;&gt;8 -->\r\n",
       "<g id=\"edge6\" class=\"edge\"><title>3&#45;&gt;8</title>\r\n",
       "<path fill=\"none\" stroke=\"#ff0000\" d=\"M242.443,-86.799C242.443,-75.1626 242.443,-59.5479 242.443,-46.2368\"/>\r\n",
       "<polygon fill=\"#ff0000\" stroke=\"#ff0000\" points=\"245.944,-46.1754 242.443,-36.1754 238.944,-46.1755 245.944,-46.1754\"/>\r\n",
       "<text text-anchor=\"middle\" x=\"249.943\" y=\"-57.8\" font-family=\"Times New Roman,serif\" font-size=\"14.00\">no</text>\r\n",
       "</g>\r\n",
       "<!-- 9 -->\r\n",
       "<g id=\"node8\" class=\"node\"><title>9</title>\r\n",
       "<ellipse fill=\"none\" stroke=\"black\" cx=\"416.443\" cy=\"-18\" rx=\"77.9862\" ry=\"18\"/>\r\n",
       "<text text-anchor=\"middle\" x=\"416.443\" y=\"-14.3\" font-family=\"Times New Roman,serif\" font-size=\"14.00\">leaf=&#45;0.168476909</text>\r\n",
       "</g>\r\n",
       "<!-- 4&#45;&gt;9 -->\r\n",
       "<g id=\"edge7\" class=\"edge\"><title>4&#45;&gt;9</title>\r\n",
       "<path fill=\"none\" stroke=\"#0000ff\" d=\"M513.538,-87.2067C494.856,-74.0831 468.717,-55.7211 448.266,-41.3547\"/>\r\n",
       "<polygon fill=\"#0000ff\" stroke=\"#0000ff\" points=\"450.082,-38.3534 439.888,-35.4692 446.059,-44.0814 450.082,-38.3534\"/>\r\n",
       "<text text-anchor=\"middle\" x=\"518.943\" y=\"-57.8\" font-family=\"Times New Roman,serif\" font-size=\"14.00\">yes, missing</text>\r\n",
       "</g>\r\n",
       "<!-- 10 -->\r\n",
       "<g id=\"node9\" class=\"node\"><title>10</title>\r\n",
       "<ellipse fill=\"none\" stroke=\"black\" cx=\"590.443\" cy=\"-18\" rx=\"77.9862\" ry=\"18\"/>\r\n",
       "<text text-anchor=\"middle\" x=\"590.443\" y=\"-14.3\" font-family=\"Times New Roman,serif\" font-size=\"14.00\">leaf=&#45;0.125162914</text>\r\n",
       "</g>\r\n",
       "<!-- 4&#45;&gt;10 -->\r\n",
       "<g id=\"edge8\" class=\"edge\"><title>4&#45;&gt;10</title>\r\n",
       "<path fill=\"none\" stroke=\"#ff0000\" d=\"M548.169,-86.799C555.761,-74.6221 566.07,-58.0889 574.607,-44.3977\"/>\r\n",
       "<polygon fill=\"#ff0000\" stroke=\"#ff0000\" points=\"577.594,-46.2228 579.915,-35.8854 571.654,-42.5191 577.594,-46.2228\"/>\r\n",
       "<text text-anchor=\"middle\" x=\"574.943\" y=\"-57.8\" font-family=\"Times New Roman,serif\" font-size=\"14.00\">no</text>\r\n",
       "</g>\r\n",
       "<!-- 11 -->\r\n",
       "<g id=\"node12\" class=\"node\"><title>11</title>\r\n",
       "<ellipse fill=\"none\" stroke=\"black\" cx=\"764.443\" cy=\"-18\" rx=\"77.9862\" ry=\"18\"/>\r\n",
       "<text text-anchor=\"middle\" x=\"764.443\" y=\"-14.3\" font-family=\"Times New Roman,serif\" font-size=\"14.00\">leaf=&#45;0.106193952</text>\r\n",
       "</g>\r\n",
       "<!-- 5&#45;&gt;11 -->\r\n",
       "<g id=\"edge11\" class=\"edge\"><title>5&#45;&gt;11</title>\r\n",
       "<path fill=\"none\" stroke=\"#0000ff\" d=\"M792.361,-86.799C787.474,-74.9322 780.884,-58.9279 775.334,-45.4488\"/>\r\n",
       "<polygon fill=\"#0000ff\" stroke=\"#0000ff\" points=\"778.56,-44.0896 771.516,-36.1754 772.087,-46.7549 778.56,-44.0896\"/>\r\n",
       "<text text-anchor=\"middle\" x=\"818.943\" y=\"-57.8\" font-family=\"Times New Roman,serif\" font-size=\"14.00\">yes, missing</text>\r\n",
       "</g>\r\n",
       "<!-- 12 -->\r\n",
       "<g id=\"node13\" class=\"node\"><title>12</title>\r\n",
       "<ellipse fill=\"none\" stroke=\"black\" cx=\"947.443\" cy=\"-18\" rx=\"87.1846\" ry=\"18\"/>\r\n",
       "<text text-anchor=\"middle\" x=\"947.443\" y=\"-14.3\" font-family=\"Times New Roman,serif\" font-size=\"14.00\">leaf=&#45;0.00111179741</text>\r\n",
       "</g>\r\n",
       "<!-- 5&#45;&gt;12 -->\r\n",
       "<g id=\"edge12\" class=\"edge\"><title>5&#45;&gt;12</title>\r\n",
       "<path fill=\"none\" stroke=\"#ff0000\" d=\"M827.63,-87.8121C851.187,-74.2825 884.956,-54.8878 910.644,-40.1351\"/>\r\n",
       "<polygon fill=\"#ff0000\" stroke=\"#ff0000\" points=\"912.434,-43.1431 919.362,-35.1277 908.948,-37.0729 912.434,-43.1431\"/>\r\n",
       "<text text-anchor=\"middle\" x=\"889.943\" y=\"-57.8\" font-family=\"Times New Roman,serif\" font-size=\"14.00\">no</text>\r\n",
       "</g>\r\n",
       "<!-- 13 -->\r\n",
       "<g id=\"node14\" class=\"node\"><title>13</title>\r\n",
       "<ellipse fill=\"none\" stroke=\"black\" cx=\"1135.44\" cy=\"-18\" rx=\"82.5854\" ry=\"18\"/>\r\n",
       "<text text-anchor=\"middle\" x=\"1135.44\" y=\"-14.3\" font-family=\"Times New Roman,serif\" font-size=\"14.00\">leaf=&#45;0.0693886504</text>\r\n",
       "</g>\r\n",
       "<!-- 6&#45;&gt;13 -->\r\n",
       "<g id=\"edge13\" class=\"edge\"><title>6&#45;&gt;13</title>\r\n",
       "<path fill=\"none\" stroke=\"#0000ff\" d=\"M1135.44,-86.799C1135.44,-75.1626 1135.44,-59.5479 1135.44,-46.2368\"/>\r\n",
       "<polygon fill=\"#0000ff\" stroke=\"#0000ff\" points=\"1138.94,-46.1754 1135.44,-36.1754 1131.94,-46.1755 1138.94,-46.1754\"/>\r\n",
       "<text text-anchor=\"middle\" x=\"1169.94\" y=\"-57.8\" font-family=\"Times New Roman,serif\" font-size=\"14.00\">yes, missing</text>\r\n",
       "</g>\r\n",
       "<!-- 14 -->\r\n",
       "<g id=\"node15\" class=\"node\"><title>14</title>\r\n",
       "<ellipse fill=\"none\" stroke=\"black\" cx=\"1323.44\" cy=\"-18\" rx=\"87.1846\" ry=\"18\"/>\r\n",
       "<text text-anchor=\"middle\" x=\"1323.44\" y=\"-14.3\" font-family=\"Times New Roman,serif\" font-size=\"14.00\">leaf=&#45;0.00580595899</text>\r\n",
       "</g>\r\n",
       "<!-- 6&#45;&gt;14 -->\r\n",
       "<g id=\"edge14\" class=\"edge\"><title>6&#45;&gt;14</title>\r\n",
       "<path fill=\"none\" stroke=\"#ff0000\" d=\"M1172.14,-87.4094C1202.97,-73.47 1247.1,-53.5174 1279.75,-38.7551\"/>\r\n",
       "<polygon fill=\"#ff0000\" stroke=\"#ff0000\" points=\"1281.39,-41.8549 1289.06,-34.5459 1278.51,-35.4765 1281.39,-41.8549\"/>\r\n",
       "<text text-anchor=\"middle\" x=\"1248.94\" y=\"-57.8\" font-family=\"Times New Roman,serif\" font-size=\"14.00\">no</text>\r\n",
       "</g>\r\n",
       "</g>\r\n",
       "</svg>\r\n"
      ],
      "text/plain": [
       "<graphviz.dot.Digraph at 0x221ad9f5608>"
      ]
     },
     "metadata": {},
     "output_type": "display_data"
    }
   ],
   "source": [
    "m.show_graph()"
   ]
  },
  {
   "cell_type": "markdown",
   "metadata": {},
   "source": [
    "## Tuning des hyperparamètres avec GridSearchCV\n",
    "\n",
    "On calcule le GridSearchCV sur un dataset plus petit pour avoir un temps de calcul raisonnable."
   ]
  },
  {
   "cell_type": "code",
   "execution_count": 18,
   "metadata": {},
   "outputs": [
    {
     "data": {
      "text/plain": [
       "(16105, 48)"
      ]
     },
     "execution_count": 18,
     "metadata": {},
     "output_type": "execute_result"
    }
   ],
   "source": [
    "df_small = pd.read_csv('data/df_train_prepro.csv').sample(frac=0.01)\n",
    "df_small.shape"
   ]
  },
  {
   "cell_type": "code",
   "execution_count": 19,
   "metadata": {},
   "outputs": [
    {
     "name": "stdout",
     "output_type": "stream",
     "text": [
      "\n",
      "Nombre de variables pour X_quant : 13\n",
      "\n"
     ]
    },
    {
     "data": {
      "text/plain": [
       "Index(['contextid', 'campaignctrlast24h', 'dayssincelastvisitdouble',\n",
       "       'ltf_nbglobaldisplay_4w', 'ltf_nbpartnerdisplayssincelastclick',\n",
       "       'ltf_nbpartnerdisplay_90d', 'ltf_nbpartnerclick_90d',\n",
       "       'ltf_nbpartnersales_90d', 'nbdayssincelastclick', 'nbdisplay_1hour',\n",
       "       'nbdisplayglobalapprox_1d_sum_xdevice', 'display_size',\n",
       "       'zonecostineuro'],\n",
       "      dtype='object')"
      ]
     },
     "metadata": {},
     "output_type": "display_data"
    },
    {
     "name": "stdout",
     "output_type": "stream",
     "text": [
      "\n",
      "Nombre de variables pour X_cat : 50\n",
      "\n"
     ]
    },
    {
     "data": {
      "text/plain": [
       "Index(['display_env_app_ios', 'display_env_other', 'display_env_web',\n",
       "       'target_env_2', 'campaignscenario_5', 'campaignscenario_6',\n",
       "       'campaignscenario_11', 'campaignscenario_12', 'campaignscenario_13',\n",
       "       'campaignscenario_17', 'campaignvertical_20.0', 'campaignvertical_23.0',\n",
       "       'campaignvertical_129.0', 'campaignvertical_200002.0',\n",
       "       'is_interstitial_True', 'device_type_Desktop',\n",
       "       'device_type_Desktop - Safari', 'device_type_Mobile - Other',\n",
       "       'device_type_Unknown', 'device_type_iPad', 'device_type_iPhone',\n",
       "       'hour_1', 'hour_2', 'hour_3', 'hour_4', 'hour_5', 'hour_6', 'hour_7',\n",
       "       'hour_8', 'hour_9', 'hour_10', 'hour_11', 'hour_12', 'hour_13',\n",
       "       'hour_14', 'hour_15', 'hour_16', 'hour_17', 'hour_18', 'hour_19',\n",
       "       'hour_20', 'hour_21', 'hour_22', 'hour_23', 'weekday_Monday',\n",
       "       'weekday_Saturday', 'weekday_Sunday', 'weekday_Thursday',\n",
       "       'weekday_Tuesday', 'weekday_Wednesday'],\n",
       "      dtype='object')"
      ]
     },
     "metadata": {},
     "output_type": "display_data"
    },
    {
     "name": "stdout",
     "output_type": "stream",
     "text": [
      "\n",
      "Nombre de variables pour X_quant_cat : 63\n"
     ]
    }
   ],
   "source": [
    "_, _, _, _, X_quant_cat_small, _, y_small = datasets(df_small)"
   ]
  },
  {
   "cell_type": "code",
   "execution_count": 20,
   "metadata": {},
   "outputs": [],
   "source": [
    "params = {\n",
    "        'learning_rate': [0.001, 0.01, 0.1, 0.2, 0.4, 0.6, 0.8, 1],\n",
    "        'gamma': [0.5, 1, 1.5, 2, 5],\n",
    "        'max_depth': [3, 6, 9, 12],\n",
    "        'min_child_weight': [1, 5, 10, 15],\n",
    "        'subsample': [0.6, 0.8, 1.0],\n",
    "        'colsample_bytree': [0.6, 0.8, 1.0],\n",
    "    \n",
    "        'scale_pos_weight': [1, 16.5]   # A typical value to consider: sum(negative instances) / sum(positive instances)\n",
    "        }"
   ]
  },
  {
   "cell_type": "code",
   "execution_count": 21,
   "metadata": {},
   "outputs": [
    {
     "name": "stdout",
     "output_type": "stream",
     "text": [
      "Nombre total de combinaisons de paramètres : 11520\n"
     ]
    }
   ],
   "source": [
    "grid = ParameterGrid(params)\n",
    "print (f\"Nombre total de combinaisons de paramètres : {len(grid)}\")"
   ]
  },
  {
   "cell_type": "code",
   "execution_count": 22,
   "metadata": {},
   "outputs": [
    {
     "name": "stdout",
     "output_type": "stream",
     "text": [
      "Fitting 5 folds for each of 100 candidates, totalling 500 fits\n",
      "Wall time: 7min 40s\n"
     ]
    },
    {
     "data": {
      "text/plain": [
       "RandomizedSearchCV(cv=5, estimator=XGBClassifier(), n_iter=100, n_jobs=-1,\n",
       "                   param_distributions={'colsample_bytree': [0.6, 0.8, 1.0],\n",
       "                                        'gamma': [0.5, 1, 1.5, 2, 5],\n",
       "                                        'learning_rate': [0.001, 0.01, 0.1, 0.2,\n",
       "                                                          0.4, 0.6, 0.8, 1],\n",
       "                                        'max_depth': [3, 6, 9, 12],\n",
       "                                        'min_child_weight': [1, 5, 10, 15],\n",
       "                                        'scale_pos_weight': [1, 16.5],\n",
       "                                        'subsample': [0.6, 0.8, 1.0]},\n",
       "                   refit=False, scoring=['f1', 'recall'], verbose=2)"
      ]
     },
     "execution_count": 22,
     "metadata": {},
     "output_type": "execute_result"
    }
   ],
   "source": [
    "%%time\n",
    "model = XGBClassifier(booster='gbtree', objective='binary:logistic', n_jobs=1)\n",
    "\n",
    "random_search = RandomizedSearchCV(model, params, n_iter=100, scoring=['f1', 'recall'], refit=False, n_jobs=-1, cv=5, verbose=2)\n",
    "# random_search = GridSearchCV(model, params, scoring=['f1', 'recall'], refit=False, n_jobs=1, cv=5, verbose=2)\n",
    "\n",
    "random_search.fit(X_quant_cat_small, y_small)"
   ]
  },
  {
   "cell_type": "code",
   "execution_count": 43,
   "metadata": {},
   "outputs": [],
   "source": [
    "resul = pd.DataFrame(random_search.cv_results_)"
   ]
  },
  {
   "cell_type": "markdown",
   "metadata": {},
   "source": [
    "Sauvegarde des résultats"
   ]
  },
  {
   "cell_type": "code",
   "execution_count": 44,
   "metadata": {},
   "outputs": [],
   "source": [
    "pickle.dump(resul, open('xgboost_cv_results.pkl', 'wb'))"
   ]
  },
  {
   "cell_type": "markdown",
   "metadata": {},
   "source": [
    "Restauration des résultats"
   ]
  },
  {
   "cell_type": "code",
   "execution_count": 45,
   "metadata": {},
   "outputs": [],
   "source": [
    "resul = pickle.load(open('xgboost_cv_results.pkl', 'rb'))"
   ]
  },
  {
   "cell_type": "code",
   "execution_count": 46,
   "metadata": {},
   "outputs": [
    {
     "data": {
      "text/html": [
       "<div>\n",
       "<style scoped>\n",
       "    .dataframe tbody tr th:only-of-type {\n",
       "        vertical-align: middle;\n",
       "    }\n",
       "\n",
       "    .dataframe tbody tr th {\n",
       "        vertical-align: top;\n",
       "    }\n",
       "\n",
       "    .dataframe thead th {\n",
       "        text-align: right;\n",
       "    }\n",
       "</style>\n",
       "<table border=\"1\" class=\"dataframe\">\n",
       "  <thead>\n",
       "    <tr style=\"text-align: right;\">\n",
       "      <th></th>\n",
       "      <th>mean_fit_time</th>\n",
       "      <th>std_fit_time</th>\n",
       "      <th>mean_score_time</th>\n",
       "      <th>std_score_time</th>\n",
       "      <th>param_subsample</th>\n",
       "      <th>param_scale_pos_weight</th>\n",
       "      <th>param_min_child_weight</th>\n",
       "      <th>param_max_depth</th>\n",
       "      <th>param_learning_rate</th>\n",
       "      <th>param_gamma</th>\n",
       "      <th>param_colsample_bytree</th>\n",
       "      <th>params</th>\n",
       "      <th>mean_test_f1</th>\n",
       "      <th>std_test_f1</th>\n",
       "      <th>rank_test_f1</th>\n",
       "      <th>mean_test_recall</th>\n",
       "      <th>std_test_recall</th>\n",
       "      <th>rank_test_recall</th>\n",
       "    </tr>\n",
       "  </thead>\n",
       "  <tbody>\n",
       "    <tr>\n",
       "      <th>0</th>\n",
       "      <td>6.151747</td>\n",
       "      <td>0.065209</td>\n",
       "      <td>0.047274</td>\n",
       "      <td>0.001739</td>\n",
       "      <td>0.8</td>\n",
       "      <td>1</td>\n",
       "      <td>15</td>\n",
       "      <td>9</td>\n",
       "      <td>1</td>\n",
       "      <td>1</td>\n",
       "      <td>0.6</td>\n",
       "      <td>{'subsample': 0.8, 'scale_pos_weight': 1, 'min...</td>\n",
       "      <td>0.215561</td>\n",
       "      <td>0.027818</td>\n",
       "      <td>58</td>\n",
       "      <td>0.169824</td>\n",
       "      <td>0.024079</td>\n",
       "      <td>49</td>\n",
       "    </tr>\n",
       "    <tr>\n",
       "      <th>1</th>\n",
       "      <td>6.625878</td>\n",
       "      <td>0.131745</td>\n",
       "      <td>0.032713</td>\n",
       "      <td>0.001163</td>\n",
       "      <td>1.0</td>\n",
       "      <td>1</td>\n",
       "      <td>15</td>\n",
       "      <td>6</td>\n",
       "      <td>0.01</td>\n",
       "      <td>0.5</td>\n",
       "      <td>1.0</td>\n",
       "      <td>{'subsample': 1.0, 'scale_pos_weight': 1, 'min...</td>\n",
       "      <td>0.125555</td>\n",
       "      <td>0.036226</td>\n",
       "      <td>88</td>\n",
       "      <td>0.071514</td>\n",
       "      <td>0.022146</td>\n",
       "      <td>87</td>\n",
       "    </tr>\n",
       "    <tr>\n",
       "      <th>2</th>\n",
       "      <td>9.403051</td>\n",
       "      <td>0.037927</td>\n",
       "      <td>0.037699</td>\n",
       "      <td>0.000977</td>\n",
       "      <td>0.6</td>\n",
       "      <td>1</td>\n",
       "      <td>1</td>\n",
       "      <td>9</td>\n",
       "      <td>0.6</td>\n",
       "      <td>5</td>\n",
       "      <td>0.8</td>\n",
       "      <td>{'subsample': 0.6, 'scale_pos_weight': 1, 'min...</td>\n",
       "      <td>0.210315</td>\n",
       "      <td>0.025427</td>\n",
       "      <td>65</td>\n",
       "      <td>0.164869</td>\n",
       "      <td>0.021764</td>\n",
       "      <td>55</td>\n",
       "    </tr>\n",
       "    <tr>\n",
       "      <th>3</th>\n",
       "      <td>6.861050</td>\n",
       "      <td>0.113652</td>\n",
       "      <td>0.030319</td>\n",
       "      <td>0.000489</td>\n",
       "      <td>1.0</td>\n",
       "      <td>1</td>\n",
       "      <td>10</td>\n",
       "      <td>12</td>\n",
       "      <td>0.001</td>\n",
       "      <td>2</td>\n",
       "      <td>0.8</td>\n",
       "      <td>{'subsample': 1.0, 'scale_pos_weight': 1, 'min...</td>\n",
       "      <td>0.109414</td>\n",
       "      <td>0.032845</td>\n",
       "      <td>90</td>\n",
       "      <td>0.060564</td>\n",
       "      <td>0.019908</td>\n",
       "      <td>90</td>\n",
       "    </tr>\n",
       "    <tr>\n",
       "      <th>4</th>\n",
       "      <td>6.787446</td>\n",
       "      <td>0.048342</td>\n",
       "      <td>0.056050</td>\n",
       "      <td>0.001596</td>\n",
       "      <td>0.8</td>\n",
       "      <td>16.5</td>\n",
       "      <td>15</td>\n",
       "      <td>9</td>\n",
       "      <td>0.1</td>\n",
       "      <td>5</td>\n",
       "      <td>0.6</td>\n",
       "      <td>{'subsample': 0.8, 'scale_pos_weight': 16.5, '...</td>\n",
       "      <td>0.325696</td>\n",
       "      <td>0.023400</td>\n",
       "      <td>3</td>\n",
       "      <td>0.472691</td>\n",
       "      <td>0.037489</td>\n",
       "      <td>20</td>\n",
       "    </tr>\n",
       "    <tr>\n",
       "      <th>5</th>\n",
       "      <td>6.872220</td>\n",
       "      <td>0.200656</td>\n",
       "      <td>0.028325</td>\n",
       "      <td>0.001353</td>\n",
       "      <td>1.0</td>\n",
       "      <td>1</td>\n",
       "      <td>5</td>\n",
       "      <td>9</td>\n",
       "      <td>0.001</td>\n",
       "      <td>5</td>\n",
       "      <td>0.8</td>\n",
       "      <td>{'subsample': 1.0, 'scale_pos_weight': 1, 'min...</td>\n",
       "      <td>0.105187</td>\n",
       "      <td>0.031442</td>\n",
       "      <td>91</td>\n",
       "      <td>0.058598</td>\n",
       "      <td>0.018943</td>\n",
       "      <td>91</td>\n",
       "    </tr>\n",
       "    <tr>\n",
       "      <th>6</th>\n",
       "      <td>9.430378</td>\n",
       "      <td>0.187953</td>\n",
       "      <td>0.079189</td>\n",
       "      <td>0.002491</td>\n",
       "      <td>1.0</td>\n",
       "      <td>16.5</td>\n",
       "      <td>1</td>\n",
       "      <td>12</td>\n",
       "      <td>0.01</td>\n",
       "      <td>1</td>\n",
       "      <td>0.6</td>\n",
       "      <td>{'subsample': 1.0, 'scale_pos_weight': 16.5, '...</td>\n",
       "      <td>0.322234</td>\n",
       "      <td>0.025540</td>\n",
       "      <td>5</td>\n",
       "      <td>0.361475</td>\n",
       "      <td>0.028405</td>\n",
       "      <td>24</td>\n",
       "    </tr>\n",
       "    <tr>\n",
       "      <th>7</th>\n",
       "      <td>3.911339</td>\n",
       "      <td>0.040263</td>\n",
       "      <td>0.027726</td>\n",
       "      <td>0.000747</td>\n",
       "      <td>0.6</td>\n",
       "      <td>16.5</td>\n",
       "      <td>1</td>\n",
       "      <td>3</td>\n",
       "      <td>0.4</td>\n",
       "      <td>1.5</td>\n",
       "      <td>1.0</td>\n",
       "      <td>{'subsample': 0.6, 'scale_pos_weight': 16.5, '...</td>\n",
       "      <td>0.272278</td>\n",
       "      <td>0.010241</td>\n",
       "      <td>23</td>\n",
       "      <td>0.595823</td>\n",
       "      <td>0.027418</td>\n",
       "      <td>13</td>\n",
       "    </tr>\n",
       "    <tr>\n",
       "      <th>8</th>\n",
       "      <td>6.747353</td>\n",
       "      <td>0.103946</td>\n",
       "      <td>0.025731</td>\n",
       "      <td>0.000399</td>\n",
       "      <td>0.8</td>\n",
       "      <td>1</td>\n",
       "      <td>15</td>\n",
       "      <td>6</td>\n",
       "      <td>0.01</td>\n",
       "      <td>5</td>\n",
       "      <td>1.0</td>\n",
       "      <td>{'subsample': 0.8, 'scale_pos_weight': 1, 'min...</td>\n",
       "      <td>0.102916</td>\n",
       "      <td>0.022617</td>\n",
       "      <td>93</td>\n",
       "      <td>0.056613</td>\n",
       "      <td>0.013191</td>\n",
       "      <td>92</td>\n",
       "    </tr>\n",
       "    <tr>\n",
       "      <th>9</th>\n",
       "      <td>8.224603</td>\n",
       "      <td>0.165979</td>\n",
       "      <td>0.070212</td>\n",
       "      <td>0.000489</td>\n",
       "      <td>1.0</td>\n",
       "      <td>16.5</td>\n",
       "      <td>15</td>\n",
       "      <td>12</td>\n",
       "      <td>0.001</td>\n",
       "      <td>1</td>\n",
       "      <td>0.6</td>\n",
       "      <td>{'subsample': 1.0, 'scale_pos_weight': 16.5, '...</td>\n",
       "      <td>0.324835</td>\n",
       "      <td>0.012696</td>\n",
       "      <td>4</td>\n",
       "      <td>0.541229</td>\n",
       "      <td>0.009832</td>\n",
       "      <td>16</td>\n",
       "    </tr>\n",
       "  </tbody>\n",
       "</table>\n",
       "</div>"
      ],
      "text/plain": [
       "   mean_fit_time  std_fit_time  mean_score_time  std_score_time  \\\n",
       "0       6.151747      0.065209         0.047274        0.001739   \n",
       "1       6.625878      0.131745         0.032713        0.001163   \n",
       "2       9.403051      0.037927         0.037699        0.000977   \n",
       "3       6.861050      0.113652         0.030319        0.000489   \n",
       "4       6.787446      0.048342         0.056050        0.001596   \n",
       "5       6.872220      0.200656         0.028325        0.001353   \n",
       "6       9.430378      0.187953         0.079189        0.002491   \n",
       "7       3.911339      0.040263         0.027726        0.000747   \n",
       "8       6.747353      0.103946         0.025731        0.000399   \n",
       "9       8.224603      0.165979         0.070212        0.000489   \n",
       "\n",
       "  param_subsample param_scale_pos_weight param_min_child_weight  \\\n",
       "0             0.8                      1                     15   \n",
       "1             1.0                      1                     15   \n",
       "2             0.6                      1                      1   \n",
       "3             1.0                      1                     10   \n",
       "4             0.8                   16.5                     15   \n",
       "5             1.0                      1                      5   \n",
       "6             1.0                   16.5                      1   \n",
       "7             0.6                   16.5                      1   \n",
       "8             0.8                      1                     15   \n",
       "9             1.0                   16.5                     15   \n",
       "\n",
       "  param_max_depth param_learning_rate param_gamma param_colsample_bytree  \\\n",
       "0               9                   1           1                    0.6   \n",
       "1               6                0.01         0.5                    1.0   \n",
       "2               9                 0.6           5                    0.8   \n",
       "3              12               0.001           2                    0.8   \n",
       "4               9                 0.1           5                    0.6   \n",
       "5               9               0.001           5                    0.8   \n",
       "6              12                0.01           1                    0.6   \n",
       "7               3                 0.4         1.5                    1.0   \n",
       "8               6                0.01           5                    1.0   \n",
       "9              12               0.001           1                    0.6   \n",
       "\n",
       "                                              params  mean_test_f1  \\\n",
       "0  {'subsample': 0.8, 'scale_pos_weight': 1, 'min...      0.215561   \n",
       "1  {'subsample': 1.0, 'scale_pos_weight': 1, 'min...      0.125555   \n",
       "2  {'subsample': 0.6, 'scale_pos_weight': 1, 'min...      0.210315   \n",
       "3  {'subsample': 1.0, 'scale_pos_weight': 1, 'min...      0.109414   \n",
       "4  {'subsample': 0.8, 'scale_pos_weight': 16.5, '...      0.325696   \n",
       "5  {'subsample': 1.0, 'scale_pos_weight': 1, 'min...      0.105187   \n",
       "6  {'subsample': 1.0, 'scale_pos_weight': 16.5, '...      0.322234   \n",
       "7  {'subsample': 0.6, 'scale_pos_weight': 16.5, '...      0.272278   \n",
       "8  {'subsample': 0.8, 'scale_pos_weight': 1, 'min...      0.102916   \n",
       "9  {'subsample': 1.0, 'scale_pos_weight': 16.5, '...      0.324835   \n",
       "\n",
       "   std_test_f1  rank_test_f1  mean_test_recall  std_test_recall  \\\n",
       "0     0.027818            58          0.169824         0.024079   \n",
       "1     0.036226            88          0.071514         0.022146   \n",
       "2     0.025427            65          0.164869         0.021764   \n",
       "3     0.032845            90          0.060564         0.019908   \n",
       "4     0.023400             3          0.472691         0.037489   \n",
       "5     0.031442            91          0.058598         0.018943   \n",
       "6     0.025540             5          0.361475         0.028405   \n",
       "7     0.010241            23          0.595823         0.027418   \n",
       "8     0.022617            93          0.056613         0.013191   \n",
       "9     0.012696             4          0.541229         0.009832   \n",
       "\n",
       "   rank_test_recall  \n",
       "0                49  \n",
       "1                87  \n",
       "2                55  \n",
       "3                90  \n",
       "4                20  \n",
       "5                91  \n",
       "6                24  \n",
       "7                13  \n",
       "8                92  \n",
       "9                16  "
      ]
     },
     "execution_count": 46,
     "metadata": {},
     "output_type": "execute_result"
    }
   ],
   "source": [
    "resul.loc[:, ~resul.columns.str.startswith('split')].head(10)"
   ]
  },
  {
   "cell_type": "code",
   "execution_count": 49,
   "metadata": {},
   "outputs": [
    {
     "data": {
      "image/png": "[encoded data removed]",
      "text/plain": [
       "<Figure size 432x288 with 1 Axes>"
      ]
     },
     "metadata": {
      "needs_background": "light"
     },
     "output_type": "display_data"
    }
   ],
   "source": [
    "plt.scatter(resul['mean_test_recall'], resul['mean_test_f1'], marker='x')\n",
    "plt.xlabel('recall')\n",
    "plt.ylabel('f1')\n",
    "plt.show()"
   ]
  },
  {
   "cell_type": "code",
   "execution_count": 26,
   "metadata": {},
   "outputs": [],
   "source": [
    "# print('\\n Best estimator:')\n",
    "# print(random_search.best_estimator_)\n",
    "# print('\\n Best hyperparameters:')\n",
    "# print(random_search.best_params_)\n",
    "# print('\\n Best score:')\n",
    "# print(random_search.best_score_)"
   ]
  },
  {
   "cell_type": "markdown",
   "metadata": {},
   "source": [
    "**Paramètres donnant le meilleur recall :**"
   ]
  },
  {
   "cell_type": "code",
   "execution_count": 27,
   "metadata": {},
   "outputs": [
    {
     "data": {
      "text/html": [
       "<div>\n",
       "<style scoped>\n",
       "    .dataframe tbody tr th:only-of-type {\n",
       "        vertical-align: middle;\n",
       "    }\n",
       "\n",
       "    .dataframe tbody tr th {\n",
       "        vertical-align: top;\n",
       "    }\n",
       "\n",
       "    .dataframe thead th {\n",
       "        text-align: right;\n",
       "    }\n",
       "</style>\n",
       "<table border=\"1\" class=\"dataframe\">\n",
       "  <thead>\n",
       "    <tr style=\"text-align: right;\">\n",
       "      <th></th>\n",
       "      <th>mean_fit_time</th>\n",
       "      <th>std_fit_time</th>\n",
       "      <th>mean_score_time</th>\n",
       "      <th>std_score_time</th>\n",
       "      <th>param_subsample</th>\n",
       "      <th>param_scale_pos_weight</th>\n",
       "      <th>param_min_child_weight</th>\n",
       "      <th>param_max_depth</th>\n",
       "      <th>param_learning_rate</th>\n",
       "      <th>param_gamma</th>\n",
       "      <th>param_colsample_bytree</th>\n",
       "      <th>params</th>\n",
       "      <th>mean_test_f1</th>\n",
       "      <th>std_test_f1</th>\n",
       "      <th>rank_test_f1</th>\n",
       "      <th>mean_test_recall</th>\n",
       "      <th>std_test_recall</th>\n",
       "      <th>rank_test_recall</th>\n",
       "    </tr>\n",
       "  </thead>\n",
       "  <tbody>\n",
       "    <tr>\n",
       "      <th>86</th>\n",
       "      <td>3.787670</td>\n",
       "      <td>0.056211</td>\n",
       "      <td>0.032513</td>\n",
       "      <td>0.001017</td>\n",
       "      <td>0.6</td>\n",
       "      <td>16.5</td>\n",
       "      <td>10</td>\n",
       "      <td>3</td>\n",
       "      <td>0.001</td>\n",
       "      <td>1</td>\n",
       "      <td>0.8</td>\n",
       "      <td>{'subsample': 0.6, 'scale_pos_weight': 16.5, '...</td>\n",
       "      <td>0.249630</td>\n",
       "      <td>0.014448</td>\n",
       "      <td>30</td>\n",
       "      <td>0.725876</td>\n",
       "      <td>0.038190</td>\n",
       "      <td>1</td>\n",
       "    </tr>\n",
       "    <tr>\n",
       "      <th>47</th>\n",
       "      <td>3.594187</td>\n",
       "      <td>0.006476</td>\n",
       "      <td>0.028524</td>\n",
       "      <td>0.000798</td>\n",
       "      <td>0.8</td>\n",
       "      <td>16.5</td>\n",
       "      <td>1</td>\n",
       "      <td>3</td>\n",
       "      <td>0.1</td>\n",
       "      <td>2</td>\n",
       "      <td>1.0</td>\n",
       "      <td>{'subsample': 0.8, 'scale_pos_weight': 16.5, '...</td>\n",
       "      <td>0.271784</td>\n",
       "      <td>0.007579</td>\n",
       "      <td>24</td>\n",
       "      <td>0.710029</td>\n",
       "      <td>0.011165</td>\n",
       "      <td>2</td>\n",
       "    </tr>\n",
       "    <tr>\n",
       "      <th>63</th>\n",
       "      <td>3.054630</td>\n",
       "      <td>0.012383</td>\n",
       "      <td>0.034109</td>\n",
       "      <td>0.000746</td>\n",
       "      <td>0.8</td>\n",
       "      <td>16.5</td>\n",
       "      <td>1</td>\n",
       "      <td>3</td>\n",
       "      <td>0.1</td>\n",
       "      <td>1</td>\n",
       "      <td>0.6</td>\n",
       "      <td>{'subsample': 0.8, 'scale_pos_weight': 16.5, '...</td>\n",
       "      <td>0.274933</td>\n",
       "      <td>0.008505</td>\n",
       "      <td>20</td>\n",
       "      <td>0.704084</td>\n",
       "      <td>0.017177</td>\n",
       "      <td>3</td>\n",
       "    </tr>\n",
       "    <tr>\n",
       "      <th>82</th>\n",
       "      <td>3.280426</td>\n",
       "      <td>0.009678</td>\n",
       "      <td>0.028723</td>\n",
       "      <td>0.000977</td>\n",
       "      <td>1.0</td>\n",
       "      <td>16.5</td>\n",
       "      <td>15</td>\n",
       "      <td>3</td>\n",
       "      <td>0.2</td>\n",
       "      <td>5</td>\n",
       "      <td>1.0</td>\n",
       "      <td>{'subsample': 1.0, 'scale_pos_weight': 16.5, '...</td>\n",
       "      <td>0.278090</td>\n",
       "      <td>0.010289</td>\n",
       "      <td>17</td>\n",
       "      <td>0.682208</td>\n",
       "      <td>0.030827</td>\n",
       "      <td>4</td>\n",
       "    </tr>\n",
       "    <tr>\n",
       "      <th>33</th>\n",
       "      <td>5.849156</td>\n",
       "      <td>0.046086</td>\n",
       "      <td>0.043484</td>\n",
       "      <td>0.001017</td>\n",
       "      <td>1.0</td>\n",
       "      <td>16.5</td>\n",
       "      <td>10</td>\n",
       "      <td>6</td>\n",
       "      <td>0.001</td>\n",
       "      <td>0.5</td>\n",
       "      <td>0.8</td>\n",
       "      <td>{'subsample': 1.0, 'scale_pos_weight': 16.5, '...</td>\n",
       "      <td>0.266725</td>\n",
       "      <td>0.011743</td>\n",
       "      <td>26</td>\n",
       "      <td>0.680233</td>\n",
       "      <td>0.031288</td>\n",
       "      <td>5</td>\n",
       "    </tr>\n",
       "  </tbody>\n",
       "</table>\n",
       "</div>"
      ],
      "text/plain": [
       "    mean_fit_time  std_fit_time  mean_score_time  std_score_time  \\\n",
       "86       3.787670      0.056211         0.032513        0.001017   \n",
       "47       3.594187      0.006476         0.028524        0.000798   \n",
       "63       3.054630      0.012383         0.034109        0.000746   \n",
       "82       3.280426      0.009678         0.028723        0.000977   \n",
       "33       5.849156      0.046086         0.043484        0.001017   \n",
       "\n",
       "   param_subsample param_scale_pos_weight param_min_child_weight  \\\n",
       "86             0.6                   16.5                     10   \n",
       "47             0.8                   16.5                      1   \n",
       "63             0.8                   16.5                      1   \n",
       "82             1.0                   16.5                     15   \n",
       "33             1.0                   16.5                     10   \n",
       "\n",
       "   param_max_depth param_learning_rate param_gamma param_colsample_bytree  \\\n",
       "86               3               0.001           1                    0.8   \n",
       "47               3                 0.1           2                    1.0   \n",
       "63               3                 0.1           1                    0.6   \n",
       "82               3                 0.2           5                    1.0   \n",
       "33               6               0.001         0.5                    0.8   \n",
       "\n",
       "                                               params  mean_test_f1  \\\n",
       "86  {'subsample': 0.6, 'scale_pos_weight': 16.5, '...      0.249630   \n",
       "47  {'subsample': 0.8, 'scale_pos_weight': 16.5, '...      0.271784   \n",
       "63  {'subsample': 0.8, 'scale_pos_weight': 16.5, '...      0.274933   \n",
       "82  {'subsample': 1.0, 'scale_pos_weight': 16.5, '...      0.278090   \n",
       "33  {'subsample': 1.0, 'scale_pos_weight': 16.5, '...      0.266725   \n",
       "\n",
       "    std_test_f1  rank_test_f1  mean_test_recall  std_test_recall  \\\n",
       "86     0.014448            30          0.725876         0.038190   \n",
       "47     0.007579            24          0.710029         0.011165   \n",
       "63     0.008505            20          0.704084         0.017177   \n",
       "82     0.010289            17          0.682208         0.030827   \n",
       "33     0.011743            26          0.680233         0.031288   \n",
       "\n",
       "    rank_test_recall  \n",
       "86                 1  \n",
       "47                 2  \n",
       "63                 3  \n",
       "82                 4  \n",
       "33                 5  "
      ]
     },
     "execution_count": 27,
     "metadata": {},
     "output_type": "execute_result"
    }
   ],
   "source": [
    "resul.loc[:, ~resul.columns.str.startswith('split')].sort_values(by='mean_test_recall', ascending=False).head(5)"
   ]
  },
  {
   "cell_type": "code",
   "execution_count": 28,
   "metadata": {},
   "outputs": [
    {
     "data": {
      "text/plain": [
       "{'subsample': 0.6,\n",
       " 'scale_pos_weight': 16.5,\n",
       " 'min_child_weight': 10,\n",
       " 'max_depth': 3,\n",
       " 'learning_rate': 0.001,\n",
       " 'gamma': 1,\n",
       " 'colsample_bytree': 0.8}"
      ]
     },
     "execution_count": 28,
     "metadata": {},
     "output_type": "execute_result"
    }
   ],
   "source": [
    "best_params = resul.sort_values(by='mean_test_recall', ascending=False).iloc[0].params\n",
    "best_params"
   ]
  },
  {
   "cell_type": "code",
   "execution_count": 29,
   "metadata": {},
   "outputs": [
    {
     "data": {
      "image/png": "[encoded data removed]",
      "text/plain": [
       "<Figure size 432x288 with 2 Axes>"
      ]
     },
     "metadata": {
      "needs_background": "light"
     },
     "output_type": "display_data"
    },
    {
     "name": "stdout",
     "output_type": "stream",
     "text": [
      "f1 : 0.2384\n",
      "recall : 0.7081\n",
      "negative predictive value : 0.9768\n",
      "precision : 0.1433\n",
      "roc_auc : 0.8056\n",
      "Wall time: 1min 4s\n"
     ]
    }
   ],
   "source": [
    "%%time\n",
    "m = Modelisation(X_quant_cat, y, XGBClassifier(**best_params, n_jobs=-1), scaling=False)\n",
    "m.show_conf_matrix()\n",
    "m.show_metrics_score()"
   ]
  },
  {
   "cell_type": "markdown",
   "metadata": {},
   "source": [
    "**Paramètres sauvegardés :**"
   ]
  },
  {
   "cell_type": "code",
   "execution_count": 30,
   "metadata": {},
   "outputs": [],
   "source": [
    "params = {'colsample_bytree': 1.0, \n",
    "          'gamma': 1,\n",
    "          'min_child_weight': 15,\n",
    "          'scale_pos_weight': 16.5, \n",
    "          'subsample': 0.8}"
   ]
  },
  {
   "cell_type": "code",
   "execution_count": 31,
   "metadata": {},
   "outputs": [
    {
     "data": {
      "image/png": "[encoded data removed]",
      "text/plain": [
       "<Figure size 432x288 with 2 Axes>"
      ]
     },
     "metadata": {
      "needs_background": "light"
     },
     "output_type": "display_data"
    },
    {
     "name": "stdout",
     "output_type": "stream",
     "text": [
      "f1 : 0.2648\n",
      "recall : 0.7448\n",
      "negative predictive value : 0.9802\n",
      "precision : 0.1610\n",
      "roc_auc : 0.8349\n",
      "Wall time: 1min 10s\n"
     ]
    }
   ],
   "source": [
    "%%time\n",
    "m = Modelisation(X_quant_cat, y, XGBClassifier(**params, n_jobs=-1), scaling=False)\n",
    "m.show_conf_matrix()\n",
    "m.show_metrics_score()"
   ]
  },
  {
   "cell_type": "code",
   "execution_count": 32,
   "metadata": {},
   "outputs": [
    {
     "name": "stdout",
     "output_type": "stream",
     "text": [
      "Temps d'exécution total : 00:13:11\n"
     ]
    }
   ],
   "source": [
    "print(f\"Temps d'exécution total : {time.strftime('%H:%M:%S', time.gmtime(time.time()-t))}\")"
   ]
  }
 ],
 "metadata": {
  "kernelspec": {
   "display_name": "Python 3",
   "language": "python",
   "name": "python3"
  },
  "language_info": {
   "codemirror_mode": {
    "name": "ipython",
    "version": 3
   },
   "file_extension": ".py",
   "mimetype": "text/x-python",
   "name": "python",
   "nbconvert_exporter": "python",
   "pygments_lexer": "ipython3",
   "version": "3.7.9"
  }
 },
 "nbformat": 4,
 "nbformat_minor": 4
}
