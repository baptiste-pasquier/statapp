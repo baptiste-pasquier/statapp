{
 "cells": [
  {
   "cell_type": "code",
   "execution_count": 1,
   "metadata": {},
   "outputs": [],
   "source": [
    "import os\n",
    "os.chdir(os.path.dirname(os.getcwd()))\n",
    "import time\n",
    "\n",
    "import matplotlib.pyplot as plt\n",
    "from matplotlib.ticker import AutoMinorLocator\n",
    "import seaborn as sns\n",
    "import numpy as np\n",
    "import pandas as pd\n",
    "from sklearn.model_selection import train_test_split\n",
    "from imblearn.over_sampling import SMOTENC \n",
    "from tools import COLUMNS_QUANT, COLUMNS_CAT, PDF\n",
    "# SMOTENC est une variante de SMOTE qui gère des datasets contenant à la fois des variables continues et catégorielles (ne s'applique pas à un dataset contenant uniquement des variables catégorielles).\n",
    "\n",
    "plt.rcParams['axes.axisbelow'] = True\n",
    "pdf = PDF('output/sampling/')\n",
    "\n",
    "t = time.time()"
   ]
  },
  {
   "cell_type": "code",
   "execution_count": 2,
   "metadata": {},
   "outputs": [
    {
     "data": {
      "text/plain": [
       "(1610494, 48)"
      ]
     },
     "execution_count": 2,
     "metadata": {},
     "output_type": "execute_result"
    }
   ],
   "source": [
    "df = pd.read_csv('data/df_train_prepro.csv').sample(frac=1)\n",
    "df.shape"
   ]
  },
  {
   "cell_type": "code",
   "execution_count": 3,
   "metadata": {},
   "outputs": [
    {
     "data": {
      "text/plain": [
       "(1610494, 22)"
      ]
     },
     "execution_count": 3,
     "metadata": {},
     "output_type": "execute_result"
    }
   ],
   "source": [
    "df = df[COLUMNS_QUANT + COLUMNS_CAT + ['is_display_clicked']]\n",
    "df.shape"
   ]
  },
  {
   "cell_type": "code",
   "execution_count": 4,
   "metadata": {},
   "outputs": [
    {
     "data": {
      "text/plain": [
       "contextid                                  0\n",
       "campaignctrlast24h                         0\n",
       "dayssincelastvisitdouble                   0\n",
       "ltf_nbglobaldisplay_4w                     0\n",
       "ltf_nbpartnerdisplayssincelastclick        0\n",
       "ltf_nbpartnerdisplay_90d                   0\n",
       "ltf_nbpartnerclick_90d                     0\n",
       "ltf_nbpartnersales_90d                     0\n",
       "nbdayssincelastclick                       0\n",
       "nbdisplay_1hour                            0\n",
       "nbdisplayglobalapprox_1d_sum_xdevice       0\n",
       "display_size                               0\n",
       "zonecostineuro                             0\n",
       "display_env                                0\n",
       "target_env                                 0\n",
       "campaignscenario                           0\n",
       "campaignvertical                          29\n",
       "is_interstitial                         6911\n",
       "device_type                                0\n",
       "hour                                       0\n",
       "weekday                                    0\n",
       "is_display_clicked                         0\n",
       "dtype: int64"
      ]
     },
     "execution_count": 4,
     "metadata": {},
     "output_type": "execute_result"
    }
   ],
   "source": [
    "df.isna().sum() # On regarde si certaines observations présentent des valeurs manquantes car la méthode SMOTE ne permet pas de les traiter."
   ]
  },
  {
   "cell_type": "code",
   "execution_count": 5,
   "metadata": {},
   "outputs": [
    {
     "data": {
      "text/plain": [
       "(1603554, 22)"
      ]
     },
     "execution_count": 5,
     "metadata": {},
     "output_type": "execute_result"
    }
   ],
   "source": [
    "df = df.dropna() # On supprime les observations présentant des valeurs manquantes.\n",
    "df.shape"
   ]
  },
  {
   "cell_type": "code",
   "execution_count": 6,
   "metadata": {},
   "outputs": [
    {
     "name": "stdout",
     "output_type": "stream",
     "text": [
      "Export PDF : output/sampling/00.pdf\n",
      "\n"
     ]
    },
    {
     "data": {
      "image/png": "[encoded data removed]",
      "text/plain": [
       "<Figure size 432x288 with 1 Axes>"
      ]
     },
     "metadata": {
      "needs_background": "light"
     },
     "output_type": "display_data"
    }
   ],
   "source": [
    "objects = ('Clic', 'Non-clic')\n",
    "labels = np.arange(len(objects))\n",
    "ratio = [(len(df[df['is_display_clicked']==1])/len(df))*100, (len(df[df['is_display_clicked']==0])/len(df))*100]\n",
    "\n",
    "fig, ax = plt.subplots()\n",
    "plt.bar(labels, ratio, align='center')\n",
    "plt.xticks(labels, objects)\n",
    "plt.ylabel('Pourcentage')\n",
    "ax.yaxis.set_minor_locator(AutoMinorLocator())\n",
    "ax.grid(which='major')\n",
    "ax.grid(b=True, which='minor', axis='y', linestyle='--', alpha=0.3)\n",
    "pdf.export()\n",
    "plt.title('Répartition des clics et non-clics dans la base de données')\n",
    "plt.show()"
   ]
  },
  {
   "cell_type": "markdown",
   "metadata": {},
   "source": [
    "Nous faisons face ici à un jeu de données extrêmement déséquilibré, au sein duquel la classe minoritaire (modalité 1 de la variable cible, associée au clic) représente à peine 6% des observations de la base. Les modèles précédemment appliqués à notre base, pour lesquels nous n'avons pas tenu compte de cette contrainte de déséquilibre des données, présentent une faible performance pour les métriques pertinentes d'un point de vue métier, à savoir ici le recall et le F1 Score. Le ré-échantillonnage est l’une des méthodes les plus régulièrement utilisées pour résoudre ce problème.\n",
    "\n",
    "Dans le cadre de notre étude, nous allons sur-échantillonner les observations associées à la classe la moins prépondérante, ici les clics. Pour cela nous nous appuierons sur la méthode SMOTE (plus exactement SMOTENC afin de traiter les données catégorielles) ; SMOTE signifiant Synthetic Minority Over-Sampling Technique. Cette technique consiste à sélectionner une observation de la classe minoritaire et un nombre fixé de ses plus proches voisins. En fonction du ratio de clics désirés, la distance euclidienne entre les features de l'observation sélectionnée et un certain nombre de ses voisins sera calculée, puis multipliée par un nombre entre 0 et 1. Le résultat est ensuite ajouté à l'observation choisie et on obtient alors une nouvelle observation. Le processus est répété pour toutes les observations de la classe minoritaire. Cette méthode est ainsi plus sophistiquée qu'une simple répétition aléatoire d'observations. "
   ]
  },
  {
   "cell_type": "code",
   "execution_count": 7,
   "metadata": {},
   "outputs": [],
   "source": [
    "X = df[COLUMNS_QUANT + COLUMNS_CAT]\n",
    "y = df['is_display_clicked']"
   ]
  },
  {
   "cell_type": "code",
   "execution_count": 8,
   "metadata": {},
   "outputs": [],
   "source": [
    "X_train, X_test, y_train, y_test = train_test_split(X, y, train_size=0.80, random_state=1234)"
   ]
  },
  {
   "cell_type": "code",
   "execution_count": 9,
   "metadata": {},
   "outputs": [],
   "source": [
    "seed = 42 # Graîne aléatoire pour la reproductibilité des résultats\n",
    "sm = SMOTENC(categorical_features=[13,14,15,16,17,18,19,20], sampling_strategy=1, k_neighbors=5, random_state=seed, n_jobs=-1)\n",
    "# categorical_features : indices des variables catégorielles\n",
    "# sampling_strategy : ratio désiré du nombre d'observations de la classe minoritaire sur le nombre d'observations de la classe majoritaire après rééchantillonnage. Ici, 1 signifie donc que l'on souhaite autant d'observations provenant des deux classes.\n",
    "# k_neighbors : nombre de plus proches voisins utilisés pour construire les observations synthétiques. \n",
    "X_train_res, y_train_res = sm.fit_resample(X_train, y_train)"
   ]
  },
  {
   "cell_type": "code",
   "execution_count": 10,
   "metadata": {},
   "outputs": [],
   "source": [
    "df_train_res = pd.concat([pd.DataFrame(X_train_res), pd.DataFrame(y_train_res)], axis=1)\n",
    "df_train_res.columns = ['contextid',\n",
    " 'campaignctrlast24h',\n",
    " 'dayssincelastvisitdouble',\n",
    " 'ltf_nbglobaldisplay_4w',\n",
    " 'ltf_nbpartnerdisplayssincelastclick',\n",
    " 'ltf_nbpartnerdisplay_90d',\n",
    " 'ltf_nbpartnerclick_90d',\n",
    " 'ltf_nbpartnersales_90d',\n",
    " 'nbdayssincelastclick',\n",
    " 'nbdisplay_1hour',\n",
    " 'nbdisplayglobalapprox_1d_sum_xdevice',\n",
    " 'display_size',\n",
    " 'zonecostineuro', 'display_env',\n",
    " 'target_env',\n",
    " 'campaignscenario',\n",
    " 'campaignvertical',\n",
    " 'is_interstitial',\n",
    " 'device_type',\n",
    " 'hour',\n",
    " 'weekday', 'is_display_clicked']"
   ]
  },
  {
   "cell_type": "code",
   "execution_count": 11,
   "metadata": {},
   "outputs": [
    {
     "name": "stdout",
     "output_type": "stream",
     "text": [
      "Export PDF : output/sampling/01.pdf\n",
      "\n"
     ]
    },
    {
     "data": {
      "image/png": "[encoded data removed]",
      "text/plain": [
       "<Figure size 432x288 with 1 Axes>"
      ]
     },
     "metadata": {
      "needs_background": "light"
     },
     "output_type": "display_data"
    }
   ],
   "source": [
    "objects = ('Clic', 'Non-clic')\n",
    "labels = np.arange(len(objects))\n",
    "ratio = [(len(df_train_res[df_train_res['is_display_clicked']==1])/len(df_train_res))*100, (len(df_train_res[df_train_res['is_display_clicked']==0])/len(df_train_res))*100]\n",
    "\n",
    "fig, ax = plt.subplots()\n",
    "plt.bar(labels, ratio, align='center')\n",
    "plt.xticks(labels, objects)\n",
    "plt.ylabel('Pourcentage')\n",
    "ax.yaxis.set_minor_locator(AutoMinorLocator())\n",
    "ax.grid(which='major')\n",
    "ax.grid(b=True, which='minor', axis='y', linestyle='--', alpha=0.3)\n",
    "pdf.export()\n",
    "plt.title('Répartition des clics et non-clics dans la base de données sur-échantillonnée')\n",
    "plt.show()\n",
    "\n",
    "# On vérifie que l'on a bien 50% d'observations de chaque classe."
   ]
  },
  {
   "cell_type": "code",
   "execution_count": 12,
   "metadata": {},
   "outputs": [
    {
     "name": "stdout",
     "output_type": "stream",
     "text": [
      "Temps d'exécution total : 00:06:35\n"
     ]
    }
   ],
   "source": [
    "print(f\"Temps d'exécution total : {time.strftime('%H:%M:%S', time.gmtime(time.time()-t))}\")"
   ]
  }
 ],
 "metadata": {
  "kernelspec": {
   "display_name": "Python 3",
   "language": "python",
   "name": "python3"
  },
  "language_info": {
   "codemirror_mode": {
    "name": "ipython",
    "version": 3
   },
   "file_extension": ".py",
   "mimetype": "text/x-python",
   "name": "python",
   "nbconvert_exporter": "python",
   "pygments_lexer": "ipython3",
   "version": "3.7.10"
  }
 },
 "nbformat": 4,
 "nbformat_minor": 4
}
