{
 "cells": [
  {
   "cell_type": "code",
   "execution_count": 1,
   "metadata": {},
   "outputs": [],
   "source": [
    "import pandas as pd\n",
    "import numpy as np\n",
    "import seaborn as sns\n",
    "import matplotlib.pyplot as plt\n",
    "import sklearn\n",
    "from sklearn.preprocessing import StandardScaler\n",
    "from sklearn.decomposition import PCA\n",
    "import time\n",
    "\n",
    "\n",
    "## VS Code, choisir un seul des 3 :\n",
    "\n",
    "# Pour affichage interactif (notamment 3D) dans notebook\n",
    "%matplotlib widget\n",
    "\n",
    "# Pour affichage interactif (notamment 3D) hors du notebook\n",
    "# %matplotlib qt\n",
    "\n",
    "# Pour affichage simple dans notebook\n",
    "# %config InlineBackend.figure_format = 'png'"
   ]
  },
  {
   "cell_type": "code",
   "execution_count": 2,
   "metadata": {},
   "outputs": [
    {
     "output_type": "execute_result",
     "data": {
      "text/plain": [
       "   Unnamed: 0         day                                  hashed_partner_id  \\\n",
       "0           0  2020-10-19  b'=\\xa6\\xeef\\x99\\xda\\x1e\\xb5-5\\x8a\\xa5\\x9b\\x8e...   \n",
       "1           1  2020-10-19  b'=\\xa6\\xeef\\x99\\xda\\x1e\\xb5-5\\x8a\\xa5\\x9b\\x8e...   \n",
       "2           2  2020-10-19  b'\\xa1l\\n\\xb2`\\xe3\\x0b\"\\xcd\\x06\\xfa\\xdf\\x9aj0\\...   \n",
       "3           3  2020-10-19  b'=\\xa6\\xeef\\x99\\xda\\x1e\\xb5-5\\x8a\\xa5\\x9b\\x8e...   \n",
       "4           4  2020-10-19  b'\\x0f\\xbc\\x909\\x14[dI\\xa7v]\\xcc\\x00\\xd3\\xbd\\x...   \n",
       "\n",
       "                                  hashed_campaign_id  contextid display_env  \\\n",
       "0  b\"f|g\\xd5T\\xc8\\xe2\\x90\\xc6\\xc8\\xfeL\\x0c\\x15\\xe...          6         web   \n",
       "1  b'7\\xa0%5\\x98\\x02\\x00\\xe5\\xa2\\xfb\\xd6\\xa9^\\xb7...          0         web   \n",
       "2  b'\\xbe\\xa0?\\xc2</,\\xa4&w\\x86\\xe9\\x150Y\\xd4\\xdf...          6         web   \n",
       "3  b'7\\xa0%5\\x98\\x02\\x00\\xe5\\xa2\\xfb\\xd6\\xa9^\\xb7...          6         web   \n",
       "4  b'\\xa0\\t^\\xa5Z\\x06[-\\x86\\x13\\xd8\\x08\\x98\\x8de\\...          8     app_ios   \n",
       "\n",
       "   target_env  rtbtypeid  rtbadvisibility  rtb_detectedlanguage  ...  \\\n",
       "0           1       74.0              0.0                 127.0  ...   \n",
       "1           1       74.0              0.0                 127.0  ...   \n",
       "2           1        4.0              2.0                  10.0  ...   \n",
       "3           1       73.0              1.0                 127.0  ...   \n",
       "4           2       74.0              0.0                 127.0  ...   \n",
       "\n",
       "   nbdisplayglobalapprox_1d_sum_xdevice  \\\n",
       "0                             23.000000   \n",
       "1                             98.252222   \n",
       "2                             11.000000   \n",
       "3                             57.000000   \n",
       "4                              2.000000   \n",
       "\n",
       "                                          hashed_uid  \\\n",
       "0  b'\\x99w[\\xb8\\xe1\\x9e\\xbaz\\x01\\x06\\x9c\\xdc\\x03\\...   \n",
       "1  b'>\\x1a\\x00W\\xb0\\x81\\x06\\x00\\x90\\xc8\\x8aL\\xb4\\...   \n",
       "2  b'o\\xa5~{\\xf5\\xd0C\\xac_\\xa9\\x10\\x95\\x04L\\x8a\\x...   \n",
       "3  b'\\xf2\\x93e\\xae\\xadBh\\x9f<<\\x9e\\xf0\\x91q\\xba\\x...   \n",
       "4  b'\\xe6\\xa9\\xb2:\\xc5\\x04\\xfd\\x89/Lg\\xc1\\x0e\\xa4...   \n",
       "\n",
       "                                        hashed_xd_id valueperclick  \\\n",
       "0  b'\\xdb\\xfc\\xdfBY`$\\x97\\xf9\\xaaGn\\x98\\xe0{RQ\\x9...      0.529218   \n",
       "1  b'\\xe9\\xcd\\x80\\xb5\\x96\\xcf8\\x8eo(p-\\x0f\\xf4\\xf...      0.269752   \n",
       "2  b'o\\xa5~{\\xf5\\xd0C\\xac_\\xa9\\x10\\x95\\x04L\\x8a\\x...      0.095993   \n",
       "3  b'\\x83u\\xce\\x10n\\x9f\\x10hP\\x0cI\\xdb \\xed\\xa8,E...      0.269752   \n",
       "4  b'\\xe6\\xa9\\xb2:\\xc5\\x04\\xfd\\x89/Lg\\xc1\\x0e\\xa4...      0.136416   \n",
       "\n",
       "  device_type display_width  display_height  display_timestamp  \\\n",
       "0     Android             0               0         1603150590   \n",
       "1     Desktop             0               0         1603150640   \n",
       "2     Android           640             150         1603150780   \n",
       "3      iPhone             2               2         1603150840   \n",
       "4      iPhone             0               0         1603149970   \n",
       "\n",
       "   is_display_clicked  zonecostineuro  \n",
       "0                   0        0.366238  \n",
       "1                   0        0.025551  \n",
       "2                   0        0.289000  \n",
       "3                   0        0.243945  \n",
       "4                   0        0.647304  \n",
       "\n",
       "[5 rows x 48 columns]"
      ],
      "text/html": "<div>\n<style scoped>\n    .dataframe tbody tr th:only-of-type {\n        vertical-align: middle;\n    }\n\n    .dataframe tbody tr th {\n        vertical-align: top;\n    }\n\n    .dataframe thead th {\n        text-align: right;\n    }\n</style>\n<table border=\"1\" class=\"dataframe\">\n  <thead>\n    <tr style=\"text-align: right;\">\n      <th></th>\n      <th>Unnamed: 0</th>\n      <th>day</th>\n      <th>hashed_partner_id</th>\n      <th>hashed_campaign_id</th>\n      <th>contextid</th>\n      <th>display_env</th>\n      <th>target_env</th>\n      <th>rtbtypeid</th>\n      <th>rtbadvisibility</th>\n      <th>rtb_detectedlanguage</th>\n      <th>...</th>\n      <th>nbdisplayglobalapprox_1d_sum_xdevice</th>\n      <th>hashed_uid</th>\n      <th>hashed_xd_id</th>\n      <th>valueperclick</th>\n      <th>device_type</th>\n      <th>display_width</th>\n      <th>display_height</th>\n      <th>display_timestamp</th>\n      <th>is_display_clicked</th>\n      <th>zonecostineuro</th>\n    </tr>\n  </thead>\n  <tbody>\n    <tr>\n      <th>0</th>\n      <td>0</td>\n      <td>2020-10-19</td>\n      <td>b'=\\xa6\\xeef\\x99\\xda\\x1e\\xb5-5\\x8a\\xa5\\x9b\\x8e...</td>\n      <td>b\"f|g\\xd5T\\xc8\\xe2\\x90\\xc6\\xc8\\xfeL\\x0c\\x15\\xe...</td>\n      <td>6</td>\n      <td>web</td>\n      <td>1</td>\n      <td>74.0</td>\n      <td>0.0</td>\n      <td>127.0</td>\n      <td>...</td>\n      <td>23.000000</td>\n      <td>b'\\x99w[\\xb8\\xe1\\x9e\\xbaz\\x01\\x06\\x9c\\xdc\\x03\\...</td>\n      <td>b'\\xdb\\xfc\\xdfBY`$\\x97\\xf9\\xaaGn\\x98\\xe0{RQ\\x9...</td>\n      <td>0.529218</td>\n      <td>Android</td>\n      <td>0</td>\n      <td>0</td>\n      <td>1603150590</td>\n      <td>0</td>\n      <td>0.366238</td>\n    </tr>\n    <tr>\n      <th>1</th>\n      <td>1</td>\n      <td>2020-10-19</td>\n      <td>b'=\\xa6\\xeef\\x99\\xda\\x1e\\xb5-5\\x8a\\xa5\\x9b\\x8e...</td>\n      <td>b'7\\xa0%5\\x98\\x02\\x00\\xe5\\xa2\\xfb\\xd6\\xa9^\\xb7...</td>\n      <td>0</td>\n      <td>web</td>\n      <td>1</td>\n      <td>74.0</td>\n      <td>0.0</td>\n      <td>127.0</td>\n      <td>...</td>\n      <td>98.252222</td>\n      <td>b'&gt;\\x1a\\x00W\\xb0\\x81\\x06\\x00\\x90\\xc8\\x8aL\\xb4\\...</td>\n      <td>b'\\xe9\\xcd\\x80\\xb5\\x96\\xcf8\\x8eo(p-\\x0f\\xf4\\xf...</td>\n      <td>0.269752</td>\n      <td>Desktop</td>\n      <td>0</td>\n      <td>0</td>\n      <td>1603150640</td>\n      <td>0</td>\n      <td>0.025551</td>\n    </tr>\n    <tr>\n      <th>2</th>\n      <td>2</td>\n      <td>2020-10-19</td>\n      <td>b'\\xa1l\\n\\xb2`\\xe3\\x0b\"\\xcd\\x06\\xfa\\xdf\\x9aj0\\...</td>\n      <td>b'\\xbe\\xa0?\\xc2&lt;/,\\xa4&amp;w\\x86\\xe9\\x150Y\\xd4\\xdf...</td>\n      <td>6</td>\n      <td>web</td>\n      <td>1</td>\n      <td>4.0</td>\n      <td>2.0</td>\n      <td>10.0</td>\n      <td>...</td>\n      <td>11.000000</td>\n      <td>b'o\\xa5~{\\xf5\\xd0C\\xac_\\xa9\\x10\\x95\\x04L\\x8a\\x...</td>\n      <td>b'o\\xa5~{\\xf5\\xd0C\\xac_\\xa9\\x10\\x95\\x04L\\x8a\\x...</td>\n      <td>0.095993</td>\n      <td>Android</td>\n      <td>640</td>\n      <td>150</td>\n      <td>1603150780</td>\n      <td>0</td>\n      <td>0.289000</td>\n    </tr>\n    <tr>\n      <th>3</th>\n      <td>3</td>\n      <td>2020-10-19</td>\n      <td>b'=\\xa6\\xeef\\x99\\xda\\x1e\\xb5-5\\x8a\\xa5\\x9b\\x8e...</td>\n      <td>b'7\\xa0%5\\x98\\x02\\x00\\xe5\\xa2\\xfb\\xd6\\xa9^\\xb7...</td>\n      <td>6</td>\n      <td>web</td>\n      <td>1</td>\n      <td>73.0</td>\n      <td>1.0</td>\n      <td>127.0</td>\n      <td>...</td>\n      <td>57.000000</td>\n      <td>b'\\xf2\\x93e\\xae\\xadBh\\x9f&lt;&lt;\\x9e\\xf0\\x91q\\xba\\x...</td>\n      <td>b'\\x83u\\xce\\x10n\\x9f\\x10hP\\x0cI\\xdb \\xed\\xa8,E...</td>\n      <td>0.269752</td>\n      <td>iPhone</td>\n      <td>2</td>\n      <td>2</td>\n      <td>1603150840</td>\n      <td>0</td>\n      <td>0.243945</td>\n    </tr>\n    <tr>\n      <th>4</th>\n      <td>4</td>\n      <td>2020-10-19</td>\n      <td>b'\\x0f\\xbc\\x909\\x14[dI\\xa7v]\\xcc\\x00\\xd3\\xbd\\x...</td>\n      <td>b'\\xa0\\t^\\xa5Z\\x06[-\\x86\\x13\\xd8\\x08\\x98\\x8de\\...</td>\n      <td>8</td>\n      <td>app_ios</td>\n      <td>2</td>\n      <td>74.0</td>\n      <td>0.0</td>\n      <td>127.0</td>\n      <td>...</td>\n      <td>2.000000</td>\n      <td>b'\\xe6\\xa9\\xb2:\\xc5\\x04\\xfd\\x89/Lg\\xc1\\x0e\\xa4...</td>\n      <td>b'\\xe6\\xa9\\xb2:\\xc5\\x04\\xfd\\x89/Lg\\xc1\\x0e\\xa4...</td>\n      <td>0.136416</td>\n      <td>iPhone</td>\n      <td>0</td>\n      <td>0</td>\n      <td>1603149970</td>\n      <td>0</td>\n      <td>0.647304</td>\n    </tr>\n  </tbody>\n</table>\n<p>5 rows × 48 columns</p>\n</div>"
     },
     "metadata": {},
     "execution_count": 2
    }
   ],
   "source": [
    "df = pd.read_csv('data/df_train.csv')\n",
    "df.head()"
   ]
  },
  {
   "cell_type": "code",
   "execution_count": 3,
   "metadata": {},
   "outputs": [],
   "source": [
    "# Shuffling\n",
    "df = df.sample(frac=1).reset_index(drop=True)"
   ]
  },
  {
   "cell_type": "code",
   "execution_count": 4,
   "metadata": {},
   "outputs": [
    {
     "output_type": "execute_result",
     "data": {
      "text/plain": [
       "                                                Valeurs manquantes  \\\n",
       "Unnamed: 0                                                       0   \n",
       "day                                                              0   \n",
       "hashed_partner_id                                                0   \n",
       "hashed_campaign_id                                               0   \n",
       "contextid                                                        0   \n",
       "display_env                                                      0   \n",
       "target_env                                                       0   \n",
       "rtbtypeid                                                     9066   \n",
       "rtbadvisibility                                               9066   \n",
       "rtb_detectedlanguage                                          9066   \n",
       "urlhash2                                                    155695   \n",
       "urlhash3                                                    155695   \n",
       "urlhash4                                                    155695   \n",
       "user_country                                                   366   \n",
       "hashed_affiliateid                                               0   \n",
       "hashed_app_id                                               736418   \n",
       "googleviewability                                          1278860   \n",
       "googlepagevertical                                            9066   \n",
       "campaignscenario                                                 0   \n",
       "campaignvertical                                                35   \n",
       "campaignctrlast24h                                           51935   \n",
       "is_interstitial                                               9066   \n",
       "dayssincelastvisitdouble                                         0   \n",
       "ltf_lastpartnerclicktimestamp                              1839541   \n",
       "ltf_nbglobalclick_4w                                       1834287   \n",
       "ltf_nbglobaldisplay_4w                                     1819083   \n",
       "ltf_nbglobaldisplaysincelastpartnerproductview             1833925   \n",
       "ltf_nbpartnerdisplayssincelastclick                        1840090   \n",
       "ltf_nbpartnerclick_4w                                      1843949   \n",
       "ltf_nbpartnerdisplay_4w                                    1824162   \n",
       "ltf_nbpartnersales_4w                                      1850150   \n",
       "ltf_nbpartnerdisplay_90d                                   1823647   \n",
       "ltf_nbpartnerclick_90d                                     1839541   \n",
       "ltf_nbpartnersales_90d                                     1846854   \n",
       "nbdayssincelastclick                                             0   \n",
       "nbdisplay_1hour                                             182901   \n",
       "nbdisplaypartnerapprox_1d_sum_xdevice                       225377   \n",
       "nbdisplayaffiliateapprox_1d_sum_xdevice                     363921   \n",
       "nbdisplayglobalapprox_1d_sum_xdevice                          1048   \n",
       "hashed_uid                                                       0   \n",
       "hashed_xd_id                                                     0   \n",
       "valueperclick                                                    0   \n",
       "device_type                                                      0   \n",
       "display_width                                                    0   \n",
       "display_height                                                   0   \n",
       "display_timestamp                                                0   \n",
       "is_display_clicked                                               0   \n",
       "zonecostineuro                                                   0   \n",
       "\n",
       "                                                Proportion manquante  \n",
       "Unnamed: 0                                                  0.000000  \n",
       "day                                                         0.000000  \n",
       "hashed_partner_id                                           0.000000  \n",
       "hashed_campaign_id                                          0.000000  \n",
       "contextid                                                   0.000000  \n",
       "display_env                                                 0.000000  \n",
       "target_env                                                  0.000000  \n",
       "rtbtypeid                                                   0.004887  \n",
       "rtbadvisibility                                             0.004887  \n",
       "rtb_detectedlanguage                                        0.004887  \n",
       "urlhash2                                                    0.083918  \n",
       "urlhash3                                                    0.083918  \n",
       "urlhash4                                                    0.083918  \n",
       "user_country                                                0.000197  \n",
       "hashed_affiliateid                                          0.000000  \n",
       "hashed_app_id                                               0.396924  \n",
       "googleviewability                                           0.689296  \n",
       "googlepagevertical                                          0.004887  \n",
       "campaignscenario                                            0.000000  \n",
       "campaignvertical                                            0.000019  \n",
       "campaignctrlast24h                                          0.027993  \n",
       "is_interstitial                                             0.004887  \n",
       "dayssincelastvisitdouble                                    0.000000  \n",
       "ltf_lastpartnerclicktimestamp                               0.991498  \n",
       "ltf_nbglobalclick_4w                                        0.988667  \n",
       "ltf_nbglobaldisplay_4w                                      0.980472  \n",
       "ltf_nbglobaldisplaysincelastpartnerproductview              0.988471  \n",
       "ltf_nbpartnerdisplayssincelastclick                         0.991794  \n",
       "ltf_nbpartnerclick_4w                                       0.993874  \n",
       "ltf_nbpartnerdisplay_4w                                     0.983209  \n",
       "ltf_nbpartnersales_4w                                       0.997217  \n",
       "ltf_nbpartnerdisplay_90d                                    0.982932  \n",
       "ltf_nbpartnerclick_90d                                      0.991498  \n",
       "ltf_nbpartnersales_90d                                      0.995440  \n",
       "nbdayssincelastclick                                        0.000000  \n",
       "nbdisplay_1hour                                             0.098582  \n",
       "nbdisplaypartnerapprox_1d_sum_xdevice                       0.121476  \n",
       "nbdisplayaffiliateapprox_1d_sum_xdevice                     0.196151  \n",
       "nbdisplayglobalapprox_1d_sum_xdevice                        0.000565  \n",
       "hashed_uid                                                  0.000000  \n",
       "hashed_xd_id                                                0.000000  \n",
       "valueperclick                                               0.000000  \n",
       "device_type                                                 0.000000  \n",
       "display_width                                               0.000000  \n",
       "display_height                                              0.000000  \n",
       "display_timestamp                                           0.000000  \n",
       "is_display_clicked                                          0.000000  \n",
       "zonecostineuro                                              0.000000  "
      ],
      "text/html": "<div>\n<style scoped>\n    .dataframe tbody tr th:only-of-type {\n        vertical-align: middle;\n    }\n\n    .dataframe tbody tr th {\n        vertical-align: top;\n    }\n\n    .dataframe thead th {\n        text-align: right;\n    }\n</style>\n<table border=\"1\" class=\"dataframe\">\n  <thead>\n    <tr style=\"text-align: right;\">\n      <th></th>\n      <th>Valeurs manquantes</th>\n      <th>Proportion manquante</th>\n    </tr>\n  </thead>\n  <tbody>\n    <tr>\n      <th>Unnamed: 0</th>\n      <td>0</td>\n      <td>0.000000</td>\n    </tr>\n    <tr>\n      <th>day</th>\n      <td>0</td>\n      <td>0.000000</td>\n    </tr>\n    <tr>\n      <th>hashed_partner_id</th>\n      <td>0</td>\n      <td>0.000000</td>\n    </tr>\n    <tr>\n      <th>hashed_campaign_id</th>\n      <td>0</td>\n      <td>0.000000</td>\n    </tr>\n    <tr>\n      <th>contextid</th>\n      <td>0</td>\n      <td>0.000000</td>\n    </tr>\n    <tr>\n      <th>display_env</th>\n      <td>0</td>\n      <td>0.000000</td>\n    </tr>\n    <tr>\n      <th>target_env</th>\n      <td>0</td>\n      <td>0.000000</td>\n    </tr>\n    <tr>\n      <th>rtbtypeid</th>\n      <td>9066</td>\n      <td>0.004887</td>\n    </tr>\n    <tr>\n      <th>rtbadvisibility</th>\n      <td>9066</td>\n      <td>0.004887</td>\n    </tr>\n    <tr>\n      <th>rtb_detectedlanguage</th>\n      <td>9066</td>\n      <td>0.004887</td>\n    </tr>\n    <tr>\n      <th>urlhash2</th>\n      <td>155695</td>\n      <td>0.083918</td>\n    </tr>\n    <tr>\n      <th>urlhash3</th>\n      <td>155695</td>\n      <td>0.083918</td>\n    </tr>\n    <tr>\n      <th>urlhash4</th>\n      <td>155695</td>\n      <td>0.083918</td>\n    </tr>\n    <tr>\n      <th>user_country</th>\n      <td>366</td>\n      <td>0.000197</td>\n    </tr>\n    <tr>\n      <th>hashed_affiliateid</th>\n      <td>0</td>\n      <td>0.000000</td>\n    </tr>\n    <tr>\n      <th>hashed_app_id</th>\n      <td>736418</td>\n      <td>0.396924</td>\n    </tr>\n    <tr>\n      <th>googleviewability</th>\n      <td>1278860</td>\n      <td>0.689296</td>\n    </tr>\n    <tr>\n      <th>googlepagevertical</th>\n      <td>9066</td>\n      <td>0.004887</td>\n    </tr>\n    <tr>\n      <th>campaignscenario</th>\n      <td>0</td>\n      <td>0.000000</td>\n    </tr>\n    <tr>\n      <th>campaignvertical</th>\n      <td>35</td>\n      <td>0.000019</td>\n    </tr>\n    <tr>\n      <th>campaignctrlast24h</th>\n      <td>51935</td>\n      <td>0.027993</td>\n    </tr>\n    <tr>\n      <th>is_interstitial</th>\n      <td>9066</td>\n      <td>0.004887</td>\n    </tr>\n    <tr>\n      <th>dayssincelastvisitdouble</th>\n      <td>0</td>\n      <td>0.000000</td>\n    </tr>\n    <tr>\n      <th>ltf_lastpartnerclicktimestamp</th>\n      <td>1839541</td>\n      <td>0.991498</td>\n    </tr>\n    <tr>\n      <th>ltf_nbglobalclick_4w</th>\n      <td>1834287</td>\n      <td>0.988667</td>\n    </tr>\n    <tr>\n      <th>ltf_nbglobaldisplay_4w</th>\n      <td>1819083</td>\n      <td>0.980472</td>\n    </tr>\n    <tr>\n      <th>ltf_nbglobaldisplaysincelastpartnerproductview</th>\n      <td>1833925</td>\n      <td>0.988471</td>\n    </tr>\n    <tr>\n      <th>ltf_nbpartnerdisplayssincelastclick</th>\n      <td>1840090</td>\n      <td>0.991794</td>\n    </tr>\n    <tr>\n      <th>ltf_nbpartnerclick_4w</th>\n      <td>1843949</td>\n      <td>0.993874</td>\n    </tr>\n    <tr>\n      <th>ltf_nbpartnerdisplay_4w</th>\n      <td>1824162</td>\n      <td>0.983209</td>\n    </tr>\n    <tr>\n      <th>ltf_nbpartnersales_4w</th>\n      <td>1850150</td>\n      <td>0.997217</td>\n    </tr>\n    <tr>\n      <th>ltf_nbpartnerdisplay_90d</th>\n      <td>1823647</td>\n      <td>0.982932</td>\n    </tr>\n    <tr>\n      <th>ltf_nbpartnerclick_90d</th>\n      <td>1839541</td>\n      <td>0.991498</td>\n    </tr>\n    <tr>\n      <th>ltf_nbpartnersales_90d</th>\n      <td>1846854</td>\n      <td>0.995440</td>\n    </tr>\n    <tr>\n      <th>nbdayssincelastclick</th>\n      <td>0</td>\n      <td>0.000000</td>\n    </tr>\n    <tr>\n      <th>nbdisplay_1hour</th>\n      <td>182901</td>\n      <td>0.098582</td>\n    </tr>\n    <tr>\n      <th>nbdisplaypartnerapprox_1d_sum_xdevice</th>\n      <td>225377</td>\n      <td>0.121476</td>\n    </tr>\n    <tr>\n      <th>nbdisplayaffiliateapprox_1d_sum_xdevice</th>\n      <td>363921</td>\n      <td>0.196151</td>\n    </tr>\n    <tr>\n      <th>nbdisplayglobalapprox_1d_sum_xdevice</th>\n      <td>1048</td>\n      <td>0.000565</td>\n    </tr>\n    <tr>\n      <th>hashed_uid</th>\n      <td>0</td>\n      <td>0.000000</td>\n    </tr>\n    <tr>\n      <th>hashed_xd_id</th>\n      <td>0</td>\n      <td>0.000000</td>\n    </tr>\n    <tr>\n      <th>valueperclick</th>\n      <td>0</td>\n      <td>0.000000</td>\n    </tr>\n    <tr>\n      <th>device_type</th>\n      <td>0</td>\n      <td>0.000000</td>\n    </tr>\n    <tr>\n      <th>display_width</th>\n      <td>0</td>\n      <td>0.000000</td>\n    </tr>\n    <tr>\n      <th>display_height</th>\n      <td>0</td>\n      <td>0.000000</td>\n    </tr>\n    <tr>\n      <th>display_timestamp</th>\n      <td>0</td>\n      <td>0.000000</td>\n    </tr>\n    <tr>\n      <th>is_display_clicked</th>\n      <td>0</td>\n      <td>0.000000</td>\n    </tr>\n    <tr>\n      <th>zonecostineuro</th>\n      <td>0</td>\n      <td>0.000000</td>\n    </tr>\n  </tbody>\n</table>\n</div>"
     },
     "metadata": {},
     "execution_count": 4
    }
   ],
   "source": [
    "pd.DataFrame({\"Valeurs manquantes\":df.isnull().sum(), \"Proportion manquante\":df.isnull().sum()/len(df)})"
   ]
  },
  {
   "cell_type": "code",
   "execution_count": 5,
   "metadata": {},
   "outputs": [],
   "source": [
    "df['display_size'] = df['display_width']*df['display_height']"
   ]
  },
  {
   "cell_type": "code",
   "execution_count": 6,
   "metadata": {},
   "outputs": [],
   "source": [
    "df_acp = df[['campaignctrlast24h','dayssincelastvisitdouble','nbdayssincelastclick','nbdisplay_1hour','nbdisplayglobalapprox_1d_sum_xdevice','valueperclick','display_size','zonecostineuro']]\n",
    "df_acp = df_acp.dropna()"
   ]
  },
  {
   "cell_type": "code",
   "execution_count": 7,
   "metadata": {},
   "outputs": [
    {
     "output_type": "execute_result",
     "data": {
      "text/plain": [
       "array([[ 0.18237653,  0.00913287,  0.90434466, ..., -0.90303344,\n",
       "        -0.8866836 , -0.15021953],\n",
       "       [ 0.29490967,  1.62210076,  2.07014992, ..., -1.19187609,\n",
       "         0.10468003, -0.36868204],\n",
       "       [ 3.17973074, -0.43933452,  2.04683381, ..., -1.18004001,\n",
       "         2.16953618, -0.35658097],\n",
       "       ...,\n",
       "       [-1.00884851, -0.12752143, -0.42467332, ...,  1.38803476,\n",
       "        -0.8866836 , -0.34872851],\n",
       "       [ 0.34604753,  0.58469591, -0.3080928 , ..., -1.19187609,\n",
       "        -0.8866836 , -0.36903158],\n",
       "       [ 0.71967723, -0.41670976, -0.40135722, ..., -0.68758557,\n",
       "         1.01005803, -0.07506841]])"
      ]
     },
     "metadata": {},
     "execution_count": 7
    }
   ],
   "source": [
    "sc = StandardScaler()\n",
    "Z = sc.fit_transform(df_acp)\n",
    "Z"
   ]
  },
  {
   "cell_type": "code",
   "execution_count": 8,
   "metadata": {},
   "outputs": [],
   "source": [
    "acp = PCA(svd_solver='full')"
   ]
  },
  {
   "cell_type": "code",
   "execution_count": 9,
   "metadata": {},
   "outputs": [
    {
     "output_type": "stream",
     "name": "stdout",
     "text": [
      "8\n"
     ]
    }
   ],
   "source": [
    "# Calcul des coordonnées factorielles\n",
    "coord = acp.fit_transform(Z)\n",
    "# Vérification du nombre de composantes principales\n",
    "print(acp.n_components_)"
   ]
  },
  {
   "cell_type": "code",
   "execution_count": 10,
   "metadata": {},
   "outputs": [
    {
     "output_type": "stream",
     "name": "stdout",
     "text": [
      "[0.20878171 0.16108921 0.15493336 0.13662952 0.1119917  0.09590611\n 0.08645423 0.04421416]\n"
     ]
    }
   ],
   "source": [
    "print(acp.explained_variance_ratio_)"
   ]
  },
  {
   "cell_type": "code",
   "execution_count": 11,
   "metadata": {},
   "outputs": [
    {
     "output_type": "display_data",
     "data": {
      "text/plain": "Canvas(toolbar=Toolbar(toolitems=[('Home', 'Reset original view', 'home', 'home'), ('Back', 'Back to previous …",
      "application/vnd.jupyter.widget-view+json": {
       "version_major": 2,
       "version_minor": 0,
       "model_id": "ec2add85c88d4173baf6e4f24cbe4772"
      }
     },
     "metadata": {}
    }
   ],
   "source": [
    "plt.figure(figsize=(6,4))\n",
    "plt.bar(np.arange(1,acp.n_components_+1),acp.explained_variance_ratio_*100)\n",
    "plt.title(\"Variance expliquée par chaque axe factoriel\", size=16, fontweight='bold')\n",
    "plt.ylabel(\"Variance expliquée par l'axe factoriel (en %)\", size=10)\n",
    "plt.xlabel(\"Axe factoriel\", size=10)\n",
    "plt.show()"
   ]
  },
  {
   "cell_type": "code",
   "execution_count": 12,
   "metadata": {},
   "outputs": [
    {
     "output_type": "display_data",
     "data": {
      "text/plain": "Canvas(toolbar=Toolbar(toolitems=[('Home', 'Reset original view', 'home', 'home'), ('Back', 'Back to previous …",
      "application/vnd.jupyter.widget-view+json": {
       "version_major": 2,
       "version_minor": 0,
       "model_id": "c5b331b9ad27442890c90bceb0355b40"
      }
     },
     "metadata": {}
    }
   ],
   "source": [
    "plt.figure(figsize=(6,4))\n",
    "plt.plot(np.arange(1,acp.n_components_+1),acp.explained_variance_ratio_.cumsum()*100,  marker = 'o')\n",
    "plt.title(\"Variances cumulées\", size=16, fontweight='bold')\n",
    "plt.ylim(0, 100)\n",
    "plt.ylabel(\"Variance expliquée par l'axe factoriel (en %)\", size=10)\n",
    "plt.xlabel(\"Axe factoriel\", size=10)\n",
    "plt.show()"
   ]
  },
  {
   "cell_type": "code",
   "execution_count": 13,
   "metadata": {},
   "outputs": [],
   "source": [
    "coord_not_cliqued = [ [] for _ in range(acp.n_components_)]\n",
    "coord_cliqued = [ [] for _ in range(acp.n_components_)]\n",
    "\n",
    "for i in range(len(coord[:,0])):\n",
    "    if df['is_display_clicked'][i] == 0:\n",
    "        for j in range(acp.n_components_):\n",
    "            coord_not_cliqued[j].append(coord[i,j])\n",
    "    else:\n",
    "        for j in range(acp.n_components_):\n",
    "            coord_cliqued[j].append(coord[i,j])"
   ]
  },
  {
   "cell_type": "code",
   "execution_count": 14,
   "metadata": {},
   "outputs": [],
   "source": [
    "def affichage_plan_factoriel(i, j, pourcentage=1, equal=False, markersize=0.2, verbose=False):\n",
    "    \"\"\"\n",
    "    pourcentage: proprotion de points à afficher\n",
    "    equal: si True, autant de points rouges que de points verts\n",
    "    \"\"\"\n",
    "    plt.figure(figsize=(6,4))\n",
    "\n",
    "    if not equal:\n",
    "        N_not = int(1/pourcentage)\n",
    "        N = int(1/pourcentage)\n",
    "    \n",
    "\n",
    "    if equal:\n",
    "        coeff = len(coord_cliqued[0]) / len(coord_not_cliqued[0])\n",
    "\n",
    "        N_not = int(1/(pourcentage*coeff))\n",
    "        N = int(1/pourcentage)\n",
    "\n",
    "        # N_not = int(1/pourcentage)\n",
    "        # N = int(coeff/pourcentage)\n",
    "\n",
    "    if verbose:\n",
    "        print(f\"N_not : {N_not}\")\n",
    "        print(f\"N : {N}\")\n",
    "        print(f\"Nombre de points rouges : {len(coord_not_cliqued[0][::N_not])}\")\n",
    "        print(f\"Nombre de points verts : {len(coord_cliqued[0][::N])}\")\n",
    "\n",
    "    plt.plot(coord_not_cliqued[i-1][::N_not], coord_not_cliqued[j-1][::N_not], '.', color='r', linestyle=\"None\", markersize=markersize)\n",
    "    plt.plot(coord_cliqued[i-1][::N], coord_cliqued[j-1][::N], '.', color='g', linestyle=\"None\", markersize=markersize)\n",
    "    plt.xlabel(f'Axe {i}')\n",
    "    plt.ylabel(f'Axe {j}')\n",
    "    plt.title(f'Plan (Axe {i}, Axe {j})')\n",
    "    plt.legend(['Pas cliqué', 'Cliqué'])\n",
    "    # plt.savefig('plan_axe1_axe2.png', dpi = 500, bbox_inches='tight', figsize=(10,6))\n",
    "    # plt.close()\n",
    "    plt.show()"
   ]
  },
  {
   "cell_type": "code",
   "execution_count": 15,
   "metadata": {},
   "outputs": [
    {
     "output_type": "display_data",
     "data": {
      "text/plain": "Canvas(toolbar=Toolbar(toolitems=[('Home', 'Reset original view', 'home', 'home'), ('Back', 'Back to previous …",
      "application/vnd.jupyter.widget-view+json": {
       "version_major": 2,
       "version_minor": 0,
       "model_id": "9a12909c253a47019e168f02e6ba81af"
      }
     },
     "metadata": {}
    },
    {
     "output_type": "stream",
     "name": "stdout",
     "text": [
      "N_not : 1\nN : 1\nNombre de points rouges : 1537015\nNombre de points verts : 93202\n"
     ]
    }
   ],
   "source": [
    "affichage_plan_factoriel(1, 2, verbose=True)"
   ]
  },
  {
   "cell_type": "code",
   "execution_count": 16,
   "metadata": {},
   "outputs": [
    {
     "output_type": "display_data",
     "data": {
      "text/plain": "Canvas(toolbar=Toolbar(toolitems=[('Home', 'Reset original view', 'home', 'home'), ('Back', 'Back to previous …",
      "application/vnd.jupyter.widget-view+json": {
       "version_major": 2,
       "version_minor": 0,
       "model_id": "1a76c562dd7441eb890601bc6095f20f"
      }
     },
     "metadata": {}
    },
    {
     "output_type": "stream",
     "name": "stdout",
     "text": [
      "N_not : 10\nN : 10\nNombre de points rouges : 153702\nNombre de points verts : 9321\n"
     ]
    }
   ],
   "source": [
    "affichage_plan_factoriel(1, 2, pourcentage=0.1, verbose=True)"
   ]
  },
  {
   "cell_type": "code",
   "execution_count": 17,
   "metadata": {},
   "outputs": [
    {
     "output_type": "display_data",
     "data": {
      "text/plain": "Canvas(toolbar=Toolbar(toolitems=[('Home', 'Reset original view', 'home', 'home'), ('Back', 'Back to previous …",
      "application/vnd.jupyter.widget-view+json": {
       "version_major": 2,
       "version_minor": 0,
       "model_id": "82e20a050e7c41b693b400930883fe87"
      }
     },
     "metadata": {}
    },
    {
     "output_type": "stream",
     "name": "stdout",
     "text": [
      "N_not : 329\nN : 20\nNombre de points rouges : 4672\nNombre de points verts : 4661\n"
     ]
    }
   ],
   "source": [
    "affichage_plan_factoriel(1, 2, pourcentage=0.05, equal=True, verbose=True, markersize=0.5)"
   ]
  },
  {
   "cell_type": "code",
   "execution_count": 18,
   "metadata": {},
   "outputs": [
    {
     "output_type": "display_data",
     "data": {
      "text/plain": "Canvas(toolbar=Toolbar(toolitems=[('Home', 'Reset original view', 'home', 'home'), ('Back', 'Back to previous …",
      "application/vnd.jupyter.widget-view+json": {
       "version_major": 2,
       "version_minor": 0,
       "model_id": "f5cc0636e06f44e8a3cf451a7b9e42da"
      }
     },
     "metadata": {}
    }
   ],
   "source": [
    "affichage_plan_factoriel(1, 3)"
   ]
  },
  {
   "cell_type": "code",
   "execution_count": 19,
   "metadata": {},
   "outputs": [
    {
     "output_type": "display_data",
     "data": {
      "text/plain": "Canvas(toolbar=Toolbar(toolitems=[('Home', 'Reset original view', 'home', 'home'), ('Back', 'Back to previous …",
      "application/vnd.jupyter.widget-view+json": {
       "version_major": 2,
       "version_minor": 0,
       "model_id": "ce5196c0c07047959434ca6fc2bc556e"
      }
     },
     "metadata": {}
    }
   ],
   "source": [
    "affichage_plan_factoriel(2, 3)"
   ]
  },
  {
   "cell_type": "code",
   "execution_count": 20,
   "metadata": {},
   "outputs": [
    {
     "output_type": "display_data",
     "data": {
      "text/plain": "Canvas(toolbar=Toolbar(toolitems=[('Home', 'Reset original view', 'home', 'home'), ('Back', 'Back to previous …",
      "application/vnd.jupyter.widget-view+json": {
       "version_major": 2,
       "version_minor": 0,
       "model_id": "b3ea9876177942caa9c1347f717ca107"
      }
     },
     "metadata": {}
    }
   ],
   "source": [
    "affichage_plan_factoriel(1, 4)"
   ]
  },
  {
   "cell_type": "code",
   "execution_count": 21,
   "metadata": {},
   "outputs": [
    {
     "output_type": "display_data",
     "data": {
      "text/plain": "Canvas(toolbar=Toolbar(toolitems=[('Home', 'Reset original view', 'home', 'home'), ('Back', 'Back to previous …",
      "application/vnd.jupyter.widget-view+json": {
       "version_major": 2,
       "version_minor": 0,
       "model_id": "f2079ea32fa24183a3bf3feeefe35402"
      }
     },
     "metadata": {}
    }
   ],
   "source": [
    "affichage_plan_factoriel(2, 4)"
   ]
  },
  {
   "cell_type": "code",
   "execution_count": 22,
   "metadata": {},
   "outputs": [
    {
     "output_type": "display_data",
     "data": {
      "text/plain": "Canvas(toolbar=Toolbar(toolitems=[('Home', 'Reset original view', 'home', 'home'), ('Back', 'Back to previous …",
      "application/vnd.jupyter.widget-view+json": {
       "version_major": 2,
       "version_minor": 0,
       "model_id": "0dd2250a50f442c3b1ebf62ee969cb4a"
      }
     },
     "metadata": {}
    }
   ],
   "source": [
    "affichage_plan_factoriel(3, 4)"
   ]
  },
  {
   "cell_type": "code",
   "execution_count": 23,
   "metadata": {},
   "outputs": [
    {
     "output_type": "display_data",
     "data": {
      "text/plain": "Canvas(toolbar=Toolbar(toolitems=[('Home', 'Reset original view', 'home', 'home'), ('Back', 'Back to previous …",
      "application/vnd.jupyter.widget-view+json": {
       "version_major": 2,
       "version_minor": 0,
       "model_id": "9e56774b711e4fbb9979b7d8f3be2e5e"
      }
     },
     "metadata": {}
    }
   ],
   "source": [
    "affichage_plan_factoriel(4, 5)"
   ]
  },
  {
   "cell_type": "code",
   "execution_count": 24,
   "metadata": {},
   "outputs": [],
   "source": [
    "n = len(df_acp)\n",
    "p = len(df_acp.columns)\n",
    "\n",
    "eigval = (n-1)/n*acp.explained_variance_\n",
    "sqrt_eigval = np.sqrt(eigval)\n",
    "corvar = np.zeros((p,p))\n",
    "for k in range(p):\n",
    "    corvar[:,k] = acp.components_[k,:] * sqrt_eigval[k]"
   ]
  },
  {
   "cell_type": "code",
   "execution_count": 25,
   "metadata": {
    "scrolled": true
   },
   "outputs": [],
   "source": [
    "def affichage_cercle_corr(ax1, ax2):\n",
    "    fig, axes = plt.subplots(figsize=(5,5))\n",
    "    axes.set_xlim(-1.05, 1.05)\n",
    "    axes.set_ylim(-1.05, 1.05)\n",
    "\n",
    "    for j in range(p):\n",
    "        axes.arrow(0, 0, corvar[j,ax1], corvar[j,ax2], head_width=0.005, head_length=0.01, fc='grey', ec='grey')\n",
    "        plt.annotate(df_acp.columns[j], (corvar[j,ax1],corvar[j,ax2]), size=8, color='r')\n",
    "\n",
    "    plt.plot([-1, 1], [0, 0],color='silver', linestyle='-', linewidth=1)\n",
    "    plt.plot([0, 0], [-1, 1],color='silver', linestyle='-', linewidth=1)\n",
    "\n",
    "    cercle = plt.Circle((0, 0), 1, color='blue', fill=False)\n",
    "    axes.add_artist(cercle)\n",
    "\n",
    "    plt.show()"
   ]
  },
  {
   "cell_type": "code",
   "execution_count": 26,
   "metadata": {},
   "outputs": [
    {
     "output_type": "display_data",
     "data": {
      "text/plain": "Canvas(toolbar=Toolbar(toolitems=[('Home', 'Reset original view', 'home', 'home'), ('Back', 'Back to previous …",
      "application/vnd.jupyter.widget-view+json": {
       "version_major": 2,
       "version_minor": 0,
       "model_id": "3252c320f6064c3c8c6fbd5fa671b9b3"
      }
     },
     "metadata": {}
    }
   ],
   "source": [
    "affichage_cercle_corr(1,2)"
   ]
  },
  {
   "cell_type": "code",
   "execution_count": 27,
   "metadata": {},
   "outputs": [
    {
     "output_type": "display_data",
     "data": {
      "text/plain": "Canvas(toolbar=Toolbar(toolitems=[('Home', 'Reset original view', 'home', 'home'), ('Back', 'Back to previous …",
      "application/vnd.jupyter.widget-view+json": {
       "version_major": 2,
       "version_minor": 0,
       "model_id": "70dae2d6d4da40159bd7576f65626647"
      }
     },
     "metadata": {}
    }
   ],
   "source": [
    "affichage_cercle_corr(4,5)"
   ]
  },
  {
   "cell_type": "code",
   "execution_count": 28,
   "metadata": {},
   "outputs": [
    {
     "output_type": "stream",
     "name": "stdout",
     "text": [
      "count    93202.000000\n",
      "mean         0.001778\n",
      "std          1.046757\n",
      "min         -1.497208\n",
      "25%         -0.699962\n",
      "50%         -0.228852\n",
      "75%          0.406494\n",
      "max         14.251280\n",
      "dtype: float64 \n",
      "\n",
      "count    1.537015e+06\n",
      "mean    -1.078269e-04\n",
      "std      1.045407e+00\n",
      "min     -1.501987e+00\n",
      "25%     -7.010074e-01\n",
      "50%     -2.319349e-01\n",
      "75%      4.054630e-01\n",
      "max      1.469045e+01\n",
      "dtype: float64\n"
     ]
    }
   ],
   "source": [
    "print(pd.Series(coord_cliqued[3]).describe(), '\\n')\n",
    "print(pd.Series(coord_not_cliqued[3]).describe())"
   ]
  },
  {
   "cell_type": "code",
   "execution_count": 29,
   "metadata": {},
   "outputs": [
    {
     "output_type": "display_data",
     "data": {
      "text/plain": "Canvas(toolbar=Toolbar(toolitems=[('Home', 'Reset original view', 'home', 'home'), ('Back', 'Back to previous …",
      "application/vnd.jupyter.widget-view+json": {
       "version_major": 2,
       "version_minor": 0,
       "model_id": "d0b5d8b19caf48f7b32ee8537884064e"
      }
     },
     "metadata": {}
    }
   ],
   "source": [
    "plt.figure(figsize=(6,6))\n",
    "plt.rc('xtick', labelsize=5)\n",
    "plt.xticks(rotation=45)\n",
    "plt.bar(np.arange(1,acp.n_components_+1), corvar[:,4], tick_label=df_acp.columns)\n",
    "plt.title(\"Corrélations sur l'axe 4\", size=16, fontweight='bold')\n",
    "plt.ylabel(\"Corr(Variable, Axe factoriel 4)\", size=10)\n",
    "plt.xlabel(\"Variable\", size=10)\n",
    "plt.show()"
   ]
  },
  {
   "cell_type": "code",
   "execution_count": 30,
   "metadata": {},
   "outputs": [],
   "source": [
    "def affichage_3d_factoriel(i, j, k, pourcentage=1, equal=False, markersize=1, verbose=False):\n",
    "    fig = plt.figure(figsize=(10, 10))\n",
    "    ax = fig.add_subplot(111, projection='3d')\n",
    "    \n",
    "    if not equal:\n",
    "        N_not = int(1/pourcentage)\n",
    "        N = int(1/pourcentage)\n",
    "    \n",
    "    if equal:\n",
    "        coeff = len(coord_cliqued[0]) / len(coord_not_cliqued[0])\n",
    "\n",
    "        N_not = int(1/(pourcentage*coeff))\n",
    "        N = int(1/pourcentage)\n",
    "\n",
    "        # N_not = int(1/pourcentage)\n",
    "        # N = int(coeff/pourcentage)\n",
    "\n",
    "    if verbose:\n",
    "        print(f\"N_not : {N_not}\")\n",
    "        print(f\"N : {N}\")\n",
    "        print(f\"Nombre de points rouges : {len(coord_not_cliqued[0][::N_not])}\")\n",
    "        print(f\"Nombre de points verts : {len(coord_cliqued[0][::N])}\")\n",
    "\n",
    "    ax.scatter(coord_not_cliqued[i-1][::N_not], coord_not_cliqued[j-1][::N_not], coord_not_cliqued[k-1][::N_not], s=markersize, color='r', linestyle=\"None\", marker='o')\n",
    "    ax.scatter(coord_cliqued[i-1][::N], coord_cliqued[j-1][::N], coord_cliqued[k-1][::N], s=markersize, color='g', linestyle=\"None\", marker='o')\n",
    "    ax.set_xlabel(f'Axe {i}')\n",
    "    ax.set_ylabel(f'Axe {j}')\n",
    "    ax.set_zlabel(f'Axe {k}')\n",
    "    plt.title(f'Plan (Axe {i}, Axe {j}, Axe {k})')\n",
    "    plt.legend(['Pas cliqué', 'Cliqué'])\n",
    "    plt.show()"
   ]
  },
  {
   "cell_type": "code",
   "execution_count": 31,
   "metadata": {},
   "outputs": [
    {
     "output_type": "display_data",
     "data": {
      "text/plain": "Canvas(toolbar=Toolbar(toolitems=[('Home', 'Reset original view', 'home', 'home'), ('Back', 'Back to previous …",
      "application/vnd.jupyter.widget-view+json": {
       "version_major": 2,
       "version_minor": 0,
       "model_id": "7af7f06dcb384cca90ebc0490534ba01"
      }
     },
     "metadata": {}
    },
    {
     "output_type": "stream",
     "name": "stdout",
     "text": [
      "N_not : 1649\nN : 100\nNombre de points rouges : 933\nNombre de points verts : 933\n"
     ]
    }
   ],
   "source": [
    "affichage_3d_factoriel(1, 2, 3, pourcentage=0.01, equal=True, markersize=5, verbose=True)"
   ]
  }
 ],
 "metadata": {
  "kernelspec": {
   "name": "python3",
   "display_name": "Python 3.8.6 64-bit",
   "metadata": {
    "interpreter": {
     "hash": "7e85ec9bf098c5427e45e2f632dcd4eeff803b007e1abd287d600879388709c1"
    }
   }
  },
  "language_info": {
   "codemirror_mode": {
    "name": "ipython",
    "version": 3
   },
   "file_extension": ".py",
   "mimetype": "text/x-python",
   "name": "python",
   "nbconvert_exporter": "python",
   "pygments_lexer": "ipython3",
   "version": "3.8.6-final"
  }
 },
 "nbformat": 4,
 "nbformat_minor": 4
}