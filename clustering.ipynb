{
 "metadata": {
  "language_info": {
   "codemirror_mode": {
    "name": "ipython",
    "version": 3
   },
   "file_extension": ".py",
   "mimetype": "text/x-python",
   "name": "python",
   "nbconvert_exporter": "python",
   "pygments_lexer": "ipython3",
   "version": "3.8.6-final"
  },
  "orig_nbformat": 2,
  "kernelspec": {
   "name": "python3",
   "display_name": "Python 3.8.6 64-bit",
   "metadata": {
    "interpreter": {
     "hash": "7e85ec9bf098c5427e45e2f632dcd4eeff803b007e1abd287d600879388709c1"
    }
   }
  }
 },
 "nbformat": 4,
 "nbformat_minor": 2,
 "cells": [
  {
   "cell_type": "code",
   "execution_count": 1,
   "metadata": {},
   "outputs": [],
   "source": [
    "import time\n",
    "import pandas as pd\n",
    "import numpy as np\n",
    "import seaborn as sns\n",
    "import matplotlib.pyplot as plt\n",
    "import sklearn\n",
    "from sklearn.preprocessing import StandardScaler\n",
    "from sklearn.decomposition import PCA\n",
    "from sklearn.cluster import KMeans\n",
    "\n",
    "# On importe la métrique \"silhouette\" qui nous servira à déterminer le nombre de clusters optimal.\n",
    "from sklearn.metrics import silhouette_score \n",
    "\n",
    "%config InlineBackend.figure_format = 'png'"
   ]
  },
  {
   "cell_type": "code",
   "execution_count": 2,
   "metadata": {},
   "outputs": [],
   "source": [
    "df = pd.read_csv('data/df_train.csv')"
   ]
  },
  {
   "cell_type": "code",
   "execution_count": 3,
   "metadata": {},
   "outputs": [
    {
     "output_type": "execute_result",
     "data": {
      "text/plain": [
       "1855314"
      ]
     },
     "metadata": {},
     "execution_count": 3
    }
   ],
   "source": [
    "len(df)"
   ]
  },
  {
   "cell_type": "code",
   "execution_count": 4,
   "metadata": {},
   "outputs": [],
   "source": [
    "# Recodage de certaines modalités afin de réordonner par ordre croissant d'engagement\n",
    "df[\"contextid\"] = df[\"contextid\"].replace(0,1)\n",
    "df[\"contextid\"] = df[\"contextid\"].replace(10,3)\n",
    "\n",
    "# Remplacement des valeurs manquantes par des 0 dans les variables commençant par ltf\n",
    "df['ltf_lastpartnerclicktimestamp'] = df['ltf_lastpartnerclicktimestamp'].fillna(0)\n",
    "df['ltf_nbglobalclick_4w'] = df['ltf_nbglobalclick_4w'].fillna(0)\n",
    "df['ltf_nbglobaldisplay_4w'] = df['ltf_nbglobaldisplay_4w'].fillna(0)\n",
    "df['ltf_nbglobaldisplaysincelastpartnerproductview'] = df['ltf_nbglobaldisplaysincelastpartnerproductview'].fillna(0)\n",
    "df['ltf_nbpartnerdisplayssincelastclick'] = df['ltf_nbpartnerdisplayssincelastclick'].fillna(0)\n",
    "df['ltf_nbpartnerclick_4w'] = df['ltf_nbpartnerclick_4w'].fillna(0)\n",
    "df['ltf_nbpartnerdisplay_4w'] = df['ltf_nbpartnerdisplay_4w'].fillna(0)\n",
    "df['ltf_nbpartnersales_4w'] = df['ltf_nbpartnersales_4w'].fillna(0)\n",
    "df['ltf_nbpartnerdisplay_90d'] = df['ltf_nbpartnerdisplay_90d'].fillna(0)\n",
    "df['ltf_nbpartnerclick_90d'] = df['ltf_nbpartnerclick_90d'].fillna(0)\n",
    "df['ltf_nbpartnersales_90d'] = df['ltf_nbpartnersales_90d'].fillna(0)\n",
    "# Idem ici\n",
    "df['nbdisplay_1hour'] = df['nbdisplay_1hour'].fillna(0)\n",
    "df['nbdisplaypartnerapprox_1d_sum_xdevice'] = df['nbdisplaypartnerapprox_1d_sum_xdevice'].fillna(0)\n",
    "df['nbdisplayaffiliateapprox_1d_sum_xdevice'] = df['nbdisplayaffiliateapprox_1d_sum_xdevice'].fillna(0)\n",
    "df['nbdisplayglobalapprox_1d_sum_xdevice'] = df['nbdisplayglobalapprox_1d_sum_xdevice'].fillna(0)\t\n",
    "df['campaignctrlast24h'] = df['campaignctrlast24h'].fillna(0)"
   ]
  },
  {
   "cell_type": "code",
   "execution_count": 5,
   "metadata": {},
   "outputs": [],
   "source": [
    "# Suppression de l'appareil cliquant un nombre aberrant de fois\n",
    "df.drop(df.index[df['hashed_xd_id'] == r\"b'\\x12\\xb97|\\xbe~\\\\\\x94\\xe8\\xa7\\r\\x9d#\\x92\\x95#\\xd1J\\xfa\\x95G\\x93\\x13\\x0f\\x8a9Y\\xc7\\xb8I\\xac\\xa8'\"], inplace = True)"
   ]
  },
  {
   "cell_type": "code",
   "execution_count": 6,
   "metadata": {},
   "outputs": [],
   "source": [
    "df['display_size'] = df['display_width']*df['display_height']"
   ]
  },
  {
   "cell_type": "code",
   "execution_count": 7,
   "metadata": {},
   "outputs": [],
   "source": [
    "# On enlève des variables ltf grâce aux corrélations visibles dans la matrice. \n",
    "df_clusters = df[['contextid','dayssincelastvisitdouble','campaignctrlast24h','nbdisplay_1hour','nbdayssincelastclick','display_size','ltf_nbpartnerdisplayssincelastclick','ltf_nbglobaldisplay_4w','ltf_nbpartnerclick_90d','ltf_nbpartnerdisplay_90d','ltf_nbpartnersales_90d','nbdisplayglobalapprox_1d_sum_xdevice']]"
   ]
  },
  {
   "cell_type": "code",
   "execution_count": 8,
   "metadata": {},
   "outputs": [
    {
     "output_type": "execute_result",
     "data": {
      "text/plain": [
       "array([[ 0.14873565, -0.40809959, -0.8906595 , ..., -0.07290974,\n",
       "        -0.01397608, -0.32103262],\n",
       "       [-1.92104218, -0.44867976, -0.360678  , ..., -0.07290974,\n",
       "        -0.01397608,  0.8070464 ],\n",
       "       [ 0.14873565, -0.33748309,  1.82717896, ..., -0.07290974,\n",
       "        -0.01397608, -0.5009203 ],\n",
       "       ...,\n",
       "       [ 0.97664678, -0.36785013, -0.92834265, ..., -0.07290974,\n",
       "        -0.01397608, -0.51352702],\n",
       "       [ 1.39060235, -0.4168148 ,  2.20278178, ..., -0.07290974,\n",
       "        -0.01397608, -0.34134216],\n",
       "       [ 0.14873565, -0.1664472 , -0.50158415, ..., -0.07290974,\n",
       "        -0.01397608, -0.45594838]])"
      ]
     },
     "metadata": {},
     "execution_count": 8
    }
   ],
   "source": [
    "# On va chercher à obtenir des groupes d'observations de caractéristiques proches afin de voir si l'on peut distinguer les clics des non-clics. \n",
    "sc = StandardScaler()\n",
    "Z = sc.fit_transform(df_clusters)\n",
    "Z"
   ]
  },
  {
   "cell_type": "code",
   "execution_count": 9,
   "metadata": {},
   "outputs": [
    {
     "output_type": "stream",
     "name": "stdout",
     "text": [
      "[-4.69520271e-17  2.45057639e-16 -5.90496082e-17 -2.05773590e-17\n -9.95337090e-18  1.23711223e-17  1.66154232e-17 -1.56712648e-17\n  9.90263342e-18  4.87962244e-18 -2.46683444e-18 -3.14861388e-16]\n[1. 1. 1. 1. 1. 1. 1. 1. 1. 1. 1. 1.]\n"
     ]
    }
   ],
   "source": [
    "# Vérification que les moyennes sont nulles et les écarts-types unitaires. \n",
    "print(np.mean(Z, axis=0))\n",
    "print(np.std(Z, axis=0, ddof=0))"
   ]
  },
  {
   "cell_type": "code",
   "execution_count": 10,
   "metadata": {},
   "outputs": [],
   "source": [
    "# On fixe une graine aléatoire pour avoir des résultats reproductibles\n",
    "GRAINE = 146355806"
   ]
  },
  {
   "cell_type": "code",
   "execution_count": 11,
   "metadata": {},
   "outputs": [
    {
     "output_type": "stream",
     "name": "stdout",
     "text": [
      "         Observation  Cluster\n0                  0        0\n1            1236366        0\n2            1236364        0\n3            1236363        0\n4            1236362        0\n...              ...      ...\n1610489      1321770        1\n1610490       327417        1\n1610491      1441821        1\n1610492       315064        1\n1610493       959039        1\n\n[1610494 rows x 2 columns]\n"
     ]
    }
   ],
   "source": [
    "# On applique la méthode des k-means sur les variables centrées et réduites, en supposant pour l'instant par défaut qu'il existe 2 clusters.\n",
    "kmeans = KMeans(n_clusters=2, random_state=GRAINE) \n",
    "# random_state est la graine aléatoire specifiée pour rendre les résultats reproductibles.\n",
    "kmeans.fit(Z)\n",
    "\n",
    "# On trie les index en fonction des différents groupes de députés (ie des clusters).\n",
    "idk = np.argsort(kmeans.labels_)\n",
    "\n",
    "# Affichage des observations et de leurs groupes.\n",
    "print(pd.DataFrame({\"Observation\" : df_clusters.index[idk], \"Cluster\" : kmeans.labels_[idk]}))"
   ]
  },
  {
   "cell_type": "code",
   "execution_count": 12,
   "metadata": {},
   "outputs": [
    {
     "output_type": "stream",
     "name": "stdout",
     "text": [
      "1604453\n6041\n"
     ]
    }
   ],
   "source": [
    "nb_clusters = kmeans.labels_.tolist()\n",
    "print(nb_clusters.count(0)) # Comptage du nombre de députés dans le cluster 1.\n",
    "print(nb_clusters.count(1)) # Comptage du nombre de députés dans le cluster 2."
   ]
  },
  {
   "source": [
    "Le découpage en deux clusters ne nous permettra pas de discriminer les clics des non-clics ; le deuxième cluster est en effet trop petit. \n",
    "Essayons avec 3 clusters. "
   ],
   "cell_type": "markdown",
   "metadata": {}
  },
  {
   "cell_type": "code",
   "execution_count": 13,
   "metadata": {},
   "outputs": [
    {
     "output_type": "stream",
     "name": "stdout",
     "text": [
      "11.80984115600586\n"
     ]
    }
   ],
   "source": [
    "# Cellule dédiée au choix de la taille de l'échantillon du cluster sur lequel on va calculer le score de silhouette.\n",
    "# On utilise également la graine GRAINE pour l'échantillonnage.\n",
    "t0 = time.time()\n",
    "silhouette_score(Z, kmeans.labels_, n_jobs=-1, sample_size=25000, random_state=GRAINE)\n",
    "print(time.time() - t0)"
   ]
  },
  {
   "cell_type": "code",
   "execution_count": 14,
   "metadata": {},
   "outputs": [
    {
     "output_type": "stream",
     "name": "stdout",
     "text": [
      "Nb clusters : 2 ; score silhouette : 0.8680866579433779.\n",
      "Nb clusters : 3 ; score silhouette : 0.27967020279514515.\n",
      "Nb clusters : 4 ; score silhouette : 0.28801917294076956.\n",
      "Nb clusters : 5 ; score silhouette : 0.17948918352077925.\n",
      "Nb clusters : 6 ; score silhouette : 0.2042071150972515.\n",
      "Nb clusters : 7 ; score silhouette : 0.23113030688396888.\n",
      "Nb clusters : 8 ; score silhouette : 0.24975692412332298.\n",
      "Nb clusters : 9 ; score silhouette : 0.2528961227548852.\n",
      "Nb clusters : 10 ; score silhouette : 0.2623401903317868.\n"
     ]
    }
   ],
   "source": [
    "# On va faire varier le nombre de clusters dans un intervalle réaliste, disons de 2 à 10.\n",
    "taille_intervalle = 9\n",
    "res = np.arange(taille_intervalle, dtype=\"double\")\n",
    "for k in np.arange(taille_intervalle):\n",
    "    kmeans = KMeans(n_clusters=k+2, random_state=GRAINE)\n",
    "    kmeans.fit(Z)\n",
    "    res[k] = silhouette_score(Z, kmeans.labels_, n_jobs=-1, sample_size=25000, random_state=GRAINE)\n",
    "    print(f\"Nb clusters : {k+2} ; score silhouette : {res[k]}.\")\n",
    "# print(res)"
   ]
  },
  {
   "cell_type": "code",
   "execution_count": 15,
   "metadata": {},
   "outputs": [
    {
     "output_type": "display_data",
     "data": {
      "text/plain": "<Figure size 576x288 with 1 Axes>",
      "image/png": "[encoded data removed]"
     },
     "metadata": {
      "needs_background": "light"
     }
    }
   ],
   "source": [
    "plt.figure(figsize=(8,4))\n",
    "plt.plot(np.arange(2,11,1), res)\n",
    "plt.title(\"Coefficient de silhouette moyen en fonction du nombre de clusters\", size=16)\n",
    "plt.xlabel(\"Nombre de clusters\", size=10)\n",
    "plt.ylabel(\"Score de silhouette moyen\", size=10)\n",
    "plt.show()"
   ]
  },
  {
   "cell_type": "code",
   "execution_count": 16,
   "metadata": {},
   "outputs": [
    {
     "output_type": "stream",
     "name": "stdout",
     "text": [
      "         Observation  Cluster\n0                  0        0\n1            1150550        0\n2            1150549        0\n3            1150548        0\n4            1150547        0\n...              ...      ...\n1610489      1381862        3\n1610490      1381860        3\n1610491      1066547        3\n1610492       359587        3\n1610493       989620        3\n\n[1610494 rows x 2 columns]\n"
     ]
    }
   ],
   "source": [
    "kmeans = KMeans(n_clusters=4, random_state=GRAINE) \n",
    "kmeans.fit(Z)\n",
    "idk = np.argsort(kmeans.labels_)\n",
    "print(pd.DataFrame({\"Observation\" : df_clusters.index[idk], \"Cluster\" : kmeans.labels_[idk]}))"
   ]
  },
  {
   "cell_type": "code",
   "execution_count": 17,
   "metadata": {},
   "outputs": [
    {
     "output_type": "stream",
     "name": "stdout",
     "text": [
      "1214530\n6005\n171724\n218235\n"
     ]
    }
   ],
   "source": [
    "nb_clusters1 = kmeans.labels_.tolist()\n",
    "print(nb_clusters1.count(0)) \n",
    "print(nb_clusters1.count(1))\n",
    "print(nb_clusters1.count(2))\n",
    "print(nb_clusters1.count(3))"
   ]
  },
  {
   "source": [
    "Etudions les caractéristiques des observations dans chacun des clusters. "
   ],
   "cell_type": "markdown",
   "metadata": {}
  },
  {
   "cell_type": "code",
   "execution_count": 18,
   "metadata": {},
   "outputs": [],
   "source": [
    "A = pd.DataFrame({\"Observation\" : df_clusters.index[idk], \"Cluster\" : kmeans.labels_[idk]})\n",
    "L1 = [] # Liste qui contiendra les index des députés du cluster 1.\n",
    "L2 = [] # Liste qui contiendra les index des députés du cluster 2.\n",
    "L3 = [] # Liste qui contiendra les index des députés du cluster 3.\n",
    "L4 = [] # Liste qui contiendra les index des députés du cluster 4.\n",
    "for i in range(len(A)) :\n",
    "    if A['Cluster'][i] == 0 :\n",
    "        L1.append(A['Observation'][i])\n",
    "    if A['Cluster'][i] == 1 :\n",
    "        L2.append(A['Observation'][i])\n",
    "    if A['Cluster'][i] == 2 : \n",
    "        L3.append(A['Observation'][i])\n",
    "    if A['Cluster'][i] == 3 : \n",
    "        L4.append(A['Observation'][i])"
   ]
  },
  {
   "cell_type": "code",
   "execution_count": 19,
   "metadata": {},
   "outputs": [],
   "source": [
    "df_cluster_1 = df.loc[L1] # Sous-table avec les députés du cluster 1.\n",
    "df_cluster_2 = df.loc[L2] # Sous-table avec les députés du cluster 2.\n",
    "df_cluster_3 = df.loc[L3] # Sous-table avec les députés du cluster 3.\n",
    "df_cluster_4 = df.loc[L4] # Sous-table avec les députés du cluster 4."
   ]
  },
  {
   "cell_type": "code",
   "execution_count": 20,
   "metadata": {},
   "outputs": [
    {
     "output_type": "execute_result",
     "data": {
      "text/plain": [
       "(1214530, 6005, 171724, 218235)"
      ]
     },
     "metadata": {},
     "execution_count": 20
    }
   ],
   "source": [
    "len(L1), len(L2), len(L3), len(L4)"
   ]
  },
  {
   "source": [
    "On retrouve bien le nombre d'observations présentes dans chaque cluster. "
   ],
   "cell_type": "markdown",
   "metadata": {}
  },
  {
   "cell_type": "code",
   "execution_count": 21,
   "metadata": {},
   "outputs": [
    {
     "output_type": "display_data",
     "data": {
      "text/plain": "   Nb dans cluster 1  Prop dans cluster 1\n0            1137695             0.936737\n1              76835             0.063263",
      "text/html": "<div>\n<style scoped>\n    .dataframe tbody tr th:only-of-type {\n        vertical-align: middle;\n    }\n\n    .dataframe tbody tr th {\n        vertical-align: top;\n    }\n\n    .dataframe thead th {\n        text-align: right;\n    }\n</style>\n<table border=\"1\" class=\"dataframe\">\n  <thead>\n    <tr style=\"text-align: right;\">\n      <th></th>\n      <th>Nb dans cluster 1</th>\n      <th>Prop dans cluster 1</th>\n    </tr>\n  </thead>\n  <tbody>\n    <tr>\n      <th>0</th>\n      <td>1137695</td>\n      <td>0.936737</td>\n    </tr>\n    <tr>\n      <th>1</th>\n      <td>76835</td>\n      <td>0.063263</td>\n    </tr>\n  </tbody>\n</table>\n</div>"
     },
     "metadata": {}
    },
    {
     "output_type": "display_data",
     "data": {
      "text/plain": "   Nb dans cluster 2  Prop dans cluster 2\n0               5561             0.926062\n1                444             0.073938",
      "text/html": "<div>\n<style scoped>\n    .dataframe tbody tr th:only-of-type {\n        vertical-align: middle;\n    }\n\n    .dataframe tbody tr th {\n        vertical-align: top;\n    }\n\n    .dataframe thead th {\n        text-align: right;\n    }\n</style>\n<table border=\"1\" class=\"dataframe\">\n  <thead>\n    <tr style=\"text-align: right;\">\n      <th></th>\n      <th>Nb dans cluster 2</th>\n      <th>Prop dans cluster 2</th>\n    </tr>\n  </thead>\n  <tbody>\n    <tr>\n      <th>0</th>\n      <td>5561</td>\n      <td>0.926062</td>\n    </tr>\n    <tr>\n      <th>1</th>\n      <td>444</td>\n      <td>0.073938</td>\n    </tr>\n  </tbody>\n</table>\n</div>"
     },
     "metadata": {}
    },
    {
     "output_type": "display_data",
     "data": {
      "text/plain": "   Nb dans cluster 3  Prop dans cluster 3\n0             164902             0.960273\n1               6822             0.039727",
      "text/html": "<div>\n<style scoped>\n    .dataframe tbody tr th:only-of-type {\n        vertical-align: middle;\n    }\n\n    .dataframe tbody tr th {\n        vertical-align: top;\n    }\n\n    .dataframe thead th {\n        text-align: right;\n    }\n</style>\n<table border=\"1\" class=\"dataframe\">\n  <thead>\n    <tr style=\"text-align: right;\">\n      <th></th>\n      <th>Nb dans cluster 3</th>\n      <th>Prop dans cluster 3</th>\n    </tr>\n  </thead>\n  <tbody>\n    <tr>\n      <th>0</th>\n      <td>164902</td>\n      <td>0.960273</td>\n    </tr>\n    <tr>\n      <th>1</th>\n      <td>6822</td>\n      <td>0.039727</td>\n    </tr>\n  </tbody>\n</table>\n</div>"
     },
     "metadata": {}
    },
    {
     "output_type": "display_data",
     "data": {
      "text/plain": "   Nb dans cluster 4  Prop dans cluster 4\n0             210584             0.964941\n1               7651             0.035059",
      "text/html": "<div>\n<style scoped>\n    .dataframe tbody tr th:only-of-type {\n        vertical-align: middle;\n    }\n\n    .dataframe tbody tr th {\n        vertical-align: top;\n    }\n\n    .dataframe thead th {\n        text-align: right;\n    }\n</style>\n<table border=\"1\" class=\"dataframe\">\n  <thead>\n    <tr style=\"text-align: right;\">\n      <th></th>\n      <th>Nb dans cluster 4</th>\n      <th>Prop dans cluster 4</th>\n    </tr>\n  </thead>\n  <tbody>\n    <tr>\n      <th>0</th>\n      <td>210584</td>\n      <td>0.964941</td>\n    </tr>\n    <tr>\n      <th>1</th>\n      <td>7651</td>\n      <td>0.035059</td>\n    </tr>\n  </tbody>\n</table>\n</div>"
     },
     "metadata": {}
    }
   ],
   "source": [
    "# Répartition des clics et des non clics dans le cluster 1.\n",
    "display(pd.DataFrame({'Nb dans cluster 1' : df_cluster_1['is_display_clicked'].value_counts(), 'Prop dans cluster 1' : df_cluster_1['is_display_clicked'].value_counts(normalize=True)})) \n",
    "# Répartition des clics et des non clics dans le cluster 2.\n",
    "display(pd.DataFrame({'Nb dans cluster 2' : df_cluster_2['is_display_clicked'].value_counts(), 'Prop dans cluster 2' : df_cluster_2['is_display_clicked'].value_counts(normalize=True)})) \n",
    "# Répartition des clics et des non clics dans le cluster 3.\n",
    "display(pd.DataFrame({'Nb dans cluster 3' : df_cluster_3['is_display_clicked'].value_counts(), 'Prop dans cluster 3' : df_cluster_3['is_display_clicked'].value_counts(normalize=True)}))\n",
    "# Répartition des clics et des non clics dans le cluster 4.\n",
    "display(pd.DataFrame({'Nb dans cluster 4' : df_cluster_4['is_display_clicked'].value_counts(), 'Prop dans cluster 4' : df_cluster_4['is_display_clicked'].value_counts(normalize=True)}))"
   ]
  },
  {
   "cell_type": "code",
   "execution_count": 22,
   "metadata": {},
   "outputs": [
    {
     "output_type": "execute_result",
     "data": {
      "text/plain": [
       "         Unnamed: 0     contextid    target_env     rtbtypeid  \\\n",
       "count  1.214530e+06  1.214530e+06  1.214530e+06  1.209507e+06   \n",
       "mean   9.293023e+05  5.477336e+00  1.112730e+00  3.659951e+01   \n",
       "std    5.352814e+05  2.477548e+00  3.162626e-01  3.341509e+01   \n",
       "min    0.000000e+00  1.000000e+00  1.000000e+00  3.000000e+00   \n",
       "25%    4.667155e+05  4.000000e+00  1.000000e+00  4.000000e+00   \n",
       "50%    9.285535e+05  6.000000e+00  1.000000e+00  2.900000e+01   \n",
       "75%    1.392882e+06  7.000000e+00  1.000000e+00  7.300000e+01   \n",
       "max    1.856872e+06  9.000000e+00  2.000000e+00  1.340000e+02   \n",
       "\n",
       "       rtbadvisibility  rtb_detectedlanguage      urlhash2      urlhash3  \\\n",
       "count     1.209507e+06          1.209507e+06  1.110091e+06  1.110091e+06   \n",
       "mean      7.285497e-01          9.446224e+01  9.839391e+07 -7.566101e+07   \n",
       "std       8.078666e-01          9.783166e+02  1.259963e+09  1.156586e+09   \n",
       "min       0.000000e+00         -1.000000e+00 -2.147137e+09 -2.147454e+09   \n",
       "25%       0.000000e+00          1.200000e+01 -9.654318e+08 -1.003142e+09   \n",
       "50%       1.000000e+00          1.600000e+01  2.603107e+08 -6.162982e+07   \n",
       "75%       1.000000e+00          1.270000e+02  1.384186e+09  8.233637e+08   \n",
       "max       2.000000e+00          3.177000e+04  2.147366e+09  2.147451e+09   \n",
       "\n",
       "           urlhash4  googleviewability  ...  \\\n",
       "count  1.110091e+06      387349.000000  ...   \n",
       "mean  -1.107862e+08          59.306775  ...   \n",
       "std    1.173206e+09          30.486496  ...   \n",
       "min   -2.147479e+09          -1.000000  ...   \n",
       "25%   -1.022446e+09          37.000000  ...   \n",
       "50%   -2.862254e+08          66.000000  ...   \n",
       "75%    7.813881e+08          85.000000  ...   \n",
       "max    2.147451e+09         100.000000  ...   \n",
       "\n",
       "       nbdisplaypartnerapprox_1d_sum_xdevice  \\\n",
       "count                           1.214530e+06   \n",
       "mean                            1.124536e+01   \n",
       "std                             1.428090e+01   \n",
       "min                             0.000000e+00   \n",
       "25%                             1.000000e+00   \n",
       "50%                             5.864144e+00   \n",
       "75%                             1.544028e+01   \n",
       "max                             1.890000e+02   \n",
       "\n",
       "       nbdisplayaffiliateapprox_1d_sum_xdevice  \\\n",
       "count                             1.214530e+06   \n",
       "mean                              1.094701e+01   \n",
       "std                               2.099309e+01   \n",
       "min                               0.000000e+00   \n",
       "25%                               0.000000e+00   \n",
       "50%                               3.000000e+00   \n",
       "75%                               1.130546e+01   \n",
       "max                               3.036156e+02   \n",
       "\n",
       "       nbdisplayglobalapprox_1d_sum_xdevice  valueperclick  display_width  \\\n",
       "count                          1.214530e+06   1.214530e+06   1.214530e+06   \n",
       "mean                           3.081458e+01   2.579208e-01   2.862949e+02   \n",
       "std                            3.532637e+01   1.845674e-01   2.497447e+02   \n",
       "min                            0.000000e+00   3.411759e-02   0.000000e+00   \n",
       "25%                            6.270266e+00   1.131779e-01   2.000000e+00   \n",
       "50%                            1.800000e+01   1.859788e-01   3.000000e+02   \n",
       "75%                            4.212188e+01   5.000993e-01   3.200000e+02   \n",
       "max                            2.505810e+02   7.905422e-01   1.374000e+03   \n",
       "\n",
       "       display_height  display_timestamp  is_display_clicked  zonecostineuro  \\\n",
       "count    1.214530e+06       1.214530e+06        1.214530e+06    1.214530e+06   \n",
       "mean     2.252042e+02       1.602857e+09        6.326316e-02    1.192573e+00   \n",
       "std      2.281093e+02       1.745169e+05        2.434358e-01    3.145508e+00   \n",
       "min      0.000000e+00       1.602547e+09        0.000000e+00    0.000000e+00   \n",
       "25%      2.000000e+00       1.602700e+09        0.000000e+00    8.500000e-02   \n",
       "50%      2.500000e+02       1.602855e+09        0.000000e+00    3.333878e-01   \n",
       "75%      2.800000e+02       1.603021e+09        0.000000e+00    1.013000e+00   \n",
       "max      1.286000e+03       1.603155e+09        1.000000e+00    1.000000e+02   \n",
       "\n",
       "       display_size  \n",
       "count  1.214530e+06  \n",
       "mean   8.114627e+04  \n",
       "std    9.764375e+04  \n",
       "min    0.000000e+00  \n",
       "25%    4.000000e+00  \n",
       "50%    7.500000e+04  \n",
       "75%    1.024000e+05  \n",
       "max    1.101600e+06  \n",
       "\n",
       "[8 rows x 38 columns]"
      ],
      "text/html": "<div>\n<style scoped>\n    .dataframe tbody tr th:only-of-type {\n        vertical-align: middle;\n    }\n\n    .dataframe tbody tr th {\n        vertical-align: top;\n    }\n\n    .dataframe thead th {\n        text-align: right;\n    }\n</style>\n<table border=\"1\" class=\"dataframe\">\n  <thead>\n    <tr style=\"text-align: right;\">\n      <th></th>\n      <th>Unnamed: 0</th>\n      <th>contextid</th>\n      <th>target_env</th>\n      <th>rtbtypeid</th>\n      <th>rtbadvisibility</th>\n      <th>rtb_detectedlanguage</th>\n      <th>urlhash2</th>\n      <th>urlhash3</th>\n      <th>urlhash4</th>\n      <th>googleviewability</th>\n      <th>...</th>\n      <th>nbdisplaypartnerapprox_1d_sum_xdevice</th>\n      <th>nbdisplayaffiliateapprox_1d_sum_xdevice</th>\n      <th>nbdisplayglobalapprox_1d_sum_xdevice</th>\n      <th>valueperclick</th>\n      <th>display_width</th>\n      <th>display_height</th>\n      <th>display_timestamp</th>\n      <th>is_display_clicked</th>\n      <th>zonecostineuro</th>\n      <th>display_size</th>\n    </tr>\n  </thead>\n  <tbody>\n    <tr>\n      <th>count</th>\n      <td>1.214530e+06</td>\n      <td>1.214530e+06</td>\n      <td>1.214530e+06</td>\n      <td>1.209507e+06</td>\n      <td>1.209507e+06</td>\n      <td>1.209507e+06</td>\n      <td>1.110091e+06</td>\n      <td>1.110091e+06</td>\n      <td>1.110091e+06</td>\n      <td>387349.000000</td>\n      <td>...</td>\n      <td>1.214530e+06</td>\n      <td>1.214530e+06</td>\n      <td>1.214530e+06</td>\n      <td>1.214530e+06</td>\n      <td>1.214530e+06</td>\n      <td>1.214530e+06</td>\n      <td>1.214530e+06</td>\n      <td>1.214530e+06</td>\n      <td>1.214530e+06</td>\n      <td>1.214530e+06</td>\n    </tr>\n    <tr>\n      <th>mean</th>\n      <td>9.293023e+05</td>\n      <td>5.477336e+00</td>\n      <td>1.112730e+00</td>\n      <td>3.659951e+01</td>\n      <td>7.285497e-01</td>\n      <td>9.446224e+01</td>\n      <td>9.839391e+07</td>\n      <td>-7.566101e+07</td>\n      <td>-1.107862e+08</td>\n      <td>59.306775</td>\n      <td>...</td>\n      <td>1.124536e+01</td>\n      <td>1.094701e+01</td>\n      <td>3.081458e+01</td>\n      <td>2.579208e-01</td>\n      <td>2.862949e+02</td>\n      <td>2.252042e+02</td>\n      <td>1.602857e+09</td>\n      <td>6.326316e-02</td>\n      <td>1.192573e+00</td>\n      <td>8.114627e+04</td>\n    </tr>\n    <tr>\n      <th>std</th>\n      <td>5.352814e+05</td>\n      <td>2.477548e+00</td>\n      <td>3.162626e-01</td>\n      <td>3.341509e+01</td>\n      <td>8.078666e-01</td>\n      <td>9.783166e+02</td>\n      <td>1.259963e+09</td>\n      <td>1.156586e+09</td>\n      <td>1.173206e+09</td>\n      <td>30.486496</td>\n      <td>...</td>\n      <td>1.428090e+01</td>\n      <td>2.099309e+01</td>\n      <td>3.532637e+01</td>\n      <td>1.845674e-01</td>\n      <td>2.497447e+02</td>\n      <td>2.281093e+02</td>\n      <td>1.745169e+05</td>\n      <td>2.434358e-01</td>\n      <td>3.145508e+00</td>\n      <td>9.764375e+04</td>\n    </tr>\n    <tr>\n      <th>min</th>\n      <td>0.000000e+00</td>\n      <td>1.000000e+00</td>\n      <td>1.000000e+00</td>\n      <td>3.000000e+00</td>\n      <td>0.000000e+00</td>\n      <td>-1.000000e+00</td>\n      <td>-2.147137e+09</td>\n      <td>-2.147454e+09</td>\n      <td>-2.147479e+09</td>\n      <td>-1.000000</td>\n      <td>...</td>\n      <td>0.000000e+00</td>\n      <td>0.000000e+00</td>\n      <td>0.000000e+00</td>\n      <td>3.411759e-02</td>\n      <td>0.000000e+00</td>\n      <td>0.000000e+00</td>\n      <td>1.602547e+09</td>\n      <td>0.000000e+00</td>\n      <td>0.000000e+00</td>\n      <td>0.000000e+00</td>\n    </tr>\n    <tr>\n      <th>25%</th>\n      <td>4.667155e+05</td>\n      <td>4.000000e+00</td>\n      <td>1.000000e+00</td>\n      <td>4.000000e+00</td>\n      <td>0.000000e+00</td>\n      <td>1.200000e+01</td>\n      <td>-9.654318e+08</td>\n      <td>-1.003142e+09</td>\n      <td>-1.022446e+09</td>\n      <td>37.000000</td>\n      <td>...</td>\n      <td>1.000000e+00</td>\n      <td>0.000000e+00</td>\n      <td>6.270266e+00</td>\n      <td>1.131779e-01</td>\n      <td>2.000000e+00</td>\n      <td>2.000000e+00</td>\n      <td>1.602700e+09</td>\n      <td>0.000000e+00</td>\n      <td>8.500000e-02</td>\n      <td>4.000000e+00</td>\n    </tr>\n    <tr>\n      <th>50%</th>\n      <td>9.285535e+05</td>\n      <td>6.000000e+00</td>\n      <td>1.000000e+00</td>\n      <td>2.900000e+01</td>\n      <td>1.000000e+00</td>\n      <td>1.600000e+01</td>\n      <td>2.603107e+08</td>\n      <td>-6.162982e+07</td>\n      <td>-2.862254e+08</td>\n      <td>66.000000</td>\n      <td>...</td>\n      <td>5.864144e+00</td>\n      <td>3.000000e+00</td>\n      <td>1.800000e+01</td>\n      <td>1.859788e-01</td>\n      <td>3.000000e+02</td>\n      <td>2.500000e+02</td>\n      <td>1.602855e+09</td>\n      <td>0.000000e+00</td>\n      <td>3.333878e-01</td>\n      <td>7.500000e+04</td>\n    </tr>\n    <tr>\n      <th>75%</th>\n      <td>1.392882e+06</td>\n      <td>7.000000e+00</td>\n      <td>1.000000e+00</td>\n      <td>7.300000e+01</td>\n      <td>1.000000e+00</td>\n      <td>1.270000e+02</td>\n      <td>1.384186e+09</td>\n      <td>8.233637e+08</td>\n      <td>7.813881e+08</td>\n      <td>85.000000</td>\n      <td>...</td>\n      <td>1.544028e+01</td>\n      <td>1.130546e+01</td>\n      <td>4.212188e+01</td>\n      <td>5.000993e-01</td>\n      <td>3.200000e+02</td>\n      <td>2.800000e+02</td>\n      <td>1.603021e+09</td>\n      <td>0.000000e+00</td>\n      <td>1.013000e+00</td>\n      <td>1.024000e+05</td>\n    </tr>\n    <tr>\n      <th>max</th>\n      <td>1.856872e+06</td>\n      <td>9.000000e+00</td>\n      <td>2.000000e+00</td>\n      <td>1.340000e+02</td>\n      <td>2.000000e+00</td>\n      <td>3.177000e+04</td>\n      <td>2.147366e+09</td>\n      <td>2.147451e+09</td>\n      <td>2.147451e+09</td>\n      <td>100.000000</td>\n      <td>...</td>\n      <td>1.890000e+02</td>\n      <td>3.036156e+02</td>\n      <td>2.505810e+02</td>\n      <td>7.905422e-01</td>\n      <td>1.374000e+03</td>\n      <td>1.286000e+03</td>\n      <td>1.603155e+09</td>\n      <td>1.000000e+00</td>\n      <td>1.000000e+02</td>\n      <td>1.101600e+06</td>\n    </tr>\n  </tbody>\n</table>\n<p>8 rows × 38 columns</p>\n</div>"
     },
     "metadata": {},
     "execution_count": 22
    }
   ],
   "source": [
    "df_cluster_1.describe()"
   ]
  },
  {
   "cell_type": "code",
   "execution_count": 23,
   "metadata": {},
   "outputs": [
    {
     "output_type": "execute_result",
     "data": {
      "text/plain": [
       "         Unnamed: 0    contextid   target_env    rtbtypeid  rtbadvisibility  \\\n",
       "count  6.005000e+03  6005.000000  6005.000000  5988.000000      5988.000000   \n",
       "mean   9.216633e+05     7.374188     1.137552    34.011189         0.739813   \n",
       "std    5.385786e+05     1.842490     0.344458    32.846903         0.794863   \n",
       "min    9.400000e+01     1.000000     1.000000     3.000000         0.000000   \n",
       "25%    4.579450e+05     6.000000     1.000000     4.000000         0.000000   \n",
       "50%    9.183840e+05     8.000000     1.000000    16.000000         1.000000   \n",
       "75%    1.390497e+06     9.000000     1.000000    73.000000         1.000000   \n",
       "max    1.856705e+06     9.000000     2.000000   134.000000         2.000000   \n",
       "\n",
       "       rtb_detectedlanguage      urlhash2      urlhash3      urlhash4  \\\n",
       "count           5988.000000  5.356000e+03  5.356000e+03  5.356000e+03   \n",
       "mean              69.330828  1.356797e+08 -9.248536e+07 -1.410151e+08   \n",
       "std              563.200537  1.259821e+09  1.138648e+09  1.155639e+09   \n",
       "min                1.000000 -2.140960e+09 -2.146561e+09 -2.146412e+09   \n",
       "25%               12.000000 -9.001059e+08 -1.006771e+09 -1.089605e+09   \n",
       "50%               16.000000  3.640997e+08 -6.162982e+07 -2.701107e+08   \n",
       "75%              127.000000  1.384186e+09  7.278802e+08  6.550648e+08   \n",
       "max            30724.000000  2.141561e+09  2.146829e+09  2.144924e+09   \n",
       "\n",
       "       googleviewability  ...  nbdisplaypartnerapprox_1d_sum_xdevice  \\\n",
       "count        1855.000000  ...                            6005.000000   \n",
       "mean           60.781132  ...                              25.198707   \n",
       "std            30.811736  ...                              21.056553   \n",
       "min            -1.000000  ...                               0.000000   \n",
       "25%            41.500000  ...                               6.979398   \n",
       "50%            68.000000  ...                              21.543889   \n",
       "75%            86.000000  ...                              41.000000   \n",
       "max            99.000000  ...                             193.195278   \n",
       "\n",
       "       nbdisplayaffiliateapprox_1d_sum_xdevice  \\\n",
       "count                              6005.000000   \n",
       "mean                                 31.044927   \n",
       "std                                  65.505627   \n",
       "min                                   0.000000   \n",
       "25%                                   2.000000   \n",
       "50%                                  10.179676   \n",
       "75%                                  32.000000   \n",
       "max                                1341.353333   \n",
       "\n",
       "       nbdisplayglobalapprox_1d_sum_xdevice  valueperclick  display_width  \\\n",
       "count                           6005.000000    6005.000000    6005.000000   \n",
       "mean                              82.745036       0.307009     327.961699   \n",
       "std                               99.869488       0.189287     266.523156   \n",
       "min                                0.000000       0.034118       0.000000   \n",
       "25%                               28.000000       0.139050     160.000000   \n",
       "50%                               54.371852       0.245336     300.000000   \n",
       "75%                               98.489537       0.512843     336.000000   \n",
       "max                             1416.062778       0.790542    1280.000000   \n",
       "\n",
       "       display_height  display_timestamp  is_display_clicked  zonecostineuro  \\\n",
       "count     6005.000000       6.005000e+03         6005.000000     6005.000000   \n",
       "mean       242.026978       1.602856e+09            0.073938        1.567122   \n",
       "std        231.326105       1.767911e+05            0.261692        3.778073   \n",
       "min          0.000000       1.602550e+09            0.000000        0.008475   \n",
       "25%         50.000000       1.602698e+09            0.000000        0.118646   \n",
       "50%        250.000000       1.602850e+09            0.000000        0.470166   \n",
       "75%        300.000000       1.603023e+09            0.000000        1.419046   \n",
       "max       1280.000000       1.603149e+09            1.000000       84.459663   \n",
       "\n",
       "       display_size  \n",
       "count  6.005000e+03  \n",
       "mean   8.853621e+04  \n",
       "std    9.751542e+04  \n",
       "min    0.000000e+00  \n",
       "25%    1.600000e+04  \n",
       "50%    7.500000e+04  \n",
       "75%    1.536000e+05  \n",
       "max    1.024000e+06  \n",
       "\n",
       "[8 rows x 38 columns]"
      ],
      "text/html": "<div>\n<style scoped>\n    .dataframe tbody tr th:only-of-type {\n        vertical-align: middle;\n    }\n\n    .dataframe tbody tr th {\n        vertical-align: top;\n    }\n\n    .dataframe thead th {\n        text-align: right;\n    }\n</style>\n<table border=\"1\" class=\"dataframe\">\n  <thead>\n    <tr style=\"text-align: right;\">\n      <th></th>\n      <th>Unnamed: 0</th>\n      <th>contextid</th>\n      <th>target_env</th>\n      <th>rtbtypeid</th>\n      <th>rtbadvisibility</th>\n      <th>rtb_detectedlanguage</th>\n      <th>urlhash2</th>\n      <th>urlhash3</th>\n      <th>urlhash4</th>\n      <th>googleviewability</th>\n      <th>...</th>\n      <th>nbdisplaypartnerapprox_1d_sum_xdevice</th>\n      <th>nbdisplayaffiliateapprox_1d_sum_xdevice</th>\n      <th>nbdisplayglobalapprox_1d_sum_xdevice</th>\n      <th>valueperclick</th>\n      <th>display_width</th>\n      <th>display_height</th>\n      <th>display_timestamp</th>\n      <th>is_display_clicked</th>\n      <th>zonecostineuro</th>\n      <th>display_size</th>\n    </tr>\n  </thead>\n  <tbody>\n    <tr>\n      <th>count</th>\n      <td>6.005000e+03</td>\n      <td>6005.000000</td>\n      <td>6005.000000</td>\n      <td>5988.000000</td>\n      <td>5988.000000</td>\n      <td>5988.000000</td>\n      <td>5.356000e+03</td>\n      <td>5.356000e+03</td>\n      <td>5.356000e+03</td>\n      <td>1855.000000</td>\n      <td>...</td>\n      <td>6005.000000</td>\n      <td>6005.000000</td>\n      <td>6005.000000</td>\n      <td>6005.000000</td>\n      <td>6005.000000</td>\n      <td>6005.000000</td>\n      <td>6.005000e+03</td>\n      <td>6005.000000</td>\n      <td>6005.000000</td>\n      <td>6.005000e+03</td>\n    </tr>\n    <tr>\n      <th>mean</th>\n      <td>9.216633e+05</td>\n      <td>7.374188</td>\n      <td>1.137552</td>\n      <td>34.011189</td>\n      <td>0.739813</td>\n      <td>69.330828</td>\n      <td>1.356797e+08</td>\n      <td>-9.248536e+07</td>\n      <td>-1.410151e+08</td>\n      <td>60.781132</td>\n      <td>...</td>\n      <td>25.198707</td>\n      <td>31.044927</td>\n      <td>82.745036</td>\n      <td>0.307009</td>\n      <td>327.961699</td>\n      <td>242.026978</td>\n      <td>1.602856e+09</td>\n      <td>0.073938</td>\n      <td>1.567122</td>\n      <td>8.853621e+04</td>\n    </tr>\n    <tr>\n      <th>std</th>\n      <td>5.385786e+05</td>\n      <td>1.842490</td>\n      <td>0.344458</td>\n      <td>32.846903</td>\n      <td>0.794863</td>\n      <td>563.200537</td>\n      <td>1.259821e+09</td>\n      <td>1.138648e+09</td>\n      <td>1.155639e+09</td>\n      <td>30.811736</td>\n      <td>...</td>\n      <td>21.056553</td>\n      <td>65.505627</td>\n      <td>99.869488</td>\n      <td>0.189287</td>\n      <td>266.523156</td>\n      <td>231.326105</td>\n      <td>1.767911e+05</td>\n      <td>0.261692</td>\n      <td>3.778073</td>\n      <td>9.751542e+04</td>\n    </tr>\n    <tr>\n      <th>min</th>\n      <td>9.400000e+01</td>\n      <td>1.000000</td>\n      <td>1.000000</td>\n      <td>3.000000</td>\n      <td>0.000000</td>\n      <td>1.000000</td>\n      <td>-2.140960e+09</td>\n      <td>-2.146561e+09</td>\n      <td>-2.146412e+09</td>\n      <td>-1.000000</td>\n      <td>...</td>\n      <td>0.000000</td>\n      <td>0.000000</td>\n      <td>0.000000</td>\n      <td>0.034118</td>\n      <td>0.000000</td>\n      <td>0.000000</td>\n      <td>1.602550e+09</td>\n      <td>0.000000</td>\n      <td>0.008475</td>\n      <td>0.000000e+00</td>\n    </tr>\n    <tr>\n      <th>25%</th>\n      <td>4.579450e+05</td>\n      <td>6.000000</td>\n      <td>1.000000</td>\n      <td>4.000000</td>\n      <td>0.000000</td>\n      <td>12.000000</td>\n      <td>-9.001059e+08</td>\n      <td>-1.006771e+09</td>\n      <td>-1.089605e+09</td>\n      <td>41.500000</td>\n      <td>...</td>\n      <td>6.979398</td>\n      <td>2.000000</td>\n      <td>28.000000</td>\n      <td>0.139050</td>\n      <td>160.000000</td>\n      <td>50.000000</td>\n      <td>1.602698e+09</td>\n      <td>0.000000</td>\n      <td>0.118646</td>\n      <td>1.600000e+04</td>\n    </tr>\n    <tr>\n      <th>50%</th>\n      <td>9.183840e+05</td>\n      <td>8.000000</td>\n      <td>1.000000</td>\n      <td>16.000000</td>\n      <td>1.000000</td>\n      <td>16.000000</td>\n      <td>3.640997e+08</td>\n      <td>-6.162982e+07</td>\n      <td>-2.701107e+08</td>\n      <td>68.000000</td>\n      <td>...</td>\n      <td>21.543889</td>\n      <td>10.179676</td>\n      <td>54.371852</td>\n      <td>0.245336</td>\n      <td>300.000000</td>\n      <td>250.000000</td>\n      <td>1.602850e+09</td>\n      <td>0.000000</td>\n      <td>0.470166</td>\n      <td>7.500000e+04</td>\n    </tr>\n    <tr>\n      <th>75%</th>\n      <td>1.390497e+06</td>\n      <td>9.000000</td>\n      <td>1.000000</td>\n      <td>73.000000</td>\n      <td>1.000000</td>\n      <td>127.000000</td>\n      <td>1.384186e+09</td>\n      <td>7.278802e+08</td>\n      <td>6.550648e+08</td>\n      <td>86.000000</td>\n      <td>...</td>\n      <td>41.000000</td>\n      <td>32.000000</td>\n      <td>98.489537</td>\n      <td>0.512843</td>\n      <td>336.000000</td>\n      <td>300.000000</td>\n      <td>1.603023e+09</td>\n      <td>0.000000</td>\n      <td>1.419046</td>\n      <td>1.536000e+05</td>\n    </tr>\n    <tr>\n      <th>max</th>\n      <td>1.856705e+06</td>\n      <td>9.000000</td>\n      <td>2.000000</td>\n      <td>134.000000</td>\n      <td>2.000000</td>\n      <td>30724.000000</td>\n      <td>2.141561e+09</td>\n      <td>2.146829e+09</td>\n      <td>2.144924e+09</td>\n      <td>99.000000</td>\n      <td>...</td>\n      <td>193.195278</td>\n      <td>1341.353333</td>\n      <td>1416.062778</td>\n      <td>0.790542</td>\n      <td>1280.000000</td>\n      <td>1280.000000</td>\n      <td>1.603149e+09</td>\n      <td>1.000000</td>\n      <td>84.459663</td>\n      <td>1.024000e+06</td>\n    </tr>\n  </tbody>\n</table>\n<p>8 rows × 38 columns</p>\n</div>"
     },
     "metadata": {},
     "execution_count": 23
    }
   ],
   "source": [
    "df_cluster_2.describe()"
   ]
  },
  {
   "cell_type": "code",
   "execution_count": 24,
   "metadata": {},
   "outputs": [
    {
     "output_type": "execute_result",
     "data": {
      "text/plain": [
       "         Unnamed: 0      contextid     target_env      rtbtypeid  \\\n",
       "count  1.717240e+05  171724.000000  171724.000000  171006.000000   \n",
       "mean   9.246655e+05       6.217273       1.089947      36.273692   \n",
       "std    5.355911e+05       1.647041       0.286106      33.283918   \n",
       "min    1.000000e+01       1.000000       1.000000       3.000000   \n",
       "25%    4.595772e+05       6.000000       1.000000       4.000000   \n",
       "50%    9.220810e+05       6.000000       1.000000      29.000000   \n",
       "75%    1.387374e+06       7.000000       1.000000      73.000000   \n",
       "max    1.856869e+06       9.000000       2.000000     134.000000   \n",
       "\n",
       "       rtbadvisibility  rtb_detectedlanguage      urlhash2      urlhash3  \\\n",
       "count    171006.000000         171006.000000  1.545350e+05  1.545350e+05   \n",
       "mean          0.717647             95.766312  9.122278e+07 -6.187909e+07   \n",
       "std           0.810803           1015.665626  1.265114e+09  1.160608e+09   \n",
       "min           0.000000             -1.000000 -2.147479e+09 -2.147278e+09   \n",
       "25%           0.000000             12.000000 -1.015546e+09 -9.653825e+08   \n",
       "50%           0.000000             16.000000  2.292188e+08 -6.162982e+07   \n",
       "75%           1.000000            127.000000  1.384186e+09  8.401876e+08   \n",
       "max           2.000000          31770.000000  2.146981e+09  2.147417e+09   \n",
       "\n",
       "           urlhash4  googleviewability  ...  \\\n",
       "count  1.545350e+05       53237.000000  ...   \n",
       "mean  -1.034572e+08          58.497849  ...   \n",
       "std    1.174688e+09          31.248834  ...   \n",
       "min   -2.147319e+09          -1.000000  ...   \n",
       "25%   -1.009380e+09          34.000000  ...   \n",
       "50%   -2.820157e+08          66.000000  ...   \n",
       "75%    7.830828e+08          85.000000  ...   \n",
       "max    2.147359e+09         100.000000  ...   \n",
       "\n",
       "       nbdisplaypartnerapprox_1d_sum_xdevice  \\\n",
       "count                          171724.000000   \n",
       "mean                                9.113251   \n",
       "std                                12.553802   \n",
       "min                                 0.000000   \n",
       "25%                                 1.000000   \n",
       "50%                                 4.000000   \n",
       "75%                                12.000000   \n",
       "max                               174.481250   \n",
       "\n",
       "       nbdisplayaffiliateapprox_1d_sum_xdevice  \\\n",
       "count                            171724.000000   \n",
       "mean                                 12.982262   \n",
       "std                                  28.416230   \n",
       "min                                   0.000000   \n",
       "25%                                   0.000000   \n",
       "50%                                   3.000000   \n",
       "75%                                  12.000000   \n",
       "max                                 716.947917   \n",
       "\n",
       "       nbdisplayglobalapprox_1d_sum_xdevice  valueperclick  display_width  \\\n",
       "count                         171724.000000  171724.000000  171724.000000   \n",
       "mean                              32.625727       0.224353     290.448342   \n",
       "std                               44.880125       0.175795     255.211043   \n",
       "min                                0.000000       0.034118       0.000000   \n",
       "25%                                6.000000       0.087429       0.000000   \n",
       "50%                               16.559676       0.144372     300.000000   \n",
       "75%                               40.576736       0.299222     320.000000   \n",
       "max                              734.793750       0.790542    1280.000000   \n",
       "\n",
       "       display_height  display_timestamp  is_display_clicked  zonecostineuro  \\\n",
       "count   171724.000000       1.717240e+05       171724.000000   171724.000000   \n",
       "mean       219.232099       1.602858e+09            0.039727        0.739145   \n",
       "std        225.136794       1.755761e+05            0.195317        1.898668   \n",
       "min          0.000000       1.602547e+09            0.000000        0.000000   \n",
       "25%          0.000000       1.602700e+09            0.000000        0.051818   \n",
       "50%        250.000000       1.602858e+09            0.000000        0.218000   \n",
       "75%        280.000000       1.603023e+09            0.000000        0.661073   \n",
       "max       1280.000000       1.603154e+09            1.000000      100.000000   \n",
       "\n",
       "       display_size  \n",
       "count  1.717240e+05  \n",
       "mean   7.997536e+04  \n",
       "std    9.725414e+04  \n",
       "min    0.000000e+00  \n",
       "25%    0.000000e+00  \n",
       "50%    7.500000e+04  \n",
       "75%    9.600000e+04  \n",
       "max    1.024000e+06  \n",
       "\n",
       "[8 rows x 38 columns]"
      ],
      "text/html": "<div>\n<style scoped>\n    .dataframe tbody tr th:only-of-type {\n        vertical-align: middle;\n    }\n\n    .dataframe tbody tr th {\n        vertical-align: top;\n    }\n\n    .dataframe thead th {\n        text-align: right;\n    }\n</style>\n<table border=\"1\" class=\"dataframe\">\n  <thead>\n    <tr style=\"text-align: right;\">\n      <th></th>\n      <th>Unnamed: 0</th>\n      <th>contextid</th>\n      <th>target_env</th>\n      <th>rtbtypeid</th>\n      <th>rtbadvisibility</th>\n      <th>rtb_detectedlanguage</th>\n      <th>urlhash2</th>\n      <th>urlhash3</th>\n      <th>urlhash4</th>\n      <th>googleviewability</th>\n      <th>...</th>\n      <th>nbdisplaypartnerapprox_1d_sum_xdevice</th>\n      <th>nbdisplayaffiliateapprox_1d_sum_xdevice</th>\n      <th>nbdisplayglobalapprox_1d_sum_xdevice</th>\n      <th>valueperclick</th>\n      <th>display_width</th>\n      <th>display_height</th>\n      <th>display_timestamp</th>\n      <th>is_display_clicked</th>\n      <th>zonecostineuro</th>\n      <th>display_size</th>\n    </tr>\n  </thead>\n  <tbody>\n    <tr>\n      <th>count</th>\n      <td>1.717240e+05</td>\n      <td>171724.000000</td>\n      <td>171724.000000</td>\n      <td>171006.000000</td>\n      <td>171006.000000</td>\n      <td>171006.000000</td>\n      <td>1.545350e+05</td>\n      <td>1.545350e+05</td>\n      <td>1.545350e+05</td>\n      <td>53237.000000</td>\n      <td>...</td>\n      <td>171724.000000</td>\n      <td>171724.000000</td>\n      <td>171724.000000</td>\n      <td>171724.000000</td>\n      <td>171724.000000</td>\n      <td>171724.000000</td>\n      <td>1.717240e+05</td>\n      <td>171724.000000</td>\n      <td>171724.000000</td>\n      <td>1.717240e+05</td>\n    </tr>\n    <tr>\n      <th>mean</th>\n      <td>9.246655e+05</td>\n      <td>6.217273</td>\n      <td>1.089947</td>\n      <td>36.273692</td>\n      <td>0.717647</td>\n      <td>95.766312</td>\n      <td>9.122278e+07</td>\n      <td>-6.187909e+07</td>\n      <td>-1.034572e+08</td>\n      <td>58.497849</td>\n      <td>...</td>\n      <td>9.113251</td>\n      <td>12.982262</td>\n      <td>32.625727</td>\n      <td>0.224353</td>\n      <td>290.448342</td>\n      <td>219.232099</td>\n      <td>1.602858e+09</td>\n      <td>0.039727</td>\n      <td>0.739145</td>\n      <td>7.997536e+04</td>\n    </tr>\n    <tr>\n      <th>std</th>\n      <td>5.355911e+05</td>\n      <td>1.647041</td>\n      <td>0.286106</td>\n      <td>33.283918</td>\n      <td>0.810803</td>\n      <td>1015.665626</td>\n      <td>1.265114e+09</td>\n      <td>1.160608e+09</td>\n      <td>1.174688e+09</td>\n      <td>31.248834</td>\n      <td>...</td>\n      <td>12.553802</td>\n      <td>28.416230</td>\n      <td>44.880125</td>\n      <td>0.175795</td>\n      <td>255.211043</td>\n      <td>225.136794</td>\n      <td>1.755761e+05</td>\n      <td>0.195317</td>\n      <td>1.898668</td>\n      <td>9.725414e+04</td>\n    </tr>\n    <tr>\n      <th>min</th>\n      <td>1.000000e+01</td>\n      <td>1.000000</td>\n      <td>1.000000</td>\n      <td>3.000000</td>\n      <td>0.000000</td>\n      <td>-1.000000</td>\n      <td>-2.147479e+09</td>\n      <td>-2.147278e+09</td>\n      <td>-2.147319e+09</td>\n      <td>-1.000000</td>\n      <td>...</td>\n      <td>0.000000</td>\n      <td>0.000000</td>\n      <td>0.000000</td>\n      <td>0.034118</td>\n      <td>0.000000</td>\n      <td>0.000000</td>\n      <td>1.602547e+09</td>\n      <td>0.000000</td>\n      <td>0.000000</td>\n      <td>0.000000e+00</td>\n    </tr>\n    <tr>\n      <th>25%</th>\n      <td>4.595772e+05</td>\n      <td>6.000000</td>\n      <td>1.000000</td>\n      <td>4.000000</td>\n      <td>0.000000</td>\n      <td>12.000000</td>\n      <td>-1.015546e+09</td>\n      <td>-9.653825e+08</td>\n      <td>-1.009380e+09</td>\n      <td>34.000000</td>\n      <td>...</td>\n      <td>1.000000</td>\n      <td>0.000000</td>\n      <td>6.000000</td>\n      <td>0.087429</td>\n      <td>0.000000</td>\n      <td>0.000000</td>\n      <td>1.602700e+09</td>\n      <td>0.000000</td>\n      <td>0.051818</td>\n      <td>0.000000e+00</td>\n    </tr>\n    <tr>\n      <th>50%</th>\n      <td>9.220810e+05</td>\n      <td>6.000000</td>\n      <td>1.000000</td>\n      <td>29.000000</td>\n      <td>0.000000</td>\n      <td>16.000000</td>\n      <td>2.292188e+08</td>\n      <td>-6.162982e+07</td>\n      <td>-2.820157e+08</td>\n      <td>66.000000</td>\n      <td>...</td>\n      <td>4.000000</td>\n      <td>3.000000</td>\n      <td>16.559676</td>\n      <td>0.144372</td>\n      <td>300.000000</td>\n      <td>250.000000</td>\n      <td>1.602858e+09</td>\n      <td>0.000000</td>\n      <td>0.218000</td>\n      <td>7.500000e+04</td>\n    </tr>\n    <tr>\n      <th>75%</th>\n      <td>1.387374e+06</td>\n      <td>7.000000</td>\n      <td>1.000000</td>\n      <td>73.000000</td>\n      <td>1.000000</td>\n      <td>127.000000</td>\n      <td>1.384186e+09</td>\n      <td>8.401876e+08</td>\n      <td>7.830828e+08</td>\n      <td>85.000000</td>\n      <td>...</td>\n      <td>12.000000</td>\n      <td>12.000000</td>\n      <td>40.576736</td>\n      <td>0.299222</td>\n      <td>320.000000</td>\n      <td>280.000000</td>\n      <td>1.603023e+09</td>\n      <td>0.000000</td>\n      <td>0.661073</td>\n      <td>9.600000e+04</td>\n    </tr>\n    <tr>\n      <th>max</th>\n      <td>1.856869e+06</td>\n      <td>9.000000</td>\n      <td>2.000000</td>\n      <td>134.000000</td>\n      <td>2.000000</td>\n      <td>31770.000000</td>\n      <td>2.146981e+09</td>\n      <td>2.147417e+09</td>\n      <td>2.147359e+09</td>\n      <td>100.000000</td>\n      <td>...</td>\n      <td>174.481250</td>\n      <td>716.947917</td>\n      <td>734.793750</td>\n      <td>0.790542</td>\n      <td>1280.000000</td>\n      <td>1280.000000</td>\n      <td>1.603154e+09</td>\n      <td>1.000000</td>\n      <td>100.000000</td>\n      <td>1.024000e+06</td>\n    </tr>\n  </tbody>\n</table>\n<p>8 rows × 38 columns</p>\n</div>"
     },
     "metadata": {},
     "execution_count": 24
    }
   ],
   "source": [
    "df_cluster_3.describe()"
   ]
  },
  {
   "cell_type": "code",
   "execution_count": 25,
   "metadata": {},
   "outputs": [
    {
     "output_type": "execute_result",
     "data": {
      "text/plain": [
       "         Unnamed: 0      contextid     target_env     rtbtypeid  \\\n",
       "count  2.182350e+05  218235.000000  218235.000000  217082.00000   \n",
       "mean   9.321890e+05       6.048443       1.072756      37.08740   \n",
       "std    5.374817e+05       2.453060       0.259737      33.75389   \n",
       "min    3.000000e+00       1.000000       1.000000       3.00000   \n",
       "25%    4.666530e+05       6.000000       1.000000       4.00000   \n",
       "50%    9.369130e+05       6.000000       1.000000      29.00000   \n",
       "75%    1.397196e+06       8.000000       1.000000      73.00000   \n",
       "max    1.856864e+06       9.000000       2.000000     134.00000   \n",
       "\n",
       "       rtbadvisibility  rtb_detectedlanguage      urlhash2      urlhash3  \\\n",
       "count    217082.000000         217082.000000  1.895640e+05  1.895640e+05   \n",
       "mean          0.732064             94.816503  1.113809e+08 -1.778726e+08   \n",
       "std           0.791542           1046.916814  1.215893e+09  1.124596e+09   \n",
       "min           0.000000             -1.000000 -2.145916e+09 -2.147307e+09   \n",
       "25%           0.000000             12.000000 -8.462803e+08 -1.089605e+09   \n",
       "50%           1.000000             12.000000  3.640997e+08 -2.180814e+08   \n",
       "75%           1.000000            127.000000  1.335917e+09  6.404254e+08   \n",
       "max           2.000000          31770.000000  2.146395e+09  2.147353e+09   \n",
       "\n",
       "           urlhash4  googleviewability  ...  \\\n",
       "count  1.895640e+05       59216.000000  ...   \n",
       "mean  -1.883800e+08          59.528759  ...   \n",
       "std    1.153969e+09          34.500599  ...   \n",
       "min   -2.147255e+09          -1.000000  ...   \n",
       "25%   -1.089605e+09          30.000000  ...   \n",
       "50%   -5.237546e+08          68.000000  ...   \n",
       "75%    6.397927e+08          91.000000  ...   \n",
       "max    2.147353e+09         100.000000  ...   \n",
       "\n",
       "       nbdisplaypartnerapprox_1d_sum_xdevice  \\\n",
       "count                          218235.000000   \n",
       "mean                               35.948418   \n",
       "std                                20.215833   \n",
       "min                                 0.000000   \n",
       "25%                                22.000000   \n",
       "50%                                35.000000   \n",
       "75%                                49.023519   \n",
       "max                               460.277870   \n",
       "\n",
       "       nbdisplayaffiliateapprox_1d_sum_xdevice  \\\n",
       "count                            218235.000000   \n",
       "mean                                 59.626699   \n",
       "std                                  89.078501   \n",
       "min                                   0.000000   \n",
       "25%                                  11.000000   \n",
       "50%                                  28.414352   \n",
       "75%                                  67.000000   \n",
       "max                                2269.557407   \n",
       "\n",
       "       nbdisplayglobalapprox_1d_sum_xdevice  valueperclick  display_width  \\\n",
       "count                         218235.000000  218235.000000  218235.000000   \n",
       "mean                             128.330583       0.313647     363.708369   \n",
       "std                              125.753298       0.189133     277.856972   \n",
       "min                               13.000000       0.034118       0.000000   \n",
       "25%                               47.987940       0.136647     300.000000   \n",
       "50%                               83.436574       0.269752     300.000000   \n",
       "75%                              169.923750       0.512843     360.000000   \n",
       "max                             3953.888889       0.790542    1280.000000   \n",
       "\n",
       "       display_height  display_timestamp  is_display_clicked  zonecostineuro  \\\n",
       "count   218235.000000       2.182350e+05       218235.000000   218235.000000   \n",
       "mean       251.435228       1.602853e+09            0.035059        0.940507   \n",
       "std        234.957654       1.775439e+05            0.183928        2.544857   \n",
       "min          0.000000       1.602547e+09            0.000000        0.000000   \n",
       "25%         50.000000       1.602694e+09            0.000000        0.050000   \n",
       "50%        250.000000       1.602849e+09            0.000000        0.258000   \n",
       "75%        480.000000       1.603021e+09            0.000000        0.830579   \n",
       "max       1286.000000       1.603152e+09            1.000000      100.000000   \n",
       "\n",
       "       display_size  \n",
       "count  2.182350e+05  \n",
       "mean   9.208258e+04  \n",
       "std    9.393635e+04  \n",
       "min    0.000000e+00  \n",
       "25%    1.600000e+04  \n",
       "50%    7.500000e+04  \n",
       "75%    1.800000e+05  \n",
       "max    1.028800e+06  \n",
       "\n",
       "[8 rows x 38 columns]"
      ],
      "text/html": "<div>\n<style scoped>\n    .dataframe tbody tr th:only-of-type {\n        vertical-align: middle;\n    }\n\n    .dataframe tbody tr th {\n        vertical-align: top;\n    }\n\n    .dataframe thead th {\n        text-align: right;\n    }\n</style>\n<table border=\"1\" class=\"dataframe\">\n  <thead>\n    <tr style=\"text-align: right;\">\n      <th></th>\n      <th>Unnamed: 0</th>\n      <th>contextid</th>\n      <th>target_env</th>\n      <th>rtbtypeid</th>\n      <th>rtbadvisibility</th>\n      <th>rtb_detectedlanguage</th>\n      <th>urlhash2</th>\n      <th>urlhash3</th>\n      <th>urlhash4</th>\n      <th>googleviewability</th>\n      <th>...</th>\n      <th>nbdisplaypartnerapprox_1d_sum_xdevice</th>\n      <th>nbdisplayaffiliateapprox_1d_sum_xdevice</th>\n      <th>nbdisplayglobalapprox_1d_sum_xdevice</th>\n      <th>valueperclick</th>\n      <th>display_width</th>\n      <th>display_height</th>\n      <th>display_timestamp</th>\n      <th>is_display_clicked</th>\n      <th>zonecostineuro</th>\n      <th>display_size</th>\n    </tr>\n  </thead>\n  <tbody>\n    <tr>\n      <th>count</th>\n      <td>2.182350e+05</td>\n      <td>218235.000000</td>\n      <td>218235.000000</td>\n      <td>217082.00000</td>\n      <td>217082.000000</td>\n      <td>217082.000000</td>\n      <td>1.895640e+05</td>\n      <td>1.895640e+05</td>\n      <td>1.895640e+05</td>\n      <td>59216.000000</td>\n      <td>...</td>\n      <td>218235.000000</td>\n      <td>218235.000000</td>\n      <td>218235.000000</td>\n      <td>218235.000000</td>\n      <td>218235.000000</td>\n      <td>218235.000000</td>\n      <td>2.182350e+05</td>\n      <td>218235.000000</td>\n      <td>218235.000000</td>\n      <td>2.182350e+05</td>\n    </tr>\n    <tr>\n      <th>mean</th>\n      <td>9.321890e+05</td>\n      <td>6.048443</td>\n      <td>1.072756</td>\n      <td>37.08740</td>\n      <td>0.732064</td>\n      <td>94.816503</td>\n      <td>1.113809e+08</td>\n      <td>-1.778726e+08</td>\n      <td>-1.883800e+08</td>\n      <td>59.528759</td>\n      <td>...</td>\n      <td>35.948418</td>\n      <td>59.626699</td>\n      <td>128.330583</td>\n      <td>0.313647</td>\n      <td>363.708369</td>\n      <td>251.435228</td>\n      <td>1.602853e+09</td>\n      <td>0.035059</td>\n      <td>0.940507</td>\n      <td>9.208258e+04</td>\n    </tr>\n    <tr>\n      <th>std</th>\n      <td>5.374817e+05</td>\n      <td>2.453060</td>\n      <td>0.259737</td>\n      <td>33.75389</td>\n      <td>0.791542</td>\n      <td>1046.916814</td>\n      <td>1.215893e+09</td>\n      <td>1.124596e+09</td>\n      <td>1.153969e+09</td>\n      <td>34.500599</td>\n      <td>...</td>\n      <td>20.215833</td>\n      <td>89.078501</td>\n      <td>125.753298</td>\n      <td>0.189133</td>\n      <td>277.856972</td>\n      <td>234.957654</td>\n      <td>1.775439e+05</td>\n      <td>0.183928</td>\n      <td>2.544857</td>\n      <td>9.393635e+04</td>\n    </tr>\n    <tr>\n      <th>min</th>\n      <td>3.000000e+00</td>\n      <td>1.000000</td>\n      <td>1.000000</td>\n      <td>3.00000</td>\n      <td>0.000000</td>\n      <td>-1.000000</td>\n      <td>-2.145916e+09</td>\n      <td>-2.147307e+09</td>\n      <td>-2.147255e+09</td>\n      <td>-1.000000</td>\n      <td>...</td>\n      <td>0.000000</td>\n      <td>0.000000</td>\n      <td>13.000000</td>\n      <td>0.034118</td>\n      <td>0.000000</td>\n      <td>0.000000</td>\n      <td>1.602547e+09</td>\n      <td>0.000000</td>\n      <td>0.000000</td>\n      <td>0.000000e+00</td>\n    </tr>\n    <tr>\n      <th>25%</th>\n      <td>4.666530e+05</td>\n      <td>6.000000</td>\n      <td>1.000000</td>\n      <td>4.00000</td>\n      <td>0.000000</td>\n      <td>12.000000</td>\n      <td>-8.462803e+08</td>\n      <td>-1.089605e+09</td>\n      <td>-1.089605e+09</td>\n      <td>30.000000</td>\n      <td>...</td>\n      <td>22.000000</td>\n      <td>11.000000</td>\n      <td>47.987940</td>\n      <td>0.136647</td>\n      <td>300.000000</td>\n      <td>50.000000</td>\n      <td>1.602694e+09</td>\n      <td>0.000000</td>\n      <td>0.050000</td>\n      <td>1.600000e+04</td>\n    </tr>\n    <tr>\n      <th>50%</th>\n      <td>9.369130e+05</td>\n      <td>6.000000</td>\n      <td>1.000000</td>\n      <td>29.00000</td>\n      <td>1.000000</td>\n      <td>12.000000</td>\n      <td>3.640997e+08</td>\n      <td>-2.180814e+08</td>\n      <td>-5.237546e+08</td>\n      <td>68.000000</td>\n      <td>...</td>\n      <td>35.000000</td>\n      <td>28.414352</td>\n      <td>83.436574</td>\n      <td>0.269752</td>\n      <td>300.000000</td>\n      <td>250.000000</td>\n      <td>1.602849e+09</td>\n      <td>0.000000</td>\n      <td>0.258000</td>\n      <td>7.500000e+04</td>\n    </tr>\n    <tr>\n      <th>75%</th>\n      <td>1.397196e+06</td>\n      <td>8.000000</td>\n      <td>1.000000</td>\n      <td>73.00000</td>\n      <td>1.000000</td>\n      <td>127.000000</td>\n      <td>1.335917e+09</td>\n      <td>6.404254e+08</td>\n      <td>6.397927e+08</td>\n      <td>91.000000</td>\n      <td>...</td>\n      <td>49.023519</td>\n      <td>67.000000</td>\n      <td>169.923750</td>\n      <td>0.512843</td>\n      <td>360.000000</td>\n      <td>480.000000</td>\n      <td>1.603021e+09</td>\n      <td>0.000000</td>\n      <td>0.830579</td>\n      <td>1.800000e+05</td>\n    </tr>\n    <tr>\n      <th>max</th>\n      <td>1.856864e+06</td>\n      <td>9.000000</td>\n      <td>2.000000</td>\n      <td>134.00000</td>\n      <td>2.000000</td>\n      <td>31770.000000</td>\n      <td>2.146395e+09</td>\n      <td>2.147353e+09</td>\n      <td>2.147353e+09</td>\n      <td>100.000000</td>\n      <td>...</td>\n      <td>460.277870</td>\n      <td>2269.557407</td>\n      <td>3953.888889</td>\n      <td>0.790542</td>\n      <td>1280.000000</td>\n      <td>1286.000000</td>\n      <td>1.603152e+09</td>\n      <td>1.000000</td>\n      <td>100.000000</td>\n      <td>1.028800e+06</td>\n    </tr>\n  </tbody>\n</table>\n<p>8 rows × 38 columns</p>\n</div>"
     },
     "metadata": {},
     "execution_count": 25
    }
   ],
   "source": [
    "df_cluster_4.describe()"
   ]
  }
 ]
}