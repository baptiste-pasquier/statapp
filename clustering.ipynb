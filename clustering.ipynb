{
 "metadata": {
  "language_info": {
   "codemirror_mode": {
    "name": "ipython",
    "version": 3
   },
   "file_extension": ".py",
   "mimetype": "text/x-python",
   "name": "python",
   "nbconvert_exporter": "python",
   "pygments_lexer": "ipython3",
   "version": "3.7.3-final"
  },
  "orig_nbformat": 2,
  "kernelspec": {
   "name": "python3",
   "display_name": "Python 3"
  }
 },
 "nbformat": 4,
 "nbformat_minor": 2,
 "cells": [
  {
   "cell_type": "code",
   "execution_count": 1,
   "metadata": {},
   "outputs": [],
   "source": [
    "\n",
    "import pandas as pd\n",
    "import numpy as np\n",
    "import seaborn as sns\n",
    "import matplotlib.pyplot as plt\n",
    "import sklearn\n",
    "from sklearn.preprocessing import StandardScaler\n",
    "from sklearn.decomposition import PCA\n",
    "from sklearn.cluster import KMeans\n",
    "from sklearn.metrics import silhouette_score \n",
    "# On importe la métrique \"silhouette\" qui nous servira à déterminer le nombre de clusters optimal.\n",
    "\n",
    "%config InlineBackend.figure_format = 'png'"
   ]
  },
  {
   "cell_type": "code",
   "execution_count": 2,
   "metadata": {},
   "outputs": [],
   "source": [
    "df = pd.read_csv('data/df_train.csv')"
   ]
  },
  {
   "cell_type": "code",
   "execution_count": 3,
   "metadata": {},
   "outputs": [
    {
     "output_type": "execute_result",
     "data": {
      "text/plain": [
       "1855314"
      ]
     },
     "metadata": {},
     "execution_count": 3
    }
   ],
   "source": [
    "len(df)"
   ]
  },
  {
   "cell_type": "code",
   "execution_count": 4,
   "metadata": {},
   "outputs": [],
   "source": [
    "# Recodage de certaines modalités afin de réordonner par ordre croissant d'engagement\n",
    "df[\"contextid\"] = df[\"contextid\"].replace(0,1)\n",
    "df[\"contextid\"] = df[\"contextid\"].replace(10,3)\n",
    "\n",
    "# Remplacement des valeurs manquantes par des 0 dans les variables commençant par ltf\n",
    "df['ltf_lastpartnerclicktimestamp'] = df['ltf_lastpartnerclicktimestamp'].fillna(0)\n",
    "df['ltf_nbglobalclick_4w'] = df['ltf_nbglobalclick_4w'].fillna(0)\n",
    "df['ltf_nbglobaldisplay_4w'] = df['ltf_nbglobaldisplay_4w'].fillna(0)\n",
    "df['ltf_nbglobaldisplaysincelastpartnerproductview'] = df['ltf_nbglobaldisplaysincelastpartnerproductview'].fillna(0)\n",
    "df['ltf_nbpartnerdisplayssincelastclick'] = df['ltf_nbpartnerdisplayssincelastclick'].fillna(0)\n",
    "df['ltf_nbpartnerclick_4w'] = df['ltf_nbpartnerclick_4w'].fillna(0)\n",
    "df['ltf_nbpartnerdisplay_4w'] = df['ltf_nbpartnerdisplay_4w'].fillna(0)\n",
    "df['ltf_nbpartnersales_4w'] = df['ltf_nbpartnersales_4w'].fillna(0)\n",
    "df['ltf_nbpartnerdisplay_90d'] = df['ltf_nbpartnerdisplay_90d'].fillna(0)\n",
    "df['ltf_nbpartnerclick_90d'] = df['ltf_nbpartnerclick_90d'].fillna(0)\n",
    "df['ltf_nbpartnersales_90d'] = df['ltf_nbpartnersales_90d'].fillna(0)\n",
    "# Idem ici\n",
    "df['nbdisplay_1hour'] = df['nbdisplay_1hour'].fillna(0)\n",
    "df['nbdisplaypartnerapprox_1d_sum_xdevice'] = df['nbdisplaypartnerapprox_1d_sum_xdevice'].fillna(0)\n",
    "df['nbdisplayaffiliateapprox_1d_sum_xdevice'] = df['nbdisplayaffiliateapprox_1d_sum_xdevice'].fillna(0)\n",
    "df['nbdisplayglobalapprox_1d_sum_xdevice'] = df['nbdisplayglobalapprox_1d_sum_xdevice'].fillna(0)\t\n",
    "df['campaignctrlast24h'] = df['campaignctrlast24h'].fillna(0)"
   ]
  },
  {
   "cell_type": "code",
   "execution_count": 5,
   "metadata": {},
   "outputs": [],
   "source": [
    "# Suppression de l'appareil cliquant un nombre aberrant de fois\n",
    "df.drop(df.index[df['hashed_xd_id'] == r\"b'\\x12\\xb97|\\xbe~\\\\\\x94\\xe8\\xa7\\r\\x9d#\\x92\\x95#\\xd1J\\xfa\\x95G\\x93\\x13\\x0f\\x8a9Y\\xc7\\xb8I\\xac\\xa8'\"], inplace = True)"
   ]
  },
  {
   "cell_type": "code",
   "execution_count": 6,
   "metadata": {},
   "outputs": [],
   "source": [
    "df['display_size'] = df['display_width']*df['display_height']"
   ]
  },
  {
   "cell_type": "code",
   "execution_count": 7,
   "metadata": {},
   "outputs": [],
   "source": [
    "# On enlève des variables ltf grâce aux corrélations visibles dans la matrice. \n",
    "df_clusters = df[['contextid','dayssincelastvisitdouble','campaignctrlast24h','nbdisplay_1hour','nbdayssincelastclick','display_size','ltf_nbpartnerdisplayssincelastclick','ltf_nbglobaldisplay_4w','ltf_nbpartnerclick_90d','ltf_nbpartnerdisplay_90d','ltf_nbpartnersales_90d','nbdisplayglobalapprox_1d_sum_xdevice']]"
   ]
  },
  {
   "cell_type": "code",
   "execution_count": 8,
   "metadata": {},
   "outputs": [
    {
     "output_type": "execute_result",
     "data": {
      "text/plain": [
       "array([[ 0.14873565, -0.40809959, -0.8906595 , ..., -0.07290974,\n",
       "        -0.01397608, -0.32103262],\n",
       "       [-1.92104218, -0.44867976, -0.360678  , ..., -0.07290974,\n",
       "        -0.01397608,  0.8070464 ],\n",
       "       [ 0.14873565, -0.33748309,  1.82717896, ..., -0.07290974,\n",
       "        -0.01397608, -0.5009203 ],\n",
       "       ...,\n",
       "       [ 0.97664678, -0.36785013, -0.92834265, ..., -0.07290974,\n",
       "        -0.01397608, -0.51352702],\n",
       "       [ 1.39060235, -0.4168148 ,  2.20278178, ..., -0.07290974,\n",
       "        -0.01397608, -0.34134216],\n",
       "       [ 0.14873565, -0.1664472 , -0.50158415, ..., -0.07290974,\n",
       "        -0.01397608, -0.45594838]])"
      ]
     },
     "metadata": {},
     "execution_count": 8
    }
   ],
   "source": [
    "# On va chercher à obtenir des groupes d'observations de caractéristiques proches afin de voir si l'on peut distinguer les clics des non-clics. \n",
    "sc = StandardScaler()\n",
    "Z = sc.fit_transform(df_clusters)\n",
    "Z"
   ]
  },
  {
   "cell_type": "code",
   "execution_count": 9,
   "metadata": {},
   "outputs": [
    {
     "output_type": "stream",
     "name": "stdout",
     "text": [
      "[-4.69520271e-17  2.45057639e-16 -5.90496082e-17 -2.05773590e-17\n -9.95337090e-18  1.23711223e-17  1.66154232e-17 -1.56712648e-17\n  9.90263342e-18  4.87962244e-18 -2.46683444e-18 -3.14861388e-16]\n[1. 1. 1. 1. 1. 1. 1. 1. 1. 1. 1. 1.]\n"
     ]
    }
   ],
   "source": [
    "# Vérification que les moyennes sont nulles et les écarts-types unitaires. \n",
    "print(np.mean(Z, axis=0))\n",
    "print(np.std(Z, axis=0, ddof=0))"
   ]
  },
  {
   "cell_type": "code",
   "execution_count": 10,
   "metadata": {},
   "outputs": [
    {
     "output_type": "stream",
     "name": "stdout",
     "text": [
      "         Observation  Cluster\n0                  0        0\n1            1236366        0\n2            1236364        0\n3            1236363        0\n4            1236362        0\n5            1236360        0\n6            1236359        0\n7            1236358        0\n8            1236357        0\n9            1236356        0\n10           1236368        0\n11           1236355        0\n12           1236352        0\n13           1236350        0\n14           1236349        0\n15           1236347        0\n16           1236346        0\n17           1236345        0\n18           1236344        0\n19           1236343        0\n20           1236342        0\n21           1236354        0\n22           1236369        0\n23           1236370        0\n24           1236371        0\n25           1236392        0\n26           1236391        0\n27           1236390        0\n28           1236389        0\n29           1236388        0\n...              ...      ...\n1610464      1122020        1\n1610465      1183640        1\n1610466       917548        1\n1610467       168531        1\n1610468       965468        1\n1610469       644228        1\n1610470      1760130        1\n1610471      1554777        1\n1610472       832310        1\n1610473        95491        1\n1610474       302485        1\n1610475       965486        1\n1610476      1672436        1\n1610477      1441824        1\n1610478       198265        1\n1610479       273932        1\n1610480      1398697        1\n1610481       800240        1\n1610482      1093029        1\n1610483       817535        1\n1610484      1183656        1\n1610485      1672425        1\n1610486       441847        1\n1610487       718501        1\n1610488       773496        1\n1610489      1321770        1\n1610490       327417        1\n1610491      1441821        1\n1610492       315064        1\n1610493       959039        1\n\n[1610494 rows x 2 columns]\n"
     ]
    }
   ],
   "source": [
    "# On applique la méthode des k-means sur les variables centrées et réduites, en supposant pour l'instant par défaut qu'il existe 2 clusters.\n",
    "kmeans = KMeans(n_clusters=2, random_state=146355806) \n",
    "# random_state est la graine aléatoire specifiée pour rendre les résultats reproductibles.\n",
    "kmeans.fit(Z)\n",
    "\n",
    "# On trie les index en fonction des différents groupes de députés (ie des clusters).\n",
    "idk = np.argsort(kmeans.labels_)\n",
    "\n",
    "# Affichage des observations et de leurs groupes.\n",
    "print(pd.DataFrame({\"Observation\" : df_clusters.index[idk], \"Cluster\" : kmeans.labels_[idk]}))"
   ]
  },
  {
   "cell_type": "code",
   "execution_count": 11,
   "metadata": {},
   "outputs": [
    {
     "output_type": "stream",
     "name": "stdout",
     "text": [
      "1604453\n6041\n"
     ]
    }
   ],
   "source": [
    "nb_clusters = kmeans.labels_.tolist()\n",
    "print(nb_clusters.count(0)) # Comptage du nombre de députés dans le cluster 1.\n",
    "print(nb_clusters.count(1)) # Comptage du nombre de députés dans le cluster 2."
   ]
  },
  {
   "source": [
    "Le découpage en deux clusters ne nous permettra pas de discriminer les clics des non-clics ; le deuxième cluster est en effet trop petit. \n",
    "Essayons avec 3 clusters. "
   ],
   "cell_type": "markdown",
   "metadata": {}
  },
  {
   "cell_type": "code",
   "execution_count": 12,
   "metadata": {},
   "outputs": [],
   "source": [
    "# On va faire varier le nombre de clusters dans un intervalle réaliste, disons de 2 à 10.\n",
    "# res = np.arange(9, dtype=\"double\")\n",
    "# for k in np.arange(9):\n",
    "    # km = KMeans(n_clusters=k+2)\n",
    "    # km.fit(Z)\n",
    "    # res[k] = silhouette_score(Z, km.labels_)\n",
    "# print(res)"
   ]
  },
  {
   "cell_type": "code",
   "execution_count": 13,
   "metadata": {},
   "outputs": [],
   "source": [
    "# plt.figure(figsize=(8,4))\n",
    "# plt.plot(np.arange(2,11,1), res)\n",
    "# plt.title(\"Coefficient de silhouette moyen en fonction du nombre de clusters\", size=16)\n",
    "# plt.xlabel(\"Nombre de clusters\", size=10)\n",
    "# plt.ylabel(\"Score de silhouette moyen\", size=10)\n",
    "# plt.show()"
   ]
  },
  {
   "cell_type": "code",
   "execution_count": 14,
   "metadata": {},
   "outputs": [
    {
     "output_type": "stream",
     "name": "stdout",
     "text": [
      "         Observation  Cluster\n0            1181351        0\n1             238204        0\n2             238205        0\n3             238208        0\n4            1463589        0\n5            1656917        0\n6            1463590        0\n7            1146803        0\n8            1285265        0\n9             835818        0\n10           1656908        0\n11            464477        0\n12           1656903        0\n13            238225        0\n14           1285262        0\n15            464486        0\n16            464471        0\n17            835808        0\n18            672321        0\n19            672322        0\n20           1463603        0\n21           1146819        0\n22           1285259        0\n23            238239        0\n24           1656890        0\n25           1463607        0\n26            672326        0\n27           1146825        0\n28            238249        0\n29           1656881        0\n...              ...      ...\n1610464       669199        2\n1610465       669197        2\n1610466       669195        2\n1610467       669194        2\n1610468       669193        2\n1610469       669216        2\n1610470       669317        2\n1610471       669217        2\n1610472       669219        2\n1610473       669245        2\n1610474       669244        2\n1610475       669243        2\n1610476       669242        2\n1610477       669241        2\n1610478       669240        2\n1610479       669238        2\n1610480       669237        2\n1610481       669235        2\n1610482       669233        2\n1610483       669230        2\n1610484       669229        2\n1610485       669228        2\n1610486       669227        2\n1610487       669226        2\n1610488       669225        2\n1610489       669224        2\n1610490       669222        2\n1610491       669221        2\n1610492       669218        2\n1610493      1855313        2\n\n[1610494 rows x 2 columns]\n"
     ]
    }
   ],
   "source": [
    "kmeans = KMeans(n_clusters=3, random_state=146355806) \n",
    "kmeans.fit(Z)\n",
    "idk = np.argsort(kmeans.labels_)\n",
    "print(pd.DataFrame({\"Observation\" : df_clusters.index[idk], \"Cluster\" : kmeans.labels_[idk]}))"
   ]
  },
  {
   "cell_type": "code",
   "execution_count": 15,
   "metadata": {},
   "outputs": [
    {
     "output_type": "stream",
     "name": "stdout",
     "text": [
      "239141\n6029\n1365324\n"
     ]
    }
   ],
   "source": [
    "nb_clusters1 = kmeans.labels_.tolist()\n",
    "print(nb_clusters1.count(0)) \n",
    "print(nb_clusters1.count(1))\n",
    "print(nb_clusters1.count(2))"
   ]
  },
  {
   "source": [
    "Etudions les caractéristiques des observations dans chacun des clusters. "
   ],
   "cell_type": "markdown",
   "metadata": {}
  },
  {
   "cell_type": "code",
   "execution_count": 16,
   "metadata": {},
   "outputs": [],
   "source": [
    "A = pd.DataFrame({\"Observation\" : df_clusters.index[idk], \"Cluster\" : kmeans.labels_[idk]})\n",
    "L1 = [] # Liste qui contiendra les index des députés du cluster 1.\n",
    "L2 = [] # Liste qui contiendra les index des députés du cluster 2.\n",
    "L3 = [] # Liste qui contiendra les index des députés du cluster 3.\n",
    "for i in range(len(A)) :\n",
    "    if A['Cluster'][i] == 0 :\n",
    "        L1.append(A['Observation'][i])\n",
    "    if A['Cluster'][i] == 1 :\n",
    "        L2.append(A['Observation'][i])\n",
    "    if A['Cluster'][i] == 2 : \n",
    "        L3.append(A['Observation'][i])"
   ]
  },
  {
   "cell_type": "code",
   "execution_count": 17,
   "metadata": {},
   "outputs": [],
   "source": [
    "df_cluster_1 = df.loc[L1] # Sous-table avec les députés du cluster 1.\n",
    "df_cluster_2 = df.loc[L2] # Sous-table avec les députés du cluster 2.\n",
    "df_cluster_3 = df.loc[L3] # Sous-table avec les députés du cluster 3."
   ]
  },
  {
   "cell_type": "code",
   "execution_count": 18,
   "metadata": {},
   "outputs": [
    {
     "output_type": "execute_result",
     "data": {
      "text/plain": [
       "(239141, 6029, 1365324)"
      ]
     },
     "metadata": {},
     "execution_count": 18
    }
   ],
   "source": [
    "len(L1), len(L2), len(L3)"
   ]
  },
  {
   "source": [
    "On retrouve bien le nombre d'observations présentes dans chaque cluster. "
   ],
   "cell_type": "markdown",
   "metadata": {}
  },
  {
   "cell_type": "code",
   "execution_count": 19,
   "metadata": {},
   "outputs": [
    {
     "output_type": "display_data",
     "data": {
      "text/plain": "   Nb dans cluster 1  Prop dans cluster 1\n0             230664             0.964552\n1               8477             0.035448",
      "text/html": "<div>\n<style scoped>\n    .dataframe tbody tr th:only-of-type {\n        vertical-align: middle;\n    }\n\n    .dataframe tbody tr th {\n        vertical-align: top;\n    }\n\n    .dataframe thead th {\n        text-align: right;\n    }\n</style>\n<table border=\"1\" class=\"dataframe\">\n  <thead>\n    <tr style=\"text-align: right;\">\n      <th></th>\n      <th>Nb dans cluster 1</th>\n      <th>Prop dans cluster 1</th>\n    </tr>\n  </thead>\n  <tbody>\n    <tr>\n      <th>0</th>\n      <td>230664</td>\n      <td>0.964552</td>\n    </tr>\n    <tr>\n      <th>1</th>\n      <td>8477</td>\n      <td>0.035448</td>\n    </tr>\n  </tbody>\n</table>\n</div>"
     },
     "metadata": {}
    },
    {
     "output_type": "display_data",
     "data": {
      "text/plain": "   Nb dans cluster 2  Prop dans cluster 2\n0               5583             0.926024\n1                446             0.073976",
      "text/html": "<div>\n<style scoped>\n    .dataframe tbody tr th:only-of-type {\n        vertical-align: middle;\n    }\n\n    .dataframe tbody tr th {\n        vertical-align: top;\n    }\n\n    .dataframe thead th {\n        text-align: right;\n    }\n</style>\n<table border=\"1\" class=\"dataframe\">\n  <thead>\n    <tr style=\"text-align: right;\">\n      <th></th>\n      <th>Nb dans cluster 2</th>\n      <th>Prop dans cluster 2</th>\n    </tr>\n  </thead>\n  <tbody>\n    <tr>\n      <th>0</th>\n      <td>5583</td>\n      <td>0.926024</td>\n    </tr>\n    <tr>\n      <th>1</th>\n      <td>446</td>\n      <td>0.073976</td>\n    </tr>\n  </tbody>\n</table>\n</div>"
     },
     "metadata": {}
    },
    {
     "output_type": "display_data",
     "data": {
      "text/plain": "   Nb dans cluster 3  Prop dans cluster 3\n0            1282495             0.939334\n1              82829             0.060666",
      "text/html": "<div>\n<style scoped>\n    .dataframe tbody tr th:only-of-type {\n        vertical-align: middle;\n    }\n\n    .dataframe tbody tr th {\n        vertical-align: top;\n    }\n\n    .dataframe thead th {\n        text-align: right;\n    }\n</style>\n<table border=\"1\" class=\"dataframe\">\n  <thead>\n    <tr style=\"text-align: right;\">\n      <th></th>\n      <th>Nb dans cluster 3</th>\n      <th>Prop dans cluster 3</th>\n    </tr>\n  </thead>\n  <tbody>\n    <tr>\n      <th>0</th>\n      <td>1282495</td>\n      <td>0.939334</td>\n    </tr>\n    <tr>\n      <th>1</th>\n      <td>82829</td>\n      <td>0.060666</td>\n    </tr>\n  </tbody>\n</table>\n</div>"
     },
     "metadata": {}
    }
   ],
   "source": [
    "display(pd.DataFrame({'Nb dans cluster 1' : df_cluster_1['is_display_clicked'].value_counts(), 'Prop dans cluster 1' : df_cluster_1['is_display_clicked'].value_counts(normalize=True)})) \n",
    "# Répartition des clics et des non clics dans le cluster 1..\n",
    "display(pd.DataFrame({'Nb dans cluster 2' : df_cluster_2['is_display_clicked'].value_counts(), 'Prop dans cluster 2' : df_cluster_2['is_display_clicked'].value_counts(normalize=True)})) \n",
    "# Répartition des clics et des non clics dans le cluster 2.\n",
    "display(pd.DataFrame({'Nb dans cluster 3' : df_cluster_3['is_display_clicked'].value_counts(), 'Prop dans cluster 3' : df_cluster_3['is_display_clicked'].value_counts(normalize=True)}))\n",
    "# Répartition des clics et des non clics dans le cluster 3."
   ]
  },
  {
   "cell_type": "code",
   "execution_count": 20,
   "metadata": {},
   "outputs": [
    {
     "output_type": "execute_result",
     "data": {
      "text/plain": [
       "         Unnamed: 0      contextid     target_env      rtbtypeid  \\\n",
       "count  2.391410e+05  239141.000000  239141.000000  237865.000000   \n",
       "mean   9.318692e+05       6.037660       1.073275      37.068900   \n",
       "std    5.377531e+05       2.455203       0.260588      33.767617   \n",
       "min    3.000000e+00       1.000000       1.000000       3.000000   \n",
       "25%    4.662540e+05       6.000000       1.000000       4.000000   \n",
       "50%    9.362870e+05       6.000000       1.000000      29.000000   \n",
       "75%    1.397287e+06       8.000000       1.000000      73.000000   \n",
       "max    1.856864e+06       9.000000       2.000000     134.000000   \n",
       "\n",
       "       rtbadvisibility  rtb_detectedlanguage      urlhash2      urlhash3  \\\n",
       "count    237865.000000         237865.000000  2.075390e+05  2.075390e+05   \n",
       "mean          0.729355             94.218649  1.105811e+08 -1.762402e+08   \n",
       "std           0.791453           1037.636807  1.217655e+09  1.124695e+09   \n",
       "min           0.000000             -1.000000 -2.145916e+09 -2.147307e+09   \n",
       "25%           0.000000             12.000000 -8.462803e+08 -1.089605e+09   \n",
       "50%           1.000000             12.000000  3.640997e+08 -2.180814e+08   \n",
       "75%           1.000000            127.000000  1.340720e+09  6.404254e+08   \n",
       "max           2.000000          31770.000000  2.146753e+09  2.147353e+09   \n",
       "\n",
       "           urlhash4  googleviewability  ...  \\\n",
       "count  2.075390e+05       64935.000000  ...   \n",
       "mean  -1.874093e+08          59.410919  ...   \n",
       "std    1.153933e+09          34.503522  ...   \n",
       "min   -2.147255e+09          -1.000000  ...   \n",
       "25%   -1.089605e+09          30.000000  ...   \n",
       "50%   -5.237546e+08          68.000000  ...   \n",
       "75%    6.397927e+08          90.000000  ...   \n",
       "max    2.147359e+09         100.000000  ...   \n",
       "\n",
       "       nbdisplaypartnerapprox_1d_sum_xdevice  \\\n",
       "count                          239141.000000   \n",
       "mean                               35.259333   \n",
       "std                                20.218316   \n",
       "min                                 0.000000   \n",
       "25%                                21.000000   \n",
       "50%                                34.000000   \n",
       "75%                                48.868148   \n",
       "max                               460.277870   \n",
       "\n",
       "       nbdisplayaffiliateapprox_1d_sum_xdevice  \\\n",
       "count                            239141.000000   \n",
       "mean                                 58.694222   \n",
       "std                                  87.052084   \n",
       "min                                   0.000000   \n",
       "25%                                  10.826296   \n",
       "50%                                  28.000000   \n",
       "75%                                  67.000000   \n",
       "max                                2269.557407   \n",
       "\n",
       "       nbdisplayglobalapprox_1d_sum_xdevice  valueperclick  display_width  \\\n",
       "count                         239141.000000  239141.000000  239141.000000   \n",
       "mean                             126.633865       0.311313     362.944589   \n",
       "std                              122.536115       0.189056     277.651188   \n",
       "min                               13.000000       0.034118       0.000000   \n",
       "25%                               47.265278       0.136416     300.000000   \n",
       "50%                               83.751250       0.254042     300.000000   \n",
       "75%                              169.420000       0.512843     360.000000   \n",
       "max                             3953.888889       0.790542    1280.000000   \n",
       "\n",
       "       display_height  display_timestamp  is_display_clicked  zonecostineuro  \\\n",
       "count   239141.000000       2.391410e+05       239141.000000   239141.000000   \n",
       "mean       250.710196       1.602853e+09            0.035448        0.935272   \n",
       "std        234.852831       1.775784e+05            0.184909        2.538710   \n",
       "min          0.000000       1.602547e+09            0.000000        0.000000   \n",
       "25%         50.000000       1.602694e+09            0.000000        0.050000   \n",
       "50%        250.000000       1.602849e+09            0.000000        0.254518   \n",
       "75%        480.000000       1.603022e+09            0.000000        0.822104   \n",
       "max       1286.000000       1.603152e+09            1.000000      100.000000   \n",
       "\n",
       "       display_size  \n",
       "count  2.391410e+05  \n",
       "mean   9.196404e+04  \n",
       "std    9.456407e+04  \n",
       "min    0.000000e+00  \n",
       "25%    1.600000e+04  \n",
       "50%    7.500000e+04  \n",
       "75%    1.800000e+05  \n",
       "max    1.028800e+06  \n",
       "\n",
       "[8 rows x 38 columns]"
      ],
      "text/html": "<div>\n<style scoped>\n    .dataframe tbody tr th:only-of-type {\n        vertical-align: middle;\n    }\n\n    .dataframe tbody tr th {\n        vertical-align: top;\n    }\n\n    .dataframe thead th {\n        text-align: right;\n    }\n</style>\n<table border=\"1\" class=\"dataframe\">\n  <thead>\n    <tr style=\"text-align: right;\">\n      <th></th>\n      <th>Unnamed: 0</th>\n      <th>contextid</th>\n      <th>target_env</th>\n      <th>rtbtypeid</th>\n      <th>rtbadvisibility</th>\n      <th>rtb_detectedlanguage</th>\n      <th>urlhash2</th>\n      <th>urlhash3</th>\n      <th>urlhash4</th>\n      <th>googleviewability</th>\n      <th>...</th>\n      <th>nbdisplaypartnerapprox_1d_sum_xdevice</th>\n      <th>nbdisplayaffiliateapprox_1d_sum_xdevice</th>\n      <th>nbdisplayglobalapprox_1d_sum_xdevice</th>\n      <th>valueperclick</th>\n      <th>display_width</th>\n      <th>display_height</th>\n      <th>display_timestamp</th>\n      <th>is_display_clicked</th>\n      <th>zonecostineuro</th>\n      <th>display_size</th>\n    </tr>\n  </thead>\n  <tbody>\n    <tr>\n      <th>count</th>\n      <td>2.391410e+05</td>\n      <td>239141.000000</td>\n      <td>239141.000000</td>\n      <td>237865.000000</td>\n      <td>237865.000000</td>\n      <td>237865.000000</td>\n      <td>2.075390e+05</td>\n      <td>2.075390e+05</td>\n      <td>2.075390e+05</td>\n      <td>64935.000000</td>\n      <td>...</td>\n      <td>239141.000000</td>\n      <td>239141.000000</td>\n      <td>239141.000000</td>\n      <td>239141.000000</td>\n      <td>239141.000000</td>\n      <td>239141.000000</td>\n      <td>2.391410e+05</td>\n      <td>239141.000000</td>\n      <td>239141.000000</td>\n      <td>2.391410e+05</td>\n    </tr>\n    <tr>\n      <th>mean</th>\n      <td>9.318692e+05</td>\n      <td>6.037660</td>\n      <td>1.073275</td>\n      <td>37.068900</td>\n      <td>0.729355</td>\n      <td>94.218649</td>\n      <td>1.105811e+08</td>\n      <td>-1.762402e+08</td>\n      <td>-1.874093e+08</td>\n      <td>59.410919</td>\n      <td>...</td>\n      <td>35.259333</td>\n      <td>58.694222</td>\n      <td>126.633865</td>\n      <td>0.311313</td>\n      <td>362.944589</td>\n      <td>250.710196</td>\n      <td>1.602853e+09</td>\n      <td>0.035448</td>\n      <td>0.935272</td>\n      <td>9.196404e+04</td>\n    </tr>\n    <tr>\n      <th>std</th>\n      <td>5.377531e+05</td>\n      <td>2.455203</td>\n      <td>0.260588</td>\n      <td>33.767617</td>\n      <td>0.791453</td>\n      <td>1037.636807</td>\n      <td>1.217655e+09</td>\n      <td>1.124695e+09</td>\n      <td>1.153933e+09</td>\n      <td>34.503522</td>\n      <td>...</td>\n      <td>20.218316</td>\n      <td>87.052084</td>\n      <td>122.536115</td>\n      <td>0.189056</td>\n      <td>277.651188</td>\n      <td>234.852831</td>\n      <td>1.775784e+05</td>\n      <td>0.184909</td>\n      <td>2.538710</td>\n      <td>9.456407e+04</td>\n    </tr>\n    <tr>\n      <th>min</th>\n      <td>3.000000e+00</td>\n      <td>1.000000</td>\n      <td>1.000000</td>\n      <td>3.000000</td>\n      <td>0.000000</td>\n      <td>-1.000000</td>\n      <td>-2.145916e+09</td>\n      <td>-2.147307e+09</td>\n      <td>-2.147255e+09</td>\n      <td>-1.000000</td>\n      <td>...</td>\n      <td>0.000000</td>\n      <td>0.000000</td>\n      <td>13.000000</td>\n      <td>0.034118</td>\n      <td>0.000000</td>\n      <td>0.000000</td>\n      <td>1.602547e+09</td>\n      <td>0.000000</td>\n      <td>0.000000</td>\n      <td>0.000000e+00</td>\n    </tr>\n    <tr>\n      <th>25%</th>\n      <td>4.662540e+05</td>\n      <td>6.000000</td>\n      <td>1.000000</td>\n      <td>4.000000</td>\n      <td>0.000000</td>\n      <td>12.000000</td>\n      <td>-8.462803e+08</td>\n      <td>-1.089605e+09</td>\n      <td>-1.089605e+09</td>\n      <td>30.000000</td>\n      <td>...</td>\n      <td>21.000000</td>\n      <td>10.826296</td>\n      <td>47.265278</td>\n      <td>0.136416</td>\n      <td>300.000000</td>\n      <td>50.000000</td>\n      <td>1.602694e+09</td>\n      <td>0.000000</td>\n      <td>0.050000</td>\n      <td>1.600000e+04</td>\n    </tr>\n    <tr>\n      <th>50%</th>\n      <td>9.362870e+05</td>\n      <td>6.000000</td>\n      <td>1.000000</td>\n      <td>29.000000</td>\n      <td>1.000000</td>\n      <td>12.000000</td>\n      <td>3.640997e+08</td>\n      <td>-2.180814e+08</td>\n      <td>-5.237546e+08</td>\n      <td>68.000000</td>\n      <td>...</td>\n      <td>34.000000</td>\n      <td>28.000000</td>\n      <td>83.751250</td>\n      <td>0.254042</td>\n      <td>300.000000</td>\n      <td>250.000000</td>\n      <td>1.602849e+09</td>\n      <td>0.000000</td>\n      <td>0.254518</td>\n      <td>7.500000e+04</td>\n    </tr>\n    <tr>\n      <th>75%</th>\n      <td>1.397287e+06</td>\n      <td>8.000000</td>\n      <td>1.000000</td>\n      <td>73.000000</td>\n      <td>1.000000</td>\n      <td>127.000000</td>\n      <td>1.340720e+09</td>\n      <td>6.404254e+08</td>\n      <td>6.397927e+08</td>\n      <td>90.000000</td>\n      <td>...</td>\n      <td>48.868148</td>\n      <td>67.000000</td>\n      <td>169.420000</td>\n      <td>0.512843</td>\n      <td>360.000000</td>\n      <td>480.000000</td>\n      <td>1.603022e+09</td>\n      <td>0.000000</td>\n      <td>0.822104</td>\n      <td>1.800000e+05</td>\n    </tr>\n    <tr>\n      <th>max</th>\n      <td>1.856864e+06</td>\n      <td>9.000000</td>\n      <td>2.000000</td>\n      <td>134.000000</td>\n      <td>2.000000</td>\n      <td>31770.000000</td>\n      <td>2.146753e+09</td>\n      <td>2.147353e+09</td>\n      <td>2.147359e+09</td>\n      <td>100.000000</td>\n      <td>...</td>\n      <td>460.277870</td>\n      <td>2269.557407</td>\n      <td>3953.888889</td>\n      <td>0.790542</td>\n      <td>1280.000000</td>\n      <td>1286.000000</td>\n      <td>1.603152e+09</td>\n      <td>1.000000</td>\n      <td>100.000000</td>\n      <td>1.028800e+06</td>\n    </tr>\n  </tbody>\n</table>\n<p>8 rows × 38 columns</p>\n</div>"
     },
     "metadata": {},
     "execution_count": 20
    }
   ],
   "source": [
    "df_cluster_1.describe()"
   ]
  },
  {
   "cell_type": "code",
   "execution_count": 21,
   "metadata": {},
   "outputs": [
    {
     "output_type": "execute_result",
     "data": {
      "text/plain": [
       "         Unnamed: 0    contextid   target_env    rtbtypeid  rtbadvisibility  \\\n",
       "count  6.029000e+03  6029.000000  6029.000000  6012.000000      6012.000000   \n",
       "mean   9.217121e+05     7.374026     1.137502    34.008816         0.738689   \n",
       "std    5.380897e+05     1.841765     0.344405    32.836823         0.794307   \n",
       "min    9.400000e+01     1.000000     1.000000     3.000000         0.000000   \n",
       "25%    4.581640e+05     6.000000     1.000000     4.000000         0.000000   \n",
       "50%    9.188420e+05     8.000000     1.000000    16.000000         1.000000   \n",
       "75%    1.389878e+06     9.000000     1.000000    73.000000         1.000000   \n",
       "max    1.856705e+06     9.000000     2.000000   134.000000         2.000000   \n",
       "\n",
       "       rtb_detectedlanguage      urlhash2      urlhash3      urlhash4  \\\n",
       "count           6012.000000  5.379000e+03  5.379000e+03  5.379000e+03   \n",
       "mean              69.295576  1.370534e+08 -9.072127e+07 -1.385818e+08   \n",
       "std              562.086580  1.259048e+09  1.138867e+09  1.155705e+09   \n",
       "min                1.000000 -2.140960e+09 -2.146561e+09 -2.146412e+09   \n",
       "25%               12.000000 -8.998495e+08 -1.005008e+09 -1.089605e+09   \n",
       "50%               16.000000  3.640997e+08 -6.162982e+07 -2.627962e+08   \n",
       "75%              127.000000  1.384186e+09  7.282313e+08  6.563225e+08   \n",
       "max            30724.000000  2.141561e+09  2.146829e+09  2.144924e+09   \n",
       "\n",
       "       googleviewability  ...  nbdisplaypartnerapprox_1d_sum_xdevice  \\\n",
       "count        1860.000000  ...                            6029.000000   \n",
       "mean           60.796237  ...                              25.175368   \n",
       "std            30.823743  ...                              21.053366   \n",
       "min            -1.000000  ...                               0.000000   \n",
       "25%            41.000000  ...                               6.901435   \n",
       "50%            68.000000  ...                              21.395000   \n",
       "75%            86.000000  ...                              41.000000   \n",
       "max            99.000000  ...                             193.195278   \n",
       "\n",
       "       nbdisplayaffiliateapprox_1d_sum_xdevice  \\\n",
       "count                              6029.000000   \n",
       "mean                                 30.955367   \n",
       "std                                  65.393863   \n",
       "min                                   0.000000   \n",
       "25%                                   2.000000   \n",
       "50%                                  10.146481   \n",
       "75%                                  32.000000   \n",
       "max                                1341.353333   \n",
       "\n",
       "       nbdisplayglobalapprox_1d_sum_xdevice  valueperclick  display_width  \\\n",
       "count                           6029.000000    6029.000000    6029.000000   \n",
       "mean                              82.695714       0.306986     327.919721   \n",
       "std                               99.767500       0.189240     266.864481   \n",
       "min                                0.000000       0.034118       0.000000   \n",
       "25%                               28.000000       0.139050     160.000000   \n",
       "50%                               54.358981       0.245336     300.000000   \n",
       "75%                               98.468750       0.512220     336.000000   \n",
       "max                             1416.062778       0.790542    1280.000000   \n",
       "\n",
       "       display_height  display_timestamp  is_display_clicked  zonecostineuro  \\\n",
       "count     6029.000000       6.029000e+03         6029.000000     6029.000000   \n",
       "mean       241.687842       1.602856e+09            0.073976        1.567993   \n",
       "std        231.251260       1.767350e+05            0.261753        3.776451   \n",
       "min          0.000000       1.602550e+09            0.000000        0.008475   \n",
       "25%         50.000000       1.602698e+09            0.000000        0.118000   \n",
       "50%        250.000000       1.602850e+09            0.000000        0.471000   \n",
       "75%        300.000000       1.603023e+09            0.000000        1.420000   \n",
       "max       1280.000000       1.603149e+09            1.000000       84.459663   \n",
       "\n",
       "       display_size  \n",
       "count  6.029000e+03  \n",
       "mean   8.842949e+04  \n",
       "std    9.744088e+04  \n",
       "min    0.000000e+00  \n",
       "25%    1.600000e+04  \n",
       "50%    7.500000e+04  \n",
       "75%    1.536000e+05  \n",
       "max    1.024000e+06  \n",
       "\n",
       "[8 rows x 38 columns]"
      ],
      "text/html": "<div>\n<style scoped>\n    .dataframe tbody tr th:only-of-type {\n        vertical-align: middle;\n    }\n\n    .dataframe tbody tr th {\n        vertical-align: top;\n    }\n\n    .dataframe thead th {\n        text-align: right;\n    }\n</style>\n<table border=\"1\" class=\"dataframe\">\n  <thead>\n    <tr style=\"text-align: right;\">\n      <th></th>\n      <th>Unnamed: 0</th>\n      <th>contextid</th>\n      <th>target_env</th>\n      <th>rtbtypeid</th>\n      <th>rtbadvisibility</th>\n      <th>rtb_detectedlanguage</th>\n      <th>urlhash2</th>\n      <th>urlhash3</th>\n      <th>urlhash4</th>\n      <th>googleviewability</th>\n      <th>...</th>\n      <th>nbdisplaypartnerapprox_1d_sum_xdevice</th>\n      <th>nbdisplayaffiliateapprox_1d_sum_xdevice</th>\n      <th>nbdisplayglobalapprox_1d_sum_xdevice</th>\n      <th>valueperclick</th>\n      <th>display_width</th>\n      <th>display_height</th>\n      <th>display_timestamp</th>\n      <th>is_display_clicked</th>\n      <th>zonecostineuro</th>\n      <th>display_size</th>\n    </tr>\n  </thead>\n  <tbody>\n    <tr>\n      <th>count</th>\n      <td>6.029000e+03</td>\n      <td>6029.000000</td>\n      <td>6029.000000</td>\n      <td>6012.000000</td>\n      <td>6012.000000</td>\n      <td>6012.000000</td>\n      <td>5.379000e+03</td>\n      <td>5.379000e+03</td>\n      <td>5.379000e+03</td>\n      <td>1860.000000</td>\n      <td>...</td>\n      <td>6029.000000</td>\n      <td>6029.000000</td>\n      <td>6029.000000</td>\n      <td>6029.000000</td>\n      <td>6029.000000</td>\n      <td>6029.000000</td>\n      <td>6.029000e+03</td>\n      <td>6029.000000</td>\n      <td>6029.000000</td>\n      <td>6.029000e+03</td>\n    </tr>\n    <tr>\n      <th>mean</th>\n      <td>9.217121e+05</td>\n      <td>7.374026</td>\n      <td>1.137502</td>\n      <td>34.008816</td>\n      <td>0.738689</td>\n      <td>69.295576</td>\n      <td>1.370534e+08</td>\n      <td>-9.072127e+07</td>\n      <td>-1.385818e+08</td>\n      <td>60.796237</td>\n      <td>...</td>\n      <td>25.175368</td>\n      <td>30.955367</td>\n      <td>82.695714</td>\n      <td>0.306986</td>\n      <td>327.919721</td>\n      <td>241.687842</td>\n      <td>1.602856e+09</td>\n      <td>0.073976</td>\n      <td>1.567993</td>\n      <td>8.842949e+04</td>\n    </tr>\n    <tr>\n      <th>std</th>\n      <td>5.380897e+05</td>\n      <td>1.841765</td>\n      <td>0.344405</td>\n      <td>32.836823</td>\n      <td>0.794307</td>\n      <td>562.086580</td>\n      <td>1.259048e+09</td>\n      <td>1.138867e+09</td>\n      <td>1.155705e+09</td>\n      <td>30.823743</td>\n      <td>...</td>\n      <td>21.053366</td>\n      <td>65.393863</td>\n      <td>99.767500</td>\n      <td>0.189240</td>\n      <td>266.864481</td>\n      <td>231.251260</td>\n      <td>1.767350e+05</td>\n      <td>0.261753</td>\n      <td>3.776451</td>\n      <td>9.744088e+04</td>\n    </tr>\n    <tr>\n      <th>min</th>\n      <td>9.400000e+01</td>\n      <td>1.000000</td>\n      <td>1.000000</td>\n      <td>3.000000</td>\n      <td>0.000000</td>\n      <td>1.000000</td>\n      <td>-2.140960e+09</td>\n      <td>-2.146561e+09</td>\n      <td>-2.146412e+09</td>\n      <td>-1.000000</td>\n      <td>...</td>\n      <td>0.000000</td>\n      <td>0.000000</td>\n      <td>0.000000</td>\n      <td>0.034118</td>\n      <td>0.000000</td>\n      <td>0.000000</td>\n      <td>1.602550e+09</td>\n      <td>0.000000</td>\n      <td>0.008475</td>\n      <td>0.000000e+00</td>\n    </tr>\n    <tr>\n      <th>25%</th>\n      <td>4.581640e+05</td>\n      <td>6.000000</td>\n      <td>1.000000</td>\n      <td>4.000000</td>\n      <td>0.000000</td>\n      <td>12.000000</td>\n      <td>-8.998495e+08</td>\n      <td>-1.005008e+09</td>\n      <td>-1.089605e+09</td>\n      <td>41.000000</td>\n      <td>...</td>\n      <td>6.901435</td>\n      <td>2.000000</td>\n      <td>28.000000</td>\n      <td>0.139050</td>\n      <td>160.000000</td>\n      <td>50.000000</td>\n      <td>1.602698e+09</td>\n      <td>0.000000</td>\n      <td>0.118000</td>\n      <td>1.600000e+04</td>\n    </tr>\n    <tr>\n      <th>50%</th>\n      <td>9.188420e+05</td>\n      <td>8.000000</td>\n      <td>1.000000</td>\n      <td>16.000000</td>\n      <td>1.000000</td>\n      <td>16.000000</td>\n      <td>3.640997e+08</td>\n      <td>-6.162982e+07</td>\n      <td>-2.627962e+08</td>\n      <td>68.000000</td>\n      <td>...</td>\n      <td>21.395000</td>\n      <td>10.146481</td>\n      <td>54.358981</td>\n      <td>0.245336</td>\n      <td>300.000000</td>\n      <td>250.000000</td>\n      <td>1.602850e+09</td>\n      <td>0.000000</td>\n      <td>0.471000</td>\n      <td>7.500000e+04</td>\n    </tr>\n    <tr>\n      <th>75%</th>\n      <td>1.389878e+06</td>\n      <td>9.000000</td>\n      <td>1.000000</td>\n      <td>73.000000</td>\n      <td>1.000000</td>\n      <td>127.000000</td>\n      <td>1.384186e+09</td>\n      <td>7.282313e+08</td>\n      <td>6.563225e+08</td>\n      <td>86.000000</td>\n      <td>...</td>\n      <td>41.000000</td>\n      <td>32.000000</td>\n      <td>98.468750</td>\n      <td>0.512220</td>\n      <td>336.000000</td>\n      <td>300.000000</td>\n      <td>1.603023e+09</td>\n      <td>0.000000</td>\n      <td>1.420000</td>\n      <td>1.536000e+05</td>\n    </tr>\n    <tr>\n      <th>max</th>\n      <td>1.856705e+06</td>\n      <td>9.000000</td>\n      <td>2.000000</td>\n      <td>134.000000</td>\n      <td>2.000000</td>\n      <td>30724.000000</td>\n      <td>2.141561e+09</td>\n      <td>2.146829e+09</td>\n      <td>2.144924e+09</td>\n      <td>99.000000</td>\n      <td>...</td>\n      <td>193.195278</td>\n      <td>1341.353333</td>\n      <td>1416.062778</td>\n      <td>0.790542</td>\n      <td>1280.000000</td>\n      <td>1280.000000</td>\n      <td>1.603149e+09</td>\n      <td>1.000000</td>\n      <td>84.459663</td>\n      <td>1.024000e+06</td>\n    </tr>\n  </tbody>\n</table>\n<p>8 rows × 38 columns</p>\n</div>"
     },
     "metadata": {},
     "execution_count": 21
    }
   ],
   "source": [
    "df_cluster_2.describe()"
   ]
  },
  {
   "cell_type": "code",
   "execution_count": 22,
   "metadata": {},
   "outputs": [
    {
     "output_type": "execute_result",
     "data": {
      "text/plain": [
       "         Unnamed: 0     contextid    target_env     rtbtypeid  \\\n",
       "count  1.365324e+06  1.365324e+06  1.365324e+06  1.359706e+06   \n",
       "mean   9.287308e+05  5.563513e+00  1.110386e+00  3.655437e+01   \n",
       "std    5.352432e+05  2.401246e+00  3.133698e-01  3.339118e+01   \n",
       "min    0.000000e+00  1.000000e+00  1.000000e+00  3.000000e+00   \n",
       "25%    4.658448e+05  5.000000e+00  1.000000e+00  4.000000e+00   \n",
       "50%    9.277815e+05  6.000000e+00  1.000000e+00  2.900000e+01   \n",
       "75%    1.392135e+06  7.000000e+00  1.000000e+00  7.300000e+01   \n",
       "max    1.856872e+06  9.000000e+00  2.000000e+00  1.340000e+02   \n",
       "\n",
       "       rtbadvisibility  rtb_detectedlanguage      urlhash2      urlhash3  \\\n",
       "count     1.359706e+06          1.359706e+06  1.246628e+06  1.246628e+06   \n",
       "mean      7.276036e-01          9.472602e+01  9.744425e+07 -7.275786e+07   \n",
       "std       8.085108e-01          9.837410e+02  1.260949e+09  1.157488e+09   \n",
       "min       0.000000e+00         -1.000000e+00 -2.147479e+09 -2.147454e+09   \n",
       "25%       0.000000e+00          1.200000e+01 -9.718820e+08 -9.935616e+08   \n",
       "50%       0.000000e+00          1.600000e+01  2.603107e+08 -6.162982e+07   \n",
       "75%       1.000000e+00          1.270000e+02  1.384186e+09  8.349926e+08   \n",
       "max       2.000000e+00          3.177000e+04  2.147366e+09  2.147451e+09   \n",
       "\n",
       "           urlhash4  googleviewability  ...  \\\n",
       "count  1.246628e+06       434862.00000  ...   \n",
       "mean  -1.089303e+08           59.22234  ...   \n",
       "std    1.173646e+09           30.52539  ...   \n",
       "min   -2.147479e+09           -1.00000  ...   \n",
       "25%   -1.017692e+09           37.00000  ...   \n",
       "50%   -2.856484e+08           66.00000  ...   \n",
       "75%    7.830828e+08           85.00000  ...   \n",
       "max    2.147451e+09          100.00000  ...   \n",
       "\n",
       "       nbdisplaypartnerapprox_1d_sum_xdevice  \\\n",
       "count                           1.365324e+06   \n",
       "mean                            1.071949e+01   \n",
       "std                             1.384880e+01   \n",
       "min                             0.000000e+00   \n",
       "25%                             1.000000e+00   \n",
       "50%                             5.000000e+00   \n",
       "75%                             1.469028e+01   \n",
       "max                             1.890000e+02   \n",
       "\n",
       "       nbdisplayaffiliateapprox_1d_sum_xdevice  \\\n",
       "count                             1.365324e+06   \n",
       "mean                              1.062098e+01   \n",
       "std                               2.035892e+01   \n",
       "min                               0.000000e+00   \n",
       "25%                               0.000000e+00   \n",
       "50%                               3.000000e+00   \n",
       "75%                               1.100000e+01   \n",
       "max                               3.036156e+02   \n",
       "\n",
       "       nbdisplayglobalapprox_1d_sum_xdevice  valueperclick  display_width  \\\n",
       "count                          1.365324e+06   1.365324e+06   1.365324e+06   \n",
       "mean                           2.984569e+01   2.532534e-01   2.857652e+02   \n",
       "std                            3.424088e+01   1.837486e-01   2.498844e+02   \n",
       "min                            0.000000e+00   3.411759e-02   0.000000e+00   \n",
       "25%                            6.000000e+00   1.029036e-01   0.000000e+00   \n",
       "50%                            1.751211e+01   1.838390e-01   3.000000e+02   \n",
       "75%                            4.100000e+01   4.015411e-01   3.200000e+02   \n",
       "max                            3.052078e+02   7.905422e-01   1.374000e+03   \n",
       "\n",
       "       display_height  display_timestamp  is_display_clicked  zonecostineuro  \\\n",
       "count    1.365324e+06       1.365324e+06        1.365324e+06    1.365324e+06   \n",
       "mean     2.241796e+02       1.602857e+09        6.066619e-02    1.140309e+00   \n",
       "std      2.276490e+02       1.745974e+05        2.387171e-01    3.030289e+00   \n",
       "min      0.000000e+00       1.602547e+09        0.000000e+00    0.000000e+00   \n",
       "25%      0.000000e+00       1.602700e+09        0.000000e+00    7.900000e-02   \n",
       "50%      2.500000e+02       1.602855e+09        0.000000e+00    3.180814e-01   \n",
       "75%      2.800000e+02       1.603021e+09        0.000000e+00    9.850001e-01   \n",
       "max      1.286000e+03       1.603155e+09        1.000000e+00    1.000000e+02   \n",
       "\n",
       "       display_size  \n",
       "count  1.365324e+06  \n",
       "mean   8.085265e+04  \n",
       "std    9.753806e+04  \n",
       "min    0.000000e+00  \n",
       "25%    0.000000e+00  \n",
       "50%    7.500000e+04  \n",
       "75%    1.000000e+05  \n",
       "max    1.101600e+06  \n",
       "\n",
       "[8 rows x 38 columns]"
      ],
      "text/html": "<div>\n<style scoped>\n    .dataframe tbody tr th:only-of-type {\n        vertical-align: middle;\n    }\n\n    .dataframe tbody tr th {\n        vertical-align: top;\n    }\n\n    .dataframe thead th {\n        text-align: right;\n    }\n</style>\n<table border=\"1\" class=\"dataframe\">\n  <thead>\n    <tr style=\"text-align: right;\">\n      <th></th>\n      <th>Unnamed: 0</th>\n      <th>contextid</th>\n      <th>target_env</th>\n      <th>rtbtypeid</th>\n      <th>rtbadvisibility</th>\n      <th>rtb_detectedlanguage</th>\n      <th>urlhash2</th>\n      <th>urlhash3</th>\n      <th>urlhash4</th>\n      <th>googleviewability</th>\n      <th>...</th>\n      <th>nbdisplaypartnerapprox_1d_sum_xdevice</th>\n      <th>nbdisplayaffiliateapprox_1d_sum_xdevice</th>\n      <th>nbdisplayglobalapprox_1d_sum_xdevice</th>\n      <th>valueperclick</th>\n      <th>display_width</th>\n      <th>display_height</th>\n      <th>display_timestamp</th>\n      <th>is_display_clicked</th>\n      <th>zonecostineuro</th>\n      <th>display_size</th>\n    </tr>\n  </thead>\n  <tbody>\n    <tr>\n      <th>count</th>\n      <td>1.365324e+06</td>\n      <td>1.365324e+06</td>\n      <td>1.365324e+06</td>\n      <td>1.359706e+06</td>\n      <td>1.359706e+06</td>\n      <td>1.359706e+06</td>\n      <td>1.246628e+06</td>\n      <td>1.246628e+06</td>\n      <td>1.246628e+06</td>\n      <td>434862.00000</td>\n      <td>...</td>\n      <td>1.365324e+06</td>\n      <td>1.365324e+06</td>\n      <td>1.365324e+06</td>\n      <td>1.365324e+06</td>\n      <td>1.365324e+06</td>\n      <td>1.365324e+06</td>\n      <td>1.365324e+06</td>\n      <td>1.365324e+06</td>\n      <td>1.365324e+06</td>\n      <td>1.365324e+06</td>\n    </tr>\n    <tr>\n      <th>mean</th>\n      <td>9.287308e+05</td>\n      <td>5.563513e+00</td>\n      <td>1.110386e+00</td>\n      <td>3.655437e+01</td>\n      <td>7.276036e-01</td>\n      <td>9.472602e+01</td>\n      <td>9.744425e+07</td>\n      <td>-7.275786e+07</td>\n      <td>-1.089303e+08</td>\n      <td>59.22234</td>\n      <td>...</td>\n      <td>1.071949e+01</td>\n      <td>1.062098e+01</td>\n      <td>2.984569e+01</td>\n      <td>2.532534e-01</td>\n      <td>2.857652e+02</td>\n      <td>2.241796e+02</td>\n      <td>1.602857e+09</td>\n      <td>6.066619e-02</td>\n      <td>1.140309e+00</td>\n      <td>8.085265e+04</td>\n    </tr>\n    <tr>\n      <th>std</th>\n      <td>5.352432e+05</td>\n      <td>2.401246e+00</td>\n      <td>3.133698e-01</td>\n      <td>3.339118e+01</td>\n      <td>8.085108e-01</td>\n      <td>9.837410e+02</td>\n      <td>1.260949e+09</td>\n      <td>1.157488e+09</td>\n      <td>1.173646e+09</td>\n      <td>30.52539</td>\n      <td>...</td>\n      <td>1.384880e+01</td>\n      <td>2.035892e+01</td>\n      <td>3.424088e+01</td>\n      <td>1.837486e-01</td>\n      <td>2.498844e+02</td>\n      <td>2.276490e+02</td>\n      <td>1.745974e+05</td>\n      <td>2.387171e-01</td>\n      <td>3.030289e+00</td>\n      <td>9.753806e+04</td>\n    </tr>\n    <tr>\n      <th>min</th>\n      <td>0.000000e+00</td>\n      <td>1.000000e+00</td>\n      <td>1.000000e+00</td>\n      <td>3.000000e+00</td>\n      <td>0.000000e+00</td>\n      <td>-1.000000e+00</td>\n      <td>-2.147479e+09</td>\n      <td>-2.147454e+09</td>\n      <td>-2.147479e+09</td>\n      <td>-1.00000</td>\n      <td>...</td>\n      <td>0.000000e+00</td>\n      <td>0.000000e+00</td>\n      <td>0.000000e+00</td>\n      <td>3.411759e-02</td>\n      <td>0.000000e+00</td>\n      <td>0.000000e+00</td>\n      <td>1.602547e+09</td>\n      <td>0.000000e+00</td>\n      <td>0.000000e+00</td>\n      <td>0.000000e+00</td>\n    </tr>\n    <tr>\n      <th>25%</th>\n      <td>4.658448e+05</td>\n      <td>5.000000e+00</td>\n      <td>1.000000e+00</td>\n      <td>4.000000e+00</td>\n      <td>0.000000e+00</td>\n      <td>1.200000e+01</td>\n      <td>-9.718820e+08</td>\n      <td>-9.935616e+08</td>\n      <td>-1.017692e+09</td>\n      <td>37.00000</td>\n      <td>...</td>\n      <td>1.000000e+00</td>\n      <td>0.000000e+00</td>\n      <td>6.000000e+00</td>\n      <td>1.029036e-01</td>\n      <td>0.000000e+00</td>\n      <td>0.000000e+00</td>\n      <td>1.602700e+09</td>\n      <td>0.000000e+00</td>\n      <td>7.900000e-02</td>\n      <td>0.000000e+00</td>\n    </tr>\n    <tr>\n      <th>50%</th>\n      <td>9.277815e+05</td>\n      <td>6.000000e+00</td>\n      <td>1.000000e+00</td>\n      <td>2.900000e+01</td>\n      <td>0.000000e+00</td>\n      <td>1.600000e+01</td>\n      <td>2.603107e+08</td>\n      <td>-6.162982e+07</td>\n      <td>-2.856484e+08</td>\n      <td>66.00000</td>\n      <td>...</td>\n      <td>5.000000e+00</td>\n      <td>3.000000e+00</td>\n      <td>1.751211e+01</td>\n      <td>1.838390e-01</td>\n      <td>3.000000e+02</td>\n      <td>2.500000e+02</td>\n      <td>1.602855e+09</td>\n      <td>0.000000e+00</td>\n      <td>3.180814e-01</td>\n      <td>7.500000e+04</td>\n    </tr>\n    <tr>\n      <th>75%</th>\n      <td>1.392135e+06</td>\n      <td>7.000000e+00</td>\n      <td>1.000000e+00</td>\n      <td>7.300000e+01</td>\n      <td>1.000000e+00</td>\n      <td>1.270000e+02</td>\n      <td>1.384186e+09</td>\n      <td>8.349926e+08</td>\n      <td>7.830828e+08</td>\n      <td>85.00000</td>\n      <td>...</td>\n      <td>1.469028e+01</td>\n      <td>1.100000e+01</td>\n      <td>4.100000e+01</td>\n      <td>4.015411e-01</td>\n      <td>3.200000e+02</td>\n      <td>2.800000e+02</td>\n      <td>1.603021e+09</td>\n      <td>0.000000e+00</td>\n      <td>9.850001e-01</td>\n      <td>1.000000e+05</td>\n    </tr>\n    <tr>\n      <th>max</th>\n      <td>1.856872e+06</td>\n      <td>9.000000e+00</td>\n      <td>2.000000e+00</td>\n      <td>1.340000e+02</td>\n      <td>2.000000e+00</td>\n      <td>3.177000e+04</td>\n      <td>2.147366e+09</td>\n      <td>2.147451e+09</td>\n      <td>2.147451e+09</td>\n      <td>100.00000</td>\n      <td>...</td>\n      <td>1.890000e+02</td>\n      <td>3.036156e+02</td>\n      <td>3.052078e+02</td>\n      <td>7.905422e-01</td>\n      <td>1.374000e+03</td>\n      <td>1.286000e+03</td>\n      <td>1.603155e+09</td>\n      <td>1.000000e+00</td>\n      <td>1.000000e+02</td>\n      <td>1.101600e+06</td>\n    </tr>\n  </tbody>\n</table>\n<p>8 rows × 38 columns</p>\n</div>"
     },
     "metadata": {},
     "execution_count": 22
    }
   ],
   "source": [
    "df_cluster_3.describe()"
   ]
  }
 ]
}