{
 "cells": [
  {
   "cell_type": "code",
   "execution_count": 1,
   "metadata": {},
   "outputs": [],
   "source": [
    "import time\n",
    "import pandas as pd\n",
    "import numpy as np\n",
    "import seaborn as sns\n",
    "import matplotlib.pyplot as plt\n",
    "import sklearn\n",
    "from sklearn.preprocessing import StandardScaler\n",
    "from sklearn.decomposition import PCA\n",
    "from sklearn.cluster import KMeans\n",
    "import time\n",
    "\n",
    "# On importe la métrique \"silhouette\" qui nous servira à déterminer le nombre de clusters optimal.\n",
    "from sklearn.metrics import silhouette_score \n",
    "\n",
    "%config InlineBackend.figure_format = 'png'\n",
    "\n",
    "t = time.time()"
   ]
  },
  {
   "cell_type": "code",
   "execution_count": 2,
   "metadata": {},
   "outputs": [],
   "source": [
    "df = pd.read_csv('data/df_train_prepro.csv')"
   ]
  },
  {
   "cell_type": "code",
   "execution_count": 3,
   "metadata": {},
   "outputs": [
    {
     "output_type": "execute_result",
     "data": {
      "text/plain": [
       "1610494"
      ]
     },
     "metadata": {},
     "execution_count": 3
    }
   ],
   "source": [
    "len(df)"
   ]
  },
  {
   "cell_type": "code",
   "execution_count": 4,
   "metadata": {},
   "outputs": [],
   "source": [
    " df_clusters = df[['contextid','dayssincelastvisitdouble','campaignctrlast24h','nbdisplay_1hour','nbdayssincelastclick','display_size','ltf_nbpartnerdisplayssincelastclick','ltf_nbglobaldisplay_4w','ltf_nbpartnerclick_90d','ltf_nbpartnerdisplay_90d','ltf_nbpartnersales_90d','nbdisplayglobalapprox_1d_sum_xdevice','zonecostineuro']]"
   ]
  },
  {
   "cell_type": "code",
   "execution_count": 5,
   "metadata": {},
   "outputs": [
    {
     "output_type": "execute_result",
     "data": {
      "text/plain": [
       "array([[ 0.14873565, -0.40809959, -0.8906595 , ..., -0.01397608,\n",
       "        -0.32103262, -0.25119805],\n",
       "       [-1.92104218, -0.44867976, -0.360678  , ..., -0.01397608,\n",
       "         0.8070464 , -0.36603538],\n",
       "       [ 0.14873565, -0.33748309,  1.82717896, ..., -0.01397608,\n",
       "        -0.5009203 , -0.27723314],\n",
       "       ...,\n",
       "       [ 0.97664678, -0.36785013, -0.92834265, ..., -0.01397608,\n",
       "        -0.51352702,  1.57702331],\n",
       "       [ 1.39060235, -0.4168148 ,  2.20278178, ..., -0.01397608,\n",
       "        -0.34134216, -0.36790665],\n",
       "       [ 0.14873565, -0.1664472 , -0.50158415, ..., -0.01397608,\n",
       "        -0.45594838, -0.19116658]])"
      ]
     },
     "metadata": {},
     "execution_count": 5
    }
   ],
   "source": [
    "# On va chercher à obtenir des groupes d'observations de caractéristiques proches afin de voir si l'on peut distinguer les clics des non-clics. \n",
    "sc = StandardScaler()\n",
    "Z = sc.fit_transform(df_clusters)\n",
    "Z"
   ]
  },
  {
   "cell_type": "code",
   "execution_count": 6,
   "metadata": {},
   "outputs": [
    {
     "output_type": "stream",
     "name": "stdout",
     "text": [
      "[-4.69520271e-17  2.48472492e-16 -5.90496082e-17 -2.12479762e-17\n -9.95337090e-18  1.23711223e-17  1.66154232e-17 -1.56712648e-17\n  9.90263342e-18  4.87962244e-18 -2.46683444e-18 -3.14228272e-16\n -1.21505246e-17]\n[1. 1. 1. 1. 1. 1. 1. 1. 1. 1. 1. 1. 1.]\n"
     ]
    }
   ],
   "source": [
    "# Vérification que les moyennes sont nulles et les écarts-types unitaires. \n",
    "print(np.mean(Z, axis=0))\n",
    "print(np.std(Z, axis=0, ddof=0))"
   ]
  },
  {
   "cell_type": "code",
   "execution_count": 11,
   "metadata": {},
   "outputs": [],
   "source": [
    "# On fixe une graine aléatoire pour avoir des résultats reproductibles\n",
    "GRAINE = 127725252"
   ]
  },
  {
   "cell_type": "code",
   "execution_count": 12,
   "metadata": {},
   "outputs": [
    {
     "output_type": "stream",
     "name": "stdout",
     "text": [
      "Nb clusters : 2 ; score silhouette : 0.8811.\n",
      "Nb clusters : 3 ; score silhouette : 0.1483.\n",
      "Nb clusters : 4 ; score silhouette : 0.2661.\n",
      "Nb clusters : 5 ; score silhouette : 0.1818.\n",
      "Nb clusters : 6 ; score silhouette : 0.2274.\n",
      "Nb clusters : 7 ; score silhouette : 0.2001.\n",
      "Nb clusters : 8 ; score silhouette : 0.2209.\n",
      "Nb clusters : 9 ; score silhouette : 0.2383.\n",
      "Nb clusters : 10 ; score silhouette : 0.2413.\n",
      "Wall time: 10min 54s\n"
     ]
    }
   ],
   "source": [
    "%%time\n",
    "# On va faire varier le nombre de clusters dans un intervalle réaliste, disons de 2 à 10.\n",
    "range_clusters = np.arange(2, 11)\n",
    "res = []\n",
    "for k in range_clusters:\n",
    "    kmeans = KMeans(n_clusters=k, random_state=GRAINE)\n",
    "    kmeans.fit(Z)\n",
    "    res.append(silhouette_score(Z, kmeans.labels_, n_jobs=-1, sample_size=25000, random_state=GRAINE))\n",
    "    print(f\"Nb clusters : {k} ; score silhouette : {res[-1]:.4f}.\")\n",
    "# print(res)"
   ]
  },
  {
   "cell_type": "code",
   "execution_count": 13,
   "metadata": {},
   "outputs": [
    {
     "output_type": "display_data",
     "data": {
      "text/plain": "<Figure size 576x288 with 1 Axes>",
      "image/png": "[encoded data removed]"
     },
     "metadata": {
      "needs_background": "light"
     }
    }
   ],
   "source": [
    "plt.figure(figsize=(8,4))\n",
    "plt.plot(range_clusters, res)\n",
    "plt.title(\"Coefficient de silhouette moyen en fonction du nombre de clusters\", size=16)\n",
    "plt.xlabel(\"Nombre de clusters\", size=10)\n",
    "plt.ylabel(\"Score de silhouette moyen\", size=10)\n",
    "plt.show()"
   ]
  },
  {
   "cell_type": "code",
   "execution_count": 14,
   "metadata": {},
   "outputs": [
    {
     "output_type": "stream",
     "name": "stdout",
     "text": [
      "         Observation  Cluster\n0             628907        0\n1            1002206        0\n2             110984        0\n3             518012        0\n4              19419        0\n5            1255889        0\n6            1336647        0\n7             855899        0\n8             179692        0\n9            1083992        0\n10           1606400        0\n11           1519851        0\n12           1122600        0\n13           1266207        0\n14            509816        0\n15            921110        0\n16            417910        0\n17            400871        0\n18            509813        0\n19            596558        0\n20           1110022        0\n21           1215186        0\n22           1098962        0\n23            210224        0\n24             71491        0\n25            233785        0\n26           1171603        0\n27            810876        0\n28             56763        0\n29            348987        0\n...              ...      ...\n1610464       537833        1\n1610465       537832        1\n1610466       537831        1\n1610467       537852        1\n1610468       538123        1\n1610469       537853        1\n1610470       537855        1\n1610471       537876        1\n1610472       537875        1\n1610473       537874        1\n1610474       537873        1\n1610475       537872        1\n1610476       537871        1\n1610477       537870        1\n1610478       537869        1\n1610479       537868        1\n1610480       537867        1\n1610481       537866        1\n1610482       537865        1\n1610483       537864        1\n1610484       537863        1\n1610485       537862        1\n1610486       537861        1\n1610487       537860        1\n1610488       537859        1\n1610489       537858        1\n1610490       537857        1\n1610491       537856        1\n1610492       537854        1\n1610493      1610493        1\n\n[1610494 rows x 2 columns]\nWall time: 14.6 s\n"
     ]
    }
   ],
   "source": [
    "%%time\n",
    "# On applique la méthode des k-means sur les variables centrées et réduites, pour 2 clusters d'après la figure précédente.\n",
    "kmeans = KMeans(n_clusters=2, random_state=GRAINE) \n",
    "# random_state est la graine aléatoire specifiée pour rendre les résultats reproductibles.\n",
    "kmeans.fit(Z)\n",
    "\n",
    "# On trie les index en fonction des différents groupes de députés (ie des clusters).\n",
    "idk = np.argsort(kmeans.labels_)\n",
    "\n",
    "# Affichage des observations et de leurs groupes.\n",
    "print(pd.DataFrame({\"Observation\" : df_clusters.index[idk], \"Cluster\" : kmeans.labels_[idk]}))"
   ]
  },
  {
   "cell_type": "code",
   "execution_count": 15,
   "metadata": {},
   "outputs": [
    {
     "output_type": "stream",
     "name": "stdout",
     "text": [
      "6055\n1604439\n"
     ]
    }
   ],
   "source": [
    "nb_clusters = kmeans.labels_.tolist()\n",
    "print(nb_clusters.count(0)) # Comptage du nombre d'observations dans le cluster 1.\n",
    "print(nb_clusters.count(1)) # Comptage du nombre d'observations dans le cluster 2."
   ]
  },
  {
   "cell_type": "markdown",
   "metadata": {},
   "source": [
    "Etudions les caractéristiques des observations dans chacun des clusters. "
   ]
  },
  {
   "cell_type": "code",
   "execution_count": 16,
   "metadata": {},
   "outputs": [],
   "source": [
    "A = pd.DataFrame({\"Observation\" : df_clusters.index[idk], \"Cluster\" : kmeans.labels_[idk]})\n",
    "L1 = [] # Liste qui contiendra les index des observations du cluster 1.\n",
    "L2 = [] # Liste qui contiendra les index des observations du cluster 2.\n",
    "for i in range(len(A)) :\n",
    "    if A['Cluster'][i] == 0 :\n",
    "        L1.append(A['Observation'][i])\n",
    "    if A['Cluster'][i] == 1 :\n",
    "        L2.append(A['Observation'][i])"
   ]
  },
  {
   "cell_type": "code",
   "execution_count": 17,
   "metadata": {},
   "outputs": [],
   "source": [
    "df_cluster_1 = df.loc[L1] # Sous-table avec les députés du cluster 1.\n",
    "df_cluster_2 = df.loc[L2] # Sous-table avec les députés du cluster 2."
   ]
  },
  {
   "cell_type": "code",
   "execution_count": 18,
   "metadata": {},
   "outputs": [
    {
     "output_type": "execute_result",
     "data": {
      "text/plain": [
       "(6055, 1604439)"
      ]
     },
     "metadata": {},
     "execution_count": 18
    }
   ],
   "source": [
    "len(L1), len(L2)"
   ]
  },
  {
   "cell_type": "markdown",
   "metadata": {},
   "source": [
    "On retrouve bien le nombre d'observations présentes dans chaque cluster. "
   ]
  },
  {
   "cell_type": "code",
   "execution_count": 19,
   "metadata": {},
   "outputs": [
    {
     "output_type": "display_data",
     "data": {
      "text/plain": "   Nb dans cluster 1  Prop dans cluster 1\n0               5607             0.926012\n1                448             0.073988",
      "text/html": "<div>\n<style scoped>\n    .dataframe tbody tr th:only-of-type {\n        vertical-align: middle;\n    }\n\n    .dataframe tbody tr th {\n        vertical-align: top;\n    }\n\n    .dataframe thead th {\n        text-align: right;\n    }\n</style>\n<table border=\"1\" class=\"dataframe\">\n  <thead>\n    <tr style=\"text-align: right;\">\n      <th></th>\n      <th>Nb dans cluster 1</th>\n      <th>Prop dans cluster 1</th>\n    </tr>\n  </thead>\n  <tbody>\n    <tr>\n      <th>0</th>\n      <td>5607</td>\n      <td>0.926012</td>\n    </tr>\n    <tr>\n      <th>1</th>\n      <td>448</td>\n      <td>0.073988</td>\n    </tr>\n  </tbody>\n</table>\n</div>"
     },
     "metadata": {}
    },
    {
     "output_type": "display_data",
     "data": {
      "text/plain": "   Nb dans cluster 2  Prop dans cluster 2\n0            1513135             0.943093\n1              91304             0.056907",
      "text/html": "<div>\n<style scoped>\n    .dataframe tbody tr th:only-of-type {\n        vertical-align: middle;\n    }\n\n    .dataframe tbody tr th {\n        vertical-align: top;\n    }\n\n    .dataframe thead th {\n        text-align: right;\n    }\n</style>\n<table border=\"1\" class=\"dataframe\">\n  <thead>\n    <tr style=\"text-align: right;\">\n      <th></th>\n      <th>Nb dans cluster 2</th>\n      <th>Prop dans cluster 2</th>\n    </tr>\n  </thead>\n  <tbody>\n    <tr>\n      <th>0</th>\n      <td>1513135</td>\n      <td>0.943093</td>\n    </tr>\n    <tr>\n      <th>1</th>\n      <td>91304</td>\n      <td>0.056907</td>\n    </tr>\n  </tbody>\n</table>\n</div>"
     },
     "metadata": {}
    }
   ],
   "source": [
    "# Répartition des clics et des non clics dans le cluster 1.\n",
    "display(pd.DataFrame({'Nb dans cluster 1' : df_cluster_1['is_display_clicked'].value_counts(), 'Prop dans cluster 1' : df_cluster_1['is_display_clicked'].value_counts(normalize=True)})) \n",
    "# Répartition des clics et des non clics dans le cluster 2.\n",
    "display(pd.DataFrame({'Nb dans cluster 2' : df_cluster_2['is_display_clicked'].value_counts(), 'Prop dans cluster 2' : df_cluster_2['is_display_clicked'].value_counts(normalize=True)})) "
   ]
  },
  {
   "cell_type": "code",
   "execution_count": 20,
   "metadata": {},
   "outputs": [
    {
     "output_type": "execute_result",
     "data": {
      "text/plain": [
       "         contextid   target_env    rtbtypeid  rtbadvisibility  \\\n",
       "count  6055.000000  6055.000000  6038.000000      6038.000000   \n",
       "mean      7.368951     1.137242    34.020205         0.738158   \n",
       "std       1.844722     0.344131    32.858236         0.794530   \n",
       "min       1.000000     1.000000     3.000000         0.000000   \n",
       "25%       6.000000     1.000000     4.000000         0.000000   \n",
       "50%       8.000000     1.000000    14.000000         1.000000   \n",
       "75%       9.000000     1.000000    73.000000         1.000000   \n",
       "max       9.000000     2.000000   134.000000         2.000000   \n",
       "\n",
       "       rtb_detectedlanguage      urlhash2      urlhash3      urlhash4  \\\n",
       "count           6038.000000  5.396000e+03  5.396000e+03  5.396000e+03   \n",
       "mean              69.220603  1.354934e+08 -8.991286e+07 -1.377201e+08   \n",
       "std              560.887527  1.259570e+09  1.138407e+09  1.156366e+09   \n",
       "min                1.000000 -2.140960e+09 -2.146561e+09 -2.146412e+09   \n",
       "25%               12.000000 -9.001059e+08 -1.001938e+09 -1.089605e+09   \n",
       "50%               16.000000  3.640997e+08 -6.162982e+07 -2.647673e+08   \n",
       "75%              127.000000  1.384186e+09  7.314411e+08  6.607425e+08   \n",
       "max            30724.000000  2.141561e+09  2.146829e+09  2.144924e+09   \n",
       "\n",
       "       googleviewability  googlepagevertical  ...  nbdayssincelastclick  \\\n",
       "count        1867.000000              6038.0  ...           6055.000000   \n",
       "mean           60.808249                -1.0  ...             21.862758   \n",
       "std            30.848273                 0.0  ...             30.757969   \n",
       "min            -1.000000                -1.0  ...              0.000000   \n",
       "25%            41.000000                -1.0  ...              3.000000   \n",
       "50%            68.000000                -1.0  ...              9.000000   \n",
       "75%            86.000000                -1.0  ...             29.000000   \n",
       "max            99.000000                -1.0  ...            416.000000   \n",
       "\n",
       "       nbdisplay_1hour  nbdisplaypartnerapprox_1d_sum_xdevice  \\\n",
       "count      6055.000000                            6055.000000   \n",
       "mean          7.045791                              25.158943   \n",
       "std          10.117579                              21.039521   \n",
       "min           0.000000                               0.000000   \n",
       "25%           0.000000                               6.900301   \n",
       "50%           3.000000                              21.345833   \n",
       "75%          10.000000                              41.000000   \n",
       "max          65.000000                             193.195278   \n",
       "\n",
       "       nbdisplayaffiliateapprox_1d_sum_xdevice  \\\n",
       "count                              6055.000000   \n",
       "mean                                 31.096006   \n",
       "std                                  65.537452   \n",
       "min                                   0.000000   \n",
       "25%                                   2.000000   \n",
       "50%                                  10.179676   \n",
       "75%                                  32.016319   \n",
       "max                                1341.353333   \n",
       "\n",
       "       nbdisplayglobalapprox_1d_sum_xdevice  valueperclick  \\\n",
       "count                           6055.000000    6055.000000   \n",
       "mean                              82.995013       0.306713   \n",
       "std                              100.569758       0.189205   \n",
       "min                                0.000000       0.034118   \n",
       "25%                               28.000000       0.138873   \n",
       "50%                               54.371852       0.245336   \n",
       "75%                               98.894306       0.512220   \n",
       "max                             1416.062778       0.790542   \n",
       "\n",
       "       is_display_clicked  zonecostineuro  display_size         hour  \n",
       "count         6055.000000     6055.000000  6.055000e+03  6055.000000  \n",
       "mean             0.073988        1.566815  8.838023e+04    13.637325  \n",
       "std              0.261774        3.773516  9.737390e+04     5.197925  \n",
       "min              0.000000        0.008475  0.000000e+00     0.000000  \n",
       "25%              0.000000        0.116908  1.600000e+04     9.000000  \n",
       "50%              0.000000        0.470166  7.500000e+04    14.000000  \n",
       "75%              0.000000        1.419523  1.536000e+05    18.000000  \n",
       "max              1.000000       84.459663  1.024000e+06    23.000000  \n",
       "\n",
       "[8 rows x 35 columns]"
      ],
      "text/html": "<div>\n<style scoped>\n    .dataframe tbody tr th:only-of-type {\n        vertical-align: middle;\n    }\n\n    .dataframe tbody tr th {\n        vertical-align: top;\n    }\n\n    .dataframe thead th {\n        text-align: right;\n    }\n</style>\n<table border=\"1\" class=\"dataframe\">\n  <thead>\n    <tr style=\"text-align: right;\">\n      <th></th>\n      <th>contextid</th>\n      <th>target_env</th>\n      <th>rtbtypeid</th>\n      <th>rtbadvisibility</th>\n      <th>rtb_detectedlanguage</th>\n      <th>urlhash2</th>\n      <th>urlhash3</th>\n      <th>urlhash4</th>\n      <th>googleviewability</th>\n      <th>googlepagevertical</th>\n      <th>...</th>\n      <th>nbdayssincelastclick</th>\n      <th>nbdisplay_1hour</th>\n      <th>nbdisplaypartnerapprox_1d_sum_xdevice</th>\n      <th>nbdisplayaffiliateapprox_1d_sum_xdevice</th>\n      <th>nbdisplayglobalapprox_1d_sum_xdevice</th>\n      <th>valueperclick</th>\n      <th>is_display_clicked</th>\n      <th>zonecostineuro</th>\n      <th>display_size</th>\n      <th>hour</th>\n    </tr>\n  </thead>\n  <tbody>\n    <tr>\n      <th>count</th>\n      <td>6055.000000</td>\n      <td>6055.000000</td>\n      <td>6038.000000</td>\n      <td>6038.000000</td>\n      <td>6038.000000</td>\n      <td>5.396000e+03</td>\n      <td>5.396000e+03</td>\n      <td>5.396000e+03</td>\n      <td>1867.000000</td>\n      <td>6038.0</td>\n      <td>...</td>\n      <td>6055.000000</td>\n      <td>6055.000000</td>\n      <td>6055.000000</td>\n      <td>6055.000000</td>\n      <td>6055.000000</td>\n      <td>6055.000000</td>\n      <td>6055.000000</td>\n      <td>6055.000000</td>\n      <td>6.055000e+03</td>\n      <td>6055.000000</td>\n    </tr>\n    <tr>\n      <th>mean</th>\n      <td>7.368951</td>\n      <td>1.137242</td>\n      <td>34.020205</td>\n      <td>0.738158</td>\n      <td>69.220603</td>\n      <td>1.354934e+08</td>\n      <td>-8.991286e+07</td>\n      <td>-1.377201e+08</td>\n      <td>60.808249</td>\n      <td>-1.0</td>\n      <td>...</td>\n      <td>21.862758</td>\n      <td>7.045791</td>\n      <td>25.158943</td>\n      <td>31.096006</td>\n      <td>82.995013</td>\n      <td>0.306713</td>\n      <td>0.073988</td>\n      <td>1.566815</td>\n      <td>8.838023e+04</td>\n      <td>13.637325</td>\n    </tr>\n    <tr>\n      <th>std</th>\n      <td>1.844722</td>\n      <td>0.344131</td>\n      <td>32.858236</td>\n      <td>0.794530</td>\n      <td>560.887527</td>\n      <td>1.259570e+09</td>\n      <td>1.138407e+09</td>\n      <td>1.156366e+09</td>\n      <td>30.848273</td>\n      <td>0.0</td>\n      <td>...</td>\n      <td>30.757969</td>\n      <td>10.117579</td>\n      <td>21.039521</td>\n      <td>65.537452</td>\n      <td>100.569758</td>\n      <td>0.189205</td>\n      <td>0.261774</td>\n      <td>3.773516</td>\n      <td>9.737390e+04</td>\n      <td>5.197925</td>\n    </tr>\n    <tr>\n      <th>min</th>\n      <td>1.000000</td>\n      <td>1.000000</td>\n      <td>3.000000</td>\n      <td>0.000000</td>\n      <td>1.000000</td>\n      <td>-2.140960e+09</td>\n      <td>-2.146561e+09</td>\n      <td>-2.146412e+09</td>\n      <td>-1.000000</td>\n      <td>-1.0</td>\n      <td>...</td>\n      <td>0.000000</td>\n      <td>0.000000</td>\n      <td>0.000000</td>\n      <td>0.000000</td>\n      <td>0.000000</td>\n      <td>0.034118</td>\n      <td>0.000000</td>\n      <td>0.008475</td>\n      <td>0.000000e+00</td>\n      <td>0.000000</td>\n    </tr>\n    <tr>\n      <th>25%</th>\n      <td>6.000000</td>\n      <td>1.000000</td>\n      <td>4.000000</td>\n      <td>0.000000</td>\n      <td>12.000000</td>\n      <td>-9.001059e+08</td>\n      <td>-1.001938e+09</td>\n      <td>-1.089605e+09</td>\n      <td>41.000000</td>\n      <td>-1.0</td>\n      <td>...</td>\n      <td>3.000000</td>\n      <td>0.000000</td>\n      <td>6.900301</td>\n      <td>2.000000</td>\n      <td>28.000000</td>\n      <td>0.138873</td>\n      <td>0.000000</td>\n      <td>0.116908</td>\n      <td>1.600000e+04</td>\n      <td>9.000000</td>\n    </tr>\n    <tr>\n      <th>50%</th>\n      <td>8.000000</td>\n      <td>1.000000</td>\n      <td>14.000000</td>\n      <td>1.000000</td>\n      <td>16.000000</td>\n      <td>3.640997e+08</td>\n      <td>-6.162982e+07</td>\n      <td>-2.647673e+08</td>\n      <td>68.000000</td>\n      <td>-1.0</td>\n      <td>...</td>\n      <td>9.000000</td>\n      <td>3.000000</td>\n      <td>21.345833</td>\n      <td>10.179676</td>\n      <td>54.371852</td>\n      <td>0.245336</td>\n      <td>0.000000</td>\n      <td>0.470166</td>\n      <td>7.500000e+04</td>\n      <td>14.000000</td>\n    </tr>\n    <tr>\n      <th>75%</th>\n      <td>9.000000</td>\n      <td>1.000000</td>\n      <td>73.000000</td>\n      <td>1.000000</td>\n      <td>127.000000</td>\n      <td>1.384186e+09</td>\n      <td>7.314411e+08</td>\n      <td>6.607425e+08</td>\n      <td>86.000000</td>\n      <td>-1.0</td>\n      <td>...</td>\n      <td>29.000000</td>\n      <td>10.000000</td>\n      <td>41.000000</td>\n      <td>32.016319</td>\n      <td>98.894306</td>\n      <td>0.512220</td>\n      <td>0.000000</td>\n      <td>1.419523</td>\n      <td>1.536000e+05</td>\n      <td>18.000000</td>\n    </tr>\n    <tr>\n      <th>max</th>\n      <td>9.000000</td>\n      <td>2.000000</td>\n      <td>134.000000</td>\n      <td>2.000000</td>\n      <td>30724.000000</td>\n      <td>2.141561e+09</td>\n      <td>2.146829e+09</td>\n      <td>2.144924e+09</td>\n      <td>99.000000</td>\n      <td>-1.0</td>\n      <td>...</td>\n      <td>416.000000</td>\n      <td>65.000000</td>\n      <td>193.195278</td>\n      <td>1341.353333</td>\n      <td>1416.062778</td>\n      <td>0.790542</td>\n      <td>1.000000</td>\n      <td>84.459663</td>\n      <td>1.024000e+06</td>\n      <td>23.000000</td>\n    </tr>\n  </tbody>\n</table>\n<p>8 rows × 35 columns</p>\n</div>"
     },
     "metadata": {},
     "execution_count": 20
    }
   ],
   "source": [
    "df_cluster_1.describe()"
   ]
  },
  {
   "cell_type": "code",
   "execution_count": 21,
   "metadata": {},
   "outputs": [
    {
     "output_type": "execute_result",
     "data": {
      "text/plain": [
       "          contextid    target_env     rtbtypeid  rtbadvisibility  \\\n",
       "count  1.604439e+06  1.604439e+06  1.597545e+06     1.597545e+06   \n",
       "mean   5.634174e+00  1.104855e+00  3.663098e+01     7.278662e-01   \n",
       "std    2.415278e+00  3.063662e-01  3.344792e+01     8.059933e-01   \n",
       "min    1.000000e+00  1.000000e+00  3.000000e+00     0.000000e+00   \n",
       "25%    5.000000e+00  1.000000e+00  4.000000e+00     0.000000e+00   \n",
       "50%    6.000000e+00  1.000000e+00  2.900000e+01     1.000000e+00   \n",
       "75%    7.000000e+00  1.000000e+00  7.300000e+01     1.000000e+00   \n",
       "max    9.000000e+00  2.000000e+00  1.340000e+02     2.000000e+00   \n",
       "\n",
       "       rtb_detectedlanguage      urlhash2      urlhash3      urlhash4  \\\n",
       "count          1.597545e+06  1.454150e+06  1.454150e+06  1.454150e+06   \n",
       "mean           9.465117e+01  9.932449e+07 -8.752985e+07 -1.201339e+08   \n",
       "std            9.919589e+02  1.254867e+09  1.153435e+09  1.171172e+09   \n",
       "min           -1.000000e+00 -2.147479e+09 -2.147454e+09 -2.147479e+09   \n",
       "25%            1.200000e+01 -9.531958e+08 -1.033737e+09 -1.044180e+09   \n",
       "50%            1.600000e+01  2.603107e+08 -6.162982e+07 -3.225585e+08   \n",
       "75%            1.270000e+02  1.384186e+09  7.889378e+08  7.657979e+08   \n",
       "max            3.177000e+04  2.147366e+09  2.147451e+09  2.147451e+09   \n",
       "\n",
       "       googleviewability  googlepagevertical  ...  nbdayssincelastclick  \\\n",
       "count      499790.000000           1597545.0  ...          1.604439e+06   \n",
       "mean           59.246774                -1.0  ...          2.039500e+01   \n",
       "std            31.070979                 0.0  ...          4.551058e+01   \n",
       "min            -1.000000                -1.0  ...          0.000000e+00   \n",
       "25%            36.000000                -1.0  ...          0.000000e+00   \n",
       "50%            66.000000                -1.0  ...          1.000000e+00   \n",
       "75%            85.000000                -1.0  ...          1.700000e+01   \n",
       "max           100.000000                -1.0  ...          1.062000e+03   \n",
       "\n",
       "       nbdisplay_1hour  nbdisplaypartnerapprox_1d_sum_xdevice  \\\n",
       "count     1.604439e+06                           1.604439e+06   \n",
       "mean      4.898621e+00                           1.437697e+01   \n",
       "std       8.463495e+00                           1.733520e+01   \n",
       "min       0.000000e+00                           0.000000e+00   \n",
       "25%       0.000000e+00                           1.584028e+00   \n",
       "50%       1.000000e+00                           7.000000e+00   \n",
       "75%       6.000000e+00                           2.150988e+01   \n",
       "max       1.610000e+02                           4.602779e+02   \n",
       "\n",
       "       nbdisplayaffiliateapprox_1d_sum_xdevice  \\\n",
       "count                             1.604439e+06   \n",
       "mean                              1.778541e+01   \n",
       "std                               4.213287e+01   \n",
       "min                               0.000000e+00   \n",
       "25%                               2.393981e-01   \n",
       "50%                               4.000000e+00   \n",
       "75%                               1.677037e+01   \n",
       "max                               2.269557e+03   \n",
       "\n",
       "       nbdisplayglobalapprox_1d_sum_xdevice  valueperclick  \\\n",
       "count                          1.604439e+06   1.604439e+06   \n",
       "mean                           4.426994e+01   2.619073e-01   \n",
       "std                            6.650557e+01   1.857042e-01   \n",
       "min                            0.000000e+00   3.411759e-02   \n",
       "25%                            8.000000e+00   1.142579e-01   \n",
       "50%                            2.300000e+01   1.889853e-01   \n",
       "75%                            5.445285e+01   5.000993e-01   \n",
       "max                            3.953889e+03   7.905422e-01   \n",
       "\n",
       "       is_display_clicked  zonecostineuro  display_size          hour  \n",
       "count        1.604439e+06    1.604439e+06  1.604439e+06  1.604439e+06  \n",
       "mean         5.690712e-02    1.109746e+00  8.250886e+04  1.388084e+01  \n",
       "std          2.316651e-01    2.963097e+00  9.718140e+04  5.137991e+00  \n",
       "min          0.000000e+00    0.000000e+00  0.000000e+00  0.000000e+00  \n",
       "25%          0.000000e+00    7.100000e-02  4.000000e+00  1.000000e+01  \n",
       "50%          0.000000e+00    3.090000e-01  7.500000e+04  1.400000e+01  \n",
       "75%          0.000000e+00    9.600000e-01  1.080000e+05  1.800000e+01  \n",
       "max          1.000000e+00    1.000000e+02  1.101600e+06  2.300000e+01  \n",
       "\n",
       "[8 rows x 35 columns]"
      ],
      "text/html": "<div>\n<style scoped>\n    .dataframe tbody tr th:only-of-type {\n        vertical-align: middle;\n    }\n\n    .dataframe tbody tr th {\n        vertical-align: top;\n    }\n\n    .dataframe thead th {\n        text-align: right;\n    }\n</style>\n<table border=\"1\" class=\"dataframe\">\n  <thead>\n    <tr style=\"text-align: right;\">\n      <th></th>\n      <th>contextid</th>\n      <th>target_env</th>\n      <th>rtbtypeid</th>\n      <th>rtbadvisibility</th>\n      <th>rtb_detectedlanguage</th>\n      <th>urlhash2</th>\n      <th>urlhash3</th>\n      <th>urlhash4</th>\n      <th>googleviewability</th>\n      <th>googlepagevertical</th>\n      <th>...</th>\n      <th>nbdayssincelastclick</th>\n      <th>nbdisplay_1hour</th>\n      <th>nbdisplaypartnerapprox_1d_sum_xdevice</th>\n      <th>nbdisplayaffiliateapprox_1d_sum_xdevice</th>\n      <th>nbdisplayglobalapprox_1d_sum_xdevice</th>\n      <th>valueperclick</th>\n      <th>is_display_clicked</th>\n      <th>zonecostineuro</th>\n      <th>display_size</th>\n      <th>hour</th>\n    </tr>\n  </thead>\n  <tbody>\n    <tr>\n      <th>count</th>\n      <td>1.604439e+06</td>\n      <td>1.604439e+06</td>\n      <td>1.597545e+06</td>\n      <td>1.597545e+06</td>\n      <td>1.597545e+06</td>\n      <td>1.454150e+06</td>\n      <td>1.454150e+06</td>\n      <td>1.454150e+06</td>\n      <td>499790.000000</td>\n      <td>1597545.0</td>\n      <td>...</td>\n      <td>1.604439e+06</td>\n      <td>1.604439e+06</td>\n      <td>1.604439e+06</td>\n      <td>1.604439e+06</td>\n      <td>1.604439e+06</td>\n      <td>1.604439e+06</td>\n      <td>1.604439e+06</td>\n      <td>1.604439e+06</td>\n      <td>1.604439e+06</td>\n      <td>1.604439e+06</td>\n    </tr>\n    <tr>\n      <th>mean</th>\n      <td>5.634174e+00</td>\n      <td>1.104855e+00</td>\n      <td>3.663098e+01</td>\n      <td>7.278662e-01</td>\n      <td>9.465117e+01</td>\n      <td>9.932449e+07</td>\n      <td>-8.752985e+07</td>\n      <td>-1.201339e+08</td>\n      <td>59.246774</td>\n      <td>-1.0</td>\n      <td>...</td>\n      <td>2.039500e+01</td>\n      <td>4.898621e+00</td>\n      <td>1.437697e+01</td>\n      <td>1.778541e+01</td>\n      <td>4.426994e+01</td>\n      <td>2.619073e-01</td>\n      <td>5.690712e-02</td>\n      <td>1.109746e+00</td>\n      <td>8.250886e+04</td>\n      <td>1.388084e+01</td>\n    </tr>\n    <tr>\n      <th>std</th>\n      <td>2.415278e+00</td>\n      <td>3.063662e-01</td>\n      <td>3.344792e+01</td>\n      <td>8.059933e-01</td>\n      <td>9.919589e+02</td>\n      <td>1.254867e+09</td>\n      <td>1.153435e+09</td>\n      <td>1.171172e+09</td>\n      <td>31.070979</td>\n      <td>0.0</td>\n      <td>...</td>\n      <td>4.551058e+01</td>\n      <td>8.463495e+00</td>\n      <td>1.733520e+01</td>\n      <td>4.213287e+01</td>\n      <td>6.650557e+01</td>\n      <td>1.857042e-01</td>\n      <td>2.316651e-01</td>\n      <td>2.963097e+00</td>\n      <td>9.718140e+04</td>\n      <td>5.137991e+00</td>\n    </tr>\n    <tr>\n      <th>min</th>\n      <td>1.000000e+00</td>\n      <td>1.000000e+00</td>\n      <td>3.000000e+00</td>\n      <td>0.000000e+00</td>\n      <td>-1.000000e+00</td>\n      <td>-2.147479e+09</td>\n      <td>-2.147454e+09</td>\n      <td>-2.147479e+09</td>\n      <td>-1.000000</td>\n      <td>-1.0</td>\n      <td>...</td>\n      <td>0.000000e+00</td>\n      <td>0.000000e+00</td>\n      <td>0.000000e+00</td>\n      <td>0.000000e+00</td>\n      <td>0.000000e+00</td>\n      <td>3.411759e-02</td>\n      <td>0.000000e+00</td>\n      <td>0.000000e+00</td>\n      <td>0.000000e+00</td>\n      <td>0.000000e+00</td>\n    </tr>\n    <tr>\n      <th>25%</th>\n      <td>5.000000e+00</td>\n      <td>1.000000e+00</td>\n      <td>4.000000e+00</td>\n      <td>0.000000e+00</td>\n      <td>1.200000e+01</td>\n      <td>-9.531958e+08</td>\n      <td>-1.033737e+09</td>\n      <td>-1.044180e+09</td>\n      <td>36.000000</td>\n      <td>-1.0</td>\n      <td>...</td>\n      <td>0.000000e+00</td>\n      <td>0.000000e+00</td>\n      <td>1.584028e+00</td>\n      <td>2.393981e-01</td>\n      <td>8.000000e+00</td>\n      <td>1.142579e-01</td>\n      <td>0.000000e+00</td>\n      <td>7.100000e-02</td>\n      <td>4.000000e+00</td>\n      <td>1.000000e+01</td>\n    </tr>\n    <tr>\n      <th>50%</th>\n      <td>6.000000e+00</td>\n      <td>1.000000e+00</td>\n      <td>2.900000e+01</td>\n      <td>1.000000e+00</td>\n      <td>1.600000e+01</td>\n      <td>2.603107e+08</td>\n      <td>-6.162982e+07</td>\n      <td>-3.225585e+08</td>\n      <td>66.000000</td>\n      <td>-1.0</td>\n      <td>...</td>\n      <td>1.000000e+00</td>\n      <td>1.000000e+00</td>\n      <td>7.000000e+00</td>\n      <td>4.000000e+00</td>\n      <td>2.300000e+01</td>\n      <td>1.889853e-01</td>\n      <td>0.000000e+00</td>\n      <td>3.090000e-01</td>\n      <td>7.500000e+04</td>\n      <td>1.400000e+01</td>\n    </tr>\n    <tr>\n      <th>75%</th>\n      <td>7.000000e+00</td>\n      <td>1.000000e+00</td>\n      <td>7.300000e+01</td>\n      <td>1.000000e+00</td>\n      <td>1.270000e+02</td>\n      <td>1.384186e+09</td>\n      <td>7.889378e+08</td>\n      <td>7.657979e+08</td>\n      <td>85.000000</td>\n      <td>-1.0</td>\n      <td>...</td>\n      <td>1.700000e+01</td>\n      <td>6.000000e+00</td>\n      <td>2.150988e+01</td>\n      <td>1.677037e+01</td>\n      <td>5.445285e+01</td>\n      <td>5.000993e-01</td>\n      <td>0.000000e+00</td>\n      <td>9.600000e-01</td>\n      <td>1.080000e+05</td>\n      <td>1.800000e+01</td>\n    </tr>\n    <tr>\n      <th>max</th>\n      <td>9.000000e+00</td>\n      <td>2.000000e+00</td>\n      <td>1.340000e+02</td>\n      <td>2.000000e+00</td>\n      <td>3.177000e+04</td>\n      <td>2.147366e+09</td>\n      <td>2.147451e+09</td>\n      <td>2.147451e+09</td>\n      <td>100.000000</td>\n      <td>-1.0</td>\n      <td>...</td>\n      <td>1.062000e+03</td>\n      <td>1.610000e+02</td>\n      <td>4.602779e+02</td>\n      <td>2.269557e+03</td>\n      <td>3.953889e+03</td>\n      <td>7.905422e-01</td>\n      <td>1.000000e+00</td>\n      <td>1.000000e+02</td>\n      <td>1.101600e+06</td>\n      <td>2.300000e+01</td>\n    </tr>\n  </tbody>\n</table>\n<p>8 rows × 35 columns</p>\n</div>"
     },
     "metadata": {},
     "execution_count": 21
    }
   ],
   "source": [
    "df_cluster_2.describe()"
   ]
  },
  {
   "source": [
    "On réessaye avec cette fois-ci 4 clusters."
   ],
   "cell_type": "markdown",
   "metadata": {}
  },
  {
   "cell_type": "code",
   "execution_count": 22,
   "metadata": {},
   "outputs": [
    {
     "output_type": "stream",
     "name": "stdout",
     "text": [
      "         Observation  Cluster\n0             360270        0\n1            1441159        0\n2             163248        0\n3            1253291        0\n4             163254        0\n5             922975        0\n6            1069618        0\n7            1441144        0\n8             344721        0\n9             922986        0\n10            344717        0\n11            663506        0\n12           1441132        0\n13            663505        0\n14            163273        0\n15            922991        0\n16           1253309        0\n17            521879        0\n18           1069603        0\n19           1253313        0\n20            163282        0\n21           1441115        0\n22           1253286        0\n23           1441167        0\n24            344737        0\n25           1069631        0\n26           1441200        0\n27           1253269        0\n28            163210        0\n29            163211        0\n...              ...      ...\n1610464      1353772        3\n1610465       611720        3\n1610466      1353769        3\n1610467      1353761        3\n1610468       611701        3\n1610469       976870        3\n1610470       611697        3\n1610471       976875        3\n1610472       976876        3\n1610473       247631        3\n1610474       611731        3\n1610475      1353794        3\n1610476      1353795        3\n1610477       976817        3\n1610478      1353824        3\n1610479       247577        3\n1610480       247579        3\n1610481      1353817        3\n1610482       976825        3\n1610483       611744        3\n1610484       247589        3\n1610485      1353808        3\n1610486      1353805        3\n1610487       247596        3\n1610488       611738        3\n1610489       976834        3\n1610490       611734        3\n1610491       611732        3\n1610492       976879        3\n1610493       790929        3\n\n[1610494 rows x 2 columns]\nWall time: 26.1 s\n"
     ]
    }
   ],
   "source": [
    "%%time\n",
    "\n",
    "kmeans1 = KMeans(n_clusters=4, random_state=GRAINE) \n",
    "kmeans1.fit(Z)\n",
    "idk1 = np.argsort(kmeans1.labels_)\n",
    "print(pd.DataFrame({\"Observation\" : df_clusters.index[idk1], \"Cluster\" : kmeans1.labels_[idk1]}))"
   ]
  },
  {
   "cell_type": "code",
   "execution_count": 23,
   "metadata": {},
   "outputs": [
    {
     "output_type": "stream",
     "name": "stdout",
     "text": [
      "173642\n",
      "1213295\n",
      "6018\n",
      "217539\n"
     ]
    }
   ],
   "source": [
    "nb_clusters1 = kmeans1.labels_.tolist()\n",
    "print(nb_clusters1.count(0)) \n",
    "print(nb_clusters1.count(1)) \n",
    "print(nb_clusters1.count(2))\n",
    "print(nb_clusters1.count(3))"
   ]
  },
  {
   "cell_type": "code",
   "execution_count": 24,
   "metadata": {},
   "outputs": [],
   "source": [
    "B = pd.DataFrame({\"Observation\" : df_clusters.index[idk1], \"Cluster\" : kmeans1.labels_[idk1]})\n",
    "T1 = [] \n",
    "T2 = [] \n",
    "T3 = []\n",
    "T4 = []\n",
    "for i in range(len(A)) :\n",
    "    if B['Cluster'][i] == 0 :\n",
    "        T1.append(B['Observation'][i])\n",
    "    if B['Cluster'][i] == 1 :\n",
    "        T2.append(B['Observation'][i])\n",
    "    if B['Cluster'][i] == 2 :\n",
    "        T3.append(B['Observation'][i])\n",
    "    if B['Cluster'][i] == 3 :\n",
    "        T4.append(B['Observation'][i])"
   ]
  },
  {
   "cell_type": "code",
   "execution_count": 25,
   "metadata": {},
   "outputs": [],
   "source": [
    "df_clusters_1 = df.loc[T1] # Sous-table avec les députés du cluster 1.\n",
    "df_clusters_2 = df.loc[T2]\n",
    "df_clusters_3 = df.loc[T3]\n",
    "df_clusters_4 = df.loc[T4]"
   ]
  },
  {
   "cell_type": "code",
   "execution_count": 26,
   "metadata": {},
   "outputs": [
    {
     "output_type": "execute_result",
     "data": {
      "text/plain": [
       "(173642, 1213295, 6018, 217539)"
      ]
     },
     "metadata": {},
     "execution_count": 26
    }
   ],
   "source": [
    "len(T1), len(T2), len(T3), len(T4)"
   ]
  },
  {
   "cell_type": "code",
   "execution_count": 27,
   "metadata": {},
   "outputs": [
    {
     "output_type": "display_data",
     "data": {
      "text/plain": "   Nb dans cluster 1  Prop dans cluster 1\n0             166912             0.961242\n1               6730             0.038758",
      "text/html": "<div>\n<style scoped>\n    .dataframe tbody tr th:only-of-type {\n        vertical-align: middle;\n    }\n\n    .dataframe tbody tr th {\n        vertical-align: top;\n    }\n\n    .dataframe thead th {\n        text-align: right;\n    }\n</style>\n<table border=\"1\" class=\"dataframe\">\n  <thead>\n    <tr style=\"text-align: right;\">\n      <th></th>\n      <th>Nb dans cluster 1</th>\n      <th>Prop dans cluster 1</th>\n    </tr>\n  </thead>\n  <tbody>\n    <tr>\n      <th>0</th>\n      <td>166912</td>\n      <td>0.961242</td>\n    </tr>\n    <tr>\n      <th>1</th>\n      <td>6730</td>\n      <td>0.038758</td>\n    </tr>\n  </tbody>\n</table>\n</div>"
     },
     "metadata": {}
    },
    {
     "output_type": "display_data",
     "data": {
      "text/plain": "   Nb dans cluster 2  Prop dans cluster 2\n0            1136065             0.936347\n1              77230             0.063653",
      "text/html": "<div>\n<style scoped>\n    .dataframe tbody tr th:only-of-type {\n        vertical-align: middle;\n    }\n\n    .dataframe tbody tr th {\n        vertical-align: top;\n    }\n\n    .dataframe thead th {\n        text-align: right;\n    }\n</style>\n<table border=\"1\" class=\"dataframe\">\n  <thead>\n    <tr style=\"text-align: right;\">\n      <th></th>\n      <th>Nb dans cluster 2</th>\n      <th>Prop dans cluster 2</th>\n    </tr>\n  </thead>\n  <tbody>\n    <tr>\n      <th>0</th>\n      <td>1136065</td>\n      <td>0.936347</td>\n    </tr>\n    <tr>\n      <th>1</th>\n      <td>77230</td>\n      <td>0.063653</td>\n    </tr>\n  </tbody>\n</table>\n</div>"
     },
     "metadata": {}
    },
    {
     "output_type": "display_data",
     "data": {
      "text/plain": "   Nb dans cluster 1  Prop dans cluster 1\n0               5573             0.926055\n1                445             0.073945",
      "text/html": "<div>\n<style scoped>\n    .dataframe tbody tr th:only-of-type {\n        vertical-align: middle;\n    }\n\n    .dataframe tbody tr th {\n        vertical-align: top;\n    }\n\n    .dataframe thead th {\n        text-align: right;\n    }\n</style>\n<table border=\"1\" class=\"dataframe\">\n  <thead>\n    <tr style=\"text-align: right;\">\n      <th></th>\n      <th>Nb dans cluster 1</th>\n      <th>Prop dans cluster 1</th>\n    </tr>\n  </thead>\n  <tbody>\n    <tr>\n      <th>0</th>\n      <td>5573</td>\n      <td>0.926055</td>\n    </tr>\n    <tr>\n      <th>1</th>\n      <td>445</td>\n      <td>0.073945</td>\n    </tr>\n  </tbody>\n</table>\n</div>"
     },
     "metadata": {}
    },
    {
     "output_type": "display_data",
     "data": {
      "text/plain": "   Nb dans cluster 2  Prop dans cluster 2\n0             210192             0.966227\n1               7347             0.033773",
      "text/html": "<div>\n<style scoped>\n    .dataframe tbody tr th:only-of-type {\n        vertical-align: middle;\n    }\n\n    .dataframe tbody tr th {\n        vertical-align: top;\n    }\n\n    .dataframe thead th {\n        text-align: right;\n    }\n</style>\n<table border=\"1\" class=\"dataframe\">\n  <thead>\n    <tr style=\"text-align: right;\">\n      <th></th>\n      <th>Nb dans cluster 2</th>\n      <th>Prop dans cluster 2</th>\n    </tr>\n  </thead>\n  <tbody>\n    <tr>\n      <th>0</th>\n      <td>210192</td>\n      <td>0.966227</td>\n    </tr>\n    <tr>\n      <th>1</th>\n      <td>7347</td>\n      <td>0.033773</td>\n    </tr>\n  </tbody>\n</table>\n</div>"
     },
     "metadata": {}
    }
   ],
   "source": [
    "# Répartition des clics et des non clics dans le cluster 1.\n",
    "display(pd.DataFrame({'Nb dans cluster 1' : df_clusters_1['is_display_clicked'].value_counts(), 'Prop dans cluster 1' : df_clusters_1['is_display_clicked'].value_counts(normalize=True)})) \n",
    "# Répartition des clics et des non clics dans le cluster 2.\n",
    "display(pd.DataFrame({'Nb dans cluster 2' : df_clusters_2['is_display_clicked'].value_counts(), 'Prop dans cluster 2' : df_clusters_2['is_display_clicked'].value_counts(normalize=True)})) \n",
    "# Répartition des clics et des non clics dans le cluster 3.\n",
    "display(pd.DataFrame({'Nb dans cluster 1' : df_clusters_3['is_display_clicked'].value_counts(), 'Prop dans cluster 1' : df_clusters_3['is_display_clicked'].value_counts(normalize=True)})) \n",
    "# Répartition des clics et des non clics dans le cluster 4.\n",
    "display(pd.DataFrame({'Nb dans cluster 2' : df_clusters_4['is_display_clicked'].value_counts(), 'Prop dans cluster 2' : df_clusters_4['is_display_clicked'].value_counts(normalize=True)}))"
   ]
  },
  {
   "cell_type": "code",
   "execution_count": 23,
   "metadata": {},
   "outputs": [
    {
     "name": "stdout",
     "output_type": "stream",
     "text": [
      "Temps d'exécution total : 00:08:10\n"
     ]
    }
   ],
   "source": [
    "print(f\"Temps d'exécution total : {time.strftime('%H:%M:%S', time.gmtime(time.time()-t))}\")"
   ]
  }
 ],
 "metadata": {
  "kernelspec": {
   "display_name": "Python 3",
   "language": "python",
   "name": "python3"
  },
  "language_info": {
   "codemirror_mode": {
    "name": "ipython",
    "version": 3
   },
   "file_extension": ".py",
   "mimetype": "text/x-python",
   "name": "python",
   "nbconvert_exporter": "python",
   "pygments_lexer": "ipython3",
   "version": "3.7.3-final"
  }
 },
 "nbformat": 4,
 "nbformat_minor": 4
}